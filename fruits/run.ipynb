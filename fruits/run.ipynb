{
 "cells": [
  {
   "cell_type": "code",
   "execution_count": 1,
   "id": "09e68aaa-4b3b-46f8-a9bb-df16e1bd6e7a",
   "metadata": {
    "ExecuteTime": {
     "end_time": "2023-08-17T16:38:38.639058307Z",
     "start_time": "2023-08-17T16:38:37.070252532Z"
    }
   },
   "outputs": [],
   "source": [
    "from torch.utils.data import Dataset, random_split\n",
    "import os \n",
    "from os.path import join \n",
    "from PIL import Image\n",
    "from tqdm import tqdm \n",
    "import torch \n",
    "\n",
    "device = \"cuda:0\"\n",
    "root = \"/home/ki/datasets/\"\n",
    "\n",
    "from detector import label_to_name, color_to_name\n",
    "\n",
    "class FruitDataset(Dataset):\n",
    "    \"\"\"\n",
    "    \n",
    "    \"\"\"\n",
    "\n",
    "    class_color_map = {\n",
    "        \"Apple Braeburn\": \"red\",\n",
    "        \"Apple Granny Smith\": \"green\",\n",
    "        \"Apricot\": \"orange\",\n",
    "        \"Avocado\": \"green\",\n",
    "        \"Banana\": \"yellow\",\n",
    "        \"Blueberry\": \"black\",\n",
    "        \"Cactus fruit\": \"green\",\n",
    "        \"Cantaloupe\": \"yellow\",\n",
    "        \"Cherry\": \"red\",\n",
    "        \"Clementine\": \"orange\",\n",
    "        \"Corn\": \"yellow\",\n",
    "        \"Cucumber Ripe\": \"brown\",\n",
    "        \"Grape Blue\": \"black\",\n",
    "        \"Kiwi\": \"brown\",\n",
    "        \"Lemon\": \"yellow\",\n",
    "        \"Limes\": \"green\",\n",
    "        \"Mango\": \"green\",\n",
    "        \"Onion White\": \"brown\",\n",
    "        \"Orange\": \"orange\",\n",
    "        \"Papaya\": \"green\",\n",
    "        \"Passion Fruit\": \"black\",\n",
    "        \"Peach\": \"orange\",\n",
    "        \"Pear\": \"green\", # ??\n",
    "        \"Pepper Green\": \"green\",\n",
    "        \"Pepper Red\": \"red\",\n",
    "        \"Pineapple\": \"brown\",\n",
    "        \"Plum\": \"red\",\n",
    "        \"Pomegranate\": \"red\",\n",
    "        \"Potato Red\": \"brown\",\n",
    "        \"Raspberry\": \"red\",\n",
    "        \"Strawberry\": \"red\",\n",
    "        \"Tomato\": \"red\",\n",
    "        \"Watermelon\": \"red\" \n",
    "    }\n",
    "    \n",
    "    def __init__(self, root=\"train\", transform=None, target_transform=None):\n",
    "        root = join(root, \"fruits\", \"train\", \"train\")\n",
    "\n",
    "        self.classes = os.listdir(root)\n",
    "        self.files = []\n",
    "        self.labels = []\n",
    "        self.colors = []\n",
    "        \n",
    "        self.transform = transform\n",
    "        self.target_transform = target_transform \n",
    "        \n",
    "        for c in self.classes:\n",
    "            fs = [join(root, c, f) for f in os.listdir(join(root, c))]\n",
    "            self.files += fs\n",
    "            self.labels += [c.lower().replace(\" \", \"_\")] * len(fs)\n",
    "            self.colors += [self.class_color_map[c]] * len(fs)\n",
    "\n",
    "        self.class_map = {c: n for n, c in enumerate(label_to_name)}\n",
    "        self.color_map = {c: n for n, c in enumerate(color_to_name)}\n",
    "        \n",
    "    def __len__(self):\n",
    "        return len(self.files)\n",
    "\n",
    "    def __getitem__(self, index):\n",
    "        img = self.files[index]\n",
    "        y = self.class_map[self.labels[index]]\n",
    "        color = self.color_map[self.colors[index]]\n",
    "        \n",
    "        img = Image.open(img)\n",
    "\n",
    "        if self.transform is not None:\n",
    "            img = self.transform(img)\n",
    "\n",
    "        y = torch.tensor([y, color]) \n",
    "        if self.target_transform is not None:\n",
    "            y = self.target_transform(y)\n",
    "        \n",
    "        return img, y \n"
   ]
  },
  {
   "cell_type": "code",
   "execution_count": 2,
   "id": "20c8d208-b5cc-40cd-95d1-984635599b8b",
   "metadata": {
    "ExecuteTime": {
     "end_time": "2023-08-17T16:38:38.675966395Z",
     "start_time": "2023-08-17T16:38:38.641695276Z"
    }
   },
   "outputs": [],
   "source": [
    "ds = FruitDataset(root=root)"
   ]
  },
  {
   "cell_type": "code",
   "execution_count": 3,
   "id": "20e713eb-873e-4c92-b9a5-6d5d3a069707",
   "metadata": {
    "ExecuteTime": {
     "end_time": "2023-08-17T16:38:38.713966706Z",
     "start_time": "2023-08-17T16:38:38.706911327Z"
    }
   },
   "outputs": [],
   "source": [
    "from pytorch_ood.utils import ToRGB\n",
    "from torchvision.transforms import ToTensor, Resize, Compose\n",
    "import torch \n",
    "from torch.utils.data import DataLoader\n",
    "import numpy as np\n",
    "\n",
    "\n",
    "trans = Compose([ToRGB(), ToTensor(), Resize((32, 32), antialias=True)])\n",
    "\n",
    "data = FruitDataset(root=root, transform=trans)\n",
    "train_data, test_data = random_split(data, [14000,2854], generator=torch.Generator().manual_seed(0))\n",
    "\n",
    "train_loader = DataLoader(train_data, batch_size=32, shuffle=True, num_workers=2)\n",
    "test_loader = DataLoader(test_data, batch_size=32, shuffle=False, num_workers=2)"
   ]
  },
  {
   "cell_type": "code",
   "execution_count": 4,
   "id": "81f40b8b-621b-47cd-bf1a-2ad43081edf8",
   "metadata": {
    "ExecuteTime": {
     "end_time": "2023-08-17T16:38:38.714140948Z",
     "start_time": "2023-08-17T16:38:38.707000305Z"
    }
   },
   "outputs": [],
   "source": [
    "from torch import nn\n",
    "from pytorch_ood.model import WideResNet\n",
    "\n",
    "# def override \n",
    "def Model(num_classes=None, *args, **kwargs):\n",
    "    model = WideResNet(*args, num_classes=1000, pretrained=\"imagenet32\", **kwargs)\n",
    "    model.fc = nn.Linear(model.fc.in_features, num_classes)\n",
    "    return model"
   ]
  },
  {
   "cell_type": "code",
   "execution_count": 5,
   "id": "bd36c49f-3254-4808-a751-1c79b5c0d4a3",
   "metadata": {
    "ExecuteTime": {
     "end_time": "2023-08-17T16:38:38.714202835Z",
     "start_time": "2023-08-17T16:38:38.707034038Z"
    }
   },
   "outputs": [],
   "source": [
    "from torch.optim import SGD\n",
    "\n",
    "\n",
    "def train_model(att_index, num_classes):\n",
    "    \"\"\"\n",
    "    train a model for the given attribute index \n",
    "    \"\"\"\n",
    "    model = Model(num_classes=num_classes).to(device)\n",
    "\n",
    "    criterion = nn.CrossEntropyLoss()\n",
    "    optimizer = SGD(model.parameters(), lr=0.001, momentum=0.9, nesterov=True)\n",
    "\n",
    "    for epoch in range(5):\n",
    "        running_loss = 0.0\n",
    "        model.train()\n",
    "        bar = tqdm(train_loader)\n",
    "        for inputs, y in bar:\n",
    "            labels = y[:, att_index]\n",
    "            inputs, labels = inputs.to(device), labels.to(device)\n",
    "\n",
    "            optimizer.zero_grad()\n",
    "            outputs = model(inputs)\n",
    "            loss = criterion(outputs, labels)\n",
    "            loss.backward()\n",
    "            optimizer.step()\n",
    "\n",
    "            running_loss = 0.8 * running_loss + 0.2 * loss.item()\n",
    "            bar.set_postfix({\"loss\": running_loss})\n",
    "\n",
    "        correct = 0\n",
    "        total = 0\n",
    "\n",
    "        with torch.no_grad():\n",
    "            model.eval()\n",
    "\n",
    "            for inputs, y in test_loader:\n",
    "                labels = y[:, att_index]\n",
    "                inputs, labels = inputs.to(device), labels.to(device)\n",
    "\n",
    "                outputs = model(inputs)\n",
    "                _, predicted = torch.max(outputs.data, dim=1)\n",
    "                total += labels.size(0)\n",
    "                correct += (predicted == labels).sum().item()\n",
    "\n",
    "        print(f'Accuracy of the network on the test images: {correct / total:.2%}')\n",
    "\n",
    "    return model"
   ]
  },
  {
   "cell_type": "code",
   "execution_count": 6,
   "outputs": [],
   "source": [
    "from pytorch_ood.dataset.img import TinyImages300k\n",
    "from pytorch_ood.utils import is_known\n",
    "\n",
    "def train_fruit_model():\n",
    "    tiny = TinyImages300k(root=root, download=True, transform=trans, target_transform=ToUnknown())\n",
    "    data_train_out, data_test_out, _ = random_split(tiny, [50000, 10000, 240000], generator=torch.Generator().manual_seed(123))\n",
    "\n",
    "    data_noatt = FruitDataset(root=root, transform=trans, target_transform=lambda y: int(y[0]))\n",
    "    train_data_noatt, test_data_noatt = random_split(data_noatt, [14000,2854], generator=torch.Generator().manual_seed(0))\n",
    "\n",
    "    new_loader = DataLoader(train_data_noatt + data_train_out, batch_size=32, shuffle=True, num_workers=10)\n",
    "    new_test_loader = DataLoader(test_data_noatt + data_test_out, batch_size=32, shuffle=False, num_workers=10)\n",
    "\n",
    "    model = Model(num_classes=2).to(device)\n",
    "\n",
    "    criterion = nn.CrossEntropyLoss()\n",
    "    optimizer = SGD(model.parameters(), lr=0.001, momentum=0.9, nesterov=True)\n",
    "\n",
    "    accs = []\n",
    "\n",
    "    for epoch in range(1):\n",
    "        running_loss = 0.0\n",
    "        model.train()\n",
    "\n",
    "        bar = tqdm(new_loader)\n",
    "        for inputs, y in bar:\n",
    "            labels = is_known(y).long()\n",
    "            inputs, labels = inputs.to(device), labels.to(device)\n",
    "\n",
    "            optimizer.zero_grad()\n",
    "            outputs = model(inputs)\n",
    "            loss = criterion(outputs, labels)\n",
    "            loss.backward()\n",
    "            optimizer.step()\n",
    "\n",
    "            running_loss = 0.8 * running_loss + 0.2 * loss.item()\n",
    "            bar.set_postfix({\"loss\": running_loss})\n",
    "\n",
    "        correct = 0\n",
    "        total = 0\n",
    "\n",
    "        with torch.no_grad():\n",
    "            model.eval()\n",
    "\n",
    "            for inputs, y in new_test_loader:\n",
    "                labels = is_known(y).long()\n",
    "                inputs, labels = inputs.to(device), labels.to(device)\n",
    "\n",
    "                outputs = model(inputs)\n",
    "                _, predicted = torch.max(outputs.data, 1)\n",
    "                total += labels.size(0)\n",
    "                correct += (predicted == labels).sum().item()\n",
    "\n",
    "        print(f'Accuracy of the shape network on the test images: {correct / total:.2%}')\n",
    "        accs.append(correct / total)\n",
    "\n",
    "    return model"
   ],
   "metadata": {
    "collapsed": false,
    "ExecuteTime": {
     "end_time": "2023-08-17T16:38:38.751601490Z",
     "start_time": "2023-08-17T16:38:38.750220746Z"
    }
   }
  },
  {
   "cell_type": "code",
   "execution_count": 7,
   "id": "e1a02580-6d2c-4db2-a4b7-50c8dbbabf22",
   "metadata": {
    "ExecuteTime": {
     "end_time": "2023-08-17T16:38:38.751757455Z",
     "start_time": "2023-08-17T16:38:38.750345724Z"
    }
   },
   "outputs": [],
   "source": [
    "from pytorch_ood.dataset.img import (LSUNCrop, LSUNResize, Textures, TinyImageNetCrop, TinyImageNetResize)\n",
    "from pytorch_ood.detector import EnergyBased, MaxSoftmax, MaxLogit, Entropy, Mahalanobis, ViM\n",
    "from pytorch_ood.utils import OODMetrics, ToUnknown\n",
    "from detector import EnsembleDetector, PrologOOD, Prologic\n",
    "\n",
    "def evaluate(label_net, color_net, fruit_net):\n",
    "    _ = label_net.eval()\n",
    "    _ = color_net.eval()\n",
    "    \n",
    "    results = []\n",
    "\n",
    "    detectors = {\n",
    "        \"ViM\": ViM(label_net.features, w=label_net.fc.weight, b=label_net.fc.bias, d=64),\n",
    "        \"Mahalanobis\": Mahalanobis(label_net.features),\n",
    "        \"Entropy\": Entropy(label_net),\n",
    "        \"LogicOOD+\": PrologOOD(\"kb.pl\", label_net, color_net, fruit_net),\n",
    "        \"Logic\": Prologic(\"kb.pl\", label_net, color_net),\n",
    "        \"Logic+\": Prologic(\"kb.pl\", label_net, color_net, fruit_net),\n",
    "        \"LogicOOD\": PrologOOD(\"kb.pl\", label_net, color_net),\n",
    "        \"Ensemble\": EnsembleDetector(label_net, color_net),\n",
    "        \"MSP\": MaxSoftmax(label_net),\n",
    "        \"Energy\": EnergyBased(label_net),\n",
    "        \"MaxLogit\": MaxLogit(label_net),\n",
    "    }\n",
    "\n",
    "\n",
    "\n",
    "    data = FruitDataset(root=root, transform=trans, target_transform=lambda y: int(y[0]))\n",
    "    data_in_train, data_in = random_split(data, [14000,2854], generator=torch.Generator().manual_seed(0))\n",
    "    train_in_loader = DataLoader(data_in_train, batch_size=32, shuffle=False, num_workers=2)\n",
    "\n",
    "    detectors[\"ViM\"].fit(train_in_loader, device=device)\n",
    "    detectors[\"Mahalanobis\"].fit(train_in_loader, device=device)\n",
    "\n",
    "    datasets = {d.__name__: d for d in (LSUNCrop, LSUNResize, Textures, TinyImageNetCrop, TinyImageNetResize)}\n",
    "    \n",
    "    for detector_name, detector in detectors.items():\n",
    "        for data_name, dataset_c in datasets.items():\n",
    "            print(data_name)\n",
    "            data_out = dataset_c(root=root, transform=trans, target_transform=ToUnknown(), download=True)\n",
    "            loader = DataLoader(data_in+data_out, batch_size=256, shuffle=False, num_workers=12)\n",
    "            \n",
    "            scores = []\n",
    "            ys = []\n",
    "            \n",
    "            with torch.no_grad():\n",
    "                for x, y in loader:\n",
    "                    scores.append(detector(x.to(device)))\n",
    "                    ys.append(y.to(device))\n",
    "                    \n",
    "                scores = torch.cat(scores, dim=0).cpu()\n",
    "                ys = torch.cat(ys, dim=0).cpu()\n",
    "            \n",
    "            metrics = OODMetrics()\n",
    "            metrics.update(scores, ys)\n",
    "            r = metrics.compute()\n",
    "            r.update({\n",
    "                \"Method\": detector_name,\n",
    "                \"Dataset\": data_name\n",
    "            })\n",
    "            print(r)\n",
    "            results.append(r)\n",
    "    \n",
    "    return results "
   ]
  },
  {
   "cell_type": "code",
   "execution_count": 8,
   "id": "930a358f-c6ef-4fe9-9b1a-c305a37ffb70",
   "metadata": {
    "collapsed": true,
    "jupyter": {
     "outputs_hidden": true
    },
    "ExecuteTime": {
     "end_time": "2023-08-17T18:10:25.661479240Z",
     "start_time": "2023-08-17T16:38:38.750446196Z"
    }
   },
   "outputs": [
    {
     "name": "stdout",
     "output_type": "stream",
     "text": [
      "label\n"
     ]
    },
    {
     "name": "stderr",
     "output_type": "stream",
     "text": [
      "100%|██████████| 438/438 [00:13<00:00, 33.24it/s, loss=0.047] \n",
      "  0%|          | 0/438 [00:00<?, ?it/s]"
     ]
    },
    {
     "name": "stdout",
     "output_type": "stream",
     "text": [
      "Accuracy of the network on the test images: 98.60%\n"
     ]
    },
    {
     "name": "stderr",
     "output_type": "stream",
     "text": [
      "100%|██████████| 438/438 [00:12<00:00, 34.39it/s, loss=0.0215]\n",
      "  0%|          | 0/438 [00:00<?, ?it/s]"
     ]
    },
    {
     "name": "stdout",
     "output_type": "stream",
     "text": [
      "Accuracy of the network on the test images: 99.89%\n"
     ]
    },
    {
     "name": "stderr",
     "output_type": "stream",
     "text": [
      "100%|██████████| 438/438 [00:12<00:00, 35.11it/s, loss=0.0334] \n",
      "  0%|          | 0/438 [00:00<?, ?it/s]"
     ]
    },
    {
     "name": "stdout",
     "output_type": "stream",
     "text": [
      "Accuracy of the network on the test images: 99.96%\n"
     ]
    },
    {
     "name": "stderr",
     "output_type": "stream",
     "text": [
      "100%|██████████| 438/438 [00:11<00:00, 37.80it/s, loss=0.0119] \n",
      "  0%|          | 0/438 [00:00<?, ?it/s]"
     ]
    },
    {
     "name": "stdout",
     "output_type": "stream",
     "text": [
      "Accuracy of the network on the test images: 99.82%\n"
     ]
    },
    {
     "name": "stderr",
     "output_type": "stream",
     "text": [
      "100%|██████████| 438/438 [00:11<00:00, 36.86it/s, loss=0.0168] \n",
      "  0%|          | 0/438 [00:00<?, ?it/s]"
     ]
    },
    {
     "name": "stdout",
     "output_type": "stream",
     "text": [
      "Accuracy of the network on the test images: 99.96%\n",
      "color\n"
     ]
    },
    {
     "name": "stderr",
     "output_type": "stream",
     "text": [
      "100%|██████████| 438/438 [00:11<00:00, 37.29it/s, loss=0.13]  \n",
      "  0%|          | 0/438 [00:00<?, ?it/s]"
     ]
    },
    {
     "name": "stdout",
     "output_type": "stream",
     "text": [
      "Accuracy of the network on the test images: 99.79%\n"
     ]
    },
    {
     "name": "stderr",
     "output_type": "stream",
     "text": [
      "100%|██████████| 438/438 [00:11<00:00, 36.97it/s, loss=0.0234] \n",
      "  0%|          | 0/438 [00:00<?, ?it/s]"
     ]
    },
    {
     "name": "stdout",
     "output_type": "stream",
     "text": [
      "Accuracy of the network on the test images: 99.89%\n"
     ]
    },
    {
     "name": "stderr",
     "output_type": "stream",
     "text": [
      "100%|██████████| 438/438 [00:11<00:00, 36.84it/s, loss=0.00893]\n",
      "  0%|          | 0/438 [00:00<?, ?it/s]"
     ]
    },
    {
     "name": "stdout",
     "output_type": "stream",
     "text": [
      "Accuracy of the network on the test images: 99.58%\n"
     ]
    },
    {
     "name": "stderr",
     "output_type": "stream",
     "text": [
      "100%|██████████| 438/438 [00:11<00:00, 36.92it/s, loss=0.00353]\n",
      "  0%|          | 0/438 [00:00<?, ?it/s]"
     ]
    },
    {
     "name": "stdout",
     "output_type": "stream",
     "text": [
      "Accuracy of the network on the test images: 99.93%\n"
     ]
    },
    {
     "name": "stderr",
     "output_type": "stream",
     "text": [
      "100%|██████████| 438/438 [00:11<00:00, 36.60it/s, loss=0.0255] \n"
     ]
    },
    {
     "name": "stdout",
     "output_type": "stream",
     "text": [
      "Accuracy of the network on the test images: 100.00%\n",
      "fruit\n"
     ]
    },
    {
     "name": "stderr",
     "output_type": "stream",
     "text": [
      "100%|██████████| 2000/2000 [00:54<00:00, 36.82it/s, loss=0.00241] \n"
     ]
    },
    {
     "name": "stdout",
     "output_type": "stream",
     "text": [
      "Accuracy of the shape network on the test images: 99.86%\n",
      "LSUNCrop\n",
      "{'AUROC': 0.997471034526825, 'AUPR-IN': 0.9992936849594116, 'AUPR-OUT': 0.9914761781692505, 'FPR95TPR': 0.002803083276376128, 'Method': 'ViM', 'Dataset': 'LSUNCrop'}\n",
      "LSUNResize\n",
      "{'AUROC': 0.9997084736824036, 'AUPR-IN': 0.9999164938926697, 'AUPR-OUT': 0.9995827674865723, 'FPR95TPR': 0.000350385409547016, 'Method': 'ViM', 'Dataset': 'LSUNResize'}\n",
      "Textures\n",
      "{'AUROC': 0.9997475147247314, 'AUPR-IN': 0.9998723268508911, 'AUPR-OUT': 0.9998408555984497, 'FPR95TPR': 0.000350385409547016, 'Method': 'ViM', 'Dataset': 'Textures'}\n",
      "TinyImageNetCrop\n",
      "{'AUROC': 0.9986088871955872, 'AUPR-IN': 0.9996112585067749, 'AUPR-OUT': 0.9955292344093323, 'FPR95TPR': 0.000350385409547016, 'Method': 'ViM', 'Dataset': 'TinyImageNetCrop'}\n",
      "TinyImageNetResize\n",
      "{'AUROC': 0.9994780421257019, 'AUPR-IN': 0.9998520612716675, 'AUPR-OUT': 0.9987319111824036, 'FPR95TPR': 0.000350385409547016, 'Method': 'ViM', 'Dataset': 'TinyImageNetResize'}\n",
      "LSUNCrop\n",
      "{'AUROC': 0.9959306120872498, 'AUPR-IN': 0.9988867044448853, 'AUPR-OUT': 0.9848164916038513, 'FPR95TPR': 0.007708479184657335, 'Method': 'Mahalanobis', 'Dataset': 'LSUNCrop'}\n",
      "LSUNResize\n",
      "{'AUROC': 0.9997522830963135, 'AUPR-IN': 0.9999306201934814, 'AUPR-OUT': 0.9991071820259094, 'FPR95TPR': 0.0, 'Method': 'Mahalanobis', 'Dataset': 'LSUNResize'}\n",
      "Textures\n",
      "{'AUROC': 0.9998235106468201, 'AUPR-IN': 0.999912679195404, 'AUPR-OUT': 0.9996450543403625, 'FPR95TPR': 0.0, 'Method': 'Mahalanobis', 'Dataset': 'Textures'}\n",
      "TinyImageNetCrop\n",
      "{'AUROC': 0.9972878694534302, 'AUPR-IN': 0.9992648363113403, 'AUPR-OUT': 0.9895201325416565, 'FPR95TPR': 0.002102312631905079, 'Method': 'Mahalanobis', 'Dataset': 'TinyImageNetCrop'}\n",
      "TinyImageNetResize\n",
      "{'AUROC': 0.9992700219154358, 'AUPR-IN': 0.9997992515563965, 'AUPR-OUT': 0.9972643852233887, 'FPR95TPR': 0.0, 'Method': 'Mahalanobis', 'Dataset': 'TinyImageNetResize'}\n",
      "LSUNCrop\n",
      "{'AUROC': 0.9812470078468323, 'AUPR-IN': 0.9948517084121704, 'AUPR-OUT': 0.9329140782356262, 'FPR95TPR': 0.11212333291769028, 'Method': 'Entropy', 'Dataset': 'LSUNCrop'}\n",
      "LSUNResize\n",
      "{'AUROC': 0.9918313026428223, 'AUPR-IN': 0.9978343844413757, 'AUPR-OUT': 0.9648849964141846, 'FPR95TPR': 0.013665031641721725, 'Method': 'Entropy', 'Dataset': 'LSUNResize'}\n",
      "Textures\n",
      "{'AUROC': 0.987197995185852, 'AUPR-IN': 0.9941202402114868, 'AUPR-OUT': 0.9692241549491882, 'FPR95TPR': 0.05536089837551117, 'Method': 'Entropy', 'Dataset': 'Textures'}\n",
      "TinyImageNetCrop\n",
      "{'AUROC': 0.9872222542762756, 'AUPR-IN': 0.9965089559555054, 'AUPR-OUT': 0.9532642960548401, 'FPR95TPR': 0.06587246060371399, 'Method': 'Entropy', 'Dataset': 'TinyImageNetCrop'}\n",
      "TinyImageNetResize\n",
      "{'AUROC': 0.9885303974151611, 'AUPR-IN': 0.9969584941864014, 'AUPR-OUT': 0.9522882699966431, 'FPR95TPR': 0.028731605038046837, 'Method': 'Entropy', 'Dataset': 'TinyImageNetResize'}\n",
      "LSUNCrop\n",
      "{'AUROC': 1.0, 'AUPR-IN': 1.0, 'AUPR-OUT': 1.0, 'FPR95TPR': 0.0, 'Method': 'LogicOOD+', 'Dataset': 'LSUNCrop'}\n",
      "LSUNResize\n",
      "{'AUROC': 1.0, 'AUPR-IN': 1.0, 'AUPR-OUT': 1.0, 'FPR95TPR': 0.0, 'Method': 'LogicOOD+', 'Dataset': 'LSUNResize'}\n",
      "Textures\n",
      "{'AUROC': 0.9999932050704956, 'AUPR-IN': 0.999996542930603, 'AUPR-OUT': 0.9999865889549255, 'FPR95TPR': 0.0, 'Method': 'LogicOOD+', 'Dataset': 'Textures'}\n",
      "TinyImageNetCrop\n",
      "{'AUROC': 1.0, 'AUPR-IN': 1.0, 'AUPR-OUT': 1.0, 'FPR95TPR': 0.0, 'Method': 'LogicOOD+', 'Dataset': 'TinyImageNetCrop'}\n",
      "TinyImageNetResize\n",
      "{'AUROC': 0.9999998211860657, 'AUPR-IN': 0.9999999403953552, 'AUPR-OUT': 0.9999994039535522, 'FPR95TPR': 0.0, 'Method': 'LogicOOD+', 'Dataset': 'TinyImageNetResize'}\n",
      "LSUNCrop\n",
      "{'AUROC': 0.8833999633789062, 'AUPR-IN': 0.9741110801696777, 'AUPR-OUT': 0.7751638889312744, 'FPR95TPR': 1.0, 'Method': 'Logic', 'Dataset': 'LSUNCrop'}\n",
      "LSUNResize\n",
      "{'AUROC': 0.6198999881744385, 'AUPR-IN': 0.9156056642532349, 'AUPR-OUT': 0.6364766359329224, 'FPR95TPR': 1.0, 'Method': 'Logic', 'Dataset': 'LSUNResize'}\n",
      "Textures\n",
      "{'AUROC': 0.7408688068389893, 'AUPR-IN': 0.9129314422607422, 'AUPR-OUT': 0.747014045715332, 'FPR95TPR': 1.0, 'Method': 'Logic', 'Dataset': 'Textures'}\n",
      "TinyImageNetCrop\n",
      "{'AUROC': 0.7510499954223633, 'AUPR-IN': 0.9447251558303833, 'AUPR-OUT': 0.6821779608726501, 'FPR95TPR': 1.0, 'Method': 'Logic', 'Dataset': 'TinyImageNetCrop'}\n",
      "TinyImageNetResize\n",
      "{'AUROC': 0.626550018787384, 'AUPR-IN': 0.9170820713043213, 'AUPR-OUT': 0.6382349729537964, 'FPR95TPR': 1.0, 'Method': 'Logic', 'Dataset': 'TinyImageNetResize'}\n",
      "LSUNCrop\n",
      "{'AUROC': 1.0, 'AUPR-IN': 1.0, 'AUPR-OUT': 1.0, 'FPR95TPR': 0.0, 'Method': 'Logic+', 'Dataset': 'LSUNCrop'}\n",
      "LSUNResize\n",
      "{'AUROC': 1.0, 'AUPR-IN': 1.0, 'AUPR-OUT': 1.0, 'FPR95TPR': 0.0, 'Method': 'Logic+', 'Dataset': 'LSUNResize'}\n",
      "Textures\n",
      "{'AUROC': 0.998758852481842, 'AUPR-IN': 0.9995829463005066, 'AUPR-OUT': 0.9975593090057373, 'FPR95TPR': 0.0, 'Method': 'Logic+', 'Dataset': 'Textures'}\n",
      "TinyImageNetCrop\n",
      "{'AUROC': 1.0, 'AUPR-IN': 1.0, 'AUPR-OUT': 1.0, 'FPR95TPR': 0.0, 'Method': 'Logic+', 'Dataset': 'TinyImageNetCrop'}\n",
      "TinyImageNetResize\n",
      "{'AUROC': 0.9999499917030334, 'AUPR-IN': 0.9999889135360718, 'AUPR-OUT': 0.9998248815536499, 'FPR95TPR': 0.0, 'Method': 'Logic+', 'Dataset': 'TinyImageNetResize'}\n",
      "LSUNCrop\n",
      "{'AUROC': 0.9957423210144043, 'AUPR-IN': 0.9988307356834412, 'AUPR-OUT': 0.9838330149650574, 'FPR95TPR': 0.012613874860107899, 'Method': 'LogicOOD', 'Dataset': 'LSUNCrop'}\n",
      "LSUNResize\n",
      "{'AUROC': 0.9850633144378662, 'AUPR-IN': 0.9957133531570435, 'AUPR-OUT': 0.9505482912063599, 'FPR95TPR': 0.05956552177667618, 'Method': 'LogicOOD', 'Dataset': 'LSUNResize'}\n",
      "Textures\n",
      "{'AUROC': 0.9869553446769714, 'AUPR-IN': 0.9936316013336182, 'AUPR-OUT': 0.9744051098823547, 'FPR95TPR': 0.06552207469940186, 'Method': 'LogicOOD', 'Dataset': 'Textures'}\n",
      "TinyImageNetCrop\n",
      "{'AUROC': 0.991484522819519, 'AUPR-IN': 0.9975681304931641, 'AUPR-OUT': 0.9731107950210571, 'FPR95TPR': 0.04204625263810158, 'Method': 'LogicOOD', 'Dataset': 'TinyImageNetCrop'}\n",
      "TinyImageNetResize\n",
      "{'AUROC': 0.9826524257659912, 'AUPR-IN': 0.9950658679008484, 'AUPR-OUT': 0.9417767524719238, 'FPR95TPR': 0.08023826032876968, 'Method': 'LogicOOD', 'Dataset': 'TinyImageNetResize'}\n",
      "LSUNCrop\n",
      "{'AUROC': 0.9893538951873779, 'AUPR-IN': 0.9968582391738892, 'AUPR-OUT': 0.9689399600028992, 'FPR95TPR': 0.05851436406373978, 'Method': 'Ensemble', 'Dataset': 'LSUNCrop'}\n",
      "LSUNResize\n",
      "{'AUROC': 0.9838546514511108, 'AUPR-IN': 0.9952605962753296, 'AUPR-OUT': 0.9487696886062622, 'FPR95TPR': 0.06236860528588295, 'Method': 'Ensemble', 'Dataset': 'LSUNResize'}\n",
      "Textures\n",
      "{'AUROC': 0.9843276143074036, 'AUPR-IN': 0.9920843243598938, 'AUPR-OUT': 0.9709036350250244, 'FPR95TPR': 0.08304134756326675, 'Method': 'Ensemble', 'Dataset': 'Textures'}\n",
      "TinyImageNetCrop\n",
      "{'AUROC': 0.9889586567878723, 'AUPR-IN': 0.9967238903045654, 'AUPR-OUT': 0.9685162305831909, 'FPR95TPR': 0.0525578148663044, 'Method': 'Ensemble', 'Dataset': 'TinyImageNetCrop'}\n",
      "TinyImageNetResize\n",
      "{'AUROC': 0.9814659357070923, 'AUPR-IN': 0.994620680809021, 'AUPR-OUT': 0.9400558471679688, 'FPR95TPR': 0.08444288372993469, 'Method': 'Ensemble', 'Dataset': 'TinyImageNetResize'}\n",
      "LSUNCrop\n",
      "{'AUROC': 0.9808452129364014, 'AUPR-IN': 0.9947048425674438, 'AUPR-OUT': 0.9323974251747131, 'FPR95TPR': 0.11317449063062668, 'Method': 'MSP', 'Dataset': 'LSUNCrop'}\n",
      "LSUNResize\n",
      "{'AUROC': 0.9915152788162231, 'AUPR-IN': 0.9977056384086609, 'AUPR-OUT': 0.9643683433532715, 'FPR95TPR': 0.016468115150928497, 'Method': 'MSP', 'Dataset': 'LSUNResize'}\n",
      "Textures\n",
      "{'AUROC': 0.9868016242980957, 'AUPR-IN': 0.993831992149353, 'AUPR-OUT': 0.969104528427124, 'FPR95TPR': 0.05886474996805191, 'Method': 'MSP', 'Dataset': 'Textures'}\n",
      "TinyImageNetCrop\n",
      "{'AUROC': 0.986887514591217, 'AUPR-IN': 0.9963780045509338, 'AUPR-OUT': 0.952901303768158, 'FPR95TPR': 0.0679747685790062, 'Method': 'MSP', 'Dataset': 'TinyImageNetCrop'}\n",
      "TinyImageNetResize\n",
      "{'AUROC': 0.9882098436355591, 'AUPR-IN': 0.996829092502594, 'AUPR-OUT': 0.9518702030181885, 'FPR95TPR': 0.030483532696962357, 'Method': 'MSP', 'Dataset': 'TinyImageNetResize'}\n",
      "LSUNCrop\n",
      "{'AUROC': 0.9806461930274963, 'AUPR-IN': 0.9947463870048523, 'AUPR-OUT': 0.928083062171936, 'FPR95TPR': 0.10581640154123306, 'Method': 'Energy', 'Dataset': 'LSUNCrop'}\n",
      "LSUNResize\n",
      "{'AUROC': 0.9922708868980408, 'AUPR-IN': 0.9979482293128967, 'AUPR-OUT': 0.9673792123794556, 'FPR95TPR': 0.008058864623308182, 'Method': 'Energy', 'Dataset': 'LSUNResize'}\n",
      "Textures\n",
      "{'AUROC': 0.985623300075531, 'AUPR-IN': 0.9935699701309204, 'AUPR-OUT': 0.960777997970581, 'FPR95TPR': 0.05080588534474373, 'Method': 'Energy', 'Dataset': 'Textures'}\n",
      "TinyImageNetCrop\n",
      "{'AUROC': 0.9867646098136902, 'AUPR-IN': 0.9964227676391602, 'AUPR-OUT': 0.9497091770172119, 'FPR95TPR': 0.055010512471199036, 'Method': 'Energy', 'Dataset': 'TinyImageNetCrop'}\n",
      "TinyImageNetResize\n",
      "{'AUROC': 0.9887511134147644, 'AUPR-IN': 0.9970220923423767, 'AUPR-OUT': 0.95316082239151, 'FPR95TPR': 0.02207428216934204, 'Method': 'Energy', 'Dataset': 'TinyImageNetResize'}\n",
      "LSUNCrop\n",
      "{'AUROC': 0.9806826710700989, 'AUPR-IN': 0.9947613477706909, 'AUPR-OUT': 0.9281030893325806, 'FPR95TPR': 0.10581640154123306, 'Method': 'MaxLogit', 'Dataset': 'LSUNCrop'}\n",
      "LSUNResize\n",
      "{'AUROC': 0.9923017621040344, 'AUPR-IN': 0.9979631304740906, 'AUPR-OUT': 0.967391848564148, 'FPR95TPR': 0.008759635500609875, 'Method': 'MaxLogit', 'Dataset': 'LSUNResize'}\n",
      "Textures\n",
      "{'AUROC': 0.9857128262519836, 'AUPR-IN': 0.9936327934265137, 'AUPR-OUT': 0.9608809947967529, 'FPR95TPR': 0.049754731357097626, 'Method': 'MaxLogit', 'Dataset': 'Textures'}\n",
      "TinyImageNetCrop\n",
      "{'AUROC': 0.9867986440658569, 'AUPR-IN': 0.9964366555213928, 'AUPR-OUT': 0.9497339129447937, 'FPR95TPR': 0.055010512471199036, 'Method': 'MaxLogit', 'Dataset': 'TinyImageNetCrop'}\n",
      "TinyImageNetResize\n"
     ]
    },
    {
     "name": "stderr",
     "output_type": "stream",
     "text": [
      "  0%|          | 0/438 [00:00<?, ?it/s]"
     ]
    },
    {
     "name": "stdout",
     "output_type": "stream",
     "text": [
      "{'AUROC': 0.9887897372245789, 'AUPR-IN': 0.9970400929450989, 'AUPR-OUT': 0.9531997442245483, 'FPR95TPR': 0.021373510360717773, 'Method': 'MaxLogit', 'Dataset': 'TinyImageNetResize'}\n",
      "label\n"
     ]
    },
    {
     "name": "stderr",
     "output_type": "stream",
     "text": [
      "100%|██████████| 438/438 [00:12<00:00, 35.86it/s, loss=0.0475]\n",
      "  0%|          | 0/438 [00:00<?, ?it/s]"
     ]
    },
    {
     "name": "stdout",
     "output_type": "stream",
     "text": [
      "Accuracy of the network on the test images: 96.50%\n"
     ]
    },
    {
     "name": "stderr",
     "output_type": "stream",
     "text": [
      "100%|██████████| 438/438 [00:11<00:00, 36.50it/s, loss=0.0251]\n",
      "  0%|          | 0/438 [00:00<?, ?it/s]"
     ]
    },
    {
     "name": "stdout",
     "output_type": "stream",
     "text": [
      "Accuracy of the network on the test images: 96.53%\n"
     ]
    },
    {
     "name": "stderr",
     "output_type": "stream",
     "text": [
      "100%|██████████| 438/438 [00:11<00:00, 36.67it/s, loss=0.0196]\n",
      "  0%|          | 0/438 [00:00<?, ?it/s]"
     ]
    },
    {
     "name": "stdout",
     "output_type": "stream",
     "text": [
      "Accuracy of the network on the test images: 96.99%\n"
     ]
    },
    {
     "name": "stderr",
     "output_type": "stream",
     "text": [
      "100%|██████████| 438/438 [00:12<00:00, 35.76it/s, loss=0.032]  \n",
      "  0%|          | 0/438 [00:00<?, ?it/s]"
     ]
    },
    {
     "name": "stdout",
     "output_type": "stream",
     "text": [
      "Accuracy of the network on the test images: 98.39%\n"
     ]
    },
    {
     "name": "stderr",
     "output_type": "stream",
     "text": [
      "100%|██████████| 438/438 [00:12<00:00, 35.40it/s, loss=0.00517]\n",
      "  0%|          | 0/438 [00:00<?, ?it/s]"
     ]
    },
    {
     "name": "stdout",
     "output_type": "stream",
     "text": [
      "Accuracy of the network on the test images: 99.86%\n",
      "color\n"
     ]
    },
    {
     "name": "stderr",
     "output_type": "stream",
     "text": [
      "100%|██████████| 438/438 [00:12<00:00, 36.20it/s, loss=0.0579]\n",
      "  0%|          | 0/438 [00:00<?, ?it/s]"
     ]
    },
    {
     "name": "stdout",
     "output_type": "stream",
     "text": [
      "Accuracy of the network on the test images: 93.73%\n"
     ]
    },
    {
     "name": "stderr",
     "output_type": "stream",
     "text": [
      "100%|██████████| 438/438 [00:12<00:00, 36.31it/s, loss=0.00881]\n",
      "  0%|          | 0/438 [00:00<?, ?it/s]"
     ]
    },
    {
     "name": "stdout",
     "output_type": "stream",
     "text": [
      "Accuracy of the network on the test images: 98.77%\n"
     ]
    },
    {
     "name": "stderr",
     "output_type": "stream",
     "text": [
      "100%|██████████| 438/438 [00:12<00:00, 36.37it/s, loss=0.00407]\n",
      "  0%|          | 0/438 [00:00<?, ?it/s]"
     ]
    },
    {
     "name": "stdout",
     "output_type": "stream",
     "text": [
      "Accuracy of the network on the test images: 99.96%\n"
     ]
    },
    {
     "name": "stderr",
     "output_type": "stream",
     "text": [
      "100%|██████████| 438/438 [00:12<00:00, 36.40it/s, loss=0.00918] \n",
      "  0%|          | 0/438 [00:00<?, ?it/s]"
     ]
    },
    {
     "name": "stdout",
     "output_type": "stream",
     "text": [
      "Accuracy of the network on the test images: 100.00%\n"
     ]
    },
    {
     "name": "stderr",
     "output_type": "stream",
     "text": [
      "100%|██████████| 438/438 [00:12<00:00, 36.09it/s, loss=0.00224] \n"
     ]
    },
    {
     "name": "stdout",
     "output_type": "stream",
     "text": [
      "Accuracy of the network on the test images: 100.00%\n",
      "fruit\n"
     ]
    },
    {
     "name": "stderr",
     "output_type": "stream",
     "text": [
      "100%|██████████| 2000/2000 [00:55<00:00, 35.94it/s, loss=0.00278] \n"
     ]
    },
    {
     "name": "stdout",
     "output_type": "stream",
     "text": [
      "Accuracy of the shape network on the test images: 99.74%\n",
      "LSUNCrop\n",
      "{'AUROC': 0.9791744947433472, 'AUPR-IN': 0.9945045113563538, 'AUPR-OUT': 0.9159132242202759, 'FPR95TPR': 0.12508758902549744, 'Method': 'ViM', 'Dataset': 'LSUNCrop'}\n",
      "LSUNResize\n",
      "{'AUROC': 0.9998419284820557, 'AUPR-IN': 0.999958872795105, 'AUPR-OUT': 0.9992638826370239, 'FPR95TPR': 0.0, 'Method': 'ViM', 'Dataset': 'LSUNResize'}\n",
      "Textures\n",
      "{'AUROC': 0.994813084602356, 'AUPR-IN': 0.9977324604988098, 'AUPR-OUT': 0.9872773289680481, 'FPR95TPR': 0.0, 'Method': 'ViM', 'Dataset': 'Textures'}\n",
      "TinyImageNetCrop\n",
      "{'AUROC': 0.9917891621589661, 'AUPR-IN': 0.9978598356246948, 'AUPR-OUT': 0.9641873836517334, 'FPR95TPR': 0.008759635500609875, 'Method': 'ViM', 'Dataset': 'TinyImageNetCrop'}\n",
      "TinyImageNetResize\n",
      "{'AUROC': 0.9996896386146545, 'AUPR-IN': 0.999914288520813, 'AUPR-OUT': 0.9988460540771484, 'FPR95TPR': 0.0, 'Method': 'ViM', 'Dataset': 'TinyImageNetResize'}\n",
      "LSUNCrop\n",
      "{'AUROC': 0.9691423177719116, 'AUPR-IN': 0.9918456077575684, 'AUPR-OUT': 0.87969571352005, 'FPR95TPR': 0.2298528403043747, 'Method': 'Mahalanobis', 'Dataset': 'LSUNCrop'}\n",
      "LSUNResize\n",
      "{'AUROC': 0.9997857213020325, 'AUPR-IN': 0.9999445080757141, 'AUPR-OUT': 0.99897700548172, 'FPR95TPR': 0.0, 'Method': 'Mahalanobis', 'Dataset': 'LSUNResize'}\n",
      "Textures\n",
      "{'AUROC': 0.9915975332260132, 'AUPR-IN': 0.9964519739151001, 'AUPR-OUT': 0.9779663681983948, 'FPR95TPR': 0.0, 'Method': 'Mahalanobis', 'Dataset': 'Textures'}\n",
      "TinyImageNetCrop\n",
      "{'AUROC': 0.9863882064819336, 'AUPR-IN': 0.9964443445205688, 'AUPR-OUT': 0.9418505430221558, 'FPR95TPR': 0.04204625263810158, 'Method': 'Mahalanobis', 'Dataset': 'TinyImageNetCrop'}\n",
      "TinyImageNetResize\n",
      "{'AUROC': 0.9995756149291992, 'AUPR-IN': 0.9998834133148193, 'AUPR-OUT': 0.9984050393104553, 'FPR95TPR': 0.0, 'Method': 'Mahalanobis', 'Dataset': 'TinyImageNetResize'}\n",
      "LSUNCrop\n",
      "{'AUROC': 0.9469209313392639, 'AUPR-IN': 0.984756588935852, 'AUPR-OUT': 0.8200836181640625, 'FPR95TPR': 0.3142957389354706, 'Method': 'Entropy', 'Dataset': 'LSUNCrop'}\n",
      "LSUNResize\n",
      "{'AUROC': 0.996660590171814, 'AUPR-IN': 0.9990178346633911, 'AUPR-OUT': 0.9902729988098145, 'FPR95TPR': 0.018920812755823135, 'Method': 'Entropy', 'Dataset': 'LSUNResize'}\n",
      "Textures\n",
      "{'AUROC': 0.9681295156478882, 'AUPR-IN': 0.9844377040863037, 'AUPR-OUT': 0.9306627511978149, 'FPR95TPR': 0.15136650204658508, 'Method': 'Entropy', 'Dataset': 'Textures'}\n",
      "TinyImageNetCrop\n",
      "{'AUROC': 0.9698119759559631, 'AUPR-IN': 0.991569995880127, 'AUPR-OUT': 0.8904914259910583, 'FPR95TPR': 0.17274001240730286, 'Method': 'Entropy', 'Dataset': 'TinyImageNetCrop'}\n",
      "TinyImageNetResize\n",
      "{'AUROC': 0.9946704506874084, 'AUPR-IN': 0.9984512329101562, 'AUPR-OUT': 0.9837470054626465, 'FPR95TPR': 0.02382620796561241, 'Method': 'Entropy', 'Dataset': 'TinyImageNetResize'}\n",
      "LSUNCrop\n",
      "{'AUROC': 0.9999999403953552, 'AUPR-IN': 1.0, 'AUPR-OUT': 1.0, 'FPR95TPR': 0.0, 'Method': 'LogicOOD+', 'Dataset': 'LSUNCrop'}\n",
      "LSUNResize\n",
      "{'AUROC': 0.9999999403953552, 'AUPR-IN': 1.0, 'AUPR-OUT': 1.0, 'FPR95TPR': 0.0, 'Method': 'LogicOOD+', 'Dataset': 'LSUNResize'}\n",
      "Textures\n",
      "{'AUROC': 0.9999080896377563, 'AUPR-IN': 0.9999549984931946, 'AUPR-OUT': 0.9998124837875366, 'FPR95TPR': 0.0, 'Method': 'LogicOOD+', 'Dataset': 'Textures'}\n",
      "TinyImageNetCrop\n",
      "{'AUROC': 0.9999999403953552, 'AUPR-IN': 1.0, 'AUPR-OUT': 1.0, 'FPR95TPR': 0.0, 'Method': 'LogicOOD+', 'Dataset': 'TinyImageNetCrop'}\n",
      "TinyImageNetResize\n",
      "{'AUROC': 0.9999999403953552, 'AUPR-IN': 1.0, 'AUPR-OUT': 1.0, 'FPR95TPR': 0.0, 'Method': 'LogicOOD+', 'Dataset': 'TinyImageNetResize'}\n",
      "LSUNCrop\n",
      "{'AUROC': 0.8646500110626221, 'AUPR-IN': 0.9699479341506958, 'AUPR-OUT': 0.7566084861755371, 'FPR95TPR': 1.0, 'Method': 'Logic', 'Dataset': 'LSUNCrop'}\n",
      "LSUNResize\n",
      "{'AUROC': 0.722000002861023, 'AUPR-IN': 0.9382750988006592, 'AUPR-OUT': 0.6695982813835144, 'FPR95TPR': 1.0, 'Method': 'Logic', 'Dataset': 'LSUNResize'}\n",
      "Textures\n",
      "{'AUROC': 0.7393617033958435, 'AUPR-IN': 0.9124250411987305, 'AUPR-OUT': 0.7462892532348633, 'FPR95TPR': 1.0, 'Method': 'Logic', 'Dataset': 'Textures'}\n",
      "TinyImageNetCrop\n",
      "{'AUROC': 0.7965999841690063, 'AUPR-IN': 0.9548386931419373, 'AUPR-OUT': 0.7061542868614197, 'FPR95TPR': 1.0, 'Method': 'Logic', 'Dataset': 'TinyImageNetCrop'}\n",
      "TinyImageNetResize\n",
      "{'AUROC': 0.7062000036239624, 'AUPR-IN': 0.9347670078277588, 'AUPR-OUT': 0.663459300994873, 'FPR95TPR': 1.0, 'Method': 'Logic', 'Dataset': 'TinyImageNetResize'}\n",
      "LSUNCrop\n",
      "{'AUROC': 1.0, 'AUPR-IN': 1.0, 'AUPR-OUT': 1.0, 'FPR95TPR': 0.0, 'Method': 'Logic+', 'Dataset': 'LSUNCrop'}\n",
      "LSUNResize\n",
      "{'AUROC': 1.0, 'AUPR-IN': 1.0, 'AUPR-OUT': 1.0, 'FPR95TPR': 0.0, 'Method': 'Logic+', 'Dataset': 'LSUNResize'}\n",
      "Textures\n",
      "{'AUROC': 0.9952127933502197, 'AUPR-IN': 0.9983915090560913, 'AUPR-OUT': 0.9907152652740479, 'FPR95TPR': 0.0, 'Method': 'Logic+', 'Dataset': 'Textures'}\n",
      "TinyImageNetCrop\n",
      "{'AUROC': 1.0, 'AUPR-IN': 1.0, 'AUPR-OUT': 1.0, 'FPR95TPR': 0.0, 'Method': 'Logic+', 'Dataset': 'TinyImageNetCrop'}\n",
      "TinyImageNetResize\n",
      "{'AUROC': 1.0, 'AUPR-IN': 1.0, 'AUPR-OUT': 1.0, 'FPR95TPR': 0.0, 'Method': 'Logic+', 'Dataset': 'TinyImageNetResize'}\n",
      "LSUNCrop\n",
      "{'AUROC': 0.9941691756248474, 'AUPR-IN': 0.9983351230621338, 'AUPR-OUT': 0.9815359711647034, 'FPR95TPR': 0.03328661620616913, 'Method': 'LogicOOD', 'Dataset': 'LSUNCrop'}\n",
      "LSUNResize\n",
      "{'AUROC': 0.9973539710044861, 'AUPR-IN': 0.9992115497589111, 'AUPR-OUT': 0.9926640391349792, 'FPR95TPR': 0.016117729246616364, 'Method': 'LogicOOD', 'Dataset': 'LSUNResize'}\n",
      "Textures\n",
      "{'AUROC': 0.9832260012626648, 'AUPR-IN': 0.9917054176330566, 'AUPR-OUT': 0.966271162033081, 'FPR95TPR': 0.08584442734718323, 'Method': 'LogicOOD', 'Dataset': 'Textures'}\n",
      "TinyImageNetCrop\n",
      "{'AUROC': 0.9941208362579346, 'AUPR-IN': 0.9983067512512207, 'AUPR-OUT': 0.9817303419113159, 'FPR95TPR': 0.03188507258892059, 'Method': 'LogicOOD', 'Dataset': 'TinyImageNetCrop'}\n",
      "TinyImageNetResize\n",
      "{'AUROC': 0.995896577835083, 'AUPR-IN': 0.9987847805023193, 'AUPR-OUT': 0.9883342981338501, 'FPR95TPR': 0.022424666211009026, 'Method': 'LogicOOD', 'Dataset': 'TinyImageNetResize'}\n",
      "LSUNCrop\n",
      "{'AUROC': 0.9913300275802612, 'AUPR-IN': 0.9973072409629822, 'AUPR-OUT': 0.9775258898735046, 'FPR95TPR': 0.03749123960733414, 'Method': 'Ensemble', 'Dataset': 'LSUNCrop'}\n",
      "LSUNResize\n",
      "{'AUROC': 0.9961811900138855, 'AUPR-IN': 0.9988101124763489, 'AUPR-OUT': 0.9906708002090454, 'FPR95TPR': 0.018220042809844017, 'Method': 'Ensemble', 'Dataset': 'LSUNResize'}\n",
      "Textures\n",
      "{'AUROC': 0.9795459508895874, 'AUPR-IN': 0.9892358183860779, 'AUPR-OUT': 0.9622558355331421, 'FPR95TPR': 0.09425368160009384, 'Method': 'Ensemble', 'Dataset': 'Textures'}\n",
      "TinyImageNetCrop\n",
      "{'AUROC': 0.9914345741271973, 'AUPR-IN': 0.9973706007003784, 'AUPR-OUT': 0.9774386882781982, 'FPR95TPR': 0.03854239732027054, 'Method': 'Ensemble', 'Dataset': 'TinyImageNetCrop'}\n",
      "TinyImageNetResize\n",
      "{'AUROC': 0.9945899248123169, 'AUPR-IN': 0.9983360767364502, 'AUPR-OUT': 0.9861268997192383, 'FPR95TPR': 0.02733006328344345, 'Method': 'Ensemble', 'Dataset': 'TinyImageNetResize'}\n",
      "LSUNCrop\n",
      "{'AUROC': 0.9450939297676086, 'AUPR-IN': 0.9835407733917236, 'AUPR-OUT': 0.821193516254425, 'FPR95TPR': 0.3121934235095978, 'Method': 'MSP', 'Dataset': 'LSUNCrop'}\n",
      "LSUNResize\n",
      "{'AUROC': 0.9946514368057251, 'AUPR-IN': 0.9982496500015259, 'AUPR-OUT': 0.9877301454544067, 'FPR95TPR': 0.021723896265029907, 'Method': 'MSP', 'Dataset': 'LSUNResize'}\n",
      "Textures\n",
      "{'AUROC': 0.9662394523620605, 'AUPR-IN': 0.9824427962303162, 'AUPR-OUT': 0.9302879571914673, 'FPR95TPR': 0.14576034247875214, 'Method': 'MSP', 'Dataset': 'Textures'}\n",
      "TinyImageNetCrop\n",
      "{'AUROC': 0.9678258299827576, 'AUPR-IN': 0.990618884563446, 'AUPR-OUT': 0.8897295594215393, 'FPR95TPR': 0.17344078421592712, 'Method': 'MSP', 'Dataset': 'TinyImageNetCrop'}\n",
      "TinyImageNetResize\n",
      "{'AUROC': 0.9927186965942383, 'AUPR-IN': 0.9976927042007446, 'AUPR-OUT': 0.9815194010734558, 'FPR95TPR': 0.026979677379131317, 'Method': 'MSP', 'Dataset': 'TinyImageNetResize'}\n",
      "LSUNCrop\n",
      "{'AUROC': 0.9568593502044678, 'AUPR-IN': 0.9879593253135681, 'AUPR-OUT': 0.8538975715637207, 'FPR95TPR': 0.26138752698898315, 'Method': 'Energy', 'Dataset': 'LSUNCrop'}\n",
      "LSUNResize\n",
      "{'AUROC': 0.9983451962471008, 'AUPR-IN': 0.9995285272598267, 'AUPR-OUT': 0.9944491982460022, 'FPR95TPR': 0.0031534687150269747, 'Method': 'Energy', 'Dataset': 'LSUNResize'}\n",
      "Textures\n",
      "{'AUROC': 0.9703454971313477, 'AUPR-IN': 0.9860810041427612, 'AUPR-OUT': 0.9320151805877686, 'FPR95TPR': 0.16117729246616364, 'Method': 'Energy', 'Dataset': 'Textures'}\n",
      "TinyImageNetCrop\n",
      "{'AUROC': 0.9763354659080505, 'AUPR-IN': 0.9935343265533447, 'AUPR-OUT': 0.9129233956336975, 'FPR95TPR': 0.15276804566383362, 'Method': 'Energy', 'Dataset': 'TinyImageNetCrop'}\n",
      "TinyImageNetResize\n",
      "{'AUROC': 0.9964272975921631, 'AUPR-IN': 0.9990042448043823, 'AUPR-OUT': 0.9872654676437378, 'FPR95TPR': 0.004905396141111851, 'Method': 'Energy', 'Dataset': 'TinyImageNetResize'}\n",
      "LSUNCrop\n",
      "{'AUROC': 0.9564797282218933, 'AUPR-IN': 0.9878116250038147, 'AUPR-OUT': 0.853559672832489, 'FPR95TPR': 0.26138752698898315, 'Method': 'MaxLogit', 'Dataset': 'LSUNCrop'}\n",
      "LSUNResize\n",
      "{'AUROC': 0.998246431350708, 'AUPR-IN': 0.9995018243789673, 'AUPR-OUT': 0.9941080212593079, 'FPR95TPR': 0.0038542395923286676, 'Method': 'MaxLogit', 'Dataset': 'LSUNResize'}\n",
      "Textures\n",
      "{'AUROC': 0.9700336456298828, 'AUPR-IN': 0.9858846068382263, 'AUPR-OUT': 0.9317469596862793, 'FPR95TPR': 0.16047652065753937, 'Method': 'MaxLogit', 'Dataset': 'Textures'}\n",
      "TinyImageNetCrop\n",
      "{'AUROC': 0.9760322570800781, 'AUPR-IN': 0.9934312701225281, 'AUPR-OUT': 0.912479043006897, 'FPR95TPR': 0.15346881747245789, 'Method': 'MaxLogit', 'Dataset': 'TinyImageNetCrop'}\n",
      "TinyImageNetResize\n"
     ]
    },
    {
     "name": "stderr",
     "output_type": "stream",
     "text": [
      "  0%|          | 0/438 [00:00<?, ?it/s]"
     ]
    },
    {
     "name": "stdout",
     "output_type": "stream",
     "text": [
      "{'AUROC': 0.9962979555130005, 'AUPR-IN': 0.9989663362503052, 'AUPR-OUT': 0.9869139790534973, 'FPR95TPR': 0.009810792282223701, 'Method': 'MaxLogit', 'Dataset': 'TinyImageNetResize'}\n",
      "label\n"
     ]
    },
    {
     "name": "stderr",
     "output_type": "stream",
     "text": [
      "100%|██████████| 438/438 [00:12<00:00, 36.05it/s, loss=0.0762]\n",
      "  0%|          | 0/438 [00:00<?, ?it/s]"
     ]
    },
    {
     "name": "stdout",
     "output_type": "stream",
     "text": [
      "Accuracy of the network on the test images: 95.66%\n"
     ]
    },
    {
     "name": "stderr",
     "output_type": "stream",
     "text": [
      "100%|██████████| 438/438 [00:12<00:00, 36.24it/s, loss=0.0331]\n",
      "  0%|          | 0/438 [00:00<?, ?it/s]"
     ]
    },
    {
     "name": "stdout",
     "output_type": "stream",
     "text": [
      "Accuracy of the network on the test images: 98.39%\n"
     ]
    },
    {
     "name": "stderr",
     "output_type": "stream",
     "text": [
      "100%|██████████| 438/438 [00:12<00:00, 36.20it/s, loss=0.0159] \n",
      "  0%|          | 0/438 [00:00<?, ?it/s]"
     ]
    },
    {
     "name": "stdout",
     "output_type": "stream",
     "text": [
      "Accuracy of the network on the test images: 98.98%\n"
     ]
    },
    {
     "name": "stderr",
     "output_type": "stream",
     "text": [
      "100%|██████████| 438/438 [00:12<00:00, 36.12it/s, loss=0.0256] \n",
      "  0%|          | 0/438 [00:00<?, ?it/s]"
     ]
    },
    {
     "name": "stdout",
     "output_type": "stream",
     "text": [
      "Accuracy of the network on the test images: 99.40%\n"
     ]
    },
    {
     "name": "stderr",
     "output_type": "stream",
     "text": [
      "100%|██████████| 438/438 [00:12<00:00, 35.31it/s, loss=0.01]   \n",
      "  0%|          | 0/438 [00:00<?, ?it/s]"
     ]
    },
    {
     "name": "stdout",
     "output_type": "stream",
     "text": [
      "Accuracy of the network on the test images: 100.00%\n",
      "color\n"
     ]
    },
    {
     "name": "stderr",
     "output_type": "stream",
     "text": [
      "100%|██████████| 438/438 [00:12<00:00, 36.15it/s, loss=0.0478]\n",
      "  0%|          | 0/438 [00:00<?, ?it/s]"
     ]
    },
    {
     "name": "stdout",
     "output_type": "stream",
     "text": [
      "Accuracy of the network on the test images: 98.32%\n"
     ]
    },
    {
     "name": "stderr",
     "output_type": "stream",
     "text": [
      "100%|██████████| 438/438 [00:12<00:00, 35.49it/s, loss=0.0177] \n",
      "  0%|          | 0/438 [00:00<?, ?it/s]"
     ]
    },
    {
     "name": "stdout",
     "output_type": "stream",
     "text": [
      "Accuracy of the network on the test images: 99.16%\n"
     ]
    },
    {
     "name": "stderr",
     "output_type": "stream",
     "text": [
      "100%|██████████| 438/438 [00:12<00:00, 35.58it/s, loss=0.0101] \n",
      "  0%|          | 0/438 [00:00<?, ?it/s]"
     ]
    },
    {
     "name": "stdout",
     "output_type": "stream",
     "text": [
      "Accuracy of the network on the test images: 99.96%\n"
     ]
    },
    {
     "name": "stderr",
     "output_type": "stream",
     "text": [
      "100%|██████████| 438/438 [00:12<00:00, 36.24it/s, loss=0.104]  \n",
      "  0%|          | 0/438 [00:00<?, ?it/s]"
     ]
    },
    {
     "name": "stdout",
     "output_type": "stream",
     "text": [
      "Accuracy of the network on the test images: 99.89%\n"
     ]
    },
    {
     "name": "stderr",
     "output_type": "stream",
     "text": [
      "100%|██████████| 438/438 [00:12<00:00, 36.21it/s, loss=0.016]  \n"
     ]
    },
    {
     "name": "stdout",
     "output_type": "stream",
     "text": [
      "Accuracy of the network on the test images: 100.00%\n",
      "fruit\n"
     ]
    },
    {
     "name": "stderr",
     "output_type": "stream",
     "text": [
      "100%|██████████| 2000/2000 [00:55<00:00, 35.91it/s, loss=0.00187] \n"
     ]
    },
    {
     "name": "stdout",
     "output_type": "stream",
     "text": [
      "Accuracy of the shape network on the test images: 99.92%\n",
      "LSUNCrop\n",
      "{'AUROC': 0.9999201893806458, 'AUPR-IN': 0.9999774098396301, 'AUPR-OUT': 0.9997282028198242, 'FPR95TPR': 0.0, 'Method': 'ViM', 'Dataset': 'LSUNCrop'}\n",
      "LSUNResize\n",
      "{'AUROC': 0.9999998807907104, 'AUPR-IN': 0.9999999403953552, 'AUPR-OUT': 0.9999996423721313, 'FPR95TPR': 0.0, 'Method': 'ViM', 'Dataset': 'LSUNResize'}\n",
      "Textures\n",
      "{'AUROC': 0.9999940395355225, 'AUPR-IN': 0.999997079372406, 'AUPR-OUT': 0.9999886155128479, 'FPR95TPR': 0.0, 'Method': 'ViM', 'Dataset': 'Textures'}\n",
      "TinyImageNetCrop\n",
      "{'AUROC': 0.9999749660491943, 'AUPR-IN': 0.9999929070472717, 'AUPR-OUT': 0.9999142289161682, 'FPR95TPR': 0.0, 'Method': 'ViM', 'Dataset': 'TinyImageNetCrop'}\n",
      "TinyImageNetResize\n",
      "{'AUROC': 0.9999989867210388, 'AUPR-IN': 0.9999995827674866, 'AUPR-OUT': 0.9999969005584717, 'FPR95TPR': 0.0, 'Method': 'ViM', 'Dataset': 'TinyImageNetResize'}\n",
      "LSUNCrop\n",
      "{'AUROC': 0.9999001622200012, 'AUPR-IN': 0.9999716877937317, 'AUPR-OUT': 0.999648928642273, 'FPR95TPR': 0.0, 'Method': 'Mahalanobis', 'Dataset': 'LSUNCrop'}\n",
      "LSUNResize\n",
      "{'AUROC': 1.0, 'AUPR-IN': 1.0, 'AUPR-OUT': 1.0, 'FPR95TPR': 0.0, 'Method': 'Mahalanobis', 'Dataset': 'LSUNResize'}\n",
      "Textures\n",
      "{'AUROC': 0.9999648928642273, 'AUPR-IN': 0.9999826550483704, 'AUPR-OUT': 0.9999289512634277, 'FPR95TPR': 0.0, 'Method': 'Mahalanobis', 'Dataset': 'Textures'}\n",
      "TinyImageNetCrop\n",
      "{'AUROC': 0.9999667406082153, 'AUPR-IN': 0.9999905824661255, 'AUPR-OUT': 0.9998835325241089, 'FPR95TPR': 0.0, 'Method': 'Mahalanobis', 'Dataset': 'TinyImageNetCrop'}\n",
      "TinyImageNetResize\n",
      "{'AUROC': 0.9999988079071045, 'AUPR-IN': 0.9999997019767761, 'AUPR-OUT': 0.9999955892562866, 'FPR95TPR': 0.0, 'Method': 'Mahalanobis', 'Dataset': 'TinyImageNetResize'}\n",
      "LSUNCrop\n",
      "{'AUROC': 0.9898368120193481, 'AUPR-IN': 0.9972307085990906, 'AUPR-OUT': 0.9603368043899536, 'FPR95TPR': 0.025928521528840065, 'Method': 'Entropy', 'Dataset': 'LSUNCrop'}\n",
      "LSUNResize\n",
      "{'AUROC': 0.9973959922790527, 'AUPR-IN': 0.9991965293884277, 'AUPR-OUT': 0.9928231239318848, 'FPR95TPR': 0.008409250527620316, 'Method': 'Entropy', 'Dataset': 'LSUNResize'}\n",
      "Textures\n",
      "{'AUROC': 0.9786981344223022, 'AUPR-IN': 0.9903246164321899, 'AUPR-OUT': 0.9461140632629395, 'FPR95TPR': 0.0732305571436882, 'Method': 'Entropy', 'Dataset': 'Textures'}\n",
      "TinyImageNetCrop\n",
      "{'AUROC': 0.9931004643440247, 'AUPR-IN': 0.9980252981185913, 'AUPR-OUT': 0.9762763381004333, 'FPR95TPR': 0.020672740414738655, 'Method': 'Entropy', 'Dataset': 'TinyImageNetCrop'}\n",
      "TinyImageNetResize\n",
      "{'AUROC': 0.9958257675170898, 'AUPR-IN': 0.9987470507621765, 'AUPR-OUT': 0.987556517124176, 'FPR95TPR': 0.011913103982806206, 'Method': 'Entropy', 'Dataset': 'TinyImageNetResize'}\n",
      "LSUNCrop\n",
      "{'AUROC': 1.0, 'AUPR-IN': 1.0, 'AUPR-OUT': 1.0, 'FPR95TPR': 0.0, 'Method': 'LogicOOD+', 'Dataset': 'LSUNCrop'}\n",
      "LSUNResize\n",
      "{'AUROC': 1.0, 'AUPR-IN': 1.0, 'AUPR-OUT': 1.0, 'FPR95TPR': 0.0, 'Method': 'LogicOOD+', 'Dataset': 'LSUNResize'}\n",
      "Textures\n",
      "{'AUROC': 0.9999963045120239, 'AUPR-IN': 0.9999980926513672, 'AUPR-OUT': 0.9999924898147583, 'FPR95TPR': 0.0, 'Method': 'LogicOOD+', 'Dataset': 'Textures'}\n",
      "TinyImageNetCrop\n",
      "{'AUROC': 1.0, 'AUPR-IN': 1.0, 'AUPR-OUT': 1.0, 'FPR95TPR': 0.0, 'Method': 'LogicOOD+', 'Dataset': 'TinyImageNetCrop'}\n",
      "TinyImageNetResize\n",
      "{'AUROC': 1.0, 'AUPR-IN': 1.0, 'AUPR-OUT': 1.0, 'FPR95TPR': 0.0, 'Method': 'LogicOOD+', 'Dataset': 'TinyImageNetResize'}\n",
      "LSUNCrop\n",
      "{'AUROC': 0.7552499771118164, 'AUPR-IN': 0.9456576108932495, 'AUPR-OUT': 0.6841527819633484, 'FPR95TPR': 1.0, 'Method': 'Logic', 'Dataset': 'LSUNCrop'}\n",
      "LSUNResize\n",
      "{'AUROC': 0.6617500185966492, 'AUPR-IN': 0.9248976707458496, 'AUPR-OUT': 0.6483522057533264, 'FPR95TPR': 1.0, 'Method': 'Logic', 'Dataset': 'LSUNResize'}\n",
      "Textures\n",
      "{'AUROC': 0.6997340321540833, 'AUPR-IN': 0.8991100788116455, 'AUPR-OUT': 0.7286492586135864, 'FPR95TPR': 1.0, 'Method': 'Logic', 'Dataset': 'Textures'}\n",
      "TinyImageNetCrop\n",
      "{'AUROC': 0.7245000004768372, 'AUPR-IN': 0.9388301372528076, 'AUPR-OUT': 0.6706121563911438, 'FPR95TPR': 1.0, 'Method': 'Logic', 'Dataset': 'TinyImageNetCrop'}\n",
      "TinyImageNetResize\n",
      "{'AUROC': 0.6496999859809875, 'AUPR-IN': 0.9222221374511719, 'AUPR-OUT': 0.6447261571884155, 'FPR95TPR': 1.0, 'Method': 'Logic', 'Dataset': 'TinyImageNetResize'}\n",
      "LSUNCrop\n",
      "{'AUROC': 1.0, 'AUPR-IN': 1.0, 'AUPR-OUT': 1.0, 'FPR95TPR': 0.0, 'Method': 'Logic+', 'Dataset': 'LSUNCrop'}\n",
      "LSUNResize\n",
      "{'AUROC': 1.0, 'AUPR-IN': 1.0, 'AUPR-OUT': 1.0, 'FPR95TPR': 0.0, 'Method': 'Logic+', 'Dataset': 'LSUNResize'}\n",
      "Textures\n",
      "{'AUROC': 0.9977836608886719, 'AUPR-IN': 0.9992552995681763, 'AUPR-OUT': 0.9956582188606262, 'FPR95TPR': 0.0, 'Method': 'Logic+', 'Dataset': 'Textures'}\n",
      "TinyImageNetCrop\n",
      "{'AUROC': 1.0, 'AUPR-IN': 1.0, 'AUPR-OUT': 1.0, 'FPR95TPR': 0.0, 'Method': 'Logic+', 'Dataset': 'TinyImageNetCrop'}\n",
      "TinyImageNetResize\n",
      "{'AUROC': 1.0, 'AUPR-IN': 1.0, 'AUPR-OUT': 1.0, 'FPR95TPR': 0.0, 'Method': 'Logic+', 'Dataset': 'TinyImageNetResize'}\n",
      "LSUNCrop\n",
      "{'AUROC': 0.9957014322280884, 'AUPR-IN': 0.9988223910331726, 'AUPR-OUT': 0.9827302694320679, 'FPR95TPR': 0.015066573396325111, 'Method': 'LogicOOD', 'Dataset': 'LSUNCrop'}\n",
      "LSUNResize\n",
      "{'AUROC': 0.996820330619812, 'AUPR-IN': 0.9990611672401428, 'AUPR-OUT': 0.9906116724014282, 'FPR95TPR': 0.01576734334230423, 'Method': 'LogicOOD', 'Dataset': 'LSUNResize'}\n",
      "Textures\n",
      "{'AUROC': 0.9843243956565857, 'AUPR-IN': 0.9930384159088135, 'AUPR-OUT': 0.955363392829895, 'FPR95TPR': 0.05606166645884514, 'Method': 'LogicOOD', 'Dataset': 'Textures'}\n",
      "TinyImageNetCrop\n",
      "{'AUROC': 0.9949004650115967, 'AUPR-IN': 0.9985596537590027, 'AUPR-OUT': 0.9825225472450256, 'FPR95TPR': 0.02102312631905079, 'Method': 'LogicOOD', 'Dataset': 'TinyImageNetCrop'}\n",
      "TinyImageNetResize\n",
      "{'AUROC': 0.9945523142814636, 'AUPR-IN': 0.9983987212181091, 'AUPR-OUT': 0.9837180376052856, 'FPR95TPR': 0.026629291474819183, 'Method': 'LogicOOD', 'Dataset': 'TinyImageNetResize'}\n",
      "LSUNCrop\n",
      "{'AUROC': 0.9952561259269714, 'AUPR-IN': 0.9986802339553833, 'AUPR-OUT': 0.9817957282066345, 'FPR95TPR': 0.01681850105524063, 'Method': 'Ensemble', 'Dataset': 'LSUNCrop'}\n",
      "LSUNResize\n",
      "{'AUROC': 0.9965053796768188, 'AUPR-IN': 0.9989436268806458, 'AUPR-OUT': 0.9901820421218872, 'FPR95TPR': 0.01681850105524063, 'Method': 'Ensemble', 'Dataset': 'LSUNResize'}\n",
      "Textures\n",
      "{'AUROC': 0.9833763837814331, 'AUPR-IN': 0.992458701133728, 'AUPR-OUT': 0.9541501998901367, 'FPR95TPR': 0.059215135872364044, 'Method': 'Ensemble', 'Dataset': 'Textures'}\n",
      "TinyImageNetCrop\n",
      "{'AUROC': 0.9941204786300659, 'AUPR-IN': 0.998299777507782, 'AUPR-OUT': 0.9809825420379639, 'FPR95TPR': 0.025928521528840065, 'Method': 'Ensemble', 'Dataset': 'TinyImageNetCrop'}\n",
      "TinyImageNetResize\n",
      "{'AUROC': 0.9942931532859802, 'AUPR-IN': 0.9982988238334656, 'AUPR-OUT': 0.9833891987800598, 'FPR95TPR': 0.026629291474819183, 'Method': 'Ensemble', 'Dataset': 'TinyImageNetResize'}\n",
      "LSUNCrop\n",
      "{'AUROC': 0.9898421168327332, 'AUPR-IN': 0.9972091317176819, 'AUPR-OUT': 0.9608418941497803, 'FPR95TPR': 0.026979677379131317, 'Method': 'MSP', 'Dataset': 'LSUNCrop'}\n",
      "LSUNResize\n",
      "{'AUROC': 0.9971131682395935, 'AUPR-IN': 0.999077558517456, 'AUPR-OUT': 0.9926425814628601, 'FPR95TPR': 0.009810792282223701, 'Method': 'MSP', 'Dataset': 'LSUNResize'}\n",
      "Textures\n",
      "{'AUROC': 0.9794022440910339, 'AUPR-IN': 0.990571141242981, 'AUPR-OUT': 0.9482468366622925, 'FPR95TPR': 0.06271898746490479, 'Method': 'MSP', 'Dataset': 'Textures'}\n",
      "TinyImageNetCrop\n",
      "{'AUROC': 0.993099570274353, 'AUPR-IN': 0.9979926943778992, 'AUPR-OUT': 0.9769594669342041, 'FPR95TPR': 0.01927119866013527, 'Method': 'MSP', 'Dataset': 'TinyImageNetCrop'}\n",
      "TinyImageNetResize\n",
      "{'AUROC': 0.9955916404724121, 'AUPR-IN': 0.9986352324485779, 'AUPR-OUT': 0.9876218438148499, 'FPR95TPR': 0.012964260764420033, 'Method': 'MSP', 'Dataset': 'TinyImageNetResize'}\n",
      "LSUNCrop\n",
      "{'AUROC': 0.9886307716369629, 'AUPR-IN': 0.9969302415847778, 'AUPR-OUT': 0.9550560712814331, 'FPR95TPR': 0.026629291474819183, 'Method': 'Energy', 'Dataset': 'LSUNCrop'}\n",
      "LSUNResize\n",
      "{'AUROC': 0.9970192909240723, 'AUPR-IN': 0.9991490840911865, 'AUPR-OUT': 0.9894558787345886, 'FPR95TPR': 0.007358093746006489, 'Method': 'Energy', 'Dataset': 'LSUNResize'}\n",
      "Textures\n",
      "{'AUROC': 0.960690975189209, 'AUPR-IN': 0.9823105335235596, 'AUPR-OUT': 0.9042574763298035, 'FPR95TPR': 0.2652417719364166, 'Method': 'Energy', 'Dataset': 'Textures'}\n",
      "TinyImageNetCrop\n",
      "{'AUROC': 0.9885121583938599, 'AUPR-IN': 0.9968090653419495, 'AUPR-OUT': 0.9576737284660339, 'FPR95TPR': 0.031184302642941475, 'Method': 'Energy', 'Dataset': 'TinyImageNetCrop'}\n",
      "TinyImageNetResize\n",
      "{'AUROC': 0.9948362112045288, 'AUPR-IN': 0.9985311031341553, 'AUPR-OUT': 0.9824028015136719, 'FPR95TPR': 0.01226348988711834, 'Method': 'Energy', 'Dataset': 'TinyImageNetResize'}\n",
      "LSUNCrop\n",
      "{'AUROC': 0.9886435270309448, 'AUPR-IN': 0.996932864189148, 'AUPR-OUT': 0.9551161527633667, 'FPR95TPR': 0.025928521528840065, 'Method': 'MaxLogit', 'Dataset': 'LSUNCrop'}\n",
      "LSUNResize\n",
      "{'AUROC': 0.9969947338104248, 'AUPR-IN': 0.9991394281387329, 'AUPR-OUT': 0.9894556999206543, 'FPR95TPR': 0.007007708307355642, 'Method': 'MaxLogit', 'Dataset': 'LSUNResize'}\n",
      "Textures\n",
      "{'AUROC': 0.9613794684410095, 'AUPR-IN': 0.9827108979225159, 'AUPR-OUT': 0.9052192568778992, 'FPR95TPR': 0.26243868470191956, 'Method': 'MaxLogit', 'Dataset': 'Textures'}\n",
      "TinyImageNetCrop\n",
      "{'AUROC': 0.9886655807495117, 'AUPR-IN': 0.996859610080719, 'AUPR-OUT': 0.9580428004264832, 'FPR95TPR': 0.031184302642941475, 'Method': 'MaxLogit', 'Dataset': 'TinyImageNetCrop'}\n",
      "TinyImageNetResize\n"
     ]
    },
    {
     "name": "stderr",
     "output_type": "stream",
     "text": [
      "  0%|          | 0/438 [00:00<?, ?it/s]"
     ]
    },
    {
     "name": "stdout",
     "output_type": "stream",
     "text": [
      "{'AUROC': 0.9948320984840393, 'AUPR-IN': 0.998527467250824, 'AUPR-OUT': 0.9824684262275696, 'FPR95TPR': 0.011913103982806206, 'Method': 'MaxLogit', 'Dataset': 'TinyImageNetResize'}\n",
      "label\n"
     ]
    },
    {
     "name": "stderr",
     "output_type": "stream",
     "text": [
      "100%|██████████| 438/438 [00:11<00:00, 36.67it/s, loss=0.0618]\n",
      "  0%|          | 0/438 [00:00<?, ?it/s]"
     ]
    },
    {
     "name": "stdout",
     "output_type": "stream",
     "text": [
      "Accuracy of the network on the test images: 96.67%\n"
     ]
    },
    {
     "name": "stderr",
     "output_type": "stream",
     "text": [
      "100%|██████████| 438/438 [00:12<00:00, 36.17it/s, loss=0.0211]\n",
      "  0%|          | 0/438 [00:00<?, ?it/s]"
     ]
    },
    {
     "name": "stdout",
     "output_type": "stream",
     "text": [
      "Accuracy of the network on the test images: 99.12%\n"
     ]
    },
    {
     "name": "stderr",
     "output_type": "stream",
     "text": [
      "100%|██████████| 438/438 [00:12<00:00, 36.01it/s, loss=0.00945]\n",
      "  0%|          | 0/438 [00:00<?, ?it/s]"
     ]
    },
    {
     "name": "stdout",
     "output_type": "stream",
     "text": [
      "Accuracy of the network on the test images: 99.40%\n"
     ]
    },
    {
     "name": "stderr",
     "output_type": "stream",
     "text": [
      "100%|██████████| 438/438 [00:12<00:00, 36.00it/s, loss=0.0119] \n",
      "  0%|          | 0/438 [00:00<?, ?it/s]"
     ]
    },
    {
     "name": "stdout",
     "output_type": "stream",
     "text": [
      "Accuracy of the network on the test images: 99.79%\n"
     ]
    },
    {
     "name": "stderr",
     "output_type": "stream",
     "text": [
      "100%|██████████| 438/438 [00:12<00:00, 35.81it/s, loss=0.0108] \n",
      "  0%|          | 0/438 [00:00<?, ?it/s]"
     ]
    },
    {
     "name": "stdout",
     "output_type": "stream",
     "text": [
      "Accuracy of the network on the test images: 99.96%\n",
      "color\n"
     ]
    },
    {
     "name": "stderr",
     "output_type": "stream",
     "text": [
      "100%|██████████| 438/438 [00:12<00:00, 35.27it/s, loss=0.0175]\n",
      "  0%|          | 0/438 [00:00<?, ?it/s]"
     ]
    },
    {
     "name": "stdout",
     "output_type": "stream",
     "text": [
      "Accuracy of the network on the test images: 98.74%\n"
     ]
    },
    {
     "name": "stderr",
     "output_type": "stream",
     "text": [
      "100%|██████████| 438/438 [00:12<00:00, 35.88it/s, loss=0.129]  \n",
      "  0%|          | 0/438 [00:00<?, ?it/s]"
     ]
    },
    {
     "name": "stdout",
     "output_type": "stream",
     "text": [
      "Accuracy of the network on the test images: 98.39%\n"
     ]
    },
    {
     "name": "stderr",
     "output_type": "stream",
     "text": [
      "100%|██████████| 438/438 [00:12<00:00, 35.85it/s, loss=0.0261] \n",
      "  0%|          | 0/438 [00:00<?, ?it/s]"
     ]
    },
    {
     "name": "stdout",
     "output_type": "stream",
     "text": [
      "Accuracy of the network on the test images: 99.86%\n"
     ]
    },
    {
     "name": "stderr",
     "output_type": "stream",
     "text": [
      "100%|██████████| 438/438 [00:12<00:00, 36.09it/s, loss=0.0401] \n",
      "  0%|          | 0/438 [00:00<?, ?it/s]"
     ]
    },
    {
     "name": "stdout",
     "output_type": "stream",
     "text": [
      "Accuracy of the network on the test images: 99.75%\n"
     ]
    },
    {
     "name": "stderr",
     "output_type": "stream",
     "text": [
      "100%|██████████| 438/438 [00:12<00:00, 35.70it/s, loss=0.0077] \n"
     ]
    },
    {
     "name": "stdout",
     "output_type": "stream",
     "text": [
      "Accuracy of the network on the test images: 100.00%\n",
      "fruit\n"
     ]
    },
    {
     "name": "stderr",
     "output_type": "stream",
     "text": [
      "100%|██████████| 2000/2000 [00:55<00:00, 35.75it/s, loss=0.00386] \n"
     ]
    },
    {
     "name": "stdout",
     "output_type": "stream",
     "text": [
      "Accuracy of the shape network on the test images: 99.90%\n",
      "LSUNCrop\n",
      "{'AUROC': 0.9999932050704956, 'AUPR-IN': 0.9999979138374329, 'AUPR-OUT': 0.9999763369560242, 'FPR95TPR': 0.0, 'Method': 'ViM', 'Dataset': 'LSUNCrop'}\n",
      "LSUNResize\n",
      "{'AUROC': 0.9999998807907104, 'AUPR-IN': 0.9999999403953552, 'AUPR-OUT': 0.9999996423721313, 'FPR95TPR': 0.0, 'Method': 'ViM', 'Dataset': 'LSUNResize'}\n",
      "Textures\n",
      "{'AUROC': 0.9999988675117493, 'AUPR-IN': 0.9999993443489075, 'AUPR-OUT': 0.9999977350234985, 'FPR95TPR': 0.0, 'Method': 'ViM', 'Dataset': 'Textures'}\n",
      "TinyImageNetCrop\n",
      "{'AUROC': 0.9999927282333374, 'AUPR-IN': 0.9999979138374329, 'AUPR-OUT': 0.9999746084213257, 'FPR95TPR': 0.0, 'Method': 'ViM', 'Dataset': 'TinyImageNetCrop'}\n",
      "TinyImageNetResize\n",
      "{'AUROC': 0.9999996423721313, 'AUPR-IN': 0.9999998807907104, 'AUPR-OUT': 0.9999985694885254, 'FPR95TPR': 0.0, 'Method': 'ViM', 'Dataset': 'TinyImageNetResize'}\n",
      "LSUNCrop\n",
      "{'AUROC': 0.9999626874923706, 'AUPR-IN': 0.9999893307685852, 'AUPR-OUT': 0.9998713731765747, 'FPR95TPR': 0.0, 'Method': 'Mahalanobis', 'Dataset': 'LSUNCrop'}\n",
      "LSUNResize\n",
      "{'AUROC': 0.9999993443489075, 'AUPR-IN': 0.9999998211860657, 'AUPR-OUT': 0.9999976754188538, 'FPR95TPR': 0.0, 'Method': 'Mahalanobis', 'Dataset': 'LSUNResize'}\n",
      "Textures\n",
      "{'AUROC': 0.9999778866767883, 'AUPR-IN': 0.999988853931427, 'AUPR-OUT': 0.9999560117721558, 'FPR95TPR': 0.0, 'Method': 'Mahalanobis', 'Dataset': 'Textures'}\n",
      "TinyImageNetCrop\n",
      "{'AUROC': 0.9999778866767883, 'AUPR-IN': 0.9999936819076538, 'AUPR-OUT': 0.9999228119850159, 'FPR95TPR': 0.0, 'Method': 'Mahalanobis', 'Dataset': 'TinyImageNetCrop'}\n",
      "TinyImageNetResize\n",
      "{'AUROC': 0.999999463558197, 'AUPR-IN': 0.9999999403953552, 'AUPR-OUT': 0.9999980926513672, 'FPR95TPR': 0.0, 'Method': 'Mahalanobis', 'Dataset': 'TinyImageNetResize'}\n",
      "LSUNCrop\n",
      "{'AUROC': 0.9948640465736389, 'AUPR-IN': 0.9985464811325073, 'AUPR-OUT': 0.9827969074249268, 'FPR95TPR': 0.024877365678548813, 'Method': 'Entropy', 'Dataset': 'LSUNCrop'}\n",
      "LSUNResize\n",
      "{'AUROC': 0.9858335256576538, 'AUPR-IN': 0.9960042238235474, 'AUPR-OUT': 0.949790358543396, 'FPR95TPR': 0.056762438267469406, 'Method': 'Entropy', 'Dataset': 'LSUNResize'}\n",
      "Textures\n",
      "{'AUROC': 0.975784420967102, 'AUPR-IN': 0.9887518882751465, 'AUPR-OUT': 0.9429489374160767, 'FPR95TPR': 0.10861948132514954, 'Method': 'Entropy', 'Dataset': 'Textures'}\n",
      "TinyImageNetCrop\n",
      "{'AUROC': 0.9917731285095215, 'AUPR-IN': 0.9976544380187988, 'AUPR-OUT': 0.972701907157898, 'FPR95TPR': 0.03538892790675163, 'Method': 'Entropy', 'Dataset': 'TinyImageNetCrop'}\n",
      "TinyImageNetResize\n",
      "{'AUROC': 0.9812427163124084, 'AUPR-IN': 0.9947436451911926, 'AUPR-OUT': 0.9286525845527649, 'FPR95TPR': 0.07743518054485321, 'Method': 'Entropy', 'Dataset': 'TinyImageNetResize'}\n",
      "LSUNCrop\n",
      "{'AUROC': 1.0, 'AUPR-IN': 1.0, 'AUPR-OUT': 1.0, 'FPR95TPR': 0.0, 'Method': 'LogicOOD+', 'Dataset': 'LSUNCrop'}\n",
      "LSUNResize\n",
      "{'AUROC': 1.0, 'AUPR-IN': 1.0, 'AUPR-OUT': 1.0, 'FPR95TPR': 0.0, 'Method': 'LogicOOD+', 'Dataset': 'LSUNResize'}\n",
      "Textures\n",
      "{'AUROC': 0.9999455809593201, 'AUPR-IN': 0.9999734163284302, 'AUPR-OUT': 0.9998879432678223, 'FPR95TPR': 0.0, 'Method': 'LogicOOD+', 'Dataset': 'Textures'}\n",
      "TinyImageNetCrop\n",
      "{'AUROC': 1.0, 'AUPR-IN': 1.0, 'AUPR-OUT': 1.0, 'FPR95TPR': 0.0, 'Method': 'LogicOOD+', 'Dataset': 'TinyImageNetCrop'}\n",
      "TinyImageNetResize\n",
      "{'AUROC': 1.0, 'AUPR-IN': 1.0, 'AUPR-OUT': 0.9999998211860657, 'FPR95TPR': 0.0, 'Method': 'LogicOOD+', 'Dataset': 'TinyImageNetResize'}\n",
      "LSUNCrop\n",
      "{'AUROC': 0.8269500136375427, 'AUPR-IN': 0.9615773558616638, 'AUPR-OUT': 0.7259699106216431, 'FPR95TPR': 1.0, 'Method': 'Logic', 'Dataset': 'LSUNCrop'}\n",
      "LSUNResize\n",
      "{'AUROC': 0.6908999681472778, 'AUPR-IN': 0.9313699007034302, 'AUPR-OUT': 0.6579238772392273, 'FPR95TPR': 1.0, 'Method': 'Logic', 'Dataset': 'LSUNResize'}\n",
      "Textures\n",
      "{'AUROC': 0.7433510422706604, 'AUPR-IN': 0.9137654900550842, 'AUPR-OUT': 0.7482171058654785, 'FPR95TPR': 1.0, 'Method': 'Logic', 'Dataset': 'Textures'}\n",
      "TinyImageNetCrop\n",
      "{'AUROC': 0.7357500195503235, 'AUPR-IN': 0.9413279891014099, 'AUPR-OUT': 0.6753286719322205, 'FPR95TPR': 1.0, 'Method': 'Logic', 'Dataset': 'TinyImageNetCrop'}\n",
      "TinyImageNetResize\n",
      "{'AUROC': 0.6957499980926514, 'AUPR-IN': 0.9324467182159424, 'AUPR-OUT': 0.6596375703811646, 'FPR95TPR': 1.0, 'Method': 'Logic', 'Dataset': 'TinyImageNetResize'}\n",
      "LSUNCrop\n",
      "{'AUROC': 1.0, 'AUPR-IN': 1.0, 'AUPR-OUT': 1.0, 'FPR95TPR': 0.0, 'Method': 'Logic+', 'Dataset': 'LSUNCrop'}\n",
      "LSUNResize\n",
      "{'AUROC': 1.0, 'AUPR-IN': 1.0, 'AUPR-OUT': 1.0, 'FPR95TPR': 0.0, 'Method': 'Logic+', 'Dataset': 'LSUNResize'}\n",
      "Textures\n",
      "{'AUROC': 0.9958333373069763, 'AUPR-IN': 0.9986000061035156, 'AUPR-OUT': 0.9918993711471558, 'FPR95TPR': 0.0, 'Method': 'Logic+', 'Dataset': 'Textures'}\n",
      "TinyImageNetCrop\n",
      "{'AUROC': 1.0, 'AUPR-IN': 1.0, 'AUPR-OUT': 1.0, 'FPR95TPR': 0.0, 'Method': 'Logic+', 'Dataset': 'TinyImageNetCrop'}\n",
      "TinyImageNetResize\n",
      "{'AUROC': 0.9999499917030334, 'AUPR-IN': 0.9999889135360718, 'AUPR-OUT': 0.9998248815536499, 'FPR95TPR': 0.0, 'Method': 'Logic+', 'Dataset': 'TinyImageNetResize'}\n",
      "LSUNCrop\n",
      "{'AUROC': 0.9975969791412354, 'AUPR-IN': 0.9993323683738708, 'AUPR-OUT': 0.9914116263389587, 'FPR95TPR': 0.004905396141111851, 'Method': 'LogicOOD', 'Dataset': 'LSUNCrop'}\n",
      "LSUNResize\n",
      "{'AUROC': 0.9961183071136475, 'AUPR-IN': 0.9988691210746765, 'AUPR-OUT': 0.9881527423858643, 'FPR95TPR': 0.01927119866013527, 'Method': 'LogicOOD', 'Dataset': 'LSUNResize'}\n",
      "Textures\n",
      "{'AUROC': 0.9880232810974121, 'AUPR-IN': 0.994409441947937, 'AUPR-OUT': 0.9721465110778809, 'FPR95TPR': 0.053959354758262634, 'Method': 'LogicOOD', 'Dataset': 'Textures'}\n",
      "TinyImageNetCrop\n",
      "{'AUROC': 0.995712399482727, 'AUPR-IN': 0.9987916946411133, 'AUPR-OUT': 0.9854729771614075, 'FPR95TPR': 0.01681850105524063, 'Method': 'LogicOOD', 'Dataset': 'TinyImageNetCrop'}\n",
      "TinyImageNetResize\n",
      "{'AUROC': 0.9943885803222656, 'AUPR-IN': 0.9983847141265869, 'AUPR-OUT': 0.9820148944854736, 'FPR95TPR': 0.025227749720215797, 'Method': 'LogicOOD', 'Dataset': 'TinyImageNetResize'}\n",
      "LSUNCrop\n",
      "{'AUROC': 0.997221052646637, 'AUPR-IN': 0.9992122650146484, 'AUPR-OUT': 0.9906350374221802, 'FPR95TPR': 0.007358093746006489, 'Method': 'Ensemble', 'Dataset': 'LSUNCrop'}\n",
      "LSUNResize\n",
      "{'AUROC': 0.9954788684844971, 'AUPR-IN': 0.9986491203308105, 'AUPR-OUT': 0.9869834184646606, 'FPR95TPR': 0.022424666211009026, 'Method': 'Ensemble', 'Dataset': 'LSUNResize'}\n",
      "Textures\n",
      "{'AUROC': 0.9865608811378479, 'AUPR-IN': 0.9934976100921631, 'AUPR-OUT': 0.9704053401947021, 'FPR95TPR': 0.06096706539392471, 'Method': 'Ensemble', 'Dataset': 'Textures'}\n",
      "TinyImageNetCrop\n",
      "{'AUROC': 0.9953011274337769, 'AUPR-IN': 0.9986522197723389, 'AUPR-OUT': 0.9847642183303833, 'FPR95TPR': 0.01927119866013527, 'Method': 'Ensemble', 'Dataset': 'TinyImageNetCrop'}\n",
      "TinyImageNetResize\n",
      "{'AUROC': 0.9933249950408936, 'AUPR-IN': 0.9980274438858032, 'AUPR-OUT': 0.9798180460929871, 'FPR95TPR': 0.03433777019381523, 'Method': 'Ensemble', 'Dataset': 'TinyImageNetResize'}\n",
      "LSUNCrop\n",
      "{'AUROC': 0.9941592216491699, 'AUPR-IN': 0.9982903003692627, 'AUPR-OUT': 0.9818128347396851, 'FPR95TPR': 0.025928521528840065, 'Method': 'MSP', 'Dataset': 'LSUNCrop'}\n",
      "LSUNResize\n",
      "{'AUROC': 0.9852574467658997, 'AUPR-IN': 0.9957204461097717, 'AUPR-OUT': 0.9501131772994995, 'FPR95TPR': 0.055711280554533005, 'Method': 'MSP', 'Dataset': 'LSUNResize'}\n",
      "Textures\n",
      "{'AUROC': 0.9752570390701294, 'AUPR-IN': 0.9881868362426758, 'AUPR-OUT': 0.9431408047676086, 'FPR95TPR': 0.10791870951652527, 'Method': 'MSP', 'Dataset': 'Textures'}\n",
      "TinyImageNetCrop\n",
      "{'AUROC': 0.9909502267837524, 'AUPR-IN': 0.9973286986351013, 'AUPR-OUT': 0.9717684388160706, 'FPR95TPR': 0.037140853703022, 'Method': 'MSP', 'Dataset': 'TinyImageNetCrop'}\n",
      "TinyImageNetResize\n",
      "{'AUROC': 0.9806323051452637, 'AUPR-IN': 0.9944242238998413, 'AUPR-OUT': 0.9293081760406494, 'FPR95TPR': 0.07673440873622894, 'Method': 'MSP', 'Dataset': 'TinyImageNetResize'}\n",
      "LSUNCrop\n",
      "{'AUROC': 0.9937930107116699, 'AUPR-IN': 0.9982710480690002, 'AUPR-OUT': 0.9784225821495056, 'FPR95TPR': 0.031184302642941475, 'Method': 'Energy', 'Dataset': 'LSUNCrop'}\n",
      "LSUNResize\n",
      "{'AUROC': 0.9813688397407532, 'AUPR-IN': 0.994788646697998, 'AUPR-OUT': 0.9335633516311646, 'FPR95TPR': 0.07708479464054108, 'Method': 'Energy', 'Dataset': 'LSUNResize'}\n",
      "Textures\n",
      "{'AUROC': 0.9700989723205566, 'AUPR-IN': 0.986023485660553, 'AUPR-OUT': 0.9323932528495789, 'FPR95TPR': 0.14821302890777588, 'Method': 'Energy', 'Dataset': 'Textures'}\n",
      "TinyImageNetCrop\n",
      "{'AUROC': 0.989790678024292, 'AUPR-IN': 0.9971415400505066, 'AUPR-OUT': 0.9644031524658203, 'FPR95TPR': 0.04555010423064232, 'Method': 'Energy', 'Dataset': 'TinyImageNetCrop'}\n",
      "TinyImageNetResize\n",
      "{'AUROC': 0.9754540324211121, 'AUPR-IN': 0.9931695461273193, 'AUPR-OUT': 0.9065324068069458, 'FPR95TPR': 0.10546601563692093, 'Method': 'Energy', 'Dataset': 'TinyImageNetResize'}\n",
      "LSUNCrop\n",
      "{'AUROC': 0.9938350319862366, 'AUPR-IN': 0.9982784986495972, 'AUPR-OUT': 0.9786885976791382, 'FPR95TPR': 0.03083391673862934, 'Method': 'MaxLogit', 'Dataset': 'LSUNCrop'}\n",
      "LSUNResize\n",
      "{'AUROC': 0.981472373008728, 'AUPR-IN': 0.9948145151138306, 'AUPR-OUT': 0.9338342547416687, 'FPR95TPR': 0.07638402283191681, 'Method': 'MaxLogit', 'Dataset': 'LSUNResize'}\n",
      "Textures\n",
      "{'AUROC': 0.9703717827796936, 'AUPR-IN': 0.9861626625061035, 'AUPR-OUT': 0.9327757358551025, 'FPR95TPR': 0.14821302890777588, 'Method': 'MaxLogit', 'Dataset': 'Textures'}\n",
      "TinyImageNetCrop\n",
      "{'AUROC': 0.9898286461830139, 'AUPR-IN': 0.9971466660499573, 'AUPR-OUT': 0.9646130800247192, 'FPR95TPR': 0.04484933242201805, 'Method': 'MaxLogit', 'Dataset': 'TinyImageNetCrop'}\n",
      "TinyImageNetResize\n"
     ]
    },
    {
     "name": "stderr",
     "output_type": "stream",
     "text": [
      "  0%|          | 0/438 [00:00<?, ?it/s]"
     ]
    },
    {
     "name": "stdout",
     "output_type": "stream",
     "text": [
      "{'AUROC': 0.9756123423576355, 'AUPR-IN': 0.9932126998901367, 'AUPR-OUT': 0.9068678617477417, 'FPR95TPR': 0.10476524382829666, 'Method': 'MaxLogit', 'Dataset': 'TinyImageNetResize'}\n",
      "label\n"
     ]
    },
    {
     "name": "stderr",
     "output_type": "stream",
     "text": [
      "100%|██████████| 438/438 [00:12<00:00, 36.30it/s, loss=0.0448]\n",
      "  0%|          | 0/438 [00:00<?, ?it/s]"
     ]
    },
    {
     "name": "stdout",
     "output_type": "stream",
     "text": [
      "Accuracy of the network on the test images: 97.48%\n"
     ]
    },
    {
     "name": "stderr",
     "output_type": "stream",
     "text": [
      "100%|██████████| 438/438 [00:12<00:00, 36.35it/s, loss=0.055] \n",
      "  0%|          | 0/438 [00:00<?, ?it/s]"
     ]
    },
    {
     "name": "stdout",
     "output_type": "stream",
     "text": [
      "Accuracy of the network on the test images: 97.34%\n"
     ]
    },
    {
     "name": "stderr",
     "output_type": "stream",
     "text": [
      "100%|██████████| 438/438 [00:12<00:00, 36.23it/s, loss=0.0201] \n",
      "  0%|          | 0/438 [00:00<?, ?it/s]"
     ]
    },
    {
     "name": "stdout",
     "output_type": "stream",
     "text": [
      "Accuracy of the network on the test images: 100.00%\n"
     ]
    },
    {
     "name": "stderr",
     "output_type": "stream",
     "text": [
      "100%|██████████| 438/438 [00:12<00:00, 36.28it/s, loss=0.016]  \n",
      "  0%|          | 0/438 [00:00<?, ?it/s]"
     ]
    },
    {
     "name": "stdout",
     "output_type": "stream",
     "text": [
      "Accuracy of the network on the test images: 99.96%\n"
     ]
    },
    {
     "name": "stderr",
     "output_type": "stream",
     "text": [
      "100%|██████████| 438/438 [00:12<00:00, 35.59it/s, loss=0.00694]\n",
      "  0%|          | 0/438 [00:00<?, ?it/s]"
     ]
    },
    {
     "name": "stdout",
     "output_type": "stream",
     "text": [
      "Accuracy of the network on the test images: 100.00%\n",
      "color\n"
     ]
    },
    {
     "name": "stderr",
     "output_type": "stream",
     "text": [
      "100%|██████████| 438/438 [00:12<00:00, 35.62it/s, loss=0.0268]\n",
      "  0%|          | 0/438 [00:00<?, ?it/s]"
     ]
    },
    {
     "name": "stdout",
     "output_type": "stream",
     "text": [
      "Accuracy of the network on the test images: 99.96%\n"
     ]
    },
    {
     "name": "stderr",
     "output_type": "stream",
     "text": [
      "100%|██████████| 438/438 [00:12<00:00, 36.03it/s, loss=0.022]  \n",
      "  0%|          | 0/438 [00:00<?, ?it/s]"
     ]
    },
    {
     "name": "stdout",
     "output_type": "stream",
     "text": [
      "Accuracy of the network on the test images: 100.00%\n"
     ]
    },
    {
     "name": "stderr",
     "output_type": "stream",
     "text": [
      "100%|██████████| 438/438 [00:12<00:00, 36.22it/s, loss=0.00701]\n",
      "  0%|          | 0/438 [00:00<?, ?it/s]"
     ]
    },
    {
     "name": "stdout",
     "output_type": "stream",
     "text": [
      "Accuracy of the network on the test images: 100.00%\n"
     ]
    },
    {
     "name": "stderr",
     "output_type": "stream",
     "text": [
      "100%|██████████| 438/438 [00:12<00:00, 35.60it/s, loss=0.00276]\n",
      "  0%|          | 0/438 [00:00<?, ?it/s]"
     ]
    },
    {
     "name": "stdout",
     "output_type": "stream",
     "text": [
      "Accuracy of the network on the test images: 100.00%\n"
     ]
    },
    {
     "name": "stderr",
     "output_type": "stream",
     "text": [
      "100%|██████████| 438/438 [00:12<00:00, 35.84it/s, loss=0.00823] \n"
     ]
    },
    {
     "name": "stdout",
     "output_type": "stream",
     "text": [
      "Accuracy of the network on the test images: 100.00%\n",
      "fruit\n"
     ]
    },
    {
     "name": "stderr",
     "output_type": "stream",
     "text": [
      "100%|██████████| 2000/2000 [00:55<00:00, 35.95it/s, loss=0.00226] \n"
     ]
    },
    {
     "name": "stdout",
     "output_type": "stream",
     "text": [
      "Accuracy of the shape network on the test images: 99.84%\n",
      "LSUNCrop\n",
      "{'AUROC': 0.9996182918548584, 'AUPR-IN': 0.9998903870582581, 'AUPR-OUT': 0.999853789806366, 'FPR95TPR': 0.000700770819094032, 'Method': 'ViM', 'Dataset': 'LSUNCrop'}\n",
      "LSUNResize\n",
      "{'AUROC': 0.9996490478515625, 'AUPR-IN': 0.9998998045921326, 'AUPR-OUT': 0.9999904632568359, 'FPR95TPR': 0.000700770819094032, 'Method': 'ViM', 'Dataset': 'LSUNResize'}\n",
      "Textures\n",
      "{'AUROC': 0.9996474981307983, 'AUPR-IN': 0.9998213648796082, 'AUPR-OUT': 0.9999922513961792, 'FPR95TPR': 0.000700770819094032, 'Method': 'ViM', 'Dataset': 'Textures'}\n",
      "TinyImageNetCrop\n",
      "{'AUROC': 0.9996339678764343, 'AUPR-IN': 0.9998946785926819, 'AUPR-OUT': 0.9999181628227234, 'FPR95TPR': 0.000700770819094032, 'Method': 'ViM', 'Dataset': 'TinyImageNetCrop'}\n",
      "TinyImageNetResize\n",
      "{'AUROC': 0.9996487498283386, 'AUPR-IN': 0.9998996257781982, 'AUPR-OUT': 0.9999912977218628, 'FPR95TPR': 0.000700770819094032, 'Method': 'ViM', 'Dataset': 'TinyImageNetResize'}\n",
      "LSUNCrop\n",
      "{'AUROC': 0.9996744394302368, 'AUPR-IN': 0.9999107718467712, 'AUPR-OUT': 0.9987434148788452, 'FPR95TPR': 0.0, 'Method': 'Mahalanobis', 'Dataset': 'LSUNCrop'}\n",
      "LSUNResize\n",
      "{'AUROC': 0.9999798536300659, 'AUPR-IN': 0.9999942779541016, 'AUPR-OUT': 0.9999300837516785, 'FPR95TPR': 0.0, 'Method': 'Mahalanobis', 'Dataset': 'LSUNResize'}\n",
      "Textures\n",
      "{'AUROC': 0.9999489188194275, 'AUPR-IN': 0.9999745488166809, 'AUPR-OUT': 0.9998980760574341, 'FPR95TPR': 0.0, 'Method': 'Mahalanobis', 'Dataset': 'Textures'}\n",
      "TinyImageNetCrop\n",
      "{'AUROC': 0.9997206926345825, 'AUPR-IN': 0.9999219179153442, 'AUPR-OUT': 0.9989948868751526, 'FPR95TPR': 0.0, 'Method': 'Mahalanobis', 'Dataset': 'TinyImageNetCrop'}\n",
      "TinyImageNetResize\n",
      "{'AUROC': 0.9999777674674988, 'AUPR-IN': 0.9999936819076538, 'AUPR-OUT': 0.9999213218688965, 'FPR95TPR': 0.0, 'Method': 'Mahalanobis', 'Dataset': 'TinyImageNetResize'}\n",
      "LSUNCrop\n",
      "{'AUROC': 0.9866807460784912, 'AUPR-IN': 0.9965137243270874, 'AUPR-OUT': 0.9412145614624023, 'FPR95TPR': 0.03363700211048126, 'Method': 'Entropy', 'Dataset': 'LSUNCrop'}\n",
      "LSUNResize\n",
      "{'AUROC': 0.9951246380805969, 'AUPR-IN': 0.9986259937286377, 'AUPR-OUT': 0.9833109378814697, 'FPR95TPR': 0.01576734334230423, 'Method': 'Entropy', 'Dataset': 'LSUNResize'}\n",
      "Textures\n",
      "{'AUROC': 0.9764478206634521, 'AUPR-IN': 0.9898289442062378, 'AUPR-OUT': 0.9383429884910583, 'FPR95TPR': 0.09845830500125885, 'Method': 'Entropy', 'Dataset': 'Textures'}\n",
      "TinyImageNetCrop\n",
      "{'AUROC': 0.9930571913719177, 'AUPR-IN': 0.9981364607810974, 'AUPR-OUT': 0.9715872406959534, 'FPR95TPR': 0.015066573396325111, 'Method': 'Entropy', 'Dataset': 'TinyImageNetCrop'}\n",
      "TinyImageNetResize\n",
      "{'AUROC': 0.9945931434631348, 'AUPR-IN': 0.9984931945800781, 'AUPR-OUT': 0.9804561138153076, 'FPR95TPR': 0.01576734334230423, 'Method': 'Entropy', 'Dataset': 'TinyImageNetResize'}\n",
      "LSUNCrop\n",
      "{'AUROC': 1.0, 'AUPR-IN': 1.0, 'AUPR-OUT': 0.9999999403953552, 'FPR95TPR': 0.0, 'Method': 'LogicOOD+', 'Dataset': 'LSUNCrop'}\n",
      "LSUNResize\n",
      "{'AUROC': 1.0, 'AUPR-IN': 1.0, 'AUPR-OUT': 0.9999999403953552, 'FPR95TPR': 0.0, 'Method': 'LogicOOD+', 'Dataset': 'LSUNResize'}\n",
      "Textures\n",
      "{'AUROC': 0.9999909400939941, 'AUPR-IN': 0.9999954700469971, 'AUPR-OUT': 0.9999821186065674, 'FPR95TPR': 0.0, 'Method': 'LogicOOD+', 'Dataset': 'Textures'}\n",
      "TinyImageNetCrop\n",
      "{'AUROC': 1.0, 'AUPR-IN': 1.0, 'AUPR-OUT': 0.9999999403953552, 'FPR95TPR': 0.0, 'Method': 'LogicOOD+', 'Dataset': 'TinyImageNetCrop'}\n",
      "TinyImageNetResize\n",
      "{'AUROC': 1.0, 'AUPR-IN': 1.0, 'AUPR-OUT': 1.0, 'FPR95TPR': 0.0, 'Method': 'LogicOOD+', 'Dataset': 'TinyImageNetResize'}\n",
      "LSUNCrop\n",
      "{'AUROC': 0.6148999929428101, 'AUPR-IN': 0.9144954681396484, 'AUPR-OUT': 0.6351838111877441, 'FPR95TPR': 1.0, 'Method': 'Logic', 'Dataset': 'LSUNCrop'}\n",
      "LSUNResize\n",
      "{'AUROC': 0.7826499938964844, 'AUPR-IN': 0.9517413377761841, 'AUPR-OUT': 0.6981669068336487, 'FPR95TPR': 1.0, 'Method': 'Logic', 'Dataset': 'LSUNResize'}\n",
      "Textures\n",
      "{'AUROC': 0.7080673575401306, 'AUPR-IN': 0.901910126209259, 'AUPR-OUT': 0.7321457862854004, 'FPR95TPR': 1.0, 'Method': 'Logic', 'Dataset': 'Textures'}\n",
      "TinyImageNetCrop\n",
      "{'AUROC': 0.7180500030517578, 'AUPR-IN': 0.9373980760574341, 'AUPR-OUT': 0.6680207252502441, 'FPR95TPR': 1.0, 'Method': 'Logic', 'Dataset': 'TinyImageNetCrop'}\n",
      "TinyImageNetResize\n",
      "{'AUROC': 0.7609000205993652, 'AUPR-IN': 0.9469121694564819, 'AUPR-OUT': 0.686877965927124, 'FPR95TPR': 1.0, 'Method': 'Logic', 'Dataset': 'TinyImageNetResize'}\n",
      "LSUNCrop\n",
      "{'AUROC': 1.0, 'AUPR-IN': 1.0, 'AUPR-OUT': 1.0, 'FPR95TPR': 0.0, 'Method': 'Logic+', 'Dataset': 'LSUNCrop'}\n",
      "LSUNResize\n",
      "{'AUROC': 1.0, 'AUPR-IN': 1.0, 'AUPR-OUT': 1.0, 'FPR95TPR': 0.0, 'Method': 'Logic+', 'Dataset': 'LSUNResize'}\n",
      "Textures\n",
      "{'AUROC': 0.9954787492752075, 'AUPR-IN': 0.9984808564186096, 'AUPR-OUT': 0.9912220239639282, 'FPR95TPR': 0.0, 'Method': 'Logic+', 'Dataset': 'Textures'}\n",
      "TinyImageNetCrop\n",
      "{'AUROC': 1.0, 'AUPR-IN': 1.0, 'AUPR-OUT': 1.0, 'FPR95TPR': 0.0, 'Method': 'Logic+', 'Dataset': 'TinyImageNetCrop'}\n",
      "TinyImageNetResize\n",
      "{'AUROC': 0.9999499917030334, 'AUPR-IN': 0.9999889135360718, 'AUPR-OUT': 0.9998248815536499, 'FPR95TPR': 0.0, 'Method': 'Logic+', 'Dataset': 'TinyImageNetResize'}\n",
      "LSUNCrop\n",
      "{'AUROC': 0.9913110136985779, 'AUPR-IN': 0.997629702091217, 'AUPR-OUT': 0.9676180481910706, 'FPR95TPR': 0.031184302642941475, 'Method': 'LogicOOD', 'Dataset': 'LSUNCrop'}\n",
      "LSUNResize\n",
      "{'AUROC': 0.998204231262207, 'AUPR-IN': 0.9994980692863464, 'AUPR-OUT': 0.9936811327934265, 'FPR95TPR': 0.0038542395923286676, 'Method': 'LogicOOD', 'Dataset': 'LSUNResize'}\n",
      "Textures\n",
      "{'AUROC': 0.9910701513290405, 'AUPR-IN': 0.995973527431488, 'AUPR-OUT': 0.9780303239822388, 'FPR95TPR': 0.030133146792650223, 'Method': 'LogicOOD', 'Dataset': 'Textures'}\n",
      "TinyImageNetCrop\n",
      "{'AUROC': 0.9973602294921875, 'AUPR-IN': 0.9992789030075073, 'AUPR-OUT': 0.9898764491081238, 'FPR95TPR': 0.005606166552752256, 'Method': 'LogicOOD', 'Dataset': 'TinyImageNetCrop'}\n",
      "TinyImageNetResize\n",
      "{'AUROC': 0.9969487190246582, 'AUPR-IN': 0.9991631507873535, 'AUPR-OUT': 0.9885149002075195, 'FPR95TPR': 0.007358093746006489, 'Method': 'LogicOOD', 'Dataset': 'TinyImageNetResize'}\n",
      "LSUNCrop\n",
      "{'AUROC': 0.9911762475967407, 'AUPR-IN': 0.997586727142334, 'AUPR-OUT': 0.9673396944999695, 'FPR95TPR': 0.03188507258892059, 'Method': 'Ensemble', 'Dataset': 'LSUNCrop'}\n",
      "LSUNResize\n",
      "{'AUROC': 0.997435450553894, 'AUPR-IN': 0.9992608428001404, 'AUPR-OUT': 0.9918786287307739, 'FPR95TPR': 0.010511563159525394, 'Method': 'Ensemble', 'Dataset': 'LSUNResize'}\n",
      "Textures\n",
      "{'AUROC': 0.9905810952186584, 'AUPR-IN': 0.9956990480422974, 'AUPR-OUT': 0.9773447513580322, 'FPR95TPR': 0.03363700211048126, 'Method': 'Ensemble', 'Dataset': 'Textures'}\n",
      "TinyImageNetCrop\n",
      "{'AUROC': 0.997156023979187, 'AUPR-IN': 0.9992159008979797, 'AUPR-OUT': 0.9894028902053833, 'FPR95TPR': 0.007358093746006489, 'Method': 'Ensemble', 'Dataset': 'TinyImageNetCrop'}\n",
      "TinyImageNetResize\n",
      "{'AUROC': 0.9961466789245605, 'AUPR-IN': 0.9989128708839417, 'AUPR-OUT': 0.9867311716079712, 'FPR95TPR': 0.014716187492012978, 'Method': 'Ensemble', 'Dataset': 'TinyImageNetResize'}\n",
      "LSUNCrop\n",
      "{'AUROC': 0.98613440990448, 'AUPR-IN': 0.9963487386703491, 'AUPR-OUT': 0.9392261505126953, 'FPR95TPR': 0.0350385420024395, 'Method': 'MSP', 'Dataset': 'LSUNCrop'}\n",
      "LSUNResize\n",
      "{'AUROC': 0.9948012232780457, 'AUPR-IN': 0.9985129237174988, 'AUPR-OUT': 0.9829006195068359, 'FPR95TPR': 0.018220042809844017, 'Method': 'MSP', 'Dataset': 'LSUNResize'}\n",
      "Textures\n",
      "{'AUROC': 0.9762154221534729, 'AUPR-IN': 0.9896489381790161, 'AUPR-OUT': 0.9381623268127441, 'FPR95TPR': 0.09985984861850739, 'Method': 'MSP', 'Dataset': 'Textures'}\n",
      "TinyImageNetCrop\n",
      "{'AUROC': 0.993015468120575, 'AUPR-IN': 0.9981016516685486, 'AUPR-OUT': 0.9723207354545593, 'FPR95TPR': 0.01681850105524063, 'Method': 'MSP', 'Dataset': 'TinyImageNetCrop'}\n",
      "TinyImageNetResize\n",
      "{'AUROC': 0.9944035410881042, 'AUPR-IN': 0.9984137415885925, 'AUPR-OUT': 0.9806764125823975, 'FPR95TPR': 0.017869656905531883, 'Method': 'MSP', 'Dataset': 'TinyImageNetResize'}\n",
      "LSUNCrop\n",
      "{'AUROC': 0.9889358878135681, 'AUPR-IN': 0.9970525503158569, 'AUPR-OUT': 0.9558340311050415, 'FPR95TPR': 0.03188507258892059, 'Method': 'Energy', 'Dataset': 'LSUNCrop'}\n",
      "LSUNResize\n",
      "{'AUROC': 0.9942553043365479, 'AUPR-IN': 0.998431921005249, 'AUPR-OUT': 0.9783977270126343, 'FPR95TPR': 0.01541695836931467, 'Method': 'Energy', 'Dataset': 'LSUNResize'}\n",
      "Textures\n",
      "{'AUROC': 0.9741154313087463, 'AUPR-IN': 0.9886606335639954, 'AUPR-OUT': 0.9354971647262573, 'FPR95TPR': 0.17238962650299072, 'Method': 'Energy', 'Dataset': 'Textures'}\n",
      "TinyImageNetCrop\n",
      "{'AUROC': 0.9888440370559692, 'AUPR-IN': 0.997070848941803, 'AUPR-OUT': 0.9511076211929321, 'FPR95TPR': 0.025227749720215797, 'Method': 'Energy', 'Dataset': 'TinyImageNetCrop'}\n",
      "TinyImageNetResize\n",
      "{'AUROC': 0.9915672540664673, 'AUPR-IN': 0.9977397322654724, 'AUPR-OUT': 0.9656727313995361, 'FPR95TPR': 0.021723896265029907, 'Method': 'Energy', 'Dataset': 'TinyImageNetResize'}\n",
      "LSUNCrop\n",
      "{'AUROC': 0.9889418482780457, 'AUPR-IN': 0.9970543384552002, 'AUPR-OUT': 0.955848217010498, 'FPR95TPR': 0.03153468668460846, 'Method': 'MaxLogit', 'Dataset': 'LSUNCrop'}\n",
      "LSUNResize\n",
      "{'AUROC': 0.994288444519043, 'AUPR-IN': 0.9984412789344788, 'AUPR-OUT': 0.9785099029541016, 'FPR95TPR': 0.01576734334230423, 'Method': 'MaxLogit', 'Dataset': 'LSUNResize'}\n",
      "Textures\n",
      "{'AUROC': 0.9742171168327332, 'AUPR-IN': 0.9887115955352783, 'AUPR-OUT': 0.935673713684082, 'FPR95TPR': 0.17238962650299072, 'Method': 'MaxLogit', 'Dataset': 'Textures'}\n",
      "TinyImageNetCrop\n",
      "{'AUROC': 0.9889373183250427, 'AUPR-IN': 0.9970977306365967, 'AUPR-OUT': 0.9513768553733826, 'FPR95TPR': 0.024176593869924545, 'Method': 'MaxLogit', 'Dataset': 'TinyImageNetCrop'}\n",
      "TinyImageNetResize\n"
     ]
    },
    {
     "name": "stderr",
     "output_type": "stream",
     "text": [
      "  0%|          | 0/438 [00:00<?, ?it/s]"
     ]
    },
    {
     "name": "stdout",
     "output_type": "stream",
     "text": [
      "{'AUROC': 0.9916251301765442, 'AUPR-IN': 0.9977561235427856, 'AUPR-OUT': 0.9658426642417908, 'FPR95TPR': 0.021373510360717773, 'Method': 'MaxLogit', 'Dataset': 'TinyImageNetResize'}\n",
      "label\n"
     ]
    },
    {
     "name": "stderr",
     "output_type": "stream",
     "text": [
      "100%|██████████| 438/438 [00:12<00:00, 36.44it/s, loss=0.045] \n",
      "  0%|          | 0/438 [00:00<?, ?it/s]"
     ]
    },
    {
     "name": "stdout",
     "output_type": "stream",
     "text": [
      "Accuracy of the network on the test images: 91.70%\n"
     ]
    },
    {
     "name": "stderr",
     "output_type": "stream",
     "text": [
      "100%|██████████| 438/438 [00:12<00:00, 36.46it/s, loss=0.0208]\n",
      "  0%|          | 0/438 [00:00<?, ?it/s]"
     ]
    },
    {
     "name": "stdout",
     "output_type": "stream",
     "text": [
      "Accuracy of the network on the test images: 98.88%\n"
     ]
    },
    {
     "name": "stderr",
     "output_type": "stream",
     "text": [
      "100%|██████████| 438/438 [00:12<00:00, 35.96it/s, loss=0.0143] \n",
      "  0%|          | 0/438 [00:00<?, ?it/s]"
     ]
    },
    {
     "name": "stdout",
     "output_type": "stream",
     "text": [
      "Accuracy of the network on the test images: 99.72%\n"
     ]
    },
    {
     "name": "stderr",
     "output_type": "stream",
     "text": [
      "100%|██████████| 438/438 [00:12<00:00, 36.04it/s, loss=0.0103] \n",
      "  0%|          | 0/438 [00:00<?, ?it/s]"
     ]
    },
    {
     "name": "stdout",
     "output_type": "stream",
     "text": [
      "Accuracy of the network on the test images: 98.35%\n"
     ]
    },
    {
     "name": "stderr",
     "output_type": "stream",
     "text": [
      "100%|██████████| 438/438 [00:12<00:00, 36.07it/s, loss=0.0485] \n",
      "  0%|          | 0/438 [00:00<?, ?it/s]"
     ]
    },
    {
     "name": "stdout",
     "output_type": "stream",
     "text": [
      "Accuracy of the network on the test images: 98.49%\n",
      "color\n"
     ]
    },
    {
     "name": "stderr",
     "output_type": "stream",
     "text": [
      "100%|██████████| 438/438 [00:12<00:00, 35.89it/s, loss=0.0753] \n",
      "  0%|          | 0/438 [00:00<?, ?it/s]"
     ]
    },
    {
     "name": "stdout",
     "output_type": "stream",
     "text": [
      "Accuracy of the network on the test images: 96.74%\n"
     ]
    },
    {
     "name": "stderr",
     "output_type": "stream",
     "text": [
      "100%|██████████| 438/438 [00:12<00:00, 36.08it/s, loss=0.0118] \n",
      "  0%|          | 0/438 [00:00<?, ?it/s]"
     ]
    },
    {
     "name": "stdout",
     "output_type": "stream",
     "text": [
      "Accuracy of the network on the test images: 99.23%\n"
     ]
    },
    {
     "name": "stderr",
     "output_type": "stream",
     "text": [
      "100%|██████████| 438/438 [00:12<00:00, 35.93it/s, loss=0.0166] \n",
      "  0%|          | 0/438 [00:00<?, ?it/s]"
     ]
    },
    {
     "name": "stdout",
     "output_type": "stream",
     "text": [
      "Accuracy of the network on the test images: 100.00%\n"
     ]
    },
    {
     "name": "stderr",
     "output_type": "stream",
     "text": [
      "100%|██████████| 438/438 [00:12<00:00, 35.97it/s, loss=0.00244]\n",
      "  0%|          | 0/438 [00:00<?, ?it/s]"
     ]
    },
    {
     "name": "stdout",
     "output_type": "stream",
     "text": [
      "Accuracy of the network on the test images: 99.93%\n"
     ]
    },
    {
     "name": "stderr",
     "output_type": "stream",
     "text": [
      "100%|██████████| 438/438 [00:12<00:00, 36.11it/s, loss=0.00232] \n"
     ]
    },
    {
     "name": "stdout",
     "output_type": "stream",
     "text": [
      "Accuracy of the network on the test images: 100.00%\n",
      "fruit\n"
     ]
    },
    {
     "name": "stderr",
     "output_type": "stream",
     "text": [
      "100%|██████████| 2000/2000 [00:55<00:00, 35.96it/s, loss=0.00261] \n"
     ]
    },
    {
     "name": "stdout",
     "output_type": "stream",
     "text": [
      "Accuracy of the shape network on the test images: 99.96%\n",
      "LSUNCrop\n",
      "{'AUROC': 0.989605724811554, 'AUPR-IN': 0.9971250295639038, 'AUPR-OUT': 0.9637423753738403, 'FPR95TPR': 0.04765241593122482, 'Method': 'ViM', 'Dataset': 'LSUNCrop'}\n",
      "LSUNResize\n",
      "{'AUROC': 0.9997286796569824, 'AUPR-IN': 0.9999234676361084, 'AUPR-OUT': 0.9996294379234314, 'FPR95TPR': 0.000350385409547016, 'Method': 'ViM', 'Dataset': 'LSUNResize'}\n",
      "Textures\n",
      "{'AUROC': 0.9974644184112549, 'AUPR-IN': 0.9988363981246948, 'AUPR-OUT': 0.9944780468940735, 'FPR95TPR': 0.000350385409547016, 'Method': 'ViM', 'Dataset': 'Textures'}\n",
      "TinyImageNetCrop\n",
      "{'AUROC': 0.9961258172988892, 'AUPR-IN': 0.9989482164382935, 'AUPR-OUT': 0.9855588674545288, 'FPR95TPR': 0.002803083276376128, 'Method': 'ViM', 'Dataset': 'TinyImageNetCrop'}\n",
      "TinyImageNetResize\n",
      "{'AUROC': 0.9994083642959595, 'AUPR-IN': 0.9998375177383423, 'AUPR-OUT': 0.9983282685279846, 'FPR95TPR': 0.000350385409547016, 'Method': 'ViM', 'Dataset': 'TinyImageNetResize'}\n",
      "LSUNCrop\n",
      "{'AUROC': 0.9747949838638306, 'AUPR-IN': 0.9930999875068665, 'AUPR-OUT': 0.9108312129974365, 'FPR95TPR': 0.18990890681743622, 'Method': 'Mahalanobis', 'Dataset': 'LSUNCrop'}\n",
      "LSUNResize\n",
      "{'AUROC': 0.999854564666748, 'AUPR-IN': 0.9999607801437378, 'AUPR-OUT': 0.999427855014801, 'FPR95TPR': 0.0, 'Method': 'Mahalanobis', 'Dataset': 'LSUNResize'}\n",
      "Textures\n",
      "{'AUROC': 0.9950581789016724, 'AUPR-IN': 0.9978099465370178, 'AUPR-OUT': 0.987989068031311, 'FPR95TPR': 0.000700770819094032, 'Method': 'Mahalanobis', 'Dataset': 'Textures'}\n",
      "TinyImageNetCrop\n",
      "{'AUROC': 0.9914918541908264, 'AUPR-IN': 0.9977525472640991, 'AUPR-OUT': 0.9650339484214783, 'FPR95TPR': 0.011562719009816647, 'Method': 'Mahalanobis', 'Dataset': 'TinyImageNetCrop'}\n",
      "TinyImageNetResize\n",
      "{'AUROC': 0.9993369579315186, 'AUPR-IN': 0.9998249411582947, 'AUPR-OUT': 0.9972227811813354, 'FPR95TPR': 0.0, 'Method': 'Mahalanobis', 'Dataset': 'TinyImageNetResize'}\n",
      "LSUNCrop\n",
      "{'AUROC': 0.9239262342453003, 'AUPR-IN': 0.9774227142333984, 'AUPR-OUT': 0.7743644714355469, 'FPR95TPR': 0.43868255615234375, 'Method': 'Entropy', 'Dataset': 'LSUNCrop'}\n",
      "LSUNResize\n",
      "{'AUROC': 0.984951913356781, 'AUPR-IN': 0.9954854249954224, 'AUPR-OUT': 0.9587680101394653, 'FPR95TPR': 0.08128941804170609, 'Method': 'Entropy', 'Dataset': 'LSUNResize'}\n",
      "Textures\n",
      "{'AUROC': 0.9356531500816345, 'AUPR-IN': 0.9675989151000977, 'AUPR-OUT': 0.8681247234344482, 'FPR95TPR': 0.3311142325401306, 'Method': 'Entropy', 'Dataset': 'Textures'}\n",
      "TinyImageNetCrop\n",
      "{'AUROC': 0.94403076171875, 'AUPR-IN': 0.9839385151863098, 'AUPR-OUT': 0.8144417405128479, 'FPR95TPR': 0.3237561285495758, 'Method': 'Entropy', 'Dataset': 'TinyImageNetCrop'}\n",
      "TinyImageNetResize\n",
      "{'AUROC': 0.980322003364563, 'AUPR-IN': 0.9942343831062317, 'AUPR-OUT': 0.9401414394378662, 'FPR95TPR': 0.09740714728832245, 'Method': 'Entropy', 'Dataset': 'TinyImageNetResize'}\n",
      "LSUNCrop\n",
      "{'AUROC': 0.9998247623443604, 'AUPR-IN': 0.9999499917030334, 'AUPR-OUT': 0.9998636245727539, 'FPR95TPR': 0.000350385409547016, 'Method': 'LogicOOD+', 'Dataset': 'LSUNCrop'}\n",
      "LSUNResize\n",
      "{'AUROC': 0.9998247623443604, 'AUPR-IN': 0.9999499917030334, 'AUPR-OUT': 0.9998636245727539, 'FPR95TPR': 0.000350385409547016, 'Method': 'LogicOOD+', 'Dataset': 'LSUNResize'}\n",
      "Textures\n",
      "{'AUROC': 0.9997700452804565, 'AUPR-IN': 0.999887228012085, 'AUPR-OUT': 0.9997555017471313, 'FPR95TPR': 0.000350385409547016, 'Method': 'LogicOOD+', 'Dataset': 'Textures'}\n",
      "TinyImageNetCrop\n",
      "{'AUROC': 0.9998247623443604, 'AUPR-IN': 0.9999499917030334, 'AUPR-OUT': 0.9998636245727539, 'FPR95TPR': 0.000350385409547016, 'Method': 'LogicOOD+', 'Dataset': 'TinyImageNetCrop'}\n",
      "TinyImageNetResize\n",
      "{'AUROC': 0.9998247623443604, 'AUPR-IN': 0.9999499917030334, 'AUPR-OUT': 0.9998636245727539, 'FPR95TPR': 0.000350385409547016, 'Method': 'LogicOOD+', 'Dataset': 'TinyImageNetResize'}\n",
      "LSUNCrop\n",
      "{'AUROC': 0.8565999865531921, 'AUPR-IN': 0.9681606292724609, 'AUPR-OUT': 0.7493883371353149, 'FPR95TPR': 1.0, 'Method': 'Logic', 'Dataset': 'LSUNCrop'}\n",
      "LSUNResize\n",
      "{'AUROC': 0.7803000211715698, 'AUPR-IN': 0.9512195587158203, 'AUPR-OUT': 0.696881890296936, 'FPR95TPR': 1.0, 'Method': 'Logic', 'Dataset': 'LSUNResize'}\n",
      "Textures\n",
      "{'AUROC': 0.7432624101638794, 'AUPR-IN': 0.9137356877326965, 'AUPR-OUT': 0.7481738924980164, 'FPR95TPR': 1.0, 'Method': 'Logic', 'Dataset': 'Textures'}\n",
      "TinyImageNetCrop\n",
      "{'AUROC': 0.7556999921798706, 'AUPR-IN': 0.9457575678825378, 'AUPR-OUT': 0.6843669414520264, 'FPR95TPR': 1.0, 'Method': 'Logic', 'Dataset': 'TinyImageNetCrop'}\n",
      "TinyImageNetResize\n",
      "{'AUROC': 0.7610999941825867, 'AUPR-IN': 0.9469565153121948, 'AUPR-OUT': 0.68697589635849, 'FPR95TPR': 1.0, 'Method': 'Logic', 'Dataset': 'TinyImageNetResize'}\n",
      "LSUNCrop\n",
      "{'AUROC': 0.9998248219490051, 'AUPR-IN': 0.9999499917030334, 'AUPR-OUT': 0.9998637437820435, 'FPR95TPR': 0.000350385409547016, 'Method': 'Logic+', 'Dataset': 'LSUNCrop'}\n",
      "LSUNResize\n",
      "{'AUROC': 0.9998248219490051, 'AUPR-IN': 0.9999499917030334, 'AUPR-OUT': 0.9998637437820435, 'FPR95TPR': 0.000350385409547016, 'Method': 'Logic+', 'Dataset': 'LSUNResize'}\n",
      "Textures\n",
      "{'AUROC': 0.9992929100990295, 'AUPR-IN': 0.9997326135635376, 'AUPR-OUT': 0.9988343715667725, 'FPR95TPR': 0.000350385409547016, 'Method': 'Logic+', 'Dataset': 'Textures'}\n",
      "TinyImageNetCrop\n",
      "{'AUROC': 0.9998248219490051, 'AUPR-IN': 0.9999499917030334, 'AUPR-OUT': 0.9998637437820435, 'FPR95TPR': 0.000350385409547016, 'Method': 'Logic+', 'Dataset': 'TinyImageNetCrop'}\n",
      "TinyImageNetResize\n",
      "{'AUROC': 0.9998248219490051, 'AUPR-IN': 0.9999499917030334, 'AUPR-OUT': 0.9998637437820435, 'FPR95TPR': 0.000350385409547016, 'Method': 'Logic+', 'Dataset': 'TinyImageNetResize'}\n",
      "LSUNCrop\n",
      "{'AUROC': 0.9962766170501709, 'AUPR-IN': 0.9989215135574341, 'AUPR-OUT': 0.9886968731880188, 'FPR95TPR': 0.021373510360717773, 'Method': 'LogicOOD', 'Dataset': 'LSUNCrop'}\n",
      "LSUNResize\n",
      "{'AUROC': 0.9946831464767456, 'AUPR-IN': 0.9984210729598999, 'AUPR-OUT': 0.9854430556297302, 'FPR95TPR': 0.034688156098127365, 'Method': 'LogicOOD', 'Dataset': 'LSUNResize'}\n",
      "Textures\n",
      "{'AUROC': 0.97791588306427, 'AUPR-IN': 0.9887840747833252, 'AUPR-OUT': 0.960206151008606, 'FPR95TPR': 0.11457603424787521, 'Method': 'LogicOOD', 'Dataset': 'Textures'}\n",
      "TinyImageNetCrop\n",
      "{'AUROC': 0.991715669631958, 'AUPR-IN': 0.9975297451019287, 'AUPR-OUT': 0.977625846862793, 'FPR95TPR': 0.04835318773984909, 'Method': 'LogicOOD', 'Dataset': 'TinyImageNetCrop'}\n",
      "TinyImageNetResize\n",
      "{'AUROC': 0.9927541017532349, 'AUPR-IN': 0.9978455901145935, 'AUPR-OUT': 0.9801666736602783, 'FPR95TPR': 0.04274702072143555, 'Method': 'LogicOOD', 'Dataset': 'TinyImageNetResize'}\n",
      "LSUNCrop\n",
      "{'AUROC': 0.9913780689239502, 'AUPR-IN': 0.9972166419029236, 'AUPR-OUT': 0.980726420879364, 'FPR95TPR': 0.039943937212228775, 'Method': 'Ensemble', 'Dataset': 'LSUNCrop'}\n",
      "LSUNResize\n",
      "{'AUROC': 0.9914996027946472, 'AUPR-IN': 0.9973041415214539, 'AUPR-OUT': 0.9806197881698608, 'FPR95TPR': 0.040995094925165176, 'Method': 'Ensemble', 'Dataset': 'LSUNResize'}\n",
      "Textures\n",
      "{'AUROC': 0.9711731672286987, 'AUPR-IN': 0.9841929078102112, 'AUPR-OUT': 0.9530946016311646, 'FPR95TPR': 0.12824106216430664, 'Method': 'Ensemble', 'Dataset': 'Textures'}\n",
      "TinyImageNetCrop\n",
      "{'AUROC': 0.9891380667686462, 'AUPR-IN': 0.9966163039207458, 'AUPR-OUT': 0.9736915230751038, 'FPR95TPR': 0.0536089688539505, 'Method': 'Ensemble', 'Dataset': 'TinyImageNetCrop'}\n",
      "TinyImageNetResize\n",
      "{'AUROC': 0.9897100329399109, 'AUPR-IN': 0.9967590570449829, 'AUPR-OUT': 0.9756669998168945, 'FPR95TPR': 0.049754731357097626, 'Method': 'Ensemble', 'Dataset': 'TinyImageNetResize'}\n",
      "LSUNCrop\n",
      "{'AUROC': 0.9204098582267761, 'AUPR-IN': 0.9747447967529297, 'AUPR-OUT': 0.775695264339447, 'FPR95TPR': 0.42501750588417053, 'Method': 'MSP', 'Dataset': 'LSUNCrop'}\n",
      "LSUNResize\n",
      "{'AUROC': 0.9780732989311218, 'AUPR-IN': 0.9926294684410095, 'AUPR-OUT': 0.9512607455253601, 'FPR95TPR': 0.08514365553855896, 'Method': 'MSP', 'Dataset': 'LSUNResize'}\n",
      "Textures\n",
      "{'AUROC': 0.930382490158081, 'AUPR-IN': 0.9624239206314087, 'AUPR-OUT': 0.8655368685722351, 'FPR95TPR': 0.32305535674095154, 'Method': 'MSP', 'Dataset': 'Textures'}\n",
      "TinyImageNetCrop\n",
      "{'AUROC': 0.9393370151519775, 'AUPR-IN': 0.9815731048583984, 'AUPR-OUT': 0.8120315074920654, 'FPR95TPR': 0.31990188360214233, 'Method': 'MSP', 'Dataset': 'TinyImageNetCrop'}\n",
      "TinyImageNetResize\n",
      "{'AUROC': 0.9741491675376892, 'AUPR-IN': 0.9916441440582275, 'AUPR-OUT': 0.9338757395744324, 'FPR95TPR': 0.09915907680988312, 'Method': 'MSP', 'Dataset': 'TinyImageNetResize'}\n",
      "LSUNCrop\n",
      "{'AUROC': 0.9223251938819885, 'AUPR-IN': 0.977109968662262, 'AUPR-OUT': 0.7880842089653015, 'FPR95TPR': 0.4442887306213379, 'Method': 'Energy', 'Dataset': 'LSUNCrop'}\n",
      "LSUNResize\n",
      "{'AUROC': 0.9893784523010254, 'AUPR-IN': 0.9969521164894104, 'AUPR-OUT': 0.9654552936553955, 'FPR95TPR': 0.051506657153367996, 'Method': 'Energy', 'Dataset': 'LSUNResize'}\n",
      "Textures\n",
      "{'AUROC': 0.9371533989906311, 'AUPR-IN': 0.9693360924720764, 'AUPR-OUT': 0.8728470802307129, 'FPR95TPR': 0.36650314927101135, 'Method': 'Energy', 'Dataset': 'Textures'}\n",
      "TinyImageNetCrop\n",
      "{'AUROC': 0.9507477283477783, 'AUPR-IN': 0.986158549785614, 'AUPR-OUT': 0.8397253751754761, 'FPR95TPR': 0.3433777093887329, 'Method': 'Energy', 'Dataset': 'TinyImageNetCrop'}\n",
      "TinyImageNetResize\n",
      "{'AUROC': 0.9820281863212585, 'AUPR-IN': 0.994884729385376, 'AUPR-OUT': 0.9406798481941223, 'FPR95TPR': 0.09845830500125885, 'Method': 'Energy', 'Dataset': 'TinyImageNetResize'}\n",
      "LSUNCrop\n",
      "{'AUROC': 0.9221850037574768, 'AUPR-IN': 0.9770121574401855, 'AUPR-OUT': 0.7881202697753906, 'FPR95TPR': 0.4442887306213379, 'Method': 'MaxLogit', 'Dataset': 'LSUNCrop'}\n",
      "LSUNResize\n",
      "{'AUROC': 0.9887604713439941, 'AUPR-IN': 0.996757984161377, 'AUPR-OUT': 0.9643067717552185, 'FPR95TPR': 0.05430974066257477, 'Method': 'MaxLogit', 'Dataset': 'LSUNResize'}\n",
      "Textures\n",
      "{'AUROC': 0.9366724491119385, 'AUPR-IN': 0.9689845442771912, 'AUPR-OUT': 0.8725368976593018, 'FPR95TPR': 0.3651016056537628, 'Method': 'MaxLogit', 'Dataset': 'Textures'}\n",
      "TinyImageNetCrop\n",
      "{'AUROC': 0.9501436948776245, 'AUPR-IN': 0.9859371185302734, 'AUPR-OUT': 0.839049220085144, 'FPR95TPR': 0.3444288671016693, 'Method': 'MaxLogit', 'Dataset': 'TinyImageNetCrop'}\n",
      "TinyImageNetResize\n"
     ]
    },
    {
     "name": "stderr",
     "output_type": "stream",
     "text": [
      "  0%|          | 0/438 [00:00<?, ?it/s]"
     ]
    },
    {
     "name": "stdout",
     "output_type": "stream",
     "text": [
      "{'AUROC': 0.981615424156189, 'AUPR-IN': 0.994752824306488, 'AUPR-OUT': 0.9400652647018433, 'FPR95TPR': 0.09950946271419525, 'Method': 'MaxLogit', 'Dataset': 'TinyImageNetResize'}\n",
      "label\n"
     ]
    },
    {
     "name": "stderr",
     "output_type": "stream",
     "text": [
      "100%|██████████| 438/438 [00:12<00:00, 36.25it/s, loss=0.0664]\n",
      "  0%|          | 0/438 [00:00<?, ?it/s]"
     ]
    },
    {
     "name": "stdout",
     "output_type": "stream",
     "text": [
      "Accuracy of the network on the test images: 96.74%\n"
     ]
    },
    {
     "name": "stderr",
     "output_type": "stream",
     "text": [
      "100%|██████████| 438/438 [00:12<00:00, 36.12it/s, loss=0.0219]\n",
      "  0%|          | 0/438 [00:00<?, ?it/s]"
     ]
    },
    {
     "name": "stdout",
     "output_type": "stream",
     "text": [
      "Accuracy of the network on the test images: 97.62%\n"
     ]
    },
    {
     "name": "stderr",
     "output_type": "stream",
     "text": [
      "100%|██████████| 438/438 [00:12<00:00, 36.13it/s, loss=0.105]  \n",
      "  0%|          | 0/438 [00:00<?, ?it/s]"
     ]
    },
    {
     "name": "stdout",
     "output_type": "stream",
     "text": [
      "Accuracy of the network on the test images: 95.62%\n"
     ]
    },
    {
     "name": "stderr",
     "output_type": "stream",
     "text": [
      "100%|██████████| 438/438 [00:12<00:00, 35.85it/s, loss=0.00919]\n",
      "  0%|          | 0/438 [00:00<?, ?it/s]"
     ]
    },
    {
     "name": "stdout",
     "output_type": "stream",
     "text": [
      "Accuracy of the network on the test images: 99.82%\n"
     ]
    },
    {
     "name": "stderr",
     "output_type": "stream",
     "text": [
      "100%|██████████| 438/438 [00:12<00:00, 36.11it/s, loss=0.0117] \n",
      "  0%|          | 0/438 [00:00<?, ?it/s]"
     ]
    },
    {
     "name": "stdout",
     "output_type": "stream",
     "text": [
      "Accuracy of the network on the test images: 99.89%\n",
      "color\n"
     ]
    },
    {
     "name": "stderr",
     "output_type": "stream",
     "text": [
      "100%|██████████| 438/438 [00:12<00:00, 36.05it/s, loss=0.0364]\n",
      "  0%|          | 0/438 [00:00<?, ?it/s]"
     ]
    },
    {
     "name": "stdout",
     "output_type": "stream",
     "text": [
      "Accuracy of the network on the test images: 93.69%\n"
     ]
    },
    {
     "name": "stderr",
     "output_type": "stream",
     "text": [
      "100%|██████████| 438/438 [00:12<00:00, 35.95it/s, loss=0.0322] \n",
      "  0%|          | 0/438 [00:00<?, ?it/s]"
     ]
    },
    {
     "name": "stdout",
     "output_type": "stream",
     "text": [
      "Accuracy of the network on the test images: 96.57%\n"
     ]
    },
    {
     "name": "stderr",
     "output_type": "stream",
     "text": [
      "100%|██████████| 438/438 [00:12<00:00, 36.22it/s, loss=0.00355]\n",
      "  0%|          | 0/438 [00:00<?, ?it/s]"
     ]
    },
    {
     "name": "stdout",
     "output_type": "stream",
     "text": [
      "Accuracy of the network on the test images: 99.54%\n"
     ]
    },
    {
     "name": "stderr",
     "output_type": "stream",
     "text": [
      "100%|██████████| 438/438 [00:12<00:00, 35.64it/s, loss=0.0103]  \n",
      "  0%|          | 0/438 [00:00<?, ?it/s]"
     ]
    },
    {
     "name": "stdout",
     "output_type": "stream",
     "text": [
      "Accuracy of the network on the test images: 99.23%\n"
     ]
    },
    {
     "name": "stderr",
     "output_type": "stream",
     "text": [
      "100%|██████████| 438/438 [00:12<00:00, 35.90it/s, loss=0.00543] \n"
     ]
    },
    {
     "name": "stdout",
     "output_type": "stream",
     "text": [
      "Accuracy of the network on the test images: 99.37%\n",
      "fruit\n"
     ]
    },
    {
     "name": "stderr",
     "output_type": "stream",
     "text": [
      "100%|██████████| 2000/2000 [00:55<00:00, 36.09it/s, loss=0.00172] \n"
     ]
    },
    {
     "name": "stdout",
     "output_type": "stream",
     "text": [
      "Accuracy of the shape network on the test images: 99.91%\n",
      "LSUNCrop\n",
      "{'AUROC': 0.9998009204864502, 'AUPR-IN': 0.9999424815177917, 'AUPR-OUT': 0.9998828172683716, 'FPR95TPR': 0.000350385409547016, 'Method': 'ViM', 'Dataset': 'LSUNCrop'}\n",
      "LSUNResize\n",
      "{'AUROC': 0.9998244047164917, 'AUPR-IN': 0.9999498128890991, 'AUPR-OUT': 0.999996542930603, 'FPR95TPR': 0.000350385409547016, 'Method': 'ViM', 'Dataset': 'LSUNResize'}\n",
      "Textures\n",
      "{'AUROC': 0.99982088804245, 'AUPR-IN': 0.9999090433120728, 'AUPR-OUT': 0.9999889731407166, 'FPR95TPR': 0.000350385409547016, 'Method': 'ViM', 'Dataset': 'Textures'}\n",
      "TinyImageNetCrop\n",
      "{'AUROC': 0.999807596206665, 'AUPR-IN': 0.9999443888664246, 'AUPR-OUT': 0.9999136924743652, 'FPR95TPR': 0.000350385409547016, 'Method': 'ViM', 'Dataset': 'TinyImageNetCrop'}\n",
      "TinyImageNetResize\n",
      "{'AUROC': 0.999823272228241, 'AUPR-IN': 0.9999493360519409, 'AUPR-OUT': 0.9999878406524658, 'FPR95TPR': 0.000350385409547016, 'Method': 'ViM', 'Dataset': 'TinyImageNetResize'}\n",
      "LSUNCrop\n",
      "{'AUROC': 0.9998669028282166, 'AUPR-IN': 0.9999622702598572, 'AUPR-OUT': 0.9995392560958862, 'FPR95TPR': 0.0, 'Method': 'Mahalanobis', 'Dataset': 'LSUNCrop'}\n",
      "LSUNResize\n",
      "{'AUROC': 0.9999836087226868, 'AUPR-IN': 0.9999952912330627, 'AUPR-OUT': 0.9999430179595947, 'FPR95TPR': 0.0, 'Method': 'Mahalanobis', 'Dataset': 'LSUNResize'}\n",
      "Textures\n",
      "{'AUROC': 0.9999238848686218, 'AUPR-IN': 0.999961793422699, 'AUPR-OUT': 0.9998503923416138, 'FPR95TPR': 0.0, 'Method': 'Mahalanobis', 'Dataset': 'Textures'}\n",
      "TinyImageNetCrop\n",
      "{'AUROC': 0.9998536705970764, 'AUPR-IN': 0.999958336353302, 'AUPR-OUT': 0.9995021820068359, 'FPR95TPR': 0.0, 'Method': 'Mahalanobis', 'Dataset': 'TinyImageNetCrop'}\n",
      "TinyImageNetResize\n",
      "{'AUROC': 0.9999502301216125, 'AUPR-IN': 0.9999857544898987, 'AUPR-OUT': 0.9998300671577454, 'FPR95TPR': 0.0, 'Method': 'Mahalanobis', 'Dataset': 'TinyImageNetResize'}\n",
      "LSUNCrop\n",
      "{'AUROC': 0.9782087802886963, 'AUPR-IN': 0.9942134022712708, 'AUPR-OUT': 0.9084400534629822, 'FPR95TPR': 0.08934828639030457, 'Method': 'Entropy', 'Dataset': 'LSUNCrop'}\n",
      "LSUNResize\n",
      "{'AUROC': 0.9953645467758179, 'AUPR-IN': 0.9986284375190735, 'AUPR-OUT': 0.9855623245239258, 'FPR95TPR': 0.017869656905531883, 'Method': 'Entropy', 'Dataset': 'LSUNResize'}\n",
      "Textures\n",
      "{'AUROC': 0.9749557971954346, 'AUPR-IN': 0.9887032508850098, 'AUPR-OUT': 0.9376193881034851, 'FPR95TPR': 0.11142256110906601, 'Method': 'Entropy', 'Dataset': 'Textures'}\n",
      "TinyImageNetCrop\n",
      "{'AUROC': 0.9928703904151917, 'AUPR-IN': 0.9979602098464966, 'AUPR-OUT': 0.9761094450950623, 'FPR95TPR': 0.023475823923945427, 'Method': 'Entropy', 'Dataset': 'TinyImageNetCrop'}\n",
      "TinyImageNetResize\n",
      "{'AUROC': 0.9940908551216125, 'AUPR-IN': 0.9982585310935974, 'AUPR-OUT': 0.9806020855903625, 'FPR95TPR': 0.02277505211532116, 'Method': 'Entropy', 'Dataset': 'TinyImageNetResize'}\n",
      "LSUNCrop\n",
      "{'AUROC': 0.9968465566635132, 'AUPR-IN': 0.9991016387939453, 'AUPR-OUT': 0.9975467324256897, 'FPR95TPR': 0.006306937430053949, 'Method': 'LogicOOD+', 'Dataset': 'LSUNCrop'}\n",
      "LSUNResize\n",
      "{'AUROC': 0.9968465566635132, 'AUPR-IN': 0.9991016387939453, 'AUPR-OUT': 0.9975467324256897, 'FPR95TPR': 0.006306937430053949, 'Method': 'LogicOOD+', 'Dataset': 'LSUNResize'}\n",
      "Textures\n",
      "{'AUROC': 0.9967348575592041, 'AUPR-IN': 0.9983392953872681, 'AUPR-OUT': 0.9976842403411865, 'FPR95TPR': 0.006306937430053949, 'Method': 'LogicOOD+', 'Dataset': 'Textures'}\n",
      "TinyImageNetCrop\n",
      "{'AUROC': 0.9968465566635132, 'AUPR-IN': 0.9991016387939453, 'AUPR-OUT': 0.9975467324256897, 'FPR95TPR': 0.006306937430053949, 'Method': 'LogicOOD+', 'Dataset': 'TinyImageNetCrop'}\n",
      "TinyImageNetResize\n",
      "{'AUROC': 0.996845543384552, 'AUPR-IN': 0.9991012811660767, 'AUPR-OUT': 0.9975432753562927, 'FPR95TPR': 0.006306937430053949, 'Method': 'LogicOOD+', 'Dataset': 'TinyImageNetResize'}\n",
      "LSUNCrop\n",
      "{'AUROC': 0.818846583366394, 'AUPR-IN': 0.959084689617157, 'AUPR-OUT': 0.7192477583885193, 'FPR95TPR': 1.0, 'Method': 'Logic', 'Dataset': 'LSUNCrop'}\n",
      "LSUNResize\n",
      "{'AUROC': 0.6381464600563049, 'AUPR-IN': 0.9171925783157349, 'AUPR-OUT': 0.6392049789428711, 'FPR95TPR': 1.0, 'Method': 'Logic', 'Dataset': 'LSUNResize'}\n",
      "Textures\n",
      "{'AUROC': 0.7495061159133911, 'AUPR-IN': 0.9137550592422485, 'AUPR-OUT': 0.7499501705169678, 'FPR95TPR': 1.0, 'Method': 'Logic', 'Dataset': 'Textures'}\n",
      "TinyImageNetCrop\n",
      "{'AUROC': 0.7571465373039246, 'AUPR-IN': 0.945056140422821, 'AUPR-OUT': 0.6833921074867249, 'FPR95TPR': 1.0, 'Method': 'Logic', 'Dataset': 'TinyImageNetCrop'}\n",
      "TinyImageNetResize\n",
      "{'AUROC': 0.6372464895248413, 'AUPR-IN': 0.9169726371765137, 'AUPR-OUT': 0.6389507055282593, 'FPR95TPR': 1.0, 'Method': 'Logic', 'Dataset': 'TinyImageNetResize'}\n",
      "LSUNCrop\n",
      "{'AUROC': 0.9968464970588684, 'AUPR-IN': 0.9991016387939453, 'AUPR-OUT': 0.9975466728210449, 'FPR95TPR': 0.006306937430053949, 'Method': 'Logic+', 'Dataset': 'LSUNCrop'}\n",
      "LSUNResize\n",
      "{'AUROC': 0.9968464970588684, 'AUPR-IN': 0.9991016387939453, 'AUPR-OUT': 0.9975466728210449, 'FPR95TPR': 0.006306937430053949, 'Method': 'Logic+', 'Dataset': 'LSUNResize'}\n",
      "Textures\n",
      "{'AUROC': 0.9924138784408569, 'AUPR-IN': 0.9969058036804199, 'AUPR-OUT': 0.9892436265945435, 'FPR95TPR': 0.006306937430053949, 'Method': 'Logic+', 'Dataset': 'Textures'}\n",
      "TinyImageNetCrop\n",
      "{'AUROC': 0.9968464970588684, 'AUPR-IN': 0.9991016387939453, 'AUPR-OUT': 0.9975466728210449, 'FPR95TPR': 0.006306937430053949, 'Method': 'Logic+', 'Dataset': 'TinyImageNetCrop'}\n",
      "TinyImageNetResize\n",
      "{'AUROC': 0.9967964887619019, 'AUPR-IN': 0.9990904331207275, 'AUPR-OUT': 0.9973704814910889, 'FPR95TPR': 0.006306937430053949, 'Method': 'Logic+', 'Dataset': 'TinyImageNetResize'}\n",
      "LSUNCrop\n",
      "{'AUROC': 0.9919520020484924, 'AUPR-IN': 0.9972350001335144, 'AUPR-OUT': 0.9836260080337524, 'FPR95TPR': 0.02557813562452793, 'Method': 'LogicOOD', 'Dataset': 'LSUNCrop'}\n",
      "LSUNResize\n",
      "{'AUROC': 0.9874032735824585, 'AUPR-IN': 0.9944562911987305, 'AUPR-OUT': 0.9800096154212952, 'FPR95TPR': 0.03433777019381523, 'Method': 'LogicOOD', 'Dataset': 'LSUNResize'}\n",
      "Textures\n",
      "{'AUROC': 0.9805251359939575, 'AUPR-IN': 0.989185094833374, 'AUPR-OUT': 0.96397864818573, 'FPR95TPR': 0.06306937336921692, 'Method': 'LogicOOD', 'Dataset': 'Textures'}\n",
      "TinyImageNetCrop\n",
      "{'AUROC': 0.9897133708000183, 'AUPR-IN': 0.9962329268455505, 'AUPR-OUT': 0.9808349013328552, 'FPR95TPR': 0.034688156098127365, 'Method': 'LogicOOD', 'Dataset': 'TinyImageNetCrop'}\n",
      "TinyImageNetResize\n",
      "{'AUROC': 0.9855326414108276, 'AUPR-IN': 0.9938482046127319, 'AUPR-OUT': 0.9755982756614685, 'FPR95TPR': 0.04274702072143555, 'Method': 'LogicOOD', 'Dataset': 'TinyImageNetResize'}\n",
      "LSUNCrop\n",
      "{'AUROC': 0.9912952780723572, 'AUPR-IN': 0.9971924424171448, 'AUPR-OUT': 0.9795441627502441, 'FPR95TPR': 0.03363700211048126, 'Method': 'Ensemble', 'Dataset': 'LSUNCrop'}\n",
      "LSUNResize\n",
      "{'AUROC': 0.988105058670044, 'AUPR-IN': 0.9956262707710266, 'AUPR-OUT': 0.9780299067497253, 'FPR95TPR': 0.03784162551164627, 'Method': 'Ensemble', 'Dataset': 'LSUNResize'}\n",
      "Textures\n",
      "{'AUROC': 0.9786419868469238, 'AUPR-IN': 0.9882510304450989, 'AUPR-OUT': 0.9606192111968994, 'FPR95TPR': 0.06832515448331833, 'Method': 'Ensemble', 'Dataset': 'Textures'}\n",
      "TinyImageNetCrop\n",
      "{'AUROC': 0.9897477626800537, 'AUPR-IN': 0.9965201020240784, 'AUPR-OUT': 0.9790175557136536, 'FPR95TPR': 0.03784162551164627, 'Method': 'Ensemble', 'Dataset': 'TinyImageNetCrop'}\n",
      "TinyImageNetResize\n",
      "{'AUROC': 0.9864368438720703, 'AUPR-IN': 0.995108425617218, 'AUPR-OUT': 0.9740820527076721, 'FPR95TPR': 0.04800280183553696, 'Method': 'Ensemble', 'Dataset': 'TinyImageNetResize'}\n",
      "LSUNCrop\n",
      "{'AUROC': 0.9776738286018372, 'AUPR-IN': 0.993940532207489, 'AUPR-OUT': 0.9089312553405762, 'FPR95TPR': 0.08794674277305603, 'Method': 'MSP', 'Dataset': 'LSUNCrop'}\n",
      "LSUNResize\n",
      "{'AUROC': 0.994458019733429, 'AUPR-IN': 0.9982160925865173, 'AUPR-OUT': 0.9848739504814148, 'FPR95TPR': 0.019621584564447403, 'Method': 'MSP', 'Dataset': 'LSUNResize'}\n",
      "Textures\n",
      "{'AUROC': 0.9744579195976257, 'AUPR-IN': 0.9880966544151306, 'AUPR-OUT': 0.9382910132408142, 'FPR95TPR': 0.11177294701337814, 'Method': 'MSP', 'Dataset': 'Textures'}\n",
      "TinyImageNetCrop\n",
      "{'AUROC': 0.991965651512146, 'AUPR-IN': 0.9975786209106445, 'AUPR-OUT': 0.9752258658409119, 'FPR95TPR': 0.024877365678548813, 'Method': 'MSP', 'Dataset': 'TinyImageNetCrop'}\n",
      "TinyImageNetResize\n",
      "{'AUROC': 0.9931281208992004, 'AUPR-IN': 0.9978302121162415, 'AUPR-OUT': 0.9797886610031128, 'FPR95TPR': 0.024877365678548813, 'Method': 'MSP', 'Dataset': 'TinyImageNetResize'}\n",
      "LSUNCrop\n",
      "{'AUROC': 0.9737357497215271, 'AUPR-IN': 0.9932249784469604, 'AUPR-OUT': 0.8817790746688843, 'FPR95TPR': 0.12824106216430664, 'Method': 'Energy', 'Dataset': 'LSUNCrop'}\n",
      "LSUNResize\n",
      "{'AUROC': 0.9941842555999756, 'AUPR-IN': 0.9984549283981323, 'AUPR-OUT': 0.9737787246704102, 'FPR95TPR': 0.012964260764420033, 'Method': 'Energy', 'Dataset': 'LSUNResize'}\n",
      "Textures\n",
      "{'AUROC': 0.9669638872146606, 'AUPR-IN': 0.9858535528182983, 'AUPR-OUT': 0.9096043109893799, 'FPR95TPR': 0.20077085494995117, 'Method': 'Energy', 'Dataset': 'Textures'}\n",
      "TinyImageNetCrop\n",
      "{'AUROC': 0.9933184385299683, 'AUPR-IN': 0.9982065558433533, 'AUPR-OUT': 0.9730679392814636, 'FPR95TPR': 0.015066573396325111, 'Method': 'Energy', 'Dataset': 'TinyImageNetCrop'}\n",
      "TinyImageNetResize\n",
      "{'AUROC': 0.9941369295120239, 'AUPR-IN': 0.9984244108200073, 'AUPR-OUT': 0.9735900163650513, 'FPR95TPR': 0.014365802519023418, 'Method': 'Energy', 'Dataset': 'TinyImageNetResize'}\n",
      "LSUNCrop\n",
      "{'AUROC': 0.9738247394561768, 'AUPR-IN': 0.9932470917701721, 'AUPR-OUT': 0.8821111917495728, 'FPR95TPR': 0.12754029035568237, 'Method': 'MaxLogit', 'Dataset': 'LSUNCrop'}\n",
      "LSUNResize\n",
      "{'AUROC': 0.9940903782844543, 'AUPR-IN': 0.9984228610992432, 'AUPR-OUT': 0.9736737608909607, 'FPR95TPR': 0.012613874860107899, 'Method': 'MaxLogit', 'Dataset': 'LSUNResize'}\n",
      "Textures\n",
      "{'AUROC': 0.9671511054039001, 'AUPR-IN': 0.9859244227409363, 'AUPR-OUT': 0.9100554585456848, 'FPR95TPR': 0.2011212259531021, 'Method': 'MaxLogit', 'Dataset': 'Textures'}\n",
      "TinyImageNetCrop\n",
      "{'AUROC': 0.9932606220245361, 'AUPR-IN': 0.9981862306594849, 'AUPR-OUT': 0.9730197787284851, 'FPR95TPR': 0.01541695836931467, 'Method': 'MaxLogit', 'Dataset': 'TinyImageNetCrop'}\n",
      "TinyImageNetResize\n"
     ]
    },
    {
     "name": "stderr",
     "output_type": "stream",
     "text": [
      "  0%|          | 0/438 [00:00<?, ?it/s]"
     ]
    },
    {
     "name": "stdout",
     "output_type": "stream",
     "text": [
      "{'AUROC': 0.9940197467803955, 'AUPR-IN': 0.9983851313591003, 'AUPR-OUT': 0.9734114408493042, 'FPR95TPR': 0.015066573396325111, 'Method': 'MaxLogit', 'Dataset': 'TinyImageNetResize'}\n",
      "label\n"
     ]
    },
    {
     "name": "stderr",
     "output_type": "stream",
     "text": [
      "100%|██████████| 438/438 [00:12<00:00, 36.18it/s, loss=0.0677]\n",
      "  0%|          | 0/438 [00:00<?, ?it/s]"
     ]
    },
    {
     "name": "stdout",
     "output_type": "stream",
     "text": [
      "Accuracy of the network on the test images: 96.71%\n"
     ]
    },
    {
     "name": "stderr",
     "output_type": "stream",
     "text": [
      "100%|██████████| 438/438 [00:11<00:00, 36.62it/s, loss=0.018] \n",
      "  0%|          | 0/438 [00:00<?, ?it/s]"
     ]
    },
    {
     "name": "stdout",
     "output_type": "stream",
     "text": [
      "Accuracy of the network on the test images: 97.83%\n"
     ]
    },
    {
     "name": "stderr",
     "output_type": "stream",
     "text": [
      "100%|██████████| 438/438 [00:12<00:00, 36.19it/s, loss=0.0118] \n",
      "  0%|          | 0/438 [00:00<?, ?it/s]"
     ]
    },
    {
     "name": "stdout",
     "output_type": "stream",
     "text": [
      "Accuracy of the network on the test images: 99.96%\n"
     ]
    },
    {
     "name": "stderr",
     "output_type": "stream",
     "text": [
      "100%|██████████| 438/438 [00:12<00:00, 36.14it/s, loss=0.0142] \n",
      "  0%|          | 0/438 [00:00<?, ?it/s]"
     ]
    },
    {
     "name": "stdout",
     "output_type": "stream",
     "text": [
      "Accuracy of the network on the test images: 99.96%\n"
     ]
    },
    {
     "name": "stderr",
     "output_type": "stream",
     "text": [
      "100%|██████████| 438/438 [00:11<00:00, 36.59it/s, loss=0.00883]\n",
      "  0%|          | 0/438 [00:00<?, ?it/s]"
     ]
    },
    {
     "name": "stdout",
     "output_type": "stream",
     "text": [
      "Accuracy of the network on the test images: 99.96%\n",
      "color\n"
     ]
    },
    {
     "name": "stderr",
     "output_type": "stream",
     "text": [
      "100%|██████████| 438/438 [00:12<00:00, 36.30it/s, loss=0.0264]\n",
      "  0%|          | 0/438 [00:00<?, ?it/s]"
     ]
    },
    {
     "name": "stdout",
     "output_type": "stream",
     "text": [
      "Accuracy of the network on the test images: 94.85%\n"
     ]
    },
    {
     "name": "stderr",
     "output_type": "stream",
     "text": [
      "100%|██████████| 438/438 [00:12<00:00, 35.90it/s, loss=0.00868]\n",
      "  0%|          | 0/438 [00:00<?, ?it/s]"
     ]
    },
    {
     "name": "stdout",
     "output_type": "stream",
     "text": [
      "Accuracy of the network on the test images: 100.00%\n"
     ]
    },
    {
     "name": "stderr",
     "output_type": "stream",
     "text": [
      "100%|██████████| 438/438 [00:12<00:00, 36.02it/s, loss=0.00359]\n",
      "  0%|          | 0/438 [00:00<?, ?it/s]"
     ]
    },
    {
     "name": "stdout",
     "output_type": "stream",
     "text": [
      "Accuracy of the network on the test images: 100.00%\n"
     ]
    },
    {
     "name": "stderr",
     "output_type": "stream",
     "text": [
      "100%|██████████| 438/438 [00:12<00:00, 35.78it/s, loss=0.0025] \n",
      "  0%|          | 0/438 [00:00<?, ?it/s]"
     ]
    },
    {
     "name": "stdout",
     "output_type": "stream",
     "text": [
      "Accuracy of the network on the test images: 100.00%\n"
     ]
    },
    {
     "name": "stderr",
     "output_type": "stream",
     "text": [
      "100%|██████████| 438/438 [00:12<00:00, 36.36it/s, loss=0.0236] \n"
     ]
    },
    {
     "name": "stdout",
     "output_type": "stream",
     "text": [
      "Accuracy of the network on the test images: 100.00%\n",
      "fruit\n"
     ]
    },
    {
     "name": "stderr",
     "output_type": "stream",
     "text": [
      "100%|██████████| 2000/2000 [00:55<00:00, 36.12it/s, loss=0.00119] \n"
     ]
    },
    {
     "name": "stdout",
     "output_type": "stream",
     "text": [
      "Accuracy of the shape network on the test images: 99.84%\n",
      "LSUNCrop\n",
      "{'AUROC': 0.9958398342132568, 'AUPR-IN': 0.9988441467285156, 'AUPR-OUT': 0.9858628511428833, 'FPR95TPR': 0.009810792282223701, 'Method': 'ViM', 'Dataset': 'LSUNCrop'}\n",
      "LSUNResize\n",
      "{'AUROC': 0.9991551637649536, 'AUPR-IN': 0.9997578859329224, 'AUPR-OUT': 0.9982118010520935, 'FPR95TPR': 0.000700770819094032, 'Method': 'ViM', 'Dataset': 'LSUNResize'}\n",
      "Textures\n",
      "{'AUROC': 0.999501645565033, 'AUPR-IN': 0.9997488260269165, 'AUPR-OUT': 0.999689519405365, 'FPR95TPR': 0.000700770819094032, 'Method': 'ViM', 'Dataset': 'Textures'}\n",
      "TinyImageNetCrop\n",
      "{'AUROC': 0.996726930141449, 'AUPR-IN': 0.9990889430046082, 'AUPR-OUT': 0.9891442656517029, 'FPR95TPR': 0.003503854153677821, 'Method': 'ViM', 'Dataset': 'TinyImageNetCrop'}\n",
      "TinyImageNetResize\n",
      "{'AUROC': 0.998699426651001, 'AUPR-IN': 0.9996343851089478, 'AUPR-OUT': 0.996394157409668, 'FPR95TPR': 0.000700770819094032, 'Method': 'ViM', 'Dataset': 'TinyImageNetResize'}\n",
      "LSUNCrop\n",
      "{'AUROC': 0.9935744404792786, 'AUPR-IN': 0.9983091354370117, 'AUPR-OUT': 0.9725791811943054, 'FPR95TPR': 0.007708479184657335, 'Method': 'Mahalanobis', 'Dataset': 'LSUNCrop'}\n",
      "LSUNResize\n",
      "{'AUROC': 0.9990324378013611, 'AUPR-IN': 0.9997321367263794, 'AUPR-OUT': 0.9964609146118164, 'FPR95TPR': 0.0, 'Method': 'Mahalanobis', 'Dataset': 'LSUNResize'}\n",
      "Textures\n",
      "{'AUROC': 0.9994932413101196, 'AUPR-IN': 0.9997732639312744, 'AUPR-OUT': 0.9988017082214355, 'FPR95TPR': 0.0, 'Method': 'Mahalanobis', 'Dataset': 'Textures'}\n",
      "TinyImageNetCrop\n",
      "{'AUROC': 0.993881106376648, 'AUPR-IN': 0.9983795881271362, 'AUPR-OUT': 0.9744742512702942, 'FPR95TPR': 0.005606166552752256, 'Method': 'Mahalanobis', 'Dataset': 'TinyImageNetCrop'}\n",
      "TinyImageNetResize\n",
      "{'AUROC': 0.998357355594635, 'AUPR-IN': 0.9995532035827637, 'AUPR-OUT': 0.9936131238937378, 'FPR95TPR': 0.0, 'Method': 'Mahalanobis', 'Dataset': 'TinyImageNetResize'}\n",
      "LSUNCrop\n",
      "{'AUROC': 0.9783303141593933, 'AUPR-IN': 0.9940911531448364, 'AUPR-OUT': 0.9227725267410278, 'FPR95TPR': 0.16958653926849365, 'Method': 'Entropy', 'Dataset': 'LSUNCrop'}\n",
      "LSUNResize\n",
      "{'AUROC': 0.9850093126296997, 'AUPR-IN': 0.9961090087890625, 'AUPR-OUT': 0.9333743453025818, 'FPR95TPR': 0.025928521528840065, 'Method': 'Entropy', 'Dataset': 'LSUNResize'}\n",
      "Textures\n",
      "{'AUROC': 0.9835180044174194, 'AUPR-IN': 0.9926676750183105, 'AUPR-OUT': 0.9589821100234985, 'FPR95TPR': 0.06622284650802612, 'Method': 'Entropy', 'Dataset': 'Textures'}\n",
      "TinyImageNetCrop\n",
      "{'AUROC': 0.9754149317741394, 'AUPR-IN': 0.9934557676315308, 'AUPR-OUT': 0.9027555584907532, 'FPR95TPR': 0.17028731107711792, 'Method': 'Entropy', 'Dataset': 'TinyImageNetCrop'}\n",
      "TinyImageNetResize\n",
      "{'AUROC': 0.9820328950881958, 'AUPR-IN': 0.9952666759490967, 'AUPR-OUT': 0.9251388311386108, 'FPR95TPR': 0.046951647847890854, 'Method': 'Entropy', 'Dataset': 'TinyImageNetResize'}\n",
      "LSUNCrop\n",
      "{'AUROC': 1.0, 'AUPR-IN': 1.0, 'AUPR-OUT': 1.0, 'FPR95TPR': 0.0, 'Method': 'LogicOOD+', 'Dataset': 'LSUNCrop'}\n",
      "LSUNResize\n",
      "{'AUROC': 1.0, 'AUPR-IN': 1.0, 'AUPR-OUT': 1.0, 'FPR95TPR': 0.0, 'Method': 'LogicOOD+', 'Dataset': 'LSUNResize'}\n",
      "Textures\n",
      "{'AUROC': 0.9999915957450867, 'AUPR-IN': 0.999995768070221, 'AUPR-OUT': 0.9999831318855286, 'FPR95TPR': 0.0, 'Method': 'LogicOOD+', 'Dataset': 'Textures'}\n",
      "TinyImageNetCrop\n",
      "{'AUROC': 1.0, 'AUPR-IN': 1.0, 'AUPR-OUT': 1.0, 'FPR95TPR': 0.0, 'Method': 'LogicOOD+', 'Dataset': 'TinyImageNetCrop'}\n",
      "TinyImageNetResize\n",
      "{'AUROC': 1.0, 'AUPR-IN': 1.0, 'AUPR-OUT': 1.0, 'FPR95TPR': 0.0, 'Method': 'LogicOOD+', 'Dataset': 'TinyImageNetResize'}\n",
      "LSUNCrop\n",
      "{'AUROC': 0.8767499923706055, 'AUPR-IN': 0.9726345539093018, 'AUPR-OUT': 0.768283486366272, 'FPR95TPR': 1.0, 'Method': 'Logic', 'Dataset': 'LSUNCrop'}\n",
      "LSUNResize\n",
      "{'AUROC': 0.6915000081062317, 'AUPR-IN': 0.9315030574798584, 'AUPR-OUT': 0.658133864402771, 'FPR95TPR': 1.0, 'Method': 'Logic', 'Dataset': 'LSUNResize'}\n",
      "Textures\n",
      "{'AUROC': 0.7507978677749634, 'AUPR-IN': 0.9162676334381104, 'AUPR-OUT': 0.7518975734710693, 'FPR95TPR': 1.0, 'Method': 'Logic', 'Dataset': 'Textures'}\n",
      "TinyImageNetCrop\n",
      "{'AUROC': 0.7767000198364258, 'AUPR-IN': 0.9504202604293823, 'AUPR-OUT': 0.6949453353881836, 'FPR95TPR': 1.0, 'Method': 'Logic', 'Dataset': 'TinyImageNetCrop'}\n",
      "TinyImageNetResize\n",
      "{'AUROC': 0.7166000008583069, 'AUPR-IN': 0.9370760917663574, 'AUPR-OUT': 0.6674489378929138, 'FPR95TPR': 1.0, 'Method': 'Logic', 'Dataset': 'TinyImageNetResize'}\n",
      "LSUNCrop\n",
      "{'AUROC': 1.0, 'AUPR-IN': 1.0, 'AUPR-OUT': 1.0, 'FPR95TPR': 0.0, 'Method': 'Logic+', 'Dataset': 'LSUNCrop'}\n",
      "LSUNResize\n",
      "{'AUROC': 1.0, 'AUPR-IN': 1.0, 'AUPR-OUT': 1.0, 'FPR95TPR': 0.0, 'Method': 'Logic+', 'Dataset': 'LSUNResize'}\n",
      "Textures\n",
      "{'AUROC': 0.9963652491569519, 'AUPR-IN': 0.9987787008285522, 'AUPR-OUT': 0.992918848991394, 'FPR95TPR': 0.0, 'Method': 'Logic+', 'Dataset': 'Textures'}\n",
      "TinyImageNetCrop\n",
      "{'AUROC': 1.0, 'AUPR-IN': 1.0, 'AUPR-OUT': 1.0, 'FPR95TPR': 0.0, 'Method': 'Logic+', 'Dataset': 'TinyImageNetCrop'}\n",
      "TinyImageNetResize\n",
      "{'AUROC': 1.0, 'AUPR-IN': 1.0, 'AUPR-OUT': 1.0, 'FPR95TPR': 0.0, 'Method': 'Logic+', 'Dataset': 'TinyImageNetResize'}\n",
      "LSUNCrop\n",
      "{'AUROC': 0.99639493227005, 'AUPR-IN': 0.999028205871582, 'AUPR-OUT': 0.9856497049331665, 'FPR95TPR': 0.005255781579762697, 'Method': 'LogicOOD', 'Dataset': 'LSUNCrop'}\n",
      "LSUNResize\n",
      "{'AUROC': 0.9934508800506592, 'AUPR-IN': 0.9982524514198303, 'AUPR-OUT': 0.972313642501831, 'FPR95TPR': 0.01576734334230423, 'Method': 'LogicOOD', 'Dataset': 'LSUNResize'}\n",
      "Textures\n",
      "{'AUROC': 0.9904770851135254, 'AUPR-IN': 0.9956769347190857, 'AUPR-OUT': 0.9780579209327698, 'FPR95TPR': 0.031184302642941475, 'Method': 'LogicOOD', 'Dataset': 'Textures'}\n",
      "TinyImageNetCrop\n",
      "{'AUROC': 0.9952128529548645, 'AUPR-IN': 0.9987138509750366, 'AUPR-OUT': 0.9805227518081665, 'FPR95TPR': 0.009110021404922009, 'Method': 'LogicOOD', 'Dataset': 'TinyImageNetCrop'}\n",
      "TinyImageNetResize\n",
      "{'AUROC': 0.9920282363891602, 'AUPR-IN': 0.9978726506233215, 'AUPR-OUT': 0.9662477374076843, 'FPR95TPR': 0.02032235451042652, 'Method': 'LogicOOD', 'Dataset': 'TinyImageNetResize'}\n",
      "LSUNCrop\n",
      "{'AUROC': 0.9869258999824524, 'AUPR-IN': 0.9964157938957214, 'AUPR-OUT': 0.9535360932350159, 'FPR95TPR': 0.06166783347725868, 'Method': 'Ensemble', 'Dataset': 'LSUNCrop'}\n",
      "LSUNResize\n",
      "{'AUROC': 0.9929836988449097, 'AUPR-IN': 0.9980992674827576, 'AUPR-OUT': 0.9710110425949097, 'FPR95TPR': 0.016117729246616364, 'Method': 'Ensemble', 'Dataset': 'LSUNResize'}\n",
      "Textures\n",
      "{'AUROC': 0.9889886379241943, 'AUPR-IN': 0.9949395060539246, 'AUPR-OUT': 0.9751572608947754, 'FPR95TPR': 0.03854239732027054, 'Method': 'Ensemble', 'Dataset': 'Textures'}\n",
      "TinyImageNetCrop\n",
      "{'AUROC': 0.990763783454895, 'AUPR-IN': 0.9974884986877441, 'AUPR-OUT': 0.9647731781005859, 'FPR95TPR': 0.029432374984025955, 'Method': 'Ensemble', 'Dataset': 'TinyImageNetCrop'}\n",
      "TinyImageNetResize\n",
      "{'AUROC': 0.9910578727722168, 'AUPR-IN': 0.9975751638412476, 'AUPR-OUT': 0.9633835554122925, 'FPR95TPR': 0.024877365678548813, 'Method': 'Ensemble', 'Dataset': 'TinyImageNetResize'}\n",
      "LSUNCrop\n",
      "{'AUROC': 0.9774895310401917, 'AUPR-IN': 0.993813693523407, 'AUPR-OUT': 0.9210245013237, 'FPR95TPR': 0.17449194192886353, 'Method': 'MSP', 'Dataset': 'LSUNCrop'}\n",
      "LSUNResize\n",
      "{'AUROC': 0.9841806292533875, 'AUPR-IN': 0.9958120584487915, 'AUPR-OUT': 0.931212306022644, 'FPR95TPR': 0.028381219133734703, 'Method': 'MSP', 'Dataset': 'LSUNResize'}\n",
      "Textures\n",
      "{'AUROC': 0.9831855893135071, 'AUPR-IN': 0.992355227470398, 'AUPR-OUT': 0.9592695832252502, 'FPR95TPR': 0.05956552177667618, 'Method': 'MSP', 'Dataset': 'Textures'}\n",
      "TinyImageNetCrop\n",
      "{'AUROC': 0.9749403595924377, 'AUPR-IN': 0.9932593703269958, 'AUPR-OUT': 0.9023510813713074, 'FPR95TPR': 0.17063769698143005, 'Method': 'MSP', 'Dataset': 'TinyImageNetCrop'}\n",
      "TinyImageNetResize\n",
      "{'AUROC': 0.9811773896217346, 'AUPR-IN': 0.9949567914009094, 'AUPR-OUT': 0.9231646656990051, 'FPR95TPR': 0.051506657153367996, 'Method': 'MSP', 'Dataset': 'TinyImageNetResize'}\n",
      "LSUNCrop\n",
      "{'AUROC': 0.9852296710014343, 'AUPR-IN': 0.9960086345672607, 'AUPR-OUT': 0.9438991546630859, 'FPR95TPR': 0.08794674277305603, 'Method': 'Energy', 'Dataset': 'LSUNCrop'}\n",
      "LSUNResize\n",
      "{'AUROC': 0.989525556564331, 'AUPR-IN': 0.9972365498542786, 'AUPR-OUT': 0.9575082063674927, 'FPR95TPR': 0.011212333105504513, 'Method': 'Energy', 'Dataset': 'LSUNResize'}\n",
      "Textures\n",
      "{'AUROC': 0.9785573482513428, 'AUPR-IN': 0.9908425211906433, 'AUPR-OUT': 0.9399470686912537, 'FPR95TPR': 0.11632796376943588, 'Method': 'Energy', 'Dataset': 'Textures'}\n",
      "TinyImageNetCrop\n",
      "{'AUROC': 0.9786546230316162, 'AUPR-IN': 0.994331419467926, 'AUPR-OUT': 0.9145814180374146, 'FPR95TPR': 0.1464611142873764, 'Method': 'Energy', 'Dataset': 'TinyImageNetCrop'}\n",
      "TinyImageNetResize\n",
      "{'AUROC': 0.9858638048171997, 'AUPR-IN': 0.9962433576583862, 'AUPR-OUT': 0.9420061111450195, 'FPR95TPR': 0.06517168879508972, 'Method': 'Energy', 'Dataset': 'TinyImageNetResize'}\n",
      "LSUNCrop\n",
      "{'AUROC': 0.9852030873298645, 'AUPR-IN': 0.9960005283355713, 'AUPR-OUT': 0.9438385963439941, 'FPR95TPR': 0.0886475145816803, 'Method': 'MaxLogit', 'Dataset': 'LSUNCrop'}\n",
      "LSUNResize\n",
      "{'AUROC': 0.9895139336585999, 'AUPR-IN': 0.9972334504127502, 'AUPR-OUT': 0.9574666619300842, 'FPR95TPR': 0.01226348988711834, 'Method': 'MaxLogit', 'Dataset': 'LSUNResize'}\n",
      "Textures\n",
      "{'AUROC': 0.9786843061447144, 'AUPR-IN': 0.9908989071846008, 'AUPR-OUT': 0.9402631521224976, 'FPR95TPR': 0.11492642015218735, 'Method': 'MaxLogit', 'Dataset': 'Textures'}\n",
      "TinyImageNetCrop\n",
      "{'AUROC': 0.9786580801010132, 'AUPR-IN': 0.9943322539329529, 'AUPR-OUT': 0.9145928025245667, 'FPR95TPR': 0.1464611142873764, 'Method': 'MaxLogit', 'Dataset': 'TinyImageNetCrop'}\n",
      "TinyImageNetResize\n"
     ]
    },
    {
     "name": "stderr",
     "output_type": "stream",
     "text": [
      "  0%|          | 0/438 [00:00<?, ?it/s]"
     ]
    },
    {
     "name": "stdout",
     "output_type": "stream",
     "text": [
      "{'AUROC': 0.9858701229095459, 'AUPR-IN': 0.9962455034255981, 'AUPR-OUT': 0.9419997334480286, 'FPR95TPR': 0.06482130289077759, 'Method': 'MaxLogit', 'Dataset': 'TinyImageNetResize'}\n",
      "label\n"
     ]
    },
    {
     "name": "stderr",
     "output_type": "stream",
     "text": [
      "100%|██████████| 438/438 [00:12<00:00, 36.44it/s, loss=0.0752]\n",
      "  0%|          | 0/438 [00:00<?, ?it/s]"
     ]
    },
    {
     "name": "stdout",
     "output_type": "stream",
     "text": [
      "Accuracy of the network on the test images: 96.15%\n"
     ]
    },
    {
     "name": "stderr",
     "output_type": "stream",
     "text": [
      "100%|██████████| 438/438 [00:12<00:00, 36.27it/s, loss=0.0321]\n",
      "  0%|          | 0/438 [00:00<?, ?it/s]"
     ]
    },
    {
     "name": "stdout",
     "output_type": "stream",
     "text": [
      "Accuracy of the network on the test images: 99.26%\n"
     ]
    },
    {
     "name": "stderr",
     "output_type": "stream",
     "text": [
      "100%|██████████| 438/438 [00:11<00:00, 36.67it/s, loss=0.00998]\n",
      "  0%|          | 0/438 [00:00<?, ?it/s]"
     ]
    },
    {
     "name": "stdout",
     "output_type": "stream",
     "text": [
      "Accuracy of the network on the test images: 100.00%\n"
     ]
    },
    {
     "name": "stderr",
     "output_type": "stream",
     "text": [
      "100%|██████████| 438/438 [00:12<00:00, 36.27it/s, loss=0.0117] \n",
      "  0%|          | 0/438 [00:00<?, ?it/s]"
     ]
    },
    {
     "name": "stdout",
     "output_type": "stream",
     "text": [
      "Accuracy of the network on the test images: 100.00%\n"
     ]
    },
    {
     "name": "stderr",
     "output_type": "stream",
     "text": [
      "100%|██████████| 438/438 [00:12<00:00, 35.77it/s, loss=0.0138] \n",
      "  0%|          | 0/438 [00:00<?, ?it/s]"
     ]
    },
    {
     "name": "stdout",
     "output_type": "stream",
     "text": [
      "Accuracy of the network on the test images: 99.96%\n",
      "color\n"
     ]
    },
    {
     "name": "stderr",
     "output_type": "stream",
     "text": [
      "100%|██████████| 438/438 [00:12<00:00, 35.44it/s, loss=0.0193]\n",
      "  0%|          | 0/438 [00:00<?, ?it/s]"
     ]
    },
    {
     "name": "stdout",
     "output_type": "stream",
     "text": [
      "Accuracy of the network on the test images: 97.27%\n"
     ]
    },
    {
     "name": "stderr",
     "output_type": "stream",
     "text": [
      "100%|██████████| 438/438 [00:12<00:00, 36.16it/s, loss=0.0155] \n",
      "  0%|          | 0/438 [00:00<?, ?it/s]"
     ]
    },
    {
     "name": "stdout",
     "output_type": "stream",
     "text": [
      "Accuracy of the network on the test images: 100.00%\n"
     ]
    },
    {
     "name": "stderr",
     "output_type": "stream",
     "text": [
      "100%|██████████| 438/438 [00:12<00:00, 36.27it/s, loss=0.0214] \n",
      "  0%|          | 0/438 [00:00<?, ?it/s]"
     ]
    },
    {
     "name": "stdout",
     "output_type": "stream",
     "text": [
      "Accuracy of the network on the test images: 97.76%\n"
     ]
    },
    {
     "name": "stderr",
     "output_type": "stream",
     "text": [
      "100%|██████████| 438/438 [00:12<00:00, 36.26it/s, loss=0.00368]\n",
      "  0%|          | 0/438 [00:00<?, ?it/s]"
     ]
    },
    {
     "name": "stdout",
     "output_type": "stream",
     "text": [
      "Accuracy of the network on the test images: 100.00%\n"
     ]
    },
    {
     "name": "stderr",
     "output_type": "stream",
     "text": [
      "100%|██████████| 438/438 [00:12<00:00, 35.74it/s, loss=0.00812]\n"
     ]
    },
    {
     "name": "stdout",
     "output_type": "stream",
     "text": [
      "Accuracy of the network on the test images: 99.72%\n",
      "fruit\n"
     ]
    },
    {
     "name": "stderr",
     "output_type": "stream",
     "text": [
      "100%|██████████| 2000/2000 [00:55<00:00, 36.05it/s, loss=0.00416] \n"
     ]
    },
    {
     "name": "stdout",
     "output_type": "stream",
     "text": [
      "Accuracy of the shape network on the test images: 99.84%\n",
      "LSUNCrop\n",
      "{'AUROC': 0.998859703540802, 'AUPR-IN': 0.9996744394302368, 'AUPR-OUT': 0.997124195098877, 'FPR95TPR': 0.000700770819094032, 'Method': 'ViM', 'Dataset': 'LSUNCrop'}\n",
      "LSUNResize\n",
      "{'AUROC': 0.99961256980896, 'AUPR-IN': 0.9998888373374939, 'AUPR-OUT': 0.9998611807823181, 'FPR95TPR': 0.000700770819094032, 'Method': 'ViM', 'Dataset': 'LSUNResize'}\n",
      "Textures\n",
      "{'AUROC': 0.999627947807312, 'AUPR-IN': 0.999811053276062, 'AUPR-OUT': 0.9999532699584961, 'FPR95TPR': 0.000700770819094032, 'Method': 'ViM', 'Dataset': 'Textures'}\n",
      "TinyImageNetCrop\n",
      "{'AUROC': 0.9993158578872681, 'AUPR-IN': 0.999803900718689, 'AUPR-OUT': 0.9987545013427734, 'FPR95TPR': 0.000700770819094032, 'Method': 'ViM', 'Dataset': 'TinyImageNetCrop'}\n",
      "TinyImageNetResize\n",
      "{'AUROC': 0.9995713233947754, 'AUPR-IN': 0.9998767375946045, 'AUPR-OUT': 0.9997104406356812, 'FPR95TPR': 0.000700770819094032, 'Method': 'ViM', 'Dataset': 'TinyImageNetResize'}\n",
      "LSUNCrop\n",
      "{'AUROC': 0.9986236691474915, 'AUPR-IN': 0.9996196627616882, 'AUPR-OUT': 0.994975209236145, 'FPR95TPR': 0.000350385409547016, 'Method': 'Mahalanobis', 'Dataset': 'LSUNCrop'}\n",
      "LSUNResize\n",
      "{'AUROC': 0.9999540448188782, 'AUPR-IN': 0.999987006187439, 'AUPR-OUT': 0.9998394250869751, 'FPR95TPR': 0.0, 'Method': 'Mahalanobis', 'Dataset': 'LSUNResize'}\n",
      "Textures\n",
      "{'AUROC': 0.9998552203178406, 'AUPR-IN': 0.9999279975891113, 'AUPR-OUT': 0.9997113943099976, 'FPR95TPR': 0.0, 'Method': 'Mahalanobis', 'Dataset': 'Textures'}\n",
      "TinyImageNetCrop\n",
      "{'AUROC': 0.9994245767593384, 'AUPR-IN': 0.9998388886451721, 'AUPR-OUT': 0.9979476928710938, 'FPR95TPR': 0.000350385409547016, 'Method': 'Mahalanobis', 'Dataset': 'TinyImageNetCrop'}\n",
      "TinyImageNetResize\n",
      "{'AUROC': 0.9998921155929565, 'AUPR-IN': 0.9999696612358093, 'AUPR-OUT': 0.9996165037155151, 'FPR95TPR': 0.0, 'Method': 'Mahalanobis', 'Dataset': 'TinyImageNetResize'}\n",
      "LSUNCrop\n",
      "{'AUROC': 0.9953390955924988, 'AUPR-IN': 0.9986522793769836, 'AUPR-OUT': 0.985303521156311, 'FPR95TPR': 0.013665031641721725, 'Method': 'Entropy', 'Dataset': 'LSUNCrop'}\n",
      "LSUNResize\n",
      "{'AUROC': 0.9936790466308594, 'AUPR-IN': 0.9980172514915466, 'AUPR-OUT': 0.9835343956947327, 'FPR95TPR': 0.028381219133734703, 'Method': 'Entropy', 'Dataset': 'LSUNResize'}\n",
      "Textures\n",
      "{'AUROC': 0.9802258014678955, 'AUPR-IN': 0.9905825853347778, 'AUPR-OUT': 0.9562773704528809, 'FPR95TPR': 0.10161177068948746, 'Method': 'Entropy', 'Dataset': 'Textures'}\n",
      "TinyImageNetCrop\n",
      "{'AUROC': 0.9969525933265686, 'AUPR-IN': 0.9991142153739929, 'AUPR-OUT': 0.9903141856193542, 'FPR95TPR': 0.008409250527620316, 'Method': 'Entropy', 'Dataset': 'TinyImageNetCrop'}\n",
      "TinyImageNetResize\n",
      "{'AUROC': 0.9946212768554688, 'AUPR-IN': 0.9983161687850952, 'AUPR-OUT': 0.9856681227684021, 'FPR95TPR': 0.021723896265029907, 'Method': 'Entropy', 'Dataset': 'TinyImageNetResize'}\n",
      "LSUNCrop\n",
      "{'AUROC': 0.9985985159873962, 'AUPR-IN': 0.9996002912521362, 'AUPR-OUT': 0.998909592628479, 'FPR95TPR': 0.002803083276376128, 'Method': 'LogicOOD+', 'Dataset': 'LSUNCrop'}\n",
      "LSUNResize\n",
      "{'AUROC': 0.9985985159873962, 'AUPR-IN': 0.9996002912521362, 'AUPR-OUT': 0.998909592628479, 'FPR95TPR': 0.002803083276376128, 'Method': 'LogicOOD+', 'Dataset': 'LSUNResize'}\n",
      "Textures\n",
      "{'AUROC': 0.9985767602920532, 'AUPR-IN': 0.9992798566818237, 'AUPR-OUT': 0.999025285243988, 'FPR95TPR': 0.002803083276376128, 'Method': 'LogicOOD+', 'Dataset': 'Textures'}\n",
      "TinyImageNetCrop\n",
      "{'AUROC': 0.9985985159873962, 'AUPR-IN': 0.9996002912521362, 'AUPR-OUT': 0.998909592628479, 'FPR95TPR': 0.002803083276376128, 'Method': 'LogicOOD+', 'Dataset': 'TinyImageNetCrop'}\n",
      "TinyImageNetResize\n",
      "{'AUROC': 0.9985985159873962, 'AUPR-IN': 0.9996002912521362, 'AUPR-OUT': 0.998909592628479, 'FPR95TPR': 0.002803083276376128, 'Method': 'LogicOOD+', 'Dataset': 'TinyImageNetResize'}\n",
      "LSUNCrop\n",
      "{'AUROC': 0.7663484811782837, 'AUPR-IN': 0.9476871490478516, 'AUPR-OUT': 0.688870906829834, 'FPR95TPR': 1.0, 'Method': 'Logic', 'Dataset': 'LSUNCrop'}\n",
      "LSUNResize\n",
      "{'AUROC': 0.6931984424591064, 'AUPR-IN': 0.9311657547950745, 'AUPR-OUT': 0.6578330397605896, 'FPR95TPR': 1.0, 'Method': 'Logic', 'Dataset': 'LSUNResize'}\n",
      "Textures\n",
      "{'AUROC': 0.73033607006073, 'AUPR-IN': 0.9083378314971924, 'AUPR-OUT': 0.7414058446884155, 'FPR95TPR': 1.0, 'Method': 'Logic', 'Dataset': 'Textures'}\n",
      "TinyImageNetCrop\n",
      "{'AUROC': 0.7893984317779541, 'AUPR-IN': 0.9528640508651733, 'AUPR-OUT': 0.7013278603553772, 'FPR95TPR': 1.0, 'Method': 'Logic', 'Dataset': 'TinyImageNetCrop'}\n",
      "TinyImageNetResize\n",
      "{'AUROC': 0.726048469543457, 'AUPR-IN': 0.938607394695282, 'AUPR-OUT': 0.6704174280166626, 'FPR95TPR': 1.0, 'Method': 'Logic', 'Dataset': 'TinyImageNetResize'}\n",
      "LSUNCrop\n",
      "{'AUROC': 0.9985984563827515, 'AUPR-IN': 0.9996002912521362, 'AUPR-OUT': 0.9989096522331238, 'FPR95TPR': 0.002803083276376128, 'Method': 'Logic+', 'Dataset': 'LSUNCrop'}\n",
      "LSUNResize\n",
      "{'AUROC': 0.9985984563827515, 'AUPR-IN': 0.9996002912521362, 'AUPR-OUT': 0.9989096522331238, 'FPR95TPR': 0.002803083276376128, 'Method': 'Logic+', 'Dataset': 'LSUNResize'}\n",
      "Textures\n",
      "{'AUROC': 0.9977118968963623, 'AUPR-IN': 0.9989926218986511, 'AUPR-OUT': 0.9973186254501343, 'FPR95TPR': 0.002803083276376128, 'Method': 'Logic+', 'Dataset': 'Textures'}\n",
      "TinyImageNetCrop\n",
      "{'AUROC': 0.9985984563827515, 'AUPR-IN': 0.9996002912521362, 'AUPR-OUT': 0.9989096522331238, 'FPR95TPR': 0.002803083276376128, 'Method': 'Logic+', 'Dataset': 'TinyImageNetCrop'}\n",
      "TinyImageNetResize\n",
      "{'AUROC': 0.9985984563827515, 'AUPR-IN': 0.9996002912521362, 'AUPR-OUT': 0.9989096522331238, 'FPR95TPR': 0.002803083276376128, 'Method': 'Logic+', 'Dataset': 'TinyImageNetResize'}\n",
      "LSUNCrop\n",
      "{'AUROC': 0.9926185607910156, 'AUPR-IN': 0.9975834488868713, 'AUPR-OUT': 0.9807652235031128, 'FPR95TPR': 0.021373510360717773, 'Method': 'LogicOOD', 'Dataset': 'LSUNCrop'}\n",
      "LSUNResize\n",
      "{'AUROC': 0.9863401055335999, 'AUPR-IN': 0.9953847527503967, 'AUPR-OUT': 0.9681951403617859, 'FPR95TPR': 0.06972669810056686, 'Method': 'LogicOOD', 'Dataset': 'LSUNResize'}\n",
      "Textures\n",
      "{'AUROC': 0.973800778388977, 'AUPR-IN': 0.9868881106376648, 'AUPR-OUT': 0.9458019733428955, 'FPR95TPR': 0.1268395185470581, 'Method': 'LogicOOD', 'Dataset': 'Textures'}\n",
      "TinyImageNetCrop\n",
      "{'AUROC': 0.9947817325592041, 'AUPR-IN': 0.9982389807701111, 'AUPR-OUT': 0.9878535866737366, 'FPR95TPR': 0.016117729246616364, 'Method': 'LogicOOD', 'Dataset': 'TinyImageNetCrop'}\n",
      "TinyImageNetResize\n",
      "{'AUROC': 0.9899956583976746, 'AUPR-IN': 0.9966347813606262, 'AUPR-OUT': 0.976112961769104, 'FPR95TPR': 0.04590049013495445, 'Method': 'LogicOOD', 'Dataset': 'TinyImageNetResize'}\n",
      "LSUNCrop\n",
      "{'AUROC': 0.9923702478408813, 'AUPR-IN': 0.9976896047592163, 'AUPR-OUT': 0.9787768721580505, 'FPR95TPR': 0.02908199094235897, 'Method': 'Ensemble', 'Dataset': 'LSUNCrop'}\n",
      "LSUNResize\n",
      "{'AUROC': 0.9859161972999573, 'AUPR-IN': 0.9954102635383606, 'AUPR-OUT': 0.9672345519065857, 'FPR95TPR': 0.07042746990919113, 'Method': 'Ensemble', 'Dataset': 'LSUNResize'}\n",
      "Textures\n",
      "{'AUROC': 0.9713982939720154, 'AUPR-IN': 0.9854981899261475, 'AUPR-OUT': 0.9428932666778564, 'FPR95TPR': 0.13454800844192505, 'Method': 'Ensemble', 'Dataset': 'Textures'}\n",
      "TinyImageNetCrop\n",
      "{'AUROC': 0.9943888187408447, 'AUPR-IN': 0.9982556700706482, 'AUPR-OUT': 0.9856134057044983, 'FPR95TPR': 0.019971968606114388, 'Method': 'Ensemble', 'Dataset': 'TinyImageNetCrop'}\n",
      "TinyImageNetResize\n",
      "{'AUROC': 0.9891254901885986, 'AUPR-IN': 0.9964664578437805, 'AUPR-OUT': 0.9741666316986084, 'FPR95TPR': 0.05185704305768013, 'Method': 'Ensemble', 'Dataset': 'TinyImageNetResize'}\n",
      "LSUNCrop\n",
      "{'AUROC': 0.9945849776268005, 'AUPR-IN': 0.9983587265014648, 'AUPR-OUT': 0.9839928150177002, 'FPR95TPR': 0.017168885096907616, 'Method': 'MSP', 'Dataset': 'LSUNCrop'}\n",
      "LSUNResize\n",
      "{'AUROC': 0.9927864670753479, 'AUPR-IN': 0.9976102113723755, 'AUPR-OUT': 0.9820905923843384, 'FPR95TPR': 0.03363700211048126, 'Method': 'MSP', 'Dataset': 'LSUNResize'}\n",
      "Textures\n",
      "{'AUROC': 0.979364275932312, 'AUPR-IN': 0.989916205406189, 'AUPR-OUT': 0.9551182389259338, 'FPR95TPR': 0.10441485792398453, 'Method': 'MSP', 'Dataset': 'Textures'}\n",
      "TinyImageNetCrop\n",
      "{'AUROC': 0.9963876008987427, 'AUPR-IN': 0.9988869428634644, 'AUPR-OUT': 0.9894464015960693, 'FPR95TPR': 0.009460406377911568, 'Method': 'MSP', 'Dataset': 'TinyImageNetCrop'}\n",
      "TinyImageNetResize\n",
      "{'AUROC': 0.9938647747039795, 'AUPR-IN': 0.9979616403579712, 'AUPR-OUT': 0.9845674633979797, 'FPR95TPR': 0.02452697977423668, 'Method': 'MSP', 'Dataset': 'TinyImageNetResize'}\n",
      "LSUNCrop\n",
      "{'AUROC': 0.9969348311424255, 'AUPR-IN': 0.9991366863250732, 'AUPR-OUT': 0.9895800948143005, 'FPR95TPR': 0.008058864623308182, 'Method': 'Energy', 'Dataset': 'LSUNCrop'}\n",
      "LSUNResize\n",
      "{'AUROC': 0.9950557351112366, 'AUPR-IN': 0.9985268712043762, 'AUPR-OUT': 0.9860862493515015, 'FPR95TPR': 0.028381219133734703, 'Method': 'Energy', 'Dataset': 'LSUNResize'}\n",
      "Textures\n",
      "{'AUROC': 0.9804677367210388, 'AUPR-IN': 0.990607738494873, 'AUPR-OUT': 0.9587972164154053, 'FPR95TPR': 0.11177294701337814, 'Method': 'Energy', 'Dataset': 'Textures'}\n",
      "TinyImageNetCrop\n",
      "{'AUROC': 0.9974452257156372, 'AUPR-IN': 0.9992885589599609, 'AUPR-OUT': 0.9907803535461426, 'FPR95TPR': 0.005255781579762697, 'Method': 'Energy', 'Dataset': 'TinyImageNetCrop'}\n",
      "TinyImageNetResize\n",
      "{'AUROC': 0.9948853254318237, 'AUPR-IN': 0.9985069632530212, 'AUPR-OUT': 0.9838839769363403, 'FPR95TPR': 0.024176593869924545, 'Method': 'Energy', 'Dataset': 'TinyImageNetResize'}\n",
      "LSUNCrop\n",
      "{'AUROC': 0.9968807101249695, 'AUPR-IN': 0.9991182088851929, 'AUPR-OUT': 0.9895007014274597, 'FPR95TPR': 0.008409250527620316, 'Method': 'MaxLogit', 'Dataset': 'LSUNCrop'}\n",
      "LSUNResize\n",
      "{'AUROC': 0.9949401021003723, 'AUPR-IN': 0.9984754920005798, 'AUPR-OUT': 0.985988199710846, 'FPR95TPR': 0.02803083322942257, 'Method': 'MaxLogit', 'Dataset': 'LSUNResize'}\n",
      "Textures\n",
      "{'AUROC': 0.9804844260215759, 'AUPR-IN': 0.9905930757522583, 'AUPR-OUT': 0.9588921070098877, 'FPR95TPR': 0.11107218265533447, 'Method': 'MaxLogit', 'Dataset': 'Textures'}\n",
      "TinyImageNetCrop\n",
      "{'AUROC': 0.997399091720581, 'AUPR-IN': 0.9992718696594238, 'AUPR-OUT': 0.990734875202179, 'FPR95TPR': 0.005606166552752256, 'Method': 'MaxLogit', 'Dataset': 'TinyImageNetCrop'}\n",
      "TinyImageNetResize\n"
     ]
    },
    {
     "name": "stderr",
     "output_type": "stream",
     "text": [
      "  0%|          | 0/438 [00:00<?, ?it/s]"
     ]
    },
    {
     "name": "stdout",
     "output_type": "stream",
     "text": [
      "{'AUROC': 0.9947925209999084, 'AUPR-IN': 0.99846351146698, 'AUPR-OUT': 0.9838247895240784, 'FPR95TPR': 0.024176593869924545, 'Method': 'MaxLogit', 'Dataset': 'TinyImageNetResize'}\n",
      "label\n"
     ]
    },
    {
     "name": "stderr",
     "output_type": "stream",
     "text": [
      "100%|██████████| 438/438 [00:12<00:00, 36.01it/s, loss=0.0449]\n",
      "  0%|          | 0/438 [00:00<?, ?it/s]"
     ]
    },
    {
     "name": "stdout",
     "output_type": "stream",
     "text": [
      "Accuracy of the network on the test images: 99.30%\n"
     ]
    },
    {
     "name": "stderr",
     "output_type": "stream",
     "text": [
      "100%|██████████| 438/438 [00:11<00:00, 36.50it/s, loss=0.0222]\n",
      "  0%|          | 0/438 [00:00<?, ?it/s]"
     ]
    },
    {
     "name": "stdout",
     "output_type": "stream",
     "text": [
      "Accuracy of the network on the test images: 96.50%\n"
     ]
    },
    {
     "name": "stderr",
     "output_type": "stream",
     "text": [
      "100%|██████████| 438/438 [00:12<00:00, 36.25it/s, loss=0.0276] \n",
      "  0%|          | 0/438 [00:00<?, ?it/s]"
     ]
    },
    {
     "name": "stdout",
     "output_type": "stream",
     "text": [
      "Accuracy of the network on the test images: 99.58%\n"
     ]
    },
    {
     "name": "stderr",
     "output_type": "stream",
     "text": [
      "100%|██████████| 438/438 [00:12<00:00, 36.40it/s, loss=0.00758]\n",
      "  0%|          | 0/438 [00:00<?, ?it/s]"
     ]
    },
    {
     "name": "stdout",
     "output_type": "stream",
     "text": [
      "Accuracy of the network on the test images: 100.00%\n"
     ]
    },
    {
     "name": "stderr",
     "output_type": "stream",
     "text": [
      "100%|██████████| 438/438 [00:12<00:00, 36.16it/s, loss=0.00457]\n",
      "  0%|          | 0/438 [00:00<?, ?it/s]"
     ]
    },
    {
     "name": "stdout",
     "output_type": "stream",
     "text": [
      "Accuracy of the network on the test images: 99.68%\n",
      "color\n"
     ]
    },
    {
     "name": "stderr",
     "output_type": "stream",
     "text": [
      "100%|██████████| 438/438 [00:12<00:00, 35.79it/s, loss=0.0744] \n",
      "  0%|          | 0/438 [00:00<?, ?it/s]"
     ]
    },
    {
     "name": "stdout",
     "output_type": "stream",
     "text": [
      "Accuracy of the network on the test images: 95.90%\n"
     ]
    },
    {
     "name": "stderr",
     "output_type": "stream",
     "text": [
      "100%|██████████| 438/438 [00:12<00:00, 36.00it/s, loss=0.0262] \n",
      "  0%|          | 0/438 [00:00<?, ?it/s]"
     ]
    },
    {
     "name": "stdout",
     "output_type": "stream",
     "text": [
      "Accuracy of the network on the test images: 99.51%\n"
     ]
    },
    {
     "name": "stderr",
     "output_type": "stream",
     "text": [
      "100%|██████████| 438/438 [00:12<00:00, 35.85it/s, loss=0.0104] \n",
      "  0%|          | 0/438 [00:00<?, ?it/s]"
     ]
    },
    {
     "name": "stdout",
     "output_type": "stream",
     "text": [
      "Accuracy of the network on the test images: 99.30%\n"
     ]
    },
    {
     "name": "stderr",
     "output_type": "stream",
     "text": [
      "100%|██████████| 438/438 [00:12<00:00, 35.89it/s, loss=0.0157] \n",
      "  0%|          | 0/438 [00:00<?, ?it/s]"
     ]
    },
    {
     "name": "stdout",
     "output_type": "stream",
     "text": [
      "Accuracy of the network on the test images: 100.00%\n"
     ]
    },
    {
     "name": "stderr",
     "output_type": "stream",
     "text": [
      "100%|██████████| 438/438 [00:12<00:00, 35.67it/s, loss=0.0115]  \n"
     ]
    },
    {
     "name": "stdout",
     "output_type": "stream",
     "text": [
      "Accuracy of the network on the test images: 100.00%\n",
      "fruit\n"
     ]
    },
    {
     "name": "stderr",
     "output_type": "stream",
     "text": [
      "100%|██████████| 2000/2000 [00:55<00:00, 35.85it/s, loss=0.0275]  \n"
     ]
    },
    {
     "name": "stdout",
     "output_type": "stream",
     "text": [
      "Accuracy of the shape network on the test images: 99.72%\n",
      "LSUNCrop\n",
      "{'AUROC': 0.9968429803848267, 'AUPR-IN': 0.9991291761398315, 'AUPR-OUT': 0.9885169267654419, 'FPR95TPR': 0.005606166552752256, 'Method': 'ViM', 'Dataset': 'LSUNCrop'}\n",
      "LSUNResize\n",
      "{'AUROC': 0.9999991655349731, 'AUPR-IN': 0.9999997615814209, 'AUPR-OUT': 0.9999969005584717, 'FPR95TPR': 0.0, 'Method': 'ViM', 'Dataset': 'LSUNResize'}\n",
      "Textures\n",
      "{'AUROC': 0.9998722076416016, 'AUPR-IN': 0.9999393224716187, 'AUPR-OUT': 0.9997283816337585, 'FPR95TPR': 0.0, 'Method': 'ViM', 'Dataset': 'Textures'}\n",
      "TinyImageNetCrop\n",
      "{'AUROC': 0.9994798898696899, 'AUPR-IN': 0.9998562932014465, 'AUPR-OUT': 0.9980723857879639, 'FPR95TPR': 0.0, 'Method': 'ViM', 'Dataset': 'TinyImageNetCrop'}\n",
      "TinyImageNetResize\n",
      "{'AUROC': 0.999991774559021, 'AUPR-IN': 0.9999976754188538, 'AUPR-OUT': 0.9999712109565735, 'FPR95TPR': 0.0, 'Method': 'ViM', 'Dataset': 'TinyImageNetResize'}\n",
      "LSUNCrop\n",
      "{'AUROC': 0.9941326975822449, 'AUPR-IN': 0.9983989000320435, 'AUPR-OUT': 0.9782373309135437, 'FPR95TPR': 0.017168885096907616, 'Method': 'Mahalanobis', 'Dataset': 'LSUNCrop'}\n",
      "LSUNResize\n",
      "{'AUROC': 0.9999920129776001, 'AUPR-IN': 0.9999977946281433, 'AUPR-OUT': 0.9999717473983765, 'FPR95TPR': 0.0, 'Method': 'Mahalanobis', 'Dataset': 'LSUNResize'}\n",
      "Textures\n",
      "{'AUROC': 0.9993900656700134, 'AUPR-IN': 0.9997107982635498, 'AUPR-OUT': 0.9986966848373413, 'FPR95TPR': 0.0, 'Method': 'Mahalanobis', 'Dataset': 'Textures'}\n",
      "TinyImageNetCrop\n",
      "{'AUROC': 0.9982690811157227, 'AUPR-IN': 0.9995265603065491, 'AUPR-OUT': 0.9934803247451782, 'FPR95TPR': 0.000700770819094032, 'Method': 'Mahalanobis', 'Dataset': 'TinyImageNetCrop'}\n",
      "TinyImageNetResize\n",
      "{'AUROC': 0.9999173879623413, 'AUPR-IN': 0.9999769330024719, 'AUPR-OUT': 0.9996987581253052, 'FPR95TPR': 0.0, 'Method': 'Mahalanobis', 'Dataset': 'TinyImageNetResize'}\n",
      "LSUNCrop\n",
      "{'AUROC': 0.9756985902786255, 'AUPR-IN': 0.9926220178604126, 'AUPR-OUT': 0.9356727600097656, 'FPR95TPR': 0.13279607892036438, 'Method': 'Entropy', 'Dataset': 'LSUNCrop'}\n",
      "LSUNResize\n",
      "{'AUROC': 0.9910237789154053, 'AUPR-IN': 0.9971944093704224, 'AUPR-OUT': 0.9788325428962708, 'FPR95TPR': 0.04134548082947731, 'Method': 'Entropy', 'Dataset': 'LSUNResize'}\n",
      "Textures\n",
      "{'AUROC': 0.9709981679916382, 'AUPR-IN': 0.9841545820236206, 'AUPR-OUT': 0.9499116539955139, 'FPR95TPR': 0.11878065764904022, 'Method': 'Entropy', 'Dataset': 'Textures'}\n",
      "TinyImageNetCrop\n",
      "{'AUROC': 0.9803520441055298, 'AUPR-IN': 0.993696928024292, 'AUPR-OUT': 0.9543026685714722, 'FPR95TPR': 0.074281707406044, 'Method': 'Entropy', 'Dataset': 'TinyImageNetCrop'}\n",
      "TinyImageNetResize\n",
      "{'AUROC': 0.9882364869117737, 'AUPR-IN': 0.9963817000389099, 'AUPR-OUT': 0.9696389436721802, 'FPR95TPR': 0.046951647847890854, 'Method': 'Entropy', 'Dataset': 'TinyImageNetResize'}\n",
      "LSUNCrop\n",
      "{'AUROC': 0.9984232783317566, 'AUPR-IN': 0.9995504021644592, 'AUPR-OUT': 0.9987733960151672, 'FPR95TPR': 0.0031534687150269747, 'Method': 'LogicOOD+', 'Dataset': 'LSUNCrop'}\n",
      "LSUNResize\n",
      "{'AUROC': 0.9984232783317566, 'AUPR-IN': 0.9995504021644592, 'AUPR-OUT': 0.9987733960151672, 'FPR95TPR': 0.0031534687150269747, 'Method': 'LogicOOD+', 'Dataset': 'LSUNResize'}\n",
      "Textures\n",
      "{'AUROC': 0.9982756972312927, 'AUPR-IN': 0.9991185069084167, 'AUPR-OUT': 0.9986608028411865, 'FPR95TPR': 0.0031534687150269747, 'Method': 'LogicOOD+', 'Dataset': 'Textures'}\n",
      "TinyImageNetCrop\n",
      "{'AUROC': 0.9984232783317566, 'AUPR-IN': 0.9995504021644592, 'AUPR-OUT': 0.9987733960151672, 'FPR95TPR': 0.0031534687150269747, 'Method': 'LogicOOD+', 'Dataset': 'TinyImageNetCrop'}\n",
      "TinyImageNetResize\n",
      "{'AUROC': 0.998423159122467, 'AUPR-IN': 0.9995502829551697, 'AUPR-OUT': 0.9987728595733643, 'FPR95TPR': 0.0031534687150269747, 'Method': 'LogicOOD+', 'Dataset': 'TinyImageNetResize'}\n",
      "LSUNCrop\n",
      "{'AUROC': 0.8164733052253723, 'AUPR-IN': 0.9588948488235474, 'AUPR-OUT': 0.7181594967842102, 'FPR95TPR': 1.0, 'Method': 'Logic', 'Dataset': 'LSUNCrop'}\n",
      "LSUNResize\n",
      "{'AUROC': 0.7305233478546143, 'AUPR-IN': 0.9395500421524048, 'AUPR-OUT': 0.672185480594635, 'FPR95TPR': 1.0, 'Method': 'Logic', 'Dataset': 'LSUNResize'}\n",
      "Textures\n",
      "{'AUROC': 0.7563133835792542, 'AUPR-IN': 0.917108416557312, 'AUPR-OUT': 0.7540642619132996, 'FPR95TPR': 1.0, 'Method': 'Logic', 'Dataset': 'Textures'}\n",
      "TinyImageNetCrop\n",
      "{'AUROC': 0.6997233033180237, 'AUPR-IN': 0.9325637817382812, 'AUPR-OUT': 0.6600728034973145, 'FPR95TPR': 1.0, 'Method': 'Logic', 'Dataset': 'TinyImageNetCrop'}\n",
      "TinyImageNetResize\n",
      "{'AUROC': 0.7110733389854431, 'AUPR-IN': 0.935143232345581, 'AUPR-OUT': 0.6643343567848206, 'FPR95TPR': 1.0, 'Method': 'Logic', 'Dataset': 'TinyImageNetResize'}\n",
      "LSUNCrop\n",
      "{'AUROC': 0.9984232783317566, 'AUPR-IN': 0.9995504021644592, 'AUPR-OUT': 0.9987733364105225, 'FPR95TPR': 0.0031534687150269747, 'Method': 'Logic+', 'Dataset': 'LSUNCrop'}\n",
      "LSUNResize\n",
      "{'AUROC': 0.9984232783317566, 'AUPR-IN': 0.9995504021644592, 'AUPR-OUT': 0.9987733364105225, 'FPR95TPR': 0.0031534687150269747, 'Method': 'Logic+', 'Dataset': 'LSUNResize'}\n",
      "Textures\n",
      "{'AUROC': 0.9915969967842102, 'AUPR-IN': 0.9968987107276917, 'AUPR-OUT': 0.9857771396636963, 'FPR95TPR': 0.0031534687150269747, 'Method': 'Logic+', 'Dataset': 'Textures'}\n",
      "TinyImageNetCrop\n",
      "{'AUROC': 0.9984232783317566, 'AUPR-IN': 0.9995504021644592, 'AUPR-OUT': 0.9987733364105225, 'FPR95TPR': 0.0031534687150269747, 'Method': 'Logic+', 'Dataset': 'TinyImageNetCrop'}\n",
      "TinyImageNetResize\n",
      "{'AUROC': 0.9983733296394348, 'AUPR-IN': 0.9995392560958862, 'AUPR-OUT': 0.9985976219177246, 'FPR95TPR': 0.0031534687150269747, 'Method': 'Logic+', 'Dataset': 'TinyImageNetResize'}\n",
      "LSUNCrop\n",
      "{'AUROC': 0.9893255233764648, 'AUPR-IN': 0.9966533780097961, 'AUPR-OUT': 0.9731040000915527, 'FPR95TPR': 0.04905395954847336, 'Method': 'LogicOOD', 'Dataset': 'LSUNCrop'}\n",
      "LSUNResize\n",
      "{'AUROC': 0.9926453828811646, 'AUPR-IN': 0.9973667860031128, 'AUPR-OUT': 0.9849951863288879, 'FPR95TPR': 0.03153468668460846, 'Method': 'LogicOOD', 'Dataset': 'LSUNResize'}\n",
      "Textures\n",
      "{'AUROC': 0.9852312803268433, 'AUPR-IN': 0.9917629957199097, 'AUPR-OUT': 0.9761917591094971, 'FPR95TPR': 0.05991590768098831, 'Method': 'LogicOOD', 'Dataset': 'Textures'}\n",
      "TinyImageNetCrop\n",
      "{'AUROC': 0.9879589676856995, 'AUPR-IN': 0.9957965016365051, 'AUPR-OUT': 0.9740662574768066, 'FPR95TPR': 0.044498950242996216, 'Method': 'LogicOOD', 'Dataset': 'TinyImageNetCrop'}\n",
      "TinyImageNetResize\n",
      "{'AUROC': 0.9909709692001343, 'AUPR-IN': 0.9968216419219971, 'AUPR-OUT': 0.979836106300354, 'FPR95TPR': 0.03784162551164627, 'Method': 'LogicOOD', 'Dataset': 'TinyImageNetResize'}\n",
      "LSUNCrop\n",
      "{'AUROC': 0.9887131452560425, 'AUPR-IN': 0.9964982867240906, 'AUPR-OUT': 0.9715874195098877, 'FPR95TPR': 0.04940434545278549, 'Method': 'Ensemble', 'Dataset': 'LSUNCrop'}\n",
      "LSUNResize\n",
      "{'AUROC': 0.9915410280227661, 'AUPR-IN': 0.9971767663955688, 'AUPR-OUT': 0.982603907585144, 'FPR95TPR': 0.0350385420024395, 'Method': 'Ensemble', 'Dataset': 'LSUNResize'}\n",
      "Textures\n",
      "{'AUROC': 0.981226921081543, 'AUPR-IN': 0.9891675114631653, 'AUPR-OUT': 0.9707441926002502, 'FPR95TPR': 0.06552207469940186, 'Method': 'Ensemble', 'Dataset': 'Textures'}\n",
      "TinyImageNetCrop\n",
      "{'AUROC': 0.9875155687332153, 'AUPR-IN': 0.9958926439285278, 'AUPR-OUT': 0.9728823304176331, 'FPR95TPR': 0.046250876039266586, 'Method': 'Ensemble', 'Dataset': 'TinyImageNetCrop'}\n",
      "TinyImageNetResize\n",
      "{'AUROC': 0.9902949929237366, 'AUPR-IN': 0.996854305267334, 'AUPR-OUT': 0.9779279232025146, 'FPR95TPR': 0.03959355130791664, 'Method': 'Ensemble', 'Dataset': 'TinyImageNetResize'}\n",
      "LSUNCrop\n",
      "{'AUROC': 0.9721932411193848, 'AUPR-IN': 0.9910132884979248, 'AUPR-OUT': 0.9320783615112305, 'FPR95TPR': 0.13770146667957306, 'Method': 'MSP', 'Dataset': 'LSUNCrop'}\n",
      "LSUNResize\n",
      "{'AUROC': 0.9881259202957153, 'AUPR-IN': 0.9958704710006714, 'AUPR-OUT': 0.9766552448272705, 'FPR95TPR': 0.04204625263810158, 'Method': 'MSP', 'Dataset': 'LSUNResize'}\n",
      "Textures\n",
      "{'AUROC': 0.9684659242630005, 'AUPR-IN': 0.9814664721488953, 'AUPR-OUT': 0.9487671852111816, 'FPR95TPR': 0.11632796376943588, 'Method': 'MSP', 'Dataset': 'Textures'}\n",
      "TinyImageNetCrop\n",
      "{'AUROC': 0.9775778651237488, 'AUPR-IN': 0.9922519326210022, 'AUPR-OUT': 0.9521026015281677, 'FPR95TPR': 0.07848633825778961, 'Method': 'MSP', 'Dataset': 'TinyImageNetCrop'}\n",
      "TinyImageNetResize\n",
      "{'AUROC': 0.9857088327407837, 'AUPR-IN': 0.9951931238174438, 'AUPR-OUT': 0.9681251049041748, 'FPR95TPR': 0.048703573644161224, 'Method': 'MSP', 'Dataset': 'TinyImageNetResize'}\n",
      "LSUNCrop\n",
      "{'AUROC': 0.9782926440238953, 'AUPR-IN': 0.9934914112091064, 'AUPR-OUT': 0.9416506290435791, 'FPR95TPR': 0.11317449063062668, 'Method': 'Energy', 'Dataset': 'LSUNCrop'}\n",
      "LSUNResize\n",
      "{'AUROC': 0.989760160446167, 'AUPR-IN': 0.9968994855880737, 'AUPR-OUT': 0.972898542881012, 'FPR95TPR': 0.04309740662574768, 'Method': 'Energy', 'Dataset': 'LSUNResize'}\n",
      "Textures\n",
      "{'AUROC': 0.9660495519638062, 'AUPR-IN': 0.9819052815437317, 'AUPR-OUT': 0.9372112154960632, 'FPR95TPR': 0.13665030896663666, 'Method': 'Energy', 'Dataset': 'Textures'}\n",
      "TinyImageNetCrop\n",
      "{'AUROC': 0.9805104732513428, 'AUPR-IN': 0.9938613176345825, 'AUPR-OUT': 0.9536064267158508, 'FPR95TPR': 0.08234057575464249, 'Method': 'Energy', 'Dataset': 'TinyImageNetCrop'}\n",
      "TinyImageNetResize\n",
      "{'AUROC': 0.9854075908660889, 'AUPR-IN': 0.9956082701683044, 'AUPR-OUT': 0.9582698941230774, 'FPR95TPR': 0.05851436406373978, 'Method': 'Energy', 'Dataset': 'TinyImageNetResize'}\n",
      "LSUNCrop\n",
      "{'AUROC': 0.9777811169624329, 'AUPR-IN': 0.9932684898376465, 'AUPR-OUT': 0.9412903189659119, 'FPR95TPR': 0.11352487653493881, 'Method': 'MaxLogit', 'Dataset': 'LSUNCrop'}\n",
      "LSUNResize\n",
      "{'AUROC': 0.9893856048583984, 'AUPR-IN': 0.9967300891876221, 'AUPR-OUT': 0.9728268980979919, 'FPR95TPR': 0.04274702072143555, 'Method': 'MaxLogit', 'Dataset': 'LSUNResize'}\n",
      "Textures\n",
      "{'AUROC': 0.9659825563430786, 'AUPR-IN': 0.9816744923591614, 'AUPR-OUT': 0.9373946189880371, 'FPR95TPR': 0.13524878025054932, 'Method': 'MaxLogit', 'Dataset': 'Textures'}\n",
      "TinyImageNetCrop\n",
      "{'AUROC': 0.980166494846344, 'AUPR-IN': 0.9936667680740356, 'AUPR-OUT': 0.9535689353942871, 'FPR95TPR': 0.08234057575464249, 'Method': 'MaxLogit', 'Dataset': 'TinyImageNetCrop'}\n",
      "TinyImageNetResize\n",
      "{'AUROC': 0.9853125810623169, 'AUPR-IN': 0.9955323934555054, 'AUPR-OUT': 0.9585529565811157, 'FPR95TPR': 0.05606166645884514, 'Method': 'MaxLogit', 'Dataset': 'TinyImageNetResize'}\n"
     ]
    }
   ],
   "source": [
    "results = []\n",
    "\n",
    "for trial in range(10):\n",
    "    print(\"label\")\n",
    "    label_net = train_model(att_index=0, num_classes=33)\n",
    "    print(\"color\")\n",
    "    color_net = train_model(att_index=1, num_classes=6)\n",
    "    print(\"fruit\")\n",
    "\n",
    "    fruit_net = train_fruit_model()\n",
    "\n",
    "    res = evaluate(label_net, color_net, fruit_net)\n",
    "    \n",
    "    for r in res:\n",
    "        r.update({\"Seed\": trial})\n",
    "    \n",
    "    results += res"
   ]
  },
  {
   "cell_type": "code",
   "execution_count": 9,
   "id": "c3e5287e-1bd0-4bfd-a73f-e427f369f3c2",
   "metadata": {
    "ExecuteTime": {
     "end_time": "2023-08-17T18:10:25.743706849Z",
     "start_time": "2023-08-17T18:10:25.662798170Z"
    }
   },
   "outputs": [
    {
     "name": "stdout",
     "output_type": "stream",
     "text": [
      "\\begin{tabular}{lrrrrrrrr}\n",
      "\\toprule\n",
      "{} & \\multicolumn{2}{l}{AUROC} & \\multicolumn{2}{l}{AUPR-IN} & \\multicolumn{2}{l}{AUPR-OUT} & \\multicolumn{2}{l}{FPR95TPR} \\\\\n",
      "{} &  mean &  sem &    mean &  sem &     mean &  sem &     mean &  sem \\\\\n",
      "Method      &       &      &         &      &          &      &          &      \\\\\n",
      "\\midrule\n",
      "Energy      & 98.19 & 0.22 &   99.38 & 0.09 &    94.44 & 0.59 &     9.11 & 1.41 \\\\\n",
      "Ensemble    & 98.95 & 0.08 &   99.60 & 0.05 &    97.39 & 0.17 &     4.39 & 0.38 \\\\\n",
      "Entropy     & 98.24 & 0.22 &   99.39 & 0.09 &    94.64 & 0.65 &     8.37 & 1.32 \\\\\n",
      "Logic       & 73.90 & 0.90 &   93.57 & 0.27 &    69.50 & 0.57 &   100.00 & 0.00 \\\\\n",
      "Logic+      & 99.87 & 0.03 &   99.96 & 0.01 &    99.82 & 0.05 &     0.13 & 0.03 \\\\\n",
      "LogicOOD    & 99.12 & 0.08 &   99.66 & 0.04 &    97.74 & 0.16 &     3.66 & 0.37 \\\\\n",
      "LogicOOD+   & 99.94 & 0.01 &   99.98 & 0.01 &    99.95 & 0.01 &     0.13 & 0.03 \\\\\n",
      "MSP         & 98.10 & 0.23 &   99.32 & 0.10 &    94.54 & 0.65 &     8.42 & 1.29 \\\\\n",
      "Mahalanobis & 99.74 & 0.08 &   99.93 & 0.02 &    99.04 & 0.32 &     1.03 & 0.59 \\\\\n",
      "MaxLogit    & 98.19 & 0.22 &   99.37 & 0.09 &    94.44 & 0.59 &     9.10 & 1.41 \\\\\n",
      "ViM         & 99.85 & 0.05 &   99.95 & 0.01 &    99.48 & 0.20 &     0.44 & 0.26 \\\\\n",
      "\\bottomrule\n",
      "\\end{tabular}\n",
      "\n"
     ]
    }
   ],
   "source": [
    "import pandas as pd\n",
    "result_df = pd.DataFrame(results)\n",
    "print((result_df.groupby(by=\"Method\").agg([\"mean\", \"sem\"]) * 100)[[\"AUROC\", \"AUPR-IN\", \"AUPR-OUT\", \"FPR95TPR\"]].to_latex(float_format=\"%.2f\"))"
   ]
  },
  {
   "cell_type": "code",
   "execution_count": 10,
   "outputs": [],
   "source": [
    "s = (result_df.groupby(by=\"Method\").agg([\"mean\", \"sem\"]) * 100)[[\"AUROC\", \"AUPR-IN\", \"AUPR-OUT\", \"FPR95TPR\"]].to_latex(float_format=\"%.2f\")"
   ],
   "metadata": {
    "collapsed": false,
    "ExecuteTime": {
     "end_time": "2023-08-18T08:33:55.708703836Z",
     "start_time": "2023-08-18T08:33:55.676896849Z"
    }
   }
  },
  {
   "cell_type": "code",
   "execution_count": 14,
   "outputs": [
    {
     "name": "stdout",
     "output_type": "stream",
     "text": [
      "\\begin{tabular}{lrrrrrrrr}\n",
      "\\toprule\n",
      "{} & \\multicolumn{2}{l}{AUROC} & \\multicolumn{2}{l}{AUPR-IN} & \\multicolumn{2}{l}{AUPR-OUT} & \\multicolumn{2}{l}{FPR95TPR} \\\\\n",
      "{} &  mean &  sem &    mean &  sem &     mean &  sem &     mean &  sem \\\\\n",
      "Method      &       &      &         &      &          &      &          &      \\\\\n",
      "\\midrule\n",
      "Energy      & 98.19 & \\pm 0.22 &   99.38 & \\pm 0.09 &    94.44 & \\pm 0.59 &     9.11 & \\pm 1.41 \\\\\n",
      "Ensemble    & 98.95 & \\pm 0.08 &   99.60 & \\pm 0.05 &    97.39 & \\pm 0.17 &     4.39 & \\pm 0.38 \\\\\n",
      "Entropy     & 98.24 & \\pm 0.22 &   99.39 & \\pm 0.09 &    94.64 & \\pm 0.65 &     8.37 & \\pm 1.32 \\\\\n",
      "Logic       & 73.90 & \\pm 0.90 &   93.57 & \\pm 0.27 &    69.50 & \\pm 0.57 &   100.00 & \\pm 0.00 \\\\\n",
      "Logic+      & 99.87 & \\pm 0.03 &   99.96 & \\pm 0.01 &    99.82 & \\pm 0.05 &     0.13 & \\pm 0.03 \\\\\n",
      "LogicOOD    & 99.12 & \\pm 0.08 &   99.66 & \\pm 0.04 &    97.74 & \\pm 0.16 &     3.66 & \\pm 0.37 \\\\\n",
      "LogicOOD+   & 99.94 & \\pm 0.01 &   99.98 & \\pm 0.01 &    99.95 & \\pm 0.01 &     0.13 & \\pm 0.03 \\\\\n",
      "MSP         & 98.10 & \\pm 0.23 &   99.32 & \\pm 0.10 &    94.54 & \\pm 0.65 &     8.42 & \\pm 1.29 \\\\\n",
      "Mahalanobis & 99.74 & \\pm 0.08 &   99.93 & \\pm 0.02 &    99.04 & \\pm 0.32 &     1.03 & \\pm 0.59 \\\\\n",
      "MaxLogit    & 98.19 & \\pm 0.22 &   99.37 & \\pm 0.09 &    94.44 & \\pm 0.59 &     9.10 & \\pm 1.41 \\\\\n",
      "ViM         & 99.85 & \\pm 0.05 &   99.95 & \\pm 0.01 &    99.48 & \\pm 0.20 &     0.44 & \\pm 0.26 \\\\\n",
      "\\bottomrule\n",
      "\\end{tabular}\n",
      "\n"
     ]
    }
   ],
   "source": [
    "print(s.replace(\"& 0.\", \"& \\pm 0.\").replace(\"& 1.\", \"& \\pm 1.\"))"
   ],
   "metadata": {
    "collapsed": false,
    "ExecuteTime": {
     "end_time": "2023-08-18T08:34:48.735985386Z",
     "start_time": "2023-08-18T08:34:48.731330392Z"
    }
   }
  },
  {
   "cell_type": "code",
   "execution_count": null,
   "outputs": [],
   "source": [],
   "metadata": {
    "collapsed": false
   }
  }
 ],
 "metadata": {
  "kernelspec": {
   "display_name": "pytorch",
   "language": "python",
   "name": "pytorch"
  },
  "language_info": {
   "codemirror_mode": {
    "name": "ipython",
    "version": 3
   },
   "file_extension": ".py",
   "mimetype": "text/x-python",
   "name": "python",
   "nbconvert_exporter": "python",
   "pygments_lexer": "ipython3",
   "version": "3.9.0"
  }
 },
 "nbformat": 4,
 "nbformat_minor": 5
}
