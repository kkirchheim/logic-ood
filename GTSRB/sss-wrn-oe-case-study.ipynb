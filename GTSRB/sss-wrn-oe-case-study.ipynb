{
 "cells": [
  {
   "cell_type": "markdown",
   "metadata": {},
   "source": [
    "# Street sign with Pre-Trained WideResNet\n",
    "\n",
    "With additional shield net\n",
    "\n",
    "* case study, evaluate one model \n"
   ]
  },
  {
   "cell_type": "code",
   "execution_count": 1,
   "metadata": {},
   "outputs": [
    {
     "data": {
      "text/plain": [
       "<torch._C.Generator at 0x7f7184294670>"
      ]
     },
     "execution_count": 1,
     "metadata": {},
     "output_type": "execute_result"
    }
   ],
   "source": [
    "from torch.utils.data import Dataset, DataLoader\n",
    "from os.path import join\n",
    "import pandas as pd \n",
    "from PIL import Image\n",
    "from torch.optim import SGD\n",
    "import seaborn as sb \n",
    "from gtsrb import GTSRB\n",
    "from detectors import EnsembleDetector, SemanticDetector\n",
    "sb.set()\n",
    "\n",
    "import os\n",
    "os.environ['CUDA_VISIBLE_DEVICES'] = \"MIG-GPU-8ab9a0c8-909c-3f13-97e6-7376d6d4a029/0/0\"\n",
    "\n",
    "\n",
    "device=\"cuda:0\"\n",
    "root = \"data/\"\n",
    "\n",
    "import torch\n",
    "torch.manual_seed(0)\n",
    "\n",
    "import numpy as np\n",
    "np.random.seed(0)\n",
    "\n",
    "import random\n",
    "random.seed(0)\n",
    "\n",
    "torch.use_deterministic_algorithms(False)\n",
    "\n",
    "def seed_worker(worker_id):\n",
    "    worker_seed = torch.initial_seed() % 2**32\n",
    "    np.random.seed(worker_seed)\n",
    "    random.seed(worker_seed)\n",
    "\n",
    "g = torch.Generator()\n",
    "g.manual_seed(0)\n"
   ]
  },
  {
   "cell_type": "code",
   "execution_count": 2,
   "metadata": {},
   "outputs": [],
   "source": [
    "import torchvision\n",
    "from torchvision.transforms import ToTensor, Resize, Compose\n",
    "import torch \n",
    "from torch.utils.data import DataLoader\n",
    "\n",
    "trans = Compose([ToTensor(), Resize((32, 32))])\n",
    "\n",
    "train_data = GTSRB(root=root, train=True, transforms=trans)\n",
    "test_data = GTSRB(root=root, train=False, transforms=trans)"
   ]
  },
  {
   "cell_type": "code",
   "execution_count": 3,
   "metadata": {},
   "outputs": [],
   "source": [
    "train_loader = DataLoader(train_data, batch_size=32, shuffle=True, num_workers=2, worker_init_fn=seed_worker)\n",
    "test_loader = DataLoader(test_data, batch_size=32, shuffle=False, num_workers=2, worker_init_fn=seed_worker)"
   ]
  },
  {
   "cell_type": "code",
   "execution_count": 4,
   "metadata": {},
   "outputs": [],
   "source": [
    "from torch import nn\n",
    "from torchvision.models.resnet import resnet18\n",
    "from pytorch_ood.model import WideResNet\n",
    "\n",
    "# def override \n",
    "def Model(num_classes=None, *args, **kwargs):\n",
    "    model = WideResNet(*args, num_classes=1000, **kwargs, pretrained=\"imagenet32\")\n",
    "    model.fc = nn.Linear(model.fc.in_features, num_classes)\n",
    "    return model\n"
   ]
  },
  {
   "cell_type": "code",
   "execution_count": 5,
   "metadata": {},
   "outputs": [],
   "source": [
    "from tqdm.notebook import tqdm \n",
    "import numpy as np \n",
    "\n",
    "def train_model(att_index, num_classes):\n",
    "    \"\"\"\n",
    "    train a model for the given attribute index \n",
    "    \"\"\"\n",
    "    trans = Compose([ToTensor(), Resize((32, 32))])\n",
    "    train_data = GTSRB(root=root, train=True, transforms=trans)\n",
    "    test_data = GTSRB(root=root, train=False, transforms=trans)\n",
    "    \n",
    "    train_loader = DataLoader(train_data, batch_size=32, shuffle=True, num_workers=2, worker_init_fn=seed_worker)\n",
    "    test_loader = DataLoader(test_data, batch_size=32, shuffle=False, num_workers=2, worker_init_fn=seed_worker)\n",
    "    \n",
    "    model = Model(num_classes=num_classes).to(device)\n",
    "\n",
    "    criterion = nn.CrossEntropyLoss()\n",
    "    optimizer = SGD(model.parameters(), lr=0.001, momentum=0.9, nesterov=True)\n",
    "\n",
    "    accs = []\n",
    "\n",
    "    for epoch in range(20):\n",
    "        running_loss = 0.0\n",
    "        model.train()\n",
    "        bar = tqdm(train_loader)\n",
    "        for inputs, y in bar:\n",
    "            labels = y[:, att_index]\n",
    "            inputs, labels = inputs.to(device), labels.to(device)\n",
    "\n",
    "            optimizer.zero_grad()\n",
    "            outputs = model(inputs)\n",
    "            loss = criterion(outputs, labels)\n",
    "            loss.backward()\n",
    "            optimizer.step()\n",
    "\n",
    "            running_loss = 0.8 * running_loss + 0.2 * loss.item()\n",
    "            bar.set_postfix({\"loss\": running_loss})\n",
    "\n",
    "        correct = 0\n",
    "        total = 0\n",
    "\n",
    "        with torch.no_grad():\n",
    "            model.eval()\n",
    "\n",
    "            for inputs, y in test_loader:\n",
    "                labels = y[:, att_index]\n",
    "                inputs, labels = inputs.to(device), labels.to(device)\n",
    "\n",
    "                outputs = model(inputs)\n",
    "                _, predicted = torch.max(outputs.data, dim=1)\n",
    "                total += labels.size(0)\n",
    "                correct += (predicted == labels).sum().item()\n",
    "\n",
    "        print(f'Accuracy of the network on the test images: {correct / total:.2%}')\n",
    "\n",
    "    return model "
   ]
  },
  {
   "cell_type": "markdown",
   "metadata": {},
   "source": [
    "# Sign Network "
   ]
  },
  {
   "cell_type": "code",
   "execution_count": 6,
   "metadata": {},
   "outputs": [],
   "source": [
    "from torch.utils.data import DataLoader\n",
    "from pytorch_ood.utils import is_known\n",
    "from tqdm.notebook import tqdm \n",
    "from pytorch_ood.dataset.img import TinyImages300k\n",
    "from pytorch_ood.utils import ToUnknown\n",
    "from torch.utils.data import random_split\n",
    "\n",
    "def train_sign_model():\n",
    "    tiny = TinyImages300k(root=root, download=True, transform=trans, target_transform=ToUnknown())\n",
    "    data_train_out, data_test_out, _ = random_split(tiny, [50000, 10000, 240000], generator=torch.Generator().manual_seed(123))\n",
    "\n",
    "    train_data_noatt = GTSRB(root=root, train=True, transforms=trans, target_transform=lambda y: y[0])\n",
    "    test_data_noatt = GTSRB(root=root, train=False, transforms=trans, target_transform=lambda y: y[0])\n",
    "\n",
    "    new_loader = DataLoader(train_data_noatt + data_train_out, batch_size=32, shuffle=True, num_workers=10, worker_init_fn=seed_worker)\n",
    "    new_test_loader = DataLoader(test_data_noatt + data_test_out, batch_size=32, shuffle=False, num_workers=10, worker_init_fn=seed_worker)\n",
    "\n",
    "    model = Model(num_classes=2).to(device)\n",
    "\n",
    "    criterion = nn.CrossEntropyLoss()\n",
    "    optimizer = SGD(model.parameters(), lr=0.001, momentum=0.9, nesterov=True)\n",
    "\n",
    "    accs = []\n",
    "\n",
    "    for epoch in range(20):\n",
    "        running_loss = 0.0\n",
    "        model.train()\n",
    "        \n",
    "        bar = tqdm(new_loader)\n",
    "        for inputs, y in bar:\n",
    "            labels = is_known(y).long()\n",
    "            inputs, labels = inputs.to(device), labels.to(device)\n",
    "\n",
    "            optimizer.zero_grad()\n",
    "            outputs = model(inputs)\n",
    "            loss = criterion(outputs, labels)\n",
    "            loss.backward()\n",
    "            optimizer.step()\n",
    "\n",
    "            running_loss = 0.8 * running_loss + 0.2 * loss.item()\n",
    "            bar.set_postfix({\"loss\": running_loss})\n",
    "\n",
    "        correct = 0\n",
    "        total = 0\n",
    "\n",
    "        with torch.no_grad():\n",
    "            model.eval()\n",
    "\n",
    "            for inputs, y in new_test_loader:\n",
    "                labels = is_known(y).long()\n",
    "                inputs, labels = inputs.to(device), labels.to(device)\n",
    "\n",
    "                outputs = model(inputs)\n",
    "                _, predicted = torch.max(outputs.data, 1)\n",
    "                total += labels.size(0)\n",
    "                correct += (predicted == labels).sum().item()\n",
    "\n",
    "        print(f'Accuracy of the shape network on the test images: {correct / total:.2%}')\n",
    "        accs.append(correct / total)\n",
    "\n",
    "    return model "
   ]
  },
  {
   "cell_type": "markdown",
   "metadata": {
    "tags": []
   },
   "source": [
    "# OOD Evaluation "
   ]
  },
  {
   "cell_type": "code",
   "execution_count": 7,
   "metadata": {},
   "outputs": [],
   "source": [
    "from pytorch_ood.dataset.img import (LSUNCrop, LSUNResize, Textures, TinyImageNetCrop, TinyImageNetResize)\n",
    "from pytorch_ood.detector import EnergyBased, MaxSoftmax\n",
    "from pytorch_ood.utils import ToRGB, OODMetrics\n",
    "\n",
    "def evaluate(label_net, shape_net, color_net, shield_net):\n",
    "    _ = label_net.eval()\n",
    "    _ = shape_net.eval()\n",
    "    _ = color_net.eval()\n",
    "    _ = shield_net.eval()\n",
    "    \n",
    "    results = []\n",
    "\n",
    "    trans = Compose([Resize(size=(32, 32)), ToRGB(), ToTensor()])\n",
    "    data_in = GTSRB(root=root, train=False, transforms=trans, target_transform=lambda y: y[0])\n",
    "    # dataset_out_test = Textures(root=root, transform=trans, target_transform=ToUnknown(), download=True)\n",
    "    \n",
    "    \n",
    "    detectors = {\n",
    "        \"MSP\": MaxSoftmax(label_net),\n",
    "        \"Energy\": EnergyBased(label_net),\n",
    "        \"Semantic-OE\": SemanticDetector(\n",
    "            label_net, \n",
    "            shape_net, \n",
    "            color_net, \n",
    "            GTSRB(root=root).class_to_shape, \n",
    "            GTSRB(root=root).class_to_color, \n",
    "            sign_net=shield_net\n",
    "        ),\n",
    "        \"Semantic\": SemanticDetector(\n",
    "                label_net, \n",
    "                shape_net, \n",
    "                color_net, \n",
    "                GTSRB(root=root).class_to_shape, \n",
    "                GTSRB(root=root).class_to_color, \n",
    "        ),\n",
    "        \"Ensemble\": EnsembleDetector(label_net, shape_net, color_net)\n",
    "    }\n",
    "    \n",
    "    datasets = {d.__name__: d for d in (LSUNCrop, LSUNResize, Textures, TinyImageNetCrop, TinyImageNetResize)}\n",
    "    \n",
    "    for detector_name, detector in detectors.items():\n",
    "        for data_name, dataset_c in datasets.items():\n",
    "            data_out = dataset_c(root=root, transform=trans, target_transform=ToUnknown(), download=True)\n",
    "            loader = DataLoader(data_in+data_out, batch_size=1024, shuffle=False, worker_init_fn=seed_worker)\n",
    "            \n",
    "            scores = []\n",
    "            ys = []\n",
    "            \n",
    "            with torch.no_grad():\n",
    "                for x, y in loader:\n",
    "                    scores.append(detector(x.to(device)))\n",
    "                    ys.append(y.to(device))\n",
    "                    \n",
    "                scores = torch.cat(scores, dim=0).cpu()\n",
    "                ys = torch.cat(ys, dim=0).cpu()\n",
    "            \n",
    "            metrics = OODMetrics()\n",
    "            metrics.update(scores, ys)\n",
    "            r = metrics.compute()\n",
    "            r.update({\n",
    "                \"Method\": detector_name,\n",
    "                \"Dataset\": data_name\n",
    "            })\n",
    "            print(r)\n",
    "            results.append(r)\n",
    "    \n",
    "    return results "
   ]
  },
  {
   "cell_type": "code",
   "execution_count": 8,
   "metadata": {},
   "outputs": [],
   "source": [
    "def evaluate_acc(net, att_idx=0, oe=False):\n",
    "    _ = net.eval()\n",
    "    \n",
    "    if oe:\n",
    "        target_trans = lambda y: torch.tensor(1)\n",
    "    else:\n",
    "         target_trans = lambda y: y[att_idx]\n",
    "\n",
    "    trans = Compose([Resize(size=(32, 32)), ToRGB(), ToTensor()])\n",
    "    data_in = GTSRB(root=root, train=False, transforms=trans, target_transform=target_trans)\n",
    "    loader = DataLoader(data_in, batch_size=1024, shuffle=False, worker_init_fn=seed_worker)\n",
    "            \n",
    "    correct = 0\n",
    "    total = 0\n",
    "\n",
    "    with torch.no_grad():\n",
    "        for inputs, labels in loader:\n",
    "            inputs, labels = inputs.to(device), labels.to(device)\n",
    "            outputs = net(inputs)\n",
    "            predicted = outputs.max(dim=1).indices\n",
    "            total += labels.size(0)\n",
    "            correct += (predicted == labels).sum().item()\n",
    "    \n",
    "    return correct / total  \n",
    "\n",
    "def evaluate_accs(label_net, shape_net, color_net, shield_net):\n",
    "    r = {}\n",
    "    names = (\"Label\", \"Color\", \"Shape\",)\n",
    "    \n",
    "    for n, net in enumerate((label_net, color_net, shape_net)): \n",
    "        acc = evaluate_acc(net, n)\n",
    "        r[names[n]] = acc\n",
    "    \n",
    "    acc = evaluate_acc(shield_net, oe=True)\n",
    "    r[\"Sign\"] = acc\n",
    "    \n",
    "    return [r] "
   ]
  },
  {
   "cell_type": "code",
   "execution_count": 9,
   "metadata": {},
   "outputs": [
    {
     "data": {
      "application/vnd.jupyter.widget-view+json": {
       "model_id": "7bace775c8e64ace9db90cb626b98c25",
       "version_major": 2,
       "version_minor": 0
      },
      "text/plain": [
       "  0%|          | 0/2788 [00:00<?, ?it/s]"
      ]
     },
     "metadata": {},
     "output_type": "display_data"
    },
    {
     "name": "stdout",
     "output_type": "stream",
     "text": [
      "Accuracy of the shape network on the test images: 99.89%\n"
     ]
    },
    {
     "data": {
      "application/vnd.jupyter.widget-view+json": {
       "model_id": "b1d9843a02b2481396d4deae191714cc",
       "version_major": 2,
       "version_minor": 0
      },
      "text/plain": [
       "  0%|          | 0/2788 [00:00<?, ?it/s]"
      ]
     },
     "metadata": {},
     "output_type": "display_data"
    },
    {
     "name": "stdout",
     "output_type": "stream",
     "text": [
      "Accuracy of the shape network on the test images: 99.97%\n"
     ]
    },
    {
     "data": {
      "application/vnd.jupyter.widget-view+json": {
       "model_id": "cfcdfc401c0f4e4f8cad32a86bcb70a3",
       "version_major": 2,
       "version_minor": 0
      },
      "text/plain": [
       "  0%|          | 0/2788 [00:00<?, ?it/s]"
      ]
     },
     "metadata": {},
     "output_type": "display_data"
    },
    {
     "name": "stdout",
     "output_type": "stream",
     "text": [
      "Accuracy of the shape network on the test images: 99.95%\n"
     ]
    },
    {
     "data": {
      "application/vnd.jupyter.widget-view+json": {
       "model_id": "3cd3d51b70144872bcbc7def93d69337",
       "version_major": 2,
       "version_minor": 0
      },
      "text/plain": [
       "  0%|          | 0/2788 [00:00<?, ?it/s]"
      ]
     },
     "metadata": {},
     "output_type": "display_data"
    },
    {
     "name": "stdout",
     "output_type": "stream",
     "text": [
      "Accuracy of the shape network on the test images: 99.99%\n"
     ]
    },
    {
     "data": {
      "application/vnd.jupyter.widget-view+json": {
       "model_id": "f752e7705b4740cb80c422656506ce9a",
       "version_major": 2,
       "version_minor": 0
      },
      "text/plain": [
       "  0%|          | 0/2788 [00:00<?, ?it/s]"
      ]
     },
     "metadata": {},
     "output_type": "display_data"
    },
    {
     "name": "stdout",
     "output_type": "stream",
     "text": [
      "Accuracy of the shape network on the test images: 99.98%\n"
     ]
    },
    {
     "data": {
      "application/vnd.jupyter.widget-view+json": {
       "model_id": "12a581b0426748e8bccdb30828c4bd08",
       "version_major": 2,
       "version_minor": 0
      },
      "text/plain": [
       "  0%|          | 0/2788 [00:00<?, ?it/s]"
      ]
     },
     "metadata": {},
     "output_type": "display_data"
    },
    {
     "name": "stdout",
     "output_type": "stream",
     "text": [
      "Accuracy of the shape network on the test images: 99.98%\n"
     ]
    },
    {
     "data": {
      "application/vnd.jupyter.widget-view+json": {
       "model_id": "2736546b72b4447eb205915f4319f666",
       "version_major": 2,
       "version_minor": 0
      },
      "text/plain": [
       "  0%|          | 0/2788 [00:00<?, ?it/s]"
      ]
     },
     "metadata": {},
     "output_type": "display_data"
    },
    {
     "name": "stdout",
     "output_type": "stream",
     "text": [
      "Accuracy of the shape network on the test images: 99.98%\n"
     ]
    },
    {
     "data": {
      "application/vnd.jupyter.widget-view+json": {
       "model_id": "79ca0d35c0d14a0dac5934744d42c658",
       "version_major": 2,
       "version_minor": 0
      },
      "text/plain": [
       "  0%|          | 0/2788 [00:00<?, ?it/s]"
      ]
     },
     "metadata": {},
     "output_type": "display_data"
    },
    {
     "name": "stdout",
     "output_type": "stream",
     "text": [
      "Accuracy of the shape network on the test images: 99.97%\n"
     ]
    },
    {
     "data": {
      "application/vnd.jupyter.widget-view+json": {
       "model_id": "893b765410d2435ca5dec57ad0bec9d2",
       "version_major": 2,
       "version_minor": 0
      },
      "text/plain": [
       "  0%|          | 0/2788 [00:00<?, ?it/s]"
      ]
     },
     "metadata": {},
     "output_type": "display_data"
    },
    {
     "name": "stdout",
     "output_type": "stream",
     "text": [
      "Accuracy of the shape network on the test images: 100.00%\n"
     ]
    },
    {
     "data": {
      "application/vnd.jupyter.widget-view+json": {
       "model_id": "4b106e70e982411785f3342aaa0fa442",
       "version_major": 2,
       "version_minor": 0
      },
      "text/plain": [
       "  0%|          | 0/2788 [00:00<?, ?it/s]"
      ]
     },
     "metadata": {},
     "output_type": "display_data"
    },
    {
     "name": "stdout",
     "output_type": "stream",
     "text": [
      "Accuracy of the shape network on the test images: 99.98%\n"
     ]
    },
    {
     "data": {
      "application/vnd.jupyter.widget-view+json": {
       "model_id": "02970a3e774f42429b95f9a084efabb8",
       "version_major": 2,
       "version_minor": 0
      },
      "text/plain": [
       "  0%|          | 0/2788 [00:00<?, ?it/s]"
      ]
     },
     "metadata": {},
     "output_type": "display_data"
    },
    {
     "name": "stdout",
     "output_type": "stream",
     "text": [
      "Accuracy of the shape network on the test images: 99.94%\n"
     ]
    },
    {
     "data": {
      "application/vnd.jupyter.widget-view+json": {
       "model_id": "3b024523c6804b4f854ba02f19f9207c",
       "version_major": 2,
       "version_minor": 0
      },
      "text/plain": [
       "  0%|          | 0/2788 [00:00<?, ?it/s]"
      ]
     },
     "metadata": {},
     "output_type": "display_data"
    },
    {
     "name": "stdout",
     "output_type": "stream",
     "text": [
      "Accuracy of the shape network on the test images: 99.99%\n"
     ]
    },
    {
     "data": {
      "application/vnd.jupyter.widget-view+json": {
       "model_id": "47ba973750a44358816f08e487b0975d",
       "version_major": 2,
       "version_minor": 0
      },
      "text/plain": [
       "  0%|          | 0/2788 [00:00<?, ?it/s]"
      ]
     },
     "metadata": {},
     "output_type": "display_data"
    },
    {
     "name": "stdout",
     "output_type": "stream",
     "text": [
      "Accuracy of the shape network on the test images: 99.98%\n"
     ]
    },
    {
     "data": {
      "application/vnd.jupyter.widget-view+json": {
       "model_id": "ed3e45ca21974e849ae55d6c92aedf0c",
       "version_major": 2,
       "version_minor": 0
      },
      "text/plain": [
       "  0%|          | 0/2788 [00:00<?, ?it/s]"
      ]
     },
     "metadata": {},
     "output_type": "display_data"
    },
    {
     "name": "stdout",
     "output_type": "stream",
     "text": [
      "Accuracy of the shape network on the test images: 99.97%\n"
     ]
    },
    {
     "data": {
      "application/vnd.jupyter.widget-view+json": {
       "model_id": "9dc0e1c6f92e4c7295c470e7128c0f81",
       "version_major": 2,
       "version_minor": 0
      },
      "text/plain": [
       "  0%|          | 0/2788 [00:00<?, ?it/s]"
      ]
     },
     "metadata": {},
     "output_type": "display_data"
    },
    {
     "name": "stdout",
     "output_type": "stream",
     "text": [
      "Accuracy of the shape network on the test images: 99.99%\n"
     ]
    },
    {
     "data": {
      "application/vnd.jupyter.widget-view+json": {
       "model_id": "754ec13d8eae4771a0dc3ba1347084c6",
       "version_major": 2,
       "version_minor": 0
      },
      "text/plain": [
       "  0%|          | 0/2788 [00:00<?, ?it/s]"
      ]
     },
     "metadata": {},
     "output_type": "display_data"
    },
    {
     "name": "stdout",
     "output_type": "stream",
     "text": [
      "Accuracy of the shape network on the test images: 99.95%\n"
     ]
    },
    {
     "data": {
      "application/vnd.jupyter.widget-view+json": {
       "model_id": "cf016077e2574b97b35be1e1087b68e9",
       "version_major": 2,
       "version_minor": 0
      },
      "text/plain": [
       "  0%|          | 0/2788 [00:00<?, ?it/s]"
      ]
     },
     "metadata": {},
     "output_type": "display_data"
    },
    {
     "name": "stdout",
     "output_type": "stream",
     "text": [
      "Accuracy of the shape network on the test images: 99.93%\n"
     ]
    },
    {
     "data": {
      "application/vnd.jupyter.widget-view+json": {
       "model_id": "4de76a6e46864ea3b5db171695eeb385",
       "version_major": 2,
       "version_minor": 0
      },
      "text/plain": [
       "  0%|          | 0/2788 [00:00<?, ?it/s]"
      ]
     },
     "metadata": {},
     "output_type": "display_data"
    },
    {
     "name": "stdout",
     "output_type": "stream",
     "text": [
      "Accuracy of the shape network on the test images: 99.97%\n"
     ]
    },
    {
     "data": {
      "application/vnd.jupyter.widget-view+json": {
       "model_id": "df3db3ed6ded4c34b4c54d42072d79ae",
       "version_major": 2,
       "version_minor": 0
      },
      "text/plain": [
       "  0%|          | 0/2788 [00:00<?, ?it/s]"
      ]
     },
     "metadata": {},
     "output_type": "display_data"
    },
    {
     "name": "stdout",
     "output_type": "stream",
     "text": [
      "Accuracy of the shape network on the test images: 99.99%\n"
     ]
    },
    {
     "data": {
      "application/vnd.jupyter.widget-view+json": {
       "model_id": "89a879e71f3e4b929345e55105e01c4d",
       "version_major": 2,
       "version_minor": 0
      },
      "text/plain": [
       "  0%|          | 0/2788 [00:00<?, ?it/s]"
      ]
     },
     "metadata": {},
     "output_type": "display_data"
    },
    {
     "name": "stdout",
     "output_type": "stream",
     "text": [
      "Accuracy of the shape network on the test images: 99.96%\n"
     ]
    },
    {
     "data": {
      "application/vnd.jupyter.widget-view+json": {
       "model_id": "f124816756ae477ab37850d625643c50",
       "version_major": 2,
       "version_minor": 0
      },
      "text/plain": [
       "  0%|          | 0/1226 [00:00<?, ?it/s]"
      ]
     },
     "metadata": {},
     "output_type": "display_data"
    },
    {
     "name": "stdout",
     "output_type": "stream",
     "text": [
      "Accuracy of the network on the test images: 99.94%\n"
     ]
    },
    {
     "data": {
      "application/vnd.jupyter.widget-view+json": {
       "model_id": "dd41cd560aba49ca8b8055af1154cb19",
       "version_major": 2,
       "version_minor": 0
      },
      "text/plain": [
       "  0%|          | 0/1226 [00:00<?, ?it/s]"
      ]
     },
     "metadata": {},
     "output_type": "display_data"
    },
    {
     "name": "stdout",
     "output_type": "stream",
     "text": [
      "Accuracy of the network on the test images: 99.96%\n"
     ]
    },
    {
     "data": {
      "application/vnd.jupyter.widget-view+json": {
       "model_id": "b1322f2219a64095ab69df17266ccf63",
       "version_major": 2,
       "version_minor": 0
      },
      "text/plain": [
       "  0%|          | 0/1226 [00:00<?, ?it/s]"
      ]
     },
     "metadata": {},
     "output_type": "display_data"
    },
    {
     "name": "stdout",
     "output_type": "stream",
     "text": [
      "Accuracy of the network on the test images: 99.99%\n"
     ]
    },
    {
     "data": {
      "application/vnd.jupyter.widget-view+json": {
       "model_id": "0fce9219da6141a6a16b1239a0b69989",
       "version_major": 2,
       "version_minor": 0
      },
      "text/plain": [
       "  0%|          | 0/1226 [00:00<?, ?it/s]"
      ]
     },
     "metadata": {},
     "output_type": "display_data"
    },
    {
     "name": "stdout",
     "output_type": "stream",
     "text": [
      "Accuracy of the network on the test images: 99.98%\n"
     ]
    },
    {
     "data": {
      "application/vnd.jupyter.widget-view+json": {
       "model_id": "b1dd19235a3647d19f63a224ad85f709",
       "version_major": 2,
       "version_minor": 0
      },
      "text/plain": [
       "  0%|          | 0/1226 [00:00<?, ?it/s]"
      ]
     },
     "metadata": {},
     "output_type": "display_data"
    },
    {
     "name": "stdout",
     "output_type": "stream",
     "text": [
      "Accuracy of the network on the test images: 99.98%\n"
     ]
    },
    {
     "data": {
      "application/vnd.jupyter.widget-view+json": {
       "model_id": "125de1f2d34f44888070e88bb67a6258",
       "version_major": 2,
       "version_minor": 0
      },
      "text/plain": [
       "  0%|          | 0/1226 [00:00<?, ?it/s]"
      ]
     },
     "metadata": {},
     "output_type": "display_data"
    },
    {
     "name": "stdout",
     "output_type": "stream",
     "text": [
      "Accuracy of the network on the test images: 99.98%\n"
     ]
    },
    {
     "data": {
      "application/vnd.jupyter.widget-view+json": {
       "model_id": "8e1c7dc738d64445ada5e8067016eaf3",
       "version_major": 2,
       "version_minor": 0
      },
      "text/plain": [
       "  0%|          | 0/1226 [00:00<?, ?it/s]"
      ]
     },
     "metadata": {},
     "output_type": "display_data"
    },
    {
     "name": "stdout",
     "output_type": "stream",
     "text": [
      "Accuracy of the network on the test images: 99.97%\n"
     ]
    },
    {
     "data": {
      "application/vnd.jupyter.widget-view+json": {
       "model_id": "6dc7defade3948a4b1fdd6ce2bc8a499",
       "version_major": 2,
       "version_minor": 0
      },
      "text/plain": [
       "  0%|          | 0/1226 [00:00<?, ?it/s]"
      ]
     },
     "metadata": {},
     "output_type": "display_data"
    },
    {
     "name": "stdout",
     "output_type": "stream",
     "text": [
      "Accuracy of the network on the test images: 99.97%\n"
     ]
    },
    {
     "data": {
      "application/vnd.jupyter.widget-view+json": {
       "model_id": "b550bab4e8084eefbc5966175f08cb30",
       "version_major": 2,
       "version_minor": 0
      },
      "text/plain": [
       "  0%|          | 0/1226 [00:00<?, ?it/s]"
      ]
     },
     "metadata": {},
     "output_type": "display_data"
    },
    {
     "name": "stdout",
     "output_type": "stream",
     "text": [
      "Accuracy of the network on the test images: 99.91%\n"
     ]
    },
    {
     "data": {
      "application/vnd.jupyter.widget-view+json": {
       "model_id": "96c8455c21e94abcad3d43e5ba8b85be",
       "version_major": 2,
       "version_minor": 0
      },
      "text/plain": [
       "  0%|          | 0/1226 [00:00<?, ?it/s]"
      ]
     },
     "metadata": {},
     "output_type": "display_data"
    },
    {
     "name": "stdout",
     "output_type": "stream",
     "text": [
      "Accuracy of the network on the test images: 99.98%\n"
     ]
    },
    {
     "data": {
      "application/vnd.jupyter.widget-view+json": {
       "model_id": "aa22faf16e6e409bb15646a743ca0161",
       "version_major": 2,
       "version_minor": 0
      },
      "text/plain": [
       "  0%|          | 0/1226 [00:00<?, ?it/s]"
      ]
     },
     "metadata": {},
     "output_type": "display_data"
    },
    {
     "name": "stdout",
     "output_type": "stream",
     "text": [
      "Accuracy of the network on the test images: 99.97%\n"
     ]
    },
    {
     "data": {
      "application/vnd.jupyter.widget-view+json": {
       "model_id": "b9c137197fb94e4fa7f54e9b96e923a2",
       "version_major": 2,
       "version_minor": 0
      },
      "text/plain": [
       "  0%|          | 0/1226 [00:00<?, ?it/s]"
      ]
     },
     "metadata": {},
     "output_type": "display_data"
    },
    {
     "name": "stdout",
     "output_type": "stream",
     "text": [
      "Accuracy of the network on the test images: 99.97%\n"
     ]
    },
    {
     "data": {
      "application/vnd.jupyter.widget-view+json": {
       "model_id": "dcb73fa00d9944a0a14a292bbe5db1ee",
       "version_major": 2,
       "version_minor": 0
      },
      "text/plain": [
       "  0%|          | 0/1226 [00:00<?, ?it/s]"
      ]
     },
     "metadata": {},
     "output_type": "display_data"
    },
    {
     "name": "stdout",
     "output_type": "stream",
     "text": [
      "Accuracy of the network on the test images: 99.97%\n"
     ]
    },
    {
     "data": {
      "application/vnd.jupyter.widget-view+json": {
       "model_id": "86a999446c7a4dbf93b09f2fffaa73b0",
       "version_major": 2,
       "version_minor": 0
      },
      "text/plain": [
       "  0%|          | 0/1226 [00:00<?, ?it/s]"
      ]
     },
     "metadata": {},
     "output_type": "display_data"
    },
    {
     "name": "stdout",
     "output_type": "stream",
     "text": [
      "Accuracy of the network on the test images: 99.96%\n"
     ]
    },
    {
     "data": {
      "application/vnd.jupyter.widget-view+json": {
       "model_id": "10fc5f5ae9c54db1950933af34ce81f4",
       "version_major": 2,
       "version_minor": 0
      },
      "text/plain": [
       "  0%|          | 0/1226 [00:00<?, ?it/s]"
      ]
     },
     "metadata": {},
     "output_type": "display_data"
    },
    {
     "name": "stdout",
     "output_type": "stream",
     "text": [
      "Accuracy of the network on the test images: 99.97%\n"
     ]
    },
    {
     "data": {
      "application/vnd.jupyter.widget-view+json": {
       "model_id": "37a7a58839754b62aaa2f6fd641ea6d3",
       "version_major": 2,
       "version_minor": 0
      },
      "text/plain": [
       "  0%|          | 0/1226 [00:00<?, ?it/s]"
      ]
     },
     "metadata": {},
     "output_type": "display_data"
    },
    {
     "name": "stdout",
     "output_type": "stream",
     "text": [
      "Accuracy of the network on the test images: 99.97%\n"
     ]
    },
    {
     "data": {
      "application/vnd.jupyter.widget-view+json": {
       "model_id": "6cad33598c0e45d58cee3ad1c3cc9474",
       "version_major": 2,
       "version_minor": 0
      },
      "text/plain": [
       "  0%|          | 0/1226 [00:00<?, ?it/s]"
      ]
     },
     "metadata": {},
     "output_type": "display_data"
    },
    {
     "name": "stdout",
     "output_type": "stream",
     "text": [
      "Accuracy of the network on the test images: 99.97%\n"
     ]
    },
    {
     "data": {
      "application/vnd.jupyter.widget-view+json": {
       "model_id": "1fb6b2939cdd460c83917f325643eae6",
       "version_major": 2,
       "version_minor": 0
      },
      "text/plain": [
       "  0%|          | 0/1226 [00:00<?, ?it/s]"
      ]
     },
     "metadata": {},
     "output_type": "display_data"
    },
    {
     "name": "stdout",
     "output_type": "stream",
     "text": [
      "Accuracy of the network on the test images: 99.97%\n"
     ]
    },
    {
     "data": {
      "application/vnd.jupyter.widget-view+json": {
       "model_id": "6ee22a20d6d0453ab1b4b780527652f6",
       "version_major": 2,
       "version_minor": 0
      },
      "text/plain": [
       "  0%|          | 0/1226 [00:00<?, ?it/s]"
      ]
     },
     "metadata": {},
     "output_type": "display_data"
    },
    {
     "name": "stdout",
     "output_type": "stream",
     "text": [
      "Accuracy of the network on the test images: 99.97%\n"
     ]
    },
    {
     "data": {
      "application/vnd.jupyter.widget-view+json": {
       "model_id": "1ad1c82ff74344acb5d1aa0ff869d683",
       "version_major": 2,
       "version_minor": 0
      },
      "text/plain": [
       "  0%|          | 0/1226 [00:00<?, ?it/s]"
      ]
     },
     "metadata": {},
     "output_type": "display_data"
    },
    {
     "name": "stdout",
     "output_type": "stream",
     "text": [
      "Accuracy of the network on the test images: 99.97%\n"
     ]
    },
    {
     "data": {
      "application/vnd.jupyter.widget-view+json": {
       "model_id": "7a625b1d659149b599c3c6a7677ac883",
       "version_major": 2,
       "version_minor": 0
      },
      "text/plain": [
       "  0%|          | 0/1226 [00:00<?, ?it/s]"
      ]
     },
     "metadata": {},
     "output_type": "display_data"
    },
    {
     "name": "stdout",
     "output_type": "stream",
     "text": [
      "Accuracy of the network on the test images: 99.81%\n"
     ]
    },
    {
     "data": {
      "application/vnd.jupyter.widget-view+json": {
       "model_id": "7aefc39c6a6f475e9eaba1efddb96fd8",
       "version_major": 2,
       "version_minor": 0
      },
      "text/plain": [
       "  0%|          | 0/1226 [00:00<?, ?it/s]"
      ]
     },
     "metadata": {},
     "output_type": "display_data"
    },
    {
     "name": "stdout",
     "output_type": "stream",
     "text": [
      "Accuracy of the network on the test images: 99.98%\n"
     ]
    },
    {
     "data": {
      "application/vnd.jupyter.widget-view+json": {
       "model_id": "f713fb453e234c8baf86625af296793d",
       "version_major": 2,
       "version_minor": 0
      },
      "text/plain": [
       "  0%|          | 0/1226 [00:00<?, ?it/s]"
      ]
     },
     "metadata": {},
     "output_type": "display_data"
    },
    {
     "name": "stdout",
     "output_type": "stream",
     "text": [
      "Accuracy of the network on the test images: 99.90%\n"
     ]
    },
    {
     "data": {
      "application/vnd.jupyter.widget-view+json": {
       "model_id": "3ca522b8ceba44c7a1674f6b8d9c411c",
       "version_major": 2,
       "version_minor": 0
      },
      "text/plain": [
       "  0%|          | 0/1226 [00:00<?, ?it/s]"
      ]
     },
     "metadata": {},
     "output_type": "display_data"
    },
    {
     "name": "stdout",
     "output_type": "stream",
     "text": [
      "Accuracy of the network on the test images: 99.79%\n"
     ]
    },
    {
     "data": {
      "application/vnd.jupyter.widget-view+json": {
       "model_id": "9956a2f95ed1429b9db6f9ac503defec",
       "version_major": 2,
       "version_minor": 0
      },
      "text/plain": [
       "  0%|          | 0/1226 [00:00<?, ?it/s]"
      ]
     },
     "metadata": {},
     "output_type": "display_data"
    },
    {
     "name": "stdout",
     "output_type": "stream",
     "text": [
      "Accuracy of the network on the test images: 99.98%\n"
     ]
    },
    {
     "data": {
      "application/vnd.jupyter.widget-view+json": {
       "model_id": "00e1bc616ce04261a79d215c6dc10053",
       "version_major": 2,
       "version_minor": 0
      },
      "text/plain": [
       "  0%|          | 0/1226 [00:00<?, ?it/s]"
      ]
     },
     "metadata": {},
     "output_type": "display_data"
    },
    {
     "name": "stdout",
     "output_type": "stream",
     "text": [
      "Accuracy of the network on the test images: 99.94%\n"
     ]
    },
    {
     "data": {
      "application/vnd.jupyter.widget-view+json": {
       "model_id": "20324507fb0245dbb98e93287d7080fe",
       "version_major": 2,
       "version_minor": 0
      },
      "text/plain": [
       "  0%|          | 0/1226 [00:00<?, ?it/s]"
      ]
     },
     "metadata": {},
     "output_type": "display_data"
    },
    {
     "name": "stdout",
     "output_type": "stream",
     "text": [
      "Accuracy of the network on the test images: 99.98%\n"
     ]
    },
    {
     "data": {
      "application/vnd.jupyter.widget-view+json": {
       "model_id": "60d9adf46497447894ff6634066f1df3",
       "version_major": 2,
       "version_minor": 0
      },
      "text/plain": [
       "  0%|          | 0/1226 [00:00<?, ?it/s]"
      ]
     },
     "metadata": {},
     "output_type": "display_data"
    },
    {
     "name": "stdout",
     "output_type": "stream",
     "text": [
      "Accuracy of the network on the test images: 99.93%\n"
     ]
    },
    {
     "data": {
      "application/vnd.jupyter.widget-view+json": {
       "model_id": "8dddb06d14dd4ae996bc9af280eca445",
       "version_major": 2,
       "version_minor": 0
      },
      "text/plain": [
       "  0%|          | 0/1226 [00:00<?, ?it/s]"
      ]
     },
     "metadata": {},
     "output_type": "display_data"
    },
    {
     "name": "stdout",
     "output_type": "stream",
     "text": [
      "Accuracy of the network on the test images: 99.98%\n"
     ]
    },
    {
     "data": {
      "application/vnd.jupyter.widget-view+json": {
       "model_id": "baf2a7d54f524f66942c9cdded507082",
       "version_major": 2,
       "version_minor": 0
      },
      "text/plain": [
       "  0%|          | 0/1226 [00:00<?, ?it/s]"
      ]
     },
     "metadata": {},
     "output_type": "display_data"
    },
    {
     "name": "stdout",
     "output_type": "stream",
     "text": [
      "Accuracy of the network on the test images: 99.96%\n"
     ]
    },
    {
     "data": {
      "application/vnd.jupyter.widget-view+json": {
       "model_id": "8d0e3d682d344d9685abbca5c759261a",
       "version_major": 2,
       "version_minor": 0
      },
      "text/plain": [
       "  0%|          | 0/1226 [00:00<?, ?it/s]"
      ]
     },
     "metadata": {},
     "output_type": "display_data"
    },
    {
     "name": "stdout",
     "output_type": "stream",
     "text": [
      "Accuracy of the network on the test images: 100.00%\n"
     ]
    },
    {
     "data": {
      "application/vnd.jupyter.widget-view+json": {
       "model_id": "238a622b9d2247358003cb6f2a950881",
       "version_major": 2,
       "version_minor": 0
      },
      "text/plain": [
       "  0%|          | 0/1226 [00:00<?, ?it/s]"
      ]
     },
     "metadata": {},
     "output_type": "display_data"
    },
    {
     "name": "stdout",
     "output_type": "stream",
     "text": [
      "Accuracy of the network on the test images: 99.97%\n"
     ]
    },
    {
     "data": {
      "application/vnd.jupyter.widget-view+json": {
       "model_id": "6cc18274936d434795ef9373263a9107",
       "version_major": 2,
       "version_minor": 0
      },
      "text/plain": [
       "  0%|          | 0/1226 [00:00<?, ?it/s]"
      ]
     },
     "metadata": {},
     "output_type": "display_data"
    },
    {
     "name": "stdout",
     "output_type": "stream",
     "text": [
      "Accuracy of the network on the test images: 100.00%\n"
     ]
    },
    {
     "data": {
      "application/vnd.jupyter.widget-view+json": {
       "model_id": "dae0b7710c9745cf8215a5e1e0b71970",
       "version_major": 2,
       "version_minor": 0
      },
      "text/plain": [
       "  0%|          | 0/1226 [00:00<?, ?it/s]"
      ]
     },
     "metadata": {},
     "output_type": "display_data"
    },
    {
     "name": "stdout",
     "output_type": "stream",
     "text": [
      "Accuracy of the network on the test images: 100.00%\n"
     ]
    },
    {
     "data": {
      "application/vnd.jupyter.widget-view+json": {
       "model_id": "73b008daec60458e81bfe0e4f54c547a",
       "version_major": 2,
       "version_minor": 0
      },
      "text/plain": [
       "  0%|          | 0/1226 [00:00<?, ?it/s]"
      ]
     },
     "metadata": {},
     "output_type": "display_data"
    },
    {
     "name": "stdout",
     "output_type": "stream",
     "text": [
      "Accuracy of the network on the test images: 100.00%\n"
     ]
    },
    {
     "data": {
      "application/vnd.jupyter.widget-view+json": {
       "model_id": "015c5273b2fc4bc3a77b9a192d2d0622",
       "version_major": 2,
       "version_minor": 0
      },
      "text/plain": [
       "  0%|          | 0/1226 [00:00<?, ?it/s]"
      ]
     },
     "metadata": {},
     "output_type": "display_data"
    },
    {
     "name": "stdout",
     "output_type": "stream",
     "text": [
      "Accuracy of the network on the test images: 100.00%\n"
     ]
    },
    {
     "data": {
      "application/vnd.jupyter.widget-view+json": {
       "model_id": "d0c6dc88143245c6bacc29f18c02b7c4",
       "version_major": 2,
       "version_minor": 0
      },
      "text/plain": [
       "  0%|          | 0/1226 [00:00<?, ?it/s]"
      ]
     },
     "metadata": {},
     "output_type": "display_data"
    },
    {
     "name": "stdout",
     "output_type": "stream",
     "text": [
      "Accuracy of the network on the test images: 99.99%\n"
     ]
    },
    {
     "data": {
      "application/vnd.jupyter.widget-view+json": {
       "model_id": "cf02c96d052f4f598bc66acef323abfe",
       "version_major": 2,
       "version_minor": 0
      },
      "text/plain": [
       "  0%|          | 0/1226 [00:00<?, ?it/s]"
      ]
     },
     "metadata": {},
     "output_type": "display_data"
    },
    {
     "name": "stdout",
     "output_type": "stream",
     "text": [
      "Accuracy of the network on the test images: 99.98%\n"
     ]
    },
    {
     "data": {
      "application/vnd.jupyter.widget-view+json": {
       "model_id": "1dbb87b04dfe4d24b49d0ecdf6adc9f4",
       "version_major": 2,
       "version_minor": 0
      },
      "text/plain": [
       "  0%|          | 0/1226 [00:00<?, ?it/s]"
      ]
     },
     "metadata": {},
     "output_type": "display_data"
    },
    {
     "name": "stdout",
     "output_type": "stream",
     "text": [
      "Accuracy of the network on the test images: 100.00%\n"
     ]
    },
    {
     "data": {
      "application/vnd.jupyter.widget-view+json": {
       "model_id": "0fac0b101cd148019f2d6be7e23ff44e",
       "version_major": 2,
       "version_minor": 0
      },
      "text/plain": [
       "  0%|          | 0/1226 [00:00<?, ?it/s]"
      ]
     },
     "metadata": {},
     "output_type": "display_data"
    },
    {
     "name": "stdout",
     "output_type": "stream",
     "text": [
      "Accuracy of the network on the test images: 100.00%\n"
     ]
    },
    {
     "data": {
      "application/vnd.jupyter.widget-view+json": {
       "model_id": "ac05a854a2894fb1810a372cbc6aaaa8",
       "version_major": 2,
       "version_minor": 0
      },
      "text/plain": [
       "  0%|          | 0/1226 [00:00<?, ?it/s]"
      ]
     },
     "metadata": {},
     "output_type": "display_data"
    },
    {
     "name": "stdout",
     "output_type": "stream",
     "text": [
      "Accuracy of the network on the test images: 97.47%\n"
     ]
    },
    {
     "data": {
      "application/vnd.jupyter.widget-view+json": {
       "model_id": "d92f5968a4b44e7598d261c3e22f4b6e",
       "version_major": 2,
       "version_minor": 0
      },
      "text/plain": [
       "  0%|          | 0/1226 [00:00<?, ?it/s]"
      ]
     },
     "metadata": {},
     "output_type": "display_data"
    },
    {
     "name": "stdout",
     "output_type": "stream",
     "text": [
      "Accuracy of the network on the test images: 98.42%\n"
     ]
    },
    {
     "data": {
      "application/vnd.jupyter.widget-view+json": {
       "model_id": "4f3140bb88cc42948ad9c69be170f4d9",
       "version_major": 2,
       "version_minor": 0
      },
      "text/plain": [
       "  0%|          | 0/1226 [00:00<?, ?it/s]"
      ]
     },
     "metadata": {},
     "output_type": "display_data"
    },
    {
     "name": "stdout",
     "output_type": "stream",
     "text": [
      "Accuracy of the network on the test images: 98.53%\n"
     ]
    },
    {
     "data": {
      "application/vnd.jupyter.widget-view+json": {
       "model_id": "6389fbcf8d8b474983a41291175ed61d",
       "version_major": 2,
       "version_minor": 0
      },
      "text/plain": [
       "  0%|          | 0/1226 [00:00<?, ?it/s]"
      ]
     },
     "metadata": {},
     "output_type": "display_data"
    },
    {
     "name": "stdout",
     "output_type": "stream",
     "text": [
      "Accuracy of the network on the test images: 98.94%\n"
     ]
    },
    {
     "data": {
      "application/vnd.jupyter.widget-view+json": {
       "model_id": "16037fbae03949739729667b2095dae6",
       "version_major": 2,
       "version_minor": 0
      },
      "text/plain": [
       "  0%|          | 0/1226 [00:00<?, ?it/s]"
      ]
     },
     "metadata": {},
     "output_type": "display_data"
    },
    {
     "name": "stdout",
     "output_type": "stream",
     "text": [
      "Accuracy of the network on the test images: 98.60%\n"
     ]
    },
    {
     "data": {
      "application/vnd.jupyter.widget-view+json": {
       "model_id": "257f217835144bd190798ed69aa15cc9",
       "version_major": 2,
       "version_minor": 0
      },
      "text/plain": [
       "  0%|          | 0/1226 [00:00<?, ?it/s]"
      ]
     },
     "metadata": {},
     "output_type": "display_data"
    },
    {
     "name": "stdout",
     "output_type": "stream",
     "text": [
      "Accuracy of the network on the test images: 98.67%\n"
     ]
    },
    {
     "data": {
      "application/vnd.jupyter.widget-view+json": {
       "model_id": "081db8643b9e46d0aea76ccfe1ca6628",
       "version_major": 2,
       "version_minor": 0
      },
      "text/plain": [
       "  0%|          | 0/1226 [00:00<?, ?it/s]"
      ]
     },
     "metadata": {},
     "output_type": "display_data"
    },
    {
     "name": "stdout",
     "output_type": "stream",
     "text": [
      "Accuracy of the network on the test images: 99.18%\n"
     ]
    },
    {
     "data": {
      "application/vnd.jupyter.widget-view+json": {
       "model_id": "f8f6ea3c692648f0a2cc41497af59b1e",
       "version_major": 2,
       "version_minor": 0
      },
      "text/plain": [
       "  0%|          | 0/1226 [00:00<?, ?it/s]"
      ]
     },
     "metadata": {},
     "output_type": "display_data"
    },
    {
     "name": "stdout",
     "output_type": "stream",
     "text": [
      "Accuracy of the network on the test images: 99.19%\n"
     ]
    },
    {
     "data": {
      "application/vnd.jupyter.widget-view+json": {
       "model_id": "47e75cb5871b494891e1c2c0f4fd6e8f",
       "version_major": 2,
       "version_minor": 0
      },
      "text/plain": [
       "  0%|          | 0/1226 [00:00<?, ?it/s]"
      ]
     },
     "metadata": {},
     "output_type": "display_data"
    },
    {
     "name": "stdout",
     "output_type": "stream",
     "text": [
      "Accuracy of the network on the test images: 98.58%\n"
     ]
    },
    {
     "data": {
      "application/vnd.jupyter.widget-view+json": {
       "model_id": "138b57ae4fd643ad8ffa739cccf27cd0",
       "version_major": 2,
       "version_minor": 0
      },
      "text/plain": [
       "  0%|          | 0/1226 [00:00<?, ?it/s]"
      ]
     },
     "metadata": {},
     "output_type": "display_data"
    },
    {
     "name": "stdout",
     "output_type": "stream",
     "text": [
      "Accuracy of the network on the test images: 99.00%\n"
     ]
    },
    {
     "data": {
      "application/vnd.jupyter.widget-view+json": {
       "model_id": "f6fcd6d9aa88405eab379de09248081b",
       "version_major": 2,
       "version_minor": 0
      },
      "text/plain": [
       "  0%|          | 0/1226 [00:00<?, ?it/s]"
      ]
     },
     "metadata": {},
     "output_type": "display_data"
    },
    {
     "name": "stdout",
     "output_type": "stream",
     "text": [
      "Accuracy of the network on the test images: 99.09%\n"
     ]
    },
    {
     "data": {
      "application/vnd.jupyter.widget-view+json": {
       "model_id": "8681c9e311064bb2a9ed0fcd2a0dda2d",
       "version_major": 2,
       "version_minor": 0
      },
      "text/plain": [
       "  0%|          | 0/1226 [00:00<?, ?it/s]"
      ]
     },
     "metadata": {},
     "output_type": "display_data"
    },
    {
     "name": "stdout",
     "output_type": "stream",
     "text": [
      "Accuracy of the network on the test images: 98.82%\n"
     ]
    },
    {
     "data": {
      "application/vnd.jupyter.widget-view+json": {
       "model_id": "be2db7f6f7114393b134f9597f0db423",
       "version_major": 2,
       "version_minor": 0
      },
      "text/plain": [
       "  0%|          | 0/1226 [00:00<?, ?it/s]"
      ]
     },
     "metadata": {},
     "output_type": "display_data"
    },
    {
     "name": "stdout",
     "output_type": "stream",
     "text": [
      "Accuracy of the network on the test images: 98.92%\n"
     ]
    },
    {
     "data": {
      "application/vnd.jupyter.widget-view+json": {
       "model_id": "9ab3ce3407584c5d904d25a8539a6aa1",
       "version_major": 2,
       "version_minor": 0
      },
      "text/plain": [
       "  0%|          | 0/1226 [00:00<?, ?it/s]"
      ]
     },
     "metadata": {},
     "output_type": "display_data"
    },
    {
     "name": "stdout",
     "output_type": "stream",
     "text": [
      "Accuracy of the network on the test images: 99.13%\n"
     ]
    },
    {
     "data": {
      "application/vnd.jupyter.widget-view+json": {
       "model_id": "4b424cb0aeb24b3e93bb49680eb99419",
       "version_major": 2,
       "version_minor": 0
      },
      "text/plain": [
       "  0%|          | 0/1226 [00:00<?, ?it/s]"
      ]
     },
     "metadata": {},
     "output_type": "display_data"
    },
    {
     "name": "stdout",
     "output_type": "stream",
     "text": [
      "Accuracy of the network on the test images: 99.17%\n"
     ]
    },
    {
     "data": {
      "application/vnd.jupyter.widget-view+json": {
       "model_id": "1a783ca69ded4569a17f25506b33ba0c",
       "version_major": 2,
       "version_minor": 0
      },
      "text/plain": [
       "  0%|          | 0/1226 [00:00<?, ?it/s]"
      ]
     },
     "metadata": {},
     "output_type": "display_data"
    },
    {
     "name": "stdout",
     "output_type": "stream",
     "text": [
      "Accuracy of the network on the test images: 99.04%\n"
     ]
    },
    {
     "data": {
      "application/vnd.jupyter.widget-view+json": {
       "model_id": "e68a6ce3465b4fa09b43e16b5a011d5a",
       "version_major": 2,
       "version_minor": 0
      },
      "text/plain": [
       "  0%|          | 0/1226 [00:00<?, ?it/s]"
      ]
     },
     "metadata": {},
     "output_type": "display_data"
    },
    {
     "name": "stdout",
     "output_type": "stream",
     "text": [
      "Accuracy of the network on the test images: 99.18%\n"
     ]
    },
    {
     "data": {
      "application/vnd.jupyter.widget-view+json": {
       "model_id": "f7365b68627844f7a1b0e23de96f43b9",
       "version_major": 2,
       "version_minor": 0
      },
      "text/plain": [
       "  0%|          | 0/1226 [00:00<?, ?it/s]"
      ]
     },
     "metadata": {},
     "output_type": "display_data"
    },
    {
     "name": "stdout",
     "output_type": "stream",
     "text": [
      "Accuracy of the network on the test images: 99.02%\n"
     ]
    },
    {
     "data": {
      "application/vnd.jupyter.widget-view+json": {
       "model_id": "a0677164ffdb452d8dd2320dd7ebf1c2",
       "version_major": 2,
       "version_minor": 0
      },
      "text/plain": [
       "  0%|          | 0/1226 [00:00<?, ?it/s]"
      ]
     },
     "metadata": {},
     "output_type": "display_data"
    },
    {
     "name": "stdout",
     "output_type": "stream",
     "text": [
      "Accuracy of the network on the test images: 99.18%\n"
     ]
    },
    {
     "data": {
      "application/vnd.jupyter.widget-view+json": {
       "model_id": "82b047c5c695466e871cad2d7d4aeca9",
       "version_major": 2,
       "version_minor": 0
      },
      "text/plain": [
       "  0%|          | 0/1226 [00:00<?, ?it/s]"
      ]
     },
     "metadata": {},
     "output_type": "display_data"
    },
    {
     "name": "stdout",
     "output_type": "stream",
     "text": [
      "Accuracy of the network on the test images: 99.11%\n",
      "{'AUROC': 0.9902477264404297, 'AUPR-IN': 0.9847794771194458, 'AUPR-OUT': 0.9930233359336853, 'ACC95TPR': 0.9593018293380737, 'FPR95TPR': 0.03333333507180214, 'Method': 'MSP', 'Dataset': 'LSUNCrop'}\n",
      "{'AUROC': 0.9963264465332031, 'AUPR-IN': 0.9939179420471191, 'AUPR-OUT': 0.9976773262023926, 'ACC95TPR': 0.9706584215164185, 'FPR95TPR': 0.012984956614673138, 'Method': 'MSP', 'Dataset': 'LSUNResize'}\n",
      "{'AUROC': 0.9883217215538025, 'AUPR-IN': 0.9754612445831299, 'AUPR-OUT': 0.9919120073318481, 'ACC95TPR': 0.9671045541763306, 'FPR95TPR': 0.025257322937250137, 'Method': 'MSP', 'Dataset': 'Textures'}\n",
      "{'AUROC': 0.9934267997741699, 'AUPR-IN': 0.9901189804077148, 'AUPR-OUT': 0.9950511455535889, 'ACC95TPR': 0.9662395119667053, 'FPR95TPR': 0.020902613177895546, 'Method': 'MSP', 'Dataset': 'TinyImageNetCrop'}\n",
      "{'AUROC': 0.9942823052406311, 'AUPR-IN': 0.9911289215087891, 'AUPR-OUT': 0.9957008361816406, 'ACC95TPR': 0.9687582850456238, 'FPR95TPR': 0.016389548778533936, 'Method': 'MSP', 'Dataset': 'TinyImageNetResize'}\n",
      "{'AUROC': 0.9907748699188232, 'AUPR-IN': 0.9880099296569824, 'AUPR-OUT': 0.9922671318054199, 'ACC95TPR': 0.9589924812316895, 'FPR95TPR': 0.03388756886124611, 'Method': 'Energy', 'Dataset': 'LSUNCrop'}\n",
      "{'AUROC': 0.9986282587051392, 'AUPR-IN': 0.9979714155197144, 'AUPR-OUT': 0.9990022778511047, 'ACC95TPR': 0.9752098917961121, 'FPR95TPR': 0.004829770419746637, 'Method': 'Energy', 'Dataset': 'LSUNResize'}\n",
      "{'AUROC': 0.9848217368125916, 'AUPR-IN': 0.9783598184585571, 'AUPR-OUT': 0.987475574016571, 'ACC95TPR': 0.9680350422859192, 'FPR95TPR': 0.02391132153570652, 'Method': 'Energy', 'Dataset': 'Textures'}\n",
      "{'AUROC': 0.9949734210968018, 'AUPR-IN': 0.993969738483429, 'AUPR-OUT': 0.9952032566070557, 'ACC95TPR': 0.9695978760719299, 'FPR95TPR': 0.014885193668305874, 'Method': 'Energy', 'Dataset': 'TinyImageNetCrop'}\n",
      "{'AUROC': 0.996570348739624, 'AUPR-IN': 0.9956609010696411, 'AUPR-OUT': 0.9966140985488892, 'ACC95TPR': 0.9727795124053955, 'FPR95TPR': 0.00918448157608509, 'Method': 'Energy', 'Dataset': 'TinyImageNetResize'}\n",
      "{'AUROC': 0.999484658241272, 'AUPR-IN': 0.9993498921394348, 'AUPR-OUT': 0.9997720718383789, 'ACC95TPR': 0.9993371367454529, 'FPR95TPR': 0.0010292953811585903, 'Method': 'Semantic-OE', 'Dataset': 'LSUNCrop'}\n",
      "{'AUROC': 0.9994828104972839, 'AUPR-IN': 0.999346911907196, 'AUPR-OUT': 0.99977046251297, 'ACC95TPR': 0.9989394545555115, 'FPR95TPR': 0.0010292953811585903, 'Method': 'Semantic-OE', 'Dataset': 'LSUNResize'}\n",
      "{'AUROC': 0.9994763135910034, 'AUPR-IN': 0.9988289475440979, 'AUPR-OUT': 0.9998371601104736, 'ACC95TPR': 0.998741090297699, 'FPR95TPR': 0.0010292953811585903, 'Method': 'Semantic-OE', 'Dataset': 'Textures'}\n",
      "{'AUROC': 0.999485194683075, 'AUPR-IN': 0.9993007183074951, 'AUPR-OUT': 0.9997725486755371, 'ACC95TPR': 0.9993371367454529, 'FPR95TPR': 0.0010292953811585903, 'Method': 'Semantic-OE', 'Dataset': 'TinyImageNetCrop'}\n",
      "{'AUROC': 0.999480664730072, 'AUPR-IN': 0.9993439316749573, 'AUPR-OUT': 0.9997689127922058, 'ACC95TPR': 0.998630166053772, 'FPR95TPR': 0.0010292953811585903, 'Method': 'Semantic-OE', 'Dataset': 'TinyImageNetResize'}\n",
      "{'AUROC': 0.9986085891723633, 'AUPR-IN': 0.9979978203773499, 'AUPR-OUT': 0.9991092681884766, 'ACC95TPR': 0.9743703007698059, 'FPR95TPR': 0.006334125064313412, 'Method': 'Semantic', 'Dataset': 'LSUNCrop'}\n",
      "{'AUROC': 0.9988411068916321, 'AUPR-IN': 0.9982553720474243, 'AUPR-OUT': 0.9992929100990295, 'ACC95TPR': 0.9752098917961121, 'FPR95TPR': 0.004829770419746637, 'Method': 'Semantic', 'Dataset': 'LSUNResize'}\n",
      "{'AUROC': 0.9980809688568115, 'AUPR-IN': 0.9953337907791138, 'AUPR-OUT': 0.9992239475250244, 'ACC95TPR': 0.9783798456192017, 'FPR95TPR': 0.008946951478719711, 'Method': 'Semantic', 'Dataset': 'Textures'}\n",
      "{'AUROC': 0.9984861016273499, 'AUPR-IN': 0.9977790713310242, 'AUPR-OUT': 0.9990316033363342, 'ACC95TPR': 0.973840057849884, 'FPR95TPR': 0.007284244056791067, 'Method': 'Semantic', 'Dataset': 'TinyImageNetCrop'}\n",
      "{'AUROC': 0.9986437559127808, 'AUPR-IN': 0.9980188012123108, 'AUPR-OUT': 0.999146044254303, 'ACC95TPR': 0.9743261337280273, 'FPR95TPR': 0.006413301452994347, 'Method': 'Semantic', 'Dataset': 'TinyImageNetResize'}\n",
      "{'AUROC': 0.9980127215385437, 'AUPR-IN': 0.9970864653587341, 'AUPR-OUT': 0.998667299747467, 'ACC95TPR': 0.9731330275535583, 'FPR95TPR': 0.008551068603992462, 'Method': 'Ensemble', 'Dataset': 'LSUNCrop'}\n",
      "{'AUROC': 0.9985502362251282, 'AUPR-IN': 0.9979206323623657, 'AUPR-OUT': 0.9990137219429016, 'ACC95TPR': 0.9736191034317017, 'FPR95TPR': 0.007680126465857029, 'Method': 'Ensemble', 'Dataset': 'LSUNResize'}\n",
      "{'AUROC': 0.9971246719360352, 'AUPR-IN': 0.9925477504730225, 'AUPR-OUT': 0.9988353252410889, 'ACC95TPR': 0.9775041341781616, 'FPR95TPR': 0.010213776491582394, 'Method': 'Ensemble', 'Dataset': 'Textures'}\n",
      "{'AUROC': 0.9979900121688843, 'AUPR-IN': 0.9970775246620178, 'AUPR-OUT': 0.9986463189125061, 'ACC95TPR': 0.9729562401771545, 'FPR95TPR': 0.008867775090038776, 'Method': 'Ensemble', 'Dataset': 'TinyImageNetCrop'}\n",
      "{'AUROC': 0.9979366660118103, 'AUPR-IN': 0.996934711933136, 'AUPR-OUT': 0.9986362457275391, 'ACC95TPR': 0.9729562401771545, 'FPR95TPR': 0.008867775090038776, 'Method': 'Ensemble', 'Dataset': 'TinyImageNetResize'}\n"
     ]
    }
   ],
   "source": [
    "results = []\n",
    "results_acc = []\n",
    "\n",
    "for trial in range(1):\n",
    "    shield_net = train_sign_model()\n",
    "    shape_net = train_model(att_index=2, num_classes=5)\n",
    "    color_net = train_model(att_index=1, num_classes=4)\n",
    "    label_net = train_model(att_index=0, num_classes=43)\n",
    "    \n",
    "    res = evaluate(label_net, shape_net, color_net, shield_net)\n",
    "    res_acc = evaluate_accs(label_net, shape_net, color_net, shield_net)\n",
    "    \n",
    "    for r in res:\n",
    "        r.update({\"Seed\": trial})\n",
    "        \n",
    "    for r in res_acc:\n",
    "        r.update({\"Seed\": trial})\n",
    "    \n",
    "    results += res\n",
    "    results_acc += res_acc"
   ]
  },
  {
   "cell_type": "code",
   "execution_count": 10,
   "metadata": {},
   "outputs": [
    {
     "name": "stdout",
     "output_type": "stream",
     "text": [
      "\\begin{tabular}{lrrrrrrrr}\n",
      "\\toprule\n",
      "{} & \\multicolumn{2}{l}{AUROC} & \\multicolumn{2}{l}{AUPR-IN} & \\multicolumn{2}{l}{AUPR-OUT} & \\multicolumn{2}{l}{FPR95TPR} \\\\\n",
      "{} &  mean &  sem &    mean &  sem &     mean &  sem &     mean &  sem \\\\\n",
      "Method      &       &      &         &      &          &      &          &      \\\\\n",
      "\\midrule\n",
      "Energy      & 99.32 & 0.24 &   99.08 & 0.35 &    99.41 & 0.20 &     1.73 & 0.52 \\\\\n",
      "Ensemble    & 99.79 & 0.02 &   99.63 & 0.10 &    99.88 & 0.01 &     0.88 & 0.04 \\\\\n",
      "MSP         & 99.25 & 0.14 &   98.71 & 0.33 &    99.47 & 0.10 &     2.18 & 0.36 \\\\\n",
      "Semantic    & 99.85 & 0.01 &   99.75 & 0.05 &    99.92 & 0.00 &     0.68 & 0.07 \\\\\n",
      "Semantic-OE & 99.95 & 0.00 &   99.92 & 0.01 &    99.98 & 0.00 &     0.10 & 0.00 \\\\\n",
      "\\bottomrule\n",
      "\\end{tabular}\n",
      "\n"
     ]
    },
    {
     "name": "stderr",
     "output_type": "stream",
     "text": [
      "/tmp/ipykernel_2438319/2493558079.py:3: FutureWarning: ['Dataset'] did not aggregate successfully. If any error is raised this will raise in a future version of pandas. Drop these columns/ops to avoid this warning.\n",
      "  print((result_df.groupby(by=\"Method\").agg([\"mean\", \"sem\"]) * 100)[[\"AUROC\", \"AUPR-IN\", \"AUPR-OUT\", \"FPR95TPR\"]].to_latex(float_format=\"%.2f\"))\n",
      "/tmp/ipykernel_2438319/2493558079.py:3: FutureWarning: In future versions `DataFrame.to_latex` is expected to utilise the base implementation of `Styler.to_latex` for formatting and rendering. The arguments signature may therefore change. It is recommended instead to use `DataFrame.style.to_latex` which also contains additional functionality.\n",
      "  print((result_df.groupby(by=\"Method\").agg([\"mean\", \"sem\"]) * 100)[[\"AUROC\", \"AUPR-IN\", \"AUPR-OUT\", \"FPR95TPR\"]].to_latex(float_format=\"%.2f\"))\n"
     ]
    }
   ],
   "source": [
    "import pandas as pd \n",
    "result_df = pd.DataFrame(results)\n",
    "print((result_df.groupby(by=\"Method\").agg([\"mean\", \"sem\"]) * 100)[[\"AUROC\", \"AUPR-IN\", \"AUPR-OUT\", \"FPR95TPR\"]].to_latex(float_format=\"%.2f\"))"
   ]
  },
  {
   "cell_type": "code",
   "execution_count": 11,
   "metadata": {},
   "outputs": [
    {
     "name": "stdout",
     "output_type": "stream",
     "text": [
      "Ttest_indResult(statistic=nan, pvalue=nan)\n"
     ]
    },
    {
     "name": "stderr",
     "output_type": "stream",
     "text": [
      "/tmp/ipykernel_2438319/299598497.py:3: FutureWarning: The default value of numeric_only in DataFrameGroupBy.mean is deprecated. In a future version, numeric_only will default to False. Either specify numeric_only or select only columns which should be valid for the function.\n",
      "  sem_auroc = result_df[result_df[\"Method\"] == \"Semantic\"].groupby(by=[\"Method\", \"Seed\"]).mean()[\"AUROC\"]\n",
      "/tmp/ipykernel_2438319/299598497.py:4: FutureWarning: The default value of numeric_only in DataFrameGroupBy.mean is deprecated. In a future version, numeric_only will default to False. Either specify numeric_only or select only columns which should be valid for the function.\n",
      "  sem_ensemble =  result_df[result_df[\"Method\"] == \"Ensemble\"].groupby(by=[\"Method\", \"Seed\"]).mean()[\"AUROC\"]\n",
      "/tmp/ipykernel_2438319/299598497.py:6: RuntimeWarning: Precision loss occurred in moment calculation due to catastrophic cancellation. This occurs when the data are nearly identical. Results may be unreliable.\n",
      "  print(ttest_ind(sem_auroc, sem_ensemble, equal_var=False))\n",
      "/home/kirchheim/anaconda3/envs/logic-ood/lib/python3.10/site-packages/scipy/stats/_stats_py.py:1253: RuntimeWarning: divide by zero encountered in divide\n",
      "  var *= np.divide(n, n-ddof)  # to avoid error on division by zero\n",
      "/home/kirchheim/anaconda3/envs/logic-ood/lib/python3.10/site-packages/scipy/stats/_stats_py.py:1253: RuntimeWarning: invalid value encountered in double_scalars\n",
      "  var *= np.divide(n, n-ddof)  # to avoid error on division by zero\n"
     ]
    }
   ],
   "source": [
    "from scipy.stats import ttest_ind\n",
    "\n",
    "sem_auroc = result_df[result_df[\"Method\"] == \"Semantic\"].groupby(by=[\"Method\", \"Seed\"]).mean()[\"AUROC\"]\n",
    "sem_ensemble =  result_df[result_df[\"Method\"] == \"Ensemble\"].groupby(by=[\"Method\", \"Seed\"]).mean()[\"AUROC\"]\n",
    "\n",
    "print(ttest_ind(sem_auroc, sem_ensemble, equal_var=False))"
   ]
  },
  {
   "cell_type": "code",
   "execution_count": 12,
   "metadata": {},
   "outputs": [
    {
     "name": "stdout",
     "output_type": "stream",
     "text": [
      "\\begin{tabular}{lrrrrr}\n",
      "\\toprule\n",
      "{} &  Label &  Color &  Shape &  Sign &  Seed \\\\\n",
      "\\midrule\n",
      "mean &  99.18 & 100.00 &  99.97 & 99.99 &  0.00 \\\\\n",
      "sem  &    NaN &    NaN &    NaN &   NaN &   NaN \\\\\n",
      "\\bottomrule\n",
      "\\end{tabular}\n",
      "\n"
     ]
    },
    {
     "name": "stderr",
     "output_type": "stream",
     "text": [
      "/tmp/ipykernel_2438319/3946649051.py:1: FutureWarning: In future versions `DataFrame.to_latex` is expected to utilise the base implementation of `Styler.to_latex` for formatting and rendering. The arguments signature may therefore change. It is recommended instead to use `DataFrame.style.to_latex` which also contains additional functionality.\n",
      "  print((pd.DataFrame(results_acc) * 100).agg([\"mean\", \"sem\"]).to_latex(float_format=\"%.2f\"))\n"
     ]
    }
   ],
   "source": [
    "print((pd.DataFrame(results_acc) * 100).agg([\"mean\", \"sem\"]).to_latex(float_format=\"%.2f\"))"
   ]
  },
  {
   "cell_type": "code",
   "execution_count": 13,
   "metadata": {},
   "outputs": [
    {
     "name": "stderr",
     "output_type": "stream",
     "text": [
      "/tmp/ipykernel_2438319/735313046.py:1: FutureWarning: The default value of numeric_only in DataFrameGroupBy.mean is deprecated. In a future version, numeric_only will default to False. Either specify numeric_only or select only columns which should be valid for the function.\n",
      "  (result_df.groupby(by=[\"Method\", \"Seed\"]).mean() * 100).groupby(\"Method\").agg([\"mean\", \"sem\"])\n"
     ]
    },
    {
     "data": {
      "text/html": [
       "<div>\n",
       "<style scoped>\n",
       "    .dataframe tbody tr th:only-of-type {\n",
       "        vertical-align: middle;\n",
       "    }\n",
       "\n",
       "    .dataframe tbody tr th {\n",
       "        vertical-align: top;\n",
       "    }\n",
       "\n",
       "    .dataframe thead tr th {\n",
       "        text-align: left;\n",
       "    }\n",
       "\n",
       "    .dataframe thead tr:last-of-type th {\n",
       "        text-align: right;\n",
       "    }\n",
       "</style>\n",
       "<table border=\"1\" class=\"dataframe\">\n",
       "  <thead>\n",
       "    <tr>\n",
       "      <th></th>\n",
       "      <th colspan=\"2\" halign=\"left\">AUROC</th>\n",
       "      <th colspan=\"2\" halign=\"left\">AUPR-IN</th>\n",
       "      <th colspan=\"2\" halign=\"left\">AUPR-OUT</th>\n",
       "      <th colspan=\"2\" halign=\"left\">ACC95TPR</th>\n",
       "      <th colspan=\"2\" halign=\"left\">FPR95TPR</th>\n",
       "    </tr>\n",
       "    <tr>\n",
       "      <th></th>\n",
       "      <th>mean</th>\n",
       "      <th>sem</th>\n",
       "      <th>mean</th>\n",
       "      <th>sem</th>\n",
       "      <th>mean</th>\n",
       "      <th>sem</th>\n",
       "      <th>mean</th>\n",
       "      <th>sem</th>\n",
       "      <th>mean</th>\n",
       "      <th>sem</th>\n",
       "    </tr>\n",
       "    <tr>\n",
       "      <th>Method</th>\n",
       "      <th></th>\n",
       "      <th></th>\n",
       "      <th></th>\n",
       "      <th></th>\n",
       "      <th></th>\n",
       "      <th></th>\n",
       "      <th></th>\n",
       "      <th></th>\n",
       "      <th></th>\n",
       "      <th></th>\n",
       "    </tr>\n",
       "  </thead>\n",
       "  <tbody>\n",
       "    <tr>\n",
       "      <th>Energy</th>\n",
       "      <td>99.315373</td>\n",
       "      <td>NaN</td>\n",
       "      <td>99.079436</td>\n",
       "      <td>NaN</td>\n",
       "      <td>99.411247</td>\n",
       "      <td>NaN</td>\n",
       "      <td>96.892296</td>\n",
       "      <td>NaN</td>\n",
       "      <td>1.733967</td>\n",
       "      <td>NaN</td>\n",
       "    </tr>\n",
       "    <tr>\n",
       "      <th>Ensemble</th>\n",
       "      <td>99.792286</td>\n",
       "      <td>NaN</td>\n",
       "      <td>99.631342</td>\n",
       "      <td>NaN</td>\n",
       "      <td>99.875978</td>\n",
       "      <td>NaN</td>\n",
       "      <td>97.403375</td>\n",
       "      <td>NaN</td>\n",
       "      <td>0.883610</td>\n",
       "      <td>NaN</td>\n",
       "    </tr>\n",
       "    <tr>\n",
       "      <th>MSP</th>\n",
       "      <td>99.252100</td>\n",
       "      <td>NaN</td>\n",
       "      <td>98.708131</td>\n",
       "      <td>NaN</td>\n",
       "      <td>99.467293</td>\n",
       "      <td>NaN</td>\n",
       "      <td>96.641252</td>\n",
       "      <td>NaN</td>\n",
       "      <td>2.177356</td>\n",
       "      <td>NaN</td>\n",
       "    </tr>\n",
       "    <tr>\n",
       "      <th>Semantic</th>\n",
       "      <td>99.853210</td>\n",
       "      <td>NaN</td>\n",
       "      <td>99.747697</td>\n",
       "      <td>NaN</td>\n",
       "      <td>99.916075</td>\n",
       "      <td>NaN</td>\n",
       "      <td>97.522525</td>\n",
       "      <td>NaN</td>\n",
       "      <td>0.676168</td>\n",
       "      <td>NaN</td>\n",
       "    </tr>\n",
       "    <tr>\n",
       "      <th>Semantic-OE</th>\n",
       "      <td>99.948193</td>\n",
       "      <td>NaN</td>\n",
       "      <td>99.923408</td>\n",
       "      <td>NaN</td>\n",
       "      <td>99.978423</td>\n",
       "      <td>NaN</td>\n",
       "      <td>99.899700</td>\n",
       "      <td>NaN</td>\n",
       "      <td>0.102930</td>\n",
       "      <td>NaN</td>\n",
       "    </tr>\n",
       "  </tbody>\n",
       "</table>\n",
       "</div>"
      ],
      "text/plain": [
       "                 AUROC        AUPR-IN       AUPR-OUT       ACC95TPR      \\\n",
       "                  mean sem       mean sem       mean sem       mean sem   \n",
       "Method                                                                    \n",
       "Energy       99.315373 NaN  99.079436 NaN  99.411247 NaN  96.892296 NaN   \n",
       "Ensemble     99.792286 NaN  99.631342 NaN  99.875978 NaN  97.403375 NaN   \n",
       "MSP          99.252100 NaN  98.708131 NaN  99.467293 NaN  96.641252 NaN   \n",
       "Semantic     99.853210 NaN  99.747697 NaN  99.916075 NaN  97.522525 NaN   \n",
       "Semantic-OE  99.948193 NaN  99.923408 NaN  99.978423 NaN  99.899700 NaN   \n",
       "\n",
       "             FPR95TPR      \n",
       "                 mean sem  \n",
       "Method                     \n",
       "Energy       1.733967 NaN  \n",
       "Ensemble     0.883610 NaN  \n",
       "MSP          2.177356 NaN  \n",
       "Semantic     0.676168 NaN  \n",
       "Semantic-OE  0.102930 NaN  "
      ]
     },
     "execution_count": 13,
     "metadata": {},
     "output_type": "execute_result"
    }
   ],
   "source": [
    "(result_df.groupby(by=[\"Method\", \"Seed\"]).mean() * 100).groupby(\"Method\").agg([\"mean\", \"sem\"])"
   ]
  },
  {
   "cell_type": "code",
   "execution_count": 14,
   "metadata": {},
   "outputs": [
    {
     "data": {
      "text/html": [
       "<div>\n",
       "<style scoped>\n",
       "    .dataframe tbody tr th:only-of-type {\n",
       "        vertical-align: middle;\n",
       "    }\n",
       "\n",
       "    .dataframe tbody tr th {\n",
       "        vertical-align: top;\n",
       "    }\n",
       "\n",
       "    .dataframe thead th {\n",
       "        text-align: right;\n",
       "    }\n",
       "</style>\n",
       "<table border=\"1\" class=\"dataframe\">\n",
       "  <thead>\n",
       "    <tr style=\"text-align: right;\">\n",
       "      <th></th>\n",
       "      <th>Label</th>\n",
       "      <th>Color</th>\n",
       "      <th>Shape</th>\n",
       "      <th>Sign</th>\n",
       "      <th>Seed</th>\n",
       "    </tr>\n",
       "  </thead>\n",
       "  <tbody>\n",
       "    <tr>\n",
       "      <th>mean</th>\n",
       "      <td>0.991845</td>\n",
       "      <td>1.0</td>\n",
       "      <td>0.999683</td>\n",
       "      <td>0.999921</td>\n",
       "      <td>0.0</td>\n",
       "    </tr>\n",
       "    <tr>\n",
       "      <th>sem</th>\n",
       "      <td>NaN</td>\n",
       "      <td>NaN</td>\n",
       "      <td>NaN</td>\n",
       "      <td>NaN</td>\n",
       "      <td>NaN</td>\n",
       "    </tr>\n",
       "  </tbody>\n",
       "</table>\n",
       "</div>"
      ],
      "text/plain": [
       "         Label  Color     Shape      Sign  Seed\n",
       "mean  0.991845    1.0  0.999683  0.999921   0.0\n",
       "sem        NaN    NaN       NaN       NaN   NaN"
      ]
     },
     "execution_count": 14,
     "metadata": {},
     "output_type": "execute_result"
    }
   ],
   "source": [
    "pd.DataFrame(results_acc).agg([\"mean\", \"sem\"])\n",
    "# dataset gives np.array([label, color, shape])\n",
    "\n",
    "# results_acc = evaluate_accs(label_net, shape_net, color_net, shield_net)\n",
    "# print(results_acc)"
   ]
  },
  {
   "cell_type": "markdown",
   "metadata": {},
   "source": [
    "# Eval"
   ]
  },
  {
   "cell_type": "code",
   "execution_count": 15,
   "metadata": {},
   "outputs": [],
   "source": [
    "def ood_label(x):\n",
    "    if x == True:\n",
    "        return \"Normal\"\n",
    "    else:\n",
    "        return \"Anomaly\""
   ]
  },
  {
   "cell_type": "code",
   "execution_count": 16,
   "metadata": {},
   "outputs": [],
   "source": [
    "trans = Compose([Resize(size=(32, 32)), ToRGB(), ToTensor()])"
   ]
  },
  {
   "cell_type": "code",
   "execution_count": 17,
   "metadata": {},
   "outputs": [],
   "source": [
    "from pytorch_ood.utils import OODMetrics, ToRGB, ToUnknown\n",
    "from pytorch_ood.dataset.img import Textures"
   ]
  },
  {
   "cell_type": "code",
   "execution_count": 18,
   "metadata": {},
   "outputs": [
    {
     "data": {
      "application/vnd.jupyter.widget-view+json": {
       "model_id": "d22001481a0b4fb388804991720a5f1e",
       "version_major": 2,
       "version_minor": 0
      },
      "text/plain": [
       "  0%|          | 0/143 [00:00<?, ?it/s]"
      ]
     },
     "metadata": {},
     "output_type": "display_data"
    },
    {
     "name": "stdout",
     "output_type": "stream",
     "text": [
      "{'AUROC': 0.13750888407230377, 'AUPR-IN': 0.5647227168083191, 'AUPR-OUT': 0.9998371005058289, 'ACC95TPR': 0.998741090297699, 'FPR95TPR': 0.0010292953811585903}\n"
     ]
    }
   ],
   "source": [
    "test_in_data = GTSRB(root=root, train=False, transforms=trans, target_transform=lambda y: y[0])\n",
    "dataset_out_test = Textures(root=root, transform=trans, target_transform=ToUnknown(), download=True)\n",
    "loader = DataLoader(dataset_out_test +  test_in_data, batch_size=128, worker_init_fn=seed_worker)\n",
    "\n",
    "sem_detector = SemanticDetector(\n",
    "            label_net, \n",
    "            shape_net, \n",
    "            color_net, \n",
    "            GTSRB(root=root).class_to_shape, \n",
    "            GTSRB(root=root).class_to_color, \n",
    "            sign_net=shield_net\n",
    "        )\n",
    "\n",
    "with torch.no_grad():\n",
    "    metrics = OODMetrics()\n",
    "    for x, y in tqdm(loader):\n",
    "        metrics.update(sem_detector(x.to(device)), y.to(device))\n",
    "\n",
    "print(metrics.compute())"
   ]
  },
  {
   "cell_type": "code",
   "execution_count": 19,
   "metadata": {},
   "outputs": [
    {
     "data": {
      "application/vnd.jupyter.widget-view+json": {
       "model_id": "d21216d14faf4a768790c7946b9b1c51",
       "version_major": 2,
       "version_minor": 0
      },
      "text/plain": [
       "  0%|          | 0/143 [00:00<?, ?it/s]"
      ]
     },
     "metadata": {},
     "output_type": "display_data"
    },
    {
     "name": "stdout",
     "output_type": "stream",
     "text": [
      "{'AUROC': 0.9999062418937683, 'AUPR-IN': 0.9999278783798218, 'AUPR-OUT': 0.9999549388885498, 'ACC95TPR': 0.9845648407936096, 'FPR95TPR': 0.0}\n"
     ]
    }
   ],
   "source": [
    "with torch.no_grad():\n",
    "    metrics = OODMetrics()\n",
    "    for x, y in tqdm(loader):\n",
    "        metrics.update(-shield_net(x.to(device)).softmax(dim=1)[:,1].cpu(), y.to(device))\n",
    "\n",
    "sign_net_metric = metrics.compute()\n",
    "print(sign_net_metric)"
   ]
  },
  {
   "cell_type": "code",
   "execution_count": 49,
   "metadata": {},
   "outputs": [
    {
     "data": {
      "application/vnd.jupyter.widget-view+json": {
       "model_id": "1689ff5e53c7429281debc7337761c84",
       "version_major": 2,
       "version_minor": 0
      },
      "text/plain": [
       "  0%|          | 0/79 [00:00<?, ?it/s]"
      ]
     },
     "metadata": {},
     "output_type": "display_data"
    },
    {
     "data": {
      "application/vnd.jupyter.widget-view+json": {
       "model_id": "b3927282d0a64716ba3842e830e67cf5",
       "version_major": 2,
       "version_minor": 0
      },
      "text/plain": [
       "  0%|          | 0/79 [00:00<?, ?it/s]"
      ]
     },
     "metadata": {},
     "output_type": "display_data"
    },
    {
     "data": {
      "application/vnd.jupyter.widget-view+json": {
       "model_id": "35730edf32a8408892a86e34ae9be9b3",
       "version_major": 2,
       "version_minor": 0
      },
      "text/plain": [
       "  0%|          | 0/45 [00:00<?, ?it/s]"
      ]
     },
     "metadata": {},
     "output_type": "display_data"
    },
    {
     "data": {
      "application/vnd.jupyter.widget-view+json": {
       "model_id": "7adb2f8ba43347629eecd4094e87d50b",
       "version_major": 2,
       "version_minor": 0
      },
      "text/plain": [
       "  0%|          | 0/79 [00:00<?, ?it/s]"
      ]
     },
     "metadata": {},
     "output_type": "display_data"
    },
    {
     "data": {
      "application/vnd.jupyter.widget-view+json": {
       "model_id": "73495efc3f154f8992c7369e87cbefda",
       "version_major": 2,
       "version_minor": 0
      },
      "text/plain": [
       "  0%|          | 0/79 [00:00<?, ?it/s]"
      ]
     },
     "metadata": {},
     "output_type": "display_data"
    },
    {
     "data": {
      "application/vnd.jupyter.widget-view+json": {
       "model_id": "a4c6dc8f5d734dc99cc97eebc3f27438",
       "version_major": 2,
       "version_minor": 0
      },
      "text/plain": [
       "  0%|          | 0/99 [00:00<?, ?it/s]"
      ]
     },
     "metadata": {},
     "output_type": "display_data"
    },
    {
     "name": "stdout",
     "output_type": "stream",
     "text": [
      "{'AUROC': 0.9994824528694153, 'AUPR-IN': 0.9998566508293152, 'AUPR-OUT': 0.9995864629745483, 'ACC95TPR': 0.9990389347076416, 'FPR95TPR': 0.0010292953811585903}\n"
     ]
    }
   ],
   "source": [
    "from tqdm.notebook import tqdm \n",
    "test_in_data = GTSRB(root=root, train=False, transforms=trans, target_transform=lambda y: y[0])\n",
    "\n",
    "sem_detector = SemanticDetector(\n",
    "    label_net, \n",
    "    shape_net, \n",
    "    color_net, \n",
    "    GTSRB(root=root).class_to_shape, \n",
    "    GTSRB(root=root).class_to_color, \n",
    "    sign_net=shield_net\n",
    ")\n",
    "\n",
    "scores = []\n",
    "my_scores = []\n",
    "ys = []\n",
    "xs = []\n",
    "ys_hat = []\n",
    "\n",
    "metrics = OODMetrics()\n",
    "\n",
    "datasets = (LSUNCrop, LSUNResize, Textures, TinyImageNetCrop, TinyImageNetResize)\n",
    "datasets = [c(root=root, transform=trans, target_transform=ToUnknown(), download=True) for c in datasets]\n",
    "loaders = [DataLoader(d, batch_size=128, worker_init_fn=seed_worker) for d in datasets]\n",
    "loaders.append( DataLoader(test_in_data, batch_size=128, worker_init_fn=seed_worker))\n",
    "\n",
    "with torch.no_grad():\n",
    "     for loader in loaders:\n",
    "        for x, y in tqdm(loader):\n",
    "            x = x.to(device)\n",
    "            scores.append(detector(x))\n",
    "            ys_hat.append(label_net(x).softmax(dim=1).max(dim=1).indices) \n",
    "            my_scores.append(sem_detector(x))\n",
    "\n",
    "            ys.append(y)\n",
    "            xs.append(x.cpu())\n",
    "\n",
    "\n",
    "scores = torch.cat(scores, dim=0).cpu()\n",
    "ys = torch.cat(ys, dim=0).cpu()\n",
    "ys_hat = torch.cat(ys_hat, dim=0).cpu()\n",
    "my_scores = torch.cat(my_scores, dim=0).cpu()\n",
    "xs = torch.cat(xs, dim=0).cpu()\n",
    "\n",
    "\n",
    "metrics = OODMetrics()\n",
    "metrics.update(my_scores, ys)\n",
    "print(metrics.compute())"
   ]
  },
  {
   "cell_type": "code",
   "execution_count": 50,
   "metadata": {},
   "outputs": [
    {
     "data": {
      "text/plain": [
       "tensor([-1.9247, -2.3903, -2.8967,  ..., -2.9974, -2.9999, -3.0000])"
      ]
     },
     "execution_count": 50,
     "metadata": {},
     "output_type": "execute_result"
    }
   ],
   "source": [
    "scores"
   ]
  },
  {
   "cell_type": "code",
   "execution_count": 51,
   "metadata": {},
   "outputs": [
    {
     "data": {
      "text/plain": [
       "tensor([ 2, 38, 24, 25,  9,  5,  1, 22,  5,  7,  6, 12, 16,  3, 35,  1,  9,  7,\n",
       "         8, 30, 23,  2, 39, 23, 10, 11,  1,  2, 15, 17,  7,  2, 18, 11,  9, 20,\n",
       "         2,  9,  3,  1, 11,  8, 10,  6, 10,  3, 25,  5, 22,  3, 12, 25, 13, 10,\n",
       "        35, 10, 35, 38, 24, 13, 35, 25, 38,  1, 18,  7, 35, 11, 39,  8,  0, 10,\n",
       "        18, 31,  8, 31, 13,  5, 12, 35, 25, 12, 33,  6,  7, 10])"
      ]
     },
     "execution_count": 51,
     "metadata": {},
     "output_type": "execute_result"
    }
   ],
   "source": [
    "y"
   ]
  },
  {
   "cell_type": "code",
   "execution_count": 52,
   "metadata": {},
   "outputs": [
    {
     "name": "stdout",
     "output_type": "stream",
     "text": [
      "torch.Size([58270, 3, 32, 32])\n",
      "torch.Size([58270])\n",
      "torch.Size([58270])\n",
      "torch.Size([58270])\n",
      "torch.Size([58270])\n",
      "tensor(12630)\n",
      "tensor(45640)\n"
     ]
    }
   ],
   "source": [
    "from pytorch_ood.utils import is_unknown\n",
    "\n",
    "\n",
    "print(xs.shape)\n",
    "print(my_scores.shape)\n",
    "print(ys_hat.shape)\n",
    "print(ys.shape)\n",
    "print(scores.shape)\n",
    "\n",
    "print(is_known(ys).sum())\n",
    "print(is_unknown(ys).sum())\n"
   ]
  },
  {
   "cell_type": "code",
   "execution_count": 53,
   "metadata": {},
   "outputs": [
    {
     "data": {
      "text/plain": [
       "<AxesSubplot: xlabel='Scores', ylabel='Probability'>"
      ]
     },
     "execution_count": 53,
     "metadata": {},
     "output_type": "execute_result"
    },
    {
     "data": {
      "image/png": "[encoded data removed]",
      "text/plain": [
       "<Figure size 640x480 with 1 Axes>"
      ]
     },
     "metadata": {},
     "output_type": "display_data"
    }
   ],
   "source": [
    "from pandas import DataFrame\n",
    "\n",
    "df_1 = DataFrame()\n",
    "df_1[\"Scores\"] = scores.cpu().numpy()\n",
    "df_1[\"Labels\"] = ys >= 0\n",
    "df_1[\"Labels\"] = df_1[\"Labels\"].apply(ood_label)\n",
    "df_1[\"Method\"] = \"Implicit\"\n",
    "\n",
    "sb.histplot(data=df_1, x=\"Scores\", hue=\"Labels\", common_norm=False, stat=\"probability\", bins=30)"
   ]
  },
  {
   "cell_type": "markdown",
   "metadata": {},
   "source": [
    "# Examples "
   ]
  },
  {
   "cell_type": "code",
   "execution_count": 57,
   "metadata": {
    "tags": []
   },
   "outputs": [
    {
     "data": {
      "image/png": "[encoded data removed]",
      "text/plain": [
       "<Figure size 2000x2000 with 1 Axes>"
      ]
     },
     "metadata": {},
     "output_type": "display_data"
    }
   ],
   "source": [
    "from sklearn.metrics import confusion_matrix, ConfusionMatrixDisplay\n",
    "import seaborn as sb \n",
    "\n",
    "ys_hat_anom = ys_hat.clone()\n",
    "ys_hat_anom[my_scores > -0.99] = 44 \n",
    "\n",
    "fig, ax = plt.subplots(figsize=(20,20))\n",
    "m = confusion_matrix(ys[ys >= 0], ys_hat_anom[ys >= 0])\n",
    "\n",
    "for i in range(m.shape[0]):\n",
    "    m[i,i] = 0\n",
    "    \n",
    "disp = ConfusionMatrixDisplay(m, display_labels=list(dataset.class_to_name.values()) + [\"Anomaly\"])\n",
    "disp.plot(ax=ax, xticks_rotation=\"vertical\", colorbar=False)\n",
    "\n",
    "plt.tight_layout(pad=0)\n",
    "\n",
    "plt.savefig(\"img/confusion.pdf\")\n",
    "plt.savefig(\"img/confusion.jpg\", dpi=300, bbox_inches=\"tight\")"
   ]
  },
  {
   "cell_type": "code",
   "execution_count": 71,
   "metadata": {},
   "outputs": [
    {
     "name": "stdout",
     "output_type": "stream",
     "text": [
      "Total number of street signs 12630\n",
      "Total number of anomalies 45640\n",
      "Signs mistakenly marked as anomalies (no matter prediction) 355\n",
      "Signs mistakenly marked as anomalies (correct sign predicted) 256\n",
      "Signs mistakenly marked as anomalies (false sign predicted) 99\n",
      "Signs maked as non-anomalous (false sign predicted) 5\n",
      "Anomaly mistakenly marked as sign (no matter prediction) 1\n",
      "Instances where our decision was not optimal: 262/58270=0.450%\n"
     ]
    }
   ],
   "source": [
    "min_score = my_scores[ys < 0][my_scores[ys < 0] != -1].min().item() + 0.00001\n",
    "\n",
    "ys_hat_anom = ys_hat.clone()\n",
    "ys_hat_anom[my_scores > min_score] = -1 \n",
    "\n",
    "(ys_hat_anom[ys >= 0] == 44).sum()\n",
    "\n",
    "print(f\"Total number of street signs {(ys >= 0).sum()}\")\n",
    "print(f\"Total number of anomalies {(ys < 0).sum()}\")\n",
    "print(f\"Signs mistakenly marked as anomalies (no matter prediction) {(ys_hat_anom[ys >= 0] < 0).sum()}\")\n",
    "print(f\"Signs mistakenly marked as anomalies (correct sign predicted) {(ys_hat_anom[ys == ys_hat] < 0).sum()}\")\n",
    "print(f\"Signs mistakenly marked as anomalies (false sign predicted) {(ys_hat_anom[(ys != ys_hat) & (ys >= 0)] < 0).sum()}\")\n",
    "\n",
    "print(f\"Signs maked as non-anomalous (false sign predicted) {(  (ys_hat_anom >= 0) & (ys_hat_anom != ys) ).sum() }\")\n",
    "print(f\"Anomaly mistakenly marked as sign (no matter prediction) {(ys_hat_anom[ys < 0] >= 0).sum()}\")\n",
    "\n",
    "t = (ys_hat_anom[ys == ys_hat] < 0).sum() + ((ys_hat_anom >= 0) & (ys_hat_anom != ys)).sum() + (ys_hat_anom[ys < 0] >= 0).sum()\n",
    "total = ys.shape[0]\n",
    "print(f\"Instances where our decision was not optimal: {t}/{total}={t/total:.3%}\")"
   ]
  },
  {
   "cell_type": "code",
   "execution_count": 105,
   "metadata": {},
   "outputs": [
    {
     "data": {
      "text/plain": [
       "[<matplotlib.lines.Line2D at 0x7f7168232740>]"
      ]
     },
     "execution_count": 105,
     "metadata": {},
     "output_type": "execute_result"
    },
    {
     "data": {
      "image/png": "[encoded data removed]",
      "text/plain": [
       "<Figure size 640x480 with 1 Axes>"
      ]
     },
     "metadata": {},
     "output_type": "display_data"
    }
   ],
   "source": [
    "rs = []\n",
    "xs = np.linspace(-0.0005, 0.999, 1000)\n",
    "xss = []\n",
    "\n",
    "for t in xs:\n",
    "    min_score = my_scores[ys < 0][my_scores[ys < 0] != -1].min().item() + t\n",
    "    xss.append(min_score * -1)\n",
    "    ys_hat_anom = ys_hat.clone()\n",
    "    ys_hat_anom[my_scores > min_score] = -1 \n",
    "    r = (ys_hat_anom[ys == ys_hat] < 0).sum() + ((ys_hat_anom >= 0) & (ys_hat_anom != ys)).sum() + (ys_hat_anom[ys < 0] >= 0).sum()\n",
    "    rs.append(r /ys.shape[0] * 100) #\n",
    "    \n",
    "plt.plot(xss, rs)"
   ]
  },
  {
   "cell_type": "code",
   "execution_count": 59,
   "metadata": {},
   "outputs": [],
   "source": [
    "red_classes = [k for k, v in dataset.class_to_color.items() if dataset.color_to_name[v] == \"red\"]\n",
    "red_classes.sort()\n",
    "# red_classes"
   ]
  },
  {
   "cell_type": "code",
   "execution_count": 62,
   "metadata": {},
   "outputs": [
    {
     "data": {
      "text/plain": [
       "<AxesSubplot: xlabel='Scores', ylabel='Probability'>"
      ]
     },
     "execution_count": 62,
     "metadata": {},
     "output_type": "execute_result"
    },
    {
     "data": {
      "image/png": "[encoded data removed]",
      "text/plain": [
       "<Figure size 640x480 with 1 Axes>"
      ]
     },
     "metadata": {},
     "output_type": "display_data"
    }
   ],
   "source": [
    "df_2 = DataFrame()\n",
    "df_2[\"Scores\"] = my_scores.cpu().numpy()\n",
    "df_2[\"Labels\"] = ys >= 0\n",
    "df_2[\"Labels\"] = df_2[\"Labels\"].apply(ood_label)\n",
    "df_2[\"Method\"] = \"Explicit\"\n",
    "\n",
    "sb.histplot(data=df_2, x=\"Scores\", hue=\"Labels\", common_norm=False, stat=\"probability\", bins=30)"
   ]
  },
  {
   "cell_type": "code",
   "execution_count": 63,
   "metadata": {},
   "outputs": [
    {
     "data": {
      "text/plain": [
       "<seaborn.axisgrid.FacetGrid at 0x7f716b171c60>"
      ]
     },
     "execution_count": 63,
     "metadata": {},
     "output_type": "execute_result"
    },
    {
     "data": {
      "image/png": "[encoded data removed]",
      "text/plain": [
       "<Figure size 1122.12x500 with 2 Axes>"
      ]
     },
     "metadata": {},
     "output_type": "display_data"
    }
   ],
   "source": [
    "sb.displot(pd.concat([df_1, df_2]).reset_index(), x=\"Scores\", hue=\"Labels\", col=\"Method\", stat=\"probability\", bins=30, kind=\"hist\",  common_norm=False)"
   ]
  }
 ],
 "metadata": {
  "kernelspec": {
   "display_name": "logic-ood",
   "language": "python",
   "name": "logic-ood"
  },
  "language_info": {
   "codemirror_mode": {
    "name": "ipython",
    "version": 3
   },
   "file_extension": ".py",
   "mimetype": "text/x-python",
   "name": "python",
   "nbconvert_exporter": "python",
   "pygments_lexer": "ipython3",
   "version": "3.10.9"
  }
 },
 "nbformat": 4,
 "nbformat_minor": 5
}
