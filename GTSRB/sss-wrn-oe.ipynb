{
 "cells": [
  {
   "cell_type": "markdown",
   "id": "6515def1",
   "metadata": {},
   "source": [
    "# Street sign with Pre-Trained WideResNet\n",
    "\n",
    "With additional shield net "
   ]
  },
  {
   "cell_type": "code",
   "execution_count": 1,
   "id": "d06b287f",
   "metadata": {
    "ExecuteTime": {
     "end_time": "2023-08-23T15:38:57.609123835Z",
     "start_time": "2023-08-23T15:38:55.345747081Z"
    }
   },
   "outputs": [],
   "source": [
    "from torch.optim import SGD\n",
    "import seaborn as sb \n",
    "from gtsrb import GTSRB\n",
    "from detectors import EnsembleDetector, LogicOOD, PrologOOD\n",
    "import torch\n",
    "from pytorch_ood.utils import fix_random_seed\n",
    "\n",
    "import logging\n",
    "import sys\n",
    "logger = logging.getLogger()\n",
    "logger.addHandler(logging.StreamHandler(stream=sys.stdout))\n",
    "logger.setLevel(logging.INFO)\n",
    "\n",
    "\n",
    "fix_random_seed(123)\n",
    "\n",
    "def seed_worker(worker_id):\n",
    "    fix_random_seed(worker_id)\n",
    "\n",
    "g = torch.Generator()\n",
    "g.manual_seed(0)\n",
    "\n",
    "sb.set()\n",
    "\n",
    "device=\"cuda:0\"\n",
    "root = \"../data/\"\n",
    "\n",
    "\n"
   ]
  },
  {
   "cell_type": "code",
   "execution_count": 2,
   "id": "e2c5cb26",
   "metadata": {
    "ExecuteTime": {
     "end_time": "2023-08-23T15:38:57.685425044Z",
     "start_time": "2023-08-23T15:38:57.612318192Z"
    }
   },
   "outputs": [
    {
     "name": "stdout",
     "output_type": "stream",
     "text": [
      "39209\n"
     ]
    }
   ],
   "source": [
    "from pytorch_ood.utils import ToRGB\n",
    "from torchvision.transforms import ToTensor, Resize, Compose\n",
    "import torch \n",
    "from torch.utils.data import DataLoader, random_split\n",
    "import numpy as np\n",
    "\n",
    "\n",
    "trans = Compose([ToRGB(), ToTensor(), Resize((32, 32), antialias=True)])\n",
    "\n",
    "data = GTSRB(root=root, train=True, transforms=trans)\n",
    "print(len(data))\n",
    "train_data , val_data  = random_split(data, [35000, 4209], generator=torch.Generator().manual_seed(123))\n",
    "\n",
    "test_data = GTSRB(root=root, train=False, transforms=trans)"
   ]
  },
  {
   "cell_type": "code",
   "execution_count": 3,
   "id": "9eb2fb87",
   "metadata": {
    "ExecuteTime": {
     "end_time": "2023-08-23T15:38:57.685587707Z",
     "start_time": "2023-08-23T15:38:57.680326069Z"
    }
   },
   "outputs": [],
   "source": [
    "train_loader = DataLoader(train_data, batch_size=32, shuffle=True, num_workers=2, worker_init_fn=seed_worker)\n",
    "test_loader = DataLoader(test_data, batch_size=32, shuffle=False, num_workers=2, worker_init_fn=seed_worker)"
   ]
  },
  {
   "cell_type": "code",
   "execution_count": 4,
   "id": "a9a268a1",
   "metadata": {
    "ExecuteTime": {
     "end_time": "2023-08-23T15:38:57.685737092Z",
     "start_time": "2023-08-23T15:38:57.680501662Z"
    }
   },
   "outputs": [],
   "source": [
    "from torch import nn\n",
    "from torchvision.models.resnet import resnet18\n",
    "from pytorch_ood.model import WideResNet\n",
    "\n",
    "# def override \n",
    "def Model(num_classes=None, *args, **kwargs):\n",
    "    model = WideResNet(*args, num_classes=1000, **kwargs, pretrained=\"imagenet32\")\n",
    "    model.fc = nn.Linear(model.fc.in_features, num_classes)\n",
    "    return model\n"
   ]
  },
  {
   "cell_type": "code",
   "execution_count": 5,
   "id": "857cc076",
   "metadata": {
    "ExecuteTime": {
     "end_time": "2023-08-23T15:38:57.739327232Z",
     "start_time": "2023-08-23T15:38:57.686495473Z"
    }
   },
   "outputs": [],
   "source": [
    "def train_model(att_index, num_classes):\n",
    "    \"\"\"\n",
    "    train a model for the given attribute index \n",
    "    \"\"\"\n",
    "    data = GTSRB(root=root, train=True, transforms=trans)\n",
    "    train_data , val_data  = random_split(data, [35000, 4209], generator=torch.Generator().manual_seed(123))\n",
    "    test_data = GTSRB(root=root, train=False, transforms=trans)\n",
    "\n",
    "    train_loader = DataLoader(train_data, batch_size=32, shuffle=True, num_workers=2, worker_init_fn=seed_worker)\n",
    "    test_loader = DataLoader(test_data, batch_size=32, shuffle=False, num_workers=2, worker_init_fn=seed_worker)\n",
    "    \n",
    "    model = Model(num_classes=num_classes).to(device)\n",
    "\n",
    "    criterion = nn.CrossEntropyLoss()\n",
    "    optimizer = SGD(model.parameters(), lr=0.001, momentum=0.9, nesterov=True)\n",
    "\n",
    "    for epoch in range(20):\n",
    "        running_loss = 0.0\n",
    "        model.train()\n",
    "        bar = tqdm(train_loader)\n",
    "        for inputs, y in bar:\n",
    "            labels = y[:, att_index]\n",
    "            inputs, labels = inputs.to(device), labels.to(device)\n",
    "\n",
    "            optimizer.zero_grad()\n",
    "            outputs = model(inputs)\n",
    "            loss = criterion(outputs, labels)\n",
    "            loss.backward()\n",
    "            optimizer.step()\n",
    "\n",
    "            running_loss = 0.8 * running_loss + 0.2 * loss.item()\n",
    "            bar.set_postfix({\"loss\": running_loss})\n",
    "\n",
    "        correct = 0\n",
    "        total = 0\n",
    "\n",
    "        with torch.no_grad():\n",
    "            model.eval()\n",
    "\n",
    "            for inputs, y in test_loader:\n",
    "                labels = y[:, att_index]\n",
    "                inputs, labels = inputs.to(device), labels.to(device)\n",
    "\n",
    "                outputs = model(inputs)\n",
    "                _, predicted = torch.max(outputs.data, dim=1)\n",
    "                total += labels.size(0)\n",
    "                correct += (predicted == labels).sum().item()\n",
    "\n",
    "        print(f'Accuracy of the network on the test images: {correct / total:.2%}')\n",
    "\n",
    "    return model "
   ]
  },
  {
   "cell_type": "markdown",
   "id": "81e239ff",
   "metadata": {},
   "source": [
    "# Sign Network "
   ]
  },
  {
   "cell_type": "code",
   "execution_count": 6,
   "id": "6c87fc89",
   "metadata": {
    "ExecuteTime": {
     "end_time": "2023-08-23T15:38:57.739502982Z",
     "start_time": "2023-08-23T15:38:57.728730023Z"
    }
   },
   "outputs": [],
   "source": [
    "from torch.utils.data import DataLoader\n",
    "from pytorch_ood.utils import is_known\n",
    "from tqdm.notebook import tqdm \n",
    "from pytorch_ood.dataset.img import TinyImages300k\n",
    "from pytorch_ood.utils import ToUnknown\n",
    "from torch.utils.data import random_split\n",
    "from torch.utils.data import TensorDataset\n",
    "\n",
    "\n",
    "# class GANData:\n",
    "#     def __init__(self):\n",
    "#         self.data =  torch.tensor(np.load(\"../data/gtsrb-samples-z-var-100.npz\")[\"x\"], dtype=torch.float32)\n",
    "#         resize = Resize(size=(32, 32), antialias=True)\n",
    "#         self.data = torch.stack([resize(a) for a in self.data])\n",
    "#\n",
    "#     def __len__(self):\n",
    "#         return len(self.data)\n",
    "#\n",
    "#     def __getitem__(self, item):\n",
    "#         return self.data[item], torch.tensor(-1)\n",
    "\n",
    "\n",
    "# %%\n",
    "def train_sign_model():\n",
    "    # dataset = GANData()\n",
    "    # print(len(dataset))\n",
    "    dataset = TinyImages300k(root=root, download=True, transform=trans, target_transform=lambda x: torch.tensor(-1))\n",
    "    data_train_out , data_test_out, _  = random_split(dataset, [5000, 10000, 285000], generator=torch.Generator().manual_seed(123))\n",
    "\n",
    "    train_data_noatt = GTSRB(root=root, train=True, transforms=trans, target_transform=lambda y: torch.tensor(y[0]))\n",
    "    test_data_noatt = GTSRB(root=root, train=False, transforms=trans, target_transform=lambda y: torch.tensor(y[0]))\n",
    "\n",
    "    new_loader = DataLoader(train_data_noatt + data_train_out, batch_size=128, shuffle=True, num_workers=10, worker_init_fn=seed_worker)\n",
    "    new_test_loader = DataLoader(test_data_noatt, batch_size=128, shuffle=False, num_workers=10, worker_init_fn=seed_worker)\n",
    "\n",
    "    model = Model(num_classes=2).to(device)\n",
    "\n",
    "    criterion = nn.CrossEntropyLoss()\n",
    "    optimizer = SGD(model.parameters(), lr=0.001, momentum=0.9, nesterov=True)\n",
    "\n",
    "    accs = []\n",
    "\n",
    "    for epoch in range(1):\n",
    "        running_loss = 0.0\n",
    "        model.train()\n",
    "        \n",
    "        bar = tqdm(new_loader)\n",
    "        for inputs, y in bar:\n",
    "            labels = is_known(y).long()\n",
    "            inputs, labels = inputs.to(device), labels.to(device)\n",
    "\n",
    "            optimizer.zero_grad()\n",
    "            outputs = model(inputs)\n",
    "            loss = criterion(outputs, labels)\n",
    "            loss.backward()\n",
    "            optimizer.step()\n",
    "\n",
    "            running_loss = 0.8 * running_loss + 0.2 * loss.item()\n",
    "            bar.set_postfix({\"loss\": running_loss})\n",
    "\n",
    "        correct = 0\n",
    "        total = 0\n",
    "\n",
    "        with torch.no_grad():\n",
    "            model.eval()\n",
    "\n",
    "            for inputs, y in new_test_loader:\n",
    "                labels = is_known(y).long()\n",
    "                inputs, labels = inputs.to(device), labels.to(device)\n",
    "\n",
    "                outputs = model(inputs)\n",
    "                _, predicted = torch.max(outputs.data, 1)\n",
    "                total += labels.size(0)\n",
    "                correct += (predicted == labels).sum().item()\n",
    "\n",
    "        print(f'Accuracy of the sign network on the test images: {correct / total:.2%}')\n",
    "        accs.append(correct / total)\n",
    "\n",
    "\n",
    "    return model\n",
    "\n",
    "\n",
    "# train_sign_model()\n"
   ]
  },
  {
   "cell_type": "markdown",
   "id": "a7089c25",
   "metadata": {
    "tags": []
   },
   "source": [
    "# OOD Evaluation "
   ]
  },
  {
   "cell_type": "code",
   "execution_count": 7,
   "id": "8d017e08",
   "metadata": {
    "ExecuteTime": {
     "end_time": "2023-08-23T15:38:57.739573484Z",
     "start_time": "2023-08-23T15:38:57.728842078Z"
    }
   },
   "outputs": [],
   "source": [
    "from importlib import reload\n",
    "\n",
    "import detectors\n",
    "reload(detectors)\n",
    "\n",
    "from pytorch_ood.dataset.img import (LSUNCrop, LSUNResize, Textures, TinyImageNetCrop, TinyImageNetResize)\n",
    "from pytorch_ood.detector import EnergyBased, MaxSoftmax, ReAct, MaxLogit, Entropy, Mahalanobis, ViM\n",
    "from pytorch_ood.utils import ToRGB, OODMetrics\n",
    "\n",
    "from detectors import PrologOODT\n",
    "\n",
    "def evaluate(label_net, shape_net, color_net, shield_net):\n",
    "    _ = label_net.eval()\n",
    "    _ = shape_net.eval()\n",
    "    _ = color_net.eval()\n",
    "    _ = shield_net.eval()\n",
    "    \n",
    "    results = []\n",
    "\n",
    "    data_in = GTSRB(root=root, train=False, transforms=trans, target_transform=lambda y: y[0])\n",
    "    # dataset_out_test = Textures(root=root, transform=trans, target_transform=ToUnknown(), download=True)\n",
    "\n",
    "    detectors = {\n",
    "        \"PrologOOD\": PrologOOD(\n",
    "            \"kb.pl\",\n",
    "            label_net=label_net,\n",
    "            shape_net=shape_net,\n",
    "            color_net=color_net,\n",
    "            label_file=\"../data/GTSRB/labels.txt\",\n",
    "        ),\n",
    "        \"PrologOOD+\": PrologOOD(\n",
    "            \"kb.pl\",\n",
    "            label_net,\n",
    "            shape_net,\n",
    "            color_net,\n",
    "            sign_net=shield_net,\n",
    "            label_file=\"../data/GTSRB/labels.txt\",\n",
    "        ),\n",
    "        \"PrologOODT\": PrologOODT(\n",
    "            \"kb.pl\",\n",
    "            label_net=label_net,\n",
    "            shape_net=shape_net,\n",
    "            color_net=color_net,\n",
    "            label_file=\"../data/GTSRB/labels.txt\",\n",
    "        ),\n",
    "        \"PrologOODT+\": PrologOODT(\n",
    "            \"kb.pl\",\n",
    "            label_net,\n",
    "            shape_net,\n",
    "            color_net,\n",
    "            sign_net=shield_net,\n",
    "            label_file=\"../data/GTSRB/labels.txt\",\n",
    "        ),\n",
    "        \"Logic\": LogicOOD(\n",
    "            label_net,\n",
    "            shape_net,\n",
    "            color_net,\n",
    "            data_in.class_to_shape,\n",
    "            data_in.class_to_color,\n",
    "        ).consistent,\n",
    "        \"Ensemble\": EnsembleDetector(label_net, shape_net, color_net),\n",
    "        \"MSP\": MaxSoftmax(label_net),\n",
    "        \"Energy\": EnergyBased(label_net),\n",
    "        \"ReAct\": ReAct(label_net.features, label_net.fc, threshold=10.0),\n",
    "        \"ViM\": ViM(label_net.features, w=label_net.fc.weight, b=label_net.fc.bias, d=64),\n",
    "        \"Mahalanobis\": Mahalanobis(label_net.features),\n",
    "        \"Entropy\": Entropy(label_net),\n",
    "        \"MaxLogit\": MaxLogit(label_net),\n",
    "    }\n",
    "    data = GTSRB(root=root, train=True, transforms=trans, target_transform=lambda y: torch.tensor(y[0]))\n",
    "    _ , val_data  = random_split(data, [35000, 4209], generator=torch.Generator().manual_seed(123))\n",
    "    label_loader = DataLoader(val_data, batch_size=128, shuffle=False, worker_init_fn=seed_worker, num_workers=10)\n",
    "\n",
    "    data = GTSRB(root=root, train=True, transforms=trans, target_transform=lambda y: torch.tensor(y[1]))\n",
    "    _ , val_data  = random_split(data, [35000, 4209], generator=torch.Generator().manual_seed(123))\n",
    "    color_loader = DataLoader(val_data, batch_size=128, shuffle=False, worker_init_fn=seed_worker, num_workers=10)\n",
    "\n",
    "    data = GTSRB(root=root, train=True, transforms=trans, target_transform=lambda y: torch.tensor(y[2]))\n",
    "    _ , val_data  = random_split(data, [35000, 4209], generator=torch.Generator().manual_seed(123))\n",
    "    shape_loader = DataLoader(val_data, batch_size=128, shuffle=False, worker_init_fn=seed_worker, num_workers=10)\n",
    "\n",
    "    detectors[\"ViM\"].fit(label_loader, device=device)\n",
    "    detectors[\"Mahalanobis\"].fit(label_loader, device=device)\n",
    "    detectors[\"PrologOODT\"].fit(label_loader, color_loader, shape_loader, device=device)\n",
    "    detectors[\"PrologOODT+\"].fit(label_loader, color_loader, shape_loader, device=device)\n",
    "\n",
    "    datasets = {d.__name__: d for d in (LSUNCrop, LSUNResize, Textures, TinyImageNetCrop, TinyImageNetResize)}\n",
    "    \n",
    "    for detector_name, detector in detectors.items():\n",
    "        for data_name, dataset_c in datasets.items():\n",
    "            data_out = dataset_c(root=root, transform=trans, target_transform=ToUnknown(), download=True)\n",
    "            loader = DataLoader(data_in+data_out, batch_size=128, shuffle=False, worker_init_fn=seed_worker, num_workers=10)\n",
    "            \n",
    "            scores = []\n",
    "            ys = []\n",
    "            \n",
    "            with torch.no_grad():\n",
    "                for x, y in loader:\n",
    "                    scores.append(detector(x.to(device)))\n",
    "                    ys.append(y.to(device))\n",
    "                    \n",
    "                scores = torch.cat(scores, dim=0).cpu()\n",
    "                ys = torch.cat(ys, dim=0).cpu()\n",
    "            \n",
    "            metrics = OODMetrics()\n",
    "            metrics.update(scores, ys)\n",
    "            r = metrics.compute()\n",
    "            r.update({\n",
    "                \"Method\": detector_name,\n",
    "                \"Dataset\": data_name\n",
    "            })\n",
    "            print(r)\n",
    "            results.append(r)\n",
    "    \n",
    "    return results "
   ]
  },
  {
   "cell_type": "code",
   "execution_count": 8,
   "id": "d8ec3dec",
   "metadata": {
    "ExecuteTime": {
     "end_time": "2023-08-23T15:38:57.739632493Z",
     "start_time": "2023-08-23T15:38:57.728917821Z"
    }
   },
   "outputs": [],
   "source": [
    "def evaluate_acc(net, att_idx=0, oe=False):\n",
    "    _ = net.eval()\n",
    "    \n",
    "    if oe:\n",
    "        target_trans = lambda y: torch.tensor(1)\n",
    "    else:\n",
    "         target_trans = lambda y: y[att_idx]\n",
    "\n",
    "    trans = Compose([Resize(size=(32, 32), antialias=True), ToRGB(), ToTensor()])\n",
    "    data_in = GTSRB(root=root, train=False, transforms=trans, target_transform=target_trans)\n",
    "    loader = DataLoader(data_in, batch_size=1024, shuffle=False, worker_init_fn=seed_worker)\n",
    "            \n",
    "    correct = 0\n",
    "    total = 0\n",
    "\n",
    "    with torch.no_grad():\n",
    "        for inputs, labels in loader:\n",
    "            inputs, labels = inputs.to(device), labels.to(device)\n",
    "            outputs = net(inputs)\n",
    "            predicted = outputs.max(dim=1).indices\n",
    "            total += labels.size(0)\n",
    "            correct += (predicted == labels).sum().item()\n",
    "    \n",
    "    return correct / total  \n",
    "\n",
    "def evaluate_accs(label_net, shape_net, color_net, shield_net):\n",
    "    r = {}\n",
    "    names = (\"Label\", \"Color\", \"Shape\",)\n",
    "    \n",
    "    for n, net in enumerate((label_net, color_net, shape_net)): \n",
    "        acc = evaluate_acc(net, n)\n",
    "        r[names[n]] = acc\n",
    "    \n",
    "    acc = evaluate_acc(shield_net, oe=True)\n",
    "    r[\"Sign\"] = acc\n",
    "    \n",
    "    return [r] "
   ]
  },
  {
   "cell_type": "code",
   "execution_count": null,
   "id": "04ea9133",
   "metadata": {
    "is_executing": true,
    "ExecuteTime": {
     "start_time": "2023-08-23T15:38:57.728984882Z"
    }
   },
   "outputs": [
    {
     "data": {
      "text/plain": "  0%|          | 0/346 [00:00<?, ?it/s]",
      "application/vnd.jupyter.widget-view+json": {
       "version_major": 2,
       "version_minor": 0,
       "model_id": "4e6cb71729d64fb89eb47a23edbd81dc"
      }
     },
     "metadata": {},
     "output_type": "display_data"
    },
    {
     "name": "stdout",
     "output_type": "stream",
     "text": [
      "Accuracy of the sign network on the test images: 99.98%\n"
     ]
    },
    {
     "data": {
      "text/plain": "  0%|          | 0/1094 [00:00<?, ?it/s]",
      "application/vnd.jupyter.widget-view+json": {
       "version_major": 2,
       "version_minor": 0,
       "model_id": "6d033fd1db2f4529bd3d4c348a935be6"
      }
     },
     "metadata": {},
     "output_type": "display_data"
    },
    {
     "name": "stdout",
     "output_type": "stream",
     "text": [
      "Accuracy of the network on the test images: 99.94%\n"
     ]
    },
    {
     "data": {
      "text/plain": "  0%|          | 0/1094 [00:00<?, ?it/s]",
      "application/vnd.jupyter.widget-view+json": {
       "version_major": 2,
       "version_minor": 0,
       "model_id": "4c319689eec942f1aa99572793240430"
      }
     },
     "metadata": {},
     "output_type": "display_data"
    },
    {
     "name": "stdout",
     "output_type": "stream",
     "text": [
      "Accuracy of the network on the test images: 99.98%\n"
     ]
    },
    {
     "data": {
      "text/plain": "  0%|          | 0/1094 [00:00<?, ?it/s]",
      "application/vnd.jupyter.widget-view+json": {
       "version_major": 2,
       "version_minor": 0,
       "model_id": "d1c8c5ecda0743f3b3507503d8bf2dc2"
      }
     },
     "metadata": {},
     "output_type": "display_data"
    },
    {
     "name": "stdout",
     "output_type": "stream",
     "text": [
      "Accuracy of the network on the test images: 99.95%\n"
     ]
    },
    {
     "data": {
      "text/plain": "  0%|          | 0/1094 [00:00<?, ?it/s]",
      "application/vnd.jupyter.widget-view+json": {
       "version_major": 2,
       "version_minor": 0,
       "model_id": "2c83b236af0243a6a6163b45a56d49cc"
      }
     },
     "metadata": {},
     "output_type": "display_data"
    },
    {
     "name": "stdout",
     "output_type": "stream",
     "text": [
      "Accuracy of the network on the test images: 99.95%\n"
     ]
    },
    {
     "data": {
      "text/plain": "  0%|          | 0/1094 [00:00<?, ?it/s]",
      "application/vnd.jupyter.widget-view+json": {
       "version_major": 2,
       "version_minor": 0,
       "model_id": "518a03fb88684620a634afa1c51fc35c"
      }
     },
     "metadata": {},
     "output_type": "display_data"
    },
    {
     "name": "stdout",
     "output_type": "stream",
     "text": [
      "Accuracy of the network on the test images: 99.98%\n"
     ]
    },
    {
     "data": {
      "text/plain": "  0%|          | 0/1094 [00:00<?, ?it/s]",
      "application/vnd.jupyter.widget-view+json": {
       "version_major": 2,
       "version_minor": 0,
       "model_id": "0bd6b1b153c1409e9c6aeae710dccb77"
      }
     },
     "metadata": {},
     "output_type": "display_data"
    },
    {
     "name": "stdout",
     "output_type": "stream",
     "text": [
      "Accuracy of the network on the test images: 99.97%\n"
     ]
    },
    {
     "data": {
      "text/plain": "  0%|          | 0/1094 [00:00<?, ?it/s]",
      "application/vnd.jupyter.widget-view+json": {
       "version_major": 2,
       "version_minor": 0,
       "model_id": "38895b6b2ab54b5986744b94cd35f184"
      }
     },
     "metadata": {},
     "output_type": "display_data"
    },
    {
     "name": "stdout",
     "output_type": "stream",
     "text": [
      "Accuracy of the network on the test images: 99.98%\n"
     ]
    },
    {
     "data": {
      "text/plain": "  0%|          | 0/1094 [00:00<?, ?it/s]",
      "application/vnd.jupyter.widget-view+json": {
       "version_major": 2,
       "version_minor": 0,
       "model_id": "3cd8d6f40b0e484daab33eb812421428"
      }
     },
     "metadata": {},
     "output_type": "display_data"
    },
    {
     "name": "stdout",
     "output_type": "stream",
     "text": [
      "Accuracy of the network on the test images: 99.97%\n"
     ]
    },
    {
     "data": {
      "text/plain": "  0%|          | 0/1094 [00:00<?, ?it/s]",
      "application/vnd.jupyter.widget-view+json": {
       "version_major": 2,
       "version_minor": 0,
       "model_id": "c32464fc9d1641dda6fa52b6f9989cf0"
      }
     },
     "metadata": {},
     "output_type": "display_data"
    },
    {
     "name": "stdout",
     "output_type": "stream",
     "text": [
      "Accuracy of the network on the test images: 99.98%\n"
     ]
    },
    {
     "data": {
      "text/plain": "  0%|          | 0/1094 [00:00<?, ?it/s]",
      "application/vnd.jupyter.widget-view+json": {
       "version_major": 2,
       "version_minor": 0,
       "model_id": "60efa0c53104445d860974fbe785ccda"
      }
     },
     "metadata": {},
     "output_type": "display_data"
    },
    {
     "name": "stdout",
     "output_type": "stream",
     "text": [
      "Accuracy of the network on the test images: 99.96%\n"
     ]
    },
    {
     "data": {
      "text/plain": "  0%|          | 0/1094 [00:00<?, ?it/s]",
      "application/vnd.jupyter.widget-view+json": {
       "version_major": 2,
       "version_minor": 0,
       "model_id": "e03143c6c1984a7ebb27925e0cd8cbea"
      }
     },
     "metadata": {},
     "output_type": "display_data"
    },
    {
     "name": "stdout",
     "output_type": "stream",
     "text": [
      "Accuracy of the network on the test images: 99.98%\n"
     ]
    },
    {
     "data": {
      "text/plain": "  0%|          | 0/1094 [00:00<?, ?it/s]",
      "application/vnd.jupyter.widget-view+json": {
       "version_major": 2,
       "version_minor": 0,
       "model_id": "42d5d8a76d9a407c8e6e7a4739108b11"
      }
     },
     "metadata": {},
     "output_type": "display_data"
    },
    {
     "name": "stdout",
     "output_type": "stream",
     "text": [
      "Accuracy of the network on the test images: 99.95%\n"
     ]
    },
    {
     "data": {
      "text/plain": "  0%|          | 0/1094 [00:00<?, ?it/s]",
      "application/vnd.jupyter.widget-view+json": {
       "version_major": 2,
       "version_minor": 0,
       "model_id": "466396feada64972924cd2bc8e5df2ee"
      }
     },
     "metadata": {},
     "output_type": "display_data"
    },
    {
     "name": "stdout",
     "output_type": "stream",
     "text": [
      "Accuracy of the network on the test images: 99.95%\n"
     ]
    },
    {
     "data": {
      "text/plain": "  0%|          | 0/1094 [00:00<?, ?it/s]",
      "application/vnd.jupyter.widget-view+json": {
       "version_major": 2,
       "version_minor": 0,
       "model_id": "565a1cc5612f4bb1a501172ee2403fa9"
      }
     },
     "metadata": {},
     "output_type": "display_data"
    },
    {
     "name": "stdout",
     "output_type": "stream",
     "text": [
      "Accuracy of the network on the test images: 99.94%\n"
     ]
    },
    {
     "data": {
      "text/plain": "  0%|          | 0/1094 [00:00<?, ?it/s]",
      "application/vnd.jupyter.widget-view+json": {
       "version_major": 2,
       "version_minor": 0,
       "model_id": "a546711249074e818f4f4115134d07ff"
      }
     },
     "metadata": {},
     "output_type": "display_data"
    },
    {
     "name": "stdout",
     "output_type": "stream",
     "text": [
      "Accuracy of the network on the test images: 99.94%\n"
     ]
    },
    {
     "data": {
      "text/plain": "  0%|          | 0/1094 [00:00<?, ?it/s]",
      "application/vnd.jupyter.widget-view+json": {
       "version_major": 2,
       "version_minor": 0,
       "model_id": "0a33257094144f798cb90dcb1e009281"
      }
     },
     "metadata": {},
     "output_type": "display_data"
    },
    {
     "name": "stdout",
     "output_type": "stream",
     "text": [
      "Accuracy of the network on the test images: 99.95%\n"
     ]
    },
    {
     "data": {
      "text/plain": "  0%|          | 0/1094 [00:00<?, ?it/s]",
      "application/vnd.jupyter.widget-view+json": {
       "version_major": 2,
       "version_minor": 0,
       "model_id": "cd8c5e282c924ca5b2e2678348e7c94c"
      }
     },
     "metadata": {},
     "output_type": "display_data"
    },
    {
     "name": "stdout",
     "output_type": "stream",
     "text": [
      "Accuracy of the network on the test images: 99.91%\n"
     ]
    },
    {
     "data": {
      "text/plain": "  0%|          | 0/1094 [00:00<?, ?it/s]",
      "application/vnd.jupyter.widget-view+json": {
       "version_major": 2,
       "version_minor": 0,
       "model_id": "233de779728c407491f752ae9a14b4d5"
      }
     },
     "metadata": {},
     "output_type": "display_data"
    },
    {
     "name": "stdout",
     "output_type": "stream",
     "text": [
      "Accuracy of the network on the test images: 99.94%\n"
     ]
    },
    {
     "data": {
      "text/plain": "  0%|          | 0/1094 [00:00<?, ?it/s]",
      "application/vnd.jupyter.widget-view+json": {
       "version_major": 2,
       "version_minor": 0,
       "model_id": "6ad0184fbf5545d591bd9d13deaf6dd9"
      }
     },
     "metadata": {},
     "output_type": "display_data"
    },
    {
     "name": "stdout",
     "output_type": "stream",
     "text": [
      "Accuracy of the network on the test images: 99.97%\n"
     ]
    },
    {
     "data": {
      "text/plain": "  0%|          | 0/1094 [00:00<?, ?it/s]",
      "application/vnd.jupyter.widget-view+json": {
       "version_major": 2,
       "version_minor": 0,
       "model_id": "63a54fe9bbba48c1a7cb7672e33ef01a"
      }
     },
     "metadata": {},
     "output_type": "display_data"
    },
    {
     "name": "stdout",
     "output_type": "stream",
     "text": [
      "Accuracy of the network on the test images: 99.94%\n"
     ]
    },
    {
     "data": {
      "text/plain": "  0%|          | 0/1094 [00:00<?, ?it/s]",
      "application/vnd.jupyter.widget-view+json": {
       "version_major": 2,
       "version_minor": 0,
       "model_id": "4a3a0bd3139b46fdadf25348c443a1fd"
      }
     },
     "metadata": {},
     "output_type": "display_data"
    },
    {
     "name": "stdout",
     "output_type": "stream",
     "text": [
      "Accuracy of the network on the test images: 99.85%\n"
     ]
    },
    {
     "data": {
      "text/plain": "  0%|          | 0/1094 [00:00<?, ?it/s]",
      "application/vnd.jupyter.widget-view+json": {
       "version_major": 2,
       "version_minor": 0,
       "model_id": "a04e5bdf4c17439f8c96880020a0443f"
      }
     },
     "metadata": {},
     "output_type": "display_data"
    },
    {
     "name": "stdout",
     "output_type": "stream",
     "text": [
      "Accuracy of the network on the test images: 99.90%\n"
     ]
    },
    {
     "data": {
      "text/plain": "  0%|          | 0/1094 [00:00<?, ?it/s]",
      "application/vnd.jupyter.widget-view+json": {
       "version_major": 2,
       "version_minor": 0,
       "model_id": "73606c7bf6d3473f8f4eb7f20dfc1cc5"
      }
     },
     "metadata": {},
     "output_type": "display_data"
    },
    {
     "name": "stdout",
     "output_type": "stream",
     "text": [
      "Accuracy of the network on the test images: 99.92%\n"
     ]
    },
    {
     "data": {
      "text/plain": "  0%|          | 0/1094 [00:00<?, ?it/s]",
      "application/vnd.jupyter.widget-view+json": {
       "version_major": 2,
       "version_minor": 0,
       "model_id": "e01ce9993f414f9ab094ef18aa349171"
      }
     },
     "metadata": {},
     "output_type": "display_data"
    },
    {
     "name": "stdout",
     "output_type": "stream",
     "text": [
      "Accuracy of the network on the test images: 99.93%\n"
     ]
    },
    {
     "data": {
      "text/plain": "  0%|          | 0/1094 [00:00<?, ?it/s]",
      "application/vnd.jupyter.widget-view+json": {
       "version_major": 2,
       "version_minor": 0,
       "model_id": "19acd81c4518435cb7430257c9b31682"
      }
     },
     "metadata": {},
     "output_type": "display_data"
    },
    {
     "name": "stdout",
     "output_type": "stream",
     "text": [
      "Accuracy of the network on the test images: 99.94%\n"
     ]
    },
    {
     "data": {
      "text/plain": "  0%|          | 0/1094 [00:00<?, ?it/s]",
      "application/vnd.jupyter.widget-view+json": {
       "version_major": 2,
       "version_minor": 0,
       "model_id": "d95c852b44ab478390a2a9a5a29089d4"
      }
     },
     "metadata": {},
     "output_type": "display_data"
    },
    {
     "name": "stdout",
     "output_type": "stream",
     "text": [
      "Accuracy of the network on the test images: 99.96%\n"
     ]
    },
    {
     "data": {
      "text/plain": "  0%|          | 0/1094 [00:00<?, ?it/s]",
      "application/vnd.jupyter.widget-view+json": {
       "version_major": 2,
       "version_minor": 0,
       "model_id": "db7ee9fa0de844e8b230c7b51c0a2c7f"
      }
     },
     "metadata": {},
     "output_type": "display_data"
    },
    {
     "name": "stdout",
     "output_type": "stream",
     "text": [
      "Accuracy of the network on the test images: 99.94%\n"
     ]
    },
    {
     "data": {
      "text/plain": "  0%|          | 0/1094 [00:00<?, ?it/s]",
      "application/vnd.jupyter.widget-view+json": {
       "version_major": 2,
       "version_minor": 0,
       "model_id": "20f7157929074a0b8393b2f2bde2c410"
      }
     },
     "metadata": {},
     "output_type": "display_data"
    },
    {
     "name": "stdout",
     "output_type": "stream",
     "text": [
      "Accuracy of the network on the test images: 99.95%\n"
     ]
    },
    {
     "data": {
      "text/plain": "  0%|          | 0/1094 [00:00<?, ?it/s]",
      "application/vnd.jupyter.widget-view+json": {
       "version_major": 2,
       "version_minor": 0,
       "model_id": "c6e2bb7c35e84e1c96a0a87218d9281f"
      }
     },
     "metadata": {},
     "output_type": "display_data"
    },
    {
     "name": "stdout",
     "output_type": "stream",
     "text": [
      "Accuracy of the network on the test images: 99.98%\n"
     ]
    },
    {
     "data": {
      "text/plain": "  0%|          | 0/1094 [00:00<?, ?it/s]",
      "application/vnd.jupyter.widget-view+json": {
       "version_major": 2,
       "version_minor": 0,
       "model_id": "5e7663e57c6d4cb496ee8e5a0268142b"
      }
     },
     "metadata": {},
     "output_type": "display_data"
    },
    {
     "name": "stdout",
     "output_type": "stream",
     "text": [
      "Accuracy of the network on the test images: 99.98%\n"
     ]
    },
    {
     "data": {
      "text/plain": "  0%|          | 0/1094 [00:00<?, ?it/s]",
      "application/vnd.jupyter.widget-view+json": {
       "version_major": 2,
       "version_minor": 0,
       "model_id": "a926837405c440d693f9cb3e70d5759e"
      }
     },
     "metadata": {},
     "output_type": "display_data"
    },
    {
     "name": "stdout",
     "output_type": "stream",
     "text": [
      "Accuracy of the network on the test images: 99.98%\n"
     ]
    },
    {
     "data": {
      "text/plain": "  0%|          | 0/1094 [00:00<?, ?it/s]",
      "application/vnd.jupyter.widget-view+json": {
       "version_major": 2,
       "version_minor": 0,
       "model_id": "dc1819c108c84e889ea3f72ee8887a62"
      }
     },
     "metadata": {},
     "output_type": "display_data"
    },
    {
     "name": "stdout",
     "output_type": "stream",
     "text": [
      "Accuracy of the network on the test images: 99.98%\n"
     ]
    },
    {
     "data": {
      "text/plain": "  0%|          | 0/1094 [00:00<?, ?it/s]",
      "application/vnd.jupyter.widget-view+json": {
       "version_major": 2,
       "version_minor": 0,
       "model_id": "44bdea45e15e42e0a8cc0dd85a1a6e86"
      }
     },
     "metadata": {},
     "output_type": "display_data"
    },
    {
     "name": "stdout",
     "output_type": "stream",
     "text": [
      "Accuracy of the network on the test images: 99.94%\n"
     ]
    },
    {
     "data": {
      "text/plain": "  0%|          | 0/1094 [00:00<?, ?it/s]",
      "application/vnd.jupyter.widget-view+json": {
       "version_major": 2,
       "version_minor": 0,
       "model_id": "927ea8cc41f54813b4a20844e9938be8"
      }
     },
     "metadata": {},
     "output_type": "display_data"
    },
    {
     "name": "stdout",
     "output_type": "stream",
     "text": [
      "Accuracy of the network on the test images: 99.98%\n"
     ]
    },
    {
     "data": {
      "text/plain": "  0%|          | 0/1094 [00:00<?, ?it/s]",
      "application/vnd.jupyter.widget-view+json": {
       "version_major": 2,
       "version_minor": 0,
       "model_id": "da47ea823fc94ee28bfd15dcc37ebdcc"
      }
     },
     "metadata": {},
     "output_type": "display_data"
    },
    {
     "name": "stdout",
     "output_type": "stream",
     "text": [
      "Accuracy of the network on the test images: 99.98%\n"
     ]
    },
    {
     "data": {
      "text/plain": "  0%|          | 0/1094 [00:00<?, ?it/s]",
      "application/vnd.jupyter.widget-view+json": {
       "version_major": 2,
       "version_minor": 0,
       "model_id": "f28cccc32d594850b98bd37dbc00f87b"
      }
     },
     "metadata": {},
     "output_type": "display_data"
    },
    {
     "name": "stdout",
     "output_type": "stream",
     "text": [
      "Accuracy of the network on the test images: 99.99%\n"
     ]
    },
    {
     "data": {
      "text/plain": "  0%|          | 0/1094 [00:00<?, ?it/s]",
      "application/vnd.jupyter.widget-view+json": {
       "version_major": 2,
       "version_minor": 0,
       "model_id": "6ac61d1de64f45d89179cb9f32dbbf6a"
      }
     },
     "metadata": {},
     "output_type": "display_data"
    },
    {
     "name": "stdout",
     "output_type": "stream",
     "text": [
      "Accuracy of the network on the test images: 99.99%\n"
     ]
    },
    {
     "data": {
      "text/plain": "  0%|          | 0/1094 [00:00<?, ?it/s]",
      "application/vnd.jupyter.widget-view+json": {
       "version_major": 2,
       "version_minor": 0,
       "model_id": "6487252b451747918b322b8514f71fa9"
      }
     },
     "metadata": {},
     "output_type": "display_data"
    },
    {
     "name": "stdout",
     "output_type": "stream",
     "text": [
      "Accuracy of the network on the test images: 99.99%\n"
     ]
    },
    {
     "data": {
      "text/plain": "  0%|          | 0/1094 [00:00<?, ?it/s]",
      "application/vnd.jupyter.widget-view+json": {
       "version_major": 2,
       "version_minor": 0,
       "model_id": "40f2db6a90464e79968bf793bb95344a"
      }
     },
     "metadata": {},
     "output_type": "display_data"
    },
    {
     "name": "stdout",
     "output_type": "stream",
     "text": [
      "Accuracy of the network on the test images: 99.98%\n"
     ]
    },
    {
     "data": {
      "text/plain": "  0%|          | 0/1094 [00:00<?, ?it/s]",
      "application/vnd.jupyter.widget-view+json": {
       "version_major": 2,
       "version_minor": 0,
       "model_id": "563dcbc0951a4465a6a7c76972c856af"
      }
     },
     "metadata": {},
     "output_type": "display_data"
    },
    {
     "name": "stdout",
     "output_type": "stream",
     "text": [
      "Accuracy of the network on the test images: 99.98%\n"
     ]
    },
    {
     "data": {
      "text/plain": "  0%|          | 0/1094 [00:00<?, ?it/s]",
      "application/vnd.jupyter.widget-view+json": {
       "version_major": 2,
       "version_minor": 0,
       "model_id": "e43f4051b0484687a26ade209d539e1d"
      }
     },
     "metadata": {},
     "output_type": "display_data"
    },
    {
     "name": "stdout",
     "output_type": "stream",
     "text": [
      "Accuracy of the network on the test images: 96.82%\n"
     ]
    },
    {
     "data": {
      "text/plain": "  0%|          | 0/1094 [00:00<?, ?it/s]",
      "application/vnd.jupyter.widget-view+json": {
       "version_major": 2,
       "version_minor": 0,
       "model_id": "d07d21283e294bd8adac4d01698e59b2"
      }
     },
     "metadata": {},
     "output_type": "display_data"
    },
    {
     "name": "stdout",
     "output_type": "stream",
     "text": [
      "Accuracy of the network on the test images: 98.38%\n"
     ]
    },
    {
     "data": {
      "text/plain": "  0%|          | 0/1094 [00:00<?, ?it/s]",
      "application/vnd.jupyter.widget-view+json": {
       "version_major": 2,
       "version_minor": 0,
       "model_id": "27b24fee13bb4d33b226b0631f50346f"
      }
     },
     "metadata": {},
     "output_type": "display_data"
    },
    {
     "name": "stdout",
     "output_type": "stream",
     "text": [
      "Accuracy of the network on the test images: 98.56%\n"
     ]
    },
    {
     "data": {
      "text/plain": "  0%|          | 0/1094 [00:00<?, ?it/s]",
      "application/vnd.jupyter.widget-view+json": {
       "version_major": 2,
       "version_minor": 0,
       "model_id": "e7e4bd8992794367a5d570ad987f34cc"
      }
     },
     "metadata": {},
     "output_type": "display_data"
    },
    {
     "name": "stdout",
     "output_type": "stream",
     "text": [
      "Accuracy of the network on the test images: 98.41%\n"
     ]
    },
    {
     "data": {
      "text/plain": "  0%|          | 0/1094 [00:00<?, ?it/s]",
      "application/vnd.jupyter.widget-view+json": {
       "version_major": 2,
       "version_minor": 0,
       "model_id": "7cf21ffba6de4bee80904a3a24bf237f"
      }
     },
     "metadata": {},
     "output_type": "display_data"
    },
    {
     "name": "stdout",
     "output_type": "stream",
     "text": [
      "Accuracy of the network on the test images: 98.55%\n"
     ]
    },
    {
     "data": {
      "text/plain": "  0%|          | 0/1094 [00:00<?, ?it/s]",
      "application/vnd.jupyter.widget-view+json": {
       "version_major": 2,
       "version_minor": 0,
       "model_id": "0ae4f8517d2e4f8b80d02b1f667de7c6"
      }
     },
     "metadata": {},
     "output_type": "display_data"
    },
    {
     "name": "stdout",
     "output_type": "stream",
     "text": [
      "Accuracy of the network on the test images: 98.95%\n"
     ]
    },
    {
     "data": {
      "text/plain": "  0%|          | 0/1094 [00:00<?, ?it/s]",
      "application/vnd.jupyter.widget-view+json": {
       "version_major": 2,
       "version_minor": 0,
       "model_id": "946554bb9f514232b6d5709d2fde8246"
      }
     },
     "metadata": {},
     "output_type": "display_data"
    },
    {
     "name": "stdout",
     "output_type": "stream",
     "text": [
      "Accuracy of the network on the test images: 99.03%\n"
     ]
    },
    {
     "data": {
      "text/plain": "  0%|          | 0/1094 [00:00<?, ?it/s]",
      "application/vnd.jupyter.widget-view+json": {
       "version_major": 2,
       "version_minor": 0,
       "model_id": "3fc67c852fc14299bdbad4b0c601cb55"
      }
     },
     "metadata": {},
     "output_type": "display_data"
    },
    {
     "name": "stdout",
     "output_type": "stream",
     "text": [
      "Accuracy of the network on the test images: 98.88%\n"
     ]
    },
    {
     "data": {
      "text/plain": "  0%|          | 0/1094 [00:00<?, ?it/s]",
      "application/vnd.jupyter.widget-view+json": {
       "version_major": 2,
       "version_minor": 0,
       "model_id": "cfafff08c66d4cc98cb90bd5b70bd936"
      }
     },
     "metadata": {},
     "output_type": "display_data"
    },
    {
     "name": "stdout",
     "output_type": "stream",
     "text": [
      "Accuracy of the network on the test images: 98.80%\n"
     ]
    },
    {
     "data": {
      "text/plain": "  0%|          | 0/1094 [00:00<?, ?it/s]",
      "application/vnd.jupyter.widget-view+json": {
       "version_major": 2,
       "version_minor": 0,
       "model_id": "b646b928f35f4b38a16cbbcf45aa5ce7"
      }
     },
     "metadata": {},
     "output_type": "display_data"
    },
    {
     "name": "stdout",
     "output_type": "stream",
     "text": [
      "Accuracy of the network on the test images: 98.73%\n"
     ]
    },
    {
     "data": {
      "text/plain": "  0%|          | 0/1094 [00:00<?, ?it/s]",
      "application/vnd.jupyter.widget-view+json": {
       "version_major": 2,
       "version_minor": 0,
       "model_id": "90f1df7d09ec42f99baa2ab6298f9bd4"
      }
     },
     "metadata": {},
     "output_type": "display_data"
    },
    {
     "name": "stdout",
     "output_type": "stream",
     "text": [
      "Accuracy of the network on the test images: 98.83%\n"
     ]
    },
    {
     "data": {
      "text/plain": "  0%|          | 0/1094 [00:00<?, ?it/s]",
      "application/vnd.jupyter.widget-view+json": {
       "version_major": 2,
       "version_minor": 0,
       "model_id": "eb15a79f45d74459882c6b2e58b1b765"
      }
     },
     "metadata": {},
     "output_type": "display_data"
    },
    {
     "name": "stdout",
     "output_type": "stream",
     "text": [
      "Accuracy of the network on the test images: 99.07%\n"
     ]
    },
    {
     "data": {
      "text/plain": "  0%|          | 0/1094 [00:00<?, ?it/s]",
      "application/vnd.jupyter.widget-view+json": {
       "version_major": 2,
       "version_minor": 0,
       "model_id": "1bc1f011bc4e435d9133ad6472dbc7c9"
      }
     },
     "metadata": {},
     "output_type": "display_data"
    },
    {
     "name": "stdout",
     "output_type": "stream",
     "text": [
      "Accuracy of the network on the test images: 99.10%\n"
     ]
    },
    {
     "data": {
      "text/plain": "  0%|          | 0/1094 [00:00<?, ?it/s]",
      "application/vnd.jupyter.widget-view+json": {
       "version_major": 2,
       "version_minor": 0,
       "model_id": "69ae011bd2e741d198dcbc0d201a65dd"
      }
     },
     "metadata": {},
     "output_type": "display_data"
    },
    {
     "name": "stdout",
     "output_type": "stream",
     "text": [
      "Accuracy of the network on the test images: 99.18%\n"
     ]
    },
    {
     "data": {
      "text/plain": "  0%|          | 0/1094 [00:00<?, ?it/s]",
      "application/vnd.jupyter.widget-view+json": {
       "version_major": 2,
       "version_minor": 0,
       "model_id": "156624c24f324c79b71bad4eb6aa1f28"
      }
     },
     "metadata": {},
     "output_type": "display_data"
    },
    {
     "name": "stdout",
     "output_type": "stream",
     "text": [
      "Accuracy of the network on the test images: 99.18%\n"
     ]
    },
    {
     "data": {
      "text/plain": "  0%|          | 0/1094 [00:00<?, ?it/s]",
      "application/vnd.jupyter.widget-view+json": {
       "version_major": 2,
       "version_minor": 0,
       "model_id": "486ba4c32f35493a924583a743db8412"
      }
     },
     "metadata": {},
     "output_type": "display_data"
    },
    {
     "name": "stdout",
     "output_type": "stream",
     "text": [
      "Accuracy of the network on the test images: 99.16%\n"
     ]
    },
    {
     "data": {
      "text/plain": "  0%|          | 0/1094 [00:00<?, ?it/s]",
      "application/vnd.jupyter.widget-view+json": {
       "version_major": 2,
       "version_minor": 0,
       "model_id": "f7c21ad7a59546a08dcbd4709bae88be"
      }
     },
     "metadata": {},
     "output_type": "display_data"
    },
    {
     "name": "stdout",
     "output_type": "stream",
     "text": [
      "Accuracy of the network on the test images: 99.18%\n"
     ]
    },
    {
     "data": {
      "text/plain": "  0%|          | 0/1094 [00:00<?, ?it/s]",
      "application/vnd.jupyter.widget-view+json": {
       "version_major": 2,
       "version_minor": 0,
       "model_id": "cc8d2b75b7a54bbabc988ec9890a1ee2"
      }
     },
     "metadata": {},
     "output_type": "display_data"
    },
    {
     "name": "stdout",
     "output_type": "stream",
     "text": [
      "Accuracy of the network on the test images: 98.88%\n"
     ]
    },
    {
     "data": {
      "text/plain": "  0%|          | 0/1094 [00:00<?, ?it/s]",
      "application/vnd.jupyter.widget-view+json": {
       "version_major": 2,
       "version_minor": 0,
       "model_id": "b962cbbd7e9e4079b489544ae7c8f042"
      }
     },
     "metadata": {},
     "output_type": "display_data"
    },
    {
     "name": "stdout",
     "output_type": "stream",
     "text": [
      "Accuracy of the network on the test images: 98.90%\n"
     ]
    },
    {
     "data": {
      "text/plain": "  0%|          | 0/1094 [00:00<?, ?it/s]",
      "application/vnd.jupyter.widget-view+json": {
       "version_major": 2,
       "version_minor": 0,
       "model_id": "bb56549a737d4945bb377abdaa7718f3"
      }
     },
     "metadata": {},
     "output_type": "display_data"
    },
    {
     "name": "stdout",
     "output_type": "stream",
     "text": [
      "Accuracy of the network on the test images: 98.94%\n",
      "Computing principal space ...\n",
      "Computing alpha ...\n",
      "self.alpha=8.8574\n",
      "Fitting with temperature scaling\n",
      "label: y1.unique()=tensor([ 0,  1,  2,  3,  4,  5,  6,  7,  8,  9, 10, 11, 12, 13, 14, 15, 16, 17,\n",
      "        18, 19, 20, 21, 22, 23, 24, 25, 26, 27, 28, 29, 30, 31, 32, 33, 34, 35,\n",
      "        36, 37, 38, 39, 40, 41, 42]) logits_label.shape=torch.Size([4209, 43])\n",
      "Initial T/NLL: 1.000/0.002\n",
      "Optimal temperature: 0.999998152256012\n",
      "NLL after scaling: 0.00'\n",
      "color: y2.unique()=tensor([0, 1, 2, 3]) logits_color.shape=torch.Size([4209, 4])\n",
      "Initial T/NLL: 1.000/0.000\n",
      "Optimal temperature: 0.9999988079071045\n",
      "NLL after scaling: 0.00'\n",
      "shape: y3.unique()=tensor([0, 1, 2, 3, 4]) logits_shape.shape=torch.Size([4209, 5])\n",
      "Initial T/NLL: 1.000/0.000\n",
      "Optimal temperature: 0.9999987483024597\n",
      "NLL after scaling: 0.00'\n",
      "self.scorer_label.t=Parameter containing:\n",
      "tensor(1.0000, requires_grad=True)\n",
      "self.scorer_color.t=Parameter containing:\n",
      "tensor(1.0000, requires_grad=True)\n",
      "self.scorer_shape.t=Parameter containing:\n",
      "tensor(1.0000, requires_grad=True)\n",
      "Fitting with temperature scaling\n"
     ]
    },
    {
     "name": "stderr",
     "output_type": "stream",
     "text": [
      "/home/ki/projects/pytorch-ood/src/pytorch_ood/detector/tscaling.py:84: UserWarning: Implicit dimension choice for log_softmax has been deprecated. Change the call to include dim=X as an argument.\n",
      "  loss = nll_loss(log_softmax(logits / self.t), labels).item()\n",
      "/home/ki/projects/pytorch-ood/src/pytorch_ood/detector/tscaling.py:90: UserWarning: Implicit dimension choice for log_softmax has been deprecated. Change the call to include dim=X as an argument.\n",
      "  loss = nll_loss(log_softmax(logits / self.t), labels)\n",
      "/home/ki/projects/pytorch-ood/src/pytorch_ood/detector/tscaling.py:97: UserWarning: Implicit dimension choice for log_softmax has been deprecated. Change the call to include dim=X as an argument.\n",
      "  loss = nll_loss(log_softmax(logits / self.t), labels).item()\n"
     ]
    },
    {
     "name": "stdout",
     "output_type": "stream",
     "text": [
      "label: y1.unique()=tensor([ 0,  1,  2,  3,  4,  5,  6,  7,  8,  9, 10, 11, 12, 13, 14, 15, 16, 17,\n",
      "        18, 19, 20, 21, 22, 23, 24, 25, 26, 27, 28, 29, 30, 31, 32, 33, 34, 35,\n",
      "        36, 37, 38, 39, 40, 41, 42]) logits_label.shape=torch.Size([4209, 43])\n",
      "Initial T/NLL: 1.000/0.002\n",
      "Optimal temperature: 0.999998152256012\n",
      "NLL after scaling: 0.00'\n",
      "color: y2.unique()=tensor([0, 1, 2, 3]) logits_color.shape=torch.Size([4209, 4])\n",
      "Initial T/NLL: 1.000/0.000\n",
      "Optimal temperature: 0.9999988079071045\n",
      "NLL after scaling: 0.00'\n",
      "shape: y3.unique()=tensor([0, 1, 2, 3, 4]) logits_shape.shape=torch.Size([4209, 5])\n",
      "Initial T/NLL: 1.000/0.000\n",
      "Optimal temperature: 0.9999987483024597\n",
      "NLL after scaling: 0.00'\n",
      "self.scorer_label.t=Parameter containing:\n",
      "tensor(1.0000, requires_grad=True)\n",
      "self.scorer_color.t=Parameter containing:\n",
      "tensor(1.0000, requires_grad=True)\n",
      "self.scorer_shape.t=Parameter containing:\n",
      "tensor(1.0000, requires_grad=True)\n",
      "{'AUROC': 0.9987390041351318, 'AUPR-IN': 0.9982517957687378, 'AUPR-OUT': 0.9992097020149231, 'FPR95TPR': 0.006413301452994347, 'Method': 'PrologOOD', 'Dataset': 'LSUNCrop'}\n",
      "{'AUROC': 0.9986448884010315, 'AUPR-IN': 0.9980948567390442, 'AUPR-OUT': 0.9991485476493835, 'FPR95TPR': 0.007284244056791067, 'Method': 'PrologOOD', 'Dataset': 'LSUNResize'}\n",
      "Found 5640 texture files.\n"
     ]
    }
   ],
   "source": [
    "results = []\n",
    "results_acc = []\n",
    "\n",
    "for trial in range(10):\n",
    "    shield_net = train_sign_model()\n",
    "    shape_net = train_model(att_index=2, num_classes=5)\n",
    "    color_net = train_model(att_index=1, num_classes=4)\n",
    "    label_net = train_model(att_index=0, num_classes=43)\n",
    "    \n",
    "    res = evaluate(label_net, shape_net, color_net, shield_net)\n",
    "    res_acc = evaluate_accs(label_net, shape_net, color_net, shield_net)\n",
    "    \n",
    "    for r in res:\n",
    "        r.update({\"Seed\": trial})\n",
    "        \n",
    "    for r in res_acc:\n",
    "        r.update({\"Seed\": trial})\n",
    "    \n",
    "    results += res\n",
    "    results_acc += res_acc"
   ]
  },
  {
   "cell_type": "code",
   "execution_count": null,
   "id": "71390c67",
   "metadata": {
    "is_executing": true
   },
   "outputs": [],
   "source": [
    "import pandas as pd \n",
    "result_df = pd.DataFrame(results)\n",
    "print((result_df.groupby(by=\"Method\").agg([\"mean\", \"sem\"]) * 100)[[\"AUROC\", \"AUPR-IN\", \"AUPR-OUT\", \"FPR95TPR\"]].to_latex(float_format=\"%.2f\"))"
   ]
  },
  {
   "cell_type": "code",
   "execution_count": null,
   "id": "219460b0",
   "metadata": {
    "is_executing": true
   },
   "outputs": [],
   "source": [
    "from scipy.stats import ttest_ind\n",
    "\n",
    "sem_auroc = result_df[result_df[\"Method\"] == \"PrologOOD\"].groupby(by=[\"Method\", \"Seed\"]).mean()[\"AUROC\"]\n",
    "sem_ensemble =  result_df[result_df[\"Method\"] == \"Ensemble\"].groupby(by=[\"Method\", \"Seed\"]).mean()[\"AUROC\"]\n",
    "\n",
    "print(ttest_ind(sem_auroc, sem_ensemble, equal_var=False))"
   ]
  },
  {
   "cell_type": "code",
   "execution_count": null,
   "id": "b7b03a3e",
   "metadata": {
    "is_executing": true
   },
   "outputs": [],
   "source": [
    "print((pd.DataFrame(results_acc) * 100).agg([\"mean\", \"sem\"]).to_latex(float_format=\"%.2f\"))"
   ]
  },
  {
   "cell_type": "code",
   "execution_count": null,
   "outputs": [],
   "source": [],
   "metadata": {
    "collapsed": false,
    "is_executing": true
   }
  }
 ],
 "metadata": {
  "kernelspec": {
   "display_name": "myenv",
   "language": "python",
   "name": "myenv"
  },
  "language_info": {
   "codemirror_mode": {
    "name": "ipython",
    "version": 3
   },
   "file_extension": ".py",
   "mimetype": "text/x-python",
   "name": "python",
   "nbconvert_exporter": "python",
   "pygments_lexer": "ipython3",
   "version": "3.10.9"
  }
 },
 "nbformat": 4,
 "nbformat_minor": 5
}
