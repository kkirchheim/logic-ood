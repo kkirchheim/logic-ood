{
 "cells": [
  {
   "cell_type": "markdown",
   "id": "6515def1",
   "metadata": {},
   "source": [
    "# Street sign with Pre-Trained WideResNet\n",
    "\n",
    "With additional shield net "
   ]
  },
  {
   "cell_type": "code",
   "execution_count": 14,
   "id": "d06b287f",
   "metadata": {
    "ExecuteTime": {
     "end_time": "2023-08-29T10:29:37.925833538Z",
     "start_time": "2023-08-29T10:29:37.916155361Z"
    }
   },
   "outputs": [],
   "source": [
    "from torch.optim import SGD\n",
    "import seaborn as sb \n",
    "from gtsrb import GTSRB\n",
    "from detectors import EnsembleDetector, LogicOOD, PrologOOD\n",
    "import torch\n",
    "from pytorch_ood.utils import fix_random_seed\n",
    "\n",
    "import logging\n",
    "import sys\n",
    "logger = logging.getLogger()\n",
    "logger.addHandler(logging.StreamHandler(stream=sys.stdout))\n",
    "logger.setLevel(logging.INFO)\n",
    "\n",
    "\n",
    "fix_random_seed(123)\n",
    "\n",
    "def seed_worker(worker_id):\n",
    "    fix_random_seed(worker_id)\n",
    "\n",
    "g = torch.Generator()\n",
    "g.manual_seed(0)\n",
    "\n",
    "sb.set()\n",
    "\n",
    "device=\"cuda:0\"\n",
    "root = \"../data/\"\n",
    "\n",
    "\n"
   ]
  },
  {
   "cell_type": "code",
   "execution_count": 15,
   "id": "e2c5cb26",
   "metadata": {
    "ExecuteTime": {
     "end_time": "2023-08-29T10:29:38.026620392Z",
     "start_time": "2023-08-29T10:29:37.921082374Z"
    }
   },
   "outputs": [
    {
     "name": "stdout",
     "output_type": "stream",
     "text": [
      "39209\n"
     ]
    }
   ],
   "source": [
    "from pytorch_ood.utils import ToRGB\n",
    "from torchvision.transforms import ToTensor, Resize, Compose\n",
    "import torch \n",
    "from torch.utils.data import DataLoader, random_split\n",
    "import numpy as np\n",
    "\n",
    "\n",
    "trans = Compose([ToRGB(), ToTensor(), Resize((32, 32), antialias=True)])\n",
    "\n",
    "data = GTSRB(root=root, train=True, transforms=trans)\n",
    "print(len(data))\n",
    "train_data , val_data  = random_split(data, [35000, 4209], generator=torch.Generator().manual_seed(123))\n",
    "\n",
    "test_data = GTSRB(root=root, train=False, transforms=trans)"
   ]
  },
  {
   "cell_type": "code",
   "execution_count": 16,
   "id": "9eb2fb87",
   "metadata": {
    "ExecuteTime": {
     "end_time": "2023-08-29T10:29:38.027212606Z",
     "start_time": "2023-08-29T10:29:37.983246831Z"
    }
   },
   "outputs": [],
   "source": [
    "train_loader = DataLoader(train_data, batch_size=32, shuffle=True, num_workers=2, worker_init_fn=seed_worker)\n",
    "test_loader = DataLoader(test_data, batch_size=32, shuffle=False, num_workers=2, worker_init_fn=seed_worker)"
   ]
  },
  {
   "cell_type": "code",
   "execution_count": 17,
   "id": "a9a268a1",
   "metadata": {
    "ExecuteTime": {
     "end_time": "2023-08-29T10:29:38.027346218Z",
     "start_time": "2023-08-29T10:29:38.024412210Z"
    }
   },
   "outputs": [],
   "source": [
    "from torch import nn\n",
    "from torchvision.models.resnet import resnet18\n",
    "from pytorch_ood.model import WideResNet\n",
    "\n",
    "# def override \n",
    "def Model(num_classes=None, *args, **kwargs):\n",
    "    model = WideResNet(*args, num_classes=1000, **kwargs, pretrained=\"imagenet32\")\n",
    "    model.fc = nn.Linear(model.fc.in_features, num_classes)\n",
    "    return model\n"
   ]
  },
  {
   "cell_type": "code",
   "execution_count": 18,
   "id": "857cc076",
   "metadata": {
    "ExecuteTime": {
     "end_time": "2023-08-29T10:29:38.027467715Z",
     "start_time": "2023-08-29T10:29:38.024520292Z"
    }
   },
   "outputs": [],
   "source": [
    "def train_model(att_index, num_classes):\n",
    "    \"\"\"\n",
    "    train a model for the given attribute index \n",
    "    \"\"\"\n",
    "    data = GTSRB(root=root, train=True, transforms=trans)\n",
    "    train_data , val_data  = random_split(data, [35000, 4209], generator=torch.Generator().manual_seed(123))\n",
    "    test_data = GTSRB(root=root, train=False, transforms=trans)\n",
    "\n",
    "    train_loader = DataLoader(train_data, batch_size=32, shuffle=True, num_workers=2, worker_init_fn=seed_worker)\n",
    "    test_loader = DataLoader(test_data, batch_size=32, shuffle=False, num_workers=2, worker_init_fn=seed_worker)\n",
    "    \n",
    "    model = Model(num_classes=num_classes).to(device)\n",
    "\n",
    "    criterion = nn.CrossEntropyLoss()\n",
    "    optimizer = SGD(model.parameters(), lr=0.001, momentum=0.9, nesterov=True)\n",
    "\n",
    "    for epoch in range(20):\n",
    "        running_loss = 0.0\n",
    "        model.train()\n",
    "        bar = tqdm(train_loader)\n",
    "        for inputs, y in bar:\n",
    "            labels = y[:, att_index]\n",
    "            inputs, labels = inputs.to(device), labels.to(device)\n",
    "\n",
    "            optimizer.zero_grad()\n",
    "            outputs = model(inputs)\n",
    "            loss = criterion(outputs, labels)\n",
    "            loss.backward()\n",
    "            optimizer.step()\n",
    "\n",
    "            running_loss = 0.8 * running_loss + 0.2 * loss.item()\n",
    "            bar.set_postfix({\"loss\": running_loss})\n",
    "\n",
    "        correct = 0\n",
    "        total = 0\n",
    "\n",
    "        with torch.no_grad():\n",
    "            model.eval()\n",
    "\n",
    "            for inputs, y in test_loader:\n",
    "                labels = y[:, att_index]\n",
    "                inputs, labels = inputs.to(device), labels.to(device)\n",
    "\n",
    "                outputs = model(inputs)\n",
    "                _, predicted = torch.max(outputs.data, dim=1)\n",
    "                total += labels.size(0)\n",
    "                correct += (predicted == labels).sum().item()\n",
    "\n",
    "        print(f'Accuracy of the network on the test images: {correct / total:.2%}')\n",
    "\n",
    "    return model "
   ]
  },
  {
   "cell_type": "markdown",
   "id": "81e239ff",
   "metadata": {},
   "source": [
    "# Sign Network "
   ]
  },
  {
   "cell_type": "code",
   "execution_count": 19,
   "id": "6c87fc89",
   "metadata": {
    "ExecuteTime": {
     "end_time": "2023-08-29T10:29:38.027793865Z",
     "start_time": "2023-08-29T10:29:38.024593078Z"
    }
   },
   "outputs": [],
   "source": [
    "from torch.utils.data import DataLoader\n",
    "from pytorch_ood.utils import is_known\n",
    "from tqdm.notebook import tqdm \n",
    "from pytorch_ood.dataset.img import TinyImages300k\n",
    "from pytorch_ood.utils import ToUnknown\n",
    "from torch.utils.data import random_split\n",
    "from torch.utils.data import TensorDataset\n",
    "\n",
    "\n",
    "# class GANData:\n",
    "#     def __init__(self):\n",
    "#         self.data =  torch.tensor(np.load(\"../data/gtsrb-samples-z-var-100.npz\")[\"x\"], dtype=torch.float32)\n",
    "#         resize = Resize(size=(32, 32), antialias=True)\n",
    "#         self.data = torch.stack([resize(a) for a in self.data])\n",
    "#\n",
    "#     def __len__(self):\n",
    "#         return len(self.data)\n",
    "#\n",
    "#     def __getitem__(self, item):\n",
    "#         return self.data[item], torch.tensor(-1)\n",
    "\n",
    "\n",
    "# %%\n",
    "def train_sign_model():\n",
    "    # dataset = GANData()\n",
    "    # print(len(dataset))\n",
    "    dataset = TinyImages300k(root=root, download=True, transform=trans, target_transform=lambda x: torch.tensor(-1))\n",
    "    data_train_out , data_test_out, _  = random_split(dataset, [50000, 10000, 240000], generator=torch.Generator().manual_seed(123))\n",
    "\n",
    "    data = GTSRB(root=root, train=True, transforms=trans, target_transform=lambda y: torch.tensor(y[0]))\n",
    "    train_data_noatt , val_data_noatt  = random_split(data, [35000, 4209], generator=torch.Generator().manual_seed(123))\n",
    "\n",
    "    test_data_noatt = GTSRB(root=root, train=False, transforms=trans, target_transform=lambda y: torch.tensor(y[0]))\n",
    "\n",
    "    new_loader = DataLoader(train_data_noatt + data_train_out, batch_size=32, shuffle=True, num_workers=10, worker_init_fn=seed_worker)\n",
    "    new_test_loader = DataLoader(test_data_noatt + val_data_noatt, batch_size=32, num_workers=10, worker_init_fn=seed_worker)\n",
    "\n",
    "    model = Model(num_classes=2).to(device)\n",
    "\n",
    "    criterion = nn.CrossEntropyLoss()\n",
    "    optimizer = SGD(model.parameters(), lr=0.001, momentum=0.9, nesterov=True)\n",
    "\n",
    "    accs = []\n",
    "\n",
    "    for epoch in range(20):\n",
    "        running_loss = 0.0\n",
    "        model.train()\n",
    "        \n",
    "        bar = tqdm(new_loader)\n",
    "        for inputs, y in bar:\n",
    "            labels = is_known(y).long()\n",
    "            inputs, labels = inputs.to(device), labels.to(device)\n",
    "\n",
    "            optimizer.zero_grad()\n",
    "            outputs = model(inputs)\n",
    "            loss = criterion(outputs, labels)\n",
    "            loss.backward()\n",
    "            optimizer.step()\n",
    "\n",
    "            running_loss = 0.8 * running_loss + 0.2 * loss.item()\n",
    "            bar.set_postfix({\"loss\": running_loss})\n",
    "\n",
    "        correct = 0\n",
    "        total = 0\n",
    "\n",
    "        with torch.no_grad():\n",
    "            model.eval()\n",
    "\n",
    "            for inputs, y in new_test_loader:\n",
    "                labels = is_known(y).long()\n",
    "                inputs, labels = inputs.to(device), labels.to(device)\n",
    "\n",
    "                outputs = model(inputs)\n",
    "                _, predicted = torch.max(outputs.data, 1)\n",
    "                total += labels.size(0)\n",
    "                correct += (predicted == labels).sum().item()\n",
    "\n",
    "        print(f'Accuracy of the sign network on the test images: {correct / total:.2%}')\n",
    "        accs.append(correct / total)\n",
    "\n",
    "\n",
    "    return model\n",
    "\n",
    "\n",
    "# train_sign_model()\n"
   ]
  },
  {
   "cell_type": "markdown",
   "id": "a7089c25",
   "metadata": {
    "tags": []
   },
   "source": [
    "# OOD Evaluation "
   ]
  },
  {
   "cell_type": "code",
   "execution_count": 20,
   "id": "8d017e08",
   "metadata": {
    "ExecuteTime": {
     "end_time": "2023-08-29T10:29:38.148157365Z",
     "start_time": "2023-08-29T10:29:38.024663396Z"
    }
   },
   "outputs": [],
   "source": [
    "from importlib import reload\n",
    "\n",
    "from pytorch_ood.dataset.img import (LSUNCrop, LSUNResize, Textures, TinyImageNetCrop, TinyImageNetResize)\n",
    "from pytorch_ood.detector import EnergyBased, MaxSoftmax, ReAct, MaxLogit, Entropy, Mahalanobis, ViM\n",
    "from pytorch_ood.utils import ToRGB, OODMetrics\n",
    "\n",
    "from detectors import PrologOODT\n",
    "\n",
    "def evaluate(label_net, shape_net, color_net, shield_net):\n",
    "    _ = label_net.eval()\n",
    "    _ = shape_net.eval()\n",
    "    _ = color_net.eval()\n",
    "    _ = shield_net.eval()\n",
    "    \n",
    "    results = []\n",
    "\n",
    "    data_in = GTSRB(root=root, train=False, transforms=trans, target_transform=lambda y: y[0])\n",
    "    # dataset_out_test = Textures(root=root, transform=trans, target_transform=ToUnknown(), download=True)\n",
    "\n",
    "    detectors = {\n",
    "        \"PrologOOD\": PrologOOD(\n",
    "            \"kb.pl\",\n",
    "            label_net=label_net,\n",
    "            shape_net=shape_net,\n",
    "            color_net=color_net,\n",
    "            label_file=\"../data/GTSRB/labels.txt\",\n",
    "        ),\n",
    "        \"PrologOOD+\": PrologOOD(\n",
    "            \"kb.pl\",\n",
    "            label_net,\n",
    "            shape_net,\n",
    "            color_net,\n",
    "            sign_net=shield_net,\n",
    "            label_file=\"../data/GTSRB/labels.txt\",\n",
    "        ),\n",
    "        \"PrologOODT\": PrologOODT(\n",
    "            \"kb.pl\",\n",
    "            label_net=label_net,\n",
    "            shape_net=shape_net,\n",
    "            color_net=color_net,\n",
    "            label_file=\"../data/GTSRB/labels.txt\",\n",
    "        ),\n",
    "        \"PrologOODT+\": PrologOODT(\n",
    "            \"kb.pl\",\n",
    "            label_net,\n",
    "            shape_net,\n",
    "            color_net,\n",
    "            sign_net=shield_net,\n",
    "            label_file=\"../data/GTSRB/labels.txt\",\n",
    "        ),\n",
    "        \"Logic\": LogicOOD(\n",
    "            label_net,\n",
    "            shape_net,\n",
    "            color_net,\n",
    "            data_in.class_to_shape,\n",
    "            data_in.class_to_color,\n",
    "        ).consistent,\n",
    "        \"Logic+\": LogicOOD(\n",
    "            label_net,\n",
    "            shape_net,\n",
    "            color_net,\n",
    "            data_in.class_to_shape,\n",
    "            data_in.class_to_color,\n",
    "            sign_net=shield_net,\n",
    "        ).consistent,\n",
    "        \"Ensemble\": EnsembleDetector(label_net, shape_net, color_net),\n",
    "        \"MSP\": MaxSoftmax(label_net),\n",
    "        \"Energy\": EnergyBased(label_net),\n",
    "        \"ReAct\": ReAct(label_net.features, label_net.fc, threshold=10.0),\n",
    "        \"ViM\": ViM(label_net.features, w=label_net.fc.weight, b=label_net.fc.bias, d=64),\n",
    "        \"Mahalanobis\": Mahalanobis(label_net.features),\n",
    "        \"Entropy\": Entropy(label_net),\n",
    "        \"MaxLogit\": MaxLogit(label_net),\n",
    "    }\n",
    "    data = GTSRB(root=root, train=True, transforms=trans, target_transform=lambda y: torch.tensor(y[0]))\n",
    "    _ , val_data  = random_split(data, [35000, 4209], generator=torch.Generator().manual_seed(123))\n",
    "    label_loader = DataLoader(val_data, batch_size=128, shuffle=False, worker_init_fn=seed_worker, num_workers=10)\n",
    "\n",
    "    data = GTSRB(root=root, train=True, transforms=trans, target_transform=lambda y: torch.tensor(y[1]))\n",
    "    _ , val_data  = random_split(data, [35000, 4209], generator=torch.Generator().manual_seed(123))\n",
    "    color_loader = DataLoader(val_data, batch_size=128, shuffle=False, worker_init_fn=seed_worker, num_workers=10)\n",
    "\n",
    "    data = GTSRB(root=root, train=True, transforms=trans, target_transform=lambda y: torch.tensor(y[2]))\n",
    "    _ , val_data  = random_split(data, [35000, 4209], generator=torch.Generator().manual_seed(123))\n",
    "    shape_loader = DataLoader(val_data, batch_size=128, shuffle=False, worker_init_fn=seed_worker, num_workers=10)\n",
    "\n",
    "    detectors[\"ViM\"].fit(label_loader, device=device)\n",
    "    detectors[\"Mahalanobis\"].fit(label_loader, device=device)\n",
    "    detectors[\"PrologOODT\"].fit(label_loader, color_loader, shape_loader, device=device)\n",
    "    detectors[\"PrologOODT+\"].fit(label_loader, color_loader, shape_loader, device=device)\n",
    "\n",
    "    datasets = {d.__name__: d for d in (LSUNCrop, LSUNResize, Textures, TinyImageNetCrop, TinyImageNetResize)}\n",
    "    \n",
    "    for detector_name, detector in detectors.items():\n",
    "        for data_name, dataset_c in datasets.items():\n",
    "            data_out = dataset_c(root=root, transform=trans, target_transform=ToUnknown(), download=True)\n",
    "            loader = DataLoader(data_in+data_out, batch_size=128, shuffle=False, worker_init_fn=seed_worker, num_workers=10)\n",
    "            \n",
    "            scores = []\n",
    "            ys = []\n",
    "            \n",
    "            with torch.no_grad():\n",
    "                for x, y in loader:\n",
    "                    scores.append(detector(x.to(device)))\n",
    "                    ys.append(y.to(device))\n",
    "                    \n",
    "                scores = torch.cat(scores, dim=0).cpu()\n",
    "                ys = torch.cat(ys, dim=0).cpu()\n",
    "            \n",
    "            metrics = OODMetrics()\n",
    "            metrics.update(scores, ys)\n",
    "            r = metrics.compute()\n",
    "            r.update({\n",
    "                \"Method\": detector_name,\n",
    "                \"Dataset\": data_name\n",
    "            })\n",
    "            print(r)\n",
    "            results.append(r)\n",
    "    \n",
    "    return results "
   ]
  },
  {
   "cell_type": "code",
   "execution_count": 21,
   "id": "d8ec3dec",
   "metadata": {
    "ExecuteTime": {
     "end_time": "2023-08-29T10:29:38.185672444Z",
     "start_time": "2023-08-29T10:29:38.071115150Z"
    }
   },
   "outputs": [],
   "source": [
    "def evaluate_acc(net, att_idx=0, oe=False):\n",
    "    _ = net.eval()\n",
    "    \n",
    "    if oe:\n",
    "        target_trans = lambda y: torch.tensor(1)\n",
    "    else:\n",
    "         target_trans = lambda y: y[att_idx]\n",
    "\n",
    "    trans = Compose([Resize(size=(32, 32), antialias=True), ToRGB(), ToTensor()])\n",
    "    data_in = GTSRB(root=root, train=False, transforms=trans, target_transform=target_trans)\n",
    "    loader = DataLoader(data_in, batch_size=1024, shuffle=False, worker_init_fn=seed_worker)\n",
    "            \n",
    "    correct = 0\n",
    "    total = 0\n",
    "\n",
    "    with torch.no_grad():\n",
    "        for inputs, labels in loader:\n",
    "            inputs, labels = inputs.to(device), labels.to(device)\n",
    "            outputs = net(inputs)\n",
    "            predicted = outputs.max(dim=1).indices\n",
    "            total += labels.size(0)\n",
    "            correct += (predicted == labels).sum().item()\n",
    "    \n",
    "    return correct / total  \n",
    "\n",
    "def evaluate_accs(label_net, shape_net, color_net, shield_net):\n",
    "    r = {}\n",
    "    names = (\"Label\", \"Color\", \"Shape\",)\n",
    "    \n",
    "    for n, net in enumerate((label_net, color_net, shape_net)): \n",
    "        acc = evaluate_acc(net, n)\n",
    "        r[names[n]] = acc\n",
    "    \n",
    "    acc = evaluate_acc(shield_net, oe=True)\n",
    "    r[\"Sign\"] = acc\n",
    "    \n",
    "    return [r] "
   ]
  },
  {
   "cell_type": "code",
   "execution_count": 22,
   "id": "04ea9133",
   "metadata": {
    "ExecuteTime": {
     "end_time": "2023-08-29T22:33:00.687371636Z",
     "start_time": "2023-08-29T10:29:38.071244826Z"
    }
   },
   "outputs": [
    {
     "data": {
      "text/plain": "  0%|          | 0/2657 [00:00<?, ?it/s]",
      "application/vnd.jupyter.widget-view+json": {
       "version_major": 2,
       "version_minor": 0,
       "model_id": "18653f58e08549cfbb7ce9af362dd909"
      }
     },
     "metadata": {},
     "output_type": "display_data"
    },
    {
     "name": "stdout",
     "output_type": "stream",
     "text": [
      "Accuracy of the sign network on the test images: 99.98%\n"
     ]
    },
    {
     "data": {
      "text/plain": "  0%|          | 0/2657 [00:00<?, ?it/s]",
      "application/vnd.jupyter.widget-view+json": {
       "version_major": 2,
       "version_minor": 0,
       "model_id": "88c75abc919f478ba79c9ce56f4f0bc8"
      }
     },
     "metadata": {},
     "output_type": "display_data"
    },
    {
     "name": "stdout",
     "output_type": "stream",
     "text": [
      "Accuracy of the sign network on the test images: 99.99%\n"
     ]
    },
    {
     "data": {
      "text/plain": "  0%|          | 0/2657 [00:00<?, ?it/s]",
      "application/vnd.jupyter.widget-view+json": {
       "version_major": 2,
       "version_minor": 0,
       "model_id": "ea41036e7f0c4bf8884e78e5b181dac2"
      }
     },
     "metadata": {},
     "output_type": "display_data"
    },
    {
     "name": "stdout",
     "output_type": "stream",
     "text": [
      "Accuracy of the sign network on the test images: 100.00%\n"
     ]
    },
    {
     "data": {
      "text/plain": "  0%|          | 0/2657 [00:00<?, ?it/s]",
      "application/vnd.jupyter.widget-view+json": {
       "version_major": 2,
       "version_minor": 0,
       "model_id": "d7cf0d546f78495cada4560aacc90687"
      }
     },
     "metadata": {},
     "output_type": "display_data"
    },
    {
     "name": "stdout",
     "output_type": "stream",
     "text": [
      "Accuracy of the sign network on the test images: 100.00%\n"
     ]
    },
    {
     "data": {
      "text/plain": "  0%|          | 0/2657 [00:00<?, ?it/s]",
      "application/vnd.jupyter.widget-view+json": {
       "version_major": 2,
       "version_minor": 0,
       "model_id": "74c4f6836fc04679ae9cd920cbb89dd5"
      }
     },
     "metadata": {},
     "output_type": "display_data"
    },
    {
     "name": "stdout",
     "output_type": "stream",
     "text": [
      "Accuracy of the sign network on the test images: 100.00%\n"
     ]
    },
    {
     "data": {
      "text/plain": "  0%|          | 0/2657 [00:00<?, ?it/s]",
      "application/vnd.jupyter.widget-view+json": {
       "version_major": 2,
       "version_minor": 0,
       "model_id": "104e9e714985416e9a2ce8a6e9c95452"
      }
     },
     "metadata": {},
     "output_type": "display_data"
    },
    {
     "name": "stdout",
     "output_type": "stream",
     "text": [
      "Accuracy of the sign network on the test images: 100.00%\n"
     ]
    },
    {
     "data": {
      "text/plain": "  0%|          | 0/2657 [00:00<?, ?it/s]",
      "application/vnd.jupyter.widget-view+json": {
       "version_major": 2,
       "version_minor": 0,
       "model_id": "f54f948c5b3346a5bb24c4f82480f71d"
      }
     },
     "metadata": {},
     "output_type": "display_data"
    },
    {
     "name": "stdout",
     "output_type": "stream",
     "text": [
      "Accuracy of the sign network on the test images: 100.00%\n"
     ]
    },
    {
     "data": {
      "text/plain": "  0%|          | 0/2657 [00:00<?, ?it/s]",
      "application/vnd.jupyter.widget-view+json": {
       "version_major": 2,
       "version_minor": 0,
       "model_id": "4f92ae1147544310a3f4f93e1d264148"
      }
     },
     "metadata": {},
     "output_type": "display_data"
    },
    {
     "name": "stdout",
     "output_type": "stream",
     "text": [
      "Accuracy of the sign network on the test images: 100.00%\n"
     ]
    },
    {
     "data": {
      "text/plain": "  0%|          | 0/2657 [00:00<?, ?it/s]",
      "application/vnd.jupyter.widget-view+json": {
       "version_major": 2,
       "version_minor": 0,
       "model_id": "aba3d3b1974f40629433a9cc31ce7779"
      }
     },
     "metadata": {},
     "output_type": "display_data"
    },
    {
     "name": "stdout",
     "output_type": "stream",
     "text": [
      "Accuracy of the sign network on the test images: 100.00%\n"
     ]
    },
    {
     "data": {
      "text/plain": "  0%|          | 0/2657 [00:00<?, ?it/s]",
      "application/vnd.jupyter.widget-view+json": {
       "version_major": 2,
       "version_minor": 0,
       "model_id": "1550179fae394333b8670b43d1b2571e"
      }
     },
     "metadata": {},
     "output_type": "display_data"
    },
    {
     "name": "stdout",
     "output_type": "stream",
     "text": [
      "Accuracy of the sign network on the test images: 100.00%\n"
     ]
    },
    {
     "data": {
      "text/plain": "  0%|          | 0/2657 [00:00<?, ?it/s]",
      "application/vnd.jupyter.widget-view+json": {
       "version_major": 2,
       "version_minor": 0,
       "model_id": "e370a31d848d46e9b5340094fef14e7c"
      }
     },
     "metadata": {},
     "output_type": "display_data"
    },
    {
     "name": "stdout",
     "output_type": "stream",
     "text": [
      "Accuracy of the sign network on the test images: 99.99%\n"
     ]
    },
    {
     "data": {
      "text/plain": "  0%|          | 0/2657 [00:00<?, ?it/s]",
      "application/vnd.jupyter.widget-view+json": {
       "version_major": 2,
       "version_minor": 0,
       "model_id": "854a70443e9a4769b8cba84f4e53a0a0"
      }
     },
     "metadata": {},
     "output_type": "display_data"
    },
    {
     "name": "stdout",
     "output_type": "stream",
     "text": [
      "Accuracy of the sign network on the test images: 100.00%\n"
     ]
    },
    {
     "data": {
      "text/plain": "  0%|          | 0/2657 [00:00<?, ?it/s]",
      "application/vnd.jupyter.widget-view+json": {
       "version_major": 2,
       "version_minor": 0,
       "model_id": "e29e478fb3a046999458cb273ed8efb4"
      }
     },
     "metadata": {},
     "output_type": "display_data"
    },
    {
     "name": "stdout",
     "output_type": "stream",
     "text": [
      "Accuracy of the sign network on the test images: 100.00%\n"
     ]
    },
    {
     "data": {
      "text/plain": "  0%|          | 0/2657 [00:00<?, ?it/s]",
      "application/vnd.jupyter.widget-view+json": {
       "version_major": 2,
       "version_minor": 0,
       "model_id": "4953286d477b4a8c91036f0838ec9f3d"
      }
     },
     "metadata": {},
     "output_type": "display_data"
    },
    {
     "name": "stdout",
     "output_type": "stream",
     "text": [
      "Accuracy of the sign network on the test images: 100.00%\n"
     ]
    },
    {
     "data": {
      "text/plain": "  0%|          | 0/2657 [00:00<?, ?it/s]",
      "application/vnd.jupyter.widget-view+json": {
       "version_major": 2,
       "version_minor": 0,
       "model_id": "9fdd392343444c49b1be4ccdca8c4c59"
      }
     },
     "metadata": {},
     "output_type": "display_data"
    },
    {
     "name": "stdout",
     "output_type": "stream",
     "text": [
      "Accuracy of the sign network on the test images: 99.99%\n"
     ]
    },
    {
     "data": {
      "text/plain": "  0%|          | 0/2657 [00:00<?, ?it/s]",
      "application/vnd.jupyter.widget-view+json": {
       "version_major": 2,
       "version_minor": 0,
       "model_id": "8c81d1b3023f47bfb35f9218037b7d51"
      }
     },
     "metadata": {},
     "output_type": "display_data"
    },
    {
     "name": "stdout",
     "output_type": "stream",
     "text": [
      "Accuracy of the sign network on the test images: 99.99%\n"
     ]
    },
    {
     "data": {
      "text/plain": "  0%|          | 0/2657 [00:00<?, ?it/s]",
      "application/vnd.jupyter.widget-view+json": {
       "version_major": 2,
       "version_minor": 0,
       "model_id": "309f231323bc495c99ab2ea2cdb5b54e"
      }
     },
     "metadata": {},
     "output_type": "display_data"
    },
    {
     "name": "stdout",
     "output_type": "stream",
     "text": [
      "Accuracy of the sign network on the test images: 99.99%\n"
     ]
    },
    {
     "data": {
      "text/plain": "  0%|          | 0/2657 [00:00<?, ?it/s]",
      "application/vnd.jupyter.widget-view+json": {
       "version_major": 2,
       "version_minor": 0,
       "model_id": "bfe44a22af964b8597e54ef6f1658f53"
      }
     },
     "metadata": {},
     "output_type": "display_data"
    },
    {
     "name": "stdout",
     "output_type": "stream",
     "text": [
      "Accuracy of the sign network on the test images: 99.99%\n"
     ]
    },
    {
     "data": {
      "text/plain": "  0%|          | 0/2657 [00:00<?, ?it/s]",
      "application/vnd.jupyter.widget-view+json": {
       "version_major": 2,
       "version_minor": 0,
       "model_id": "ca6393d5affa496cb2d25309bf1e5db1"
      }
     },
     "metadata": {},
     "output_type": "display_data"
    },
    {
     "name": "stdout",
     "output_type": "stream",
     "text": [
      "Accuracy of the sign network on the test images: 99.96%\n"
     ]
    },
    {
     "data": {
      "text/plain": "  0%|          | 0/2657 [00:00<?, ?it/s]",
      "application/vnd.jupyter.widget-view+json": {
       "version_major": 2,
       "version_minor": 0,
       "model_id": "7b8f7dac3e5c4f7c8ef461ba1cf3842c"
      }
     },
     "metadata": {},
     "output_type": "display_data"
    },
    {
     "name": "stdout",
     "output_type": "stream",
     "text": [
      "Accuracy of the sign network on the test images: 100.00%\n"
     ]
    },
    {
     "data": {
      "text/plain": "  0%|          | 0/1094 [00:00<?, ?it/s]",
      "application/vnd.jupyter.widget-view+json": {
       "version_major": 2,
       "version_minor": 0,
       "model_id": "d26c8bea5c024065ab38d5a96607af03"
      }
     },
     "metadata": {},
     "output_type": "display_data"
    },
    {
     "name": "stdout",
     "output_type": "stream",
     "text": [
      "Accuracy of the network on the test images: 99.95%\n"
     ]
    },
    {
     "data": {
      "text/plain": "  0%|          | 0/1094 [00:00<?, ?it/s]",
      "application/vnd.jupyter.widget-view+json": {
       "version_major": 2,
       "version_minor": 0,
       "model_id": "a9737f4bb28a4b90855abde8bc100506"
      }
     },
     "metadata": {},
     "output_type": "display_data"
    },
    {
     "name": "stdout",
     "output_type": "stream",
     "text": [
      "Accuracy of the network on the test images: 99.97%\n"
     ]
    },
    {
     "data": {
      "text/plain": "  0%|          | 0/1094 [00:00<?, ?it/s]",
      "application/vnd.jupyter.widget-view+json": {
       "version_major": 2,
       "version_minor": 0,
       "model_id": "396ff7fd44ba4dab8f116a7bf7d20d42"
      }
     },
     "metadata": {},
     "output_type": "display_data"
    },
    {
     "name": "stdout",
     "output_type": "stream",
     "text": [
      "Accuracy of the network on the test images: 99.96%\n"
     ]
    },
    {
     "data": {
      "text/plain": "  0%|          | 0/1094 [00:00<?, ?it/s]",
      "application/vnd.jupyter.widget-view+json": {
       "version_major": 2,
       "version_minor": 0,
       "model_id": "97e2174843f84293b5c0fb3dc4923e3d"
      }
     },
     "metadata": {},
     "output_type": "display_data"
    },
    {
     "name": "stdout",
     "output_type": "stream",
     "text": [
      "Accuracy of the network on the test images: 99.96%\n"
     ]
    },
    {
     "data": {
      "text/plain": "  0%|          | 0/1094 [00:00<?, ?it/s]",
      "application/vnd.jupyter.widget-view+json": {
       "version_major": 2,
       "version_minor": 0,
       "model_id": "3c920049fa544afcb0577585a238a086"
      }
     },
     "metadata": {},
     "output_type": "display_data"
    },
    {
     "name": "stdout",
     "output_type": "stream",
     "text": [
      "Accuracy of the network on the test images: 99.98%\n"
     ]
    },
    {
     "data": {
      "text/plain": "  0%|          | 0/1094 [00:00<?, ?it/s]",
      "application/vnd.jupyter.widget-view+json": {
       "version_major": 2,
       "version_minor": 0,
       "model_id": "07930c747a1d44b5bd6ed3c199346c88"
      }
     },
     "metadata": {},
     "output_type": "display_data"
    },
    {
     "name": "stdout",
     "output_type": "stream",
     "text": [
      "Accuracy of the network on the test images: 99.98%\n"
     ]
    },
    {
     "data": {
      "text/plain": "  0%|          | 0/1094 [00:00<?, ?it/s]",
      "application/vnd.jupyter.widget-view+json": {
       "version_major": 2,
       "version_minor": 0,
       "model_id": "2d57418a472a437d98585959f8da84f4"
      }
     },
     "metadata": {},
     "output_type": "display_data"
    },
    {
     "name": "stdout",
     "output_type": "stream",
     "text": [
      "Accuracy of the network on the test images: 99.98%\n"
     ]
    },
    {
     "data": {
      "text/plain": "  0%|          | 0/1094 [00:00<?, ?it/s]",
      "application/vnd.jupyter.widget-view+json": {
       "version_major": 2,
       "version_minor": 0,
       "model_id": "fd20842ae71840d5989922a631e716a6"
      }
     },
     "metadata": {},
     "output_type": "display_data"
    },
    {
     "name": "stdout",
     "output_type": "stream",
     "text": [
      "Accuracy of the network on the test images: 99.98%\n"
     ]
    },
    {
     "data": {
      "text/plain": "  0%|          | 0/1094 [00:00<?, ?it/s]",
      "application/vnd.jupyter.widget-view+json": {
       "version_major": 2,
       "version_minor": 0,
       "model_id": "159c9918cf2f4048badfb433069440a3"
      }
     },
     "metadata": {},
     "output_type": "display_data"
    },
    {
     "name": "stdout",
     "output_type": "stream",
     "text": [
      "Accuracy of the network on the test images: 99.98%\n"
     ]
    },
    {
     "data": {
      "text/plain": "  0%|          | 0/1094 [00:00<?, ?it/s]",
      "application/vnd.jupyter.widget-view+json": {
       "version_major": 2,
       "version_minor": 0,
       "model_id": "e9c388700a1b42278ec8128b49e49045"
      }
     },
     "metadata": {},
     "output_type": "display_data"
    },
    {
     "name": "stdout",
     "output_type": "stream",
     "text": [
      "Accuracy of the network on the test images: 99.98%\n"
     ]
    },
    {
     "data": {
      "text/plain": "  0%|          | 0/1094 [00:00<?, ?it/s]",
      "application/vnd.jupyter.widget-view+json": {
       "version_major": 2,
       "version_minor": 0,
       "model_id": "f14521071803441daa28f8f8e2fdc550"
      }
     },
     "metadata": {},
     "output_type": "display_data"
    },
    {
     "name": "stdout",
     "output_type": "stream",
     "text": [
      "Accuracy of the network on the test images: 99.98%\n"
     ]
    },
    {
     "data": {
      "text/plain": "  0%|          | 0/1094 [00:00<?, ?it/s]",
      "application/vnd.jupyter.widget-view+json": {
       "version_major": 2,
       "version_minor": 0,
       "model_id": "498b7c056e0741018f178d7ee75ad4fd"
      }
     },
     "metadata": {},
     "output_type": "display_data"
    },
    {
     "name": "stdout",
     "output_type": "stream",
     "text": [
      "Accuracy of the network on the test images: 99.98%\n"
     ]
    },
    {
     "data": {
      "text/plain": "  0%|          | 0/1094 [00:00<?, ?it/s]",
      "application/vnd.jupyter.widget-view+json": {
       "version_major": 2,
       "version_minor": 0,
       "model_id": "81daf0603f324958b05a8f5d2935d13d"
      }
     },
     "metadata": {},
     "output_type": "display_data"
    },
    {
     "name": "stdout",
     "output_type": "stream",
     "text": [
      "Accuracy of the network on the test images: 99.98%\n"
     ]
    },
    {
     "data": {
      "text/plain": "  0%|          | 0/1094 [00:00<?, ?it/s]",
      "application/vnd.jupyter.widget-view+json": {
       "version_major": 2,
       "version_minor": 0,
       "model_id": "1e4d490e3aea49de96d102ece8d3edb5"
      }
     },
     "metadata": {},
     "output_type": "display_data"
    },
    {
     "name": "stdout",
     "output_type": "stream",
     "text": [
      "Accuracy of the network on the test images: 99.98%\n"
     ]
    },
    {
     "data": {
      "text/plain": "  0%|          | 0/1094 [00:00<?, ?it/s]",
      "application/vnd.jupyter.widget-view+json": {
       "version_major": 2,
       "version_minor": 0,
       "model_id": "adb0eac7f6ff4a9094d59c6c438198c6"
      }
     },
     "metadata": {},
     "output_type": "display_data"
    },
    {
     "name": "stdout",
     "output_type": "stream",
     "text": [
      "Accuracy of the network on the test images: 99.98%\n"
     ]
    },
    {
     "data": {
      "text/plain": "  0%|          | 0/1094 [00:00<?, ?it/s]",
      "application/vnd.jupyter.widget-view+json": {
       "version_major": 2,
       "version_minor": 0,
       "model_id": "b691fe23022e435fa617cadce6d089ef"
      }
     },
     "metadata": {},
     "output_type": "display_data"
    },
    {
     "name": "stdout",
     "output_type": "stream",
     "text": [
      "Accuracy of the network on the test images: 99.98%\n"
     ]
    },
    {
     "data": {
      "text/plain": "  0%|          | 0/1094 [00:00<?, ?it/s]",
      "application/vnd.jupyter.widget-view+json": {
       "version_major": 2,
       "version_minor": 0,
       "model_id": "559af44e7313401b9984ed076a001eb4"
      }
     },
     "metadata": {},
     "output_type": "display_data"
    },
    {
     "name": "stdout",
     "output_type": "stream",
     "text": [
      "Accuracy of the network on the test images: 99.98%\n"
     ]
    },
    {
     "data": {
      "text/plain": "  0%|          | 0/1094 [00:00<?, ?it/s]",
      "application/vnd.jupyter.widget-view+json": {
       "version_major": 2,
       "version_minor": 0,
       "model_id": "44f0062b4f6d41e88a77aa51609d8ca4"
      }
     },
     "metadata": {},
     "output_type": "display_data"
    },
    {
     "name": "stdout",
     "output_type": "stream",
     "text": [
      "Accuracy of the network on the test images: 99.98%\n"
     ]
    },
    {
     "data": {
      "text/plain": "  0%|          | 0/1094 [00:00<?, ?it/s]",
      "application/vnd.jupyter.widget-view+json": {
       "version_major": 2,
       "version_minor": 0,
       "model_id": "6908fe0a2be34aa2b3dfa217ad348a19"
      }
     },
     "metadata": {},
     "output_type": "display_data"
    },
    {
     "name": "stdout",
     "output_type": "stream",
     "text": [
      "Accuracy of the network on the test images: 99.98%\n"
     ]
    },
    {
     "data": {
      "text/plain": "  0%|          | 0/1094 [00:00<?, ?it/s]",
      "application/vnd.jupyter.widget-view+json": {
       "version_major": 2,
       "version_minor": 0,
       "model_id": "e1a708a1049f46cd9f9d293e81f8c2df"
      }
     },
     "metadata": {},
     "output_type": "display_data"
    },
    {
     "name": "stdout",
     "output_type": "stream",
     "text": [
      "Accuracy of the network on the test images: 99.96%\n"
     ]
    },
    {
     "data": {
      "text/plain": "  0%|          | 0/1094 [00:00<?, ?it/s]",
      "application/vnd.jupyter.widget-view+json": {
       "version_major": 2,
       "version_minor": 0,
       "model_id": "bde28b957f274d7291733ef0a1d6e15d"
      }
     },
     "metadata": {},
     "output_type": "display_data"
    },
    {
     "name": "stdout",
     "output_type": "stream",
     "text": [
      "Accuracy of the network on the test images: 99.60%\n"
     ]
    },
    {
     "data": {
      "text/plain": "  0%|          | 0/1094 [00:00<?, ?it/s]",
      "application/vnd.jupyter.widget-view+json": {
       "version_major": 2,
       "version_minor": 0,
       "model_id": "88590bcafdee46b49552091ef7c83bad"
      }
     },
     "metadata": {},
     "output_type": "display_data"
    },
    {
     "name": "stdout",
     "output_type": "stream",
     "text": [
      "Accuracy of the network on the test images: 99.79%\n"
     ]
    },
    {
     "data": {
      "text/plain": "  0%|          | 0/1094 [00:00<?, ?it/s]",
      "application/vnd.jupyter.widget-view+json": {
       "version_major": 2,
       "version_minor": 0,
       "model_id": "206ee8ad975145799c4e3f511d7287ae"
      }
     },
     "metadata": {},
     "output_type": "display_data"
    },
    {
     "name": "stdout",
     "output_type": "stream",
     "text": [
      "Accuracy of the network on the test images: 99.87%\n"
     ]
    },
    {
     "data": {
      "text/plain": "  0%|          | 0/1094 [00:00<?, ?it/s]",
      "application/vnd.jupyter.widget-view+json": {
       "version_major": 2,
       "version_minor": 0,
       "model_id": "e13dfa663c9a42238e909c78388b83b7"
      }
     },
     "metadata": {},
     "output_type": "display_data"
    },
    {
     "name": "stdout",
     "output_type": "stream",
     "text": [
      "Accuracy of the network on the test images: 99.87%\n"
     ]
    },
    {
     "data": {
      "text/plain": "  0%|          | 0/1094 [00:00<?, ?it/s]",
      "application/vnd.jupyter.widget-view+json": {
       "version_major": 2,
       "version_minor": 0,
       "model_id": "cb53e0d109a84a0a9d9bbb3228a9e7b4"
      }
     },
     "metadata": {},
     "output_type": "display_data"
    },
    {
     "name": "stdout",
     "output_type": "stream",
     "text": [
      "Accuracy of the network on the test images: 99.81%\n"
     ]
    },
    {
     "data": {
      "text/plain": "  0%|          | 0/1094 [00:00<?, ?it/s]",
      "application/vnd.jupyter.widget-view+json": {
       "version_major": 2,
       "version_minor": 0,
       "model_id": "d34cf396db584b0ebb5ba0d7eb09accb"
      }
     },
     "metadata": {},
     "output_type": "display_data"
    },
    {
     "name": "stdout",
     "output_type": "stream",
     "text": [
      "Accuracy of the network on the test images: 99.81%\n"
     ]
    },
    {
     "data": {
      "text/plain": "  0%|          | 0/1094 [00:00<?, ?it/s]",
      "application/vnd.jupyter.widget-view+json": {
       "version_major": 2,
       "version_minor": 0,
       "model_id": "11ce21c4720b41fc9b36a908951b8893"
      }
     },
     "metadata": {},
     "output_type": "display_data"
    },
    {
     "name": "stdout",
     "output_type": "stream",
     "text": [
      "Accuracy of the network on the test images: 99.82%\n"
     ]
    },
    {
     "data": {
      "text/plain": "  0%|          | 0/1094 [00:00<?, ?it/s]",
      "application/vnd.jupyter.widget-view+json": {
       "version_major": 2,
       "version_minor": 0,
       "model_id": "2154496290ba466db170feddb5e668a2"
      }
     },
     "metadata": {},
     "output_type": "display_data"
    },
    {
     "name": "stdout",
     "output_type": "stream",
     "text": [
      "Accuracy of the network on the test images: 99.90%\n"
     ]
    },
    {
     "data": {
      "text/plain": "  0%|          | 0/1094 [00:00<?, ?it/s]",
      "application/vnd.jupyter.widget-view+json": {
       "version_major": 2,
       "version_minor": 0,
       "model_id": "91bb7becb1804b1eb499c0857d0c89c1"
      }
     },
     "metadata": {},
     "output_type": "display_data"
    },
    {
     "name": "stdout",
     "output_type": "stream",
     "text": [
      "Accuracy of the network on the test images: 99.92%\n"
     ]
    },
    {
     "data": {
      "text/plain": "  0%|          | 0/1094 [00:00<?, ?it/s]",
      "application/vnd.jupyter.widget-view+json": {
       "version_major": 2,
       "version_minor": 0,
       "model_id": "e1474b8955e749588612a43eda5f3194"
      }
     },
     "metadata": {},
     "output_type": "display_data"
    },
    {
     "name": "stdout",
     "output_type": "stream",
     "text": [
      "Accuracy of the network on the test images: 99.89%\n"
     ]
    },
    {
     "data": {
      "text/plain": "  0%|          | 0/1094 [00:00<?, ?it/s]",
      "application/vnd.jupyter.widget-view+json": {
       "version_major": 2,
       "version_minor": 0,
       "model_id": "afb2d55d804a4f088b96e4746bc72586"
      }
     },
     "metadata": {},
     "output_type": "display_data"
    },
    {
     "name": "stdout",
     "output_type": "stream",
     "text": [
      "Accuracy of the network on the test images: 99.95%\n"
     ]
    },
    {
     "data": {
      "text/plain": "  0%|          | 0/1094 [00:00<?, ?it/s]",
      "application/vnd.jupyter.widget-view+json": {
       "version_major": 2,
       "version_minor": 0,
       "model_id": "d1dc4e9cfe5e421e94a504974f0b1c6b"
      }
     },
     "metadata": {},
     "output_type": "display_data"
    },
    {
     "name": "stdout",
     "output_type": "stream",
     "text": [
      "Accuracy of the network on the test images: 99.94%\n"
     ]
    },
    {
     "data": {
      "text/plain": "  0%|          | 0/1094 [00:00<?, ?it/s]",
      "application/vnd.jupyter.widget-view+json": {
       "version_major": 2,
       "version_minor": 0,
       "model_id": "5baa6fcbd4cb48759807136705357ac7"
      }
     },
     "metadata": {},
     "output_type": "display_data"
    },
    {
     "name": "stdout",
     "output_type": "stream",
     "text": [
      "Accuracy of the network on the test images: 99.97%\n"
     ]
    },
    {
     "data": {
      "text/plain": "  0%|          | 0/1094 [00:00<?, ?it/s]",
      "application/vnd.jupyter.widget-view+json": {
       "version_major": 2,
       "version_minor": 0,
       "model_id": "72ea34ebc35f46569680c5a07adcc049"
      }
     },
     "metadata": {},
     "output_type": "display_data"
    },
    {
     "name": "stdout",
     "output_type": "stream",
     "text": [
      "Accuracy of the network on the test images: 99.94%\n"
     ]
    },
    {
     "data": {
      "text/plain": "  0%|          | 0/1094 [00:00<?, ?it/s]",
      "application/vnd.jupyter.widget-view+json": {
       "version_major": 2,
       "version_minor": 0,
       "model_id": "125c4388de92485199467cebb2feb34b"
      }
     },
     "metadata": {},
     "output_type": "display_data"
    },
    {
     "name": "stdout",
     "output_type": "stream",
     "text": [
      "Accuracy of the network on the test images: 99.90%\n"
     ]
    },
    {
     "data": {
      "text/plain": "  0%|          | 0/1094 [00:00<?, ?it/s]",
      "application/vnd.jupyter.widget-view+json": {
       "version_major": 2,
       "version_minor": 0,
       "model_id": "272f6af0d3c74c7a8fd9531c07ccf456"
      }
     },
     "metadata": {},
     "output_type": "display_data"
    },
    {
     "name": "stdout",
     "output_type": "stream",
     "text": [
      "Accuracy of the network on the test images: 99.93%\n"
     ]
    },
    {
     "data": {
      "text/plain": "  0%|          | 0/1094 [00:00<?, ?it/s]",
      "application/vnd.jupyter.widget-view+json": {
       "version_major": 2,
       "version_minor": 0,
       "model_id": "d50d2a4126aa4469a548aa9a91bc7e09"
      }
     },
     "metadata": {},
     "output_type": "display_data"
    },
    {
     "name": "stdout",
     "output_type": "stream",
     "text": [
      "Accuracy of the network on the test images: 99.96%\n"
     ]
    },
    {
     "data": {
      "text/plain": "  0%|          | 0/1094 [00:00<?, ?it/s]",
      "application/vnd.jupyter.widget-view+json": {
       "version_major": 2,
       "version_minor": 0,
       "model_id": "e3b4599b17e546f4968bd3651d86fa32"
      }
     },
     "metadata": {},
     "output_type": "display_data"
    },
    {
     "name": "stdout",
     "output_type": "stream",
     "text": [
      "Accuracy of the network on the test images: 99.88%\n"
     ]
    },
    {
     "data": {
      "text/plain": "  0%|          | 0/1094 [00:00<?, ?it/s]",
      "application/vnd.jupyter.widget-view+json": {
       "version_major": 2,
       "version_minor": 0,
       "model_id": "275abc24d6f9402289bc8112afc99423"
      }
     },
     "metadata": {},
     "output_type": "display_data"
    },
    {
     "name": "stdout",
     "output_type": "stream",
     "text": [
      "Accuracy of the network on the test images: 99.96%\n"
     ]
    },
    {
     "data": {
      "text/plain": "  0%|          | 0/1094 [00:00<?, ?it/s]",
      "application/vnd.jupyter.widget-view+json": {
       "version_major": 2,
       "version_minor": 0,
       "model_id": "422c9f3c9cc04b4a8f8dd37b3d971ee1"
      }
     },
     "metadata": {},
     "output_type": "display_data"
    },
    {
     "name": "stdout",
     "output_type": "stream",
     "text": [
      "Accuracy of the network on the test images: 99.96%\n"
     ]
    },
    {
     "data": {
      "text/plain": "  0%|          | 0/1094 [00:00<?, ?it/s]",
      "application/vnd.jupyter.widget-view+json": {
       "version_major": 2,
       "version_minor": 0,
       "model_id": "fefe2d620a7e40a58add28aabf9ccb28"
      }
     },
     "metadata": {},
     "output_type": "display_data"
    },
    {
     "name": "stdout",
     "output_type": "stream",
     "text": [
      "Accuracy of the network on the test images: 97.10%\n"
     ]
    },
    {
     "data": {
      "text/plain": "  0%|          | 0/1094 [00:00<?, ?it/s]",
      "application/vnd.jupyter.widget-view+json": {
       "version_major": 2,
       "version_minor": 0,
       "model_id": "13a093b9fb34498399d428cf46af27cb"
      }
     },
     "metadata": {},
     "output_type": "display_data"
    },
    {
     "name": "stdout",
     "output_type": "stream",
     "text": [
      "Accuracy of the network on the test images: 98.32%\n"
     ]
    },
    {
     "data": {
      "text/plain": "  0%|          | 0/1094 [00:00<?, ?it/s]",
      "application/vnd.jupyter.widget-view+json": {
       "version_major": 2,
       "version_minor": 0,
       "model_id": "17a990ca923940ac91efd9c704d7082e"
      }
     },
     "metadata": {},
     "output_type": "display_data"
    },
    {
     "name": "stdout",
     "output_type": "stream",
     "text": [
      "Accuracy of the network on the test images: 98.47%\n"
     ]
    },
    {
     "data": {
      "text/plain": "  0%|          | 0/1094 [00:00<?, ?it/s]",
      "application/vnd.jupyter.widget-view+json": {
       "version_major": 2,
       "version_minor": 0,
       "model_id": "9ffb9b7da6e24448bc6e31bf23fc30ff"
      }
     },
     "metadata": {},
     "output_type": "display_data"
    },
    {
     "name": "stdout",
     "output_type": "stream",
     "text": [
      "Accuracy of the network on the test images: 98.53%\n"
     ]
    },
    {
     "data": {
      "text/plain": "  0%|          | 0/1094 [00:00<?, ?it/s]",
      "application/vnd.jupyter.widget-view+json": {
       "version_major": 2,
       "version_minor": 0,
       "model_id": "d8afb66a91f946b588286cfa86c4a493"
      }
     },
     "metadata": {},
     "output_type": "display_data"
    },
    {
     "name": "stdout",
     "output_type": "stream",
     "text": [
      "Accuracy of the network on the test images: 98.82%\n"
     ]
    },
    {
     "data": {
      "text/plain": "  0%|          | 0/1094 [00:00<?, ?it/s]",
      "application/vnd.jupyter.widget-view+json": {
       "version_major": 2,
       "version_minor": 0,
       "model_id": "1a4a53e7528b483694ce88b2a98a7bfd"
      }
     },
     "metadata": {},
     "output_type": "display_data"
    },
    {
     "name": "stdout",
     "output_type": "stream",
     "text": [
      "Accuracy of the network on the test images: 98.77%\n"
     ]
    },
    {
     "data": {
      "text/plain": "  0%|          | 0/1094 [00:00<?, ?it/s]",
      "application/vnd.jupyter.widget-view+json": {
       "version_major": 2,
       "version_minor": 0,
       "model_id": "eb57c086c3e5416cb6463c07044d3314"
      }
     },
     "metadata": {},
     "output_type": "display_data"
    },
    {
     "name": "stdout",
     "output_type": "stream",
     "text": [
      "Accuracy of the network on the test images: 99.11%\n"
     ]
    },
    {
     "data": {
      "text/plain": "  0%|          | 0/1094 [00:00<?, ?it/s]",
      "application/vnd.jupyter.widget-view+json": {
       "version_major": 2,
       "version_minor": 0,
       "model_id": "c617cbf233d84a5b8681bafab3d4a850"
      }
     },
     "metadata": {},
     "output_type": "display_data"
    },
    {
     "name": "stdout",
     "output_type": "stream",
     "text": [
      "Accuracy of the network on the test images: 98.81%\n"
     ]
    },
    {
     "data": {
      "text/plain": "  0%|          | 0/1094 [00:00<?, ?it/s]",
      "application/vnd.jupyter.widget-view+json": {
       "version_major": 2,
       "version_minor": 0,
       "model_id": "b8a9a2af5e20415dba8a68847eb0bf4b"
      }
     },
     "metadata": {},
     "output_type": "display_data"
    },
    {
     "name": "stdout",
     "output_type": "stream",
     "text": [
      "Accuracy of the network on the test images: 98.77%\n"
     ]
    },
    {
     "data": {
      "text/plain": "  0%|          | 0/1094 [00:00<?, ?it/s]",
      "application/vnd.jupyter.widget-view+json": {
       "version_major": 2,
       "version_minor": 0,
       "model_id": "9fc2fac01de84342a395a5c9e7bdb177"
      }
     },
     "metadata": {},
     "output_type": "display_data"
    },
    {
     "name": "stdout",
     "output_type": "stream",
     "text": [
      "Accuracy of the network on the test images: 98.98%\n"
     ]
    },
    {
     "data": {
      "text/plain": "  0%|          | 0/1094 [00:00<?, ?it/s]",
      "application/vnd.jupyter.widget-view+json": {
       "version_major": 2,
       "version_minor": 0,
       "model_id": "4b2809347b1e40a5af715d7087bdd732"
      }
     },
     "metadata": {},
     "output_type": "display_data"
    },
    {
     "name": "stdout",
     "output_type": "stream",
     "text": [
      "Accuracy of the network on the test images: 98.95%\n"
     ]
    },
    {
     "data": {
      "text/plain": "  0%|          | 0/1094 [00:00<?, ?it/s]",
      "application/vnd.jupyter.widget-view+json": {
       "version_major": 2,
       "version_minor": 0,
       "model_id": "0d228274843046d2b51ffe86799c6e9e"
      }
     },
     "metadata": {},
     "output_type": "display_data"
    },
    {
     "name": "stdout",
     "output_type": "stream",
     "text": [
      "Accuracy of the network on the test images: 98.99%\n"
     ]
    },
    {
     "data": {
      "text/plain": "  0%|          | 0/1094 [00:00<?, ?it/s]",
      "application/vnd.jupyter.widget-view+json": {
       "version_major": 2,
       "version_minor": 0,
       "model_id": "51bd4d82d7c74b13a47cec47585a82f7"
      }
     },
     "metadata": {},
     "output_type": "display_data"
    },
    {
     "name": "stdout",
     "output_type": "stream",
     "text": [
      "Accuracy of the network on the test images: 99.18%\n"
     ]
    },
    {
     "data": {
      "text/plain": "  0%|          | 0/1094 [00:00<?, ?it/s]",
      "application/vnd.jupyter.widget-view+json": {
       "version_major": 2,
       "version_minor": 0,
       "model_id": "63ee4ea5348b468dab347a4744180e77"
      }
     },
     "metadata": {},
     "output_type": "display_data"
    },
    {
     "name": "stdout",
     "output_type": "stream",
     "text": [
      "Accuracy of the network on the test images: 98.76%\n"
     ]
    },
    {
     "data": {
      "text/plain": "  0%|          | 0/1094 [00:00<?, ?it/s]",
      "application/vnd.jupyter.widget-view+json": {
       "version_major": 2,
       "version_minor": 0,
       "model_id": "6b46dbfa87db4bdf95c2ebfb5ea825ee"
      }
     },
     "metadata": {},
     "output_type": "display_data"
    },
    {
     "name": "stdout",
     "output_type": "stream",
     "text": [
      "Accuracy of the network on the test images: 99.07%\n"
     ]
    },
    {
     "data": {
      "text/plain": "  0%|          | 0/1094 [00:00<?, ?it/s]",
      "application/vnd.jupyter.widget-view+json": {
       "version_major": 2,
       "version_minor": 0,
       "model_id": "0bd5eeacc64f4135ad72a666b34b7635"
      }
     },
     "metadata": {},
     "output_type": "display_data"
    },
    {
     "name": "stdout",
     "output_type": "stream",
     "text": [
      "Accuracy of the network on the test images: 99.13%\n"
     ]
    },
    {
     "data": {
      "text/plain": "  0%|          | 0/1094 [00:00<?, ?it/s]",
      "application/vnd.jupyter.widget-view+json": {
       "version_major": 2,
       "version_minor": 0,
       "model_id": "74564c94decc41faaf871045ab047fb1"
      }
     },
     "metadata": {},
     "output_type": "display_data"
    },
    {
     "name": "stdout",
     "output_type": "stream",
     "text": [
      "Accuracy of the network on the test images: 99.21%\n"
     ]
    },
    {
     "data": {
      "text/plain": "  0%|          | 0/1094 [00:00<?, ?it/s]",
      "application/vnd.jupyter.widget-view+json": {
       "version_major": 2,
       "version_minor": 0,
       "model_id": "b5e2828495e043f6a8b9a39f34ad25a9"
      }
     },
     "metadata": {},
     "output_type": "display_data"
    },
    {
     "name": "stdout",
     "output_type": "stream",
     "text": [
      "Accuracy of the network on the test images: 99.18%\n"
     ]
    },
    {
     "data": {
      "text/plain": "  0%|          | 0/1094 [00:00<?, ?it/s]",
      "application/vnd.jupyter.widget-view+json": {
       "version_major": 2,
       "version_minor": 0,
       "model_id": "9627ac5317ea4b9faf6bc9ab4cee756a"
      }
     },
     "metadata": {},
     "output_type": "display_data"
    },
    {
     "name": "stdout",
     "output_type": "stream",
     "text": [
      "Accuracy of the network on the test images: 98.99%\n"
     ]
    },
    {
     "data": {
      "text/plain": "  0%|          | 0/1094 [00:00<?, ?it/s]",
      "application/vnd.jupyter.widget-view+json": {
       "version_major": 2,
       "version_minor": 0,
       "model_id": "3f3b73b85ca44da3b729fe37e0686f9d"
      }
     },
     "metadata": {},
     "output_type": "display_data"
    },
    {
     "name": "stdout",
     "output_type": "stream",
     "text": [
      "Accuracy of the network on the test images: 99.26%\n",
      "Computing principal space ...\n",
      "Computing principal space ...\n",
      "Computing alpha ...\n",
      "Computing alpha ...\n",
      "self.alpha=8.9634\n",
      "self.alpha=8.9634\n",
      "Fitting with temperature scaling\n",
      "label: y1.unique()=tensor([ 0,  1,  2,  3,  4,  5,  6,  7,  8,  9, 10, 11, 12, 13, 14, 15, 16, 17,\n",
      "        18, 19, 20, 21, 22, 23, 24, 25, 26, 27, 28, 29, 30, 31, 32, 33, 34, 35,\n",
      "        36, 37, 38, 39, 40, 41, 42]) logits_label.shape=torch.Size([4209, 43])\n",
      "Initial T/NLL: 1.000/0.002\n",
      "Initial T/NLL: 1.000/0.002\n",
      "Optimal temperature: 0.9999988675117493\n",
      "Optimal temperature: 0.9999988675117493\n",
      "NLL after scaling: 0.00'\n",
      "NLL after scaling: 0.00'\n",
      "color: y2.unique()=tensor([0, 1, 2, 3]) logits_color.shape=torch.Size([4209, 4])\n",
      "Initial T/NLL: 1.000/0.000\n",
      "Initial T/NLL: 1.000/0.000\n",
      "Optimal temperature: 0.9999985098838806\n",
      "Optimal temperature: 0.9999985098838806\n",
      "NLL after scaling: 0.00'\n",
      "NLL after scaling: 0.00'\n",
      "shape: y3.unique()=tensor([0, 1, 2, 3, 4]) logits_shape.shape=torch.Size([4209, 5])\n",
      "Initial T/NLL: 1.000/0.000\n",
      "Initial T/NLL: 1.000/0.000\n",
      "Optimal temperature: 0.9999990463256836\n",
      "Optimal temperature: 0.9999990463256836\n",
      "NLL after scaling: 0.00'\n",
      "NLL after scaling: 0.00'\n",
      "self.scorer_label.t=Parameter containing:\n",
      "tensor(1.0000, requires_grad=True)\n",
      "self.scorer_color.t=Parameter containing:\n",
      "tensor(1.0000, requires_grad=True)\n",
      "self.scorer_shape.t=Parameter containing:\n",
      "tensor(1.0000, requires_grad=True)\n",
      "Fitting with temperature scaling\n"
     ]
    },
    {
     "name": "stderr",
     "output_type": "stream",
     "text": [
      "/home/ki/projects/pytorch-ood/src/pytorch_ood/detector/tscaling.py:84: UserWarning: Implicit dimension choice for log_softmax has been deprecated. Change the call to include dim=X as an argument.\n",
      "  loss = nll_loss(log_softmax(logits / self.t), labels).item()\n",
      "/home/ki/projects/pytorch-ood/src/pytorch_ood/detector/tscaling.py:90: UserWarning: Implicit dimension choice for log_softmax has been deprecated. Change the call to include dim=X as an argument.\n",
      "  loss = nll_loss(log_softmax(logits / self.t), labels)\n",
      "/home/ki/projects/pytorch-ood/src/pytorch_ood/detector/tscaling.py:97: UserWarning: Implicit dimension choice for log_softmax has been deprecated. Change the call to include dim=X as an argument.\n",
      "  loss = nll_loss(log_softmax(logits / self.t), labels).item()\n"
     ]
    },
    {
     "name": "stdout",
     "output_type": "stream",
     "text": [
      "label: y1.unique()=tensor([ 0,  1,  2,  3,  4,  5,  6,  7,  8,  9, 10, 11, 12, 13, 14, 15, 16, 17,\n",
      "        18, 19, 20, 21, 22, 23, 24, 25, 26, 27, 28, 29, 30, 31, 32, 33, 34, 35,\n",
      "        36, 37, 38, 39, 40, 41, 42]) logits_label.shape=torch.Size([4209, 43])\n",
      "Initial T/NLL: 1.000/0.002\n",
      "Initial T/NLL: 1.000/0.002\n",
      "Optimal temperature: 0.9999988675117493\n",
      "Optimal temperature: 0.9999988675117493\n",
      "NLL after scaling: 0.00'\n",
      "NLL after scaling: 0.00'\n",
      "color: y2.unique()=tensor([0, 1, 2, 3]) logits_color.shape=torch.Size([4209, 4])\n",
      "Initial T/NLL: 1.000/0.000\n",
      "Initial T/NLL: 1.000/0.000\n",
      "Optimal temperature: 0.9999985098838806\n",
      "Optimal temperature: 0.9999985098838806\n",
      "NLL after scaling: 0.00'\n",
      "NLL after scaling: 0.00'\n",
      "shape: y3.unique()=tensor([0, 1, 2, 3, 4]) logits_shape.shape=torch.Size([4209, 5])\n",
      "Initial T/NLL: 1.000/0.000\n",
      "Initial T/NLL: 1.000/0.000\n",
      "Optimal temperature: 0.9999990463256836\n",
      "Optimal temperature: 0.9999990463256836\n",
      "NLL after scaling: 0.00'\n",
      "NLL after scaling: 0.00'\n",
      "self.scorer_label.t=Parameter containing:\n",
      "tensor(1.0000, requires_grad=True)\n",
      "self.scorer_color.t=Parameter containing:\n",
      "tensor(1.0000, requires_grad=True)\n",
      "self.scorer_shape.t=Parameter containing:\n",
      "tensor(1.0000, requires_grad=True)\n",
      "{'AUROC': 0.9981380105018616, 'AUPR-IN': 0.9969317317008972, 'AUPR-OUT': 0.9989333748817444, 'FPR95TPR': 0.0057798889465630054, 'Method': 'PrologOOD', 'Dataset': 'LSUNCrop'}\n",
      "{'AUROC': 0.9986155033111572, 'AUPR-IN': 0.997932493686676, 'AUPR-OUT': 0.9992407560348511, 'FPR95TPR': 0.003800475038588047, 'Method': 'PrologOOD', 'Dataset': 'LSUNResize'}\n",
      "Found 5640 texture files.\n",
      "Found 5640 texture files.\n",
      "{'AUROC': 0.9979414343833923, 'AUPR-IN': 0.9943714737892151, 'AUPR-OUT': 0.9992323517799377, 'FPR95TPR': 0.007442596834152937, 'Method': 'PrologOOD', 'Dataset': 'Textures'}\n",
      "{'AUROC': 0.9983428120613098, 'AUPR-IN': 0.9975294470787048, 'AUPR-OUT': 0.9990397691726685, 'FPR95TPR': 0.0057007125578820705, 'Method': 'PrologOOD', 'Dataset': 'TinyImageNetCrop'}\n",
      "{'AUROC': 0.9979807734489441, 'AUPR-IN': 0.99698406457901, 'AUPR-OUT': 0.9987069964408875, 'FPR95TPR': 0.006809184327721596, 'Method': 'PrologOOD', 'Dataset': 'TinyImageNetResize'}\n",
      "{'AUROC': 0.9991288781166077, 'AUPR-IN': 0.9989019632339478, 'AUPR-OUT': 0.9996150732040405, 'FPR95TPR': 0.0017418843926861882, 'Method': 'PrologOOD+', 'Dataset': 'LSUNCrop'}\n",
      "{'AUROC': 0.999129056930542, 'AUPR-IN': 0.998902440071106, 'AUPR-OUT': 0.9996150732040405, 'FPR95TPR': 0.0017418843926861882, 'Method': 'PrologOOD+', 'Dataset': 'LSUNResize'}\n",
      "Found 5640 texture files.\n",
      "Found 5640 texture files.\n",
      "{'AUROC': 0.9991278648376465, 'AUPR-IN': 0.9980531930923462, 'AUPR-OUT': 0.9997305870056152, 'FPR95TPR': 0.0017418843926861882, 'Method': 'PrologOOD+', 'Dataset': 'Textures'}\n",
      "{'AUROC': 0.999129056930542, 'AUPR-IN': 0.998902440071106, 'AUPR-OUT': 0.9996150732040405, 'FPR95TPR': 0.0017418843926861882, 'Method': 'PrologOOD+', 'Dataset': 'TinyImageNetCrop'}\n",
      "{'AUROC': 0.999129056930542, 'AUPR-IN': 0.998902440071106, 'AUPR-OUT': 0.9996150732040405, 'FPR95TPR': 0.0017418843926861882, 'Method': 'PrologOOD+', 'Dataset': 'TinyImageNetResize'}\n",
      "{'AUROC': 0.9981380701065063, 'AUPR-IN': 0.9969317317008972, 'AUPR-OUT': 0.9989333748817444, 'FPR95TPR': 0.0057798889465630054, 'Method': 'PrologOODT', 'Dataset': 'LSUNCrop'}\n",
      "{'AUROC': 0.9986155033111572, 'AUPR-IN': 0.9979326128959656, 'AUPR-OUT': 0.9992407560348511, 'FPR95TPR': 0.003800475038588047, 'Method': 'PrologOODT', 'Dataset': 'LSUNResize'}\n",
      "Found 5640 texture files.\n",
      "Found 5640 texture files.\n",
      "{'AUROC': 0.9979413151741028, 'AUPR-IN': 0.9943714737892151, 'AUPR-OUT': 0.9992324113845825, 'FPR95TPR': 0.007442596834152937, 'Method': 'PrologOODT', 'Dataset': 'Textures'}\n",
      "{'AUROC': 0.9983426928520203, 'AUPR-IN': 0.9975294470787048, 'AUPR-OUT': 0.9990396499633789, 'FPR95TPR': 0.0057007125578820705, 'Method': 'PrologOODT', 'Dataset': 'TinyImageNetCrop'}\n",
      "{'AUROC': 0.9979808926582336, 'AUPR-IN': 0.9969841241836548, 'AUPR-OUT': 0.9987069368362427, 'FPR95TPR': 0.006809184327721596, 'Method': 'PrologOODT', 'Dataset': 'TinyImageNetResize'}\n",
      "{'AUROC': 0.9991287589073181, 'AUPR-IN': 0.9989019632339478, 'AUPR-OUT': 0.9996150135993958, 'FPR95TPR': 0.0017418843926861882, 'Method': 'PrologOODT+', 'Dataset': 'LSUNCrop'}\n",
      "{'AUROC': 0.9991291761398315, 'AUPR-IN': 0.998902440071106, 'AUPR-OUT': 0.9996151328086853, 'FPR95TPR': 0.0017418843926861882, 'Method': 'PrologOODT+', 'Dataset': 'LSUNResize'}\n",
      "Found 5640 texture files.\n",
      "Found 5640 texture files.\n",
      "{'AUROC': 0.9991267323493958, 'AUPR-IN': 0.9980505108833313, 'AUPR-OUT': 0.9997301697731018, 'FPR95TPR': 0.0017418843926861882, 'Method': 'PrologOODT+', 'Dataset': 'Textures'}\n",
      "{'AUROC': 0.9991291761398315, 'AUPR-IN': 0.998902440071106, 'AUPR-OUT': 0.9996151328086853, 'FPR95TPR': 0.0017418843926861882, 'Method': 'PrologOODT+', 'Dataset': 'TinyImageNetCrop'}\n",
      "{'AUROC': 0.9991291761398315, 'AUPR-IN': 0.998902440071106, 'AUPR-OUT': 0.9996151328086853, 'FPR95TPR': 0.0017418843926861882, 'Method': 'PrologOODT+', 'Dataset': 'TinyImageNetResize'}\n",
      "{'AUROC': 0.7988790273666382, 'AUPR-IN': 0.8864105343818665, 'AUPR-OUT': 0.8790770173072815, 'FPR95TPR': 1.0, 'Method': 'Logic', 'Dataset': 'LSUNCrop'}\n",
      "{'AUROC': 0.8853790760040283, 'AUPR-IN': 0.9350952506065369, 'AUPR-OUT': 0.9231857061386108, 'FPR95TPR': 1.0, 'Method': 'Logic', 'Dataset': 'LSUNResize'}\n",
      "Found 5640 texture files.\n",
      "Found 5640 texture files.\n",
      "{'AUROC': 0.8243063688278198, 'AUPR-IN': 0.8761644959449768, 'AUPR-OUT': 0.932104229927063, 'FPR95TPR': 1.0, 'Method': 'Logic', 'Dataset': 'Textures'}\n",
      "{'AUROC': 0.8703790903091431, 'AUPR-IN': 0.9266663789749146, 'AUPR-OUT': 0.9148163199424744, 'FPR95TPR': 1.0, 'Method': 'Logic', 'Dataset': 'TinyImageNetCrop'}\n",
      "{'AUROC': 0.8385790586471558, 'AUPR-IN': 0.9087806344032288, 'AUPR-OUT': 0.8981232643127441, 'FPR95TPR': 1.0, 'Method': 'Logic', 'Dataset': 'TinyImageNetResize'}\n",
      "{'AUROC': 0.9990290403366089, 'AUPR-IN': 0.9988464117050171, 'AUPR-OUT': 0.999535858631134, 'FPR95TPR': 0.0017418843926861882, 'Method': 'Logic+', 'Dataset': 'LSUNCrop'}\n",
      "{'AUROC': 0.999129056930542, 'AUPR-IN': 0.998902440071106, 'AUPR-OUT': 0.9996151328086853, 'FPR95TPR': 0.0017418843926861882, 'Method': 'Logic+', 'Dataset': 'LSUNResize'}\n",
      "Found 5640 texture files.\n",
      "Found 5640 texture files.\n",
      "{'AUROC': 0.9987744092941284, 'AUPR-IN': 0.9978106617927551, 'AUPR-OUT': 0.9995726346969604, 'FPR95TPR': 0.0017418843926861882, 'Method': 'Logic+', 'Dataset': 'Textures'}\n",
      "{'AUROC': 0.999129056930542, 'AUPR-IN': 0.998902440071106, 'AUPR-OUT': 0.9996151328086853, 'FPR95TPR': 0.0017418843926861882, 'Method': 'Logic+', 'Dataset': 'TinyImageNetCrop'}\n",
      "{'AUROC': 0.999129056930542, 'AUPR-IN': 0.998902440071106, 'AUPR-OUT': 0.9996151328086853, 'FPR95TPR': 0.0017418843926861882, 'Method': 'Logic+', 'Dataset': 'TinyImageNetResize'}\n",
      "{'AUROC': 0.9982937574386597, 'AUPR-IN': 0.9973496198654175, 'AUPR-OUT': 0.998879075050354, 'FPR95TPR': 0.007680126465857029, 'Method': 'Ensemble', 'Dataset': 'LSUNCrop'}\n",
      "{'AUROC': 0.9983946681022644, 'AUPR-IN': 0.9974854588508606, 'AUPR-OUT': 0.9989539384841919, 'FPR95TPR': 0.006967537570744753, 'Method': 'Ensemble', 'Dataset': 'LSUNResize'}\n",
      "Found 5640 texture files.\n",
      "Found 5640 texture files.\n",
      "{'AUROC': 0.9976582527160645, 'AUPR-IN': 0.993648886680603, 'AUPR-OUT': 0.9990643262863159, 'FPR95TPR': 0.009263657964766026, 'Method': 'Ensemble', 'Dataset': 'Textures'}\n",
      "{'AUROC': 0.9979343414306641, 'AUPR-IN': 0.9968416094779968, 'AUPR-OUT': 0.9986373782157898, 'FPR95TPR': 0.009026127867400646, 'Method': 'Ensemble', 'Dataset': 'TinyImageNetCrop'}\n",
      "{'AUROC': 0.9979537129402161, 'AUPR-IN': 0.9969525337219238, 'AUPR-OUT': 0.9985495805740356, 'FPR95TPR': 0.008392715826630592, 'Method': 'Ensemble', 'Dataset': 'TinyImageNetResize'}\n",
      "{'AUROC': 0.9864808320999146, 'AUPR-IN': 0.9785473346710205, 'AUPR-OUT': 0.9890738725662231, 'FPR95TPR': 0.03254156932234764, 'Method': 'MSP', 'Dataset': 'LSUNCrop'}\n",
      "{'AUROC': 0.9940930008888245, 'AUPR-IN': 0.9898706674575806, 'AUPR-OUT': 0.9959216713905334, 'FPR95TPR': 0.017260489985346794, 'Method': 'MSP', 'Dataset': 'LSUNResize'}\n",
      "Found 5640 texture files.\n",
      "Found 5640 texture files.\n",
      "{'AUROC': 0.987390398979187, 'AUPR-IN': 0.9716722965240479, 'AUPR-OUT': 0.9901522397994995, 'FPR95TPR': 0.02905779890716076, 'Method': 'MSP', 'Dataset': 'Textures'}\n",
      "{'AUROC': 0.9892658591270447, 'AUPR-IN': 0.9837019443511963, 'AUPR-OUT': 0.9913737773895264, 'FPR95TPR': 0.030878860503435135, 'Method': 'MSP', 'Dataset': 'TinyImageNetCrop'}\n",
      "{'AUROC': 0.9916982054710388, 'AUPR-IN': 0.9875912666320801, 'AUPR-OUT': 0.9923599362373352, 'FPR95TPR': 0.02343626320362091, 'Method': 'MSP', 'Dataset': 'TinyImageNetResize'}\n",
      "{'AUROC': 0.9865579605102539, 'AUPR-IN': 0.9834983944892883, 'AUPR-OUT': 0.9855265021324158, 'FPR95TPR': 0.026603326201438904, 'Method': 'Energy', 'Dataset': 'LSUNCrop'}\n",
      "{'AUROC': 0.9959841370582581, 'AUPR-IN': 0.9944890737533569, 'AUPR-OUT': 0.9960666298866272, 'FPR95TPR': 0.008551068603992462, 'Method': 'Energy', 'Dataset': 'LSUNResize'}\n",
      "Found 5640 texture files.\n",
      "Found 5640 texture files.\n",
      "{'AUROC': 0.9800138473510742, 'AUPR-IN': 0.9709686636924744, 'AUPR-OUT': 0.9811016321182251, 'FPR95TPR': 0.031037213280797005, 'Method': 'Energy', 'Dataset': 'Textures'}\n",
      "{'AUROC': 0.9872613549232483, 'AUPR-IN': 0.9858453273773193, 'AUPR-OUT': 0.9863895773887634, 'FPR95TPR': 0.025890735909342766, 'Method': 'Energy', 'Dataset': 'TinyImageNetCrop'}\n",
      "{'AUROC': 0.9898018836975098, 'AUPR-IN': 0.9890720248222351, 'AUPR-OUT': 0.9873693585395813, 'FPR95TPR': 0.017418844625353813, 'Method': 'Energy', 'Dataset': 'TinyImageNetResize'}\n",
      "{'AUROC': 0.9865650534629822, 'AUPR-IN': 0.9835099577903748, 'AUPR-OUT': 0.9853286743164062, 'FPR95TPR': 0.026524148881435394, 'Method': 'ReAct', 'Dataset': 'LSUNCrop'}\n",
      "{'AUROC': 0.9959877729415894, 'AUPR-IN': 0.9944931864738464, 'AUPR-OUT': 0.9958014488220215, 'FPR95TPR': 0.008551068603992462, 'Method': 'ReAct', 'Dataset': 'LSUNResize'}\n",
      "Found 5640 texture files.\n",
      "Found 5640 texture files.\n",
      "{'AUROC': 0.980370044708252, 'AUPR-IN': 0.9712870717048645, 'AUPR-OUT': 0.9778978824615479, 'FPR95TPR': 0.030562153086066246, 'Method': 'ReAct', 'Dataset': 'Textures'}\n",
      "{'AUROC': 0.9872620105743408, 'AUPR-IN': 0.9858499765396118, 'AUPR-OUT': 0.9862765073776245, 'FPR95TPR': 0.025890735909342766, 'Method': 'ReAct', 'Dataset': 'TinyImageNetCrop'}\n",
      "{'AUROC': 0.9898036122322083, 'AUPR-IN': 0.9890786409378052, 'AUPR-OUT': 0.9865149259567261, 'FPR95TPR': 0.017418844625353813, 'Method': 'ReAct', 'Dataset': 'TinyImageNetResize'}\n",
      "{'AUROC': 0.9658888578414917, 'AUPR-IN': 0.9602762460708618, 'AUPR-OUT': 0.9960550665855408, 'FPR95TPR': 0.06809184700250626, 'Method': 'ViM', 'Dataset': 'LSUNCrop'}\n",
      "{'AUROC': 0.9659420251846313, 'AUPR-IN': 0.9603803753852844, 'AUPR-OUT': 0.9957242608070374, 'FPR95TPR': 0.06809184700250626, 'Method': 'ViM', 'Dataset': 'LSUNResize'}\n",
      "Found 5640 texture files.\n",
      "Found 5640 texture files.\n",
      "{'AUROC': 0.9659474492073059, 'AUPR-IN': 0.9338233470916748, 'AUPR-OUT': 0.9987837672233582, 'FPR95TPR': 0.06809184700250626, 'Method': 'ViM', 'Dataset': 'Textures'}\n",
      "{'AUROC': 0.9659114480018616, 'AUPR-IN': 0.9603200554847717, 'AUPR-OUT': 0.99588942527771, 'FPR95TPR': 0.06809184700250626, 'Method': 'ViM', 'Dataset': 'TinyImageNetCrop'}\n",
      "{'AUROC': 0.9659364819526672, 'AUPR-IN': 0.9603705406188965, 'AUPR-OUT': 0.9963655471801758, 'FPR95TPR': 0.06809184700250626, 'Method': 'ViM', 'Dataset': 'TinyImageNetResize'}\n",
      "{'AUROC': 0.9941225647926331, 'AUPR-IN': 0.9898097515106201, 'AUPR-OUT': 0.9963306188583374, 'FPR95TPR': 0.022486144676804543, 'Method': 'Mahalanobis', 'Dataset': 'LSUNCrop'}\n",
      "{'AUROC': 0.9978652000427246, 'AUPR-IN': 0.9960639476776123, 'AUPR-OUT': 0.9986666440963745, 'FPR95TPR': 0.007521773688495159, 'Method': 'Mahalanobis', 'Dataset': 'LSUNResize'}\n",
      "Found 5640 texture files.\n",
      "Found 5640 texture files.\n",
      "{'AUROC': 0.9968085289001465, 'AUPR-IN': 0.9917259216308594, 'AUPR-OUT': 0.998703122138977, 'FPR95TPR': 0.014330958016216755, 'Method': 'Mahalanobis', 'Dataset': 'Textures'}\n",
      "{'AUROC': 0.9958022832870483, 'AUPR-IN': 0.9926998019218445, 'AUPR-OUT': 0.997337818145752, 'FPR95TPR': 0.015993665903806686, 'Method': 'Mahalanobis', 'Dataset': 'TinyImageNetCrop'}\n",
      "{'AUROC': 0.997795581817627, 'AUPR-IN': 0.9963698387145996, 'AUPR-OUT': 0.9985632300376892, 'FPR95TPR': 0.008709422312676907, 'Method': 'Mahalanobis', 'Dataset': 'TinyImageNetResize'}\n",
      "{'AUROC': 0.9875802397727966, 'AUPR-IN': 0.9815230369567871, 'AUPR-OUT': 0.9894731044769287, 'FPR95TPR': 0.031195566058158875, 'Method': 'Entropy', 'Dataset': 'LSUNCrop'}\n",
      "{'AUROC': 0.9955224990844727, 'AUPR-IN': 0.9929704666137695, 'AUPR-OUT': 0.9966099262237549, 'FPR95TPR': 0.015122723765671253, 'Method': 'Entropy', 'Dataset': 'LSUNResize'}\n",
      "Found 5640 texture files.\n",
      "Found 5640 texture files.\n",
      "{'AUROC': 0.9883638620376587, 'AUPR-IN': 0.9762470722198486, 'AUPR-OUT': 0.990228533744812, 'FPR95TPR': 0.02802850306034088, 'Method': 'Entropy', 'Dataset': 'Textures'}\n",
      "{'AUROC': 0.9903491735458374, 'AUPR-IN': 0.9863943457603455, 'AUPR-OUT': 0.9917792677879333, 'FPR95TPR': 0.030324622988700867, 'Method': 'Entropy', 'Dataset': 'TinyImageNetCrop'}\n",
      "{'AUROC': 0.9928582906723022, 'AUPR-IN': 0.990227222442627, 'AUPR-OUT': 0.9928209781646729, 'FPR95TPR': 0.022406967356801033, 'Method': 'Entropy', 'Dataset': 'TinyImageNetResize'}\n",
      "{'AUROC': 0.9863540530204773, 'AUPR-IN': 0.9830586910247803, 'AUPR-OUT': 0.985432505607605, 'FPR95TPR': 0.026444971561431885, 'Method': 'MaxLogit', 'Dataset': 'LSUNCrop'}\n",
      "{'AUROC': 0.9958113431930542, 'AUPR-IN': 0.9941051602363586, 'AUPR-OUT': 0.9959747195243835, 'FPR95TPR': 0.00918448157608509, 'Method': 'MaxLogit', 'Dataset': 'LSUNResize'}\n",
      "Found 5640 texture files.\n",
      "Found 5640 texture files.\n",
      "{'AUROC': 0.9799561500549316, 'AUPR-IN': 0.9707861542701721, 'AUPR-OUT': 0.9810864925384521, 'FPR95TPR': 0.030562153086066246, 'Method': 'MaxLogit', 'Dataset': 'Textures'}\n",
      "{'AUROC': 0.9871185421943665, 'AUPR-IN': 0.9855005741119385, 'AUPR-OUT': 0.9863137602806091, 'FPR95TPR': 0.025969913229346275, 'Method': 'MaxLogit', 'Dataset': 'TinyImageNetCrop'}\n",
      "{'AUROC': 0.9896710515022278, 'AUPR-IN': 0.9888255596160889, 'AUPR-OUT': 0.9872956275939941, 'FPR95TPR': 0.018052255734801292, 'Method': 'MaxLogit', 'Dataset': 'TinyImageNetResize'}\n"
     ]
    },
    {
     "data": {
      "text/plain": "  0%|          | 0/2657 [00:00<?, ?it/s]",
      "application/vnd.jupyter.widget-view+json": {
       "version_major": 2,
       "version_minor": 0,
       "model_id": "654c0010c2a241d2b6d965f06423c659"
      }
     },
     "metadata": {},
     "output_type": "display_data"
    },
    {
     "name": "stdout",
     "output_type": "stream",
     "text": [
      "Accuracy of the sign network on the test images: 99.99%\n"
     ]
    },
    {
     "data": {
      "text/plain": "  0%|          | 0/2657 [00:00<?, ?it/s]",
      "application/vnd.jupyter.widget-view+json": {
       "version_major": 2,
       "version_minor": 0,
       "model_id": "2b26ce797c50445dbab44996a2f3a88a"
      }
     },
     "metadata": {},
     "output_type": "display_data"
    },
    {
     "name": "stdout",
     "output_type": "stream",
     "text": [
      "Accuracy of the sign network on the test images: 100.00%\n"
     ]
    },
    {
     "data": {
      "text/plain": "  0%|          | 0/2657 [00:00<?, ?it/s]",
      "application/vnd.jupyter.widget-view+json": {
       "version_major": 2,
       "version_minor": 0,
       "model_id": "92dda954878340408a363bb9afafee78"
      }
     },
     "metadata": {},
     "output_type": "display_data"
    },
    {
     "name": "stdout",
     "output_type": "stream",
     "text": [
      "Accuracy of the sign network on the test images: 100.00%\n"
     ]
    },
    {
     "data": {
      "text/plain": "  0%|          | 0/2657 [00:00<?, ?it/s]",
      "application/vnd.jupyter.widget-view+json": {
       "version_major": 2,
       "version_minor": 0,
       "model_id": "37c1bb518500476194fe7a6a01f66e8b"
      }
     },
     "metadata": {},
     "output_type": "display_data"
    },
    {
     "name": "stdout",
     "output_type": "stream",
     "text": [
      "Accuracy of the sign network on the test images: 100.00%\n"
     ]
    },
    {
     "data": {
      "text/plain": "  0%|          | 0/2657 [00:00<?, ?it/s]",
      "application/vnd.jupyter.widget-view+json": {
       "version_major": 2,
       "version_minor": 0,
       "model_id": "f019a551eeea4b98b09168e0ad7c8165"
      }
     },
     "metadata": {},
     "output_type": "display_data"
    },
    {
     "name": "stdout",
     "output_type": "stream",
     "text": [
      "Accuracy of the sign network on the test images: 100.00%\n"
     ]
    },
    {
     "data": {
      "text/plain": "  0%|          | 0/2657 [00:00<?, ?it/s]",
      "application/vnd.jupyter.widget-view+json": {
       "version_major": 2,
       "version_minor": 0,
       "model_id": "7c1ce7bee72c4116862250501799a0c9"
      }
     },
     "metadata": {},
     "output_type": "display_data"
    },
    {
     "name": "stdout",
     "output_type": "stream",
     "text": [
      "Accuracy of the sign network on the test images: 100.00%\n"
     ]
    },
    {
     "data": {
      "text/plain": "  0%|          | 0/2657 [00:00<?, ?it/s]",
      "application/vnd.jupyter.widget-view+json": {
       "version_major": 2,
       "version_minor": 0,
       "model_id": "bf0490fe15474596b7ab0e18b15a6d94"
      }
     },
     "metadata": {},
     "output_type": "display_data"
    },
    {
     "name": "stdout",
     "output_type": "stream",
     "text": [
      "Accuracy of the sign network on the test images: 99.99%\n"
     ]
    },
    {
     "data": {
      "text/plain": "  0%|          | 0/2657 [00:00<?, ?it/s]",
      "application/vnd.jupyter.widget-view+json": {
       "version_major": 2,
       "version_minor": 0,
       "model_id": "a6fb02c97fa645c1ab9e5e46da869874"
      }
     },
     "metadata": {},
     "output_type": "display_data"
    },
    {
     "name": "stdout",
     "output_type": "stream",
     "text": [
      "Accuracy of the sign network on the test images: 99.99%\n"
     ]
    },
    {
     "data": {
      "text/plain": "  0%|          | 0/2657 [00:00<?, ?it/s]",
      "application/vnd.jupyter.widget-view+json": {
       "version_major": 2,
       "version_minor": 0,
       "model_id": "e4a64b6dd210437fb698fe1f829fa21d"
      }
     },
     "metadata": {},
     "output_type": "display_data"
    },
    {
     "name": "stdout",
     "output_type": "stream",
     "text": [
      "Accuracy of the sign network on the test images: 99.99%\n"
     ]
    },
    {
     "data": {
      "text/plain": "  0%|          | 0/2657 [00:00<?, ?it/s]",
      "application/vnd.jupyter.widget-view+json": {
       "version_major": 2,
       "version_minor": 0,
       "model_id": "4aa7055b4e834a71bc42655c46432ee0"
      }
     },
     "metadata": {},
     "output_type": "display_data"
    },
    {
     "name": "stdout",
     "output_type": "stream",
     "text": [
      "Accuracy of the sign network on the test images: 100.00%\n"
     ]
    },
    {
     "data": {
      "text/plain": "  0%|          | 0/2657 [00:00<?, ?it/s]",
      "application/vnd.jupyter.widget-view+json": {
       "version_major": 2,
       "version_minor": 0,
       "model_id": "a14338ffbac645c4b5a5758f6e5f0222"
      }
     },
     "metadata": {},
     "output_type": "display_data"
    },
    {
     "name": "stdout",
     "output_type": "stream",
     "text": [
      "Accuracy of the sign network on the test images: 100.00%\n"
     ]
    },
    {
     "data": {
      "text/plain": "  0%|          | 0/2657 [00:00<?, ?it/s]",
      "application/vnd.jupyter.widget-view+json": {
       "version_major": 2,
       "version_minor": 0,
       "model_id": "cbc2dd1787764b13ab40e0ea0a8b2000"
      }
     },
     "metadata": {},
     "output_type": "display_data"
    },
    {
     "name": "stdout",
     "output_type": "stream",
     "text": [
      "Accuracy of the sign network on the test images: 100.00%\n"
     ]
    },
    {
     "data": {
      "text/plain": "  0%|          | 0/2657 [00:00<?, ?it/s]",
      "application/vnd.jupyter.widget-view+json": {
       "version_major": 2,
       "version_minor": 0,
       "model_id": "4d25803ce7ab44d98a54d025d1631929"
      }
     },
     "metadata": {},
     "output_type": "display_data"
    },
    {
     "name": "stdout",
     "output_type": "stream",
     "text": [
      "Accuracy of the sign network on the test images: 100.00%\n"
     ]
    },
    {
     "data": {
      "text/plain": "  0%|          | 0/2657 [00:00<?, ?it/s]",
      "application/vnd.jupyter.widget-view+json": {
       "version_major": 2,
       "version_minor": 0,
       "model_id": "b6910f0f5df74a3a8878347b62f367bd"
      }
     },
     "metadata": {},
     "output_type": "display_data"
    },
    {
     "name": "stdout",
     "output_type": "stream",
     "text": [
      "Accuracy of the sign network on the test images: 100.00%\n"
     ]
    },
    {
     "data": {
      "text/plain": "  0%|          | 0/2657 [00:00<?, ?it/s]",
      "application/vnd.jupyter.widget-view+json": {
       "version_major": 2,
       "version_minor": 0,
       "model_id": "e01dcbe4b970426ab5317890afd362a7"
      }
     },
     "metadata": {},
     "output_type": "display_data"
    },
    {
     "name": "stdout",
     "output_type": "stream",
     "text": [
      "Accuracy of the sign network on the test images: 100.00%\n"
     ]
    },
    {
     "data": {
      "text/plain": "  0%|          | 0/2657 [00:00<?, ?it/s]",
      "application/vnd.jupyter.widget-view+json": {
       "version_major": 2,
       "version_minor": 0,
       "model_id": "403a9cd0891546da93aaa1065b7f7129"
      }
     },
     "metadata": {},
     "output_type": "display_data"
    },
    {
     "name": "stdout",
     "output_type": "stream",
     "text": [
      "Accuracy of the sign network on the test images: 100.00%\n"
     ]
    },
    {
     "data": {
      "text/plain": "  0%|          | 0/2657 [00:00<?, ?it/s]",
      "application/vnd.jupyter.widget-view+json": {
       "version_major": 2,
       "version_minor": 0,
       "model_id": "51624d6513754ed889fc0ea22fc235be"
      }
     },
     "metadata": {},
     "output_type": "display_data"
    },
    {
     "name": "stdout",
     "output_type": "stream",
     "text": [
      "Accuracy of the sign network on the test images: 100.00%\n"
     ]
    },
    {
     "data": {
      "text/plain": "  0%|          | 0/2657 [00:00<?, ?it/s]",
      "application/vnd.jupyter.widget-view+json": {
       "version_major": 2,
       "version_minor": 0,
       "model_id": "8699cf69403040f1bdcbe638bc178c0c"
      }
     },
     "metadata": {},
     "output_type": "display_data"
    },
    {
     "name": "stdout",
     "output_type": "stream",
     "text": [
      "Accuracy of the sign network on the test images: 100.00%\n"
     ]
    },
    {
     "data": {
      "text/plain": "  0%|          | 0/2657 [00:00<?, ?it/s]",
      "application/vnd.jupyter.widget-view+json": {
       "version_major": 2,
       "version_minor": 0,
       "model_id": "d9e68a06389a4e3880ba16c579c0cb32"
      }
     },
     "metadata": {},
     "output_type": "display_data"
    },
    {
     "name": "stdout",
     "output_type": "stream",
     "text": [
      "Accuracy of the sign network on the test images: 100.00%\n"
     ]
    },
    {
     "data": {
      "text/plain": "  0%|          | 0/2657 [00:00<?, ?it/s]",
      "application/vnd.jupyter.widget-view+json": {
       "version_major": 2,
       "version_minor": 0,
       "model_id": "a826679178974c438f2315c3e5775d67"
      }
     },
     "metadata": {},
     "output_type": "display_data"
    },
    {
     "name": "stdout",
     "output_type": "stream",
     "text": [
      "Accuracy of the sign network on the test images: 100.00%\n"
     ]
    },
    {
     "data": {
      "text/plain": "  0%|          | 0/1094 [00:00<?, ?it/s]",
      "application/vnd.jupyter.widget-view+json": {
       "version_major": 2,
       "version_minor": 0,
       "model_id": "e90d2c0fd3514cbcbb704d029e45e8e8"
      }
     },
     "metadata": {},
     "output_type": "display_data"
    },
    {
     "name": "stdout",
     "output_type": "stream",
     "text": [
      "Accuracy of the network on the test images: 99.87%\n"
     ]
    },
    {
     "data": {
      "text/plain": "  0%|          | 0/1094 [00:00<?, ?it/s]",
      "application/vnd.jupyter.widget-view+json": {
       "version_major": 2,
       "version_minor": 0,
       "model_id": "1cefd608c6304ace89e94a07fa5e0540"
      }
     },
     "metadata": {},
     "output_type": "display_data"
    },
    {
     "name": "stdout",
     "output_type": "stream",
     "text": [
      "Accuracy of the network on the test images: 99.93%\n"
     ]
    },
    {
     "data": {
      "text/plain": "  0%|          | 0/1094 [00:00<?, ?it/s]",
      "application/vnd.jupyter.widget-view+json": {
       "version_major": 2,
       "version_minor": 0,
       "model_id": "3518c289129f44babbb8843f4fd7bc6a"
      }
     },
     "metadata": {},
     "output_type": "display_data"
    },
    {
     "name": "stdout",
     "output_type": "stream",
     "text": [
      "Accuracy of the network on the test images: 99.73%\n"
     ]
    },
    {
     "data": {
      "text/plain": "  0%|          | 0/1094 [00:00<?, ?it/s]",
      "application/vnd.jupyter.widget-view+json": {
       "version_major": 2,
       "version_minor": 0,
       "model_id": "7a82ec596e49439ba601ed61a6a0d130"
      }
     },
     "metadata": {},
     "output_type": "display_data"
    },
    {
     "name": "stdout",
     "output_type": "stream",
     "text": [
      "Accuracy of the network on the test images: 99.96%\n"
     ]
    },
    {
     "data": {
      "text/plain": "  0%|          | 0/1094 [00:00<?, ?it/s]",
      "application/vnd.jupyter.widget-view+json": {
       "version_major": 2,
       "version_minor": 0,
       "model_id": "7a3949fc9a5a461597dcf04daf3eb227"
      }
     },
     "metadata": {},
     "output_type": "display_data"
    },
    {
     "name": "stdout",
     "output_type": "stream",
     "text": [
      "Accuracy of the network on the test images: 99.94%\n"
     ]
    },
    {
     "data": {
      "text/plain": "  0%|          | 0/1094 [00:00<?, ?it/s]",
      "application/vnd.jupyter.widget-view+json": {
       "version_major": 2,
       "version_minor": 0,
       "model_id": "03eba92630394c1b904463724ddb71f4"
      }
     },
     "metadata": {},
     "output_type": "display_data"
    },
    {
     "name": "stdout",
     "output_type": "stream",
     "text": [
      "Accuracy of the network on the test images: 99.97%\n"
     ]
    },
    {
     "data": {
      "text/plain": "  0%|          | 0/1094 [00:00<?, ?it/s]",
      "application/vnd.jupyter.widget-view+json": {
       "version_major": 2,
       "version_minor": 0,
       "model_id": "2c816c405c314d04845cca77b04f382d"
      }
     },
     "metadata": {},
     "output_type": "display_data"
    },
    {
     "name": "stdout",
     "output_type": "stream",
     "text": [
      "Accuracy of the network on the test images: 99.98%\n"
     ]
    },
    {
     "data": {
      "text/plain": "  0%|          | 0/1094 [00:00<?, ?it/s]",
      "application/vnd.jupyter.widget-view+json": {
       "version_major": 2,
       "version_minor": 0,
       "model_id": "b80b69725ad34d66a3210e8986ba3980"
      }
     },
     "metadata": {},
     "output_type": "display_data"
    },
    {
     "name": "stdout",
     "output_type": "stream",
     "text": [
      "Accuracy of the network on the test images: 99.98%\n"
     ]
    },
    {
     "data": {
      "text/plain": "  0%|          | 0/1094 [00:00<?, ?it/s]",
      "application/vnd.jupyter.widget-view+json": {
       "version_major": 2,
       "version_minor": 0,
       "model_id": "c961639333d6447ebdca2560d551a21f"
      }
     },
     "metadata": {},
     "output_type": "display_data"
    },
    {
     "name": "stdout",
     "output_type": "stream",
     "text": [
      "Accuracy of the network on the test images: 99.98%\n"
     ]
    },
    {
     "data": {
      "text/plain": "  0%|          | 0/1094 [00:00<?, ?it/s]",
      "application/vnd.jupyter.widget-view+json": {
       "version_major": 2,
       "version_minor": 0,
       "model_id": "04c30c805c3d495e843ed16da2afd0c7"
      }
     },
     "metadata": {},
     "output_type": "display_data"
    },
    {
     "name": "stdout",
     "output_type": "stream",
     "text": [
      "Accuracy of the network on the test images: 99.98%\n"
     ]
    },
    {
     "data": {
      "text/plain": "  0%|          | 0/1094 [00:00<?, ?it/s]",
      "application/vnd.jupyter.widget-view+json": {
       "version_major": 2,
       "version_minor": 0,
       "model_id": "ef10e20d2e544f68b37f65e040c6b5f2"
      }
     },
     "metadata": {},
     "output_type": "display_data"
    },
    {
     "name": "stdout",
     "output_type": "stream",
     "text": [
      "Accuracy of the network on the test images: 99.98%\n"
     ]
    },
    {
     "data": {
      "text/plain": "  0%|          | 0/1094 [00:00<?, ?it/s]",
      "application/vnd.jupyter.widget-view+json": {
       "version_major": 2,
       "version_minor": 0,
       "model_id": "8d7520a0938a4918804abd3d7c7db392"
      }
     },
     "metadata": {},
     "output_type": "display_data"
    },
    {
     "name": "stdout",
     "output_type": "stream",
     "text": [
      "Accuracy of the network on the test images: 99.98%\n"
     ]
    },
    {
     "data": {
      "text/plain": "  0%|          | 0/1094 [00:00<?, ?it/s]",
      "application/vnd.jupyter.widget-view+json": {
       "version_major": 2,
       "version_minor": 0,
       "model_id": "0b83f61500cb456f84487fe2276f48b0"
      }
     },
     "metadata": {},
     "output_type": "display_data"
    },
    {
     "name": "stdout",
     "output_type": "stream",
     "text": [
      "Accuracy of the network on the test images: 99.98%\n"
     ]
    },
    {
     "data": {
      "text/plain": "  0%|          | 0/1094 [00:00<?, ?it/s]",
      "application/vnd.jupyter.widget-view+json": {
       "version_major": 2,
       "version_minor": 0,
       "model_id": "3639ab65ce9046e49ebfd27654d42e47"
      }
     },
     "metadata": {},
     "output_type": "display_data"
    },
    {
     "name": "stdout",
     "output_type": "stream",
     "text": [
      "Accuracy of the network on the test images: 99.98%\n"
     ]
    },
    {
     "data": {
      "text/plain": "  0%|          | 0/1094 [00:00<?, ?it/s]",
      "application/vnd.jupyter.widget-view+json": {
       "version_major": 2,
       "version_minor": 0,
       "model_id": "7d8b83d6a16b4f6d83de3e183d242c3b"
      }
     },
     "metadata": {},
     "output_type": "display_data"
    },
    {
     "name": "stdout",
     "output_type": "stream",
     "text": [
      "Accuracy of the network on the test images: 99.97%\n"
     ]
    },
    {
     "data": {
      "text/plain": "  0%|          | 0/1094 [00:00<?, ?it/s]",
      "application/vnd.jupyter.widget-view+json": {
       "version_major": 2,
       "version_minor": 0,
       "model_id": "2535fc4af28948efa7dda6c74c00d06e"
      }
     },
     "metadata": {},
     "output_type": "display_data"
    },
    {
     "name": "stdout",
     "output_type": "stream",
     "text": [
      "Accuracy of the network on the test images: 99.98%\n"
     ]
    },
    {
     "data": {
      "text/plain": "  0%|          | 0/1094 [00:00<?, ?it/s]",
      "application/vnd.jupyter.widget-view+json": {
       "version_major": 2,
       "version_minor": 0,
       "model_id": "822a52acfe4e4b8bb6ce189f6c27398a"
      }
     },
     "metadata": {},
     "output_type": "display_data"
    },
    {
     "name": "stdout",
     "output_type": "stream",
     "text": [
      "Accuracy of the network on the test images: 99.98%\n"
     ]
    },
    {
     "data": {
      "text/plain": "  0%|          | 0/1094 [00:00<?, ?it/s]",
      "application/vnd.jupyter.widget-view+json": {
       "version_major": 2,
       "version_minor": 0,
       "model_id": "eb9d688a52674d86b627d7c96a087e80"
      }
     },
     "metadata": {},
     "output_type": "display_data"
    },
    {
     "name": "stdout",
     "output_type": "stream",
     "text": [
      "Accuracy of the network on the test images: 99.96%\n"
     ]
    },
    {
     "data": {
      "text/plain": "  0%|          | 0/1094 [00:00<?, ?it/s]",
      "application/vnd.jupyter.widget-view+json": {
       "version_major": 2,
       "version_minor": 0,
       "model_id": "a7de92e3639c49a39cf858f474e141e3"
      }
     },
     "metadata": {},
     "output_type": "display_data"
    },
    {
     "name": "stdout",
     "output_type": "stream",
     "text": [
      "Accuracy of the network on the test images: 99.96%\n"
     ]
    },
    {
     "data": {
      "text/plain": "  0%|          | 0/1094 [00:00<?, ?it/s]",
      "application/vnd.jupyter.widget-view+json": {
       "version_major": 2,
       "version_minor": 0,
       "model_id": "123f367f11084824bae7cb0b0d81ead0"
      }
     },
     "metadata": {},
     "output_type": "display_data"
    },
    {
     "name": "stdout",
     "output_type": "stream",
     "text": [
      "Accuracy of the network on the test images: 99.96%\n"
     ]
    },
    {
     "data": {
      "text/plain": "  0%|          | 0/1094 [00:00<?, ?it/s]",
      "application/vnd.jupyter.widget-view+json": {
       "version_major": 2,
       "version_minor": 0,
       "model_id": "658593bc73f642a983a705a434650b6e"
      }
     },
     "metadata": {},
     "output_type": "display_data"
    },
    {
     "name": "stdout",
     "output_type": "stream",
     "text": [
      "Accuracy of the network on the test images: 99.83%\n"
     ]
    },
    {
     "data": {
      "text/plain": "  0%|          | 0/1094 [00:00<?, ?it/s]",
      "application/vnd.jupyter.widget-view+json": {
       "version_major": 2,
       "version_minor": 0,
       "model_id": "3a91da5e83b7464c84a6efec3b8636df"
      }
     },
     "metadata": {},
     "output_type": "display_data"
    },
    {
     "name": "stdout",
     "output_type": "stream",
     "text": [
      "Accuracy of the network on the test images: 99.83%\n"
     ]
    },
    {
     "data": {
      "text/plain": "  0%|          | 0/1094 [00:00<?, ?it/s]",
      "application/vnd.jupyter.widget-view+json": {
       "version_major": 2,
       "version_minor": 0,
       "model_id": "60cb706755ea4f7c80a225373cdff1fa"
      }
     },
     "metadata": {},
     "output_type": "display_data"
    },
    {
     "name": "stdout",
     "output_type": "stream",
     "text": [
      "Accuracy of the network on the test images: 99.98%\n"
     ]
    },
    {
     "data": {
      "text/plain": "  0%|          | 0/1094 [00:00<?, ?it/s]",
      "application/vnd.jupyter.widget-view+json": {
       "version_major": 2,
       "version_minor": 0,
       "model_id": "1de60147713f436886d41f8aaa6b93e1"
      }
     },
     "metadata": {},
     "output_type": "display_data"
    },
    {
     "name": "stdout",
     "output_type": "stream",
     "text": [
      "Accuracy of the network on the test images: 99.73%\n"
     ]
    },
    {
     "data": {
      "text/plain": "  0%|          | 0/1094 [00:00<?, ?it/s]",
      "application/vnd.jupyter.widget-view+json": {
       "version_major": 2,
       "version_minor": 0,
       "model_id": "e99aad42254d40d5b9d26f7312cf4907"
      }
     },
     "metadata": {},
     "output_type": "display_data"
    },
    {
     "name": "stdout",
     "output_type": "stream",
     "text": [
      "Accuracy of the network on the test images: 99.97%\n"
     ]
    },
    {
     "data": {
      "text/plain": "  0%|          | 0/1094 [00:00<?, ?it/s]",
      "application/vnd.jupyter.widget-view+json": {
       "version_major": 2,
       "version_minor": 0,
       "model_id": "b0d52cbbfd924a23b04a359f0a50cfc4"
      }
     },
     "metadata": {},
     "output_type": "display_data"
    },
    {
     "name": "stdout",
     "output_type": "stream",
     "text": [
      "Accuracy of the network on the test images: 99.89%\n"
     ]
    },
    {
     "data": {
      "text/plain": "  0%|          | 0/1094 [00:00<?, ?it/s]",
      "application/vnd.jupyter.widget-view+json": {
       "version_major": 2,
       "version_minor": 0,
       "model_id": "443a41477d1a4b69ac433d92ead96157"
      }
     },
     "metadata": {},
     "output_type": "display_data"
    },
    {
     "name": "stdout",
     "output_type": "stream",
     "text": [
      "Accuracy of the network on the test images: 99.98%\n"
     ]
    },
    {
     "data": {
      "text/plain": "  0%|          | 0/1094 [00:00<?, ?it/s]",
      "application/vnd.jupyter.widget-view+json": {
       "version_major": 2,
       "version_minor": 0,
       "model_id": "896f9cefb28a4e31a81a896f1315146d"
      }
     },
     "metadata": {},
     "output_type": "display_data"
    },
    {
     "name": "stdout",
     "output_type": "stream",
     "text": [
      "Accuracy of the network on the test images: 99.95%\n"
     ]
    },
    {
     "data": {
      "text/plain": "  0%|          | 0/1094 [00:00<?, ?it/s]",
      "application/vnd.jupyter.widget-view+json": {
       "version_major": 2,
       "version_minor": 0,
       "model_id": "afa43adc0c6a4809b1a6783bade8055d"
      }
     },
     "metadata": {},
     "output_type": "display_data"
    },
    {
     "name": "stdout",
     "output_type": "stream",
     "text": [
      "Accuracy of the network on the test images: 99.96%\n"
     ]
    },
    {
     "data": {
      "text/plain": "  0%|          | 0/1094 [00:00<?, ?it/s]",
      "application/vnd.jupyter.widget-view+json": {
       "version_major": 2,
       "version_minor": 0,
       "model_id": "968b5fe8220f4e2baa545c437bd16c28"
      }
     },
     "metadata": {},
     "output_type": "display_data"
    },
    {
     "name": "stdout",
     "output_type": "stream",
     "text": [
      "Accuracy of the network on the test images: 99.97%\n"
     ]
    },
    {
     "data": {
      "text/plain": "  0%|          | 0/1094 [00:00<?, ?it/s]",
      "application/vnd.jupyter.widget-view+json": {
       "version_major": 2,
       "version_minor": 0,
       "model_id": "24010c699fc54e0a91172f5b6d294d5d"
      }
     },
     "metadata": {},
     "output_type": "display_data"
    },
    {
     "name": "stdout",
     "output_type": "stream",
     "text": [
      "Accuracy of the network on the test images: 99.97%\n"
     ]
    },
    {
     "data": {
      "text/plain": "  0%|          | 0/1094 [00:00<?, ?it/s]",
      "application/vnd.jupyter.widget-view+json": {
       "version_major": 2,
       "version_minor": 0,
       "model_id": "92802fdffb16424090fb48768d98ca79"
      }
     },
     "metadata": {},
     "output_type": "display_data"
    },
    {
     "name": "stdout",
     "output_type": "stream",
     "text": [
      "Accuracy of the network on the test images: 99.98%\n"
     ]
    },
    {
     "data": {
      "text/plain": "  0%|          | 0/1094 [00:00<?, ?it/s]",
      "application/vnd.jupyter.widget-view+json": {
       "version_major": 2,
       "version_minor": 0,
       "model_id": "b24b15c24f4a4d7abee2e222c9b729a0"
      }
     },
     "metadata": {},
     "output_type": "display_data"
    },
    {
     "name": "stdout",
     "output_type": "stream",
     "text": [
      "Accuracy of the network on the test images: 99.94%\n"
     ]
    },
    {
     "data": {
      "text/plain": "  0%|          | 0/1094 [00:00<?, ?it/s]",
      "application/vnd.jupyter.widget-view+json": {
       "version_major": 2,
       "version_minor": 0,
       "model_id": "59959954f6354818a16d022f50aa71ed"
      }
     },
     "metadata": {},
     "output_type": "display_data"
    },
    {
     "name": "stdout",
     "output_type": "stream",
     "text": [
      "Accuracy of the network on the test images: 99.87%\n"
     ]
    },
    {
     "data": {
      "text/plain": "  0%|          | 0/1094 [00:00<?, ?it/s]",
      "application/vnd.jupyter.widget-view+json": {
       "version_major": 2,
       "version_minor": 0,
       "model_id": "ebeb8a8cfeaa4fc1b65183883f9e8b68"
      }
     },
     "metadata": {},
     "output_type": "display_data"
    },
    {
     "name": "stdout",
     "output_type": "stream",
     "text": [
      "Accuracy of the network on the test images: 100.00%\n"
     ]
    },
    {
     "data": {
      "text/plain": "  0%|          | 0/1094 [00:00<?, ?it/s]",
      "application/vnd.jupyter.widget-view+json": {
       "version_major": 2,
       "version_minor": 0,
       "model_id": "3176ada2b8f24d7b900aa30575785ff7"
      }
     },
     "metadata": {},
     "output_type": "display_data"
    },
    {
     "name": "stdout",
     "output_type": "stream",
     "text": [
      "Accuracy of the network on the test images: 99.97%\n"
     ]
    },
    {
     "data": {
      "text/plain": "  0%|          | 0/1094 [00:00<?, ?it/s]",
      "application/vnd.jupyter.widget-view+json": {
       "version_major": 2,
       "version_minor": 0,
       "model_id": "e9820120e73041f4ae110b0b0710e408"
      }
     },
     "metadata": {},
     "output_type": "display_data"
    },
    {
     "name": "stdout",
     "output_type": "stream",
     "text": [
      "Accuracy of the network on the test images: 99.97%\n"
     ]
    },
    {
     "data": {
      "text/plain": "  0%|          | 0/1094 [00:00<?, ?it/s]",
      "application/vnd.jupyter.widget-view+json": {
       "version_major": 2,
       "version_minor": 0,
       "model_id": "39d41a9dd9a04e08acdd507c152d40a4"
      }
     },
     "metadata": {},
     "output_type": "display_data"
    },
    {
     "name": "stdout",
     "output_type": "stream",
     "text": [
      "Accuracy of the network on the test images: 99.98%\n"
     ]
    },
    {
     "data": {
      "text/plain": "  0%|          | 0/1094 [00:00<?, ?it/s]",
      "application/vnd.jupyter.widget-view+json": {
       "version_major": 2,
       "version_minor": 0,
       "model_id": "d0f71b0847e9405c9ef75dbbe9343e28"
      }
     },
     "metadata": {},
     "output_type": "display_data"
    },
    {
     "name": "stdout",
     "output_type": "stream",
     "text": [
      "Accuracy of the network on the test images: 99.98%\n"
     ]
    },
    {
     "data": {
      "text/plain": "  0%|          | 0/1094 [00:00<?, ?it/s]",
      "application/vnd.jupyter.widget-view+json": {
       "version_major": 2,
       "version_minor": 0,
       "model_id": "eb0e1d8e3dd34e4aafab769035112d93"
      }
     },
     "metadata": {},
     "output_type": "display_data"
    },
    {
     "name": "stdout",
     "output_type": "stream",
     "text": [
      "Accuracy of the network on the test images: 99.98%\n"
     ]
    },
    {
     "data": {
      "text/plain": "  0%|          | 0/1094 [00:00<?, ?it/s]",
      "application/vnd.jupyter.widget-view+json": {
       "version_major": 2,
       "version_minor": 0,
       "model_id": "ae58d0ab4bde4a929846bae11cd3ee9f"
      }
     },
     "metadata": {},
     "output_type": "display_data"
    },
    {
     "name": "stdout",
     "output_type": "stream",
     "text": [
      "Accuracy of the network on the test images: 97.66%\n"
     ]
    },
    {
     "data": {
      "text/plain": "  0%|          | 0/1094 [00:00<?, ?it/s]",
      "application/vnd.jupyter.widget-view+json": {
       "version_major": 2,
       "version_minor": 0,
       "model_id": "58d2aad9f70642c0b4f2de7a9f0ae85c"
      }
     },
     "metadata": {},
     "output_type": "display_data"
    },
    {
     "name": "stdout",
     "output_type": "stream",
     "text": [
      "Accuracy of the network on the test images: 97.94%\n"
     ]
    },
    {
     "data": {
      "text/plain": "  0%|          | 0/1094 [00:00<?, ?it/s]",
      "application/vnd.jupyter.widget-view+json": {
       "version_major": 2,
       "version_minor": 0,
       "model_id": "66ce64ee2a3049ada027786f36c502ca"
      }
     },
     "metadata": {},
     "output_type": "display_data"
    },
    {
     "name": "stdout",
     "output_type": "stream",
     "text": [
      "Accuracy of the network on the test images: 98.46%\n"
     ]
    },
    {
     "data": {
      "text/plain": "  0%|          | 0/1094 [00:00<?, ?it/s]",
      "application/vnd.jupyter.widget-view+json": {
       "version_major": 2,
       "version_minor": 0,
       "model_id": "d917777d82144e24b586506ae211de28"
      }
     },
     "metadata": {},
     "output_type": "display_data"
    },
    {
     "name": "stdout",
     "output_type": "stream",
     "text": [
      "Accuracy of the network on the test images: 98.35%\n"
     ]
    },
    {
     "data": {
      "text/plain": "  0%|          | 0/1094 [00:00<?, ?it/s]",
      "application/vnd.jupyter.widget-view+json": {
       "version_major": 2,
       "version_minor": 0,
       "model_id": "419029cc467c4cebb65b5d37aa5975d4"
      }
     },
     "metadata": {},
     "output_type": "display_data"
    },
    {
     "name": "stdout",
     "output_type": "stream",
     "text": [
      "Accuracy of the network on the test images: 98.93%\n"
     ]
    },
    {
     "data": {
      "text/plain": "  0%|          | 0/1094 [00:00<?, ?it/s]",
      "application/vnd.jupyter.widget-view+json": {
       "version_major": 2,
       "version_minor": 0,
       "model_id": "b52b49f98cac4f0d960e8bd266ecc889"
      }
     },
     "metadata": {},
     "output_type": "display_data"
    },
    {
     "name": "stdout",
     "output_type": "stream",
     "text": [
      "Accuracy of the network on the test images: 98.42%\n"
     ]
    },
    {
     "data": {
      "text/plain": "  0%|          | 0/1094 [00:00<?, ?it/s]",
      "application/vnd.jupyter.widget-view+json": {
       "version_major": 2,
       "version_minor": 0,
       "model_id": "5ce4eb84c86b41b7b619a622a4215b69"
      }
     },
     "metadata": {},
     "output_type": "display_data"
    },
    {
     "name": "stdout",
     "output_type": "stream",
     "text": [
      "Accuracy of the network on the test images: 99.15%\n"
     ]
    },
    {
     "data": {
      "text/plain": "  0%|          | 0/1094 [00:00<?, ?it/s]",
      "application/vnd.jupyter.widget-view+json": {
       "version_major": 2,
       "version_minor": 0,
       "model_id": "31aa223a177c4640baf6d6c8b937ddb9"
      }
     },
     "metadata": {},
     "output_type": "display_data"
    },
    {
     "name": "stdout",
     "output_type": "stream",
     "text": [
      "Accuracy of the network on the test images: 99.02%\n"
     ]
    },
    {
     "data": {
      "text/plain": "  0%|          | 0/1094 [00:00<?, ?it/s]",
      "application/vnd.jupyter.widget-view+json": {
       "version_major": 2,
       "version_minor": 0,
       "model_id": "5925c4f801554959acfd2fbb4b0f2254"
      }
     },
     "metadata": {},
     "output_type": "display_data"
    },
    {
     "name": "stdout",
     "output_type": "stream",
     "text": [
      "Accuracy of the network on the test images: 99.15%\n"
     ]
    },
    {
     "data": {
      "text/plain": "  0%|          | 0/1094 [00:00<?, ?it/s]",
      "application/vnd.jupyter.widget-view+json": {
       "version_major": 2,
       "version_minor": 0,
       "model_id": "6a016a60d6b040299d4d59961a2d0daa"
      }
     },
     "metadata": {},
     "output_type": "display_data"
    },
    {
     "name": "stdout",
     "output_type": "stream",
     "text": [
      "Accuracy of the network on the test images: 99.06%\n"
     ]
    },
    {
     "data": {
      "text/plain": "  0%|          | 0/1094 [00:00<?, ?it/s]",
      "application/vnd.jupyter.widget-view+json": {
       "version_major": 2,
       "version_minor": 0,
       "model_id": "e26e4b2629ac41a78865507ea34ac381"
      }
     },
     "metadata": {},
     "output_type": "display_data"
    },
    {
     "name": "stdout",
     "output_type": "stream",
     "text": [
      "Accuracy of the network on the test images: 98.99%\n"
     ]
    },
    {
     "data": {
      "text/plain": "  0%|          | 0/1094 [00:00<?, ?it/s]",
      "application/vnd.jupyter.widget-view+json": {
       "version_major": 2,
       "version_minor": 0,
       "model_id": "6ae9e83d3e244586944863bce1c03797"
      }
     },
     "metadata": {},
     "output_type": "display_data"
    },
    {
     "name": "stdout",
     "output_type": "stream",
     "text": [
      "Accuracy of the network on the test images: 98.93%\n"
     ]
    },
    {
     "data": {
      "text/plain": "  0%|          | 0/1094 [00:00<?, ?it/s]",
      "application/vnd.jupyter.widget-view+json": {
       "version_major": 2,
       "version_minor": 0,
       "model_id": "53fa434e8f5e4a459057b5c65c4c44c1"
      }
     },
     "metadata": {},
     "output_type": "display_data"
    },
    {
     "name": "stdout",
     "output_type": "stream",
     "text": [
      "Accuracy of the network on the test images: 99.01%\n"
     ]
    },
    {
     "data": {
      "text/plain": "  0%|          | 0/1094 [00:00<?, ?it/s]",
      "application/vnd.jupyter.widget-view+json": {
       "version_major": 2,
       "version_minor": 0,
       "model_id": "8af754759f5e4414a5a65654228e8cce"
      }
     },
     "metadata": {},
     "output_type": "display_data"
    },
    {
     "name": "stdout",
     "output_type": "stream",
     "text": [
      "Accuracy of the network on the test images: 98.85%\n"
     ]
    },
    {
     "data": {
      "text/plain": "  0%|          | 0/1094 [00:00<?, ?it/s]",
      "application/vnd.jupyter.widget-view+json": {
       "version_major": 2,
       "version_minor": 0,
       "model_id": "a711cbb7fe2244f9bc7578dfec81692f"
      }
     },
     "metadata": {},
     "output_type": "display_data"
    },
    {
     "name": "stdout",
     "output_type": "stream",
     "text": [
      "Accuracy of the network on the test images: 98.77%\n"
     ]
    },
    {
     "data": {
      "text/plain": "  0%|          | 0/1094 [00:00<?, ?it/s]",
      "application/vnd.jupyter.widget-view+json": {
       "version_major": 2,
       "version_minor": 0,
       "model_id": "3f9487eb433c4728bec3bab25999c6f4"
      }
     },
     "metadata": {},
     "output_type": "display_data"
    },
    {
     "name": "stdout",
     "output_type": "stream",
     "text": [
      "Accuracy of the network on the test images: 99.02%\n"
     ]
    },
    {
     "data": {
      "text/plain": "  0%|          | 0/1094 [00:00<?, ?it/s]",
      "application/vnd.jupyter.widget-view+json": {
       "version_major": 2,
       "version_minor": 0,
       "model_id": "fded715c9bc94d8a903ad1973bc0785d"
      }
     },
     "metadata": {},
     "output_type": "display_data"
    },
    {
     "name": "stdout",
     "output_type": "stream",
     "text": [
      "Accuracy of the network on the test images: 99.08%\n"
     ]
    },
    {
     "data": {
      "text/plain": "  0%|          | 0/1094 [00:00<?, ?it/s]",
      "application/vnd.jupyter.widget-view+json": {
       "version_major": 2,
       "version_minor": 0,
       "model_id": "a64c68bb200d4338ace26e66a6c654a2"
      }
     },
     "metadata": {},
     "output_type": "display_data"
    },
    {
     "name": "stdout",
     "output_type": "stream",
     "text": [
      "Accuracy of the network on the test images: 99.10%\n"
     ]
    },
    {
     "data": {
      "text/plain": "  0%|          | 0/1094 [00:00<?, ?it/s]",
      "application/vnd.jupyter.widget-view+json": {
       "version_major": 2,
       "version_minor": 0,
       "model_id": "f2cf4011d8d440f9a37969273f022aef"
      }
     },
     "metadata": {},
     "output_type": "display_data"
    },
    {
     "name": "stdout",
     "output_type": "stream",
     "text": [
      "Accuracy of the network on the test images: 99.35%\n"
     ]
    },
    {
     "data": {
      "text/plain": "  0%|          | 0/1094 [00:00<?, ?it/s]",
      "application/vnd.jupyter.widget-view+json": {
       "version_major": 2,
       "version_minor": 0,
       "model_id": "181c92d0a9f64a579926d2363bc0da98"
      }
     },
     "metadata": {},
     "output_type": "display_data"
    },
    {
     "name": "stdout",
     "output_type": "stream",
     "text": [
      "Accuracy of the network on the test images: 99.03%\n",
      "Computing principal space ...\n",
      "Computing principal space ...\n",
      "Computing alpha ...\n",
      "Computing alpha ...\n",
      "self.alpha=8.7390\n",
      "self.alpha=8.7390\n",
      "Fitting with temperature scaling\n",
      "label: y1.unique()=tensor([ 0,  1,  2,  3,  4,  5,  6,  7,  8,  9, 10, 11, 12, 13, 14, 15, 16, 17,\n",
      "        18, 19, 20, 21, 22, 23, 24, 25, 26, 27, 28, 29, 30, 31, 32, 33, 34, 35,\n",
      "        36, 37, 38, 39, 40, 41, 42]) logits_label.shape=torch.Size([4209, 43])\n",
      "Initial T/NLL: 1.000/0.002\n",
      "Initial T/NLL: 1.000/0.002\n",
      "Optimal temperature: 1.0000033378601074\n",
      "Optimal temperature: 1.0000033378601074\n",
      "NLL after scaling: 0.00'\n",
      "NLL after scaling: 0.00'\n",
      "color: y2.unique()=tensor([0, 1, 2, 3]) logits_color.shape=torch.Size([4209, 4])\n",
      "Initial T/NLL: 1.000/0.000\n",
      "Initial T/NLL: 1.000/0.000\n",
      "Optimal temperature: 0.9999989867210388\n",
      "Optimal temperature: 0.9999989867210388\n",
      "NLL after scaling: 0.00'\n",
      "NLL after scaling: 0.00'\n",
      "shape: y3.unique()=tensor([0, 1, 2, 3, 4]) logits_shape.shape=torch.Size([4209, 5])\n",
      "Initial T/NLL: 1.000/0.000\n",
      "Initial T/NLL: 1.000/0.000\n",
      "Optimal temperature: 0.9999992251396179\n",
      "Optimal temperature: 0.9999992251396179\n",
      "NLL after scaling: 0.00'\n",
      "NLL after scaling: 0.00'\n",
      "self.scorer_label.t=Parameter containing:\n",
      "tensor(1.0000, requires_grad=True)\n",
      "self.scorer_color.t=Parameter containing:\n",
      "tensor(1.0000, requires_grad=True)\n",
      "self.scorer_shape.t=Parameter containing:\n",
      "tensor(1.0000, requires_grad=True)\n",
      "Fitting with temperature scaling\n"
     ]
    },
    {
     "name": "stderr",
     "output_type": "stream",
     "text": [
      "/home/ki/projects/pytorch-ood/src/pytorch_ood/detector/tscaling.py:84: UserWarning: Implicit dimension choice for log_softmax has been deprecated. Change the call to include dim=X as an argument.\n",
      "  loss = nll_loss(log_softmax(logits / self.t), labels).item()\n",
      "/home/ki/projects/pytorch-ood/src/pytorch_ood/detector/tscaling.py:90: UserWarning: Implicit dimension choice for log_softmax has been deprecated. Change the call to include dim=X as an argument.\n",
      "  loss = nll_loss(log_softmax(logits / self.t), labels)\n",
      "/home/ki/projects/pytorch-ood/src/pytorch_ood/detector/tscaling.py:97: UserWarning: Implicit dimension choice for log_softmax has been deprecated. Change the call to include dim=X as an argument.\n",
      "  loss = nll_loss(log_softmax(logits / self.t), labels).item()\n"
     ]
    },
    {
     "name": "stdout",
     "output_type": "stream",
     "text": [
      "label: y1.unique()=tensor([ 0,  1,  2,  3,  4,  5,  6,  7,  8,  9, 10, 11, 12, 13, 14, 15, 16, 17,\n",
      "        18, 19, 20, 21, 22, 23, 24, 25, 26, 27, 28, 29, 30, 31, 32, 33, 34, 35,\n",
      "        36, 37, 38, 39, 40, 41, 42]) logits_label.shape=torch.Size([4209, 43])\n",
      "Initial T/NLL: 1.000/0.002\n",
      "Initial T/NLL: 1.000/0.002\n",
      "Optimal temperature: 1.0000033378601074\n",
      "Optimal temperature: 1.0000033378601074\n",
      "NLL after scaling: 0.00'\n",
      "NLL after scaling: 0.00'\n",
      "color: y2.unique()=tensor([0, 1, 2, 3]) logits_color.shape=torch.Size([4209, 4])\n",
      "Initial T/NLL: 1.000/0.000\n",
      "Initial T/NLL: 1.000/0.000\n",
      "Optimal temperature: 0.9999989867210388\n",
      "Optimal temperature: 0.9999989867210388\n",
      "NLL after scaling: 0.00'\n",
      "NLL after scaling: 0.00'\n",
      "shape: y3.unique()=tensor([0, 1, 2, 3, 4]) logits_shape.shape=torch.Size([4209, 5])\n",
      "Initial T/NLL: 1.000/0.000\n",
      "Initial T/NLL: 1.000/0.000\n",
      "Optimal temperature: 0.9999992251396179\n",
      "Optimal temperature: 0.9999992251396179\n",
      "NLL after scaling: 0.00'\n",
      "NLL after scaling: 0.00'\n",
      "self.scorer_label.t=Parameter containing:\n",
      "tensor(1.0000, requires_grad=True)\n",
      "self.scorer_color.t=Parameter containing:\n",
      "tensor(1.0000, requires_grad=True)\n",
      "self.scorer_shape.t=Parameter containing:\n",
      "tensor(1.0000, requires_grad=True)\n",
      "{'AUROC': 0.999115526676178, 'AUPR-IN': 0.9987872242927551, 'AUPR-OUT': 0.9994399547576904, 'FPR95TPR': 0.002929532900452614, 'Method': 'PrologOOD', 'Dataset': 'LSUNCrop'}\n",
      "{'AUROC': 0.9991424083709717, 'AUPR-IN': 0.9987720847129822, 'AUPR-OUT': 0.9994680881500244, 'FPR95TPR': 0.0027711796574294567, 'Method': 'PrologOOD', 'Dataset': 'LSUNResize'}\n",
      "Found 5640 texture files.\n",
      "Found 5640 texture files.\n",
      "{'AUROC': 0.9987685084342957, 'AUPR-IN': 0.9970026016235352, 'AUPR-OUT': 0.9995102286338806, 'FPR95TPR': 0.006571654696017504, 'Method': 'PrologOOD', 'Dataset': 'Textures'}\n",
      "{'AUROC': 0.9988784790039062, 'AUPR-IN': 0.9984328746795654, 'AUPR-OUT': 0.9992671608924866, 'FPR95TPR': 0.005067300051450729, 'Method': 'PrologOOD', 'Dataset': 'TinyImageNetCrop'}\n",
      "{'AUROC': 0.9988656044006348, 'AUPR-IN': 0.9984040856361389, 'AUPR-OUT': 0.9992614984512329, 'FPR95TPR': 0.005621536169201136, 'Method': 'PrologOOD', 'Dataset': 'TinyImageNetResize'}\n",
      "{'AUROC': 0.9996434450149536, 'AUPR-IN': 0.9995500445365906, 'AUPR-OUT': 0.9998424053192139, 'FPR95TPR': 0.0007125890697352588, 'Method': 'PrologOOD+', 'Dataset': 'LSUNCrop'}\n",
      "{'AUROC': 0.9996437430381775, 'AUPR-IN': 0.9995504021644592, 'AUPR-OUT': 0.9998425245285034, 'FPR95TPR': 0.0007125890697352588, 'Method': 'PrologOOD+', 'Dataset': 'LSUNResize'}\n",
      "Found 5640 texture files.\n",
      "Found 5640 texture files.\n",
      "{'AUROC': 0.9996413588523865, 'AUPR-IN': 0.999197781085968, 'AUPR-OUT': 0.9998890161514282, 'FPR95TPR': 0.0007125890697352588, 'Method': 'PrologOOD+', 'Dataset': 'Textures'}\n",
      "{'AUROC': 0.9996437430381775, 'AUPR-IN': 0.9995504021644592, 'AUPR-OUT': 0.9998425245285034, 'FPR95TPR': 0.0007125890697352588, 'Method': 'PrologOOD+', 'Dataset': 'TinyImageNetCrop'}\n",
      "{'AUROC': 0.9996437430381775, 'AUPR-IN': 0.9995504021644592, 'AUPR-OUT': 0.9998425245285034, 'FPR95TPR': 0.0007125890697352588, 'Method': 'PrologOOD+', 'Dataset': 'TinyImageNetResize'}\n",
      "{'AUROC': 0.9991154670715332, 'AUPR-IN': 0.9987872838973999, 'AUPR-OUT': 0.99944007396698, 'FPR95TPR': 0.002929532900452614, 'Method': 'PrologOODT', 'Dataset': 'LSUNCrop'}\n",
      "{'AUROC': 0.9991423487663269, 'AUPR-IN': 0.998772144317627, 'AUPR-OUT': 0.9994680285453796, 'FPR95TPR': 0.0027711796574294567, 'Method': 'PrologOODT', 'Dataset': 'LSUNResize'}\n",
      "Found 5640 texture files.\n",
      "Found 5640 texture files.\n",
      "{'AUROC': 0.9987685680389404, 'AUPR-IN': 0.9970025420188904, 'AUPR-OUT': 0.9995101690292358, 'FPR95TPR': 0.006571654696017504, 'Method': 'PrologOODT', 'Dataset': 'Textures'}\n",
      "{'AUROC': 0.9988784790039062, 'AUPR-IN': 0.9984328150749207, 'AUPR-OUT': 0.9992671012878418, 'FPR95TPR': 0.005067300051450729, 'Method': 'PrologOODT', 'Dataset': 'TinyImageNetCrop'}\n",
      "{'AUROC': 0.99886554479599, 'AUPR-IN': 0.9984040856361389, 'AUPR-OUT': 0.9992614984512329, 'FPR95TPR': 0.005621536169201136, 'Method': 'PrologOODT', 'Dataset': 'TinyImageNetResize'}\n",
      "{'AUROC': 0.9996433854103088, 'AUPR-IN': 0.999549925327301, 'AUPR-OUT': 0.9998422861099243, 'FPR95TPR': 0.0007125890697352588, 'Method': 'PrologOODT+', 'Dataset': 'LSUNCrop'}\n",
      "{'AUROC': 0.9996438026428223, 'AUPR-IN': 0.9995504021644592, 'AUPR-OUT': 0.9998424649238586, 'FPR95TPR': 0.0007125890697352588, 'Method': 'PrologOODT+', 'Dataset': 'LSUNResize'}\n",
      "Found 5640 texture files.\n",
      "Found 5640 texture files.\n",
      "{'AUROC': 0.9996378421783447, 'AUPR-IN': 0.9991903305053711, 'AUPR-OUT': 0.9998874068260193, 'FPR95TPR': 0.0007125890697352588, 'Method': 'PrologOODT+', 'Dataset': 'Textures'}\n",
      "{'AUROC': 0.9996438026428223, 'AUPR-IN': 0.9995504021644592, 'AUPR-OUT': 0.9998424649238586, 'FPR95TPR': 0.0007125890697352588, 'Method': 'PrologOODT+', 'Dataset': 'TinyImageNetCrop'}\n",
      "{'AUROC': 0.9996438026428223, 'AUPR-IN': 0.9995504021644592, 'AUPR-OUT': 0.9998424649238586, 'FPR95TPR': 0.0007125890697352588, 'Method': 'PrologOODT+', 'Dataset': 'TinyImageNetResize'}\n",
      "{'AUROC': 0.9136437177658081, 'AUPR-IN': 0.9514598250389099, 'AUPR-OUT': 0.9398746490478516, 'FPR95TPR': 1.0, 'Method': 'Logic', 'Dataset': 'LSUNCrop'}\n",
      "{'AUROC': 0.8811937570571899, 'AUPR-IN': 0.9333029985427856, 'AUPR-OUT': 0.9208232760429382, 'FPR95TPR': 1.0, 'Method': 'Logic', 'Dataset': 'LSUNResize'}\n",
      "Found 5640 texture files.\n",
      "Found 5640 texture files.\n",
      "{'AUROC': 0.8845728039741516, 'AUPR-IN': 0.9194175004959106, 'AUPR-OUT': 0.9532630443572998, 'FPR95TPR': 1.0, 'Method': 'Logic', 'Dataset': 'Textures'}\n",
      "{'AUROC': 0.8783937096595764, 'AUPR-IN': 0.9317359328269958, 'AUPR-OUT': 0.919256329536438, 'FPR95TPR': 1.0, 'Method': 'Logic', 'Dataset': 'TinyImageNetCrop'}\n",
      "{'AUROC': 0.874343752861023, 'AUPR-IN': 0.9294692277908325, 'AUPR-OUT': 0.9170105457305908, 'FPR95TPR': 1.0, 'Method': 'Logic', 'Dataset': 'TinyImageNetResize'}\n",
      "{'AUROC': 0.9995937347412109, 'AUPR-IN': 0.9995224475860596, 'AUPR-OUT': 0.9998029470443726, 'FPR95TPR': 0.0007125890697352588, 'Method': 'Logic+', 'Dataset': 'LSUNCrop'}\n",
      "{'AUROC': 0.9996437430381775, 'AUPR-IN': 0.9995504021644592, 'AUPR-OUT': 0.9998425841331482, 'FPR95TPR': 0.0007125890697352588, 'Method': 'Logic+', 'Dataset': 'LSUNResize'}\n",
      "Found 5640 texture files.\n",
      "Found 5640 texture files.\n",
      "{'AUROC': 0.9993777275085449, 'AUPR-IN': 0.9990190863609314, 'AUPR-OUT': 0.9997711181640625, 'FPR95TPR': 0.0007125890697352588, 'Method': 'Logic+', 'Dataset': 'Textures'}\n",
      "{'AUROC': 0.9996437430381775, 'AUPR-IN': 0.9995504021644592, 'AUPR-OUT': 0.9998425841331482, 'FPR95TPR': 0.0007125890697352588, 'Method': 'Logic+', 'Dataset': 'TinyImageNetCrop'}\n",
      "{'AUROC': 0.9996437430381775, 'AUPR-IN': 0.9995504021644592, 'AUPR-OUT': 0.9998425841331482, 'FPR95TPR': 0.0007125890697352588, 'Method': 'Logic+', 'Dataset': 'TinyImageNetResize'}\n",
      "{'AUROC': 0.9968090653419495, 'AUPR-IN': 0.9948283433914185, 'AUPR-OUT': 0.9980072379112244, 'FPR95TPR': 0.011005542241036892, 'Method': 'Ensemble', 'Dataset': 'LSUNCrop'}\n",
      "{'AUROC': 0.9982200860977173, 'AUPR-IN': 0.9973200559616089, 'AUPR-OUT': 0.9988183379173279, 'FPR95TPR': 0.008709422312676907, 'Method': 'Ensemble', 'Dataset': 'LSUNResize'}\n",
      "Found 5640 texture files.\n",
      "Found 5640 texture files.\n",
      "{'AUROC': 0.99712735414505, 'AUPR-IN': 0.9922111630439758, 'AUPR-OUT': 0.998859167098999, 'FPR95TPR': 0.011480601504445076, 'Method': 'Ensemble', 'Dataset': 'Textures'}\n",
      "{'AUROC': 0.9979549646377563, 'AUPR-IN': 0.9969735145568848, 'AUPR-OUT': 0.9986242055892944, 'FPR95TPR': 0.010055423714220524, 'Method': 'Ensemble', 'Dataset': 'TinyImageNetCrop'}\n",
      "{'AUROC': 0.9976946115493774, 'AUPR-IN': 0.9965331554412842, 'AUPR-OUT': 0.9984737634658813, 'FPR95TPR': 0.010847189463675022, 'Method': 'Ensemble', 'Dataset': 'TinyImageNetResize'}\n",
      "{'AUROC': 0.9770333766937256, 'AUPR-IN': 0.964715838432312, 'AUPR-OUT': 0.982836127281189, 'FPR95TPR': 0.06476642936468124, 'Method': 'MSP', 'Dataset': 'LSUNCrop'}\n",
      "{'AUROC': 0.9938308000564575, 'AUPR-IN': 0.9884841442108154, 'AUPR-OUT': 0.996250331401825, 'FPR95TPR': 0.017102137207984924, 'Method': 'MSP', 'Dataset': 'LSUNResize'}\n",
      "Found 5640 texture files.\n",
      "Found 5640 texture files.\n",
      "{'AUROC': 0.989827036857605, 'AUPR-IN': 0.9719479084014893, 'AUPR-OUT': 0.9945824146270752, 'FPR95TPR': 0.025336500257253647, 'Method': 'MSP', 'Dataset': 'Textures'}\n",
      "{'AUROC': 0.9892720580101013, 'AUPR-IN': 0.9833912253379822, 'AUPR-OUT': 0.9916421175003052, 'FPR95TPR': 0.02826603315770626, 'Method': 'MSP', 'Dataset': 'TinyImageNetCrop'}\n",
      "{'AUROC': 0.9925708770751953, 'AUPR-IN': 0.9868249893188477, 'AUPR-OUT': 0.9952051639556885, 'FPR95TPR': 0.020031670108437538, 'Method': 'MSP', 'Dataset': 'TinyImageNetResize'}\n",
      "{'AUROC': 0.9762957096099854, 'AUPR-IN': 0.9709354043006897, 'AUPR-OUT': 0.9798089265823364, 'FPR95TPR': 0.10126682370901108, 'Method': 'Energy', 'Dataset': 'LSUNCrop'}\n",
      "{'AUROC': 0.9974744319915771, 'AUPR-IN': 0.9955245852470398, 'AUPR-OUT': 0.9981325268745422, 'FPR95TPR': 0.008471892215311527, 'Method': 'Energy', 'Dataset': 'LSUNResize'}\n",
      "Found 5640 texture files.\n",
      "Found 5640 texture files.\n",
      "{'AUROC': 0.9884902834892273, 'AUPR-IN': 0.9789518713951111, 'AUPR-OUT': 0.9929354190826416, 'FPR95TPR': 0.020031670108437538, 'Method': 'Energy', 'Dataset': 'Textures'}\n",
      "{'AUROC': 0.9907895922660828, 'AUPR-IN': 0.9889121055603027, 'AUPR-OUT': 0.9913631081581116, 'FPR95TPR': 0.020981788635253906, 'Method': 'Energy', 'Dataset': 'TinyImageNetCrop'}\n",
      "{'AUROC': 0.9950679540634155, 'AUPR-IN': 0.9930502772331238, 'AUPR-OUT': 0.9955164194107056, 'FPR95TPR': 0.01219319086521864, 'Method': 'Energy', 'Dataset': 'TinyImageNetResize'}\n",
      "{'AUROC': 0.976288378238678, 'AUPR-IN': 0.9709244966506958, 'AUPR-OUT': 0.9798036813735962, 'FPR95TPR': 0.10126682370901108, 'Method': 'ReAct', 'Dataset': 'LSUNCrop'}\n",
      "{'AUROC': 0.9974840879440308, 'AUPR-IN': 0.9955363273620605, 'AUPR-OUT': 0.9981430172920227, 'FPR95TPR': 0.008471892215311527, 'Method': 'ReAct', 'Dataset': 'LSUNResize'}\n",
      "Found 5640 texture files.\n",
      "Found 5640 texture files.\n",
      "{'AUROC': 0.9890555739402771, 'AUPR-IN': 0.9794832468032837, 'AUPR-OUT': 0.9935004711151123, 'FPR95TPR': 0.01955661177635193, 'Method': 'ReAct', 'Dataset': 'Textures'}\n",
      "{'AUROC': 0.9907945394515991, 'AUPR-IN': 0.988919198513031, 'AUPR-OUT': 0.9913533926010132, 'FPR95TPR': 0.020981788635253906, 'Method': 'ReAct', 'Dataset': 'TinyImageNetCrop'}\n",
      "{'AUROC': 0.9951186776161194, 'AUPR-IN': 0.993087112903595, 'AUPR-OUT': 0.9956701397895813, 'FPR95TPR': 0.01219319086521864, 'Method': 'ReAct', 'Dataset': 'TinyImageNetResize'}\n",
      "{'AUROC': 0.9721232056617737, 'AUPR-IN': 0.967068612575531, 'AUPR-OUT': 0.9958951473236084, 'FPR95TPR': 0.055661123245954514, 'Method': 'ViM', 'Dataset': 'LSUNCrop'}\n",
      "{'AUROC': 0.9721694588661194, 'AUPR-IN': 0.9671587347984314, 'AUPR-OUT': 0.9985784888267517, 'FPR95TPR': 0.055661123245954514, 'Method': 'ViM', 'Dataset': 'LSUNResize'}\n",
      "Found 5640 texture files.\n",
      "Found 5640 texture files.\n",
      "{'AUROC': 0.9721694588661194, 'AUPR-IN': 0.9445846080780029, 'AUPR-OUT': 0.9990922808647156, 'FPR95TPR': 0.055661123245954514, 'Method': 'ViM', 'Dataset': 'Textures'}\n",
      "{'AUROC': 0.9721499085426331, 'AUPR-IN': 0.9671176075935364, 'AUPR-OUT': 0.996918797492981, 'FPR95TPR': 0.055661123245954514, 'Method': 'ViM', 'Dataset': 'TinyImageNetCrop'}\n",
      "{'AUROC': 0.9721694588661194, 'AUPR-IN': 0.9671587347984314, 'AUPR-OUT': 0.9985483884811401, 'FPR95TPR': 0.055661123245954514, 'Method': 'ViM', 'Dataset': 'TinyImageNetResize'}\n",
      "{'AUROC': 0.9932461977005005, 'AUPR-IN': 0.9865639805793762, 'AUPR-OUT': 0.9960023760795593, 'FPR95TPR': 0.01947743445634842, 'Method': 'Mahalanobis', 'Dataset': 'LSUNCrop'}\n",
      "{'AUROC': 0.998335599899292, 'AUPR-IN': 0.9966883659362793, 'AUPR-OUT': 0.9990226626396179, 'FPR95TPR': 0.004829770419746637, 'Method': 'Mahalanobis', 'Dataset': 'LSUNResize'}\n",
      "Found 5640 texture files.\n",
      "Found 5640 texture files.\n",
      "{'AUROC': 0.9977272152900696, 'AUPR-IN': 0.9935005903244019, 'AUPR-OUT': 0.9991108179092407, 'FPR95TPR': 0.008946951478719711, 'Method': 'Mahalanobis', 'Dataset': 'Textures'}\n",
      "{'AUROC': 0.9961273074150085, 'AUPR-IN': 0.992577850818634, 'AUPR-OUT': 0.9976223707199097, 'FPR95TPR': 0.01401425153017044, 'Method': 'Mahalanobis', 'Dataset': 'TinyImageNetCrop'}\n",
      "{'AUROC': 0.9983742237091064, 'AUPR-IN': 0.9970473647117615, 'AUPR-OUT': 0.9990105032920837, 'FPR95TPR': 0.005304829683154821, 'Method': 'Mahalanobis', 'Dataset': 'TinyImageNetResize'}\n",
      "{'AUROC': 0.9778788089752197, 'AUPR-IN': 0.9676191210746765, 'AUPR-OUT': 0.9831151962280273, 'FPR95TPR': 0.06429137289524078, 'Method': 'Entropy', 'Dataset': 'LSUNCrop'}\n",
      "{'AUROC': 0.9951081871986389, 'AUPR-IN': 0.991060197353363, 'AUPR-OUT': 0.9968709945678711, 'FPR95TPR': 0.016152018681168556, 'Method': 'Entropy', 'Dataset': 'LSUNResize'}\n",
      "Found 5640 texture files.\n",
      "Found 5640 texture files.\n",
      "{'AUROC': 0.9908128976821899, 'AUPR-IN': 0.9760116338729858, 'AUPR-OUT': 0.9948086142539978, 'FPR95TPR': 0.024940617382526398, 'Method': 'Entropy', 'Dataset': 'Textures'}\n",
      "{'AUROC': 0.9903312921524048, 'AUPR-IN': 0.9859095215797424, 'AUPR-OUT': 0.9920861124992371, 'FPR95TPR': 0.02771179750561714, 'Method': 'Entropy', 'Dataset': 'TinyImageNetCrop'}\n",
      "{'AUROC': 0.9937018752098083, 'AUPR-IN': 0.9892379641532898, 'AUPR-OUT': 0.9957059621810913, 'FPR95TPR': 0.01931908167898655, 'Method': 'Entropy', 'Dataset': 'TinyImageNetResize'}\n",
      "{'AUROC': 0.9760341048240662, 'AUPR-IN': 0.9702399969100952, 'AUPR-OUT': 0.9796993732452393, 'FPR95TPR': 0.10126682370901108, 'Method': 'MaxLogit', 'Dataset': 'LSUNCrop'}\n",
      "{'AUROC': 0.9972078204154968, 'AUPR-IN': 0.9950475692749023, 'AUPR-OUT': 0.9979838132858276, 'FPR95TPR': 0.00918448157608509, 'Method': 'MaxLogit', 'Dataset': 'LSUNResize'}\n",
      "Found 5640 texture files.\n",
      "Found 5640 texture files.\n",
      "{'AUROC': 0.9882876873016357, 'AUPR-IN': 0.9782232046127319, 'AUPR-OUT': 0.992917537689209, 'FPR95TPR': 0.01987331733107567, 'Method': 'MaxLogit', 'Dataset': 'Textures'}\n",
      "{'AUROC': 0.990555465221405, 'AUPR-IN': 0.9884310960769653, 'AUPR-OUT': 0.991248607635498, 'FPR95TPR': 0.021060965955257416, 'Method': 'MaxLogit', 'Dataset': 'TinyImageNetCrop'}\n",
      "{'AUROC': 0.9948028326034546, 'AUPR-IN': 0.9926039576530457, 'AUPR-OUT': 0.9953728318214417, 'FPR95TPR': 0.012668250128626823, 'Method': 'MaxLogit', 'Dataset': 'TinyImageNetResize'}\n"
     ]
    },
    {
     "data": {
      "text/plain": "  0%|          | 0/2657 [00:00<?, ?it/s]",
      "application/vnd.jupyter.widget-view+json": {
       "version_major": 2,
       "version_minor": 0,
       "model_id": "9d0dc9aa85ca473e8fd7d43140230048"
      }
     },
     "metadata": {},
     "output_type": "display_data"
    },
    {
     "name": "stdout",
     "output_type": "stream",
     "text": [
      "Accuracy of the sign network on the test images: 99.99%\n"
     ]
    },
    {
     "data": {
      "text/plain": "  0%|          | 0/2657 [00:00<?, ?it/s]",
      "application/vnd.jupyter.widget-view+json": {
       "version_major": 2,
       "version_minor": 0,
       "model_id": "0fe7cb81144145948fc0cd302f3bfe6e"
      }
     },
     "metadata": {},
     "output_type": "display_data"
    },
    {
     "name": "stdout",
     "output_type": "stream",
     "text": [
      "Accuracy of the sign network on the test images: 99.99%\n"
     ]
    },
    {
     "data": {
      "text/plain": "  0%|          | 0/2657 [00:00<?, ?it/s]",
      "application/vnd.jupyter.widget-view+json": {
       "version_major": 2,
       "version_minor": 0,
       "model_id": "5df2929e9359405c9c10a5151883d1c2"
      }
     },
     "metadata": {},
     "output_type": "display_data"
    },
    {
     "name": "stdout",
     "output_type": "stream",
     "text": [
      "Accuracy of the sign network on the test images: 100.00%\n"
     ]
    },
    {
     "data": {
      "text/plain": "  0%|          | 0/2657 [00:00<?, ?it/s]",
      "application/vnd.jupyter.widget-view+json": {
       "version_major": 2,
       "version_minor": 0,
       "model_id": "4e625e6410c947c086ee967d64330f8a"
      }
     },
     "metadata": {},
     "output_type": "display_data"
    },
    {
     "name": "stdout",
     "output_type": "stream",
     "text": [
      "Accuracy of the sign network on the test images: 99.99%\n"
     ]
    },
    {
     "data": {
      "text/plain": "  0%|          | 0/2657 [00:00<?, ?it/s]",
      "application/vnd.jupyter.widget-view+json": {
       "version_major": 2,
       "version_minor": 0,
       "model_id": "5e67ee6616aa4c94a30106001d3ae3c8"
      }
     },
     "metadata": {},
     "output_type": "display_data"
    },
    {
     "name": "stdout",
     "output_type": "stream",
     "text": [
      "Accuracy of the sign network on the test images: 99.98%\n"
     ]
    },
    {
     "data": {
      "text/plain": "  0%|          | 0/2657 [00:00<?, ?it/s]",
      "application/vnd.jupyter.widget-view+json": {
       "version_major": 2,
       "version_minor": 0,
       "model_id": "c411c119d123475390fcd1c08010901e"
      }
     },
     "metadata": {},
     "output_type": "display_data"
    },
    {
     "name": "stdout",
     "output_type": "stream",
     "text": [
      "Accuracy of the sign network on the test images: 100.00%\n"
     ]
    },
    {
     "data": {
      "text/plain": "  0%|          | 0/2657 [00:00<?, ?it/s]",
      "application/vnd.jupyter.widget-view+json": {
       "version_major": 2,
       "version_minor": 0,
       "model_id": "21238326179b4b1d9846fda803a71820"
      }
     },
     "metadata": {},
     "output_type": "display_data"
    },
    {
     "name": "stdout",
     "output_type": "stream",
     "text": [
      "Accuracy of the sign network on the test images: 100.00%\n"
     ]
    },
    {
     "data": {
      "text/plain": "  0%|          | 0/2657 [00:00<?, ?it/s]",
      "application/vnd.jupyter.widget-view+json": {
       "version_major": 2,
       "version_minor": 0,
       "model_id": "1a59bb7b894e446c98363b93bb88b990"
      }
     },
     "metadata": {},
     "output_type": "display_data"
    },
    {
     "name": "stdout",
     "output_type": "stream",
     "text": [
      "Accuracy of the sign network on the test images: 99.99%\n"
     ]
    },
    {
     "data": {
      "text/plain": "  0%|          | 0/2657 [00:00<?, ?it/s]",
      "application/vnd.jupyter.widget-view+json": {
       "version_major": 2,
       "version_minor": 0,
       "model_id": "91ce700736944d9a8f5ff81406037d76"
      }
     },
     "metadata": {},
     "output_type": "display_data"
    },
    {
     "name": "stdout",
     "output_type": "stream",
     "text": [
      "Accuracy of the sign network on the test images: 99.96%\n"
     ]
    },
    {
     "data": {
      "text/plain": "  0%|          | 0/2657 [00:00<?, ?it/s]",
      "application/vnd.jupyter.widget-view+json": {
       "version_major": 2,
       "version_minor": 0,
       "model_id": "84acfe801d98481da45b6319dc0e8606"
      }
     },
     "metadata": {},
     "output_type": "display_data"
    },
    {
     "name": "stdout",
     "output_type": "stream",
     "text": [
      "Accuracy of the sign network on the test images: 100.00%\n"
     ]
    },
    {
     "data": {
      "text/plain": "  0%|          | 0/2657 [00:00<?, ?it/s]",
      "application/vnd.jupyter.widget-view+json": {
       "version_major": 2,
       "version_minor": 0,
       "model_id": "52c447506f1148e9b185353369524e53"
      }
     },
     "metadata": {},
     "output_type": "display_data"
    },
    {
     "name": "stdout",
     "output_type": "stream",
     "text": [
      "Accuracy of the sign network on the test images: 100.00%\n"
     ]
    },
    {
     "data": {
      "text/plain": "  0%|          | 0/2657 [00:00<?, ?it/s]",
      "application/vnd.jupyter.widget-view+json": {
       "version_major": 2,
       "version_minor": 0,
       "model_id": "6b3b2bb51ef34c16b12ac3fc43638b0f"
      }
     },
     "metadata": {},
     "output_type": "display_data"
    },
    {
     "name": "stdout",
     "output_type": "stream",
     "text": [
      "Accuracy of the sign network on the test images: 100.00%\n"
     ]
    },
    {
     "data": {
      "text/plain": "  0%|          | 0/2657 [00:00<?, ?it/s]",
      "application/vnd.jupyter.widget-view+json": {
       "version_major": 2,
       "version_minor": 0,
       "model_id": "8c258cc222d14561addf240cf631130e"
      }
     },
     "metadata": {},
     "output_type": "display_data"
    },
    {
     "name": "stdout",
     "output_type": "stream",
     "text": [
      "Accuracy of the sign network on the test images: 99.99%\n"
     ]
    },
    {
     "data": {
      "text/plain": "  0%|          | 0/2657 [00:00<?, ?it/s]",
      "application/vnd.jupyter.widget-view+json": {
       "version_major": 2,
       "version_minor": 0,
       "model_id": "94084ebc00404fd8ac4b30b7b5d1c930"
      }
     },
     "metadata": {},
     "output_type": "display_data"
    },
    {
     "name": "stdout",
     "output_type": "stream",
     "text": [
      "Accuracy of the sign network on the test images: 100.00%\n"
     ]
    },
    {
     "data": {
      "text/plain": "  0%|          | 0/2657 [00:00<?, ?it/s]",
      "application/vnd.jupyter.widget-view+json": {
       "version_major": 2,
       "version_minor": 0,
       "model_id": "8590f88bbd884be59befd8cfc998503c"
      }
     },
     "metadata": {},
     "output_type": "display_data"
    },
    {
     "name": "stdout",
     "output_type": "stream",
     "text": [
      "Accuracy of the sign network on the test images: 100.00%\n"
     ]
    },
    {
     "data": {
      "text/plain": "  0%|          | 0/2657 [00:00<?, ?it/s]",
      "application/vnd.jupyter.widget-view+json": {
       "version_major": 2,
       "version_minor": 0,
       "model_id": "985b8ba992a342659e558169972815a9"
      }
     },
     "metadata": {},
     "output_type": "display_data"
    },
    {
     "name": "stdout",
     "output_type": "stream",
     "text": [
      "Accuracy of the sign network on the test images: 100.00%\n"
     ]
    },
    {
     "data": {
      "text/plain": "  0%|          | 0/2657 [00:00<?, ?it/s]",
      "application/vnd.jupyter.widget-view+json": {
       "version_major": 2,
       "version_minor": 0,
       "model_id": "01711b10e26f44f2ab63f862952fe471"
      }
     },
     "metadata": {},
     "output_type": "display_data"
    },
    {
     "name": "stdout",
     "output_type": "stream",
     "text": [
      "Accuracy of the sign network on the test images: 100.00%\n"
     ]
    },
    {
     "data": {
      "text/plain": "  0%|          | 0/2657 [00:00<?, ?it/s]",
      "application/vnd.jupyter.widget-view+json": {
       "version_major": 2,
       "version_minor": 0,
       "model_id": "216e193b94ef450ba9cf6335799d10cb"
      }
     },
     "metadata": {},
     "output_type": "display_data"
    },
    {
     "name": "stdout",
     "output_type": "stream",
     "text": [
      "Accuracy of the sign network on the test images: 100.00%\n"
     ]
    },
    {
     "data": {
      "text/plain": "  0%|          | 0/2657 [00:00<?, ?it/s]",
      "application/vnd.jupyter.widget-view+json": {
       "version_major": 2,
       "version_minor": 0,
       "model_id": "99ac437056b94764a6e05c2b1e6182bd"
      }
     },
     "metadata": {},
     "output_type": "display_data"
    },
    {
     "name": "stdout",
     "output_type": "stream",
     "text": [
      "Accuracy of the sign network on the test images: 100.00%\n"
     ]
    },
    {
     "data": {
      "text/plain": "  0%|          | 0/2657 [00:00<?, ?it/s]",
      "application/vnd.jupyter.widget-view+json": {
       "version_major": 2,
       "version_minor": 0,
       "model_id": "41e7c45ec4aa4e2b83f604be936ae06c"
      }
     },
     "metadata": {},
     "output_type": "display_data"
    },
    {
     "name": "stdout",
     "output_type": "stream",
     "text": [
      "Accuracy of the sign network on the test images: 100.00%\n"
     ]
    },
    {
     "data": {
      "text/plain": "  0%|          | 0/1094 [00:00<?, ?it/s]",
      "application/vnd.jupyter.widget-view+json": {
       "version_major": 2,
       "version_minor": 0,
       "model_id": "e8271db93a0641da9f8ad9bd099c41a9"
      }
     },
     "metadata": {},
     "output_type": "display_data"
    },
    {
     "name": "stdout",
     "output_type": "stream",
     "text": [
      "Accuracy of the network on the test images: 99.94%\n"
     ]
    },
    {
     "data": {
      "text/plain": "  0%|          | 0/1094 [00:00<?, ?it/s]",
      "application/vnd.jupyter.widget-view+json": {
       "version_major": 2,
       "version_minor": 0,
       "model_id": "4e121b8b7ef14d889a63217a6d8d60a6"
      }
     },
     "metadata": {},
     "output_type": "display_data"
    },
    {
     "name": "stdout",
     "output_type": "stream",
     "text": [
      "Accuracy of the network on the test images: 99.91%\n"
     ]
    },
    {
     "data": {
      "text/plain": "  0%|          | 0/1094 [00:00<?, ?it/s]",
      "application/vnd.jupyter.widget-view+json": {
       "version_major": 2,
       "version_minor": 0,
       "model_id": "05785b9c8ad84d5f8592f18ece84b8fb"
      }
     },
     "metadata": {},
     "output_type": "display_data"
    },
    {
     "name": "stdout",
     "output_type": "stream",
     "text": [
      "Accuracy of the network on the test images: 99.98%\n"
     ]
    },
    {
     "data": {
      "text/plain": "  0%|          | 0/1094 [00:00<?, ?it/s]",
      "application/vnd.jupyter.widget-view+json": {
       "version_major": 2,
       "version_minor": 0,
       "model_id": "26797d140ff14a039d36d711b2b40861"
      }
     },
     "metadata": {},
     "output_type": "display_data"
    },
    {
     "name": "stdout",
     "output_type": "stream",
     "text": [
      "Accuracy of the network on the test images: 99.94%\n"
     ]
    },
    {
     "data": {
      "text/plain": "  0%|          | 0/1094 [00:00<?, ?it/s]",
      "application/vnd.jupyter.widget-view+json": {
       "version_major": 2,
       "version_minor": 0,
       "model_id": "40c8dba2d5234b5c812d5dcd06dba9b0"
      }
     },
     "metadata": {},
     "output_type": "display_data"
    },
    {
     "name": "stdout",
     "output_type": "stream",
     "text": [
      "Accuracy of the network on the test images: 99.98%\n"
     ]
    },
    {
     "data": {
      "text/plain": "  0%|          | 0/1094 [00:00<?, ?it/s]",
      "application/vnd.jupyter.widget-view+json": {
       "version_major": 2,
       "version_minor": 0,
       "model_id": "e487dfa84d50462a9cfde0f709a161ed"
      }
     },
     "metadata": {},
     "output_type": "display_data"
    },
    {
     "name": "stdout",
     "output_type": "stream",
     "text": [
      "Accuracy of the network on the test images: 99.98%\n"
     ]
    },
    {
     "data": {
      "text/plain": "  0%|          | 0/1094 [00:00<?, ?it/s]",
      "application/vnd.jupyter.widget-view+json": {
       "version_major": 2,
       "version_minor": 0,
       "model_id": "8ee8357c42ff4928a63920a10bb26210"
      }
     },
     "metadata": {},
     "output_type": "display_data"
    },
    {
     "name": "stdout",
     "output_type": "stream",
     "text": [
      "Accuracy of the network on the test images: 99.97%\n"
     ]
    },
    {
     "data": {
      "text/plain": "  0%|          | 0/1094 [00:00<?, ?it/s]",
      "application/vnd.jupyter.widget-view+json": {
       "version_major": 2,
       "version_minor": 0,
       "model_id": "cba62386af7545f3b0d79ee65e81a477"
      }
     },
     "metadata": {},
     "output_type": "display_data"
    },
    {
     "name": "stdout",
     "output_type": "stream",
     "text": [
      "Accuracy of the network on the test images: 99.98%\n"
     ]
    },
    {
     "data": {
      "text/plain": "  0%|          | 0/1094 [00:00<?, ?it/s]",
      "application/vnd.jupyter.widget-view+json": {
       "version_major": 2,
       "version_minor": 0,
       "model_id": "42722b88d35444eea8aafc78d5ac1692"
      }
     },
     "metadata": {},
     "output_type": "display_data"
    },
    {
     "name": "stdout",
     "output_type": "stream",
     "text": [
      "Accuracy of the network on the test images: 99.98%\n"
     ]
    },
    {
     "data": {
      "text/plain": "  0%|          | 0/1094 [00:00<?, ?it/s]",
      "application/vnd.jupyter.widget-view+json": {
       "version_major": 2,
       "version_minor": 0,
       "model_id": "2c3107e3f1a84745bbfa06e465e6455c"
      }
     },
     "metadata": {},
     "output_type": "display_data"
    },
    {
     "name": "stdout",
     "output_type": "stream",
     "text": [
      "Accuracy of the network on the test images: 99.98%\n"
     ]
    },
    {
     "data": {
      "text/plain": "  0%|          | 0/1094 [00:00<?, ?it/s]",
      "application/vnd.jupyter.widget-view+json": {
       "version_major": 2,
       "version_minor": 0,
       "model_id": "f7a4b53a5de7428e979f20c5218481f7"
      }
     },
     "metadata": {},
     "output_type": "display_data"
    },
    {
     "name": "stdout",
     "output_type": "stream",
     "text": [
      "Accuracy of the network on the test images: 99.95%\n"
     ]
    },
    {
     "data": {
      "text/plain": "  0%|          | 0/1094 [00:00<?, ?it/s]",
      "application/vnd.jupyter.widget-view+json": {
       "version_major": 2,
       "version_minor": 0,
       "model_id": "f7aa32c1736e4e58bf0e492abc1aa8c8"
      }
     },
     "metadata": {},
     "output_type": "display_data"
    },
    {
     "name": "stdout",
     "output_type": "stream",
     "text": [
      "Accuracy of the network on the test images: 99.98%\n"
     ]
    },
    {
     "data": {
      "text/plain": "  0%|          | 0/1094 [00:00<?, ?it/s]",
      "application/vnd.jupyter.widget-view+json": {
       "version_major": 2,
       "version_minor": 0,
       "model_id": "696ab7b3d0354093a8f072ac93b29d96"
      }
     },
     "metadata": {},
     "output_type": "display_data"
    },
    {
     "name": "stdout",
     "output_type": "stream",
     "text": [
      "Accuracy of the network on the test images: 99.98%\n"
     ]
    },
    {
     "data": {
      "text/plain": "  0%|          | 0/1094 [00:00<?, ?it/s]",
      "application/vnd.jupyter.widget-view+json": {
       "version_major": 2,
       "version_minor": 0,
       "model_id": "8ac08b25672b499e84ce1a7392ee244e"
      }
     },
     "metadata": {},
     "output_type": "display_data"
    },
    {
     "name": "stdout",
     "output_type": "stream",
     "text": [
      "Accuracy of the network on the test images: 99.98%\n"
     ]
    },
    {
     "data": {
      "text/plain": "  0%|          | 0/1094 [00:00<?, ?it/s]",
      "application/vnd.jupyter.widget-view+json": {
       "version_major": 2,
       "version_minor": 0,
       "model_id": "8b4e377cb5ab438c8e79500b843961e3"
      }
     },
     "metadata": {},
     "output_type": "display_data"
    },
    {
     "name": "stdout",
     "output_type": "stream",
     "text": [
      "Accuracy of the network on the test images: 99.98%\n"
     ]
    },
    {
     "data": {
      "text/plain": "  0%|          | 0/1094 [00:00<?, ?it/s]",
      "application/vnd.jupyter.widget-view+json": {
       "version_major": 2,
       "version_minor": 0,
       "model_id": "6176db52729b4a44ba2a33e854b08bc4"
      }
     },
     "metadata": {},
     "output_type": "display_data"
    },
    {
     "name": "stdout",
     "output_type": "stream",
     "text": [
      "Accuracy of the network on the test images: 99.98%\n"
     ]
    },
    {
     "data": {
      "text/plain": "  0%|          | 0/1094 [00:00<?, ?it/s]",
      "application/vnd.jupyter.widget-view+json": {
       "version_major": 2,
       "version_minor": 0,
       "model_id": "7e81625bb640484c8632b9d8d9032efe"
      }
     },
     "metadata": {},
     "output_type": "display_data"
    },
    {
     "name": "stdout",
     "output_type": "stream",
     "text": [
      "Accuracy of the network on the test images: 99.98%\n"
     ]
    },
    {
     "data": {
      "text/plain": "  0%|          | 0/1094 [00:00<?, ?it/s]",
      "application/vnd.jupyter.widget-view+json": {
       "version_major": 2,
       "version_minor": 0,
       "model_id": "ac9c7ea0d31d4e178685009bcef4f582"
      }
     },
     "metadata": {},
     "output_type": "display_data"
    },
    {
     "name": "stdout",
     "output_type": "stream",
     "text": [
      "Accuracy of the network on the test images: 99.98%\n"
     ]
    },
    {
     "data": {
      "text/plain": "  0%|          | 0/1094 [00:00<?, ?it/s]",
      "application/vnd.jupyter.widget-view+json": {
       "version_major": 2,
       "version_minor": 0,
       "model_id": "09d11f334db64bca80b1eca112448e33"
      }
     },
     "metadata": {},
     "output_type": "display_data"
    },
    {
     "name": "stdout",
     "output_type": "stream",
     "text": [
      "Accuracy of the network on the test images: 99.98%\n"
     ]
    },
    {
     "data": {
      "text/plain": "  0%|          | 0/1094 [00:00<?, ?it/s]",
      "application/vnd.jupyter.widget-view+json": {
       "version_major": 2,
       "version_minor": 0,
       "model_id": "b304dca4a38b41fa83724b3c9692cec3"
      }
     },
     "metadata": {},
     "output_type": "display_data"
    },
    {
     "name": "stdout",
     "output_type": "stream",
     "text": [
      "Accuracy of the network on the test images: 99.98%\n"
     ]
    },
    {
     "data": {
      "text/plain": "  0%|          | 0/1094 [00:00<?, ?it/s]",
      "application/vnd.jupyter.widget-view+json": {
       "version_major": 2,
       "version_minor": 0,
       "model_id": "ce5cfdfe4bf941d7b81f0cb4271b1df9"
      }
     },
     "metadata": {},
     "output_type": "display_data"
    },
    {
     "name": "stdout",
     "output_type": "stream",
     "text": [
      "Accuracy of the network on the test images: 99.94%\n"
     ]
    },
    {
     "data": {
      "text/plain": "  0%|          | 0/1094 [00:00<?, ?it/s]",
      "application/vnd.jupyter.widget-view+json": {
       "version_major": 2,
       "version_minor": 0,
       "model_id": "6d59cc97228943d6a969d6145979d214"
      }
     },
     "metadata": {},
     "output_type": "display_data"
    },
    {
     "name": "stdout",
     "output_type": "stream",
     "text": [
      "Accuracy of the network on the test images: 99.94%\n"
     ]
    },
    {
     "data": {
      "text/plain": "  0%|          | 0/1094 [00:00<?, ?it/s]",
      "application/vnd.jupyter.widget-view+json": {
       "version_major": 2,
       "version_minor": 0,
       "model_id": "781f27da29bd43b0ba42ca3c8c3eb412"
      }
     },
     "metadata": {},
     "output_type": "display_data"
    },
    {
     "name": "stdout",
     "output_type": "stream",
     "text": [
      "Accuracy of the network on the test images: 99.92%\n"
     ]
    },
    {
     "data": {
      "text/plain": "  0%|          | 0/1094 [00:00<?, ?it/s]",
      "application/vnd.jupyter.widget-view+json": {
       "version_major": 2,
       "version_minor": 0,
       "model_id": "5e3fcf75b58840668b4f8125ce1c504f"
      }
     },
     "metadata": {},
     "output_type": "display_data"
    },
    {
     "name": "stdout",
     "output_type": "stream",
     "text": [
      "Accuracy of the network on the test images: 99.91%\n"
     ]
    },
    {
     "data": {
      "text/plain": "  0%|          | 0/1094 [00:00<?, ?it/s]",
      "application/vnd.jupyter.widget-view+json": {
       "version_major": 2,
       "version_minor": 0,
       "model_id": "a80ee6adce0d4351b4bc50cc8b7ae1fb"
      }
     },
     "metadata": {},
     "output_type": "display_data"
    },
    {
     "name": "stdout",
     "output_type": "stream",
     "text": [
      "Accuracy of the network on the test images: 99.96%\n"
     ]
    },
    {
     "data": {
      "text/plain": "  0%|          | 0/1094 [00:00<?, ?it/s]",
      "application/vnd.jupyter.widget-view+json": {
       "version_major": 2,
       "version_minor": 0,
       "model_id": "e98f7c0ef8f241f3a92ca1d64feba7b8"
      }
     },
     "metadata": {},
     "output_type": "display_data"
    },
    {
     "name": "stdout",
     "output_type": "stream",
     "text": [
      "Accuracy of the network on the test images: 99.94%\n"
     ]
    },
    {
     "data": {
      "text/plain": "  0%|          | 0/1094 [00:00<?, ?it/s]",
      "application/vnd.jupyter.widget-view+json": {
       "version_major": 2,
       "version_minor": 0,
       "model_id": "2a94a2be597341639e79e1148a278bd2"
      }
     },
     "metadata": {},
     "output_type": "display_data"
    },
    {
     "name": "stdout",
     "output_type": "stream",
     "text": [
      "Accuracy of the network on the test images: 99.97%\n"
     ]
    },
    {
     "data": {
      "text/plain": "  0%|          | 0/1094 [00:00<?, ?it/s]",
      "application/vnd.jupyter.widget-view+json": {
       "version_major": 2,
       "version_minor": 0,
       "model_id": "c1dddb1721cc4665b0c98c2718743f7b"
      }
     },
     "metadata": {},
     "output_type": "display_data"
    },
    {
     "name": "stdout",
     "output_type": "stream",
     "text": [
      "Accuracy of the network on the test images: 99.90%\n"
     ]
    },
    {
     "data": {
      "text/plain": "  0%|          | 0/1094 [00:00<?, ?it/s]",
      "application/vnd.jupyter.widget-view+json": {
       "version_major": 2,
       "version_minor": 0,
       "model_id": "9e03bd1aa91a40cc8c03c40dd09963fa"
      }
     },
     "metadata": {},
     "output_type": "display_data"
    },
    {
     "name": "stdout",
     "output_type": "stream",
     "text": [
      "Accuracy of the network on the test images: 99.97%\n"
     ]
    },
    {
     "data": {
      "text/plain": "  0%|          | 0/1094 [00:00<?, ?it/s]",
      "application/vnd.jupyter.widget-view+json": {
       "version_major": 2,
       "version_minor": 0,
       "model_id": "f8d64a12a1ad437d9889716ce2c0a44c"
      }
     },
     "metadata": {},
     "output_type": "display_data"
    },
    {
     "name": "stdout",
     "output_type": "stream",
     "text": [
      "Accuracy of the network on the test images: 99.98%\n"
     ]
    },
    {
     "data": {
      "text/plain": "  0%|          | 0/1094 [00:00<?, ?it/s]",
      "application/vnd.jupyter.widget-view+json": {
       "version_major": 2,
       "version_minor": 0,
       "model_id": "9c80ec6484c64371a187556adc4894fe"
      }
     },
     "metadata": {},
     "output_type": "display_data"
    },
    {
     "name": "stdout",
     "output_type": "stream",
     "text": [
      "Accuracy of the network on the test images: 99.99%\n"
     ]
    },
    {
     "data": {
      "text/plain": "  0%|          | 0/1094 [00:00<?, ?it/s]",
      "application/vnd.jupyter.widget-view+json": {
       "version_major": 2,
       "version_minor": 0,
       "model_id": "d3f00638288d42019109f99969fae72c"
      }
     },
     "metadata": {},
     "output_type": "display_data"
    },
    {
     "name": "stdout",
     "output_type": "stream",
     "text": [
      "Accuracy of the network on the test images: 99.98%\n"
     ]
    },
    {
     "data": {
      "text/plain": "  0%|          | 0/1094 [00:00<?, ?it/s]",
      "application/vnd.jupyter.widget-view+json": {
       "version_major": 2,
       "version_minor": 0,
       "model_id": "ccad789b6d0b474bb6608f8210421d0a"
      }
     },
     "metadata": {},
     "output_type": "display_data"
    },
    {
     "name": "stdout",
     "output_type": "stream",
     "text": [
      "Accuracy of the network on the test images: 99.99%\n"
     ]
    },
    {
     "data": {
      "text/plain": "  0%|          | 0/1094 [00:00<?, ?it/s]",
      "application/vnd.jupyter.widget-view+json": {
       "version_major": 2,
       "version_minor": 0,
       "model_id": "2a3e55e1b61c45248f0a8a1e2b9d9470"
      }
     },
     "metadata": {},
     "output_type": "display_data"
    },
    {
     "name": "stdout",
     "output_type": "stream",
     "text": [
      "Accuracy of the network on the test images: 99.98%\n"
     ]
    },
    {
     "data": {
      "text/plain": "  0%|          | 0/1094 [00:00<?, ?it/s]",
      "application/vnd.jupyter.widget-view+json": {
       "version_major": 2,
       "version_minor": 0,
       "model_id": "8e34f9b6feab4cb894e09888eea8eee1"
      }
     },
     "metadata": {},
     "output_type": "display_data"
    },
    {
     "name": "stdout",
     "output_type": "stream",
     "text": [
      "Accuracy of the network on the test images: 99.91%\n"
     ]
    },
    {
     "data": {
      "text/plain": "  0%|          | 0/1094 [00:00<?, ?it/s]",
      "application/vnd.jupyter.widget-view+json": {
       "version_major": 2,
       "version_minor": 0,
       "model_id": "9371e9ab8261460c8e660d14138cdfe1"
      }
     },
     "metadata": {},
     "output_type": "display_data"
    },
    {
     "name": "stdout",
     "output_type": "stream",
     "text": [
      "Accuracy of the network on the test images: 100.00%\n"
     ]
    },
    {
     "data": {
      "text/plain": "  0%|          | 0/1094 [00:00<?, ?it/s]",
      "application/vnd.jupyter.widget-view+json": {
       "version_major": 2,
       "version_minor": 0,
       "model_id": "11f5c39487bc424190e6f3239e17cdf9"
      }
     },
     "metadata": {},
     "output_type": "display_data"
    },
    {
     "name": "stdout",
     "output_type": "stream",
     "text": [
      "Accuracy of the network on the test images: 99.98%\n"
     ]
    },
    {
     "data": {
      "text/plain": "  0%|          | 0/1094 [00:00<?, ?it/s]",
      "application/vnd.jupyter.widget-view+json": {
       "version_major": 2,
       "version_minor": 0,
       "model_id": "4520f140be524d52ba538216b9192f7d"
      }
     },
     "metadata": {},
     "output_type": "display_data"
    },
    {
     "name": "stdout",
     "output_type": "stream",
     "text": [
      "Accuracy of the network on the test images: 99.99%\n"
     ]
    },
    {
     "data": {
      "text/plain": "  0%|          | 0/1094 [00:00<?, ?it/s]",
      "application/vnd.jupyter.widget-view+json": {
       "version_major": 2,
       "version_minor": 0,
       "model_id": "3b06189340064032ab133572e1404a61"
      }
     },
     "metadata": {},
     "output_type": "display_data"
    },
    {
     "name": "stdout",
     "output_type": "stream",
     "text": [
      "Accuracy of the network on the test images: 100.00%\n"
     ]
    },
    {
     "data": {
      "text/plain": "  0%|          | 0/1094 [00:00<?, ?it/s]",
      "application/vnd.jupyter.widget-view+json": {
       "version_major": 2,
       "version_minor": 0,
       "model_id": "b699d263fe3c4a4f8726e202c4718547"
      }
     },
     "metadata": {},
     "output_type": "display_data"
    },
    {
     "name": "stdout",
     "output_type": "stream",
     "text": [
      "Accuracy of the network on the test images: 99.98%\n"
     ]
    },
    {
     "data": {
      "text/plain": "  0%|          | 0/1094 [00:00<?, ?it/s]",
      "application/vnd.jupyter.widget-view+json": {
       "version_major": 2,
       "version_minor": 0,
       "model_id": "21e9dff8427b42d7add5175216004ff1"
      }
     },
     "metadata": {},
     "output_type": "display_data"
    },
    {
     "name": "stdout",
     "output_type": "stream",
     "text": [
      "Accuracy of the network on the test images: 97.01%\n"
     ]
    },
    {
     "data": {
      "text/plain": "  0%|          | 0/1094 [00:00<?, ?it/s]",
      "application/vnd.jupyter.widget-view+json": {
       "version_major": 2,
       "version_minor": 0,
       "model_id": "ecca8b74833b4a8bb70142d7f31845b1"
      }
     },
     "metadata": {},
     "output_type": "display_data"
    },
    {
     "name": "stdout",
     "output_type": "stream",
     "text": [
      "Accuracy of the network on the test images: 98.25%\n"
     ]
    },
    {
     "data": {
      "text/plain": "  0%|          | 0/1094 [00:00<?, ?it/s]",
      "application/vnd.jupyter.widget-view+json": {
       "version_major": 2,
       "version_minor": 0,
       "model_id": "d1b749e9d0ec42c28aa745ab9c60eb7c"
      }
     },
     "metadata": {},
     "output_type": "display_data"
    },
    {
     "name": "stdout",
     "output_type": "stream",
     "text": [
      "Accuracy of the network on the test images: 99.00%\n"
     ]
    },
    {
     "data": {
      "text/plain": "  0%|          | 0/1094 [00:00<?, ?it/s]",
      "application/vnd.jupyter.widget-view+json": {
       "version_major": 2,
       "version_minor": 0,
       "model_id": "448a3aae72a849eb95b5e1613d6417db"
      }
     },
     "metadata": {},
     "output_type": "display_data"
    },
    {
     "name": "stdout",
     "output_type": "stream",
     "text": [
      "Accuracy of the network on the test images: 98.30%\n"
     ]
    },
    {
     "data": {
      "text/plain": "  0%|          | 0/1094 [00:00<?, ?it/s]",
      "application/vnd.jupyter.widget-view+json": {
       "version_major": 2,
       "version_minor": 0,
       "model_id": "b5bbd541a1ed414ab3c06d52f8cb1cd1"
      }
     },
     "metadata": {},
     "output_type": "display_data"
    },
    {
     "name": "stdout",
     "output_type": "stream",
     "text": [
      "Accuracy of the network on the test images: 99.06%\n"
     ]
    },
    {
     "data": {
      "text/plain": "  0%|          | 0/1094 [00:00<?, ?it/s]",
      "application/vnd.jupyter.widget-view+json": {
       "version_major": 2,
       "version_minor": 0,
       "model_id": "d49473232f544e2bb51bc935df46ee99"
      }
     },
     "metadata": {},
     "output_type": "display_data"
    },
    {
     "name": "stdout",
     "output_type": "stream",
     "text": [
      "Accuracy of the network on the test images: 98.67%\n"
     ]
    },
    {
     "data": {
      "text/plain": "  0%|          | 0/1094 [00:00<?, ?it/s]",
      "application/vnd.jupyter.widget-view+json": {
       "version_major": 2,
       "version_minor": 0,
       "model_id": "40c758abf25d43b78c3e79e00a7a2fc2"
      }
     },
     "metadata": {},
     "output_type": "display_data"
    },
    {
     "name": "stdout",
     "output_type": "stream",
     "text": [
      "Accuracy of the network on the test images: 99.03%\n"
     ]
    },
    {
     "data": {
      "text/plain": "  0%|          | 0/1094 [00:00<?, ?it/s]",
      "application/vnd.jupyter.widget-view+json": {
       "version_major": 2,
       "version_minor": 0,
       "model_id": "2008d6b3498b48a09b08a60f2cd8440f"
      }
     },
     "metadata": {},
     "output_type": "display_data"
    },
    {
     "name": "stdout",
     "output_type": "stream",
     "text": [
      "Accuracy of the network on the test images: 98.69%\n"
     ]
    },
    {
     "data": {
      "text/plain": "  0%|          | 0/1094 [00:00<?, ?it/s]",
      "application/vnd.jupyter.widget-view+json": {
       "version_major": 2,
       "version_minor": 0,
       "model_id": "253695d34030435fb44a3fafffbea586"
      }
     },
     "metadata": {},
     "output_type": "display_data"
    },
    {
     "name": "stdout",
     "output_type": "stream",
     "text": [
      "Accuracy of the network on the test images: 98.91%\n"
     ]
    },
    {
     "data": {
      "text/plain": "  0%|          | 0/1094 [00:00<?, ?it/s]",
      "application/vnd.jupyter.widget-view+json": {
       "version_major": 2,
       "version_minor": 0,
       "model_id": "f3b212c20e8b49ff94b0b4d2c719b886"
      }
     },
     "metadata": {},
     "output_type": "display_data"
    },
    {
     "name": "stdout",
     "output_type": "stream",
     "text": [
      "Accuracy of the network on the test images: 98.93%\n"
     ]
    },
    {
     "data": {
      "text/plain": "  0%|          | 0/1094 [00:00<?, ?it/s]",
      "application/vnd.jupyter.widget-view+json": {
       "version_major": 2,
       "version_minor": 0,
       "model_id": "760ce9ce82c3442994fbc267273aa2f9"
      }
     },
     "metadata": {},
     "output_type": "display_data"
    },
    {
     "name": "stdout",
     "output_type": "stream",
     "text": [
      "Accuracy of the network on the test images: 99.07%\n"
     ]
    },
    {
     "data": {
      "text/plain": "  0%|          | 0/1094 [00:00<?, ?it/s]",
      "application/vnd.jupyter.widget-view+json": {
       "version_major": 2,
       "version_minor": 0,
       "model_id": "e109da5e886e4d72817cd4384f7bd6ff"
      }
     },
     "metadata": {},
     "output_type": "display_data"
    },
    {
     "name": "stdout",
     "output_type": "stream",
     "text": [
      "Accuracy of the network on the test images: 99.23%\n"
     ]
    },
    {
     "data": {
      "text/plain": "  0%|          | 0/1094 [00:00<?, ?it/s]",
      "application/vnd.jupyter.widget-view+json": {
       "version_major": 2,
       "version_minor": 0,
       "model_id": "354e256e82844f37b47c17f40a861c5b"
      }
     },
     "metadata": {},
     "output_type": "display_data"
    },
    {
     "name": "stdout",
     "output_type": "stream",
     "text": [
      "Accuracy of the network on the test images: 98.93%\n"
     ]
    },
    {
     "data": {
      "text/plain": "  0%|          | 0/1094 [00:00<?, ?it/s]",
      "application/vnd.jupyter.widget-view+json": {
       "version_major": 2,
       "version_minor": 0,
       "model_id": "2f65a52a53cd4b22939d5ec7692d21c1"
      }
     },
     "metadata": {},
     "output_type": "display_data"
    },
    {
     "name": "stdout",
     "output_type": "stream",
     "text": [
      "Accuracy of the network on the test images: 98.99%\n"
     ]
    },
    {
     "data": {
      "text/plain": "  0%|          | 0/1094 [00:00<?, ?it/s]",
      "application/vnd.jupyter.widget-view+json": {
       "version_major": 2,
       "version_minor": 0,
       "model_id": "d0a61b42f9e84b0e9d674884a121bc9e"
      }
     },
     "metadata": {},
     "output_type": "display_data"
    },
    {
     "name": "stdout",
     "output_type": "stream",
     "text": [
      "Accuracy of the network on the test images: 98.85%\n"
     ]
    },
    {
     "data": {
      "text/plain": "  0%|          | 0/1094 [00:00<?, ?it/s]",
      "application/vnd.jupyter.widget-view+json": {
       "version_major": 2,
       "version_minor": 0,
       "model_id": "12330d1774e74c4e8728e6de785c7ea2"
      }
     },
     "metadata": {},
     "output_type": "display_data"
    },
    {
     "name": "stdout",
     "output_type": "stream",
     "text": [
      "Accuracy of the network on the test images: 99.31%\n"
     ]
    },
    {
     "data": {
      "text/plain": "  0%|          | 0/1094 [00:00<?, ?it/s]",
      "application/vnd.jupyter.widget-view+json": {
       "version_major": 2,
       "version_minor": 0,
       "model_id": "d9651dc9deb84b46bc6d678c160cb9bf"
      }
     },
     "metadata": {},
     "output_type": "display_data"
    },
    {
     "name": "stdout",
     "output_type": "stream",
     "text": [
      "Accuracy of the network on the test images: 99.13%\n"
     ]
    },
    {
     "data": {
      "text/plain": "  0%|          | 0/1094 [00:00<?, ?it/s]",
      "application/vnd.jupyter.widget-view+json": {
       "version_major": 2,
       "version_minor": 0,
       "model_id": "3179cfc481494c058d91ff293c521979"
      }
     },
     "metadata": {},
     "output_type": "display_data"
    },
    {
     "name": "stdout",
     "output_type": "stream",
     "text": [
      "Accuracy of the network on the test images: 99.41%\n"
     ]
    },
    {
     "data": {
      "text/plain": "  0%|          | 0/1094 [00:00<?, ?it/s]",
      "application/vnd.jupyter.widget-view+json": {
       "version_major": 2,
       "version_minor": 0,
       "model_id": "8f477b1c380047acad62d3b4a63badaa"
      }
     },
     "metadata": {},
     "output_type": "display_data"
    },
    {
     "name": "stdout",
     "output_type": "stream",
     "text": [
      "Accuracy of the network on the test images: 99.00%\n"
     ]
    },
    {
     "data": {
      "text/plain": "  0%|          | 0/1094 [00:00<?, ?it/s]",
      "application/vnd.jupyter.widget-view+json": {
       "version_major": 2,
       "version_minor": 0,
       "model_id": "c7abb4c013ab49f6ab3d9511d07eb975"
      }
     },
     "metadata": {},
     "output_type": "display_data"
    },
    {
     "name": "stdout",
     "output_type": "stream",
     "text": [
      "Accuracy of the network on the test images: 99.25%\n",
      "Computing principal space ...\n",
      "Computing principal space ...\n",
      "Computing alpha ...\n",
      "Computing alpha ...\n",
      "self.alpha=9.0741\n",
      "self.alpha=9.0741\n",
      "Fitting with temperature scaling\n",
      "label: y1.unique()=tensor([ 0,  1,  2,  3,  4,  5,  6,  7,  8,  9, 10, 11, 12, 13, 14, 15, 16, 17,\n",
      "        18, 19, 20, 21, 22, 23, 24, 25, 26, 27, 28, 29, 30, 31, 32, 33, 34, 35,\n",
      "        36, 37, 38, 39, 40, 41, 42]) logits_label.shape=torch.Size([4209, 43])\n",
      "Initial T/NLL: 1.000/0.001\n",
      "Initial T/NLL: 1.000/0.001\n",
      "Optimal temperature: 0.9996633529663086\n",
      "Optimal temperature: 0.9996633529663086\n",
      "NLL after scaling: 0.00'\n",
      "NLL after scaling: 0.00'\n",
      "color: y2.unique()=tensor([0, 1, 2, 3]) logits_color.shape=torch.Size([4209, 4])\n",
      "Initial T/NLL: 1.000/0.000\n",
      "Initial T/NLL: 1.000/0.000\n",
      "Optimal temperature: 0.9999987483024597\n",
      "Optimal temperature: 0.9999987483024597\n",
      "NLL after scaling: 0.00'\n",
      "NLL after scaling: 0.00'\n",
      "shape: y3.unique()=tensor([0, 1, 2, 3, 4]) logits_shape.shape=torch.Size([4209, 5])\n",
      "Initial T/NLL: 1.000/0.000\n",
      "Initial T/NLL: 1.000/0.000\n",
      "Optimal temperature: 0.9999993443489075\n",
      "Optimal temperature: 0.9999993443489075\n",
      "NLL after scaling: 0.00'\n",
      "NLL after scaling: 0.00'\n",
      "self.scorer_label.t=Parameter containing:\n",
      "tensor(0.9997, requires_grad=True)\n",
      "self.scorer_color.t=Parameter containing:\n",
      "tensor(1.0000, requires_grad=True)\n",
      "self.scorer_shape.t=Parameter containing:\n",
      "tensor(1.0000, requires_grad=True)\n",
      "Fitting with temperature scaling\n"
     ]
    },
    {
     "name": "stderr",
     "output_type": "stream",
     "text": [
      "/home/ki/projects/pytorch-ood/src/pytorch_ood/detector/tscaling.py:84: UserWarning: Implicit dimension choice for log_softmax has been deprecated. Change the call to include dim=X as an argument.\n",
      "  loss = nll_loss(log_softmax(logits / self.t), labels).item()\n",
      "/home/ki/projects/pytorch-ood/src/pytorch_ood/detector/tscaling.py:90: UserWarning: Implicit dimension choice for log_softmax has been deprecated. Change the call to include dim=X as an argument.\n",
      "  loss = nll_loss(log_softmax(logits / self.t), labels)\n",
      "/home/ki/projects/pytorch-ood/src/pytorch_ood/detector/tscaling.py:97: UserWarning: Implicit dimension choice for log_softmax has been deprecated. Change the call to include dim=X as an argument.\n",
      "  loss = nll_loss(log_softmax(logits / self.t), labels).item()\n"
     ]
    },
    {
     "name": "stdout",
     "output_type": "stream",
     "text": [
      "label: y1.unique()=tensor([ 0,  1,  2,  3,  4,  5,  6,  7,  8,  9, 10, 11, 12, 13, 14, 15, 16, 17,\n",
      "        18, 19, 20, 21, 22, 23, 24, 25, 26, 27, 28, 29, 30, 31, 32, 33, 34, 35,\n",
      "        36, 37, 38, 39, 40, 41, 42]) logits_label.shape=torch.Size([4209, 43])\n",
      "Initial T/NLL: 1.000/0.001\n",
      "Initial T/NLL: 1.000/0.001\n",
      "Optimal temperature: 0.9996633529663086\n",
      "Optimal temperature: 0.9996633529663086\n",
      "NLL after scaling: 0.00'\n",
      "NLL after scaling: 0.00'\n",
      "color: y2.unique()=tensor([0, 1, 2, 3]) logits_color.shape=torch.Size([4209, 4])\n",
      "Initial T/NLL: 1.000/0.000\n",
      "Initial T/NLL: 1.000/0.000\n",
      "Optimal temperature: 0.9999987483024597\n",
      "Optimal temperature: 0.9999987483024597\n",
      "NLL after scaling: 0.00'\n",
      "NLL after scaling: 0.00'\n",
      "shape: y3.unique()=tensor([0, 1, 2, 3, 4]) logits_shape.shape=torch.Size([4209, 5])\n",
      "Initial T/NLL: 1.000/0.000\n",
      "Initial T/NLL: 1.000/0.000\n",
      "Optimal temperature: 0.9999993443489075\n",
      "Optimal temperature: 0.9999993443489075\n",
      "NLL after scaling: 0.00'\n",
      "NLL after scaling: 0.00'\n",
      "self.scorer_label.t=Parameter containing:\n",
      "tensor(0.9997, requires_grad=True)\n",
      "self.scorer_color.t=Parameter containing:\n",
      "tensor(1.0000, requires_grad=True)\n",
      "self.scorer_shape.t=Parameter containing:\n",
      "tensor(1.0000, requires_grad=True)\n",
      "{'AUROC': 0.9980981349945068, 'AUPR-IN': 0.9971493482589722, 'AUPR-OUT': 0.9988180994987488, 'FPR95TPR': 0.007917656563222408, 'Method': 'PrologOOD', 'Dataset': 'LSUNCrop'}\n",
      "{'AUROC': 0.9984782338142395, 'AUPR-IN': 0.9976415634155273, 'AUPR-OUT': 0.9991037845611572, 'FPR95TPR': 0.0052256532944738865, 'Method': 'PrologOOD', 'Dataset': 'LSUNResize'}\n",
      "Found 5640 texture files.\n",
      "Found 5640 texture files.\n",
      "{'AUROC': 0.9980360269546509, 'AUPR-IN': 0.994903028011322, 'AUPR-OUT': 0.9992460012435913, 'FPR95TPR': 0.008867775090038776, 'Method': 'PrologOOD', 'Dataset': 'Textures'}\n",
      "{'AUROC': 0.9981564879417419, 'AUPR-IN': 0.9972511529922485, 'AUPR-OUT': 0.9988594055175781, 'FPR95TPR': 0.007917656563222408, 'Method': 'PrologOOD', 'Dataset': 'TinyImageNetCrop'}\n",
      "{'AUROC': 0.9982991218566895, 'AUPR-IN': 0.9973640441894531, 'AUPR-OUT': 0.9989763498306274, 'FPR95TPR': 0.006254948675632477, 'Method': 'PrologOOD', 'Dataset': 'TinyImageNetResize'}\n",
      "{'AUROC': 0.9992874264717102, 'AUPR-IN': 0.9991016387939453, 'AUPR-OUT': 0.9996851086616516, 'FPR95TPR': 0.0014251781394705176, 'Method': 'PrologOOD+', 'Dataset': 'LSUNCrop'}\n",
      "{'AUROC': 0.9992874264717102, 'AUPR-IN': 0.9991016387939453, 'AUPR-OUT': 0.9996851086616516, 'FPR95TPR': 0.0014251781394705176, 'Method': 'PrologOOD+', 'Dataset': 'LSUNResize'}\n",
      "Found 5640 texture files.\n",
      "Found 5640 texture files.\n",
      "{'AUROC': 0.9992858171463013, 'AUPR-IN': 0.9984044432640076, 'AUPR-OUT': 0.9997793436050415, 'FPR95TPR': 0.0014251781394705176, 'Method': 'PrologOOD+', 'Dataset': 'Textures'}\n",
      "{'AUROC': 0.9992874264717102, 'AUPR-IN': 0.9991016387939453, 'AUPR-OUT': 0.9996851086616516, 'FPR95TPR': 0.0014251781394705176, 'Method': 'PrologOOD+', 'Dataset': 'TinyImageNetCrop'}\n",
      "{'AUROC': 0.9992874264717102, 'AUPR-IN': 0.9991016387939453, 'AUPR-OUT': 0.9996851086616516, 'FPR95TPR': 0.0014251781394705176, 'Method': 'PrologOOD+', 'Dataset': 'TinyImageNetResize'}\n",
      "{'AUROC': 0.9980982542037964, 'AUPR-IN': 0.9971494674682617, 'AUPR-OUT': 0.9988182187080383, 'FPR95TPR': 0.007917656563222408, 'Method': 'PrologOODT', 'Dataset': 'LSUNCrop'}\n",
      "{'AUROC': 0.99847811460495, 'AUPR-IN': 0.9976413249969482, 'AUPR-OUT': 0.9991036653518677, 'FPR95TPR': 0.0052256532944738865, 'Method': 'PrologOODT', 'Dataset': 'LSUNResize'}\n",
      "Found 5640 texture files.\n",
      "Found 5640 texture files.\n",
      "{'AUROC': 0.9980359077453613, 'AUPR-IN': 0.9949029088020325, 'AUPR-OUT': 0.9992460608482361, 'FPR95TPR': 0.008867775090038776, 'Method': 'PrologOODT', 'Dataset': 'Textures'}\n",
      "{'AUROC': 0.9981564283370972, 'AUPR-IN': 0.9972510933876038, 'AUPR-OUT': 0.9988592863082886, 'FPR95TPR': 0.007917656563222408, 'Method': 'PrologOODT', 'Dataset': 'TinyImageNetCrop'}\n",
      "{'AUROC': 0.9982989430427551, 'AUPR-IN': 0.997363805770874, 'AUPR-OUT': 0.9989762306213379, 'FPR95TPR': 0.006254948675632477, 'Method': 'PrologOODT', 'Dataset': 'TinyImageNetResize'}\n",
      "{'AUROC': 0.9992874264717102, 'AUPR-IN': 0.9991016387939453, 'AUPR-OUT': 0.9996851682662964, 'FPR95TPR': 0.0014251781394705176, 'Method': 'PrologOODT+', 'Dataset': 'LSUNCrop'}\n",
      "{'AUROC': 0.9992874264717102, 'AUPR-IN': 0.9991016387939453, 'AUPR-OUT': 0.9996851682662964, 'FPR95TPR': 0.0014251781394705176, 'Method': 'PrologOODT+', 'Dataset': 'LSUNResize'}\n",
      "Found 5640 texture files.\n",
      "Found 5640 texture files.\n",
      "{'AUROC': 0.9992836117744446, 'AUPR-IN': 0.9983996152877808, 'AUPR-OUT': 0.9997782707214355, 'FPR95TPR': 0.0014251781394705176, 'Method': 'PrologOODT+', 'Dataset': 'Textures'}\n",
      "{'AUROC': 0.9992874264717102, 'AUPR-IN': 0.9991016387939453, 'AUPR-OUT': 0.9996851682662964, 'FPR95TPR': 0.0014251781394705176, 'Method': 'PrologOODT+', 'Dataset': 'TinyImageNetCrop'}\n",
      "{'AUROC': 0.9992874264717102, 'AUPR-IN': 0.9991016387939453, 'AUPR-OUT': 0.9996851682662964, 'FPR95TPR': 0.0014251781394705176, 'Method': 'PrologOODT+', 'Dataset': 'TinyImageNetResize'}\n",
      "{'AUROC': 0.8328373432159424, 'AUPR-IN': 0.9057573080062866, 'AUPR-OUT': 0.8952688574790955, 'FPR95TPR': 1.0, 'Method': 'Logic', 'Dataset': 'LSUNCrop'}\n",
      "{'AUROC': 0.8342373967170715, 'AUPR-IN': 0.9065442681312561, 'AUPR-OUT': 0.8959649205207825, 'FPR95TPR': 1.0, 'Method': 'Logic', 'Dataset': 'LSUNResize'}\n",
      "Found 5640 texture files.\n",
      "Found 5640 texture files.\n",
      "{'AUROC': 0.8450320363044739, 'AUPR-IN': 0.8910666704177856, 'AUPR-OUT': 0.9391612410545349, 'FPR95TPR': 1.0, 'Method': 'Logic', 'Dataset': 'Textures'}\n",
      "{'AUROC': 0.840787410736084, 'AUPR-IN': 0.910225510597229, 'AUPR-OUT': 0.8992542624473572, 'FPR95TPR': 1.0, 'Method': 'Logic', 'Dataset': 'TinyImageNetCrop'}\n",
      "{'AUROC': 0.8224873542785645, 'AUPR-IN': 0.8999379277229309, 'AUPR-OUT': 0.8901978731155396, 'FPR95TPR': 1.0, 'Method': 'Logic', 'Dataset': 'TinyImageNetResize'}\n",
      "{'AUROC': 0.9992873668670654, 'AUPR-IN': 0.9991016387939453, 'AUPR-OUT': 0.9996851086616516, 'FPR95TPR': 0.0014251781394705176, 'Method': 'Logic+', 'Dataset': 'LSUNCrop'}\n",
      "{'AUROC': 0.9992873668670654, 'AUPR-IN': 0.9991016387939453, 'AUPR-OUT': 0.9996851086616516, 'FPR95TPR': 0.0014251781394705176, 'Method': 'Logic+', 'Dataset': 'LSUNResize'}\n",
      "Found 5640 texture files.\n",
      "Found 5640 texture files.\n",
      "{'AUROC': 0.9988442063331604, 'AUPR-IN': 0.998101532459259, 'AUPR-OUT': 0.9995819330215454, 'FPR95TPR': 0.0014251781394705176, 'Method': 'Logic+', 'Dataset': 'Textures'}\n",
      "{'AUROC': 0.9992873668670654, 'AUPR-IN': 0.9991016387939453, 'AUPR-OUT': 0.9996851086616516, 'FPR95TPR': 0.0014251781394705176, 'Method': 'Logic+', 'Dataset': 'TinyImageNetCrop'}\n",
      "{'AUROC': 0.9992873668670654, 'AUPR-IN': 0.9991016387939453, 'AUPR-OUT': 0.9996851086616516, 'FPR95TPR': 0.0014251781394705176, 'Method': 'Logic+', 'Dataset': 'TinyImageNetResize'}\n",
      "{'AUROC': 0.9975125789642334, 'AUPR-IN': 0.9964343309402466, 'AUPR-OUT': 0.9983085989952087, 'FPR95TPR': 0.011322248727083206, 'Method': 'Ensemble', 'Dataset': 'LSUNCrop'}\n",
      "{'AUROC': 0.9981476068496704, 'AUPR-IN': 0.9973238706588745, 'AUPR-OUT': 0.9987491965293884, 'FPR95TPR': 0.009105305187404156, 'Method': 'Ensemble', 'Dataset': 'LSUNResize'}\n",
      "Found 5640 texture files.\n",
      "Found 5640 texture files.\n",
      "{'AUROC': 0.9970104694366455, 'AUPR-IN': 0.9922549724578857, 'AUPR-OUT': 0.9987958669662476, 'FPR95TPR': 0.012905780225992203, 'Method': 'Ensemble', 'Dataset': 'Textures'}\n",
      "{'AUROC': 0.9975613355636597, 'AUPR-IN': 0.9964781403541565, 'AUPR-OUT': 0.9983523488044739, 'FPR95TPR': 0.010926365852355957, 'Method': 'Ensemble', 'Dataset': 'TinyImageNetCrop'}\n",
      "{'AUROC': 0.9982843399047852, 'AUPR-IN': 0.9975786209106445, 'AUPR-OUT': 0.998817503452301, 'FPR95TPR': 0.009105305187404156, 'Method': 'Ensemble', 'Dataset': 'TinyImageNetResize'}\n",
      "{'AUROC': 0.984611988067627, 'AUPR-IN': 0.976485013961792, 'AUPR-OUT': 0.9886721968650818, 'FPR95TPR': 0.04140934348106384, 'Method': 'MSP', 'Dataset': 'LSUNCrop'}\n",
      "{'AUROC': 0.9956828951835632, 'AUPR-IN': 0.9932481050491333, 'AUPR-OUT': 0.9971458911895752, 'FPR95TPR': 0.016310371458530426, 'Method': 'MSP', 'Dataset': 'LSUNResize'}\n",
      "Found 5640 texture files.\n",
      "Found 5640 texture files.\n",
      "{'AUROC': 0.9905454516410828, 'AUPR-IN': 0.9762721657752991, 'AUPR-OUT': 0.9953173995018005, 'FPR95TPR': 0.026207443326711655, 'Method': 'MSP', 'Dataset': 'Textures'}\n",
      "{'AUROC': 0.9912949204444885, 'AUPR-IN': 0.987686812877655, 'AUPR-OUT': 0.9919816851615906, 'FPR95TPR': 0.024940617382526398, 'Method': 'MSP', 'Dataset': 'TinyImageNetCrop'}\n",
      "{'AUROC': 0.9952573776245117, 'AUPR-IN': 0.9928088188171387, 'AUPR-OUT': 0.9967209100723267, 'FPR95TPR': 0.017260489985346794, 'Method': 'MSP', 'Dataset': 'TinyImageNetResize'}\n",
      "{'AUROC': 0.9814825057983398, 'AUPR-IN': 0.979083776473999, 'AUPR-OUT': 0.98310387134552, 'FPR95TPR': 0.0748218521475792, 'Method': 'Energy', 'Dataset': 'LSUNCrop'}\n",
      "{'AUROC': 0.9988259077072144, 'AUPR-IN': 0.9984911680221558, 'AUPR-OUT': 0.9990516901016235, 'FPR95TPR': 0.003167062532156706, 'Method': 'Energy', 'Dataset': 'LSUNResize'}\n",
      "Found 5640 texture files.\n",
      "Found 5640 texture files.\n",
      "{'AUROC': 0.9891902804374695, 'AUPR-IN': 0.9838494658470154, 'AUPR-OUT': 0.9917429089546204, 'FPR95TPR': 0.021852731704711914, 'Method': 'Energy', 'Dataset': 'Textures'}\n",
      "{'AUROC': 0.9927229285240173, 'AUPR-IN': 0.9925776124000549, 'AUPR-OUT': 0.9918761253356934, 'FPR95TPR': 0.017577197402715683, 'Method': 'Energy', 'Dataset': 'TinyImageNetCrop'}\n",
      "{'AUROC': 0.9973276257514954, 'AUPR-IN': 0.9970555901527405, 'AUPR-OUT': 0.9973167181015015, 'FPR95TPR': 0.005938242189586163, 'Method': 'Energy', 'Dataset': 'TinyImageNetResize'}\n",
      "{'AUROC': 0.9814576506614685, 'AUPR-IN': 0.9790723919868469, 'AUPR-OUT': 0.9830434322357178, 'FPR95TPR': 0.0748218521475792, 'Method': 'ReAct', 'Dataset': 'LSUNCrop'}\n",
      "{'AUROC': 0.998828649520874, 'AUPR-IN': 0.9984935522079468, 'AUPR-OUT': 0.9990523457527161, 'FPR95TPR': 0.003167062532156706, 'Method': 'ReAct', 'Dataset': 'LSUNResize'}\n",
      "Found 5640 texture files.\n",
      "Found 5640 texture files.\n",
      "{'AUROC': 0.9894673824310303, 'AUPR-IN': 0.9841030836105347, 'AUPR-OUT': 0.9918805956840515, 'FPR95TPR': 0.021852731704711914, 'Method': 'ReAct', 'Dataset': 'Textures'}\n",
      "{'AUROC': 0.9927158951759338, 'AUPR-IN': 0.9925768375396729, 'AUPR-OUT': 0.9918492436408997, 'FPR95TPR': 0.017577197402715683, 'Method': 'ReAct', 'Dataset': 'TinyImageNetCrop'}\n",
      "{'AUROC': 0.9973465204238892, 'AUPR-IN': 0.9970694780349731, 'AUPR-OUT': 0.9973627328872681, 'FPR95TPR': 0.005938242189586163, 'Method': 'ReAct', 'Dataset': 'TinyImageNetResize'}\n",
      "{'AUROC': 0.965477466583252, 'AUPR-IN': 0.9598594307899475, 'AUPR-OUT': 0.9958395957946777, 'FPR95TPR': 0.06896279007196426, 'Method': 'ViM', 'Dataset': 'LSUNCrop'}\n",
      "{'AUROC': 0.9655148983001709, 'AUPR-IN': 0.9599313139915466, 'AUPR-OUT': 0.9964698553085327, 'FPR95TPR': 0.06896279007196426, 'Method': 'ViM', 'Dataset': 'LSUNResize'}\n",
      "Found 5640 texture files.\n",
      "Found 5640 texture files.\n",
      "{'AUROC': 0.9655113220214844, 'AUPR-IN': 0.9330891966819763, 'AUPR-OUT': 0.998650074005127, 'FPR95TPR': 0.06896279007196426, 'Method': 'ViM', 'Dataset': 'Textures'}\n",
      "{'AUROC': 0.9654960632324219, 'AUPR-IN': 0.9598953723907471, 'AUPR-OUT': 0.9960646033287048, 'FPR95TPR': 0.06896279007196426, 'Method': 'ViM', 'Dataset': 'TinyImageNetCrop'}\n",
      "{'AUROC': 0.965518593788147, 'AUPR-IN': 0.9599393010139465, 'AUPR-OUT': 0.9971320629119873, 'FPR95TPR': 0.06896279007196426, 'Method': 'ViM', 'Dataset': 'TinyImageNetResize'}\n",
      "{'AUROC': 0.9938715100288391, 'AUPR-IN': 0.9893783330917358, 'AUPR-OUT': 0.9961369037628174, 'FPR95TPR': 0.02391132153570652, 'Method': 'Mahalanobis', 'Dataset': 'LSUNCrop'}\n",
      "{'AUROC': 0.9985460042953491, 'AUPR-IN': 0.9970518946647644, 'AUPR-OUT': 0.9990825653076172, 'FPR95TPR': 0.005067300051450729, 'Method': 'Mahalanobis', 'Dataset': 'LSUNResize'}\n",
      "Found 5640 texture files.\n",
      "Found 5640 texture files.\n",
      "{'AUROC': 0.9975035786628723, 'AUPR-IN': 0.9933958649635315, 'AUPR-OUT': 0.9989812970161438, 'FPR95TPR': 0.011876484379172325, 'Method': 'Mahalanobis', 'Dataset': 'Textures'}\n",
      "{'AUROC': 0.9966432452201843, 'AUPR-IN': 0.99428790807724, 'AUPR-OUT': 0.9978047609329224, 'FPR95TPR': 0.015518606640398502, 'Method': 'Mahalanobis', 'Dataset': 'TinyImageNetCrop'}\n",
      "{'AUROC': 0.9985660314559937, 'AUPR-IN': 0.9974176287651062, 'AUPR-OUT': 0.9990649223327637, 'FPR95TPR': 0.0054631829261779785, 'Method': 'Mahalanobis', 'Dataset': 'TinyImageNetResize'}\n",
      "{'AUROC': 0.9855709671974182, 'AUPR-IN': 0.9796926379203796, 'AUPR-OUT': 0.9889130592346191, 'FPR95TPR': 0.040142517536878586, 'Method': 'Entropy', 'Dataset': 'LSUNCrop'}\n",
      "{'AUROC': 0.9972347021102905, 'AUPR-IN': 0.9961128830909729, 'AUPR-OUT': 0.9979907274246216, 'FPR95TPR': 0.01441013440489769, 'Method': 'Entropy', 'Dataset': 'LSUNResize'}\n",
      "Found 5640 texture files.\n",
      "Found 5640 texture files.\n",
      "{'AUROC': 0.9918228387832642, 'AUPR-IN': 0.981654942035675, 'AUPR-OUT': 0.9956648945808411, 'FPR95TPR': 0.025653205811977386, 'Method': 'Entropy', 'Dataset': 'Textures'}\n",
      "{'AUROC': 0.9926435947418213, 'AUPR-IN': 0.9906697273254395, 'AUPR-OUT': 0.9925971031188965, 'FPR95TPR': 0.02454473450779915, 'Method': 'Entropy', 'Dataset': 'TinyImageNetCrop'}\n",
      "{'AUROC': 0.9966295957565308, 'AUPR-IN': 0.9953708052635193, 'AUPR-OUT': 0.9974443316459656, 'FPR95TPR': 0.016627078875899315, 'Method': 'Entropy', 'Dataset': 'TinyImageNetResize'}\n",
      "{'AUROC': 0.981259822845459, 'AUPR-IN': 0.9786001443862915, 'AUPR-OUT': 0.9829961657524109, 'FPR95TPR': 0.0748218521475792, 'Method': 'MaxLogit', 'Dataset': 'LSUNCrop'}\n",
      "{'AUROC': 0.9986794590950012, 'AUPR-IN': 0.9982547760009766, 'AUPR-OUT': 0.9989566802978516, 'FPR95TPR': 0.003800475038588047, 'Method': 'MaxLogit', 'Dataset': 'LSUNResize'}\n",
      "Found 5640 texture files.\n",
      "Found 5640 texture files.\n",
      "{'AUROC': 0.9890343546867371, 'AUPR-IN': 0.9832735061645508, 'AUPR-OUT': 0.9917075037956238, 'FPR95TPR': 0.022090261802077293, 'Method': 'MaxLogit', 'Dataset': 'Textures'}\n",
      "{'AUROC': 0.9925285577774048, 'AUPR-IN': 0.9922483563423157, 'AUPR-OUT': 0.9917594790458679, 'FPR95TPR': 0.017893902957439423, 'Method': 'MaxLogit', 'Dataset': 'TinyImageNetCrop'}\n",
      "{'AUROC': 0.997190535068512, 'AUPR-IN': 0.9968392848968506, 'AUPR-OUT': 0.9972277879714966, 'FPR95TPR': 0.007284244056791067, 'Method': 'MaxLogit', 'Dataset': 'TinyImageNetResize'}\n"
     ]
    },
    {
     "data": {
      "text/plain": "  0%|          | 0/2657 [00:00<?, ?it/s]",
      "application/vnd.jupyter.widget-view+json": {
       "version_major": 2,
       "version_minor": 0,
       "model_id": "6993898f32b146309c834ef18e23717c"
      }
     },
     "metadata": {},
     "output_type": "display_data"
    },
    {
     "name": "stdout",
     "output_type": "stream",
     "text": [
      "Accuracy of the sign network on the test images: 99.99%\n"
     ]
    },
    {
     "data": {
      "text/plain": "  0%|          | 0/2657 [00:00<?, ?it/s]",
      "application/vnd.jupyter.widget-view+json": {
       "version_major": 2,
       "version_minor": 0,
       "model_id": "268cfcd47a3449149c09cae5dd5cf4b0"
      }
     },
     "metadata": {},
     "output_type": "display_data"
    },
    {
     "name": "stdout",
     "output_type": "stream",
     "text": [
      "Accuracy of the sign network on the test images: 99.99%\n"
     ]
    },
    {
     "data": {
      "text/plain": "  0%|          | 0/2657 [00:00<?, ?it/s]",
      "application/vnd.jupyter.widget-view+json": {
       "version_major": 2,
       "version_minor": 0,
       "model_id": "bf85380a445e49048d4e19890b3f68e1"
      }
     },
     "metadata": {},
     "output_type": "display_data"
    },
    {
     "name": "stdout",
     "output_type": "stream",
     "text": [
      "Accuracy of the sign network on the test images: 99.99%\n"
     ]
    },
    {
     "data": {
      "text/plain": "  0%|          | 0/2657 [00:00<?, ?it/s]",
      "application/vnd.jupyter.widget-view+json": {
       "version_major": 2,
       "version_minor": 0,
       "model_id": "ae0800952b174b16825eef077844356d"
      }
     },
     "metadata": {},
     "output_type": "display_data"
    },
    {
     "name": "stdout",
     "output_type": "stream",
     "text": [
      "Accuracy of the sign network on the test images: 100.00%\n"
     ]
    },
    {
     "data": {
      "text/plain": "  0%|          | 0/2657 [00:00<?, ?it/s]",
      "application/vnd.jupyter.widget-view+json": {
       "version_major": 2,
       "version_minor": 0,
       "model_id": "363ab6cb9ed74709a7ddbef1580862e3"
      }
     },
     "metadata": {},
     "output_type": "display_data"
    },
    {
     "name": "stdout",
     "output_type": "stream",
     "text": [
      "Accuracy of the sign network on the test images: 100.00%\n"
     ]
    },
    {
     "data": {
      "text/plain": "  0%|          | 0/2657 [00:00<?, ?it/s]",
      "application/vnd.jupyter.widget-view+json": {
       "version_major": 2,
       "version_minor": 0,
       "model_id": "91bb6e4c8aa34387811ab733231c9f26"
      }
     },
     "metadata": {},
     "output_type": "display_data"
    },
    {
     "name": "stdout",
     "output_type": "stream",
     "text": [
      "Accuracy of the sign network on the test images: 99.99%\n"
     ]
    },
    {
     "data": {
      "text/plain": "  0%|          | 0/2657 [00:00<?, ?it/s]",
      "application/vnd.jupyter.widget-view+json": {
       "version_major": 2,
       "version_minor": 0,
       "model_id": "ce969b93d507430d85a37aeaf53b234c"
      }
     },
     "metadata": {},
     "output_type": "display_data"
    },
    {
     "name": "stdout",
     "output_type": "stream",
     "text": [
      "Accuracy of the sign network on the test images: 100.00%\n"
     ]
    },
    {
     "data": {
      "text/plain": "  0%|          | 0/2657 [00:00<?, ?it/s]",
      "application/vnd.jupyter.widget-view+json": {
       "version_major": 2,
       "version_minor": 0,
       "model_id": "7783fbd1fc5040adbc0dc3e66547ec1a"
      }
     },
     "metadata": {},
     "output_type": "display_data"
    },
    {
     "name": "stdout",
     "output_type": "stream",
     "text": [
      "Accuracy of the sign network on the test images: 99.96%\n"
     ]
    },
    {
     "data": {
      "text/plain": "  0%|          | 0/2657 [00:00<?, ?it/s]",
      "application/vnd.jupyter.widget-view+json": {
       "version_major": 2,
       "version_minor": 0,
       "model_id": "b8efb506f75f44e6a06131af2639241b"
      }
     },
     "metadata": {},
     "output_type": "display_data"
    },
    {
     "name": "stdout",
     "output_type": "stream",
     "text": [
      "Accuracy of the sign network on the test images: 99.99%\n"
     ]
    },
    {
     "data": {
      "text/plain": "  0%|          | 0/2657 [00:00<?, ?it/s]",
      "application/vnd.jupyter.widget-view+json": {
       "version_major": 2,
       "version_minor": 0,
       "model_id": "42551f4918174dfa83d3c5ab9ec42c32"
      }
     },
     "metadata": {},
     "output_type": "display_data"
    },
    {
     "name": "stdout",
     "output_type": "stream",
     "text": [
      "Accuracy of the sign network on the test images: 99.99%\n"
     ]
    },
    {
     "data": {
      "text/plain": "  0%|          | 0/2657 [00:00<?, ?it/s]",
      "application/vnd.jupyter.widget-view+json": {
       "version_major": 2,
       "version_minor": 0,
       "model_id": "338a3cec61fe4b74afe713b42e923c83"
      }
     },
     "metadata": {},
     "output_type": "display_data"
    },
    {
     "name": "stdout",
     "output_type": "stream",
     "text": [
      "Accuracy of the sign network on the test images: 100.00%\n"
     ]
    },
    {
     "data": {
      "text/plain": "  0%|          | 0/2657 [00:00<?, ?it/s]",
      "application/vnd.jupyter.widget-view+json": {
       "version_major": 2,
       "version_minor": 0,
       "model_id": "244341672f044b19a58d9a6cfc093623"
      }
     },
     "metadata": {},
     "output_type": "display_data"
    },
    {
     "name": "stdout",
     "output_type": "stream",
     "text": [
      "Accuracy of the sign network on the test images: 99.99%\n"
     ]
    },
    {
     "data": {
      "text/plain": "  0%|          | 0/2657 [00:00<?, ?it/s]",
      "application/vnd.jupyter.widget-view+json": {
       "version_major": 2,
       "version_minor": 0,
       "model_id": "af7d60da11124c49b0764420741e1b51"
      }
     },
     "metadata": {},
     "output_type": "display_data"
    },
    {
     "name": "stdout",
     "output_type": "stream",
     "text": [
      "Accuracy of the sign network on the test images: 100.00%\n"
     ]
    },
    {
     "data": {
      "text/plain": "  0%|          | 0/2657 [00:00<?, ?it/s]",
      "application/vnd.jupyter.widget-view+json": {
       "version_major": 2,
       "version_minor": 0,
       "model_id": "ee47b201fb0b45e8a2e9be1d5a635c59"
      }
     },
     "metadata": {},
     "output_type": "display_data"
    },
    {
     "name": "stdout",
     "output_type": "stream",
     "text": [
      "Accuracy of the sign network on the test images: 100.00%\n"
     ]
    },
    {
     "data": {
      "text/plain": "  0%|          | 0/2657 [00:00<?, ?it/s]",
      "application/vnd.jupyter.widget-view+json": {
       "version_major": 2,
       "version_minor": 0,
       "model_id": "9bc8343365f14577859c3eb3f031b658"
      }
     },
     "metadata": {},
     "output_type": "display_data"
    },
    {
     "name": "stdout",
     "output_type": "stream",
     "text": [
      "Accuracy of the sign network on the test images: 100.00%\n"
     ]
    },
    {
     "data": {
      "text/plain": "  0%|          | 0/2657 [00:00<?, ?it/s]",
      "application/vnd.jupyter.widget-view+json": {
       "version_major": 2,
       "version_minor": 0,
       "model_id": "f5bedc2147414b55b76409ff5c96ee31"
      }
     },
     "metadata": {},
     "output_type": "display_data"
    },
    {
     "name": "stdout",
     "output_type": "stream",
     "text": [
      "Accuracy of the sign network on the test images: 100.00%\n"
     ]
    },
    {
     "data": {
      "text/plain": "  0%|          | 0/2657 [00:00<?, ?it/s]",
      "application/vnd.jupyter.widget-view+json": {
       "version_major": 2,
       "version_minor": 0,
       "model_id": "9407bb4b4c3145038d407953ee6e7e53"
      }
     },
     "metadata": {},
     "output_type": "display_data"
    },
    {
     "name": "stdout",
     "output_type": "stream",
     "text": [
      "Accuracy of the sign network on the test images: 99.99%\n"
     ]
    },
    {
     "data": {
      "text/plain": "  0%|          | 0/2657 [00:00<?, ?it/s]",
      "application/vnd.jupyter.widget-view+json": {
       "version_major": 2,
       "version_minor": 0,
       "model_id": "c2624bb85ddf46ebafe34c4341bce0f1"
      }
     },
     "metadata": {},
     "output_type": "display_data"
    },
    {
     "name": "stdout",
     "output_type": "stream",
     "text": [
      "Accuracy of the sign network on the test images: 100.00%\n"
     ]
    },
    {
     "data": {
      "text/plain": "  0%|          | 0/2657 [00:00<?, ?it/s]",
      "application/vnd.jupyter.widget-view+json": {
       "version_major": 2,
       "version_minor": 0,
       "model_id": "7225b6ab9cba4b7099960b9e4f713a53"
      }
     },
     "metadata": {},
     "output_type": "display_data"
    },
    {
     "name": "stdout",
     "output_type": "stream",
     "text": [
      "Accuracy of the sign network on the test images: 99.99%\n"
     ]
    },
    {
     "data": {
      "text/plain": "  0%|          | 0/2657 [00:00<?, ?it/s]",
      "application/vnd.jupyter.widget-view+json": {
       "version_major": 2,
       "version_minor": 0,
       "model_id": "138c3f2aade947c78e617b92810ba0a3"
      }
     },
     "metadata": {},
     "output_type": "display_data"
    },
    {
     "name": "stdout",
     "output_type": "stream",
     "text": [
      "Accuracy of the sign network on the test images: 100.00%\n"
     ]
    },
    {
     "data": {
      "text/plain": "  0%|          | 0/1094 [00:00<?, ?it/s]",
      "application/vnd.jupyter.widget-view+json": {
       "version_major": 2,
       "version_minor": 0,
       "model_id": "0a383495b7294b2f9e23517ff31aa511"
      }
     },
     "metadata": {},
     "output_type": "display_data"
    },
    {
     "name": "stdout",
     "output_type": "stream",
     "text": [
      "Accuracy of the network on the test images: 99.96%\n"
     ]
    },
    {
     "data": {
      "text/plain": "  0%|          | 0/1094 [00:00<?, ?it/s]",
      "application/vnd.jupyter.widget-view+json": {
       "version_major": 2,
       "version_minor": 0,
       "model_id": "92934bfad3054143add4a70390a1e27b"
      }
     },
     "metadata": {},
     "output_type": "display_data"
    },
    {
     "name": "stdout",
     "output_type": "stream",
     "text": [
      "Accuracy of the network on the test images: 99.98%\n"
     ]
    },
    {
     "data": {
      "text/plain": "  0%|          | 0/1094 [00:00<?, ?it/s]",
      "application/vnd.jupyter.widget-view+json": {
       "version_major": 2,
       "version_minor": 0,
       "model_id": "fae2335525c94ad382a0d1b1342596bc"
      }
     },
     "metadata": {},
     "output_type": "display_data"
    },
    {
     "name": "stdout",
     "output_type": "stream",
     "text": [
      "Accuracy of the network on the test images: 99.98%\n"
     ]
    },
    {
     "data": {
      "text/plain": "  0%|          | 0/1094 [00:00<?, ?it/s]",
      "application/vnd.jupyter.widget-view+json": {
       "version_major": 2,
       "version_minor": 0,
       "model_id": "6862fa4be991454ab67c84f274a77f7a"
      }
     },
     "metadata": {},
     "output_type": "display_data"
    },
    {
     "name": "stdout",
     "output_type": "stream",
     "text": [
      "Accuracy of the network on the test images: 99.97%\n"
     ]
    },
    {
     "data": {
      "text/plain": "  0%|          | 0/1094 [00:00<?, ?it/s]",
      "application/vnd.jupyter.widget-view+json": {
       "version_major": 2,
       "version_minor": 0,
       "model_id": "22aafe6084894ae5b5c6d946560aadb8"
      }
     },
     "metadata": {},
     "output_type": "display_data"
    },
    {
     "name": "stdout",
     "output_type": "stream",
     "text": [
      "Accuracy of the network on the test images: 99.98%\n"
     ]
    },
    {
     "data": {
      "text/plain": "  0%|          | 0/1094 [00:00<?, ?it/s]",
      "application/vnd.jupyter.widget-view+json": {
       "version_major": 2,
       "version_minor": 0,
       "model_id": "9a56f84c12004a66880921f352c58669"
      }
     },
     "metadata": {},
     "output_type": "display_data"
    },
    {
     "name": "stdout",
     "output_type": "stream",
     "text": [
      "Accuracy of the network on the test images: 99.98%\n"
     ]
    },
    {
     "data": {
      "text/plain": "  0%|          | 0/1094 [00:00<?, ?it/s]",
      "application/vnd.jupyter.widget-view+json": {
       "version_major": 2,
       "version_minor": 0,
       "model_id": "90638075384d42c49a30d0fb155d8610"
      }
     },
     "metadata": {},
     "output_type": "display_data"
    },
    {
     "name": "stdout",
     "output_type": "stream",
     "text": [
      "Accuracy of the network on the test images: 99.98%\n"
     ]
    },
    {
     "data": {
      "text/plain": "  0%|          | 0/1094 [00:00<?, ?it/s]",
      "application/vnd.jupyter.widget-view+json": {
       "version_major": 2,
       "version_minor": 0,
       "model_id": "f1259cc91ac942c8b12665ad6aead7b5"
      }
     },
     "metadata": {},
     "output_type": "display_data"
    },
    {
     "name": "stdout",
     "output_type": "stream",
     "text": [
      "Accuracy of the network on the test images: 99.98%\n"
     ]
    },
    {
     "data": {
      "text/plain": "  0%|          | 0/1094 [00:00<?, ?it/s]",
      "application/vnd.jupyter.widget-view+json": {
       "version_major": 2,
       "version_minor": 0,
       "model_id": "e8ee7f477e7743bc9f1c1aff425f8c62"
      }
     },
     "metadata": {},
     "output_type": "display_data"
    },
    {
     "name": "stdout",
     "output_type": "stream",
     "text": [
      "Accuracy of the network on the test images: 99.98%\n"
     ]
    },
    {
     "data": {
      "text/plain": "  0%|          | 0/1094 [00:00<?, ?it/s]",
      "application/vnd.jupyter.widget-view+json": {
       "version_major": 2,
       "version_minor": 0,
       "model_id": "ede75f3da1f34dd2b9f1f38ad26785ad"
      }
     },
     "metadata": {},
     "output_type": "display_data"
    },
    {
     "name": "stdout",
     "output_type": "stream",
     "text": [
      "Accuracy of the network on the test images: 99.98%\n"
     ]
    },
    {
     "data": {
      "text/plain": "  0%|          | 0/1094 [00:00<?, ?it/s]",
      "application/vnd.jupyter.widget-view+json": {
       "version_major": 2,
       "version_minor": 0,
       "model_id": "f3676b2a98174200b4a920f48c135f9d"
      }
     },
     "metadata": {},
     "output_type": "display_data"
    },
    {
     "name": "stdout",
     "output_type": "stream",
     "text": [
      "Accuracy of the network on the test images: 99.98%\n"
     ]
    },
    {
     "data": {
      "text/plain": "  0%|          | 0/1094 [00:00<?, ?it/s]",
      "application/vnd.jupyter.widget-view+json": {
       "version_major": 2,
       "version_minor": 0,
       "model_id": "3540be4339de4f9a94863a4d09881929"
      }
     },
     "metadata": {},
     "output_type": "display_data"
    },
    {
     "name": "stdout",
     "output_type": "stream",
     "text": [
      "Accuracy of the network on the test images: 99.97%\n"
     ]
    },
    {
     "data": {
      "text/plain": "  0%|          | 0/1094 [00:00<?, ?it/s]",
      "application/vnd.jupyter.widget-view+json": {
       "version_major": 2,
       "version_minor": 0,
       "model_id": "6e7c903dfa8344d2b14f33e8449c6cb8"
      }
     },
     "metadata": {},
     "output_type": "display_data"
    },
    {
     "name": "stdout",
     "output_type": "stream",
     "text": [
      "Accuracy of the network on the test images: 99.98%\n"
     ]
    },
    {
     "data": {
      "text/plain": "  0%|          | 0/1094 [00:00<?, ?it/s]",
      "application/vnd.jupyter.widget-view+json": {
       "version_major": 2,
       "version_minor": 0,
       "model_id": "88948ac4401644f5b5affe94d834ce56"
      }
     },
     "metadata": {},
     "output_type": "display_data"
    },
    {
     "name": "stdout",
     "output_type": "stream",
     "text": [
      "Accuracy of the network on the test images: 99.98%\n"
     ]
    },
    {
     "data": {
      "text/plain": "  0%|          | 0/1094 [00:00<?, ?it/s]",
      "application/vnd.jupyter.widget-view+json": {
       "version_major": 2,
       "version_minor": 0,
       "model_id": "b2f34001783b4458b894c7d4bfa2dab6"
      }
     },
     "metadata": {},
     "output_type": "display_data"
    },
    {
     "name": "stdout",
     "output_type": "stream",
     "text": [
      "Accuracy of the network on the test images: 99.98%\n"
     ]
    },
    {
     "data": {
      "text/plain": "  0%|          | 0/1094 [00:00<?, ?it/s]",
      "application/vnd.jupyter.widget-view+json": {
       "version_major": 2,
       "version_minor": 0,
       "model_id": "9cbb186793034d558af22e1b775fb822"
      }
     },
     "metadata": {},
     "output_type": "display_data"
    },
    {
     "name": "stdout",
     "output_type": "stream",
     "text": [
      "Accuracy of the network on the test images: 99.99%\n"
     ]
    },
    {
     "data": {
      "text/plain": "  0%|          | 0/1094 [00:00<?, ?it/s]",
      "application/vnd.jupyter.widget-view+json": {
       "version_major": 2,
       "version_minor": 0,
       "model_id": "a93412017a624b40a583b8da2646d38e"
      }
     },
     "metadata": {},
     "output_type": "display_data"
    },
    {
     "name": "stdout",
     "output_type": "stream",
     "text": [
      "Accuracy of the network on the test images: 99.98%\n"
     ]
    },
    {
     "data": {
      "text/plain": "  0%|          | 0/1094 [00:00<?, ?it/s]",
      "application/vnd.jupyter.widget-view+json": {
       "version_major": 2,
       "version_minor": 0,
       "model_id": "5d5295d335b848c3b86e19ae4c9abe53"
      }
     },
     "metadata": {},
     "output_type": "display_data"
    },
    {
     "name": "stdout",
     "output_type": "stream",
     "text": [
      "Accuracy of the network on the test images: 99.93%\n"
     ]
    },
    {
     "data": {
      "text/plain": "  0%|          | 0/1094 [00:00<?, ?it/s]",
      "application/vnd.jupyter.widget-view+json": {
       "version_major": 2,
       "version_minor": 0,
       "model_id": "17947375ce6b495698d72b1fc1bc1ac7"
      }
     },
     "metadata": {},
     "output_type": "display_data"
    },
    {
     "name": "stdout",
     "output_type": "stream",
     "text": [
      "Accuracy of the network on the test images: 99.98%\n"
     ]
    },
    {
     "data": {
      "text/plain": "  0%|          | 0/1094 [00:00<?, ?it/s]",
      "application/vnd.jupyter.widget-view+json": {
       "version_major": 2,
       "version_minor": 0,
       "model_id": "7ef61da4284847008c06db328528395f"
      }
     },
     "metadata": {},
     "output_type": "display_data"
    },
    {
     "name": "stdout",
     "output_type": "stream",
     "text": [
      "Accuracy of the network on the test images: 99.98%\n"
     ]
    },
    {
     "data": {
      "text/plain": "  0%|          | 0/1094 [00:00<?, ?it/s]",
      "application/vnd.jupyter.widget-view+json": {
       "version_major": 2,
       "version_minor": 0,
       "model_id": "c2e3e3bf2a5a489c9518546163cc5974"
      }
     },
     "metadata": {},
     "output_type": "display_data"
    },
    {
     "name": "stdout",
     "output_type": "stream",
     "text": [
      "Accuracy of the network on the test images: 99.41%\n"
     ]
    },
    {
     "data": {
      "text/plain": "  0%|          | 0/1094 [00:00<?, ?it/s]",
      "application/vnd.jupyter.widget-view+json": {
       "version_major": 2,
       "version_minor": 0,
       "model_id": "cd6a885b5ea94d4497a07a8a0fd23678"
      }
     },
     "metadata": {},
     "output_type": "display_data"
    },
    {
     "name": "stdout",
     "output_type": "stream",
     "text": [
      "Accuracy of the network on the test images: 99.60%\n"
     ]
    },
    {
     "data": {
      "text/plain": "  0%|          | 0/1094 [00:00<?, ?it/s]",
      "application/vnd.jupyter.widget-view+json": {
       "version_major": 2,
       "version_minor": 0,
       "model_id": "fbfeae6f847142f0ae4dbee144ff29cd"
      }
     },
     "metadata": {},
     "output_type": "display_data"
    },
    {
     "name": "stdout",
     "output_type": "stream",
     "text": [
      "Accuracy of the network on the test images: 99.60%\n"
     ]
    },
    {
     "data": {
      "text/plain": "  0%|          | 0/1094 [00:00<?, ?it/s]",
      "application/vnd.jupyter.widget-view+json": {
       "version_major": 2,
       "version_minor": 0,
       "model_id": "9e9b02fac3eb43a9a35d88dacea14de0"
      }
     },
     "metadata": {},
     "output_type": "display_data"
    },
    {
     "name": "stdout",
     "output_type": "stream",
     "text": [
      "Accuracy of the network on the test images: 99.68%\n"
     ]
    },
    {
     "data": {
      "text/plain": "  0%|          | 0/1094 [00:00<?, ?it/s]",
      "application/vnd.jupyter.widget-view+json": {
       "version_major": 2,
       "version_minor": 0,
       "model_id": "7d25c8bcc8534289950e742a83291bb6"
      }
     },
     "metadata": {},
     "output_type": "display_data"
    },
    {
     "name": "stdout",
     "output_type": "stream",
     "text": [
      "Accuracy of the network on the test images: 99.93%\n"
     ]
    },
    {
     "data": {
      "text/plain": "  0%|          | 0/1094 [00:00<?, ?it/s]",
      "application/vnd.jupyter.widget-view+json": {
       "version_major": 2,
       "version_minor": 0,
       "model_id": "53615e4becff4a4fa338e25dc0c1e981"
      }
     },
     "metadata": {},
     "output_type": "display_data"
    },
    {
     "name": "stdout",
     "output_type": "stream",
     "text": [
      "Accuracy of the network on the test images: 99.80%\n"
     ]
    },
    {
     "data": {
      "text/plain": "  0%|          | 0/1094 [00:00<?, ?it/s]",
      "application/vnd.jupyter.widget-view+json": {
       "version_major": 2,
       "version_minor": 0,
       "model_id": "fa8226425d1e4c4b87330ecec572f42f"
      }
     },
     "metadata": {},
     "output_type": "display_data"
    },
    {
     "name": "stdout",
     "output_type": "stream",
     "text": [
      "Accuracy of the network on the test images: 99.68%\n"
     ]
    },
    {
     "data": {
      "text/plain": "  0%|          | 0/1094 [00:00<?, ?it/s]",
      "application/vnd.jupyter.widget-view+json": {
       "version_major": 2,
       "version_minor": 0,
       "model_id": "7c8f7cdb49b14d4f944e7fde2c1a247f"
      }
     },
     "metadata": {},
     "output_type": "display_data"
    },
    {
     "name": "stdout",
     "output_type": "stream",
     "text": [
      "Accuracy of the network on the test images: 99.85%\n"
     ]
    },
    {
     "data": {
      "text/plain": "  0%|          | 0/1094 [00:00<?, ?it/s]",
      "application/vnd.jupyter.widget-view+json": {
       "version_major": 2,
       "version_minor": 0,
       "model_id": "fbbc7511f61445a29c3e62681678e71a"
      }
     },
     "metadata": {},
     "output_type": "display_data"
    },
    {
     "name": "stdout",
     "output_type": "stream",
     "text": [
      "Accuracy of the network on the test images: 99.84%\n"
     ]
    },
    {
     "data": {
      "text/plain": "  0%|          | 0/1094 [00:00<?, ?it/s]",
      "application/vnd.jupyter.widget-view+json": {
       "version_major": 2,
       "version_minor": 0,
       "model_id": "efe0fdd40bde48a8b7ffd1dee376a005"
      }
     },
     "metadata": {},
     "output_type": "display_data"
    },
    {
     "name": "stdout",
     "output_type": "stream",
     "text": [
      "Accuracy of the network on the test images: 99.98%\n"
     ]
    },
    {
     "data": {
      "text/plain": "  0%|          | 0/1094 [00:00<?, ?it/s]",
      "application/vnd.jupyter.widget-view+json": {
       "version_major": 2,
       "version_minor": 0,
       "model_id": "0107944f349e414db76f77d22147a859"
      }
     },
     "metadata": {},
     "output_type": "display_data"
    },
    {
     "name": "stdout",
     "output_type": "stream",
     "text": [
      "Accuracy of the network on the test images: 99.97%\n"
     ]
    },
    {
     "data": {
      "text/plain": "  0%|          | 0/1094 [00:00<?, ?it/s]",
      "application/vnd.jupyter.widget-view+json": {
       "version_major": 2,
       "version_minor": 0,
       "model_id": "76877879894f461e9c64c9a44d40380c"
      }
     },
     "metadata": {},
     "output_type": "display_data"
    },
    {
     "name": "stdout",
     "output_type": "stream",
     "text": [
      "Accuracy of the network on the test images: 99.98%\n"
     ]
    },
    {
     "data": {
      "text/plain": "  0%|          | 0/1094 [00:00<?, ?it/s]",
      "application/vnd.jupyter.widget-view+json": {
       "version_major": 2,
       "version_minor": 0,
       "model_id": "f8709119c7554a3da3a16b2b00076337"
      }
     },
     "metadata": {},
     "output_type": "display_data"
    },
    {
     "name": "stdout",
     "output_type": "stream",
     "text": [
      "Accuracy of the network on the test images: 99.97%\n"
     ]
    },
    {
     "data": {
      "text/plain": "  0%|          | 0/1094 [00:00<?, ?it/s]",
      "application/vnd.jupyter.widget-view+json": {
       "version_major": 2,
       "version_minor": 0,
       "model_id": "b46a44ff4c77480d9425137710559f4c"
      }
     },
     "metadata": {},
     "output_type": "display_data"
    },
    {
     "name": "stdout",
     "output_type": "stream",
     "text": [
      "Accuracy of the network on the test images: 99.93%\n"
     ]
    },
    {
     "data": {
      "text/plain": "  0%|          | 0/1094 [00:00<?, ?it/s]",
      "application/vnd.jupyter.widget-view+json": {
       "version_major": 2,
       "version_minor": 0,
       "model_id": "4262b8e1ddc94a8a930a2b500b769256"
      }
     },
     "metadata": {},
     "output_type": "display_data"
    },
    {
     "name": "stdout",
     "output_type": "stream",
     "text": [
      "Accuracy of the network on the test images: 99.98%\n"
     ]
    },
    {
     "data": {
      "text/plain": "  0%|          | 0/1094 [00:00<?, ?it/s]",
      "application/vnd.jupyter.widget-view+json": {
       "version_major": 2,
       "version_minor": 0,
       "model_id": "b9101491f9d94af8ad40f32ccb2389c5"
      }
     },
     "metadata": {},
     "output_type": "display_data"
    },
    {
     "name": "stdout",
     "output_type": "stream",
     "text": [
      "Accuracy of the network on the test images: 99.99%\n"
     ]
    },
    {
     "data": {
      "text/plain": "  0%|          | 0/1094 [00:00<?, ?it/s]",
      "application/vnd.jupyter.widget-view+json": {
       "version_major": 2,
       "version_minor": 0,
       "model_id": "cd5f69d8e54743bc84166c4198f3c23a"
      }
     },
     "metadata": {},
     "output_type": "display_data"
    },
    {
     "name": "stdout",
     "output_type": "stream",
     "text": [
      "Accuracy of the network on the test images: 99.96%\n"
     ]
    },
    {
     "data": {
      "text/plain": "  0%|          | 0/1094 [00:00<?, ?it/s]",
      "application/vnd.jupyter.widget-view+json": {
       "version_major": 2,
       "version_minor": 0,
       "model_id": "a55c84b163204eabad5f15fabb6ff307"
      }
     },
     "metadata": {},
     "output_type": "display_data"
    },
    {
     "name": "stdout",
     "output_type": "stream",
     "text": [
      "Accuracy of the network on the test images: 99.94%\n"
     ]
    },
    {
     "data": {
      "text/plain": "  0%|          | 0/1094 [00:00<?, ?it/s]",
      "application/vnd.jupyter.widget-view+json": {
       "version_major": 2,
       "version_minor": 0,
       "model_id": "a831a908f5454e929ab223e61ed3e5be"
      }
     },
     "metadata": {},
     "output_type": "display_data"
    },
    {
     "name": "stdout",
     "output_type": "stream",
     "text": [
      "Accuracy of the network on the test images: 99.93%\n"
     ]
    },
    {
     "data": {
      "text/plain": "  0%|          | 0/1094 [00:00<?, ?it/s]",
      "application/vnd.jupyter.widget-view+json": {
       "version_major": 2,
       "version_minor": 0,
       "model_id": "6a97cc17d3914fa5a398e94380b9be80"
      }
     },
     "metadata": {},
     "output_type": "display_data"
    },
    {
     "name": "stdout",
     "output_type": "stream",
     "text": [
      "Accuracy of the network on the test images: 99.98%\n"
     ]
    },
    {
     "data": {
      "text/plain": "  0%|          | 0/1094 [00:00<?, ?it/s]",
      "application/vnd.jupyter.widget-view+json": {
       "version_major": 2,
       "version_minor": 0,
       "model_id": "47712ee38c854f2f9c3a461b2a0444bb"
      }
     },
     "metadata": {},
     "output_type": "display_data"
    },
    {
     "name": "stdout",
     "output_type": "stream",
     "text": [
      "Accuracy of the network on the test images: 97.62%\n"
     ]
    },
    {
     "data": {
      "text/plain": "  0%|          | 0/1094 [00:00<?, ?it/s]",
      "application/vnd.jupyter.widget-view+json": {
       "version_major": 2,
       "version_minor": 0,
       "model_id": "c4010e32c5d74559979d8dd7f83995da"
      }
     },
     "metadata": {},
     "output_type": "display_data"
    },
    {
     "name": "stdout",
     "output_type": "stream",
     "text": [
      "Accuracy of the network on the test images: 98.78%\n"
     ]
    },
    {
     "data": {
      "text/plain": "  0%|          | 0/1094 [00:00<?, ?it/s]",
      "application/vnd.jupyter.widget-view+json": {
       "version_major": 2,
       "version_minor": 0,
       "model_id": "dbbc7fc92daf439e8012a56374bc3085"
      }
     },
     "metadata": {},
     "output_type": "display_data"
    },
    {
     "name": "stdout",
     "output_type": "stream",
     "text": [
      "Accuracy of the network on the test images: 97.95%\n"
     ]
    },
    {
     "data": {
      "text/plain": "  0%|          | 0/1094 [00:00<?, ?it/s]",
      "application/vnd.jupyter.widget-view+json": {
       "version_major": 2,
       "version_minor": 0,
       "model_id": "bc0f921ac30d4881855b90bdd0d1043c"
      }
     },
     "metadata": {},
     "output_type": "display_data"
    },
    {
     "name": "stdout",
     "output_type": "stream",
     "text": [
      "Accuracy of the network on the test images: 98.89%\n"
     ]
    },
    {
     "data": {
      "text/plain": "  0%|          | 0/1094 [00:00<?, ?it/s]",
      "application/vnd.jupyter.widget-view+json": {
       "version_major": 2,
       "version_minor": 0,
       "model_id": "e931453d6fef4908bf18e59ca035c710"
      }
     },
     "metadata": {},
     "output_type": "display_data"
    },
    {
     "name": "stdout",
     "output_type": "stream",
     "text": [
      "Accuracy of the network on the test images: 98.57%\n"
     ]
    },
    {
     "data": {
      "text/plain": "  0%|          | 0/1094 [00:00<?, ?it/s]",
      "application/vnd.jupyter.widget-view+json": {
       "version_major": 2,
       "version_minor": 0,
       "model_id": "11597ec6a9ff4dcd987987803a07aae8"
      }
     },
     "metadata": {},
     "output_type": "display_data"
    },
    {
     "name": "stdout",
     "output_type": "stream",
     "text": [
      "Accuracy of the network on the test images: 99.05%\n"
     ]
    },
    {
     "data": {
      "text/plain": "  0%|          | 0/1094 [00:00<?, ?it/s]",
      "application/vnd.jupyter.widget-view+json": {
       "version_major": 2,
       "version_minor": 0,
       "model_id": "18d4dd3623464e16a5ba15e4c3f53463"
      }
     },
     "metadata": {},
     "output_type": "display_data"
    },
    {
     "name": "stdout",
     "output_type": "stream",
     "text": [
      "Accuracy of the network on the test images: 99.25%\n"
     ]
    },
    {
     "data": {
      "text/plain": "  0%|          | 0/1094 [00:00<?, ?it/s]",
      "application/vnd.jupyter.widget-view+json": {
       "version_major": 2,
       "version_minor": 0,
       "model_id": "bc6a501aa731471ea7f2491455843c49"
      }
     },
     "metadata": {},
     "output_type": "display_data"
    },
    {
     "name": "stdout",
     "output_type": "stream",
     "text": [
      "Accuracy of the network on the test images: 98.94%\n"
     ]
    },
    {
     "data": {
      "text/plain": "  0%|          | 0/1094 [00:00<?, ?it/s]",
      "application/vnd.jupyter.widget-view+json": {
       "version_major": 2,
       "version_minor": 0,
       "model_id": "9ad1e62862764e909768edc3494e5dc8"
      }
     },
     "metadata": {},
     "output_type": "display_data"
    },
    {
     "name": "stdout",
     "output_type": "stream",
     "text": [
      "Accuracy of the network on the test images: 99.30%\n"
     ]
    },
    {
     "data": {
      "text/plain": "  0%|          | 0/1094 [00:00<?, ?it/s]",
      "application/vnd.jupyter.widget-view+json": {
       "version_major": 2,
       "version_minor": 0,
       "model_id": "5a08dfc1cae241ea98ea62444e07efc5"
      }
     },
     "metadata": {},
     "output_type": "display_data"
    },
    {
     "name": "stdout",
     "output_type": "stream",
     "text": [
      "Accuracy of the network on the test images: 98.86%\n"
     ]
    },
    {
     "data": {
      "text/plain": "  0%|          | 0/1094 [00:00<?, ?it/s]",
      "application/vnd.jupyter.widget-view+json": {
       "version_major": 2,
       "version_minor": 0,
       "model_id": "0af6625784e141d7bc734f87dc1223ac"
      }
     },
     "metadata": {},
     "output_type": "display_data"
    },
    {
     "name": "stdout",
     "output_type": "stream",
     "text": [
      "Accuracy of the network on the test images: 98.79%\n"
     ]
    },
    {
     "data": {
      "text/plain": "  0%|          | 0/1094 [00:00<?, ?it/s]",
      "application/vnd.jupyter.widget-view+json": {
       "version_major": 2,
       "version_minor": 0,
       "model_id": "02cf7ed2e0b3460888af4c0b28488b3e"
      }
     },
     "metadata": {},
     "output_type": "display_data"
    },
    {
     "name": "stdout",
     "output_type": "stream",
     "text": [
      "Accuracy of the network on the test images: 98.71%\n"
     ]
    },
    {
     "data": {
      "text/plain": "  0%|          | 0/1094 [00:00<?, ?it/s]",
      "application/vnd.jupyter.widget-view+json": {
       "version_major": 2,
       "version_minor": 0,
       "model_id": "3dd64d5967c6440f9a359d66fdf9a33c"
      }
     },
     "metadata": {},
     "output_type": "display_data"
    },
    {
     "name": "stdout",
     "output_type": "stream",
     "text": [
      "Accuracy of the network on the test images: 99.07%\n"
     ]
    },
    {
     "data": {
      "text/plain": "  0%|          | 0/1094 [00:00<?, ?it/s]",
      "application/vnd.jupyter.widget-view+json": {
       "version_major": 2,
       "version_minor": 0,
       "model_id": "eda6e7770918460f80c2c70c4c001c7f"
      }
     },
     "metadata": {},
     "output_type": "display_data"
    },
    {
     "name": "stdout",
     "output_type": "stream",
     "text": [
      "Accuracy of the network on the test images: 99.33%\n"
     ]
    },
    {
     "data": {
      "text/plain": "  0%|          | 0/1094 [00:00<?, ?it/s]",
      "application/vnd.jupyter.widget-view+json": {
       "version_major": 2,
       "version_minor": 0,
       "model_id": "58caf9db508643fcbf511d7a38985087"
      }
     },
     "metadata": {},
     "output_type": "display_data"
    },
    {
     "name": "stdout",
     "output_type": "stream",
     "text": [
      "Accuracy of the network on the test images: 99.05%\n"
     ]
    },
    {
     "data": {
      "text/plain": "  0%|          | 0/1094 [00:00<?, ?it/s]",
      "application/vnd.jupyter.widget-view+json": {
       "version_major": 2,
       "version_minor": 0,
       "model_id": "a260b1ab1cef42fca9a9cda8f7142974"
      }
     },
     "metadata": {},
     "output_type": "display_data"
    },
    {
     "name": "stdout",
     "output_type": "stream",
     "text": [
      "Accuracy of the network on the test images: 99.22%\n"
     ]
    },
    {
     "data": {
      "text/plain": "  0%|          | 0/1094 [00:00<?, ?it/s]",
      "application/vnd.jupyter.widget-view+json": {
       "version_major": 2,
       "version_minor": 0,
       "model_id": "cf9344c762a44085ab4cd0a5a73663b9"
      }
     },
     "metadata": {},
     "output_type": "display_data"
    },
    {
     "name": "stdout",
     "output_type": "stream",
     "text": [
      "Accuracy of the network on the test images: 99.41%\n"
     ]
    },
    {
     "data": {
      "text/plain": "  0%|          | 0/1094 [00:00<?, ?it/s]",
      "application/vnd.jupyter.widget-view+json": {
       "version_major": 2,
       "version_minor": 0,
       "model_id": "44e6cea49ddd4b6b87e8289a0d97b9be"
      }
     },
     "metadata": {},
     "output_type": "display_data"
    },
    {
     "name": "stdout",
     "output_type": "stream",
     "text": [
      "Accuracy of the network on the test images: 99.43%\n"
     ]
    },
    {
     "data": {
      "text/plain": "  0%|          | 0/1094 [00:00<?, ?it/s]",
      "application/vnd.jupyter.widget-view+json": {
       "version_major": 2,
       "version_minor": 0,
       "model_id": "2b776e8b24bf4902ad8370cd4414091b"
      }
     },
     "metadata": {},
     "output_type": "display_data"
    },
    {
     "name": "stdout",
     "output_type": "stream",
     "text": [
      "Accuracy of the network on the test images: 99.45%\n"
     ]
    },
    {
     "data": {
      "text/plain": "  0%|          | 0/1094 [00:00<?, ?it/s]",
      "application/vnd.jupyter.widget-view+json": {
       "version_major": 2,
       "version_minor": 0,
       "model_id": "41403ace24e14c64a6305d956ea2e332"
      }
     },
     "metadata": {},
     "output_type": "display_data"
    },
    {
     "name": "stdout",
     "output_type": "stream",
     "text": [
      "Accuracy of the network on the test images: 99.37%\n",
      "Computing principal space ...\n",
      "Computing principal space ...\n",
      "Computing alpha ...\n",
      "Computing alpha ...\n",
      "self.alpha=8.9736\n",
      "self.alpha=8.9736\n",
      "Fitting with temperature scaling\n",
      "label: y1.unique()=tensor([ 0,  1,  2,  3,  4,  5,  6,  7,  8,  9, 10, 11, 12, 13, 14, 15, 16, 17,\n",
      "        18, 19, 20, 21, 22, 23, 24, 25, 26, 27, 28, 29, 30, 31, 32, 33, 34, 35,\n",
      "        36, 37, 38, 39, 40, 41, 42]) logits_label.shape=torch.Size([4209, 43])\n",
      "Initial T/NLL: 1.000/0.004\n",
      "Initial T/NLL: 1.000/0.004\n",
      "Optimal temperature: 1.0010513067245483\n",
      "Optimal temperature: 1.0010513067245483\n",
      "NLL after scaling: 0.00'\n",
      "NLL after scaling: 0.00'\n",
      "color: y2.unique()=tensor([0, 1, 2, 3]) logits_color.shape=torch.Size([4209, 4])\n",
      "Initial T/NLL: 1.000/0.000\n",
      "Initial T/NLL: 1.000/0.000\n",
      "Optimal temperature: 0.9999989867210388\n",
      "Optimal temperature: 0.9999989867210388\n",
      "NLL after scaling: 0.00'\n",
      "NLL after scaling: 0.00'\n",
      "shape: y3.unique()=tensor([0, 1, 2, 3, 4]) logits_shape.shape=torch.Size([4209, 5])\n",
      "Initial T/NLL: 1.000/0.000\n",
      "Initial T/NLL: 1.000/0.000\n",
      "Optimal temperature: 0.9999994039535522\n",
      "Optimal temperature: 0.9999994039535522\n",
      "NLL after scaling: 0.00'\n",
      "NLL after scaling: 0.00'\n",
      "self.scorer_label.t=Parameter containing:\n",
      "tensor(1.0011, requires_grad=True)\n",
      "self.scorer_color.t=Parameter containing:\n",
      "tensor(1.0000, requires_grad=True)\n",
      "self.scorer_shape.t=Parameter containing:\n",
      "tensor(1.0000, requires_grad=True)\n",
      "Fitting with temperature scaling\n"
     ]
    },
    {
     "name": "stderr",
     "output_type": "stream",
     "text": [
      "/home/ki/projects/pytorch-ood/src/pytorch_ood/detector/tscaling.py:84: UserWarning: Implicit dimension choice for log_softmax has been deprecated. Change the call to include dim=X as an argument.\n",
      "  loss = nll_loss(log_softmax(logits / self.t), labels).item()\n",
      "/home/ki/projects/pytorch-ood/src/pytorch_ood/detector/tscaling.py:90: UserWarning: Implicit dimension choice for log_softmax has been deprecated. Change the call to include dim=X as an argument.\n",
      "  loss = nll_loss(log_softmax(logits / self.t), labels)\n",
      "/home/ki/projects/pytorch-ood/src/pytorch_ood/detector/tscaling.py:97: UserWarning: Implicit dimension choice for log_softmax has been deprecated. Change the call to include dim=X as an argument.\n",
      "  loss = nll_loss(log_softmax(logits / self.t), labels).item()\n"
     ]
    },
    {
     "name": "stdout",
     "output_type": "stream",
     "text": [
      "label: y1.unique()=tensor([ 0,  1,  2,  3,  4,  5,  6,  7,  8,  9, 10, 11, 12, 13, 14, 15, 16, 17,\n",
      "        18, 19, 20, 21, 22, 23, 24, 25, 26, 27, 28, 29, 30, 31, 32, 33, 34, 35,\n",
      "        36, 37, 38, 39, 40, 41, 42]) logits_label.shape=torch.Size([4209, 43])\n",
      "Initial T/NLL: 1.000/0.004\n",
      "Initial T/NLL: 1.000/0.004\n",
      "Optimal temperature: 1.0010513067245483\n",
      "Optimal temperature: 1.0010513067245483\n",
      "NLL after scaling: 0.00'\n",
      "NLL after scaling: 0.00'\n",
      "color: y2.unique()=tensor([0, 1, 2, 3]) logits_color.shape=torch.Size([4209, 4])\n",
      "Initial T/NLL: 1.000/0.000\n",
      "Initial T/NLL: 1.000/0.000\n",
      "Optimal temperature: 0.9999989867210388\n",
      "Optimal temperature: 0.9999989867210388\n",
      "NLL after scaling: 0.00'\n",
      "NLL after scaling: 0.00'\n",
      "shape: y3.unique()=tensor([0, 1, 2, 3, 4]) logits_shape.shape=torch.Size([4209, 5])\n",
      "Initial T/NLL: 1.000/0.000\n",
      "Initial T/NLL: 1.000/0.000\n",
      "Optimal temperature: 0.9999994039535522\n",
      "Optimal temperature: 0.9999994039535522\n",
      "NLL after scaling: 0.00'\n",
      "NLL after scaling: 0.00'\n",
      "self.scorer_label.t=Parameter containing:\n",
      "tensor(1.0011, requires_grad=True)\n",
      "self.scorer_color.t=Parameter containing:\n",
      "tensor(1.0000, requires_grad=True)\n",
      "self.scorer_shape.t=Parameter containing:\n",
      "tensor(1.0000, requires_grad=True)\n",
      "{'AUROC': 0.9977677464485168, 'AUPR-IN': 0.9964715242385864, 'AUPR-OUT': 0.9986020922660828, 'FPR95TPR': 0.007917656563222408, 'Method': 'PrologOOD', 'Dataset': 'LSUNCrop'}\n",
      "{'AUROC': 0.9987595081329346, 'AUPR-IN': 0.9981033802032471, 'AUPR-OUT': 0.999325156211853, 'FPR95TPR': 0.0022961203940212727, 'Method': 'PrologOOD', 'Dataset': 'LSUNResize'}\n",
      "Found 5640 texture files.\n",
      "Found 5640 texture files.\n",
      "{'AUROC': 0.9978680610656738, 'AUPR-IN': 0.9945532083511353, 'AUPR-OUT': 0.9991797804832458, 'FPR95TPR': 0.009263657964766026, 'Method': 'PrologOOD', 'Dataset': 'Textures'}\n",
      "{'AUROC': 0.9983171820640564, 'AUPR-IN': 0.9975668787956238, 'AUPR-OUT': 0.9989877939224243, 'FPR95TPR': 0.006571654696017504, 'Method': 'PrologOOD', 'Dataset': 'TinyImageNetCrop'}\n",
      "{'AUROC': 0.9985696077346802, 'AUPR-IN': 0.9978040456771851, 'AUPR-OUT': 0.9991854429244995, 'FPR95TPR': 0.0037212984170764685, 'Method': 'PrologOOD', 'Dataset': 'TinyImageNetResize'}\n",
      "{'AUROC': 0.9992082715034485, 'AUPR-IN': 0.9990019798278809, 'AUPR-OUT': 0.9996501207351685, 'FPR95TPR': 0.001583531266078353, 'Method': 'PrologOOD+', 'Dataset': 'LSUNCrop'}\n",
      "{'AUROC': 0.9992082715034485, 'AUPR-IN': 0.9990019798278809, 'AUPR-OUT': 0.9996501207351685, 'FPR95TPR': 0.001583531266078353, 'Method': 'PrologOOD+', 'Dataset': 'LSUNResize'}\n",
      "Found 5640 texture files.\n",
      "Found 5640 texture files.\n",
      "{'AUROC': 0.9992038011550903, 'AUPR-IN': 0.9982211589813232, 'AUPR-OUT': 0.9997537136077881, 'FPR95TPR': 0.001583531266078353, 'Method': 'PrologOOD+', 'Dataset': 'Textures'}\n",
      "{'AUROC': 0.9992082715034485, 'AUPR-IN': 0.9990019798278809, 'AUPR-OUT': 0.9996501207351685, 'FPR95TPR': 0.001583531266078353, 'Method': 'PrologOOD+', 'Dataset': 'TinyImageNetCrop'}\n",
      "{'AUROC': 0.9992082715034485, 'AUPR-IN': 0.9990019798278809, 'AUPR-OUT': 0.9996501207351685, 'FPR95TPR': 0.001583531266078353, 'Method': 'PrologOOD+', 'Dataset': 'TinyImageNetResize'}\n",
      "{'AUROC': 0.9977664351463318, 'AUPR-IN': 0.9964703917503357, 'AUPR-OUT': 0.9986004829406738, 'FPR95TPR': 0.007917656563222408, 'Method': 'PrologOODT', 'Dataset': 'LSUNCrop'}\n",
      "{'AUROC': 0.9987596273422241, 'AUPR-IN': 0.9981035590171814, 'AUPR-OUT': 0.9993252158164978, 'FPR95TPR': 0.0022961203940212727, 'Method': 'PrologOODT', 'Dataset': 'LSUNResize'}\n",
      "Found 5640 texture files.\n",
      "Found 5640 texture files.\n",
      "{'AUROC': 0.9978678226470947, 'AUPR-IN': 0.994552731513977, 'AUPR-OUT': 0.9991796612739563, 'FPR95TPR': 0.009263657964766026, 'Method': 'PrologOODT', 'Dataset': 'Textures'}\n",
      "{'AUROC': 0.9983167052268982, 'AUPR-IN': 0.9975663423538208, 'AUPR-OUT': 0.9989874362945557, 'FPR95TPR': 0.006571654696017504, 'Method': 'PrologOODT', 'Dataset': 'TinyImageNetCrop'}\n",
      "{'AUROC': 0.9985694885253906, 'AUPR-IN': 0.9978040456771851, 'AUPR-OUT': 0.9991853833198547, 'FPR95TPR': 0.0037212984170764685, 'Method': 'PrologOODT', 'Dataset': 'TinyImageNetResize'}\n",
      "{'AUROC': 0.9992082118988037, 'AUPR-IN': 0.9990019798278809, 'AUPR-OUT': 0.9996501207351685, 'FPR95TPR': 0.001583531266078353, 'Method': 'PrologOODT+', 'Dataset': 'LSUNCrop'}\n",
      "{'AUROC': 0.9992082118988037, 'AUPR-IN': 0.9990019798278809, 'AUPR-OUT': 0.9996501207351685, 'FPR95TPR': 0.001583531266078353, 'Method': 'PrologOODT+', 'Dataset': 'LSUNResize'}\n",
      "Found 5640 texture files.\n",
      "Found 5640 texture files.\n",
      "{'AUROC': 0.9991973042488098, 'AUPR-IN': 0.9982072710990906, 'AUPR-OUT': 0.999750554561615, 'FPR95TPR': 0.001583531266078353, 'Method': 'PrologOODT+', 'Dataset': 'Textures'}\n",
      "{'AUROC': 0.9992082118988037, 'AUPR-IN': 0.9990019798278809, 'AUPR-OUT': 0.9996501207351685, 'FPR95TPR': 0.001583531266078353, 'Method': 'PrologOODT+', 'Dataset': 'TinyImageNetCrop'}\n",
      "{'AUROC': 0.9992082118988037, 'AUPR-IN': 0.9990019798278809, 'AUPR-OUT': 0.9996501207351685, 'FPR95TPR': 0.001583531266078353, 'Method': 'PrologOODT+', 'Dataset': 'TinyImageNetResize'}\n",
      "{'AUROC': 0.7840082049369812, 'AUPR-IN': 0.8781454563140869, 'AUPR-OUT': 0.8724182844161987, 'FPR95TPR': 1.0, 'Method': 'Logic', 'Dataset': 'LSUNCrop'}\n",
      "{'AUROC': 0.8718082308769226, 'AUPR-IN': 0.9275585412979126, 'AUPR-OUT': 0.9156020879745483, 'FPR95TPR': 1.0, 'Method': 'Logic', 'Dataset': 'LSUNResize'}\n",
      "Found 5640 texture files.\n",
      "Found 5640 texture files.\n",
      "{'AUROC': 0.855945885181427, 'AUPR-IN': 0.898490309715271, 'AUPR-OUT': 0.9429581761360168, 'FPR95TPR': 1.0, 'Method': 'Logic', 'Dataset': 'Textures'}\n",
      "{'AUROC': 0.8813081979751587, 'AUPR-IN': 0.9328938722610474, 'AUPR-OUT': 0.9208821654319763, 'FPR95TPR': 1.0, 'Method': 'Logic', 'Dataset': 'TinyImageNetCrop'}\n",
      "{'AUROC': 0.854908287525177, 'AUPR-IN': 0.9180631041526794, 'AUPR-OUT': 0.9065293073654175, 'FPR95TPR': 1.0, 'Method': 'Logic', 'Dataset': 'TinyImageNetResize'}\n",
      "{'AUROC': 0.9992082715034485, 'AUPR-IN': 0.9990019798278809, 'AUPR-OUT': 0.9996501207351685, 'FPR95TPR': 0.001583531266078353, 'Method': 'Logic+', 'Dataset': 'LSUNCrop'}\n",
      "{'AUROC': 0.9992082715034485, 'AUPR-IN': 0.9990019798278809, 'AUPR-OUT': 0.9996501207351685, 'FPR95TPR': 0.001583531266078353, 'Method': 'Logic+', 'Dataset': 'LSUNResize'}\n",
      "Found 5640 texture files.\n",
      "Found 5640 texture files.\n",
      "{'AUROC': 0.9984990954399109, 'AUPR-IN': 0.9977403879165649, 'AUPR-OUT': 0.9994385838508606, 'FPR95TPR': 0.001583531266078353, 'Method': 'Logic+', 'Dataset': 'Textures'}\n",
      "{'AUROC': 0.9992082715034485, 'AUPR-IN': 0.9990019798278809, 'AUPR-OUT': 0.9996501207351685, 'FPR95TPR': 0.001583531266078353, 'Method': 'Logic+', 'Dataset': 'TinyImageNetCrop'}\n",
      "{'AUROC': 0.9992082715034485, 'AUPR-IN': 0.9990019798278809, 'AUPR-OUT': 0.9996501207351685, 'FPR95TPR': 0.001583531266078353, 'Method': 'Logic+', 'Dataset': 'TinyImageNetResize'}\n",
      "{'AUROC': 0.9977920651435852, 'AUPR-IN': 0.9968571662902832, 'AUPR-OUT': 0.9984643459320068, 'FPR95TPR': 0.00973871722817421, 'Method': 'Ensemble', 'Dataset': 'LSUNCrop'}\n",
      "{'AUROC': 0.9992965459823608, 'AUPR-IN': 0.999057412147522, 'AUPR-OUT': 0.9994867444038391, 'FPR95TPR': 0.004592240788042545, 'Method': 'Ensemble', 'Dataset': 'LSUNResize'}\n",
      "Found 5640 texture files.\n",
      "Found 5640 texture files.\n",
      "{'AUROC': 0.9974501132965088, 'AUPR-IN': 0.9936367273330688, 'AUPR-OUT': 0.9989528656005859, 'FPR95TPR': 0.01235154364258051, 'Method': 'Ensemble', 'Dataset': 'Textures'}\n",
      "{'AUROC': 0.9978370666503906, 'AUPR-IN': 0.9969024658203125, 'AUPR-OUT': 0.9985253810882568, 'FPR95TPR': 0.010292952880263329, 'Method': 'Ensemble', 'Dataset': 'TinyImageNetCrop'}\n",
      "{'AUROC': 0.9988991022109985, 'AUPR-IN': 0.9985166192054749, 'AUPR-OUT': 0.9992043375968933, 'FPR95TPR': 0.006809184327721596, 'Method': 'Ensemble', 'Dataset': 'TinyImageNetResize'}\n",
      "{'AUROC': 0.98661208152771, 'AUPR-IN': 0.9793767929077148, 'AUPR-OUT': 0.9888191223144531, 'FPR95TPR': 0.02882026880979538, 'Method': 'MSP', 'Dataset': 'LSUNCrop'}\n",
      "{'AUROC': 0.9946614503860474, 'AUPR-IN': 0.9915804862976074, 'AUPR-OUT': 0.9963669180870056, 'FPR95TPR': 0.016627078875899315, 'Method': 'MSP', 'Dataset': 'LSUNResize'}\n",
      "Found 5640 texture files.\n",
      "Found 5640 texture files.\n",
      "{'AUROC': 0.9876721501350403, 'AUPR-IN': 0.9742544889450073, 'AUPR-OUT': 0.991832971572876, 'FPR95TPR': 0.027395091950893402, 'Method': 'MSP', 'Dataset': 'Textures'}\n",
      "{'AUROC': 0.9851164817810059, 'AUPR-IN': 0.9797313213348389, 'AUPR-OUT': 0.9837401509284973, 'FPR95TPR': 0.031274743378162384, 'Method': 'MSP', 'Dataset': 'TinyImageNetCrop'}\n",
      "{'AUROC': 0.9926058053970337, 'AUPR-IN': 0.9901294708251953, 'AUPR-OUT': 0.9914452433586121, 'FPR95TPR': 0.01931908167898655, 'Method': 'MSP', 'Dataset': 'TinyImageNetResize'}\n",
      "{'AUROC': 0.9838865995407104, 'AUPR-IN': 0.9797461628913879, 'AUPR-OUT': 0.9829853773117065, 'FPR95TPR': 0.02858273871243, 'Method': 'Energy', 'Dataset': 'LSUNCrop'}\n",
      "{'AUROC': 0.9967057704925537, 'AUPR-IN': 0.9960683584213257, 'AUPR-OUT': 0.9967272281646729, 'FPR95TPR': 0.009263657964766026, 'Method': 'Energy', 'Dataset': 'LSUNResize'}\n",
      "Found 5640 texture files.\n",
      "Found 5640 texture files.\n",
      "{'AUROC': 0.9794103503227234, 'AUPR-IN': 0.9731098413467407, 'AUPR-OUT': 0.9811218976974487, 'FPR95TPR': 0.026840854436159134, 'Method': 'Energy', 'Dataset': 'Textures'}\n",
      "{'AUROC': 0.9798569083213806, 'AUPR-IN': 0.980063796043396, 'AUPR-OUT': 0.9720678925514221, 'FPR95TPR': 0.031195566058158875, 'Method': 'Energy', 'Dataset': 'TinyImageNetCrop'}\n",
      "{'AUROC': 0.9922817945480347, 'AUPR-IN': 0.9927549362182617, 'AUPR-OUT': 0.9879031181335449, 'FPR95TPR': 0.013460015878081322, 'Method': 'Energy', 'Dataset': 'TinyImageNetResize'}\n",
      "{'AUROC': 0.9838762283325195, 'AUPR-IN': 0.9797349572181702, 'AUPR-OUT': 0.982879638671875, 'FPR95TPR': 0.02858273871243, 'Method': 'ReAct', 'Dataset': 'LSUNCrop'}\n",
      "{'AUROC': 0.9967077970504761, 'AUPR-IN': 0.996070384979248, 'AUPR-OUT': 0.9967190027236938, 'FPR95TPR': 0.00918448157608509, 'Method': 'ReAct', 'Dataset': 'LSUNResize'}\n",
      "Found 5640 texture files.\n",
      "Found 5640 texture files.\n",
      "{'AUROC': 0.9797305464744568, 'AUPR-IN': 0.973371684551239, 'AUPR-OUT': 0.9813618063926697, 'FPR95TPR': 0.026603326201438904, 'Method': 'ReAct', 'Dataset': 'Textures'}\n",
      "{'AUROC': 0.979906439781189, 'AUPR-IN': 0.9800920486450195, 'AUPR-OUT': 0.9718515872955322, 'FPR95TPR': 0.031274743378162384, 'Method': 'ReAct', 'Dataset': 'TinyImageNetCrop'}\n",
      "{'AUROC': 0.9923074841499329, 'AUPR-IN': 0.9927703142166138, 'AUPR-OUT': 0.9877415895462036, 'FPR95TPR': 0.013460015878081322, 'Method': 'ReAct', 'Dataset': 'TinyImageNetResize'}\n",
      "{'AUROC': 0.9729788303375244, 'AUPR-IN': 0.9680371880531311, 'AUPR-OUT': 0.9959465861320496, 'FPR95TPR': 0.053998418152332306, 'Method': 'ViM', 'Dataset': 'LSUNCrop'}\n",
      "{'AUROC': 0.9730007648468018, 'AUPR-IN': 0.9680771827697754, 'AUPR-OUT': 0.9982556700706482, 'FPR95TPR': 0.053998418152332306, 'Method': 'ViM', 'Dataset': 'LSUNResize'}\n",
      "Found 5640 texture files.\n",
      "Found 5640 texture files.\n",
      "{'AUROC': 0.9729488492012024, 'AUPR-IN': 0.945915699005127, 'AUPR-OUT': 0.997761607170105, 'FPR95TPR': 0.053998418152332306, 'Method': 'ViM', 'Dataset': 'Textures'}\n",
      "{'AUROC': 0.9729600548744202, 'AUPR-IN': 0.9679938554763794, 'AUPR-OUT': 0.9954345226287842, 'FPR95TPR': 0.053998418152332306, 'Method': 'ViM', 'Dataset': 'TinyImageNetCrop'}\n",
      "{'AUROC': 0.9730007648468018, 'AUPR-IN': 0.9680771827697754, 'AUPR-OUT': 0.9982441663742065, 'FPR95TPR': 0.053998418152332306, 'Method': 'ViM', 'Dataset': 'TinyImageNetResize'}\n",
      "{'AUROC': 0.994335412979126, 'AUPR-IN': 0.9872215986251831, 'AUPR-OUT': 0.9967712759971619, 'FPR95TPR': 0.014964370988309383, 'Method': 'Mahalanobis', 'Dataset': 'LSUNCrop'}\n",
      "{'AUROC': 0.9977670311927795, 'AUPR-IN': 0.995376467704773, 'AUPR-OUT': 0.9987021088600159, 'FPR95TPR': 0.006413301452994347, 'Method': 'Mahalanobis', 'Dataset': 'LSUNResize'}\n",
      "Found 5640 texture files.\n",
      "Found 5640 texture files.\n",
      "{'AUROC': 0.9955160617828369, 'AUPR-IN': 0.9855290055274963, 'AUPR-OUT': 0.9983073472976685, 'FPR95TPR': 0.01385589875280857, 'Method': 'Mahalanobis', 'Dataset': 'Textures'}\n",
      "{'AUROC': 0.9944618344306946, 'AUPR-IN': 0.9873612523078918, 'AUPR-OUT': 0.99685138463974, 'FPR95TPR': 0.014885193668305874, 'Method': 'Mahalanobis', 'Dataset': 'TinyImageNetCrop'}\n",
      "{'AUROC': 0.9976349472999573, 'AUPR-IN': 0.9957522749900818, 'AUPR-OUT': 0.9985495209693909, 'FPR95TPR': 0.007521773688495159, 'Method': 'Mahalanobis', 'Dataset': 'TinyImageNetResize'}\n",
      "{'AUROC': 0.9871435165405273, 'AUPR-IN': 0.981436014175415, 'AUPR-OUT': 0.9887994527816772, 'FPR95TPR': 0.02882026880979538, 'Method': 'Entropy', 'Dataset': 'LSUNCrop'}\n",
      "{'AUROC': 0.995965301990509, 'AUPR-IN': 0.99440598487854, 'AUPR-OUT': 0.9969823956489563, 'FPR95TPR': 0.015835313126444817, 'Method': 'Entropy', 'Dataset': 'LSUNResize'}\n",
      "Found 5640 texture files.\n",
      "Found 5640 texture files.\n",
      "{'AUROC': 0.9882761240005493, 'AUPR-IN': 0.9782113432884216, 'AUPR-OUT': 0.9917470812797546, 'FPR95TPR': 0.027157561853528023, 'Method': 'Entropy', 'Dataset': 'Textures'}\n",
      "{'AUROC': 0.9858047962188721, 'AUPR-IN': 0.9822848439216614, 'AUPR-OUT': 0.983666181564331, 'FPR95TPR': 0.030878860503435135, 'Method': 'Entropy', 'Dataset': 'TinyImageNetCrop'}\n",
      "{'AUROC': 0.9937506318092346, 'AUPR-IN': 0.9927053451538086, 'AUPR-OUT': 0.9918674826622009, 'FPR95TPR': 0.01868566870689392, 'Method': 'Entropy', 'Dataset': 'TinyImageNetResize'}\n",
      "{'AUROC': 0.9838537573814392, 'AUPR-IN': 0.9798761606216431, 'AUPR-OUT': 0.9829627275466919, 'FPR95TPR': 0.02866191603243351, 'Method': 'MaxLogit', 'Dataset': 'LSUNCrop'}\n",
      "{'AUROC': 0.9965663552284241, 'AUPR-IN': 0.9959042072296143, 'AUPR-OUT': 0.9966313242912292, 'FPR95TPR': 0.00989707000553608, 'Method': 'MaxLogit', 'Dataset': 'LSUNResize'}\n",
      "Found 5640 texture files.\n",
      "Found 5640 texture files.\n",
      "{'AUROC': 0.9793801307678223, 'AUPR-IN': 0.9731171131134033, 'AUPR-OUT': 0.9811078310012817, 'FPR95TPR': 0.026682501658797264, 'Method': 'MaxLogit', 'Dataset': 'Textures'}\n",
      "{'AUROC': 0.9797462224960327, 'AUPR-IN': 0.9799161553382874, 'AUPR-OUT': 0.9720091819763184, 'FPR95TPR': 0.031274743378162384, 'Method': 'MaxLogit', 'Dataset': 'TinyImageNetCrop'}\n",
      "{'AUROC': 0.9921870231628418, 'AUPR-IN': 0.9926718473434448, 'AUPR-OUT': 0.9878333210945129, 'FPR95TPR': 0.013539192266762257, 'Method': 'MaxLogit', 'Dataset': 'TinyImageNetResize'}\n"
     ]
    },
    {
     "data": {
      "text/plain": "  0%|          | 0/2657 [00:00<?, ?it/s]",
      "application/vnd.jupyter.widget-view+json": {
       "version_major": 2,
       "version_minor": 0,
       "model_id": "114c73f680c44baf979483b8de10254a"
      }
     },
     "metadata": {},
     "output_type": "display_data"
    },
    {
     "name": "stdout",
     "output_type": "stream",
     "text": [
      "Accuracy of the sign network on the test images: 99.99%\n"
     ]
    },
    {
     "data": {
      "text/plain": "  0%|          | 0/2657 [00:00<?, ?it/s]",
      "application/vnd.jupyter.widget-view+json": {
       "version_major": 2,
       "version_minor": 0,
       "model_id": "81d24b1133fb483d9d7c89cae80cd860"
      }
     },
     "metadata": {},
     "output_type": "display_data"
    },
    {
     "name": "stdout",
     "output_type": "stream",
     "text": [
      "Accuracy of the sign network on the test images: 99.99%\n"
     ]
    },
    {
     "data": {
      "text/plain": "  0%|          | 0/2657 [00:00<?, ?it/s]",
      "application/vnd.jupyter.widget-view+json": {
       "version_major": 2,
       "version_minor": 0,
       "model_id": "f8f2a1c16ba74f2a8c92d4a932717830"
      }
     },
     "metadata": {},
     "output_type": "display_data"
    },
    {
     "name": "stdout",
     "output_type": "stream",
     "text": [
      "Accuracy of the sign network on the test images: 99.99%\n"
     ]
    },
    {
     "data": {
      "text/plain": "  0%|          | 0/2657 [00:00<?, ?it/s]",
      "application/vnd.jupyter.widget-view+json": {
       "version_major": 2,
       "version_minor": 0,
       "model_id": "353578c79bdc44f6a3bc1f1cddf2f818"
      }
     },
     "metadata": {},
     "output_type": "display_data"
    },
    {
     "name": "stdout",
     "output_type": "stream",
     "text": [
      "Accuracy of the sign network on the test images: 99.99%\n"
     ]
    },
    {
     "data": {
      "text/plain": "  0%|          | 0/2657 [00:00<?, ?it/s]",
      "application/vnd.jupyter.widget-view+json": {
       "version_major": 2,
       "version_minor": 0,
       "model_id": "889de7d9f5324832a5f5b2452891ed32"
      }
     },
     "metadata": {},
     "output_type": "display_data"
    },
    {
     "name": "stdout",
     "output_type": "stream",
     "text": [
      "Accuracy of the sign network on the test images: 99.98%\n"
     ]
    },
    {
     "data": {
      "text/plain": "  0%|          | 0/2657 [00:00<?, ?it/s]",
      "application/vnd.jupyter.widget-view+json": {
       "version_major": 2,
       "version_minor": 0,
       "model_id": "5ac8269b20dc458b8120916e28d71b8f"
      }
     },
     "metadata": {},
     "output_type": "display_data"
    },
    {
     "name": "stdout",
     "output_type": "stream",
     "text": [
      "Accuracy of the sign network on the test images: 99.99%\n"
     ]
    },
    {
     "data": {
      "text/plain": "  0%|          | 0/2657 [00:00<?, ?it/s]",
      "application/vnd.jupyter.widget-view+json": {
       "version_major": 2,
       "version_minor": 0,
       "model_id": "b91303faa41d41bd9f6a354f8d4633a8"
      }
     },
     "metadata": {},
     "output_type": "display_data"
    },
    {
     "name": "stdout",
     "output_type": "stream",
     "text": [
      "Accuracy of the sign network on the test images: 100.00%\n"
     ]
    },
    {
     "data": {
      "text/plain": "  0%|          | 0/2657 [00:00<?, ?it/s]",
      "application/vnd.jupyter.widget-view+json": {
       "version_major": 2,
       "version_minor": 0,
       "model_id": "d7d4168609ce40929fd85495ca782c2f"
      }
     },
     "metadata": {},
     "output_type": "display_data"
    },
    {
     "name": "stdout",
     "output_type": "stream",
     "text": [
      "Accuracy of the sign network on the test images: 100.00%\n"
     ]
    },
    {
     "data": {
      "text/plain": "  0%|          | 0/2657 [00:00<?, ?it/s]",
      "application/vnd.jupyter.widget-view+json": {
       "version_major": 2,
       "version_minor": 0,
       "model_id": "94634fcddd294774a5335245d70dc004"
      }
     },
     "metadata": {},
     "output_type": "display_data"
    },
    {
     "name": "stdout",
     "output_type": "stream",
     "text": [
      "Accuracy of the sign network on the test images: 100.00%\n"
     ]
    },
    {
     "data": {
      "text/plain": "  0%|          | 0/2657 [00:00<?, ?it/s]",
      "application/vnd.jupyter.widget-view+json": {
       "version_major": 2,
       "version_minor": 0,
       "model_id": "892fe2e83f9a4a29a358558f46555b6b"
      }
     },
     "metadata": {},
     "output_type": "display_data"
    },
    {
     "name": "stdout",
     "output_type": "stream",
     "text": [
      "Accuracy of the sign network on the test images: 100.00%\n"
     ]
    },
    {
     "data": {
      "text/plain": "  0%|          | 0/2657 [00:00<?, ?it/s]",
      "application/vnd.jupyter.widget-view+json": {
       "version_major": 2,
       "version_minor": 0,
       "model_id": "b36c0b7a43a2496485d067d953eeb4a8"
      }
     },
     "metadata": {},
     "output_type": "display_data"
    },
    {
     "name": "stdout",
     "output_type": "stream",
     "text": [
      "Accuracy of the sign network on the test images: 99.99%\n"
     ]
    },
    {
     "data": {
      "text/plain": "  0%|          | 0/2657 [00:00<?, ?it/s]",
      "application/vnd.jupyter.widget-view+json": {
       "version_major": 2,
       "version_minor": 0,
       "model_id": "0d9b1197e1184aa3a2bcba3cca6fcf2d"
      }
     },
     "metadata": {},
     "output_type": "display_data"
    },
    {
     "name": "stdout",
     "output_type": "stream",
     "text": [
      "Accuracy of the sign network on the test images: 99.98%\n"
     ]
    },
    {
     "data": {
      "text/plain": "  0%|          | 0/2657 [00:00<?, ?it/s]",
      "application/vnd.jupyter.widget-view+json": {
       "version_major": 2,
       "version_minor": 0,
       "model_id": "7b8479f1c0854f3fabcef88e3b9b467b"
      }
     },
     "metadata": {},
     "output_type": "display_data"
    },
    {
     "name": "stdout",
     "output_type": "stream",
     "text": [
      "Accuracy of the sign network on the test images: 100.00%\n"
     ]
    },
    {
     "data": {
      "text/plain": "  0%|          | 0/2657 [00:00<?, ?it/s]",
      "application/vnd.jupyter.widget-view+json": {
       "version_major": 2,
       "version_minor": 0,
       "model_id": "4d56e723a1534717910a6982714714a7"
      }
     },
     "metadata": {},
     "output_type": "display_data"
    },
    {
     "name": "stdout",
     "output_type": "stream",
     "text": [
      "Accuracy of the sign network on the test images: 100.00%\n"
     ]
    },
    {
     "data": {
      "text/plain": "  0%|          | 0/2657 [00:00<?, ?it/s]",
      "application/vnd.jupyter.widget-view+json": {
       "version_major": 2,
       "version_minor": 0,
       "model_id": "3c2a79275e60480b964ef201bdeba965"
      }
     },
     "metadata": {},
     "output_type": "display_data"
    },
    {
     "name": "stdout",
     "output_type": "stream",
     "text": [
      "Accuracy of the sign network on the test images: 100.00%\n"
     ]
    },
    {
     "data": {
      "text/plain": "  0%|          | 0/2657 [00:00<?, ?it/s]",
      "application/vnd.jupyter.widget-view+json": {
       "version_major": 2,
       "version_minor": 0,
       "model_id": "5725110c5476465bb273b71bc6c71102"
      }
     },
     "metadata": {},
     "output_type": "display_data"
    },
    {
     "name": "stdout",
     "output_type": "stream",
     "text": [
      "Accuracy of the sign network on the test images: 100.00%\n"
     ]
    },
    {
     "data": {
      "text/plain": "  0%|          | 0/2657 [00:00<?, ?it/s]",
      "application/vnd.jupyter.widget-view+json": {
       "version_major": 2,
       "version_minor": 0,
       "model_id": "e95b84b6dc7245659027a60c9aad5c8d"
      }
     },
     "metadata": {},
     "output_type": "display_data"
    },
    {
     "name": "stdout",
     "output_type": "stream",
     "text": [
      "Accuracy of the sign network on the test images: 100.00%\n"
     ]
    },
    {
     "data": {
      "text/plain": "  0%|          | 0/2657 [00:00<?, ?it/s]",
      "application/vnd.jupyter.widget-view+json": {
       "version_major": 2,
       "version_minor": 0,
       "model_id": "4f2ccb050ba34f8590d5ba0a009bc13b"
      }
     },
     "metadata": {},
     "output_type": "display_data"
    },
    {
     "name": "stdout",
     "output_type": "stream",
     "text": [
      "Accuracy of the sign network on the test images: 100.00%\n"
     ]
    },
    {
     "data": {
      "text/plain": "  0%|          | 0/2657 [00:00<?, ?it/s]",
      "application/vnd.jupyter.widget-view+json": {
       "version_major": 2,
       "version_minor": 0,
       "model_id": "24893b94ee334a19a96c77af67516657"
      }
     },
     "metadata": {},
     "output_type": "display_data"
    },
    {
     "name": "stdout",
     "output_type": "stream",
     "text": [
      "Accuracy of the sign network on the test images: 100.00%\n"
     ]
    },
    {
     "data": {
      "text/plain": "  0%|          | 0/2657 [00:00<?, ?it/s]",
      "application/vnd.jupyter.widget-view+json": {
       "version_major": 2,
       "version_minor": 0,
       "model_id": "19624d0ea5974d48b42379f08708565e"
      }
     },
     "metadata": {},
     "output_type": "display_data"
    },
    {
     "name": "stdout",
     "output_type": "stream",
     "text": [
      "Accuracy of the sign network on the test images: 100.00%\n"
     ]
    },
    {
     "data": {
      "text/plain": "  0%|          | 0/1094 [00:00<?, ?it/s]",
      "application/vnd.jupyter.widget-view+json": {
       "version_major": 2,
       "version_minor": 0,
       "model_id": "997295d3171147438a67597a560f2a97"
      }
     },
     "metadata": {},
     "output_type": "display_data"
    },
    {
     "name": "stdout",
     "output_type": "stream",
     "text": [
      "Accuracy of the network on the test images: 99.95%\n"
     ]
    },
    {
     "data": {
      "text/plain": "  0%|          | 0/1094 [00:00<?, ?it/s]",
      "application/vnd.jupyter.widget-view+json": {
       "version_major": 2,
       "version_minor": 0,
       "model_id": "ab9f0e81154a4345b0724cff154aca93"
      }
     },
     "metadata": {},
     "output_type": "display_data"
    },
    {
     "name": "stdout",
     "output_type": "stream",
     "text": [
      "Accuracy of the network on the test images: 99.93%\n"
     ]
    },
    {
     "data": {
      "text/plain": "  0%|          | 0/1094 [00:00<?, ?it/s]",
      "application/vnd.jupyter.widget-view+json": {
       "version_major": 2,
       "version_minor": 0,
       "model_id": "34ea78b9c94a4f6190f368a6b5200f1b"
      }
     },
     "metadata": {},
     "output_type": "display_data"
    },
    {
     "name": "stdout",
     "output_type": "stream",
     "text": [
      "Accuracy of the network on the test images: 99.98%\n"
     ]
    },
    {
     "data": {
      "text/plain": "  0%|          | 0/1094 [00:00<?, ?it/s]",
      "application/vnd.jupyter.widget-view+json": {
       "version_major": 2,
       "version_minor": 0,
       "model_id": "752ab2841b4d4ed8bbecc22d7a44cf97"
      }
     },
     "metadata": {},
     "output_type": "display_data"
    },
    {
     "name": "stdout",
     "output_type": "stream",
     "text": [
      "Accuracy of the network on the test images: 99.97%\n"
     ]
    },
    {
     "data": {
      "text/plain": "  0%|          | 0/1094 [00:00<?, ?it/s]",
      "application/vnd.jupyter.widget-view+json": {
       "version_major": 2,
       "version_minor": 0,
       "model_id": "5d2e6740a17246278c754bd35aa5b022"
      }
     },
     "metadata": {},
     "output_type": "display_data"
    },
    {
     "name": "stdout",
     "output_type": "stream",
     "text": [
      "Accuracy of the network on the test images: 99.98%\n"
     ]
    },
    {
     "data": {
      "text/plain": "  0%|          | 0/1094 [00:00<?, ?it/s]",
      "application/vnd.jupyter.widget-view+json": {
       "version_major": 2,
       "version_minor": 0,
       "model_id": "af1c3191a72d4b2c9ea00c305184d8d2"
      }
     },
     "metadata": {},
     "output_type": "display_data"
    },
    {
     "name": "stdout",
     "output_type": "stream",
     "text": [
      "Accuracy of the network on the test images: 99.97%\n"
     ]
    },
    {
     "data": {
      "text/plain": "  0%|          | 0/1094 [00:00<?, ?it/s]",
      "application/vnd.jupyter.widget-view+json": {
       "version_major": 2,
       "version_minor": 0,
       "model_id": "8a63dfad31fd44c9adc195b03629c4d9"
      }
     },
     "metadata": {},
     "output_type": "display_data"
    },
    {
     "name": "stdout",
     "output_type": "stream",
     "text": [
      "Accuracy of the network on the test images: 99.98%\n"
     ]
    },
    {
     "data": {
      "text/plain": "  0%|          | 0/1094 [00:00<?, ?it/s]",
      "application/vnd.jupyter.widget-view+json": {
       "version_major": 2,
       "version_minor": 0,
       "model_id": "b923d06e916a453c9abb384c862d6ab8"
      }
     },
     "metadata": {},
     "output_type": "display_data"
    },
    {
     "name": "stdout",
     "output_type": "stream",
     "text": [
      "Accuracy of the network on the test images: 99.98%\n"
     ]
    },
    {
     "data": {
      "text/plain": "  0%|          | 0/1094 [00:00<?, ?it/s]",
      "application/vnd.jupyter.widget-view+json": {
       "version_major": 2,
       "version_minor": 0,
       "model_id": "d9d1abf7653043fbbd26d540cf3ab523"
      }
     },
     "metadata": {},
     "output_type": "display_data"
    },
    {
     "name": "stdout",
     "output_type": "stream",
     "text": [
      "Accuracy of the network on the test images: 99.97%\n"
     ]
    },
    {
     "data": {
      "text/plain": "  0%|          | 0/1094 [00:00<?, ?it/s]",
      "application/vnd.jupyter.widget-view+json": {
       "version_major": 2,
       "version_minor": 0,
       "model_id": "90fb2e79d65743c9a4ff4d2925064dcc"
      }
     },
     "metadata": {},
     "output_type": "display_data"
    },
    {
     "name": "stdout",
     "output_type": "stream",
     "text": [
      "Accuracy of the network on the test images: 99.98%\n"
     ]
    },
    {
     "data": {
      "text/plain": "  0%|          | 0/1094 [00:00<?, ?it/s]",
      "application/vnd.jupyter.widget-view+json": {
       "version_major": 2,
       "version_minor": 0,
       "model_id": "440ad4deaaec4ea39ee2334f75066ccf"
      }
     },
     "metadata": {},
     "output_type": "display_data"
    },
    {
     "name": "stdout",
     "output_type": "stream",
     "text": [
      "Accuracy of the network on the test images: 99.98%\n"
     ]
    },
    {
     "data": {
      "text/plain": "  0%|          | 0/1094 [00:00<?, ?it/s]",
      "application/vnd.jupyter.widget-view+json": {
       "version_major": 2,
       "version_minor": 0,
       "model_id": "42a3a5d1467b47d2966c9b31af2d57b4"
      }
     },
     "metadata": {},
     "output_type": "display_data"
    },
    {
     "name": "stdout",
     "output_type": "stream",
     "text": [
      "Accuracy of the network on the test images: 99.96%\n"
     ]
    },
    {
     "data": {
      "text/plain": "  0%|          | 0/1094 [00:00<?, ?it/s]",
      "application/vnd.jupyter.widget-view+json": {
       "version_major": 2,
       "version_minor": 0,
       "model_id": "956cd7bc5f374e2d95e4a4bbd98f35b6"
      }
     },
     "metadata": {},
     "output_type": "display_data"
    },
    {
     "name": "stdout",
     "output_type": "stream",
     "text": [
      "Accuracy of the network on the test images: 99.97%\n"
     ]
    },
    {
     "data": {
      "text/plain": "  0%|          | 0/1094 [00:00<?, ?it/s]",
      "application/vnd.jupyter.widget-view+json": {
       "version_major": 2,
       "version_minor": 0,
       "model_id": "f20bc25cab694f23976bce951d9bc6f5"
      }
     },
     "metadata": {},
     "output_type": "display_data"
    },
    {
     "name": "stdout",
     "output_type": "stream",
     "text": [
      "Accuracy of the network on the test images: 99.98%\n"
     ]
    },
    {
     "data": {
      "text/plain": "  0%|          | 0/1094 [00:00<?, ?it/s]",
      "application/vnd.jupyter.widget-view+json": {
       "version_major": 2,
       "version_minor": 0,
       "model_id": "b42544c021894a2bb603afde82ed639e"
      }
     },
     "metadata": {},
     "output_type": "display_data"
    },
    {
     "name": "stdout",
     "output_type": "stream",
     "text": [
      "Accuracy of the network on the test images: 99.98%\n"
     ]
    },
    {
     "data": {
      "text/plain": "  0%|          | 0/1094 [00:00<?, ?it/s]",
      "application/vnd.jupyter.widget-view+json": {
       "version_major": 2,
       "version_minor": 0,
       "model_id": "125a45a671684be08520d655111c6ec8"
      }
     },
     "metadata": {},
     "output_type": "display_data"
    },
    {
     "name": "stdout",
     "output_type": "stream",
     "text": [
      "Accuracy of the network on the test images: 99.95%\n"
     ]
    },
    {
     "data": {
      "text/plain": "  0%|          | 0/1094 [00:00<?, ?it/s]",
      "application/vnd.jupyter.widget-view+json": {
       "version_major": 2,
       "version_minor": 0,
       "model_id": "0e7569cc59f2453a8d18f0a9f0f59b2c"
      }
     },
     "metadata": {},
     "output_type": "display_data"
    },
    {
     "name": "stdout",
     "output_type": "stream",
     "text": [
      "Accuracy of the network on the test images: 99.97%\n"
     ]
    },
    {
     "data": {
      "text/plain": "  0%|          | 0/1094 [00:00<?, ?it/s]",
      "application/vnd.jupyter.widget-view+json": {
       "version_major": 2,
       "version_minor": 0,
       "model_id": "4c7fc3e328634e5d949ba1105f318994"
      }
     },
     "metadata": {},
     "output_type": "display_data"
    },
    {
     "name": "stdout",
     "output_type": "stream",
     "text": [
      "Accuracy of the network on the test images: 99.97%\n"
     ]
    },
    {
     "data": {
      "text/plain": "  0%|          | 0/1094 [00:00<?, ?it/s]",
      "application/vnd.jupyter.widget-view+json": {
       "version_major": 2,
       "version_minor": 0,
       "model_id": "b190a35b36c443d380d238b85546bf4a"
      }
     },
     "metadata": {},
     "output_type": "display_data"
    },
    {
     "name": "stdout",
     "output_type": "stream",
     "text": [
      "Accuracy of the network on the test images: 99.94%\n"
     ]
    },
    {
     "data": {
      "text/plain": "  0%|          | 0/1094 [00:00<?, ?it/s]",
      "application/vnd.jupyter.widget-view+json": {
       "version_major": 2,
       "version_minor": 0,
       "model_id": "33ff8187791948e08c9115571170111b"
      }
     },
     "metadata": {},
     "output_type": "display_data"
    },
    {
     "name": "stdout",
     "output_type": "stream",
     "text": [
      "Accuracy of the network on the test images: 99.98%\n"
     ]
    },
    {
     "data": {
      "text/plain": "  0%|          | 0/1094 [00:00<?, ?it/s]",
      "application/vnd.jupyter.widget-view+json": {
       "version_major": 2,
       "version_minor": 0,
       "model_id": "f28706902880486eb57aa5ccd33df722"
      }
     },
     "metadata": {},
     "output_type": "display_data"
    },
    {
     "name": "stdout",
     "output_type": "stream",
     "text": [
      "Accuracy of the network on the test images: 99.83%\n"
     ]
    },
    {
     "data": {
      "text/plain": "  0%|          | 0/1094 [00:00<?, ?it/s]",
      "application/vnd.jupyter.widget-view+json": {
       "version_major": 2,
       "version_minor": 0,
       "model_id": "32b4d89ad4d14da1a3f20332afce7913"
      }
     },
     "metadata": {},
     "output_type": "display_data"
    },
    {
     "name": "stdout",
     "output_type": "stream",
     "text": [
      "Accuracy of the network on the test images: 99.93%\n"
     ]
    },
    {
     "data": {
      "text/plain": "  0%|          | 0/1094 [00:00<?, ?it/s]",
      "application/vnd.jupyter.widget-view+json": {
       "version_major": 2,
       "version_minor": 0,
       "model_id": "c53176933b314313a4b237ffbb135ab0"
      }
     },
     "metadata": {},
     "output_type": "display_data"
    },
    {
     "name": "stdout",
     "output_type": "stream",
     "text": [
      "Accuracy of the network on the test images: 99.90%\n"
     ]
    },
    {
     "data": {
      "text/plain": "  0%|          | 0/1094 [00:00<?, ?it/s]",
      "application/vnd.jupyter.widget-view+json": {
       "version_major": 2,
       "version_minor": 0,
       "model_id": "c820bd0bfeb045748855ee287850b728"
      }
     },
     "metadata": {},
     "output_type": "display_data"
    },
    {
     "name": "stdout",
     "output_type": "stream",
     "text": [
      "Accuracy of the network on the test images: 99.95%\n"
     ]
    },
    {
     "data": {
      "text/plain": "  0%|          | 0/1094 [00:00<?, ?it/s]",
      "application/vnd.jupyter.widget-view+json": {
       "version_major": 2,
       "version_minor": 0,
       "model_id": "b9c9a01f4b784a9482adf48d6157d6d1"
      }
     },
     "metadata": {},
     "output_type": "display_data"
    },
    {
     "name": "stdout",
     "output_type": "stream",
     "text": [
      "Accuracy of the network on the test images: 99.95%\n"
     ]
    },
    {
     "data": {
      "text/plain": "  0%|          | 0/1094 [00:00<?, ?it/s]",
      "application/vnd.jupyter.widget-view+json": {
       "version_major": 2,
       "version_minor": 0,
       "model_id": "87ca56a05d0e4198a5900c85ba14bc51"
      }
     },
     "metadata": {},
     "output_type": "display_data"
    },
    {
     "name": "stdout",
     "output_type": "stream",
     "text": [
      "Accuracy of the network on the test images: 99.98%\n"
     ]
    },
    {
     "data": {
      "text/plain": "  0%|          | 0/1094 [00:00<?, ?it/s]",
      "application/vnd.jupyter.widget-view+json": {
       "version_major": 2,
       "version_minor": 0,
       "model_id": "52cf6280ecae45cc9beab5ee4ba842f9"
      }
     },
     "metadata": {},
     "output_type": "display_data"
    },
    {
     "name": "stdout",
     "output_type": "stream",
     "text": [
      "Accuracy of the network on the test images: 99.98%\n"
     ]
    },
    {
     "data": {
      "text/plain": "  0%|          | 0/1094 [00:00<?, ?it/s]",
      "application/vnd.jupyter.widget-view+json": {
       "version_major": 2,
       "version_minor": 0,
       "model_id": "f8cf5a3a7fa343e88a5eebeb5cbb3187"
      }
     },
     "metadata": {},
     "output_type": "display_data"
    },
    {
     "name": "stdout",
     "output_type": "stream",
     "text": [
      "Accuracy of the network on the test images: 99.98%\n"
     ]
    },
    {
     "data": {
      "text/plain": "  0%|          | 0/1094 [00:00<?, ?it/s]",
      "application/vnd.jupyter.widget-view+json": {
       "version_major": 2,
       "version_minor": 0,
       "model_id": "c2f5c851b01548d3b8d7011128c24d5c"
      }
     },
     "metadata": {},
     "output_type": "display_data"
    },
    {
     "name": "stdout",
     "output_type": "stream",
     "text": [
      "Accuracy of the network on the test images: 99.94%\n"
     ]
    },
    {
     "data": {
      "text/plain": "  0%|          | 0/1094 [00:00<?, ?it/s]",
      "application/vnd.jupyter.widget-view+json": {
       "version_major": 2,
       "version_minor": 0,
       "model_id": "650d3ce6f7fd42bea551a5f92494310c"
      }
     },
     "metadata": {},
     "output_type": "display_data"
    },
    {
     "name": "stdout",
     "output_type": "stream",
     "text": [
      "Accuracy of the network on the test images: 99.97%\n"
     ]
    },
    {
     "data": {
      "text/plain": "  0%|          | 0/1094 [00:00<?, ?it/s]",
      "application/vnd.jupyter.widget-view+json": {
       "version_major": 2,
       "version_minor": 0,
       "model_id": "5fcbb4c871814af4902f8c05e3e077dd"
      }
     },
     "metadata": {},
     "output_type": "display_data"
    },
    {
     "name": "stdout",
     "output_type": "stream",
     "text": [
      "Accuracy of the network on the test images: 99.99%\n"
     ]
    },
    {
     "data": {
      "text/plain": "  0%|          | 0/1094 [00:00<?, ?it/s]",
      "application/vnd.jupyter.widget-view+json": {
       "version_major": 2,
       "version_minor": 0,
       "model_id": "7b7702c994fe4b3bb2db7bc533084275"
      }
     },
     "metadata": {},
     "output_type": "display_data"
    },
    {
     "name": "stdout",
     "output_type": "stream",
     "text": [
      "Accuracy of the network on the test images: 99.98%\n"
     ]
    },
    {
     "data": {
      "text/plain": "  0%|          | 0/1094 [00:00<?, ?it/s]",
      "application/vnd.jupyter.widget-view+json": {
       "version_major": 2,
       "version_minor": 0,
       "model_id": "bba33f141ade484ea52004d44c4c1925"
      }
     },
     "metadata": {},
     "output_type": "display_data"
    },
    {
     "name": "stdout",
     "output_type": "stream",
     "text": [
      "Accuracy of the network on the test images: 99.98%\n"
     ]
    },
    {
     "data": {
      "text/plain": "  0%|          | 0/1094 [00:00<?, ?it/s]",
      "application/vnd.jupyter.widget-view+json": {
       "version_major": 2,
       "version_minor": 0,
       "model_id": "428f47abebba42d99a48e876dba3b183"
      }
     },
     "metadata": {},
     "output_type": "display_data"
    },
    {
     "name": "stdout",
     "output_type": "stream",
     "text": [
      "Accuracy of the network on the test images: 99.99%\n"
     ]
    },
    {
     "data": {
      "text/plain": "  0%|          | 0/1094 [00:00<?, ?it/s]",
      "application/vnd.jupyter.widget-view+json": {
       "version_major": 2,
       "version_minor": 0,
       "model_id": "db30b4eeae5541508f717b0d867806e8"
      }
     },
     "metadata": {},
     "output_type": "display_data"
    },
    {
     "name": "stdout",
     "output_type": "stream",
     "text": [
      "Accuracy of the network on the test images: 99.95%\n"
     ]
    },
    {
     "data": {
      "text/plain": "  0%|          | 0/1094 [00:00<?, ?it/s]",
      "application/vnd.jupyter.widget-view+json": {
       "version_major": 2,
       "version_minor": 0,
       "model_id": "9e907b56a7914e029814a25842196eb9"
      }
     },
     "metadata": {},
     "output_type": "display_data"
    },
    {
     "name": "stdout",
     "output_type": "stream",
     "text": [
      "Accuracy of the network on the test images: 99.96%\n"
     ]
    },
    {
     "data": {
      "text/plain": "  0%|          | 0/1094 [00:00<?, ?it/s]",
      "application/vnd.jupyter.widget-view+json": {
       "version_major": 2,
       "version_minor": 0,
       "model_id": "50cb8d4bdfa9451fa00e797938536afb"
      }
     },
     "metadata": {},
     "output_type": "display_data"
    },
    {
     "name": "stdout",
     "output_type": "stream",
     "text": [
      "Accuracy of the network on the test images: 99.97%\n"
     ]
    },
    {
     "data": {
      "text/plain": "  0%|          | 0/1094 [00:00<?, ?it/s]",
      "application/vnd.jupyter.widget-view+json": {
       "version_major": 2,
       "version_minor": 0,
       "model_id": "5b57ccb0656d475689788ceafb86128a"
      }
     },
     "metadata": {},
     "output_type": "display_data"
    },
    {
     "name": "stdout",
     "output_type": "stream",
     "text": [
      "Accuracy of the network on the test images: 99.98%\n"
     ]
    },
    {
     "data": {
      "text/plain": "  0%|          | 0/1094 [00:00<?, ?it/s]",
      "application/vnd.jupyter.widget-view+json": {
       "version_major": 2,
       "version_minor": 0,
       "model_id": "cf1eaedac1a4402d8f0656762d675574"
      }
     },
     "metadata": {},
     "output_type": "display_data"
    },
    {
     "name": "stdout",
     "output_type": "stream",
     "text": [
      "Accuracy of the network on the test images: 99.97%\n"
     ]
    },
    {
     "data": {
      "text/plain": "  0%|          | 0/1094 [00:00<?, ?it/s]",
      "application/vnd.jupyter.widget-view+json": {
       "version_major": 2,
       "version_minor": 0,
       "model_id": "94ab7a0d21784412bcb265068e0ef816"
      }
     },
     "metadata": {},
     "output_type": "display_data"
    },
    {
     "name": "stdout",
     "output_type": "stream",
     "text": [
      "Accuracy of the network on the test images: 99.98%\n"
     ]
    },
    {
     "data": {
      "text/plain": "  0%|          | 0/1094 [00:00<?, ?it/s]",
      "application/vnd.jupyter.widget-view+json": {
       "version_major": 2,
       "version_minor": 0,
       "model_id": "83fd8d44fc5d419e83eebfed5124fdc6"
      }
     },
     "metadata": {},
     "output_type": "display_data"
    },
    {
     "name": "stdout",
     "output_type": "stream",
     "text": [
      "Accuracy of the network on the test images: 97.55%\n"
     ]
    },
    {
     "data": {
      "text/plain": "  0%|          | 0/1094 [00:00<?, ?it/s]",
      "application/vnd.jupyter.widget-view+json": {
       "version_major": 2,
       "version_minor": 0,
       "model_id": "c26e37ae3a604ea7bdcdf98342264e4a"
      }
     },
     "metadata": {},
     "output_type": "display_data"
    },
    {
     "name": "stdout",
     "output_type": "stream",
     "text": [
      "Accuracy of the network on the test images: 98.46%\n"
     ]
    },
    {
     "data": {
      "text/plain": "  0%|          | 0/1094 [00:00<?, ?it/s]",
      "application/vnd.jupyter.widget-view+json": {
       "version_major": 2,
       "version_minor": 0,
       "model_id": "43927bb2613741608f427200a0cc323b"
      }
     },
     "metadata": {},
     "output_type": "display_data"
    },
    {
     "name": "stdout",
     "output_type": "stream",
     "text": [
      "Accuracy of the network on the test images: 98.42%\n"
     ]
    },
    {
     "data": {
      "text/plain": "  0%|          | 0/1094 [00:00<?, ?it/s]",
      "application/vnd.jupyter.widget-view+json": {
       "version_major": 2,
       "version_minor": 0,
       "model_id": "f9583f3f956b4497a2ae386e8ac26cea"
      }
     },
     "metadata": {},
     "output_type": "display_data"
    },
    {
     "name": "stdout",
     "output_type": "stream",
     "text": [
      "Accuracy of the network on the test images: 98.25%\n"
     ]
    },
    {
     "data": {
      "text/plain": "  0%|          | 0/1094 [00:00<?, ?it/s]",
      "application/vnd.jupyter.widget-view+json": {
       "version_major": 2,
       "version_minor": 0,
       "model_id": "a938d647c13147edbb50f1c1a89d3fcd"
      }
     },
     "metadata": {},
     "output_type": "display_data"
    },
    {
     "name": "stdout",
     "output_type": "stream",
     "text": [
      "Accuracy of the network on the test images: 98.67%\n"
     ]
    },
    {
     "data": {
      "text/plain": "  0%|          | 0/1094 [00:00<?, ?it/s]",
      "application/vnd.jupyter.widget-view+json": {
       "version_major": 2,
       "version_minor": 0,
       "model_id": "f6098efbc82c4c1b80bda684db5f0598"
      }
     },
     "metadata": {},
     "output_type": "display_data"
    },
    {
     "name": "stdout",
     "output_type": "stream",
     "text": [
      "Accuracy of the network on the test images: 98.59%\n"
     ]
    },
    {
     "data": {
      "text/plain": "  0%|          | 0/1094 [00:00<?, ?it/s]",
      "application/vnd.jupyter.widget-view+json": {
       "version_major": 2,
       "version_minor": 0,
       "model_id": "c0fc0df29d76444689c8ef1b24a665db"
      }
     },
     "metadata": {},
     "output_type": "display_data"
    },
    {
     "name": "stdout",
     "output_type": "stream",
     "text": [
      "Accuracy of the network on the test images: 99.00%\n"
     ]
    },
    {
     "data": {
      "text/plain": "  0%|          | 0/1094 [00:00<?, ?it/s]",
      "application/vnd.jupyter.widget-view+json": {
       "version_major": 2,
       "version_minor": 0,
       "model_id": "0cd03ef940df4f018ecc20b751fa65a2"
      }
     },
     "metadata": {},
     "output_type": "display_data"
    },
    {
     "name": "stdout",
     "output_type": "stream",
     "text": [
      "Accuracy of the network on the test images: 98.90%\n"
     ]
    },
    {
     "data": {
      "text/plain": "  0%|          | 0/1094 [00:00<?, ?it/s]",
      "application/vnd.jupyter.widget-view+json": {
       "version_major": 2,
       "version_minor": 0,
       "model_id": "3f02c5fe408d4c44b394e1886d3071fe"
      }
     },
     "metadata": {},
     "output_type": "display_data"
    },
    {
     "name": "stdout",
     "output_type": "stream",
     "text": [
      "Accuracy of the network on the test images: 98.92%\n"
     ]
    },
    {
     "data": {
      "text/plain": "  0%|          | 0/1094 [00:00<?, ?it/s]",
      "application/vnd.jupyter.widget-view+json": {
       "version_major": 2,
       "version_minor": 0,
       "model_id": "5ead3547e80b4e759f31c93422c41924"
      }
     },
     "metadata": {},
     "output_type": "display_data"
    },
    {
     "name": "stdout",
     "output_type": "stream",
     "text": [
      "Accuracy of the network on the test images: 98.83%\n"
     ]
    },
    {
     "data": {
      "text/plain": "  0%|          | 0/1094 [00:00<?, ?it/s]",
      "application/vnd.jupyter.widget-view+json": {
       "version_major": 2,
       "version_minor": 0,
       "model_id": "0f7df2f903634d5a95b8f1a4c12e0c68"
      }
     },
     "metadata": {},
     "output_type": "display_data"
    },
    {
     "name": "stdout",
     "output_type": "stream",
     "text": [
      "Accuracy of the network on the test images: 98.94%\n"
     ]
    },
    {
     "data": {
      "text/plain": "  0%|          | 0/1094 [00:00<?, ?it/s]",
      "application/vnd.jupyter.widget-view+json": {
       "version_major": 2,
       "version_minor": 0,
       "model_id": "7225d3d5c35847abbbd684b2e46bde48"
      }
     },
     "metadata": {},
     "output_type": "display_data"
    },
    {
     "name": "stdout",
     "output_type": "stream",
     "text": [
      "Accuracy of the network on the test images: 99.06%\n"
     ]
    },
    {
     "data": {
      "text/plain": "  0%|          | 0/1094 [00:00<?, ?it/s]",
      "application/vnd.jupyter.widget-view+json": {
       "version_major": 2,
       "version_minor": 0,
       "model_id": "f07370b12982426a93f6d90aa895623e"
      }
     },
     "metadata": {},
     "output_type": "display_data"
    },
    {
     "name": "stdout",
     "output_type": "stream",
     "text": [
      "Accuracy of the network on the test images: 98.92%\n"
     ]
    },
    {
     "data": {
      "text/plain": "  0%|          | 0/1094 [00:00<?, ?it/s]",
      "application/vnd.jupyter.widget-view+json": {
       "version_major": 2,
       "version_minor": 0,
       "model_id": "7e95eba33c354c75859bb59dc3649594"
      }
     },
     "metadata": {},
     "output_type": "display_data"
    },
    {
     "name": "stdout",
     "output_type": "stream",
     "text": [
      "Accuracy of the network on the test images: 98.93%\n"
     ]
    },
    {
     "data": {
      "text/plain": "  0%|          | 0/1094 [00:00<?, ?it/s]",
      "application/vnd.jupyter.widget-view+json": {
       "version_major": 2,
       "version_minor": 0,
       "model_id": "a6f25493c96643bc901c9d11f52e530f"
      }
     },
     "metadata": {},
     "output_type": "display_data"
    },
    {
     "name": "stdout",
     "output_type": "stream",
     "text": [
      "Accuracy of the network on the test images: 99.10%\n"
     ]
    },
    {
     "data": {
      "text/plain": "  0%|          | 0/1094 [00:00<?, ?it/s]",
      "application/vnd.jupyter.widget-view+json": {
       "version_major": 2,
       "version_minor": 0,
       "model_id": "b73b6d676af141c188354ede53dc0195"
      }
     },
     "metadata": {},
     "output_type": "display_data"
    },
    {
     "name": "stdout",
     "output_type": "stream",
     "text": [
      "Accuracy of the network on the test images: 99.03%\n"
     ]
    },
    {
     "data": {
      "text/plain": "  0%|          | 0/1094 [00:00<?, ?it/s]",
      "application/vnd.jupyter.widget-view+json": {
       "version_major": 2,
       "version_minor": 0,
       "model_id": "5ef77bb5344249439f0a4cfcfb8808d7"
      }
     },
     "metadata": {},
     "output_type": "display_data"
    },
    {
     "name": "stdout",
     "output_type": "stream",
     "text": [
      "Accuracy of the network on the test images: 98.99%\n"
     ]
    },
    {
     "data": {
      "text/plain": "  0%|          | 0/1094 [00:00<?, ?it/s]",
      "application/vnd.jupyter.widget-view+json": {
       "version_major": 2,
       "version_minor": 0,
       "model_id": "f320bc0b07604e8191e28c3c4b29bf24"
      }
     },
     "metadata": {},
     "output_type": "display_data"
    },
    {
     "name": "stdout",
     "output_type": "stream",
     "text": [
      "Accuracy of the network on the test images: 99.25%\n"
     ]
    },
    {
     "data": {
      "text/plain": "  0%|          | 0/1094 [00:00<?, ?it/s]",
      "application/vnd.jupyter.widget-view+json": {
       "version_major": 2,
       "version_minor": 0,
       "model_id": "03182bb5c1354a8dacf4d663604761e6"
      }
     },
     "metadata": {},
     "output_type": "display_data"
    },
    {
     "name": "stdout",
     "output_type": "stream",
     "text": [
      "Accuracy of the network on the test images: 99.17%\n"
     ]
    },
    {
     "data": {
      "text/plain": "  0%|          | 0/1094 [00:00<?, ?it/s]",
      "application/vnd.jupyter.widget-view+json": {
       "version_major": 2,
       "version_minor": 0,
       "model_id": "8e66d35821ad43cd85869c42ddf889ce"
      }
     },
     "metadata": {},
     "output_type": "display_data"
    },
    {
     "name": "stdout",
     "output_type": "stream",
     "text": [
      "Accuracy of the network on the test images: 99.14%\n",
      "Computing principal space ...\n",
      "Computing principal space ...\n",
      "Computing alpha ...\n",
      "Computing alpha ...\n",
      "self.alpha=9.2659\n",
      "self.alpha=9.2659\n",
      "Fitting with temperature scaling\n",
      "label: y1.unique()=tensor([ 0,  1,  2,  3,  4,  5,  6,  7,  8,  9, 10, 11, 12, 13, 14, 15, 16, 17,\n",
      "        18, 19, 20, 21, 22, 23, 24, 25, 26, 27, 28, 29, 30, 31, 32, 33, 34, 35,\n",
      "        36, 37, 38, 39, 40, 41, 42]) logits_label.shape=torch.Size([4209, 43])\n",
      "Initial T/NLL: 1.000/0.003\n",
      "Initial T/NLL: 1.000/0.003\n",
      "Optimal temperature: 1.0005364418029785\n",
      "Optimal temperature: 1.0005364418029785\n",
      "NLL after scaling: 0.00'\n",
      "NLL after scaling: 0.00'\n",
      "color: y2.unique()=tensor([0, 1, 2, 3]) logits_color.shape=torch.Size([4209, 4])\n",
      "Initial T/NLL: 1.000/0.000\n",
      "Initial T/NLL: 1.000/0.000\n",
      "Optimal temperature: 0.9999987483024597\n",
      "Optimal temperature: 0.9999987483024597\n",
      "NLL after scaling: 0.00'\n",
      "NLL after scaling: 0.00'\n",
      "shape: y3.unique()=tensor([0, 1, 2, 3, 4]) logits_shape.shape=torch.Size([4209, 5])\n",
      "Initial T/NLL: 1.000/0.000\n",
      "Initial T/NLL: 1.000/0.000\n",
      "Optimal temperature: 0.9999986886978149\n",
      "Optimal temperature: 0.9999986886978149\n",
      "NLL after scaling: 0.00'\n",
      "NLL after scaling: 0.00'\n",
      "self.scorer_label.t=Parameter containing:\n",
      "tensor(1.0005, requires_grad=True)\n",
      "self.scorer_color.t=Parameter containing:\n",
      "tensor(1.0000, requires_grad=True)\n",
      "self.scorer_shape.t=Parameter containing:\n",
      "tensor(1.0000, requires_grad=True)\n",
      "Fitting with temperature scaling\n"
     ]
    },
    {
     "name": "stderr",
     "output_type": "stream",
     "text": [
      "/home/ki/projects/pytorch-ood/src/pytorch_ood/detector/tscaling.py:84: UserWarning: Implicit dimension choice for log_softmax has been deprecated. Change the call to include dim=X as an argument.\n",
      "  loss = nll_loss(log_softmax(logits / self.t), labels).item()\n",
      "/home/ki/projects/pytorch-ood/src/pytorch_ood/detector/tscaling.py:90: UserWarning: Implicit dimension choice for log_softmax has been deprecated. Change the call to include dim=X as an argument.\n",
      "  loss = nll_loss(log_softmax(logits / self.t), labels)\n",
      "/home/ki/projects/pytorch-ood/src/pytorch_ood/detector/tscaling.py:97: UserWarning: Implicit dimension choice for log_softmax has been deprecated. Change the call to include dim=X as an argument.\n",
      "  loss = nll_loss(log_softmax(logits / self.t), labels).item()\n"
     ]
    },
    {
     "name": "stdout",
     "output_type": "stream",
     "text": [
      "label: y1.unique()=tensor([ 0,  1,  2,  3,  4,  5,  6,  7,  8,  9, 10, 11, 12, 13, 14, 15, 16, 17,\n",
      "        18, 19, 20, 21, 22, 23, 24, 25, 26, 27, 28, 29, 30, 31, 32, 33, 34, 35,\n",
      "        36, 37, 38, 39, 40, 41, 42]) logits_label.shape=torch.Size([4209, 43])\n",
      "Initial T/NLL: 1.000/0.003\n",
      "Initial T/NLL: 1.000/0.003\n",
      "Optimal temperature: 1.0005364418029785\n",
      "Optimal temperature: 1.0005364418029785\n",
      "NLL after scaling: 0.00'\n",
      "NLL after scaling: 0.00'\n",
      "color: y2.unique()=tensor([0, 1, 2, 3]) logits_color.shape=torch.Size([4209, 4])\n",
      "Initial T/NLL: 1.000/0.000\n",
      "Initial T/NLL: 1.000/0.000\n",
      "Optimal temperature: 0.9999987483024597\n",
      "Optimal temperature: 0.9999987483024597\n",
      "NLL after scaling: 0.00'\n",
      "NLL after scaling: 0.00'\n",
      "shape: y3.unique()=tensor([0, 1, 2, 3, 4]) logits_shape.shape=torch.Size([4209, 5])\n",
      "Initial T/NLL: 1.000/0.000\n",
      "Initial T/NLL: 1.000/0.000\n",
      "Optimal temperature: 0.9999986886978149\n",
      "Optimal temperature: 0.9999986886978149\n",
      "NLL after scaling: 0.00'\n",
      "NLL after scaling: 0.00'\n",
      "self.scorer_label.t=Parameter containing:\n",
      "tensor(1.0005, requires_grad=True)\n",
      "self.scorer_color.t=Parameter containing:\n",
      "tensor(1.0000, requires_grad=True)\n",
      "self.scorer_shape.t=Parameter containing:\n",
      "tensor(1.0000, requires_grad=True)\n",
      "{'AUROC': 0.9984375238418579, 'AUPR-IN': 0.9978779554367065, 'AUPR-OUT': 0.9989611506462097, 'FPR95TPR': 0.007600950077176094, 'Method': 'PrologOOD', 'Dataset': 'LSUNCrop'}\n",
      "{'AUROC': 0.9988861680030823, 'AUPR-IN': 0.9984676837921143, 'AUPR-OUT': 0.9993064403533936, 'FPR95TPR': 0.00467141717672348, 'Method': 'PrologOOD', 'Dataset': 'LSUNResize'}\n",
      "Found 5640 texture files.\n",
      "Found 5640 texture files.\n",
      "{'AUROC': 0.9983812570571899, 'AUPR-IN': 0.9961845278739929, 'AUPR-OUT': 0.9993492364883423, 'FPR95TPR': 0.007680126465857029, 'Method': 'PrologOOD', 'Dataset': 'Textures'}\n",
      "{'AUROC': 0.9984712600708008, 'AUPR-IN': 0.9978809356689453, 'AUPR-OUT': 0.9989988803863525, 'FPR95TPR': 0.007600950077176094, 'Method': 'PrologOOD', 'Dataset': 'TinyImageNetCrop'}\n",
      "{'AUROC': 0.9988152384757996, 'AUPR-IN': 0.9984049201011658, 'AUPR-OUT': 0.9992470741271973, 'FPR95TPR': 0.0049881236627697945, 'Method': 'PrologOOD', 'Dataset': 'TinyImageNetResize'}\n",
      "{'AUROC': 0.9995244145393372, 'AUPR-IN': 0.9993998408317566, 'AUPR-OUT': 0.9997895956039429, 'FPR95TPR': 0.0009501187596470118, 'Method': 'PrologOOD+', 'Dataset': 'LSUNCrop'}\n",
      "{'AUROC': 0.9995249509811401, 'AUPR-IN': 0.9994007349014282, 'AUPR-OUT': 0.9997900128364563, 'FPR95TPR': 0.0009501187596470118, 'Method': 'PrologOOD+', 'Dataset': 'LSUNResize'}\n",
      "Found 5640 texture files.\n",
      "Found 5640 texture files.\n",
      "{'AUROC': 0.9995183348655701, 'AUPR-IN': 0.9989235401153564, 'AUPR-OUT': 0.9998502731323242, 'FPR95TPR': 0.0009501187596470118, 'Method': 'PrologOOD+', 'Dataset': 'Textures'}\n",
      "{'AUROC': 0.9995249509811401, 'AUPR-IN': 0.9994007349014282, 'AUPR-OUT': 0.9997900128364563, 'FPR95TPR': 0.0009501187596470118, 'Method': 'PrologOOD+', 'Dataset': 'TinyImageNetCrop'}\n",
      "{'AUROC': 0.9995249509811401, 'AUPR-IN': 0.9994007349014282, 'AUPR-OUT': 0.9997900128364563, 'FPR95TPR': 0.0009501187596470118, 'Method': 'PrologOOD+', 'Dataset': 'TinyImageNetResize'}\n",
      "{'AUROC': 0.998437225818634, 'AUPR-IN': 0.9978777170181274, 'AUPR-OUT': 0.9989606142044067, 'FPR95TPR': 0.007600950077176094, 'Method': 'PrologOODT', 'Dataset': 'LSUNCrop'}\n",
      "{'AUROC': 0.998886227607727, 'AUPR-IN': 0.998467743396759, 'AUPR-OUT': 0.9993064999580383, 'FPR95TPR': 0.00467141717672348, 'Method': 'PrologOODT', 'Dataset': 'LSUNResize'}\n",
      "Found 5640 texture files.\n",
      "Found 5640 texture files.\n",
      "{'AUROC': 0.9983805418014526, 'AUPR-IN': 0.9961839914321899, 'AUPR-OUT': 0.9993488192558289, 'FPR95TPR': 0.007680126465857029, 'Method': 'PrologOODT', 'Dataset': 'Textures'}\n",
      "{'AUROC': 0.9984711408615112, 'AUPR-IN': 0.9978808164596558, 'AUPR-OUT': 0.9989988207817078, 'FPR95TPR': 0.007600950077176094, 'Method': 'PrologOODT', 'Dataset': 'TinyImageNetCrop'}\n",
      "{'AUROC': 0.9988150596618652, 'AUPR-IN': 0.9984049201011658, 'AUPR-OUT': 0.999247133731842, 'FPR95TPR': 0.0049881236627697945, 'Method': 'PrologOODT', 'Dataset': 'TinyImageNetResize'}\n",
      "{'AUROC': 0.999522864818573, 'AUPR-IN': 0.9993979334831238, 'AUPR-OUT': 0.9997884035110474, 'FPR95TPR': 0.0009501187596470118, 'Method': 'PrologOODT+', 'Dataset': 'LSUNCrop'}\n",
      "{'AUROC': 0.9995248913764954, 'AUPR-IN': 0.9994007349014282, 'AUPR-OUT': 0.9997900724411011, 'FPR95TPR': 0.0009501187596470118, 'Method': 'PrologOODT+', 'Dataset': 'LSUNResize'}\n",
      "Found 5640 texture files.\n",
      "Found 5640 texture files.\n",
      "{'AUROC': 0.9995155334472656, 'AUPR-IN': 0.9989176988601685, 'AUPR-OUT': 0.9998491406440735, 'FPR95TPR': 0.0009501187596470118, 'Method': 'PrologOODT+', 'Dataset': 'Textures'}\n",
      "{'AUROC': 0.9995248913764954, 'AUPR-IN': 0.9994007349014282, 'AUPR-OUT': 0.9997900724411011, 'FPR95TPR': 0.0009501187596470118, 'Method': 'PrologOODT+', 'Dataset': 'TinyImageNetCrop'}\n",
      "{'AUROC': 0.9995248913764954, 'AUPR-IN': 0.9994007349014282, 'AUPR-OUT': 0.9997900724411011, 'FPR95TPR': 0.0009501187596470118, 'Method': 'PrologOODT+', 'Dataset': 'TinyImageNetResize'}\n",
      "{'AUROC': 0.8959750533103943, 'AUPR-IN': 0.9414522647857666, 'AUPR-OUT': 0.9292951822280884, 'FPR95TPR': 1.0, 'Method': 'Logic', 'Dataset': 'LSUNCrop'}\n",
      "{'AUROC': 0.916374921798706, 'AUPR-IN': 0.9528746008872986, 'AUPR-OUT': 0.9415658712387085, 'FPR95TPR': 1.0, 'Method': 'Logic', 'Dataset': 'LSUNResize'}\n",
      "Found 5640 texture files.\n",
      "Found 5640 texture files.\n",
      "{'AUROC': 0.8999682068824768, 'AUPR-IN': 0.9298518896102905, 'AUPR-OUT': 0.958990216255188, 'FPR95TPR': 1.0, 'Method': 'Logic', 'Dataset': 'Textures'}\n",
      "{'AUROC': 0.8853750228881836, 'AUPR-IN': 0.9355155825614929, 'AUPR-OUT': 0.9231845140457153, 'FPR95TPR': 1.0, 'Method': 'Logic', 'Dataset': 'TinyImageNetCrop'}\n",
      "{'AUROC': 0.9297249913215637, 'AUPR-IN': 0.960347592830658, 'AUPR-OUT': 0.949982762336731, 'FPR95TPR': 1.0, 'Method': 'Logic', 'Dataset': 'TinyImageNetResize'}\n",
      "{'AUROC': 0.9993249177932739, 'AUPR-IN': 0.9992888569831848, 'AUPR-OUT': 0.9996317028999329, 'FPR95TPR': 0.0009501187596470118, 'Method': 'Logic+', 'Dataset': 'LSUNCrop'}\n",
      "{'AUROC': 0.9995249509811401, 'AUPR-IN': 0.9994007349014282, 'AUPR-OUT': 0.9997900724411011, 'FPR95TPR': 0.0009501187596470118, 'Method': 'Logic+', 'Dataset': 'LSUNResize'}\n",
      "Found 5640 texture files.\n",
      "Found 5640 texture files.\n",
      "{'AUROC': 0.9991703629493713, 'AUPR-IN': 0.998692512512207, 'AUPR-OUT': 0.9996949434280396, 'FPR95TPR': 0.0009501187596470118, 'Method': 'Logic+', 'Dataset': 'Textures'}\n",
      "{'AUROC': 0.9995249509811401, 'AUPR-IN': 0.9994007349014282, 'AUPR-OUT': 0.9997900724411011, 'FPR95TPR': 0.0009501187596470118, 'Method': 'Logic+', 'Dataset': 'TinyImageNetCrop'}\n",
      "{'AUROC': 0.9995249509811401, 'AUPR-IN': 0.9994007349014282, 'AUPR-OUT': 0.9997900724411011, 'FPR95TPR': 0.0009501187596470118, 'Method': 'Logic+', 'Dataset': 'TinyImageNetResize'}\n",
      "{'AUROC': 0.9960834980010986, 'AUPR-IN': 0.993534505367279, 'AUPR-OUT': 0.9975205659866333, 'FPR95TPR': 0.014489310793578625, 'Method': 'Ensemble', 'Dataset': 'LSUNCrop'}\n",
      "{'AUROC': 0.9958621263504028, 'AUPR-IN': 0.9927372932434082, 'AUPR-OUT': 0.9974820613861084, 'FPR95TPR': 0.01401425153017044, 'Method': 'Ensemble', 'Dataset': 'LSUNResize'}\n",
      "Found 5640 texture files.\n",
      "Found 5640 texture files.\n",
      "{'AUROC': 0.9952269196510315, 'AUPR-IN': 0.9861465096473694, 'AUPR-OUT': 0.9981387853622437, 'FPR95TPR': 0.016072843223810196, 'Method': 'Ensemble', 'Dataset': 'Textures'}\n",
      "{'AUROC': 0.9965187311172485, 'AUPR-IN': 0.9944711923599243, 'AUPR-OUT': 0.9977536201477051, 'FPR95TPR': 0.014568488113582134, 'Method': 'Ensemble', 'Dataset': 'TinyImageNetCrop'}\n",
      "{'AUROC': 0.9950631856918335, 'AUPR-IN': 0.9912808537483215, 'AUPR-OUT': 0.997006356716156, 'FPR95TPR': 0.015914488583803177, 'Method': 'Ensemble', 'Dataset': 'TinyImageNetResize'}\n",
      "{'AUROC': 0.9906939268112183, 'AUPR-IN': 0.9851107001304626, 'AUPR-OUT': 0.9932267665863037, 'FPR95TPR': 0.026049088686704636, 'Method': 'MSP', 'Dataset': 'LSUNCrop'}\n",
      "{'AUROC': 0.9885381460189819, 'AUPR-IN': 0.97902512550354, 'AUPR-OUT': 0.992928147315979, 'FPR95TPR': 0.030562153086066246, 'Method': 'MSP', 'Dataset': 'LSUNResize'}\n",
      "Found 5640 texture files.\n",
      "Found 5640 texture files.\n",
      "{'AUROC': 0.9812706708908081, 'AUPR-IN': 0.9551315307617188, 'AUPR-OUT': 0.988910973072052, 'FPR95TPR': 0.03895486891269684, 'Method': 'MSP', 'Dataset': 'Textures'}\n",
      "{'AUROC': 0.9906743168830872, 'AUPR-IN': 0.9856280088424683, 'AUPR-OUT': 0.9935212731361389, 'FPR95TPR': 0.026603326201438904, 'Method': 'MSP', 'Dataset': 'TinyImageNetCrop'}\n",
      "{'AUROC': 0.9824947118759155, 'AUPR-IN': 0.9704862236976624, 'AUPR-OUT': 0.9875035881996155, 'FPR95TPR': 0.03903404623270035, 'Method': 'MSP', 'Dataset': 'TinyImageNetResize'}\n",
      "{'AUROC': 0.9927319288253784, 'AUPR-IN': 0.9911202788352966, 'AUPR-OUT': 0.9928414821624756, 'FPR95TPR': 0.01923990435898304, 'Method': 'Energy', 'Dataset': 'LSUNCrop'}\n",
      "{'AUROC': 0.9870237708091736, 'AUPR-IN': 0.9826967716217041, 'AUPR-OUT': 0.9890390634536743, 'FPR95TPR': 0.030166270211338997, 'Method': 'Energy', 'Dataset': 'LSUNResize'}\n",
      "Found 5640 texture files.\n",
      "Found 5640 texture files.\n",
      "{'AUROC': 0.9737659096717834, 'AUPR-IN': 0.9579809308052063, 'AUPR-OUT': 0.9800981283187866, 'FPR95TPR': 0.05296912044286728, 'Method': 'Energy', 'Dataset': 'Textures'}\n",
      "{'AUROC': 0.9933925271034241, 'AUPR-IN': 0.9918805360794067, 'AUPR-OUT': 0.9944357872009277, 'FPR95TPR': 0.01908155158162117, 'Method': 'Energy', 'Dataset': 'TinyImageNetCrop'}\n",
      "{'AUROC': 0.9744694828987122, 'AUPR-IN': 0.9697439670562744, 'AUPR-OUT': 0.9750722646713257, 'FPR95TPR': 0.07783056050539017, 'Method': 'Energy', 'Dataset': 'TinyImageNetResize'}\n",
      "{'AUROC': 0.9927772879600525, 'AUPR-IN': 0.9911541938781738, 'AUPR-OUT': 0.9927890300750732, 'FPR95TPR': 0.01908155158162117, 'Method': 'ReAct', 'Dataset': 'LSUNCrop'}\n",
      "{'AUROC': 0.9877597093582153, 'AUPR-IN': 0.983350396156311, 'AUPR-OUT': 0.9899719953536987, 'FPR95TPR': 0.02897862158715725, 'Method': 'ReAct', 'Dataset': 'LSUNResize'}\n",
      "Found 5640 texture files.\n",
      "Found 5640 texture files.\n",
      "{'AUROC': 0.9757805466651917, 'AUPR-IN': 0.9602003693580627, 'AUPR-OUT': 0.9818688631057739, 'FPR95TPR': 0.04402216896414757, 'Method': 'ReAct', 'Dataset': 'Textures'}\n",
      "{'AUROC': 0.9934235215187073, 'AUPR-IN': 0.9919031858444214, 'AUPR-OUT': 0.9944770932197571, 'FPR95TPR': 0.01908155158162117, 'Method': 'ReAct', 'Dataset': 'TinyImageNetCrop'}\n",
      "{'AUROC': 0.9760222434997559, 'AUPR-IN': 0.9711527824401855, 'AUPR-OUT': 0.9766286015510559, 'FPR95TPR': 0.06349960714578629, 'Method': 'ReAct', 'Dataset': 'TinyImageNetResize'}\n",
      "{'AUROC': 0.9699797034263611, 'AUPR-IN': 0.9647462964057922, 'AUPR-OUT': 0.9975788593292236, 'FPR95TPR': 0.060015834867954254, 'Method': 'ViM', 'Dataset': 'LSUNCrop'}\n",
      "{'AUROC': 0.9699921011924744, 'AUPR-IN': 0.9647704362869263, 'AUPR-OUT': 0.9985208511352539, 'FPR95TPR': 0.060015834867954254, 'Method': 'ViM', 'Dataset': 'LSUNResize'}\n",
      "Found 5640 texture files.\n",
      "Found 5640 texture files.\n",
      "{'AUROC': 0.9699772000312805, 'AUPR-IN': 0.9407162070274353, 'AUPR-OUT': 0.9991582036018372, 'FPR95TPR': 0.060015834867954254, 'Method': 'ViM', 'Dataset': 'Textures'}\n",
      "{'AUROC': 0.9699752926826477, 'AUPR-IN': 0.9647380709648132, 'AUPR-OUT': 0.9964582920074463, 'FPR95TPR': 0.060015834867954254, 'Method': 'ViM', 'Dataset': 'TinyImageNetCrop'}\n",
      "{'AUROC': 0.9699789881706238, 'AUPR-IN': 0.9647455215454102, 'AUPR-OUT': 0.9985216856002808, 'FPR95TPR': 0.060015834867954254, 'Method': 'ViM', 'Dataset': 'TinyImageNetResize'}\n",
      "{'AUROC': 0.9964745044708252, 'AUPR-IN': 0.9941467046737671, 'AUPR-OUT': 0.9977331161499023, 'FPR95TPR': 0.015676960349082947, 'Method': 'Mahalanobis', 'Dataset': 'LSUNCrop'}\n",
      "{'AUROC': 0.9991238713264465, 'AUPR-IN': 0.9987277984619141, 'AUPR-OUT': 0.9994009137153625, 'FPR95TPR': 0.0038796516600996256, 'Method': 'Mahalanobis', 'Dataset': 'LSUNResize'}\n",
      "Found 5640 texture files.\n",
      "Found 5640 texture files.\n",
      "{'AUROC': 0.9981159567832947, 'AUPR-IN': 0.9952396154403687, 'AUPR-OUT': 0.9992258548736572, 'FPR95TPR': 0.008867775090038776, 'Method': 'Mahalanobis', 'Dataset': 'Textures'}\n",
      "{'AUROC': 0.9963852167129517, 'AUPR-IN': 0.9939994215965271, 'AUPR-OUT': 0.9976707100868225, 'FPR95TPR': 0.016310371458530426, 'Method': 'Mahalanobis', 'Dataset': 'TinyImageNetCrop'}\n",
      "{'AUROC': 0.9987162351608276, 'AUPR-IN': 0.998201847076416, 'AUPR-OUT': 0.9990972876548767, 'FPR95TPR': 0.005621536169201136, 'Method': 'Mahalanobis', 'Dataset': 'TinyImageNetResize'}\n",
      "{'AUROC': 0.992107629776001, 'AUPR-IN': 0.988591194152832, 'AUPR-OUT': 0.9938581585884094, 'FPR95TPR': 0.025178147479891777, 'Method': 'Entropy', 'Dataset': 'LSUNCrop'}\n",
      "{'AUROC': 0.9895009994506836, 'AUPR-IN': 0.9820803999900818, 'AUPR-OUT': 0.9933128356933594, 'FPR95TPR': 0.030087094753980637, 'Method': 'Entropy', 'Dataset': 'LSUNResize'}\n",
      "Found 5640 texture files.\n",
      "Found 5640 texture files.\n",
      "{'AUROC': 0.9820510149002075, 'AUPR-IN': 0.9603676795959473, 'AUPR-OUT': 0.988890528678894, 'FPR95TPR': 0.03816310316324234, 'Method': 'Entropy', 'Dataset': 'Textures'}\n",
      "{'AUROC': 0.9919960498809814, 'AUPR-IN': 0.9886668920516968, 'AUPR-OUT': 0.9941405653953552, 'FPR95TPR': 0.025890735909342766, 'Method': 'Entropy', 'Dataset': 'TinyImageNetCrop'}\n",
      "{'AUROC': 0.9832470417022705, 'AUPR-IN': 0.9735127687454224, 'AUPR-OUT': 0.9876495599746704, 'FPR95TPR': 0.03887569159269333, 'Method': 'Entropy', 'Dataset': 'TinyImageNetResize'}\n",
      "{'AUROC': 0.9925699830055237, 'AUPR-IN': 0.9907853603363037, 'AUPR-OUT': 0.9927507638931274, 'FPR95TPR': 0.01939825899899006, 'Method': 'MaxLogit', 'Dataset': 'LSUNCrop'}\n",
      "{'AUROC': 0.9868794083595276, 'AUPR-IN': 0.9823330640792847, 'AUPR-OUT': 0.9889638423919678, 'FPR95TPR': 0.030166270211338997, 'Method': 'MaxLogit', 'Dataset': 'LSUNResize'}\n",
      "Found 5640 texture files.\n",
      "Found 5640 texture files.\n",
      "{'AUROC': 0.9736162424087524, 'AUPR-IN': 0.9574850797653198, 'AUPR-OUT': 0.9800382852554321, 'FPR95TPR': 0.05273159220814705, 'Method': 'MaxLogit', 'Dataset': 'Textures'}\n",
      "{'AUROC': 0.9932090044021606, 'AUPR-IN': 0.9915249347686768, 'AUPR-OUT': 0.9943312406539917, 'FPR95TPR': 0.01947743445634842, 'Method': 'MaxLogit', 'Dataset': 'TinyImageNetCrop'}\n",
      "{'AUROC': 0.9743033647537231, 'AUPR-IN': 0.9693520665168762, 'AUPR-OUT': 0.9749925136566162, 'FPR95TPR': 0.07743468135595322, 'Method': 'MaxLogit', 'Dataset': 'TinyImageNetResize'}\n"
     ]
    },
    {
     "data": {
      "text/plain": "  0%|          | 0/2657 [00:00<?, ?it/s]",
      "application/vnd.jupyter.widget-view+json": {
       "version_major": 2,
       "version_minor": 0,
       "model_id": "d7630ac8c66f4aa4b2bc24c09b580b89"
      }
     },
     "metadata": {},
     "output_type": "display_data"
    },
    {
     "name": "stdout",
     "output_type": "stream",
     "text": [
      "Accuracy of the sign network on the test images: 100.00%\n"
     ]
    },
    {
     "data": {
      "text/plain": "  0%|          | 0/2657 [00:00<?, ?it/s]",
      "application/vnd.jupyter.widget-view+json": {
       "version_major": 2,
       "version_minor": 0,
       "model_id": "4d68679e3dbe45239b3da8638e8aa071"
      }
     },
     "metadata": {},
     "output_type": "display_data"
    },
    {
     "name": "stdout",
     "output_type": "stream",
     "text": [
      "Accuracy of the sign network on the test images: 99.99%\n"
     ]
    },
    {
     "data": {
      "text/plain": "  0%|          | 0/2657 [00:00<?, ?it/s]",
      "application/vnd.jupyter.widget-view+json": {
       "version_major": 2,
       "version_minor": 0,
       "model_id": "d46f20c57ee74ce9b7d28fcacc740b85"
      }
     },
     "metadata": {},
     "output_type": "display_data"
    },
    {
     "name": "stdout",
     "output_type": "stream",
     "text": [
      "Accuracy of the sign network on the test images: 100.00%\n"
     ]
    },
    {
     "data": {
      "text/plain": "  0%|          | 0/2657 [00:00<?, ?it/s]",
      "application/vnd.jupyter.widget-view+json": {
       "version_major": 2,
       "version_minor": 0,
       "model_id": "ec6daf99d36e48cfa9747d904f0493c5"
      }
     },
     "metadata": {},
     "output_type": "display_data"
    },
    {
     "name": "stdout",
     "output_type": "stream",
     "text": [
      "Accuracy of the sign network on the test images: 100.00%\n"
     ]
    },
    {
     "data": {
      "text/plain": "  0%|          | 0/2657 [00:00<?, ?it/s]",
      "application/vnd.jupyter.widget-view+json": {
       "version_major": 2,
       "version_minor": 0,
       "model_id": "54807a1c94c7404bbf85359a7627acbe"
      }
     },
     "metadata": {},
     "output_type": "display_data"
    },
    {
     "name": "stdout",
     "output_type": "stream",
     "text": [
      "Accuracy of the sign network on the test images: 100.00%\n"
     ]
    },
    {
     "data": {
      "text/plain": "  0%|          | 0/2657 [00:00<?, ?it/s]",
      "application/vnd.jupyter.widget-view+json": {
       "version_major": 2,
       "version_minor": 0,
       "model_id": "06035d5fc788433da5a16514edecf15c"
      }
     },
     "metadata": {},
     "output_type": "display_data"
    },
    {
     "name": "stdout",
     "output_type": "stream",
     "text": [
      "Accuracy of the sign network on the test images: 100.00%\n"
     ]
    },
    {
     "data": {
      "text/plain": "  0%|          | 0/2657 [00:00<?, ?it/s]",
      "application/vnd.jupyter.widget-view+json": {
       "version_major": 2,
       "version_minor": 0,
       "model_id": "41e39ffa08994684985ccc3ffc6289da"
      }
     },
     "metadata": {},
     "output_type": "display_data"
    },
    {
     "name": "stdout",
     "output_type": "stream",
     "text": [
      "Accuracy of the sign network on the test images: 100.00%\n"
     ]
    },
    {
     "data": {
      "text/plain": "  0%|          | 0/2657 [00:00<?, ?it/s]",
      "application/vnd.jupyter.widget-view+json": {
       "version_major": 2,
       "version_minor": 0,
       "model_id": "7a0be35114ea4a9996a150b40f630ce7"
      }
     },
     "metadata": {},
     "output_type": "display_data"
    },
    {
     "name": "stdout",
     "output_type": "stream",
     "text": [
      "Accuracy of the sign network on the test images: 100.00%\n"
     ]
    },
    {
     "data": {
      "text/plain": "  0%|          | 0/2657 [00:00<?, ?it/s]",
      "application/vnd.jupyter.widget-view+json": {
       "version_major": 2,
       "version_minor": 0,
       "model_id": "0e313b004dae4b6686bff20725cabb81"
      }
     },
     "metadata": {},
     "output_type": "display_data"
    },
    {
     "name": "stdout",
     "output_type": "stream",
     "text": [
      "Accuracy of the sign network on the test images: 100.00%\n"
     ]
    },
    {
     "data": {
      "text/plain": "  0%|          | 0/2657 [00:00<?, ?it/s]",
      "application/vnd.jupyter.widget-view+json": {
       "version_major": 2,
       "version_minor": 0,
       "model_id": "606dfdee7837420d8e1a800d3659ae15"
      }
     },
     "metadata": {},
     "output_type": "display_data"
    },
    {
     "name": "stdout",
     "output_type": "stream",
     "text": [
      "Accuracy of the sign network on the test images: 99.99%\n"
     ]
    },
    {
     "data": {
      "text/plain": "  0%|          | 0/2657 [00:00<?, ?it/s]",
      "application/vnd.jupyter.widget-view+json": {
       "version_major": 2,
       "version_minor": 0,
       "model_id": "c353b56985524c3c87886fe0789565f6"
      }
     },
     "metadata": {},
     "output_type": "display_data"
    },
    {
     "name": "stdout",
     "output_type": "stream",
     "text": [
      "Accuracy of the sign network on the test images: 100.00%\n"
     ]
    },
    {
     "data": {
      "text/plain": "  0%|          | 0/2657 [00:00<?, ?it/s]",
      "application/vnd.jupyter.widget-view+json": {
       "version_major": 2,
       "version_minor": 0,
       "model_id": "4f54139d428740868ddc317b6fcbb9e6"
      }
     },
     "metadata": {},
     "output_type": "display_data"
    },
    {
     "name": "stdout",
     "output_type": "stream",
     "text": [
      "Accuracy of the sign network on the test images: 100.00%\n"
     ]
    },
    {
     "data": {
      "text/plain": "  0%|          | 0/2657 [00:00<?, ?it/s]",
      "application/vnd.jupyter.widget-view+json": {
       "version_major": 2,
       "version_minor": 0,
       "model_id": "fda7dc1c02574699b34769e8bed6a1f7"
      }
     },
     "metadata": {},
     "output_type": "display_data"
    },
    {
     "name": "stdout",
     "output_type": "stream",
     "text": [
      "Accuracy of the sign network on the test images: 100.00%\n"
     ]
    },
    {
     "data": {
      "text/plain": "  0%|          | 0/2657 [00:00<?, ?it/s]",
      "application/vnd.jupyter.widget-view+json": {
       "version_major": 2,
       "version_minor": 0,
       "model_id": "095021bc00214a67abe39318301e6bcb"
      }
     },
     "metadata": {},
     "output_type": "display_data"
    },
    {
     "name": "stdout",
     "output_type": "stream",
     "text": [
      "Accuracy of the sign network on the test images: 100.00%\n"
     ]
    },
    {
     "data": {
      "text/plain": "  0%|          | 0/2657 [00:00<?, ?it/s]",
      "application/vnd.jupyter.widget-view+json": {
       "version_major": 2,
       "version_minor": 0,
       "model_id": "627277d1bca24e96b62eaa3ae787c896"
      }
     },
     "metadata": {},
     "output_type": "display_data"
    },
    {
     "name": "stdout",
     "output_type": "stream",
     "text": [
      "Accuracy of the sign network on the test images: 100.00%\n"
     ]
    },
    {
     "data": {
      "text/plain": "  0%|          | 0/2657 [00:00<?, ?it/s]",
      "application/vnd.jupyter.widget-view+json": {
       "version_major": 2,
       "version_minor": 0,
       "model_id": "c5bd97ebb82d4a61b9e5ef8edadbf53c"
      }
     },
     "metadata": {},
     "output_type": "display_data"
    },
    {
     "name": "stdout",
     "output_type": "stream",
     "text": [
      "Accuracy of the sign network on the test images: 100.00%\n"
     ]
    },
    {
     "data": {
      "text/plain": "  0%|          | 0/2657 [00:00<?, ?it/s]",
      "application/vnd.jupyter.widget-view+json": {
       "version_major": 2,
       "version_minor": 0,
       "model_id": "4159ddfea89c43818b57c942c98c89ed"
      }
     },
     "metadata": {},
     "output_type": "display_data"
    },
    {
     "name": "stdout",
     "output_type": "stream",
     "text": [
      "Accuracy of the sign network on the test images: 100.00%\n"
     ]
    },
    {
     "data": {
      "text/plain": "  0%|          | 0/2657 [00:00<?, ?it/s]",
      "application/vnd.jupyter.widget-view+json": {
       "version_major": 2,
       "version_minor": 0,
       "model_id": "c56f31b31e574437a6ebed23473aa47d"
      }
     },
     "metadata": {},
     "output_type": "display_data"
    },
    {
     "name": "stdout",
     "output_type": "stream",
     "text": [
      "Accuracy of the sign network on the test images: 100.00%\n"
     ]
    },
    {
     "data": {
      "text/plain": "  0%|          | 0/2657 [00:00<?, ?it/s]",
      "application/vnd.jupyter.widget-view+json": {
       "version_major": 2,
       "version_minor": 0,
       "model_id": "6774ac8f220f46a8bbce250dcc854b27"
      }
     },
     "metadata": {},
     "output_type": "display_data"
    },
    {
     "name": "stdout",
     "output_type": "stream",
     "text": [
      "Accuracy of the sign network on the test images: 100.00%\n"
     ]
    },
    {
     "data": {
      "text/plain": "  0%|          | 0/2657 [00:00<?, ?it/s]",
      "application/vnd.jupyter.widget-view+json": {
       "version_major": 2,
       "version_minor": 0,
       "model_id": "f13b653a184b4146ab4d28dd4ebe2703"
      }
     },
     "metadata": {},
     "output_type": "display_data"
    },
    {
     "name": "stdout",
     "output_type": "stream",
     "text": [
      "Accuracy of the sign network on the test images: 99.99%\n"
     ]
    },
    {
     "data": {
      "text/plain": "  0%|          | 0/1094 [00:00<?, ?it/s]",
      "application/vnd.jupyter.widget-view+json": {
       "version_major": 2,
       "version_minor": 0,
       "model_id": "8a31c4bec129400badb33d7bcc3b4efa"
      }
     },
     "metadata": {},
     "output_type": "display_data"
    },
    {
     "name": "stdout",
     "output_type": "stream",
     "text": [
      "Accuracy of the network on the test images: 99.93%\n"
     ]
    },
    {
     "data": {
      "text/plain": "  0%|          | 0/1094 [00:00<?, ?it/s]",
      "application/vnd.jupyter.widget-view+json": {
       "version_major": 2,
       "version_minor": 0,
       "model_id": "60b044ed2c494c55b0bc2d207b86c24c"
      }
     },
     "metadata": {},
     "output_type": "display_data"
    },
    {
     "name": "stdout",
     "output_type": "stream",
     "text": [
      "Accuracy of the network on the test images: 99.86%\n"
     ]
    },
    {
     "data": {
      "text/plain": "  0%|          | 0/1094 [00:00<?, ?it/s]",
      "application/vnd.jupyter.widget-view+json": {
       "version_major": 2,
       "version_minor": 0,
       "model_id": "6f0a2ce388f04f009d83a12c7a82e527"
      }
     },
     "metadata": {},
     "output_type": "display_data"
    },
    {
     "name": "stdout",
     "output_type": "stream",
     "text": [
      "Accuracy of the network on the test images: 99.98%\n"
     ]
    },
    {
     "data": {
      "text/plain": "  0%|          | 0/1094 [00:00<?, ?it/s]",
      "application/vnd.jupyter.widget-view+json": {
       "version_major": 2,
       "version_minor": 0,
       "model_id": "ec7a2805e3b9408582d8e468a34398cb"
      }
     },
     "metadata": {},
     "output_type": "display_data"
    },
    {
     "name": "stdout",
     "output_type": "stream",
     "text": [
      "Accuracy of the network on the test images: 99.96%\n"
     ]
    },
    {
     "data": {
      "text/plain": "  0%|          | 0/1094 [00:00<?, ?it/s]",
      "application/vnd.jupyter.widget-view+json": {
       "version_major": 2,
       "version_minor": 0,
       "model_id": "f5737ad9ce274cb4b33d4b2679dc110d"
      }
     },
     "metadata": {},
     "output_type": "display_data"
    },
    {
     "name": "stdout",
     "output_type": "stream",
     "text": [
      "Accuracy of the network on the test images: 99.78%\n"
     ]
    },
    {
     "data": {
      "text/plain": "  0%|          | 0/1094 [00:00<?, ?it/s]",
      "application/vnd.jupyter.widget-view+json": {
       "version_major": 2,
       "version_minor": 0,
       "model_id": "d4443e3ba83844689b287564e6626e1a"
      }
     },
     "metadata": {},
     "output_type": "display_data"
    },
    {
     "name": "stdout",
     "output_type": "stream",
     "text": [
      "Accuracy of the network on the test images: 99.96%\n"
     ]
    },
    {
     "data": {
      "text/plain": "  0%|          | 0/1094 [00:00<?, ?it/s]",
      "application/vnd.jupyter.widget-view+json": {
       "version_major": 2,
       "version_minor": 0,
       "model_id": "171a29d1e26546128c457a5a93e037b6"
      }
     },
     "metadata": {},
     "output_type": "display_data"
    },
    {
     "name": "stdout",
     "output_type": "stream",
     "text": [
      "Accuracy of the network on the test images: 99.98%\n"
     ]
    },
    {
     "data": {
      "text/plain": "  0%|          | 0/1094 [00:00<?, ?it/s]",
      "application/vnd.jupyter.widget-view+json": {
       "version_major": 2,
       "version_minor": 0,
       "model_id": "cec583fd9aba41bca117b4422bf2921c"
      }
     },
     "metadata": {},
     "output_type": "display_data"
    },
    {
     "name": "stdout",
     "output_type": "stream",
     "text": [
      "Accuracy of the network on the test images: 99.96%\n"
     ]
    },
    {
     "data": {
      "text/plain": "  0%|          | 0/1094 [00:00<?, ?it/s]",
      "application/vnd.jupyter.widget-view+json": {
       "version_major": 2,
       "version_minor": 0,
       "model_id": "bfa664e773384a5e80bfee6bcd206658"
      }
     },
     "metadata": {},
     "output_type": "display_data"
    },
    {
     "name": "stdout",
     "output_type": "stream",
     "text": [
      "Accuracy of the network on the test images: 99.98%\n"
     ]
    },
    {
     "data": {
      "text/plain": "  0%|          | 0/1094 [00:00<?, ?it/s]",
      "application/vnd.jupyter.widget-view+json": {
       "version_major": 2,
       "version_minor": 0,
       "model_id": "21a903a1aec149aebb423841a9284693"
      }
     },
     "metadata": {},
     "output_type": "display_data"
    },
    {
     "name": "stdout",
     "output_type": "stream",
     "text": [
      "Accuracy of the network on the test images: 99.98%\n"
     ]
    },
    {
     "data": {
      "text/plain": "  0%|          | 0/1094 [00:00<?, ?it/s]",
      "application/vnd.jupyter.widget-view+json": {
       "version_major": 2,
       "version_minor": 0,
       "model_id": "279074b52db74b30936b61c2e7f0879d"
      }
     },
     "metadata": {},
     "output_type": "display_data"
    },
    {
     "name": "stdout",
     "output_type": "stream",
     "text": [
      "Accuracy of the network on the test images: 99.94%\n"
     ]
    },
    {
     "data": {
      "text/plain": "  0%|          | 0/1094 [00:00<?, ?it/s]",
      "application/vnd.jupyter.widget-view+json": {
       "version_major": 2,
       "version_minor": 0,
       "model_id": "f75fb22f29074fddb741c1f5106d7783"
      }
     },
     "metadata": {},
     "output_type": "display_data"
    },
    {
     "name": "stdout",
     "output_type": "stream",
     "text": [
      "Accuracy of the network on the test images: 99.91%\n"
     ]
    },
    {
     "data": {
      "text/plain": "  0%|          | 0/1094 [00:00<?, ?it/s]",
      "application/vnd.jupyter.widget-view+json": {
       "version_major": 2,
       "version_minor": 0,
       "model_id": "217bc90e91ec447a85db0f8ef9cc6169"
      }
     },
     "metadata": {},
     "output_type": "display_data"
    },
    {
     "name": "stdout",
     "output_type": "stream",
     "text": [
      "Accuracy of the network on the test images: 99.98%\n"
     ]
    },
    {
     "data": {
      "text/plain": "  0%|          | 0/1094 [00:00<?, ?it/s]",
      "application/vnd.jupyter.widget-view+json": {
       "version_major": 2,
       "version_minor": 0,
       "model_id": "6552f5fb039147c1ac12ae87e78aea93"
      }
     },
     "metadata": {},
     "output_type": "display_data"
    },
    {
     "name": "stdout",
     "output_type": "stream",
     "text": [
      "Accuracy of the network on the test images: 99.96%\n"
     ]
    },
    {
     "data": {
      "text/plain": "  0%|          | 0/1094 [00:00<?, ?it/s]",
      "application/vnd.jupyter.widget-view+json": {
       "version_major": 2,
       "version_minor": 0,
       "model_id": "b95e66c296a04c2d8cfdd36e790bcb7d"
      }
     },
     "metadata": {},
     "output_type": "display_data"
    },
    {
     "name": "stdout",
     "output_type": "stream",
     "text": [
      "Accuracy of the network on the test images: 99.97%\n"
     ]
    },
    {
     "data": {
      "text/plain": "  0%|          | 0/1094 [00:00<?, ?it/s]",
      "application/vnd.jupyter.widget-view+json": {
       "version_major": 2,
       "version_minor": 0,
       "model_id": "e2b429e5e64a423990494fbae9247024"
      }
     },
     "metadata": {},
     "output_type": "display_data"
    },
    {
     "name": "stdout",
     "output_type": "stream",
     "text": [
      "Accuracy of the network on the test images: 99.98%\n"
     ]
    },
    {
     "data": {
      "text/plain": "  0%|          | 0/1094 [00:00<?, ?it/s]",
      "application/vnd.jupyter.widget-view+json": {
       "version_major": 2,
       "version_minor": 0,
       "model_id": "398d2cab763d421184aa5efc76da4770"
      }
     },
     "metadata": {},
     "output_type": "display_data"
    },
    {
     "name": "stdout",
     "output_type": "stream",
     "text": [
      "Accuracy of the network on the test images: 99.97%\n"
     ]
    },
    {
     "data": {
      "text/plain": "  0%|          | 0/1094 [00:00<?, ?it/s]",
      "application/vnd.jupyter.widget-view+json": {
       "version_major": 2,
       "version_minor": 0,
       "model_id": "8035cb8f2fae4f63ab554441d363f5f1"
      }
     },
     "metadata": {},
     "output_type": "display_data"
    },
    {
     "name": "stdout",
     "output_type": "stream",
     "text": [
      "Accuracy of the network on the test images: 99.97%\n"
     ]
    },
    {
     "data": {
      "text/plain": "  0%|          | 0/1094 [00:00<?, ?it/s]",
      "application/vnd.jupyter.widget-view+json": {
       "version_major": 2,
       "version_minor": 0,
       "model_id": "d2374259f2e44017bbff32a8b3e9436d"
      }
     },
     "metadata": {},
     "output_type": "display_data"
    },
    {
     "name": "stdout",
     "output_type": "stream",
     "text": [
      "Accuracy of the network on the test images: 99.97%\n"
     ]
    },
    {
     "data": {
      "text/plain": "  0%|          | 0/1094 [00:00<?, ?it/s]",
      "application/vnd.jupyter.widget-view+json": {
       "version_major": 2,
       "version_minor": 0,
       "model_id": "97a5f03c6beb44339a6d5c4c8ab17278"
      }
     },
     "metadata": {},
     "output_type": "display_data"
    },
    {
     "name": "stdout",
     "output_type": "stream",
     "text": [
      "Accuracy of the network on the test images: 99.98%\n"
     ]
    },
    {
     "data": {
      "text/plain": "  0%|          | 0/1094 [00:00<?, ?it/s]",
      "application/vnd.jupyter.widget-view+json": {
       "version_major": 2,
       "version_minor": 0,
       "model_id": "c9a5f918542249dfae3b5687ae9ae418"
      }
     },
     "metadata": {},
     "output_type": "display_data"
    },
    {
     "name": "stdout",
     "output_type": "stream",
     "text": [
      "Accuracy of the network on the test images: 99.96%\n"
     ]
    },
    {
     "data": {
      "text/plain": "  0%|          | 0/1094 [00:00<?, ?it/s]",
      "application/vnd.jupyter.widget-view+json": {
       "version_major": 2,
       "version_minor": 0,
       "model_id": "92f6e0ff976c4d319624cb1451f114e1"
      }
     },
     "metadata": {},
     "output_type": "display_data"
    },
    {
     "name": "stdout",
     "output_type": "stream",
     "text": [
      "Accuracy of the network on the test images: 99.92%\n"
     ]
    },
    {
     "data": {
      "text/plain": "  0%|          | 0/1094 [00:00<?, ?it/s]",
      "application/vnd.jupyter.widget-view+json": {
       "version_major": 2,
       "version_minor": 0,
       "model_id": "dbb64f843132471f84a6770c5530510e"
      }
     },
     "metadata": {},
     "output_type": "display_data"
    },
    {
     "name": "stdout",
     "output_type": "stream",
     "text": [
      "Accuracy of the network on the test images: 99.98%\n"
     ]
    },
    {
     "data": {
      "text/plain": "  0%|          | 0/1094 [00:00<?, ?it/s]",
      "application/vnd.jupyter.widget-view+json": {
       "version_major": 2,
       "version_minor": 0,
       "model_id": "2a4b3076c6b94a04a797214b1b9b30bb"
      }
     },
     "metadata": {},
     "output_type": "display_data"
    },
    {
     "name": "stdout",
     "output_type": "stream",
     "text": [
      "Accuracy of the network on the test images: 99.99%\n"
     ]
    },
    {
     "data": {
      "text/plain": "  0%|          | 0/1094 [00:00<?, ?it/s]",
      "application/vnd.jupyter.widget-view+json": {
       "version_major": 2,
       "version_minor": 0,
       "model_id": "decf009e524e44579892e26182579c7d"
      }
     },
     "metadata": {},
     "output_type": "display_data"
    },
    {
     "name": "stdout",
     "output_type": "stream",
     "text": [
      "Accuracy of the network on the test images: 99.95%\n"
     ]
    },
    {
     "data": {
      "text/plain": "  0%|          | 0/1094 [00:00<?, ?it/s]",
      "application/vnd.jupyter.widget-view+json": {
       "version_major": 2,
       "version_minor": 0,
       "model_id": "6dbd05257c2f442db28ff8becc2ff6a1"
      }
     },
     "metadata": {},
     "output_type": "display_data"
    },
    {
     "name": "stdout",
     "output_type": "stream",
     "text": [
      "Accuracy of the network on the test images: 99.96%\n"
     ]
    },
    {
     "data": {
      "text/plain": "  0%|          | 0/1094 [00:00<?, ?it/s]",
      "application/vnd.jupyter.widget-view+json": {
       "version_major": 2,
       "version_minor": 0,
       "model_id": "e4aac1165a334563b0c26e23f239c310"
      }
     },
     "metadata": {},
     "output_type": "display_data"
    },
    {
     "name": "stdout",
     "output_type": "stream",
     "text": [
      "Accuracy of the network on the test images: 99.94%\n"
     ]
    },
    {
     "data": {
      "text/plain": "  0%|          | 0/1094 [00:00<?, ?it/s]",
      "application/vnd.jupyter.widget-view+json": {
       "version_major": 2,
       "version_minor": 0,
       "model_id": "d7bd3c6e5f484136bcc693f01060b354"
      }
     },
     "metadata": {},
     "output_type": "display_data"
    },
    {
     "name": "stdout",
     "output_type": "stream",
     "text": [
      "Accuracy of the network on the test images: 99.99%\n"
     ]
    },
    {
     "data": {
      "text/plain": "  0%|          | 0/1094 [00:00<?, ?it/s]",
      "application/vnd.jupyter.widget-view+json": {
       "version_major": 2,
       "version_minor": 0,
       "model_id": "403ebb66b77c405f8bf8ac2e286181d8"
      }
     },
     "metadata": {},
     "output_type": "display_data"
    },
    {
     "name": "stdout",
     "output_type": "stream",
     "text": [
      "Accuracy of the network on the test images: 99.97%\n"
     ]
    },
    {
     "data": {
      "text/plain": "  0%|          | 0/1094 [00:00<?, ?it/s]",
      "application/vnd.jupyter.widget-view+json": {
       "version_major": 2,
       "version_minor": 0,
       "model_id": "9dc525d6b6614db9ba382756c1b7e785"
      }
     },
     "metadata": {},
     "output_type": "display_data"
    },
    {
     "name": "stdout",
     "output_type": "stream",
     "text": [
      "Accuracy of the network on the test images: 99.94%\n"
     ]
    },
    {
     "data": {
      "text/plain": "  0%|          | 0/1094 [00:00<?, ?it/s]",
      "application/vnd.jupyter.widget-view+json": {
       "version_major": 2,
       "version_minor": 0,
       "model_id": "a84e5a39b271455d8548e9d0bfc3dc3c"
      }
     },
     "metadata": {},
     "output_type": "display_data"
    },
    {
     "name": "stdout",
     "output_type": "stream",
     "text": [
      "Accuracy of the network on the test images: 99.91%\n"
     ]
    },
    {
     "data": {
      "text/plain": "  0%|          | 0/1094 [00:00<?, ?it/s]",
      "application/vnd.jupyter.widget-view+json": {
       "version_major": 2,
       "version_minor": 0,
       "model_id": "814c58608c6f4695be5e9775b8c14501"
      }
     },
     "metadata": {},
     "output_type": "display_data"
    },
    {
     "name": "stdout",
     "output_type": "stream",
     "text": [
      "Accuracy of the network on the test images: 99.98%\n"
     ]
    },
    {
     "data": {
      "text/plain": "  0%|          | 0/1094 [00:00<?, ?it/s]",
      "application/vnd.jupyter.widget-view+json": {
       "version_major": 2,
       "version_minor": 0,
       "model_id": "28861be04cfa40d7911b76f5fd04b1d6"
      }
     },
     "metadata": {},
     "output_type": "display_data"
    },
    {
     "name": "stdout",
     "output_type": "stream",
     "text": [
      "Accuracy of the network on the test images: 99.98%\n"
     ]
    },
    {
     "data": {
      "text/plain": "  0%|          | 0/1094 [00:00<?, ?it/s]",
      "application/vnd.jupyter.widget-view+json": {
       "version_major": 2,
       "version_minor": 0,
       "model_id": "075c48e45ad740f487154dfe94b00c8a"
      }
     },
     "metadata": {},
     "output_type": "display_data"
    },
    {
     "name": "stdout",
     "output_type": "stream",
     "text": [
      "Accuracy of the network on the test images: 100.00%\n"
     ]
    },
    {
     "data": {
      "text/plain": "  0%|          | 0/1094 [00:00<?, ?it/s]",
      "application/vnd.jupyter.widget-view+json": {
       "version_major": 2,
       "version_minor": 0,
       "model_id": "609e8b91eae64fb69503841bb85b2ec7"
      }
     },
     "metadata": {},
     "output_type": "display_data"
    },
    {
     "name": "stdout",
     "output_type": "stream",
     "text": [
      "Accuracy of the network on the test images: 99.95%\n"
     ]
    },
    {
     "data": {
      "text/plain": "  0%|          | 0/1094 [00:00<?, ?it/s]",
      "application/vnd.jupyter.widget-view+json": {
       "version_major": 2,
       "version_minor": 0,
       "model_id": "4482073a4f7f4cdeab91d58e5b302818"
      }
     },
     "metadata": {},
     "output_type": "display_data"
    },
    {
     "name": "stdout",
     "output_type": "stream",
     "text": [
      "Accuracy of the network on the test images: 99.99%\n"
     ]
    },
    {
     "data": {
      "text/plain": "  0%|          | 0/1094 [00:00<?, ?it/s]",
      "application/vnd.jupyter.widget-view+json": {
       "version_major": 2,
       "version_minor": 0,
       "model_id": "50521d929aaa40e5add16a5b8985ddda"
      }
     },
     "metadata": {},
     "output_type": "display_data"
    },
    {
     "name": "stdout",
     "output_type": "stream",
     "text": [
      "Accuracy of the network on the test images: 99.98%\n"
     ]
    },
    {
     "data": {
      "text/plain": "  0%|          | 0/1094 [00:00<?, ?it/s]",
      "application/vnd.jupyter.widget-view+json": {
       "version_major": 2,
       "version_minor": 0,
       "model_id": "ec8dd066743e445d8d9ce973db43448e"
      }
     },
     "metadata": {},
     "output_type": "display_data"
    },
    {
     "name": "stdout",
     "output_type": "stream",
     "text": [
      "Accuracy of the network on the test images: 99.99%\n"
     ]
    },
    {
     "data": {
      "text/plain": "  0%|          | 0/1094 [00:00<?, ?it/s]",
      "application/vnd.jupyter.widget-view+json": {
       "version_major": 2,
       "version_minor": 0,
       "model_id": "cfd1cdce9b6b477da7f4657586d16ff5"
      }
     },
     "metadata": {},
     "output_type": "display_data"
    },
    {
     "name": "stdout",
     "output_type": "stream",
     "text": [
      "Accuracy of the network on the test images: 99.98%\n"
     ]
    },
    {
     "data": {
      "text/plain": "  0%|          | 0/1094 [00:00<?, ?it/s]",
      "application/vnd.jupyter.widget-view+json": {
       "version_major": 2,
       "version_minor": 0,
       "model_id": "cc63b2839dff489f8410c1b97e640cf3"
      }
     },
     "metadata": {},
     "output_type": "display_data"
    },
    {
     "name": "stdout",
     "output_type": "stream",
     "text": [
      "Accuracy of the network on the test images: 99.99%\n"
     ]
    },
    {
     "data": {
      "text/plain": "  0%|          | 0/1094 [00:00<?, ?it/s]",
      "application/vnd.jupyter.widget-view+json": {
       "version_major": 2,
       "version_minor": 0,
       "model_id": "79574f654d74466e8307032453b7fae8"
      }
     },
     "metadata": {},
     "output_type": "display_data"
    },
    {
     "name": "stdout",
     "output_type": "stream",
     "text": [
      "Accuracy of the network on the test images: 97.01%\n"
     ]
    },
    {
     "data": {
      "text/plain": "  0%|          | 0/1094 [00:00<?, ?it/s]",
      "application/vnd.jupyter.widget-view+json": {
       "version_major": 2,
       "version_minor": 0,
       "model_id": "f9122ed48b304281af3ff551e3be8f7e"
      }
     },
     "metadata": {},
     "output_type": "display_data"
    },
    {
     "name": "stdout",
     "output_type": "stream",
     "text": [
      "Accuracy of the network on the test images: 97.92%\n"
     ]
    },
    {
     "data": {
      "text/plain": "  0%|          | 0/1094 [00:00<?, ?it/s]",
      "application/vnd.jupyter.widget-view+json": {
       "version_major": 2,
       "version_minor": 0,
       "model_id": "7be2f5f4beb445a2b356b1d6ec470a44"
      }
     },
     "metadata": {},
     "output_type": "display_data"
    },
    {
     "name": "stdout",
     "output_type": "stream",
     "text": [
      "Accuracy of the network on the test images: 98.02%\n"
     ]
    },
    {
     "data": {
      "text/plain": "  0%|          | 0/1094 [00:00<?, ?it/s]",
      "application/vnd.jupyter.widget-view+json": {
       "version_major": 2,
       "version_minor": 0,
       "model_id": "4d5f2499aba94ea39a9310e3c8563995"
      }
     },
     "metadata": {},
     "output_type": "display_data"
    },
    {
     "name": "stdout",
     "output_type": "stream",
     "text": [
      "Accuracy of the network on the test images: 98.41%\n"
     ]
    },
    {
     "data": {
      "text/plain": "  0%|          | 0/1094 [00:00<?, ?it/s]",
      "application/vnd.jupyter.widget-view+json": {
       "version_major": 2,
       "version_minor": 0,
       "model_id": "f4411b8cbd5c444aa9e042222b2ec6f2"
      }
     },
     "metadata": {},
     "output_type": "display_data"
    },
    {
     "name": "stdout",
     "output_type": "stream",
     "text": [
      "Accuracy of the network on the test images: 98.31%\n"
     ]
    },
    {
     "data": {
      "text/plain": "  0%|          | 0/1094 [00:00<?, ?it/s]",
      "application/vnd.jupyter.widget-view+json": {
       "version_major": 2,
       "version_minor": 0,
       "model_id": "3b8268a6bdf74c828d6dc6c33e116be6"
      }
     },
     "metadata": {},
     "output_type": "display_data"
    },
    {
     "name": "stdout",
     "output_type": "stream",
     "text": [
      "Accuracy of the network on the test images: 98.75%\n"
     ]
    },
    {
     "data": {
      "text/plain": "  0%|          | 0/1094 [00:00<?, ?it/s]",
      "application/vnd.jupyter.widget-view+json": {
       "version_major": 2,
       "version_minor": 0,
       "model_id": "3bd09f11d0f94499a99452323f3ba3b1"
      }
     },
     "metadata": {},
     "output_type": "display_data"
    },
    {
     "name": "stdout",
     "output_type": "stream",
     "text": [
      "Accuracy of the network on the test images: 98.76%\n"
     ]
    },
    {
     "data": {
      "text/plain": "  0%|          | 0/1094 [00:00<?, ?it/s]",
      "application/vnd.jupyter.widget-view+json": {
       "version_major": 2,
       "version_minor": 0,
       "model_id": "963cf74ad9b248e2a8ac85ce7b131ce4"
      }
     },
     "metadata": {},
     "output_type": "display_data"
    },
    {
     "name": "stdout",
     "output_type": "stream",
     "text": [
      "Accuracy of the network on the test images: 98.58%\n"
     ]
    },
    {
     "data": {
      "text/plain": "  0%|          | 0/1094 [00:00<?, ?it/s]",
      "application/vnd.jupyter.widget-view+json": {
       "version_major": 2,
       "version_minor": 0,
       "model_id": "240ad849a24040599f062fc23fe7b291"
      }
     },
     "metadata": {},
     "output_type": "display_data"
    },
    {
     "name": "stdout",
     "output_type": "stream",
     "text": [
      "Accuracy of the network on the test images: 98.64%\n"
     ]
    },
    {
     "data": {
      "text/plain": "  0%|          | 0/1094 [00:00<?, ?it/s]",
      "application/vnd.jupyter.widget-view+json": {
       "version_major": 2,
       "version_minor": 0,
       "model_id": "4006cdc22e0544c9af4fd0d750087273"
      }
     },
     "metadata": {},
     "output_type": "display_data"
    },
    {
     "name": "stdout",
     "output_type": "stream",
     "text": [
      "Accuracy of the network on the test images: 98.56%\n"
     ]
    },
    {
     "data": {
      "text/plain": "  0%|          | 0/1094 [00:00<?, ?it/s]",
      "application/vnd.jupyter.widget-view+json": {
       "version_major": 2,
       "version_minor": 0,
       "model_id": "06556943cb8c4108a1664cd445de2e66"
      }
     },
     "metadata": {},
     "output_type": "display_data"
    },
    {
     "name": "stdout",
     "output_type": "stream",
     "text": [
      "Accuracy of the network on the test images: 98.62%\n"
     ]
    },
    {
     "data": {
      "text/plain": "  0%|          | 0/1094 [00:00<?, ?it/s]",
      "application/vnd.jupyter.widget-view+json": {
       "version_major": 2,
       "version_minor": 0,
       "model_id": "5b9838a739d94d7ab742b9a9dd8b7237"
      }
     },
     "metadata": {},
     "output_type": "display_data"
    },
    {
     "name": "stdout",
     "output_type": "stream",
     "text": [
      "Accuracy of the network on the test images: 98.46%\n"
     ]
    },
    {
     "data": {
      "text/plain": "  0%|          | 0/1094 [00:00<?, ?it/s]",
      "application/vnd.jupyter.widget-view+json": {
       "version_major": 2,
       "version_minor": 0,
       "model_id": "729fdea55aa24b7b8dd6c3383634c781"
      }
     },
     "metadata": {},
     "output_type": "display_data"
    },
    {
     "name": "stdout",
     "output_type": "stream",
     "text": [
      "Accuracy of the network on the test images: 98.73%\n"
     ]
    },
    {
     "data": {
      "text/plain": "  0%|          | 0/1094 [00:00<?, ?it/s]",
      "application/vnd.jupyter.widget-view+json": {
       "version_major": 2,
       "version_minor": 0,
       "model_id": "4e869d05a95d4aaa88dfca0fe135b403"
      }
     },
     "metadata": {},
     "output_type": "display_data"
    },
    {
     "name": "stdout",
     "output_type": "stream",
     "text": [
      "Accuracy of the network on the test images: 98.72%\n"
     ]
    },
    {
     "data": {
      "text/plain": "  0%|          | 0/1094 [00:00<?, ?it/s]",
      "application/vnd.jupyter.widget-view+json": {
       "version_major": 2,
       "version_minor": 0,
       "model_id": "df0f6c0b514f4506bccb40365a13f9cb"
      }
     },
     "metadata": {},
     "output_type": "display_data"
    },
    {
     "name": "stdout",
     "output_type": "stream",
     "text": [
      "Accuracy of the network on the test images: 98.69%\n"
     ]
    },
    {
     "data": {
      "text/plain": "  0%|          | 0/1094 [00:00<?, ?it/s]",
      "application/vnd.jupyter.widget-view+json": {
       "version_major": 2,
       "version_minor": 0,
       "model_id": "cb594d8021984a48ac7bb05ae3c1497c"
      }
     },
     "metadata": {},
     "output_type": "display_data"
    },
    {
     "name": "stdout",
     "output_type": "stream",
     "text": [
      "Accuracy of the network on the test images: 98.65%\n"
     ]
    },
    {
     "data": {
      "text/plain": "  0%|          | 0/1094 [00:00<?, ?it/s]",
      "application/vnd.jupyter.widget-view+json": {
       "version_major": 2,
       "version_minor": 0,
       "model_id": "395de4ee925d4dc6a97cd22c44736f80"
      }
     },
     "metadata": {},
     "output_type": "display_data"
    },
    {
     "name": "stdout",
     "output_type": "stream",
     "text": [
      "Accuracy of the network on the test images: 98.76%\n"
     ]
    },
    {
     "data": {
      "text/plain": "  0%|          | 0/1094 [00:00<?, ?it/s]",
      "application/vnd.jupyter.widget-view+json": {
       "version_major": 2,
       "version_minor": 0,
       "model_id": "f811d97713054a71ad6956d4da78ad99"
      }
     },
     "metadata": {},
     "output_type": "display_data"
    },
    {
     "name": "stdout",
     "output_type": "stream",
     "text": [
      "Accuracy of the network on the test images: 98.87%\n"
     ]
    },
    {
     "data": {
      "text/plain": "  0%|          | 0/1094 [00:00<?, ?it/s]",
      "application/vnd.jupyter.widget-view+json": {
       "version_major": 2,
       "version_minor": 0,
       "model_id": "e9ca3c17f58c4714aab174b155c64f2c"
      }
     },
     "metadata": {},
     "output_type": "display_data"
    },
    {
     "name": "stdout",
     "output_type": "stream",
     "text": [
      "Accuracy of the network on the test images: 98.68%\n"
     ]
    },
    {
     "data": {
      "text/plain": "  0%|          | 0/1094 [00:00<?, ?it/s]",
      "application/vnd.jupyter.widget-view+json": {
       "version_major": 2,
       "version_minor": 0,
       "model_id": "45686ccc106944c68cde8a4fd88206be"
      }
     },
     "metadata": {},
     "output_type": "display_data"
    },
    {
     "name": "stdout",
     "output_type": "stream",
     "text": [
      "Accuracy of the network on the test images: 98.89%\n",
      "Computing principal space ...\n",
      "Computing principal space ...\n",
      "Computing alpha ...\n",
      "Computing alpha ...\n",
      "self.alpha=9.1102\n",
      "self.alpha=9.1102\n",
      "Fitting with temperature scaling\n",
      "label: y1.unique()=tensor([ 0,  1,  2,  3,  4,  5,  6,  7,  8,  9, 10, 11, 12, 13, 14, 15, 16, 17,\n",
      "        18, 19, 20, 21, 22, 23, 24, 25, 26, 27, 28, 29, 30, 31, 32, 33, 34, 35,\n",
      "        36, 37, 38, 39, 40, 41, 42]) logits_label.shape=torch.Size([4209, 43])\n",
      "Initial T/NLL: 1.000/0.004\n",
      "Initial T/NLL: 1.000/0.004\n",
      "Optimal temperature: 1.001021385192871\n",
      "Optimal temperature: 1.001021385192871\n",
      "NLL after scaling: 0.00'\n",
      "NLL after scaling: 0.00'\n",
      "color: y2.unique()=tensor([0, 1, 2, 3]) logits_color.shape=torch.Size([4209, 4])\n",
      "Initial T/NLL: 1.000/0.000\n",
      "Initial T/NLL: 1.000/0.000\n",
      "Optimal temperature: 0.9999979734420776\n",
      "Optimal temperature: 0.9999979734420776\n",
      "NLL after scaling: 0.00'\n",
      "NLL after scaling: 0.00'\n",
      "shape: y3.unique()=tensor([0, 1, 2, 3, 4]) logits_shape.shape=torch.Size([4209, 5])\n",
      "Initial T/NLL: 1.000/0.000\n",
      "Initial T/NLL: 1.000/0.000\n",
      "Optimal temperature: 0.9999989867210388\n",
      "Optimal temperature: 0.9999989867210388\n",
      "NLL after scaling: 0.00'\n",
      "NLL after scaling: 0.00'\n",
      "self.scorer_label.t=Parameter containing:\n",
      "tensor(1.0010, requires_grad=True)\n",
      "self.scorer_color.t=Parameter containing:\n",
      "tensor(1.0000, requires_grad=True)\n",
      "self.scorer_shape.t=Parameter containing:\n",
      "tensor(1.0000, requires_grad=True)\n",
      "Fitting with temperature scaling\n"
     ]
    },
    {
     "name": "stderr",
     "output_type": "stream",
     "text": [
      "/home/ki/projects/pytorch-ood/src/pytorch_ood/detector/tscaling.py:84: UserWarning: Implicit dimension choice for log_softmax has been deprecated. Change the call to include dim=X as an argument.\n",
      "  loss = nll_loss(log_softmax(logits / self.t), labels).item()\n",
      "/home/ki/projects/pytorch-ood/src/pytorch_ood/detector/tscaling.py:90: UserWarning: Implicit dimension choice for log_softmax has been deprecated. Change the call to include dim=X as an argument.\n",
      "  loss = nll_loss(log_softmax(logits / self.t), labels)\n",
      "/home/ki/projects/pytorch-ood/src/pytorch_ood/detector/tscaling.py:97: UserWarning: Implicit dimension choice for log_softmax has been deprecated. Change the call to include dim=X as an argument.\n",
      "  loss = nll_loss(log_softmax(logits / self.t), labels).item()\n"
     ]
    },
    {
     "name": "stdout",
     "output_type": "stream",
     "text": [
      "label: y1.unique()=tensor([ 0,  1,  2,  3,  4,  5,  6,  7,  8,  9, 10, 11, 12, 13, 14, 15, 16, 17,\n",
      "        18, 19, 20, 21, 22, 23, 24, 25, 26, 27, 28, 29, 30, 31, 32, 33, 34, 35,\n",
      "        36, 37, 38, 39, 40, 41, 42]) logits_label.shape=torch.Size([4209, 43])\n",
      "Initial T/NLL: 1.000/0.004\n",
      "Initial T/NLL: 1.000/0.004\n",
      "Optimal temperature: 1.001021385192871\n",
      "Optimal temperature: 1.001021385192871\n",
      "NLL after scaling: 0.00'\n",
      "NLL after scaling: 0.00'\n",
      "color: y2.unique()=tensor([0, 1, 2, 3]) logits_color.shape=torch.Size([4209, 4])\n",
      "Initial T/NLL: 1.000/0.000\n",
      "Initial T/NLL: 1.000/0.000\n",
      "Optimal temperature: 0.9999979734420776\n",
      "Optimal temperature: 0.9999979734420776\n",
      "NLL after scaling: 0.00'\n",
      "NLL after scaling: 0.00'\n",
      "shape: y3.unique()=tensor([0, 1, 2, 3, 4]) logits_shape.shape=torch.Size([4209, 5])\n",
      "Initial T/NLL: 1.000/0.000\n",
      "Initial T/NLL: 1.000/0.000\n",
      "Optimal temperature: 0.9999989867210388\n",
      "Optimal temperature: 0.9999989867210388\n",
      "NLL after scaling: 0.00'\n",
      "NLL after scaling: 0.00'\n",
      "self.scorer_label.t=Parameter containing:\n",
      "tensor(1.0010, requires_grad=True)\n",
      "self.scorer_color.t=Parameter containing:\n",
      "tensor(1.0000, requires_grad=True)\n",
      "self.scorer_shape.t=Parameter containing:\n",
      "tensor(1.0000, requires_grad=True)\n",
      "{'AUROC': 0.9989551901817322, 'AUPR-IN': 0.9985781908035278, 'AUPR-OUT': 0.9993528723716736, 'FPR95TPR': 0.004038004670292139, 'Method': 'PrologOOD', 'Dataset': 'LSUNCrop'}\n",
      "{'AUROC': 0.9991008043289185, 'AUPR-IN': 0.9987084269523621, 'AUPR-OUT': 0.9994709491729736, 'FPR95TPR': 0.0019002375192940235, 'Method': 'PrologOOD', 'Dataset': 'LSUNResize'}\n",
      "Found 5640 texture files.\n",
      "Found 5640 texture files.\n",
      "{'AUROC': 0.9981732964515686, 'AUPR-IN': 0.9957627654075623, 'AUPR-OUT': 0.9992404580116272, 'FPR95TPR': 0.008313539437949657, 'Method': 'PrologOOD', 'Dataset': 'Textures'}\n",
      "{'AUROC': 0.9985215067863464, 'AUPR-IN': 0.9978984594345093, 'AUPR-OUT': 0.99904465675354, 'FPR95TPR': 0.007046713959425688, 'Method': 'PrologOOD', 'Dataset': 'TinyImageNetCrop'}\n",
      "{'AUROC': 0.9988380670547485, 'AUPR-IN': 0.9983749985694885, 'AUPR-OUT': 0.9992697238922119, 'FPR95TPR': 0.004829770419746637, 'Method': 'PrologOOD', 'Dataset': 'TinyImageNetResize'}\n",
      "{'AUROC': 0.9994440078735352, 'AUPR-IN': 0.9992982745170593, 'AUPR-OUT': 0.9997537136077881, 'FPR95TPR': 0.001108471886254847, 'Method': 'PrologOOD+', 'Dataset': 'LSUNCrop'}\n",
      "{'AUROC': 0.9994457960128784, 'AUPR-IN': 0.9993009567260742, 'AUPR-OUT': 0.9997550249099731, 'FPR95TPR': 0.001108471886254847, 'Method': 'PrologOOD+', 'Dataset': 'LSUNResize'}\n",
      "Found 5640 texture files.\n",
      "Found 5640 texture files.\n",
      "{'AUROC': 0.999434769153595, 'AUPR-IN': 0.9987365007400513, 'AUPR-OUT': 0.9998238682746887, 'FPR95TPR': 0.001108471886254847, 'Method': 'PrologOOD+', 'Dataset': 'Textures'}\n",
      "{'AUROC': 0.9994455575942993, 'AUPR-IN': 0.9993005990982056, 'AUPR-OUT': 0.9997549653053284, 'FPR95TPR': 0.001108471886254847, 'Method': 'PrologOOD+', 'Dataset': 'TinyImageNetCrop'}\n",
      "{'AUROC': 0.9994457960128784, 'AUPR-IN': 0.9993009567260742, 'AUPR-OUT': 0.9997550249099731, 'FPR95TPR': 0.001108471886254847, 'Method': 'PrologOOD+', 'Dataset': 'TinyImageNetResize'}\n",
      "{'AUROC': 0.9989549517631531, 'AUPR-IN': 0.9985779523849487, 'AUPR-OUT': 0.9993526935577393, 'FPR95TPR': 0.003958828281611204, 'Method': 'PrologOODT', 'Dataset': 'LSUNCrop'}\n",
      "{'AUROC': 0.9991010427474976, 'AUPR-IN': 0.9987088441848755, 'AUPR-OUT': 0.9994710683822632, 'FPR95TPR': 0.0019002375192940235, 'Method': 'PrologOODT', 'Dataset': 'LSUNResize'}\n",
      "Found 5640 texture files.\n",
      "Found 5640 texture files.\n",
      "{'AUROC': 0.9981731176376343, 'AUPR-IN': 0.9957631826400757, 'AUPR-OUT': 0.9992402791976929, 'FPR95TPR': 0.008313539437949657, 'Method': 'PrologOODT', 'Dataset': 'Textures'}\n",
      "{'AUROC': 0.9985213875770569, 'AUPR-IN': 0.9978984594345093, 'AUPR-OUT': 0.9990445375442505, 'FPR95TPR': 0.007046713959425688, 'Method': 'PrologOODT', 'Dataset': 'TinyImageNetCrop'}\n",
      "{'AUROC': 0.9988381266593933, 'AUPR-IN': 0.9983752965927124, 'AUPR-OUT': 0.9992698431015015, 'FPR95TPR': 0.004829770419746637, 'Method': 'PrologOODT', 'Dataset': 'TinyImageNetResize'}\n",
      "{'AUROC': 0.9994410276412964, 'AUPR-IN': 0.999294638633728, 'AUPR-OUT': 0.9997512698173523, 'FPR95TPR': 0.001108471886254847, 'Method': 'PrologOODT+', 'Dataset': 'LSUNCrop'}\n",
      "{'AUROC': 0.9994457960128784, 'AUPR-IN': 0.9993009567260742, 'AUPR-OUT': 0.9997550845146179, 'FPR95TPR': 0.001108471886254847, 'Method': 'PrologOODT+', 'Dataset': 'LSUNResize'}\n",
      "Found 5640 texture files.\n",
      "Found 5640 texture files.\n",
      "{'AUROC': 0.9994326233863831, 'AUPR-IN': 0.9987320899963379, 'AUPR-OUT': 0.9998229742050171, 'FPR95TPR': 0.001108471886254847, 'Method': 'PrologOODT+', 'Dataset': 'Textures'}\n",
      "{'AUROC': 0.9994449615478516, 'AUPR-IN': 0.9992997646331787, 'AUPR-OUT': 0.9997543692588806, 'FPR95TPR': 0.001108471886254847, 'Method': 'PrologOODT+', 'Dataset': 'TinyImageNetCrop'}\n",
      "{'AUROC': 0.9994457960128784, 'AUPR-IN': 0.9993009567260742, 'AUPR-OUT': 0.9997550845146179, 'FPR95TPR': 0.001108471886254847, 'Method': 'PrologOODT+', 'Dataset': 'TinyImageNetResize'}\n",
      "{'AUROC': 0.9244749546051025, 'AUPR-IN': 0.9574089050292969, 'AUPR-OUT': 0.9466347694396973, 'FPR95TPR': 1.0, 'Method': 'Logic', 'Dataset': 'LSUNCrop'}\n",
      "{'AUROC': 0.8951749801635742, 'AUPR-IN': 0.9410042762756348, 'AUPR-OUT': 0.9288278222084045, 'FPR95TPR': 1.0, 'Method': 'Logic', 'Dataset': 'LSUNResize'}\n",
      "Found 5640 texture files.\n",
      "Found 5640 texture files.\n",
      "{'AUROC': 0.8794008493423462, 'AUPR-IN': 0.9155622124671936, 'AUPR-OUT': 0.9513670206069946, 'FPR95TPR': 1.0, 'Method': 'Logic', 'Dataset': 'Textures'}\n",
      "{'AUROC': 0.8649749755859375, 'AUPR-IN': 0.9240869283676147, 'AUPR-OUT': 0.9119006395339966, 'FPR95TPR': 1.0, 'Method': 'Logic', 'Dataset': 'TinyImageNetCrop'}\n",
      "{'AUROC': 0.8945749402046204, 'AUPR-IN': 0.9406681656837463, 'AUPR-OUT': 0.9284780025482178, 'FPR95TPR': 1.0, 'Method': 'Logic', 'Dataset': 'TinyImageNetResize'}\n",
      "{'AUROC': 0.999045729637146, 'AUPR-IN': 0.9990771412849426, 'AUPR-OUT': 0.9994382262229919, 'FPR95TPR': 0.001108471886254847, 'Method': 'Logic+', 'Dataset': 'LSUNCrop'}\n",
      "{'AUROC': 0.9994457960128784, 'AUPR-IN': 0.9993009567260742, 'AUPR-OUT': 0.9997550845146179, 'FPR95TPR': 0.001108471886254847, 'Method': 'Logic+', 'Dataset': 'LSUNResize'}\n",
      "Found 5640 texture files.\n",
      "Found 5640 texture files.\n",
      "{'AUROC': 0.998736560344696, 'AUPR-IN': 0.9982699751853943, 'AUPR-OUT': 0.9995120763778687, 'FPR95TPR': 0.001108471886254847, 'Method': 'Logic+', 'Dataset': 'Textures'}\n",
      "{'AUROC': 0.9992958307266235, 'AUPR-IN': 0.9992170929908752, 'AUPR-OUT': 0.9996362328529358, 'FPR95TPR': 0.001108471886254847, 'Method': 'Logic+', 'Dataset': 'TinyImageNetCrop'}\n",
      "{'AUROC': 0.9994457960128784, 'AUPR-IN': 0.9993009567260742, 'AUPR-OUT': 0.9997550845146179, 'FPR95TPR': 0.001108471886254847, 'Method': 'Logic+', 'Dataset': 'TinyImageNetResize'}\n",
      "{'AUROC': 0.997066855430603, 'AUPR-IN': 0.9951766133308411, 'AUPR-OUT': 0.9981756210327148, 'FPR95TPR': 0.010372130200266838, 'Method': 'Ensemble', 'Dataset': 'LSUNCrop'}\n",
      "{'AUROC': 0.9979560375213623, 'AUPR-IN': 0.9968574047088623, 'AUPR-OUT': 0.9986481070518494, 'FPR95TPR': 0.009659540839493275, 'Method': 'Ensemble', 'Dataset': 'LSUNResize'}\n",
      "Found 5640 texture files.\n",
      "Found 5640 texture files.\n",
      "{'AUROC': 0.9967935085296631, 'AUPR-IN': 0.991683304309845, 'AUPR-OUT': 0.9986802339553833, 'FPR95TPR': 0.013222485780715942, 'Method': 'Ensemble', 'Dataset': 'Textures'}\n",
      "{'AUROC': 0.9973358511924744, 'AUPR-IN': 0.9959391951560974, 'AUPR-OUT': 0.9982452392578125, 'FPR95TPR': 0.011401425115764141, 'Method': 'Ensemble', 'Dataset': 'TinyImageNetCrop'}\n",
      "{'AUROC': 0.9973063468933105, 'AUPR-IN': 0.9958256483078003, 'AUPR-OUT': 0.9982404708862305, 'FPR95TPR': 0.011243072338402271, 'Method': 'Ensemble', 'Dataset': 'TinyImageNetResize'}\n",
      "{'AUROC': 0.9825258851051331, 'AUPR-IN': 0.9737881422042847, 'AUPR-OUT': 0.9860197305679321, 'FPR95TPR': 0.039904989302158356, 'Method': 'MSP', 'Dataset': 'LSUNCrop'}\n",
      "{'AUROC': 0.9947578310966492, 'AUPR-IN': 0.9918583035469055, 'AUPR-OUT': 0.9965479969978333, 'FPR95TPR': 0.01876484602689743, 'Method': 'MSP', 'Dataset': 'LSUNResize'}\n",
      "Found 5640 texture files.\n",
      "Found 5640 texture files.\n",
      "{'AUROC': 0.9868857860565186, 'AUPR-IN': 0.9692808985710144, 'AUPR-OUT': 0.9921600222587585, 'FPR95TPR': 0.030562153086066246, 'Method': 'MSP', 'Dataset': 'Textures'}\n",
      "{'AUROC': 0.9878596067428589, 'AUPR-IN': 0.982969343662262, 'AUPR-OUT': 0.9898239374160767, 'FPR95TPR': 0.03269992023706436, 'Method': 'MSP', 'Dataset': 'TinyImageNetCrop'}\n",
      "{'AUROC': 0.9910269379615784, 'AUPR-IN': 0.9871840476989746, 'AUPR-OUT': 0.9929462671279907, 'FPR95TPR': 0.025732383131980896, 'Method': 'MSP', 'Dataset': 'TinyImageNetResize'}\n",
      "{'AUROC': 0.9842591881752014, 'AUPR-IN': 0.9816939234733582, 'AUPR-OUT': 0.9849931001663208, 'FPR95TPR': 0.04172604903578758, 'Method': 'Energy', 'Dataset': 'LSUNCrop'}\n",
      "{'AUROC': 0.997481107711792, 'AUPR-IN': 0.9969118237495422, 'AUPR-OUT': 0.9978698492050171, 'FPR95TPR': 0.007917656563222408, 'Method': 'Energy', 'Dataset': 'LSUNResize'}\n",
      "Found 5640 texture files.\n",
      "Found 5640 texture files.\n",
      "{'AUROC': 0.9861558079719543, 'AUPR-IN': 0.9778019189834595, 'AUPR-OUT': 0.9900844693183899, 'FPR95TPR': 0.02802850306034088, 'Method': 'Energy', 'Dataset': 'Textures'}\n",
      "{'AUROC': 0.9898331165313721, 'AUPR-IN': 0.989175021648407, 'AUPR-OUT': 0.9893386363983154, 'FPR95TPR': 0.02304038032889366, 'Method': 'Energy', 'Dataset': 'TinyImageNetCrop'}\n",
      "{'AUROC': 0.9921582937240601, 'AUPR-IN': 0.9918315410614014, 'AUPR-OUT': 0.9914785623550415, 'FPR95TPR': 0.016389548778533936, 'Method': 'Energy', 'Dataset': 'TinyImageNetResize'}\n",
      "{'AUROC': 0.9842357635498047, 'AUPR-IN': 0.9816809296607971, 'AUPR-OUT': 0.9849082231521606, 'FPR95TPR': 0.04172604903578758, 'Method': 'ReAct', 'Dataset': 'LSUNCrop'}\n",
      "{'AUROC': 0.9974817633628845, 'AUPR-IN': 0.9969120025634766, 'AUPR-OUT': 0.9978680610656738, 'FPR95TPR': 0.007996832951903343, 'Method': 'ReAct', 'Dataset': 'LSUNResize'}\n",
      "Found 5640 texture files.\n",
      "Found 5640 texture files.\n",
      "{'AUROC': 0.9863366484642029, 'AUPR-IN': 0.9779841303825378, 'AUPR-OUT': 0.9901111125946045, 'FPR95TPR': 0.02787015028297901, 'Method': 'ReAct', 'Dataset': 'Textures'}\n",
      "{'AUROC': 0.9898502230644226, 'AUPR-IN': 0.9891902208328247, 'AUPR-OUT': 0.9892743825912476, 'FPR95TPR': 0.02304038032889366, 'Method': 'ReAct', 'Dataset': 'TinyImageNetCrop'}\n",
      "{'AUROC': 0.9921648502349854, 'AUPR-IN': 0.9918367266654968, 'AUPR-OUT': 0.9914286136627197, 'FPR95TPR': 0.016389548778533936, 'Method': 'ReAct', 'Dataset': 'TinyImageNetResize'}\n",
      "{'AUROC': 0.9702432155609131, 'AUPR-IN': 0.9650201797485352, 'AUPR-OUT': 0.9967466592788696, 'FPR95TPR': 0.059461601078510284, 'Method': 'ViM', 'Dataset': 'LSUNCrop'}\n",
      "{'AUROC': 0.9702692031860352, 'AUPR-IN': 0.9650729894638062, 'AUPR-OUT': 0.997481644153595, 'FPR95TPR': 0.059461601078510284, 'Method': 'ViM', 'Dataset': 'LSUNResize'}\n",
      "Found 5640 texture files.\n",
      "Found 5640 texture files.\n",
      "{'AUROC': 0.9702625870704651, 'AUPR-IN': 0.941223680973053, 'AUPR-OUT': 0.9992213249206543, 'FPR95TPR': 0.059461601078510284, 'Method': 'ViM', 'Dataset': 'Textures'}\n",
      "{'AUROC': 0.9702402353286743, 'AUPR-IN': 0.9650208950042725, 'AUPR-OUT': 0.9960927963256836, 'FPR95TPR': 0.059461601078510284, 'Method': 'ViM', 'Dataset': 'TinyImageNetCrop'}\n",
      "{'AUROC': 0.9702644348144531, 'AUPR-IN': 0.9650644063949585, 'AUPR-OUT': 0.9978547692298889, 'FPR95TPR': 0.059461601078510284, 'Method': 'ViM', 'Dataset': 'TinyImageNetResize'}\n",
      "{'AUROC': 0.9936823844909668, 'AUPR-IN': 0.9884448647499084, 'AUPR-OUT': 0.9961228370666504, 'FPR95TPR': 0.021773554384708405, 'Method': 'Mahalanobis', 'Dataset': 'LSUNCrop'}\n",
      "{'AUROC': 0.9985939264297485, 'AUPR-IN': 0.9976602792739868, 'AUPR-OUT': 0.9990853667259216, 'FPR95TPR': 0.0054631829261779785, 'Method': 'Mahalanobis', 'Dataset': 'LSUNResize'}\n",
      "Found 5640 texture files.\n",
      "Found 5640 texture files.\n",
      "{'AUROC': 0.9981772899627686, 'AUPR-IN': 0.9954138994216919, 'AUPR-OUT': 0.9992453455924988, 'FPR95TPR': 0.009263657964766026, 'Method': 'Mahalanobis', 'Dataset': 'Textures'}\n",
      "{'AUROC': 0.9951223134994507, 'AUPR-IN': 0.9917293787002563, 'AUPR-OUT': 0.9969008564949036, 'FPR95TPR': 0.0197149645537138, 'Method': 'Mahalanobis', 'Dataset': 'TinyImageNetCrop'}\n",
      "{'AUROC': 0.9983648061752319, 'AUPR-IN': 0.9974997639656067, 'AUPR-OUT': 0.9988971948623657, 'FPR95TPR': 0.007205067202448845, 'Method': 'Mahalanobis', 'Dataset': 'TinyImageNetResize'}\n",
      "{'AUROC': 0.9837256073951721, 'AUPR-IN': 0.9775329232215881, 'AUPR-OUT': 0.9864779114723206, 'FPR95TPR': 0.03927157446742058, 'Method': 'Entropy', 'Dataset': 'LSUNCrop'}\n",
      "{'AUROC': 0.9961584210395813, 'AUPR-IN': 0.9945902228355408, 'AUPR-OUT': 0.9972758293151855, 'FPR95TPR': 0.017814727500081062, 'Method': 'Entropy', 'Dataset': 'LSUNResize'}\n",
      "Found 5640 texture files.\n",
      "Found 5640 texture files.\n",
      "{'AUROC': 0.9880318641662598, 'AUPR-IN': 0.9749912023544312, 'AUPR-OUT': 0.9924516081809998, 'FPR95TPR': 0.029928741976618767, 'Method': 'Entropy', 'Dataset': 'Textures'}\n",
      "{'AUROC': 0.989168643951416, 'AUPR-IN': 0.9862266182899475, 'AUPR-OUT': 0.990371584892273, 'FPR95TPR': 0.031591448932886124, 'Method': 'Entropy', 'Dataset': 'TinyImageNetCrop'}\n",
      "{'AUROC': 0.9923256635665894, 'AUPR-IN': 0.9901643991470337, 'AUPR-OUT': 0.9934924244880676, 'FPR95TPR': 0.024940617382526398, 'Method': 'Entropy', 'Dataset': 'TinyImageNetResize'}\n",
      "{'AUROC': 0.9839589595794678, 'AUPR-IN': 0.9810667037963867, 'AUPR-OUT': 0.9848359823226929, 'FPR95TPR': 0.04172604903578758, 'Method': 'MaxLogit', 'Dataset': 'LSUNCrop'}\n",
      "{'AUROC': 0.9973070621490479, 'AUPR-IN': 0.9966000914573669, 'AUPR-OUT': 0.9977672696113586, 'FPR95TPR': 0.008313539437949657, 'Method': 'MaxLogit', 'Dataset': 'LSUNResize'}\n",
      "Found 5640 texture files.\n",
      "Found 5640 texture files.\n",
      "{'AUROC': 0.9859866499900818, 'AUPR-IN': 0.9771422147750854, 'AUPR-OUT': 0.9900244474411011, 'FPR95TPR': 0.02771179750561714, 'Method': 'MaxLogit', 'Dataset': 'Textures'}\n",
      "{'AUROC': 0.9896093010902405, 'AUPR-IN': 0.988736629486084, 'AUPR-OUT': 0.9892134070396423, 'FPR95TPR': 0.022961203008890152, 'Method': 'MaxLogit', 'Dataset': 'TinyImageNetCrop'}\n",
      "{'AUROC': 0.9919894337654114, 'AUPR-IN': 0.991493284702301, 'AUPR-OUT': 0.991391122341156, 'FPR95TPR': 0.016943784430623055, 'Method': 'MaxLogit', 'Dataset': 'TinyImageNetResize'}\n"
     ]
    },
    {
     "data": {
      "text/plain": "  0%|          | 0/2657 [00:00<?, ?it/s]",
      "application/vnd.jupyter.widget-view+json": {
       "version_major": 2,
       "version_minor": 0,
       "model_id": "caa395a923ee4351950bbbc0eadbdd96"
      }
     },
     "metadata": {},
     "output_type": "display_data"
    },
    {
     "name": "stdout",
     "output_type": "stream",
     "text": [
      "Accuracy of the sign network on the test images: 99.96%\n"
     ]
    },
    {
     "data": {
      "text/plain": "  0%|          | 0/2657 [00:00<?, ?it/s]",
      "application/vnd.jupyter.widget-view+json": {
       "version_major": 2,
       "version_minor": 0,
       "model_id": "8f5b764ef448497c97e103c244cb791d"
      }
     },
     "metadata": {},
     "output_type": "display_data"
    },
    {
     "name": "stdout",
     "output_type": "stream",
     "text": [
      "Accuracy of the sign network on the test images: 100.00%\n"
     ]
    },
    {
     "data": {
      "text/plain": "  0%|          | 0/2657 [00:00<?, ?it/s]",
      "application/vnd.jupyter.widget-view+json": {
       "version_major": 2,
       "version_minor": 0,
       "model_id": "55284b9e2ff64a88ae8d1a4da8658744"
      }
     },
     "metadata": {},
     "output_type": "display_data"
    },
    {
     "name": "stdout",
     "output_type": "stream",
     "text": [
      "Accuracy of the sign network on the test images: 100.00%\n"
     ]
    },
    {
     "data": {
      "text/plain": "  0%|          | 0/2657 [00:00<?, ?it/s]",
      "application/vnd.jupyter.widget-view+json": {
       "version_major": 2,
       "version_minor": 0,
       "model_id": "01b6e02ddc41481da5aef5bb9168c3cc"
      }
     },
     "metadata": {},
     "output_type": "display_data"
    },
    {
     "name": "stdout",
     "output_type": "stream",
     "text": [
      "Accuracy of the sign network on the test images: 99.99%\n"
     ]
    },
    {
     "data": {
      "text/plain": "  0%|          | 0/2657 [00:00<?, ?it/s]",
      "application/vnd.jupyter.widget-view+json": {
       "version_major": 2,
       "version_minor": 0,
       "model_id": "e18f54a9e6384dde85cbf95d3ee432c7"
      }
     },
     "metadata": {},
     "output_type": "display_data"
    },
    {
     "name": "stdout",
     "output_type": "stream",
     "text": [
      "Accuracy of the sign network on the test images: 99.99%\n"
     ]
    },
    {
     "data": {
      "text/plain": "  0%|          | 0/2657 [00:00<?, ?it/s]",
      "application/vnd.jupyter.widget-view+json": {
       "version_major": 2,
       "version_minor": 0,
       "model_id": "6d8c33fa85dc4173b38649c70ce1033a"
      }
     },
     "metadata": {},
     "output_type": "display_data"
    },
    {
     "name": "stdout",
     "output_type": "stream",
     "text": [
      "Accuracy of the sign network on the test images: 100.00%\n"
     ]
    },
    {
     "data": {
      "text/plain": "  0%|          | 0/2657 [00:00<?, ?it/s]",
      "application/vnd.jupyter.widget-view+json": {
       "version_major": 2,
       "version_minor": 0,
       "model_id": "7aac6759e0384a87817cfe7fe4f2b740"
      }
     },
     "metadata": {},
     "output_type": "display_data"
    },
    {
     "name": "stdout",
     "output_type": "stream",
     "text": [
      "Accuracy of the sign network on the test images: 100.00%\n"
     ]
    },
    {
     "data": {
      "text/plain": "  0%|          | 0/2657 [00:00<?, ?it/s]",
      "application/vnd.jupyter.widget-view+json": {
       "version_major": 2,
       "version_minor": 0,
       "model_id": "be75e90f92d34caf8cc5d5e8811ffa97"
      }
     },
     "metadata": {},
     "output_type": "display_data"
    },
    {
     "name": "stdout",
     "output_type": "stream",
     "text": [
      "Accuracy of the sign network on the test images: 99.97%\n"
     ]
    },
    {
     "data": {
      "text/plain": "  0%|          | 0/2657 [00:00<?, ?it/s]",
      "application/vnd.jupyter.widget-view+json": {
       "version_major": 2,
       "version_minor": 0,
       "model_id": "34dad2672cd043cf8d8c847710e24417"
      }
     },
     "metadata": {},
     "output_type": "display_data"
    },
    {
     "name": "stdout",
     "output_type": "stream",
     "text": [
      "Accuracy of the sign network on the test images: 100.00%\n"
     ]
    },
    {
     "data": {
      "text/plain": "  0%|          | 0/2657 [00:00<?, ?it/s]",
      "application/vnd.jupyter.widget-view+json": {
       "version_major": 2,
       "version_minor": 0,
       "model_id": "885dae09654c4ee8b7b20d1122374658"
      }
     },
     "metadata": {},
     "output_type": "display_data"
    },
    {
     "name": "stdout",
     "output_type": "stream",
     "text": [
      "Accuracy of the sign network on the test images: 100.00%\n"
     ]
    },
    {
     "data": {
      "text/plain": "  0%|          | 0/2657 [00:00<?, ?it/s]",
      "application/vnd.jupyter.widget-view+json": {
       "version_major": 2,
       "version_minor": 0,
       "model_id": "9d6a73e04c4d4501a666559eb0067a35"
      }
     },
     "metadata": {},
     "output_type": "display_data"
    },
    {
     "name": "stdout",
     "output_type": "stream",
     "text": [
      "Accuracy of the sign network on the test images: 100.00%\n"
     ]
    },
    {
     "data": {
      "text/plain": "  0%|          | 0/2657 [00:00<?, ?it/s]",
      "application/vnd.jupyter.widget-view+json": {
       "version_major": 2,
       "version_minor": 0,
       "model_id": "1c1719e53faa498d83ed40a7e5a685a5"
      }
     },
     "metadata": {},
     "output_type": "display_data"
    },
    {
     "name": "stdout",
     "output_type": "stream",
     "text": [
      "Accuracy of the sign network on the test images: 99.99%\n"
     ]
    },
    {
     "data": {
      "text/plain": "  0%|          | 0/2657 [00:00<?, ?it/s]",
      "application/vnd.jupyter.widget-view+json": {
       "version_major": 2,
       "version_minor": 0,
       "model_id": "7dae6a6369f64780a432e5d96e30bb4d"
      }
     },
     "metadata": {},
     "output_type": "display_data"
    },
    {
     "name": "stdout",
     "output_type": "stream",
     "text": [
      "Accuracy of the sign network on the test images: 100.00%\n"
     ]
    },
    {
     "data": {
      "text/plain": "  0%|          | 0/2657 [00:00<?, ?it/s]",
      "application/vnd.jupyter.widget-view+json": {
       "version_major": 2,
       "version_minor": 0,
       "model_id": "9b841c1e7c07461eb975ea5ef23eb13f"
      }
     },
     "metadata": {},
     "output_type": "display_data"
    },
    {
     "name": "stdout",
     "output_type": "stream",
     "text": [
      "Accuracy of the sign network on the test images: 100.00%\n"
     ]
    },
    {
     "data": {
      "text/plain": "  0%|          | 0/2657 [00:00<?, ?it/s]",
      "application/vnd.jupyter.widget-view+json": {
       "version_major": 2,
       "version_minor": 0,
       "model_id": "1ea9634494804ac3a22e7dd3856691b2"
      }
     },
     "metadata": {},
     "output_type": "display_data"
    },
    {
     "name": "stdout",
     "output_type": "stream",
     "text": [
      "Accuracy of the sign network on the test images: 100.00%\n"
     ]
    },
    {
     "data": {
      "text/plain": "  0%|          | 0/2657 [00:00<?, ?it/s]",
      "application/vnd.jupyter.widget-view+json": {
       "version_major": 2,
       "version_minor": 0,
       "model_id": "46332bf1784e4dd7b782bea38c31937f"
      }
     },
     "metadata": {},
     "output_type": "display_data"
    },
    {
     "name": "stdout",
     "output_type": "stream",
     "text": [
      "Accuracy of the sign network on the test images: 100.00%\n"
     ]
    },
    {
     "data": {
      "text/plain": "  0%|          | 0/2657 [00:00<?, ?it/s]",
      "application/vnd.jupyter.widget-view+json": {
       "version_major": 2,
       "version_minor": 0,
       "model_id": "fd1ae2cd8e86472bb756b9bbfd5292f1"
      }
     },
     "metadata": {},
     "output_type": "display_data"
    },
    {
     "name": "stdout",
     "output_type": "stream",
     "text": [
      "Accuracy of the sign network on the test images: 100.00%\n"
     ]
    },
    {
     "data": {
      "text/plain": "  0%|          | 0/2657 [00:00<?, ?it/s]",
      "application/vnd.jupyter.widget-view+json": {
       "version_major": 2,
       "version_minor": 0,
       "model_id": "31f2e6bdb81d4ea591cbfa76bb07a391"
      }
     },
     "metadata": {},
     "output_type": "display_data"
    },
    {
     "name": "stdout",
     "output_type": "stream",
     "text": [
      "Accuracy of the sign network on the test images: 100.00%\n"
     ]
    },
    {
     "data": {
      "text/plain": "  0%|          | 0/2657 [00:00<?, ?it/s]",
      "application/vnd.jupyter.widget-view+json": {
       "version_major": 2,
       "version_minor": 0,
       "model_id": "61ede3eceee749cc896ca0cd1da9d20f"
      }
     },
     "metadata": {},
     "output_type": "display_data"
    },
    {
     "name": "stdout",
     "output_type": "stream",
     "text": [
      "Accuracy of the sign network on the test images: 100.00%\n"
     ]
    },
    {
     "data": {
      "text/plain": "  0%|          | 0/2657 [00:00<?, ?it/s]",
      "application/vnd.jupyter.widget-view+json": {
       "version_major": 2,
       "version_minor": 0,
       "model_id": "24d23bab6a254218ba8dcdc7bf0d5119"
      }
     },
     "metadata": {},
     "output_type": "display_data"
    },
    {
     "name": "stdout",
     "output_type": "stream",
     "text": [
      "Accuracy of the sign network on the test images: 100.00%\n"
     ]
    },
    {
     "data": {
      "text/plain": "  0%|          | 0/1094 [00:00<?, ?it/s]",
      "application/vnd.jupyter.widget-view+json": {
       "version_major": 2,
       "version_minor": 0,
       "model_id": "771f66b7d1dc4fbc8b0f9ccc5dce45f4"
      }
     },
     "metadata": {},
     "output_type": "display_data"
    },
    {
     "name": "stdout",
     "output_type": "stream",
     "text": [
      "Accuracy of the network on the test images: 99.90%\n"
     ]
    },
    {
     "data": {
      "text/plain": "  0%|          | 0/1094 [00:00<?, ?it/s]",
      "application/vnd.jupyter.widget-view+json": {
       "version_major": 2,
       "version_minor": 0,
       "model_id": "98324bc065f14d9299f01ce313665880"
      }
     },
     "metadata": {},
     "output_type": "display_data"
    },
    {
     "name": "stdout",
     "output_type": "stream",
     "text": [
      "Accuracy of the network on the test images: 99.95%\n"
     ]
    },
    {
     "data": {
      "text/plain": "  0%|          | 0/1094 [00:00<?, ?it/s]",
      "application/vnd.jupyter.widget-view+json": {
       "version_major": 2,
       "version_minor": 0,
       "model_id": "4b38a324f22448d6bf172fbf6e71ff1e"
      }
     },
     "metadata": {},
     "output_type": "display_data"
    },
    {
     "name": "stdout",
     "output_type": "stream",
     "text": [
      "Accuracy of the network on the test images: 99.98%\n"
     ]
    },
    {
     "data": {
      "text/plain": "  0%|          | 0/1094 [00:00<?, ?it/s]",
      "application/vnd.jupyter.widget-view+json": {
       "version_major": 2,
       "version_minor": 0,
       "model_id": "2b99a8115f0a404e8d5791d56420873b"
      }
     },
     "metadata": {},
     "output_type": "display_data"
    },
    {
     "name": "stdout",
     "output_type": "stream",
     "text": [
      "Accuracy of the network on the test images: 99.97%\n"
     ]
    },
    {
     "data": {
      "text/plain": "  0%|          | 0/1094 [00:00<?, ?it/s]",
      "application/vnd.jupyter.widget-view+json": {
       "version_major": 2,
       "version_minor": 0,
       "model_id": "76291d2b2f8543a4a7d79ce164beb8bc"
      }
     },
     "metadata": {},
     "output_type": "display_data"
    },
    {
     "name": "stdout",
     "output_type": "stream",
     "text": [
      "Accuracy of the network on the test images: 99.98%\n"
     ]
    },
    {
     "data": {
      "text/plain": "  0%|          | 0/1094 [00:00<?, ?it/s]",
      "application/vnd.jupyter.widget-view+json": {
       "version_major": 2,
       "version_minor": 0,
       "model_id": "01ea545b24c746baa728b791a9f0faa4"
      }
     },
     "metadata": {},
     "output_type": "display_data"
    },
    {
     "name": "stdout",
     "output_type": "stream",
     "text": [
      "Accuracy of the network on the test images: 99.98%\n"
     ]
    },
    {
     "data": {
      "text/plain": "  0%|          | 0/1094 [00:00<?, ?it/s]",
      "application/vnd.jupyter.widget-view+json": {
       "version_major": 2,
       "version_minor": 0,
       "model_id": "aadb02b61a1e459781f9c7398ecc3c2b"
      }
     },
     "metadata": {},
     "output_type": "display_data"
    },
    {
     "name": "stdout",
     "output_type": "stream",
     "text": [
      "Accuracy of the network on the test images: 99.98%\n"
     ]
    },
    {
     "data": {
      "text/plain": "  0%|          | 0/1094 [00:00<?, ?it/s]",
      "application/vnd.jupyter.widget-view+json": {
       "version_major": 2,
       "version_minor": 0,
       "model_id": "290df0eced324e91970ca551bc883aaa"
      }
     },
     "metadata": {},
     "output_type": "display_data"
    },
    {
     "name": "stdout",
     "output_type": "stream",
     "text": [
      "Accuracy of the network on the test images: 99.98%\n"
     ]
    },
    {
     "data": {
      "text/plain": "  0%|          | 0/1094 [00:00<?, ?it/s]",
      "application/vnd.jupyter.widget-view+json": {
       "version_major": 2,
       "version_minor": 0,
       "model_id": "3154027e1e8a478ca926c98e4052ba50"
      }
     },
     "metadata": {},
     "output_type": "display_data"
    },
    {
     "name": "stdout",
     "output_type": "stream",
     "text": [
      "Accuracy of the network on the test images: 99.98%\n"
     ]
    },
    {
     "data": {
      "text/plain": "  0%|          | 0/1094 [00:00<?, ?it/s]",
      "application/vnd.jupyter.widget-view+json": {
       "version_major": 2,
       "version_minor": 0,
       "model_id": "66bea72b35084c4c9bfd63fa3b03df77"
      }
     },
     "metadata": {},
     "output_type": "display_data"
    },
    {
     "name": "stdout",
     "output_type": "stream",
     "text": [
      "Accuracy of the network on the test images: 99.99%\n"
     ]
    },
    {
     "data": {
      "text/plain": "  0%|          | 0/1094 [00:00<?, ?it/s]",
      "application/vnd.jupyter.widget-view+json": {
       "version_major": 2,
       "version_minor": 0,
       "model_id": "c66987e8f58d48bc8fbd1f5ab1010c18"
      }
     },
     "metadata": {},
     "output_type": "display_data"
    },
    {
     "name": "stdout",
     "output_type": "stream",
     "text": [
      "Accuracy of the network on the test images: 99.98%\n"
     ]
    },
    {
     "data": {
      "text/plain": "  0%|          | 0/1094 [00:00<?, ?it/s]",
      "application/vnd.jupyter.widget-view+json": {
       "version_major": 2,
       "version_minor": 0,
       "model_id": "2c50055c2080458b897159c6345cb181"
      }
     },
     "metadata": {},
     "output_type": "display_data"
    },
    {
     "name": "stdout",
     "output_type": "stream",
     "text": [
      "Accuracy of the network on the test images: 99.96%\n"
     ]
    },
    {
     "data": {
      "text/plain": "  0%|          | 0/1094 [00:00<?, ?it/s]",
      "application/vnd.jupyter.widget-view+json": {
       "version_major": 2,
       "version_minor": 0,
       "model_id": "c4a18893108343e8a5ac56060fab43be"
      }
     },
     "metadata": {},
     "output_type": "display_data"
    },
    {
     "name": "stdout",
     "output_type": "stream",
     "text": [
      "Accuracy of the network on the test images: 99.96%\n"
     ]
    },
    {
     "data": {
      "text/plain": "  0%|          | 0/1094 [00:00<?, ?it/s]",
      "application/vnd.jupyter.widget-view+json": {
       "version_major": 2,
       "version_minor": 0,
       "model_id": "7ee10e55bf1543c89e788f7f9dd7d9aa"
      }
     },
     "metadata": {},
     "output_type": "display_data"
    },
    {
     "name": "stdout",
     "output_type": "stream",
     "text": [
      "Accuracy of the network on the test images: 99.96%\n"
     ]
    },
    {
     "data": {
      "text/plain": "  0%|          | 0/1094 [00:00<?, ?it/s]",
      "application/vnd.jupyter.widget-view+json": {
       "version_major": 2,
       "version_minor": 0,
       "model_id": "469d537b2a3848a2ac3a0d6d0c0adccb"
      }
     },
     "metadata": {},
     "output_type": "display_data"
    },
    {
     "name": "stdout",
     "output_type": "stream",
     "text": [
      "Accuracy of the network on the test images: 99.96%\n"
     ]
    },
    {
     "data": {
      "text/plain": "  0%|          | 0/1094 [00:00<?, ?it/s]",
      "application/vnd.jupyter.widget-view+json": {
       "version_major": 2,
       "version_minor": 0,
       "model_id": "0d91c532d86640078a3f53b493b01152"
      }
     },
     "metadata": {},
     "output_type": "display_data"
    },
    {
     "name": "stdout",
     "output_type": "stream",
     "text": [
      "Accuracy of the network on the test images: 99.89%\n"
     ]
    },
    {
     "data": {
      "text/plain": "  0%|          | 0/1094 [00:00<?, ?it/s]",
      "application/vnd.jupyter.widget-view+json": {
       "version_major": 2,
       "version_minor": 0,
       "model_id": "96223814240841a2ab541d7c58371661"
      }
     },
     "metadata": {},
     "output_type": "display_data"
    },
    {
     "name": "stdout",
     "output_type": "stream",
     "text": [
      "Accuracy of the network on the test images: 99.98%\n"
     ]
    },
    {
     "data": {
      "text/plain": "  0%|          | 0/1094 [00:00<?, ?it/s]",
      "application/vnd.jupyter.widget-view+json": {
       "version_major": 2,
       "version_minor": 0,
       "model_id": "667d41c9be2f4017b5ba8d1223c65977"
      }
     },
     "metadata": {},
     "output_type": "display_data"
    },
    {
     "name": "stdout",
     "output_type": "stream",
     "text": [
      "Accuracy of the network on the test images: 99.97%\n"
     ]
    },
    {
     "data": {
      "text/plain": "  0%|          | 0/1094 [00:00<?, ?it/s]",
      "application/vnd.jupyter.widget-view+json": {
       "version_major": 2,
       "version_minor": 0,
       "model_id": "69d8ff3335f748059de6379ebc0a3dc7"
      }
     },
     "metadata": {},
     "output_type": "display_data"
    },
    {
     "name": "stdout",
     "output_type": "stream",
     "text": [
      "Accuracy of the network on the test images: 99.97%\n"
     ]
    },
    {
     "data": {
      "text/plain": "  0%|          | 0/1094 [00:00<?, ?it/s]",
      "application/vnd.jupyter.widget-view+json": {
       "version_major": 2,
       "version_minor": 0,
       "model_id": "ea6625edddd44c8f8e167f68ca5e1c43"
      }
     },
     "metadata": {},
     "output_type": "display_data"
    },
    {
     "name": "stdout",
     "output_type": "stream",
     "text": [
      "Accuracy of the network on the test images: 99.97%\n"
     ]
    },
    {
     "data": {
      "text/plain": "  0%|          | 0/1094 [00:00<?, ?it/s]",
      "application/vnd.jupyter.widget-view+json": {
       "version_major": 2,
       "version_minor": 0,
       "model_id": "dfbc612a147c43dc8affa4629bf4dee5"
      }
     },
     "metadata": {},
     "output_type": "display_data"
    },
    {
     "name": "stdout",
     "output_type": "stream",
     "text": [
      "Accuracy of the network on the test images: 99.90%\n"
     ]
    },
    {
     "data": {
      "text/plain": "  0%|          | 0/1094 [00:00<?, ?it/s]",
      "application/vnd.jupyter.widget-view+json": {
       "version_major": 2,
       "version_minor": 0,
       "model_id": "be6ffd0b3f084ae08b3d03da1f55fc63"
      }
     },
     "metadata": {},
     "output_type": "display_data"
    },
    {
     "name": "stdout",
     "output_type": "stream",
     "text": [
      "Accuracy of the network on the test images: 99.52%\n"
     ]
    },
    {
     "data": {
      "text/plain": "  0%|          | 0/1094 [00:00<?, ?it/s]",
      "application/vnd.jupyter.widget-view+json": {
       "version_major": 2,
       "version_minor": 0,
       "model_id": "64294642fd884af1acde0ee7565e27a7"
      }
     },
     "metadata": {},
     "output_type": "display_data"
    },
    {
     "name": "stdout",
     "output_type": "stream",
     "text": [
      "Accuracy of the network on the test images: 99.94%\n"
     ]
    },
    {
     "data": {
      "text/plain": "  0%|          | 0/1094 [00:00<?, ?it/s]",
      "application/vnd.jupyter.widget-view+json": {
       "version_major": 2,
       "version_minor": 0,
       "model_id": "4ef1c2a3dd374b2eaa4911f1e460f8e1"
      }
     },
     "metadata": {},
     "output_type": "display_data"
    },
    {
     "name": "stdout",
     "output_type": "stream",
     "text": [
      "Accuracy of the network on the test images: 99.92%\n"
     ]
    },
    {
     "data": {
      "text/plain": "  0%|          | 0/1094 [00:00<?, ?it/s]",
      "application/vnd.jupyter.widget-view+json": {
       "version_major": 2,
       "version_minor": 0,
       "model_id": "516c548ec9fe4f1ea91a2535b2633d54"
      }
     },
     "metadata": {},
     "output_type": "display_data"
    },
    {
     "name": "stdout",
     "output_type": "stream",
     "text": [
      "Accuracy of the network on the test images: 99.90%\n"
     ]
    },
    {
     "data": {
      "text/plain": "  0%|          | 0/1094 [00:00<?, ?it/s]",
      "application/vnd.jupyter.widget-view+json": {
       "version_major": 2,
       "version_minor": 0,
       "model_id": "74eb172e41e140ef9dbd819198a62cf3"
      }
     },
     "metadata": {},
     "output_type": "display_data"
    },
    {
     "name": "stdout",
     "output_type": "stream",
     "text": [
      "Accuracy of the network on the test images: 99.92%\n"
     ]
    },
    {
     "data": {
      "text/plain": "  0%|          | 0/1094 [00:00<?, ?it/s]",
      "application/vnd.jupyter.widget-view+json": {
       "version_major": 2,
       "version_minor": 0,
       "model_id": "0e307d74ef204b6f80da1dbe4ba85e2e"
      }
     },
     "metadata": {},
     "output_type": "display_data"
    },
    {
     "name": "stdout",
     "output_type": "stream",
     "text": [
      "Accuracy of the network on the test images: 99.98%\n"
     ]
    },
    {
     "data": {
      "text/plain": "  0%|          | 0/1094 [00:00<?, ?it/s]",
      "application/vnd.jupyter.widget-view+json": {
       "version_major": 2,
       "version_minor": 0,
       "model_id": "f1ae68a55c4d4e5c8ccf1f2ea6163ddb"
      }
     },
     "metadata": {},
     "output_type": "display_data"
    },
    {
     "name": "stdout",
     "output_type": "stream",
     "text": [
      "Accuracy of the network on the test images: 99.97%\n"
     ]
    },
    {
     "data": {
      "text/plain": "  0%|          | 0/1094 [00:00<?, ?it/s]",
      "application/vnd.jupyter.widget-view+json": {
       "version_major": 2,
       "version_minor": 0,
       "model_id": "db6a7dc236914d488c09e4cf8358328d"
      }
     },
     "metadata": {},
     "output_type": "display_data"
    },
    {
     "name": "stdout",
     "output_type": "stream",
     "text": [
      "Accuracy of the network on the test images: 99.98%\n"
     ]
    },
    {
     "data": {
      "text/plain": "  0%|          | 0/1094 [00:00<?, ?it/s]",
      "application/vnd.jupyter.widget-view+json": {
       "version_major": 2,
       "version_minor": 0,
       "model_id": "d3bf0d27c0c04213b12b617e8f4f9330"
      }
     },
     "metadata": {},
     "output_type": "display_data"
    },
    {
     "name": "stdout",
     "output_type": "stream",
     "text": [
      "Accuracy of the network on the test images: 99.94%\n"
     ]
    },
    {
     "data": {
      "text/plain": "  0%|          | 0/1094 [00:00<?, ?it/s]",
      "application/vnd.jupyter.widget-view+json": {
       "version_major": 2,
       "version_minor": 0,
       "model_id": "06ed2747e4c6413eac91af7c6e2dbe69"
      }
     },
     "metadata": {},
     "output_type": "display_data"
    },
    {
     "name": "stdout",
     "output_type": "stream",
     "text": [
      "Accuracy of the network on the test images: 99.89%\n"
     ]
    },
    {
     "data": {
      "text/plain": "  0%|          | 0/1094 [00:00<?, ?it/s]",
      "application/vnd.jupyter.widget-view+json": {
       "version_major": 2,
       "version_minor": 0,
       "model_id": "33daaae9b6b945999a16df39a84948e3"
      }
     },
     "metadata": {},
     "output_type": "display_data"
    },
    {
     "name": "stdout",
     "output_type": "stream",
     "text": [
      "Accuracy of the network on the test images: 99.94%\n"
     ]
    },
    {
     "data": {
      "text/plain": "  0%|          | 0/1094 [00:00<?, ?it/s]",
      "application/vnd.jupyter.widget-view+json": {
       "version_major": 2,
       "version_minor": 0,
       "model_id": "7dfde107a8614bd6a30c7615ab461cfd"
      }
     },
     "metadata": {},
     "output_type": "display_data"
    },
    {
     "name": "stdout",
     "output_type": "stream",
     "text": [
      "Accuracy of the network on the test images: 99.90%\n"
     ]
    },
    {
     "data": {
      "text/plain": "  0%|          | 0/1094 [00:00<?, ?it/s]",
      "application/vnd.jupyter.widget-view+json": {
       "version_major": 2,
       "version_minor": 0,
       "model_id": "56b61b393eb44a9282aa781bbe802565"
      }
     },
     "metadata": {},
     "output_type": "display_data"
    },
    {
     "name": "stdout",
     "output_type": "stream",
     "text": [
      "Accuracy of the network on the test images: 99.93%\n"
     ]
    },
    {
     "data": {
      "text/plain": "  0%|          | 0/1094 [00:00<?, ?it/s]",
      "application/vnd.jupyter.widget-view+json": {
       "version_major": 2,
       "version_minor": 0,
       "model_id": "f20603c8f13548d4a7671f0cc563a942"
      }
     },
     "metadata": {},
     "output_type": "display_data"
    },
    {
     "name": "stdout",
     "output_type": "stream",
     "text": [
      "Accuracy of the network on the test images: 99.98%\n"
     ]
    },
    {
     "data": {
      "text/plain": "  0%|          | 0/1094 [00:00<?, ?it/s]",
      "application/vnd.jupyter.widget-view+json": {
       "version_major": 2,
       "version_minor": 0,
       "model_id": "23a20433067c4f04b872ea231cb50a1f"
      }
     },
     "metadata": {},
     "output_type": "display_data"
    },
    {
     "name": "stdout",
     "output_type": "stream",
     "text": [
      "Accuracy of the network on the test images: 99.97%\n"
     ]
    },
    {
     "data": {
      "text/plain": "  0%|          | 0/1094 [00:00<?, ?it/s]",
      "application/vnd.jupyter.widget-view+json": {
       "version_major": 2,
       "version_minor": 0,
       "model_id": "6b207d4418bc4c6490bfb000c5bf5181"
      }
     },
     "metadata": {},
     "output_type": "display_data"
    },
    {
     "name": "stdout",
     "output_type": "stream",
     "text": [
      "Accuracy of the network on the test images: 99.91%\n"
     ]
    },
    {
     "data": {
      "text/plain": "  0%|          | 0/1094 [00:00<?, ?it/s]",
      "application/vnd.jupyter.widget-view+json": {
       "version_major": 2,
       "version_minor": 0,
       "model_id": "bf12e40f8d9c407792fcb43fdb60180c"
      }
     },
     "metadata": {},
     "output_type": "display_data"
    },
    {
     "name": "stdout",
     "output_type": "stream",
     "text": [
      "Accuracy of the network on the test images: 99.94%\n"
     ]
    },
    {
     "data": {
      "text/plain": "  0%|          | 0/1094 [00:00<?, ?it/s]",
      "application/vnd.jupyter.widget-view+json": {
       "version_major": 2,
       "version_minor": 0,
       "model_id": "b48b5ac9c83a402bbfd446348bfebc83"
      }
     },
     "metadata": {},
     "output_type": "display_data"
    },
    {
     "name": "stdout",
     "output_type": "stream",
     "text": [
      "Accuracy of the network on the test images: 99.98%\n"
     ]
    },
    {
     "data": {
      "text/plain": "  0%|          | 0/1094 [00:00<?, ?it/s]",
      "application/vnd.jupyter.widget-view+json": {
       "version_major": 2,
       "version_minor": 0,
       "model_id": "9ed3226de7b442c382fefc643a7a85ee"
      }
     },
     "metadata": {},
     "output_type": "display_data"
    },
    {
     "name": "stdout",
     "output_type": "stream",
     "text": [
      "Accuracy of the network on the test images: 99.95%\n"
     ]
    },
    {
     "data": {
      "text/plain": "  0%|          | 0/1094 [00:00<?, ?it/s]",
      "application/vnd.jupyter.widget-view+json": {
       "version_major": 2,
       "version_minor": 0,
       "model_id": "a413538f0f03411b9217f0a11d1a5df9"
      }
     },
     "metadata": {},
     "output_type": "display_data"
    },
    {
     "name": "stdout",
     "output_type": "stream",
     "text": [
      "Accuracy of the network on the test images: 97.41%\n"
     ]
    },
    {
     "data": {
      "text/plain": "  0%|          | 0/1094 [00:00<?, ?it/s]",
      "application/vnd.jupyter.widget-view+json": {
       "version_major": 2,
       "version_minor": 0,
       "model_id": "7616f8919e82432dba28df55b33304dc"
      }
     },
     "metadata": {},
     "output_type": "display_data"
    },
    {
     "name": "stdout",
     "output_type": "stream",
     "text": [
      "Accuracy of the network on the test images: 98.16%\n"
     ]
    },
    {
     "data": {
      "text/plain": "  0%|          | 0/1094 [00:00<?, ?it/s]",
      "application/vnd.jupyter.widget-view+json": {
       "version_major": 2,
       "version_minor": 0,
       "model_id": "80a102d9fb2e44829f7b3a1d0d99a04c"
      }
     },
     "metadata": {},
     "output_type": "display_data"
    },
    {
     "name": "stdout",
     "output_type": "stream",
     "text": [
      "Accuracy of the network on the test images: 98.84%\n"
     ]
    },
    {
     "data": {
      "text/plain": "  0%|          | 0/1094 [00:00<?, ?it/s]",
      "application/vnd.jupyter.widget-view+json": {
       "version_major": 2,
       "version_minor": 0,
       "model_id": "aada2e07e73b47f084cc83419bff5e49"
      }
     },
     "metadata": {},
     "output_type": "display_data"
    },
    {
     "name": "stdout",
     "output_type": "stream",
     "text": [
      "Accuracy of the network on the test images: 99.11%\n"
     ]
    },
    {
     "data": {
      "text/plain": "  0%|          | 0/1094 [00:00<?, ?it/s]",
      "application/vnd.jupyter.widget-view+json": {
       "version_major": 2,
       "version_minor": 0,
       "model_id": "55f6fc37cc8e47d1906ac0d77cf2f473"
      }
     },
     "metadata": {},
     "output_type": "display_data"
    },
    {
     "name": "stdout",
     "output_type": "stream",
     "text": [
      "Accuracy of the network on the test images: 99.01%\n"
     ]
    },
    {
     "data": {
      "text/plain": "  0%|          | 0/1094 [00:00<?, ?it/s]",
      "application/vnd.jupyter.widget-view+json": {
       "version_major": 2,
       "version_minor": 0,
       "model_id": "3b914a66a3fe4e0b8d5a35773cae60d6"
      }
     },
     "metadata": {},
     "output_type": "display_data"
    },
    {
     "name": "stdout",
     "output_type": "stream",
     "text": [
      "Accuracy of the network on the test images: 98.74%\n"
     ]
    },
    {
     "data": {
      "text/plain": "  0%|          | 0/1094 [00:00<?, ?it/s]",
      "application/vnd.jupyter.widget-view+json": {
       "version_major": 2,
       "version_minor": 0,
       "model_id": "97e7759ef669411ea7873eff36cbcc18"
      }
     },
     "metadata": {},
     "output_type": "display_data"
    },
    {
     "name": "stdout",
     "output_type": "stream",
     "text": [
      "Accuracy of the network on the test images: 98.87%\n"
     ]
    },
    {
     "data": {
      "text/plain": "  0%|          | 0/1094 [00:00<?, ?it/s]",
      "application/vnd.jupyter.widget-view+json": {
       "version_major": 2,
       "version_minor": 0,
       "model_id": "da3a39aa38b943f4af2f4d4500c08ac6"
      }
     },
     "metadata": {},
     "output_type": "display_data"
    },
    {
     "name": "stdout",
     "output_type": "stream",
     "text": [
      "Accuracy of the network on the test images: 99.04%\n"
     ]
    },
    {
     "data": {
      "text/plain": "  0%|          | 0/1094 [00:00<?, ?it/s]",
      "application/vnd.jupyter.widget-view+json": {
       "version_major": 2,
       "version_minor": 0,
       "model_id": "cbfe2a67727840fd931f614e39df6b07"
      }
     },
     "metadata": {},
     "output_type": "display_data"
    },
    {
     "name": "stdout",
     "output_type": "stream",
     "text": [
      "Accuracy of the network on the test images: 98.82%\n"
     ]
    },
    {
     "data": {
      "text/plain": "  0%|          | 0/1094 [00:00<?, ?it/s]",
      "application/vnd.jupyter.widget-view+json": {
       "version_major": 2,
       "version_minor": 0,
       "model_id": "edefe60806c645c985634241664bb106"
      }
     },
     "metadata": {},
     "output_type": "display_data"
    },
    {
     "name": "stdout",
     "output_type": "stream",
     "text": [
      "Accuracy of the network on the test images: 99.10%\n"
     ]
    },
    {
     "data": {
      "text/plain": "  0%|          | 0/1094 [00:00<?, ?it/s]",
      "application/vnd.jupyter.widget-view+json": {
       "version_major": 2,
       "version_minor": 0,
       "model_id": "65b019f12b1843c482648b96ab70a3cc"
      }
     },
     "metadata": {},
     "output_type": "display_data"
    },
    {
     "name": "stdout",
     "output_type": "stream",
     "text": [
      "Accuracy of the network on the test images: 99.02%\n"
     ]
    },
    {
     "data": {
      "text/plain": "  0%|          | 0/1094 [00:00<?, ?it/s]",
      "application/vnd.jupyter.widget-view+json": {
       "version_major": 2,
       "version_minor": 0,
       "model_id": "2c78a3c6d4a2491887061f442d5c8aab"
      }
     },
     "metadata": {},
     "output_type": "display_data"
    },
    {
     "name": "stdout",
     "output_type": "stream",
     "text": [
      "Accuracy of the network on the test images: 99.18%\n"
     ]
    },
    {
     "data": {
      "text/plain": "  0%|          | 0/1094 [00:00<?, ?it/s]",
      "application/vnd.jupyter.widget-view+json": {
       "version_major": 2,
       "version_minor": 0,
       "model_id": "523c28f2b0974073a08aa4487ce87d5f"
      }
     },
     "metadata": {},
     "output_type": "display_data"
    },
    {
     "name": "stdout",
     "output_type": "stream",
     "text": [
      "Accuracy of the network on the test images: 99.07%\n"
     ]
    },
    {
     "data": {
      "text/plain": "  0%|          | 0/1094 [00:00<?, ?it/s]",
      "application/vnd.jupyter.widget-view+json": {
       "version_major": 2,
       "version_minor": 0,
       "model_id": "b0cc66378f0c493184e75b54fc9fe6bf"
      }
     },
     "metadata": {},
     "output_type": "display_data"
    },
    {
     "name": "stdout",
     "output_type": "stream",
     "text": [
      "Accuracy of the network on the test images: 98.76%\n"
     ]
    },
    {
     "data": {
      "text/plain": "  0%|          | 0/1094 [00:00<?, ?it/s]",
      "application/vnd.jupyter.widget-view+json": {
       "version_major": 2,
       "version_minor": 0,
       "model_id": "665cb5cd6faa4721845100f2975d4faf"
      }
     },
     "metadata": {},
     "output_type": "display_data"
    },
    {
     "name": "stdout",
     "output_type": "stream",
     "text": [
      "Accuracy of the network on the test images: 99.18%\n"
     ]
    },
    {
     "data": {
      "text/plain": "  0%|          | 0/1094 [00:00<?, ?it/s]",
      "application/vnd.jupyter.widget-view+json": {
       "version_major": 2,
       "version_minor": 0,
       "model_id": "1c13136eed0942abacc77ddd18016f7c"
      }
     },
     "metadata": {},
     "output_type": "display_data"
    },
    {
     "name": "stdout",
     "output_type": "stream",
     "text": [
      "Accuracy of the network on the test images: 99.11%\n"
     ]
    },
    {
     "data": {
      "text/plain": "  0%|          | 0/1094 [00:00<?, ?it/s]",
      "application/vnd.jupyter.widget-view+json": {
       "version_major": 2,
       "version_minor": 0,
       "model_id": "05310274f54b4195b084d4a26f37ee04"
      }
     },
     "metadata": {},
     "output_type": "display_data"
    },
    {
     "name": "stdout",
     "output_type": "stream",
     "text": [
      "Accuracy of the network on the test images: 99.22%\n"
     ]
    },
    {
     "data": {
      "text/plain": "  0%|          | 0/1094 [00:00<?, ?it/s]",
      "application/vnd.jupyter.widget-view+json": {
       "version_major": 2,
       "version_minor": 0,
       "model_id": "e798a0e16bf74412b635c16067c322c2"
      }
     },
     "metadata": {},
     "output_type": "display_data"
    },
    {
     "name": "stdout",
     "output_type": "stream",
     "text": [
      "Accuracy of the network on the test images: 98.69%\n"
     ]
    },
    {
     "data": {
      "text/plain": "  0%|          | 0/1094 [00:00<?, ?it/s]",
      "application/vnd.jupyter.widget-view+json": {
       "version_major": 2,
       "version_minor": 0,
       "model_id": "bc4b33eefba24dc797cec41166fd1362"
      }
     },
     "metadata": {},
     "output_type": "display_data"
    },
    {
     "name": "stdout",
     "output_type": "stream",
     "text": [
      "Accuracy of the network on the test images: 99.09%\n"
     ]
    },
    {
     "data": {
      "text/plain": "  0%|          | 0/1094 [00:00<?, ?it/s]",
      "application/vnd.jupyter.widget-view+json": {
       "version_major": 2,
       "version_minor": 0,
       "model_id": "26c7d4d8cd9b4788bb0f34e7360b1301"
      }
     },
     "metadata": {},
     "output_type": "display_data"
    },
    {
     "name": "stdout",
     "output_type": "stream",
     "text": [
      "Accuracy of the network on the test images: 98.92%\n",
      "Computing principal space ...\n",
      "Computing principal space ...\n",
      "Computing alpha ...\n",
      "Computing alpha ...\n",
      "self.alpha=8.7938\n",
      "self.alpha=8.7938\n",
      "Fitting with temperature scaling\n",
      "label: y1.unique()=tensor([ 0,  1,  2,  3,  4,  5,  6,  7,  8,  9, 10, 11, 12, 13, 14, 15, 16, 17,\n",
      "        18, 19, 20, 21, 22, 23, 24, 25, 26, 27, 28, 29, 30, 31, 32, 33, 34, 35,\n",
      "        36, 37, 38, 39, 40, 41, 42]) logits_label.shape=torch.Size([4209, 43])\n",
      "Initial T/NLL: 1.000/0.003\n",
      "Initial T/NLL: 1.000/0.003\n",
      "Optimal temperature: 1.0003695487976074\n",
      "Optimal temperature: 1.0003695487976074\n",
      "NLL after scaling: 0.00'\n",
      "NLL after scaling: 0.00'\n",
      "color: y2.unique()=tensor([0, 1, 2, 3]) logits_color.shape=torch.Size([4209, 4])\n",
      "Initial T/NLL: 1.000/0.000\n",
      "Initial T/NLL: 1.000/0.000\n",
      "Optimal temperature: 0.9999982118606567\n",
      "Optimal temperature: 0.9999982118606567\n",
      "NLL after scaling: 0.00'\n",
      "NLL after scaling: 0.00'\n",
      "shape: y3.unique()=tensor([0, 1, 2, 3, 4]) logits_shape.shape=torch.Size([4209, 5])\n",
      "Initial T/NLL: 1.000/0.000\n",
      "Initial T/NLL: 1.000/0.000\n",
      "Optimal temperature: 0.9999994039535522\n",
      "Optimal temperature: 0.9999994039535522\n",
      "NLL after scaling: 0.00'\n",
      "NLL after scaling: 0.00'\n",
      "self.scorer_label.t=Parameter containing:\n",
      "tensor(1.0004, requires_grad=True)\n",
      "self.scorer_color.t=Parameter containing:\n",
      "tensor(1.0000, requires_grad=True)\n",
      "self.scorer_shape.t=Parameter containing:\n",
      "tensor(1.0000, requires_grad=True)\n",
      "Fitting with temperature scaling\n"
     ]
    },
    {
     "name": "stderr",
     "output_type": "stream",
     "text": [
      "/home/ki/projects/pytorch-ood/src/pytorch_ood/detector/tscaling.py:84: UserWarning: Implicit dimension choice for log_softmax has been deprecated. Change the call to include dim=X as an argument.\n",
      "  loss = nll_loss(log_softmax(logits / self.t), labels).item()\n",
      "/home/ki/projects/pytorch-ood/src/pytorch_ood/detector/tscaling.py:90: UserWarning: Implicit dimension choice for log_softmax has been deprecated. Change the call to include dim=X as an argument.\n",
      "  loss = nll_loss(log_softmax(logits / self.t), labels)\n",
      "/home/ki/projects/pytorch-ood/src/pytorch_ood/detector/tscaling.py:97: UserWarning: Implicit dimension choice for log_softmax has been deprecated. Change the call to include dim=X as an argument.\n",
      "  loss = nll_loss(log_softmax(logits / self.t), labels).item()\n"
     ]
    },
    {
     "name": "stdout",
     "output_type": "stream",
     "text": [
      "label: y1.unique()=tensor([ 0,  1,  2,  3,  4,  5,  6,  7,  8,  9, 10, 11, 12, 13, 14, 15, 16, 17,\n",
      "        18, 19, 20, 21, 22, 23, 24, 25, 26, 27, 28, 29, 30, 31, 32, 33, 34, 35,\n",
      "        36, 37, 38, 39, 40, 41, 42]) logits_label.shape=torch.Size([4209, 43])\n",
      "Initial T/NLL: 1.000/0.003\n",
      "Initial T/NLL: 1.000/0.003\n",
      "Optimal temperature: 1.0003695487976074\n",
      "Optimal temperature: 1.0003695487976074\n",
      "NLL after scaling: 0.00'\n",
      "NLL after scaling: 0.00'\n",
      "color: y2.unique()=tensor([0, 1, 2, 3]) logits_color.shape=torch.Size([4209, 4])\n",
      "Initial T/NLL: 1.000/0.000\n",
      "Initial T/NLL: 1.000/0.000\n",
      "Optimal temperature: 0.9999982118606567\n",
      "Optimal temperature: 0.9999982118606567\n",
      "NLL after scaling: 0.00'\n",
      "NLL after scaling: 0.00'\n",
      "shape: y3.unique()=tensor([0, 1, 2, 3, 4]) logits_shape.shape=torch.Size([4209, 5])\n",
      "Initial T/NLL: 1.000/0.000\n",
      "Initial T/NLL: 1.000/0.000\n",
      "Optimal temperature: 0.9999994039535522\n",
      "Optimal temperature: 0.9999994039535522\n",
      "NLL after scaling: 0.00'\n",
      "NLL after scaling: 0.00'\n",
      "self.scorer_label.t=Parameter containing:\n",
      "tensor(1.0004, requires_grad=True)\n",
      "self.scorer_color.t=Parameter containing:\n",
      "tensor(1.0000, requires_grad=True)\n",
      "self.scorer_shape.t=Parameter containing:\n",
      "tensor(1.0000, requires_grad=True)\n",
      "{'AUROC': 0.9976720809936523, 'AUPR-IN': 0.9963685870170593, 'AUPR-OUT': 0.9986125826835632, 'FPR95TPR': 0.008867775090038776, 'Method': 'PrologOOD', 'Dataset': 'LSUNCrop'}\n",
      "{'AUROC': 0.9984800815582275, 'AUPR-IN': 0.9977841377258301, 'AUPR-OUT': 0.9991695880889893, 'FPR95TPR': 0.0038796516600996256, 'Method': 'PrologOOD', 'Dataset': 'LSUNResize'}\n",
      "Found 5640 texture files.\n",
      "Found 5640 texture files.\n",
      "{'AUROC': 0.9978277683258057, 'AUPR-IN': 0.9945635199546814, 'AUPR-OUT': 0.9991776943206787, 'FPR95TPR': 0.008788598701357841, 'Method': 'PrologOOD', 'Dataset': 'Textures'}\n",
      "{'AUROC': 0.9978282451629639, 'AUPR-IN': 0.9966955184936523, 'AUPR-OUT': 0.998712420463562, 'FPR95TPR': 0.008551068603992462, 'Method': 'PrologOOD', 'Dataset': 'TinyImageNetCrop'}\n",
      "{'AUROC': 0.9981854557991028, 'AUPR-IN': 0.99738609790802, 'AUPR-OUT': 0.998944878578186, 'FPR95TPR': 0.006254948675632477, 'Method': 'PrologOOD', 'Dataset': 'TinyImageNetResize'}\n",
      "{'AUROC': 0.9990103244781494, 'AUPR-IN': 0.9987531304359436, 'AUPR-OUT': 0.999562680721283, 'FPR95TPR': 0.001979414140805602, 'Method': 'PrologOOD+', 'Dataset': 'LSUNCrop'}\n",
      "{'AUROC': 0.9990103244781494, 'AUPR-IN': 0.9987531304359436, 'AUPR-OUT': 0.999562680721283, 'FPR95TPR': 0.001979414140805602, 'Method': 'PrologOOD+', 'Dataset': 'LSUNResize'}\n",
      "Found 5640 texture files.\n",
      "Found 5640 texture files.\n",
      "{'AUROC': 0.9990041851997375, 'AUPR-IN': 0.9977774620056152, 'AUPR-OUT': 0.9996917247772217, 'FPR95TPR': 0.001979414140805602, 'Method': 'PrologOOD+', 'Dataset': 'Textures'}\n",
      "{'AUROC': 0.9990103244781494, 'AUPR-IN': 0.9987531304359436, 'AUPR-OUT': 0.999562680721283, 'FPR95TPR': 0.001979414140805602, 'Method': 'PrologOOD+', 'Dataset': 'TinyImageNetCrop'}\n",
      "{'AUROC': 0.9990103244781494, 'AUPR-IN': 0.9987531304359436, 'AUPR-OUT': 0.999562680721283, 'FPR95TPR': 0.001979414140805602, 'Method': 'PrologOOD+', 'Dataset': 'TinyImageNetResize'}\n",
      "{'AUROC': 0.9976720809936523, 'AUPR-IN': 0.9963685274124146, 'AUPR-OUT': 0.998612642288208, 'FPR95TPR': 0.008867775090038776, 'Method': 'PrologOODT', 'Dataset': 'LSUNCrop'}\n",
      "{'AUROC': 0.9984800815582275, 'AUPR-IN': 0.9977841973304749, 'AUPR-OUT': 0.9991695880889893, 'FPR95TPR': 0.0038796516600996256, 'Method': 'PrologOODT', 'Dataset': 'LSUNResize'}\n",
      "Found 5640 texture files.\n",
      "Found 5640 texture files.\n",
      "{'AUROC': 0.9978278875350952, 'AUPR-IN': 0.9945634603500366, 'AUPR-OUT': 0.9991778135299683, 'FPR95TPR': 0.008788598701357841, 'Method': 'PrologOODT', 'Dataset': 'Textures'}\n",
      "{'AUROC': 0.9978283047676086, 'AUPR-IN': 0.9966955780982971, 'AUPR-OUT': 0.9987124800682068, 'FPR95TPR': 0.008551068603992462, 'Method': 'PrologOODT', 'Dataset': 'TinyImageNetCrop'}\n",
      "{'AUROC': 0.9981853365898132, 'AUPR-IN': 0.9973859190940857, 'AUPR-OUT': 0.998944878578186, 'FPR95TPR': 0.006254948675632477, 'Method': 'PrologOODT', 'Dataset': 'TinyImageNetResize'}\n",
      "{'AUROC': 0.9990103244781494, 'AUPR-IN': 0.9987531304359436, 'AUPR-OUT': 0.9995627403259277, 'FPR95TPR': 0.001979414140805602, 'Method': 'PrologOODT+', 'Dataset': 'LSUNCrop'}\n",
      "{'AUROC': 0.9990103244781494, 'AUPR-IN': 0.9987531304359436, 'AUPR-OUT': 0.9995627403259277, 'FPR95TPR': 0.001979414140805602, 'Method': 'PrologOODT+', 'Dataset': 'LSUNResize'}\n",
      "Found 5640 texture files.\n",
      "Found 5640 texture files.\n",
      "{'AUROC': 0.9989991188049316, 'AUPR-IN': 0.9977665543556213, 'AUPR-OUT': 0.9996894001960754, 'FPR95TPR': 0.001979414140805602, 'Method': 'PrologOODT+', 'Dataset': 'Textures'}\n",
      "{'AUROC': 0.9990103244781494, 'AUPR-IN': 0.9987531304359436, 'AUPR-OUT': 0.9995627403259277, 'FPR95TPR': 0.001979414140805602, 'Method': 'PrologOODT+', 'Dataset': 'TinyImageNetCrop'}\n",
      "{'AUROC': 0.9990103244781494, 'AUPR-IN': 0.9987531304359436, 'AUPR-OUT': 0.9995627403259277, 'FPR95TPR': 0.001979414140805602, 'Method': 'PrologOODT+', 'Dataset': 'TinyImageNetResize'}\n",
      "{'AUROC': 0.8203102946281433, 'AUPR-IN': 0.8983283042907715, 'AUPR-OUT': 0.8891108632087708, 'FPR95TPR': 1.0, 'Method': 'Logic', 'Dataset': 'LSUNCrop'}\n",
      "{'AUROC': 0.9011602997779846, 'AUPR-IN': 0.9438396692276001, 'AUPR-OUT': 0.932367205619812, 'FPR95TPR': 1.0, 'Method': 'Logic', 'Dataset': 'LSUNResize'}\n",
      "Found 5640 texture files.\n",
      "Found 5640 texture files.\n",
      "{'AUROC': 0.8814570903778076, 'AUPR-IN': 0.9158549308776855, 'AUPR-OUT': 0.952102780342102, 'FPR95TPR': 1.0, 'Method': 'Logic', 'Dataset': 'Textures'}\n",
      "{'AUROC': 0.8443603515625, 'AUPR-IN': 0.9118852615356445, 'AUPR-OUT': 0.9010469317436218, 'FPR95TPR': 1.0, 'Method': 'Logic', 'Dataset': 'TinyImageNetCrop'}\n",
      "{'AUROC': 0.8931602835655212, 'AUPR-IN': 0.9393434524536133, 'AUPR-OUT': 0.9276635050773621, 'FPR95TPR': 1.0, 'Method': 'Logic', 'Dataset': 'TinyImageNetResize'}\n",
      "{'AUROC': 0.9990103244781494, 'AUPR-IN': 0.9987531304359436, 'AUPR-OUT': 0.999562680721283, 'FPR95TPR': 0.001979414140805602, 'Method': 'Logic+', 'Dataset': 'LSUNCrop'}\n",
      "{'AUROC': 0.9990103244781494, 'AUPR-IN': 0.9987531304359436, 'AUPR-OUT': 0.999562680721283, 'FPR95TPR': 0.001979414140805602, 'Method': 'Logic+', 'Dataset': 'LSUNResize'}\n",
      "Found 5640 texture files.\n",
      "Found 5640 texture files.\n",
      "{'AUROC': 0.998389720916748, 'AUPR-IN': 0.9973617196083069, 'AUPR-OUT': 0.9994169473648071, 'FPR95TPR': 0.001979414140805602, 'Method': 'Logic+', 'Dataset': 'Textures'}\n",
      "{'AUROC': 0.9990103244781494, 'AUPR-IN': 0.9987531304359436, 'AUPR-OUT': 0.999562680721283, 'FPR95TPR': 0.001979414140805602, 'Method': 'Logic+', 'Dataset': 'TinyImageNetCrop'}\n",
      "{'AUROC': 0.9990103244781494, 'AUPR-IN': 0.9987531304359436, 'AUPR-OUT': 0.999562680721283, 'FPR95TPR': 0.001979414140805602, 'Method': 'Logic+', 'Dataset': 'TinyImageNetResize'}\n",
      "{'AUROC': 0.9978930950164795, 'AUPR-IN': 0.9967328310012817, 'AUPR-OUT': 0.9985833764076233, 'FPR95TPR': 0.00989707000553608, 'Method': 'Ensemble', 'Dataset': 'LSUNCrop'}\n",
      "{'AUROC': 0.9984662532806396, 'AUPR-IN': 0.9975510239601135, 'AUPR-OUT': 0.9989729523658752, 'FPR95TPR': 0.007759303320199251, 'Method': 'Ensemble', 'Dataset': 'LSUNResize'}\n",
      "Found 5640 texture files.\n",
      "Found 5640 texture files.\n",
      "{'AUROC': 0.9973340034484863, 'AUPR-IN': 0.9927611947059631, 'AUPR-OUT': 0.9989180564880371, 'FPR95TPR': 0.01179730799049139, 'Method': 'Ensemble', 'Dataset': 'Textures'}\n",
      "{'AUROC': 0.9977729916572571, 'AUPR-IN': 0.9965417981147766, 'AUPR-OUT': 0.9985173344612122, 'FPR95TPR': 0.010055423714220524, 'Method': 'Ensemble', 'Dataset': 'TinyImageNetCrop'}\n",
      "{'AUROC': 0.9979579448699951, 'AUPR-IN': 0.996789276599884, 'AUPR-OUT': 0.9986335635185242, 'FPR95TPR': 0.008946951478719711, 'Method': 'Ensemble', 'Dataset': 'TinyImageNetResize'}\n",
      "{'AUROC': 0.9912794828414917, 'AUPR-IN': 0.985460638999939, 'AUPR-OUT': 0.9940041899681091, 'FPR95TPR': 0.021694378927350044, 'Method': 'MSP', 'Dataset': 'LSUNCrop'}\n",
      "{'AUROC': 0.9957181215286255, 'AUPR-IN': 0.9927935600280762, 'AUPR-OUT': 0.9972217679023743, 'FPR95TPR': 0.013380839489400387, 'Method': 'MSP', 'Dataset': 'LSUNResize'}\n",
      "Found 5640 texture files.\n",
      "Found 5640 texture files.\n",
      "{'AUROC': 0.9887912273406982, 'AUPR-IN': 0.9735771417617798, 'AUPR-OUT': 0.9912752509117126, 'FPR95TPR': 0.021773554384708405, 'Method': 'MSP', 'Dataset': 'Textures'}\n",
      "{'AUROC': 0.9923369884490967, 'AUPR-IN': 0.9877718091011047, 'AUPR-OUT': 0.9945379495620728, 'FPR95TPR': 0.020506730303168297, 'Method': 'MSP', 'Dataset': 'TinyImageNetCrop'}\n",
      "{'AUROC': 0.9935795068740845, 'AUPR-IN': 0.9898430109024048, 'AUPR-OUT': 0.9951223731040955, 'FPR95TPR': 0.017498020082712173, 'Method': 'MSP', 'Dataset': 'TinyImageNetResize'}\n",
      "{'AUROC': 0.9940477609634399, 'AUPR-IN': 0.9924818277359009, 'AUPR-OUT': 0.9947818517684937, 'FPR95TPR': 0.015914488583803177, 'Method': 'Energy', 'Dataset': 'LSUNCrop'}\n",
      "{'AUROC': 0.9981448650360107, 'AUPR-IN': 0.9972439408302307, 'AUPR-OUT': 0.9984771609306335, 'FPR95TPR': 0.006967537570744753, 'Method': 'Energy', 'Dataset': 'LSUNResize'}\n",
      "Found 5640 texture files.\n",
      "Found 5640 texture files.\n",
      "{'AUROC': 0.9862604737281799, 'AUPR-IN': 0.9797329902648926, 'AUPR-OUT': 0.9868850708007812, 'FPR95TPR': 0.020585905760526657, 'Method': 'Energy', 'Dataset': 'Textures'}\n",
      "{'AUROC': 0.9950454831123352, 'AUPR-IN': 0.9939243197441101, 'AUPR-OUT': 0.9955781698226929, 'FPR95TPR': 0.014568488113582134, 'Method': 'Energy', 'Dataset': 'TinyImageNetCrop'}\n",
      "{'AUROC': 0.9953860640525818, 'AUPR-IN': 0.9945427179336548, 'AUPR-OUT': 0.9947927594184875, 'FPR95TPR': 0.011559777893126011, 'Method': 'Energy', 'Dataset': 'TinyImageNetResize'}\n",
      "{'AUROC': 0.9940428733825684, 'AUPR-IN': 0.9924793243408203, 'AUPR-OUT': 0.9947618246078491, 'FPR95TPR': 0.015914488583803177, 'Method': 'ReAct', 'Dataset': 'LSUNCrop'}\n",
      "{'AUROC': 0.9981462359428406, 'AUPR-IN': 0.9972460269927979, 'AUPR-OUT': 0.9984753131866455, 'FPR95TPR': 0.006967537570744753, 'Method': 'ReAct', 'Dataset': 'LSUNResize'}\n",
      "Found 5640 texture files.\n",
      "Found 5640 texture files.\n",
      "{'AUROC': 0.9867508411407471, 'AUPR-IN': 0.980130672454834, 'AUPR-OUT': 0.9870409965515137, 'FPR95TPR': 0.020110847428441048, 'Method': 'ReAct', 'Dataset': 'Textures'}\n",
      "{'AUROC': 0.9950652718544006, 'AUPR-IN': 0.9939433336257935, 'AUPR-OUT': 0.9955817461013794, 'FPR95TPR': 0.014568488113582134, 'Method': 'ReAct', 'Dataset': 'TinyImageNetCrop'}\n",
      "{'AUROC': 0.9955095052719116, 'AUPR-IN': 0.9946117401123047, 'AUPR-OUT': 0.9950096011161804, 'FPR95TPR': 0.01163895521312952, 'Method': 'ReAct', 'Dataset': 'TinyImageNetResize'}\n",
      "{'AUROC': 0.969264030456543, 'AUPR-IN': 0.9639666080474854, 'AUPR-OUT': 0.9964812397956848, 'FPR95TPR': 0.06144101172685623, 'Method': 'ViM', 'Dataset': 'LSUNCrop'}\n",
      "{'AUROC': 0.9692794680595398, 'AUPR-IN': 0.963994026184082, 'AUPR-OUT': 0.9978165626525879, 'FPR95TPR': 0.06144101172685623, 'Method': 'ViM', 'Dataset': 'LSUNResize'}\n",
      "Found 5640 texture files.\n",
      "Found 5640 texture files.\n",
      "{'AUROC': 0.9692617058753967, 'AUPR-IN': 0.9394632577896118, 'AUPR-OUT': 0.9989630579948425, 'FPR95TPR': 0.06144101172685623, 'Method': 'ViM', 'Dataset': 'Textures'}\n",
      "{'AUROC': 0.9692550897598267, 'AUPR-IN': 0.9639461040496826, 'AUPR-OUT': 0.9964869618415833, 'FPR95TPR': 0.06144101172685623, 'Method': 'ViM', 'Dataset': 'TinyImageNetCrop'}\n",
      "{'AUROC': 0.9692703485488892, 'AUPR-IN': 0.9639769196510315, 'AUPR-OUT': 0.9974958896636963, 'FPR95TPR': 0.06144101172685623, 'Method': 'ViM', 'Dataset': 'TinyImageNetResize'}\n",
      "{'AUROC': 0.9940896034240723, 'AUPR-IN': 0.9867876172065735, 'AUPR-OUT': 0.9965307712554932, 'FPR95TPR': 0.01821061037480831, 'Method': 'Mahalanobis', 'Dataset': 'LSUNCrop'}\n",
      "{'AUROC': 0.9980027675628662, 'AUPR-IN': 0.9954497814178467, 'AUPR-OUT': 0.9988434314727783, 'FPR95TPR': 0.005542359314858913, 'Method': 'Mahalanobis', 'Dataset': 'LSUNResize'}\n",
      "Found 5640 texture files.\n",
      "Found 5640 texture files.\n",
      "{'AUROC': 0.9969731569290161, 'AUPR-IN': 0.9903243184089661, 'AUPR-OUT': 0.9988412261009216, 'FPR95TPR': 0.010847189463675022, 'Method': 'Mahalanobis', 'Dataset': 'Textures'}\n",
      "{'AUROC': 0.9951792359352112, 'AUPR-IN': 0.9894816875457764, 'AUPR-OUT': 0.9971444010734558, 'FPR95TPR': 0.015201900154352188, 'Method': 'Mahalanobis', 'Dataset': 'TinyImageNetCrop'}\n",
      "{'AUROC': 0.9975870847702026, 'AUPR-IN': 0.9949854612350464, 'AUPR-OUT': 0.9985577464103699, 'FPR95TPR': 0.007759303320199251, 'Method': 'Mahalanobis', 'Dataset': 'TinyImageNetResize'}\n",
      "{'AUROC': 0.9924266338348389, 'AUPR-IN': 0.9886031746864319, 'AUPR-OUT': 0.9944737553596497, 'FPR95TPR': 0.021140143275260925, 'Method': 'Entropy', 'Dataset': 'LSUNCrop'}\n",
      "{'AUROC': 0.9968082308769226, 'AUPR-IN': 0.9949624538421631, 'AUPR-OUT': 0.9977789521217346, 'FPR95TPR': 0.013380839489400387, 'Method': 'Entropy', 'Dataset': 'LSUNResize'}\n",
      "Found 5640 texture files.\n",
      "Found 5640 texture files.\n",
      "{'AUROC': 0.9896659255027771, 'AUPR-IN': 0.9783682823181152, 'AUPR-OUT': 0.9914000034332275, 'FPR95TPR': 0.021456848829984665, 'Method': 'Entropy', 'Dataset': 'Textures'}\n",
      "{'AUROC': 0.9934705495834351, 'AUPR-IN': 0.9905486106872559, 'AUPR-OUT': 0.9950422644615173, 'FPR95TPR': 0.020348377525806427, 'Method': 'Entropy', 'Dataset': 'TinyImageNetCrop'}\n",
      "{'AUROC': 0.9946506023406982, 'AUPR-IN': 0.9923136830329895, 'AUPR-OUT': 0.9955757260322571, 'FPR95TPR': 0.016864608973264694, 'Method': 'Entropy', 'Dataset': 'TinyImageNetResize'}\n",
      "{'AUROC': 0.9937466979026794, 'AUPR-IN': 0.9918330907821655, 'AUPR-OUT': 0.9946290850639343, 'FPR95TPR': 0.015993665903806686, 'Method': 'MaxLogit', 'Dataset': 'LSUNCrop'}\n",
      "{'AUROC': 0.9979557991027832, 'AUPR-IN': 0.9968820810317993, 'AUPR-OUT': 0.9983615875244141, 'FPR95TPR': 0.007205067202448845, 'Method': 'MaxLogit', 'Dataset': 'LSUNResize'}\n",
      "Found 5640 texture files.\n",
      "Found 5640 texture files.\n",
      "{'AUROC': 0.9860938191413879, 'AUPR-IN': 0.9788973331451416, 'AUPR-OUT': 0.9868366718292236, 'FPR95TPR': 0.020506730303168297, 'Method': 'MaxLogit', 'Dataset': 'Textures'}\n",
      "{'AUROC': 0.9947831034660339, 'AUPR-IN': 0.9933810234069824, 'AUPR-OUT': 0.9954348802566528, 'FPR95TPR': 0.014885193668305874, 'Method': 'MaxLogit', 'Dataset': 'TinyImageNetCrop'}\n",
      "{'AUROC': 0.9951658248901367, 'AUPR-IN': 0.9940958619117737, 'AUPR-OUT': 0.9946655035018921, 'FPR95TPR': 0.012509897351264954, 'Method': 'MaxLogit', 'Dataset': 'TinyImageNetResize'}\n"
     ]
    },
    {
     "data": {
      "text/plain": "  0%|          | 0/2657 [00:00<?, ?it/s]",
      "application/vnd.jupyter.widget-view+json": {
       "version_major": 2,
       "version_minor": 0,
       "model_id": "c8d3887c94db49c196b69186242261f7"
      }
     },
     "metadata": {},
     "output_type": "display_data"
    },
    {
     "name": "stdout",
     "output_type": "stream",
     "text": [
      "Accuracy of the sign network on the test images: 100.00%\n"
     ]
    },
    {
     "data": {
      "text/plain": "  0%|          | 0/2657 [00:00<?, ?it/s]",
      "application/vnd.jupyter.widget-view+json": {
       "version_major": 2,
       "version_minor": 0,
       "model_id": "6f6a3805a7824f8fb4aab5e4b66a1995"
      }
     },
     "metadata": {},
     "output_type": "display_data"
    },
    {
     "name": "stdout",
     "output_type": "stream",
     "text": [
      "Accuracy of the sign network on the test images: 99.99%\n"
     ]
    },
    {
     "data": {
      "text/plain": "  0%|          | 0/2657 [00:00<?, ?it/s]",
      "application/vnd.jupyter.widget-view+json": {
       "version_major": 2,
       "version_minor": 0,
       "model_id": "f09bbe9329e6402aa5253646f5096104"
      }
     },
     "metadata": {},
     "output_type": "display_data"
    },
    {
     "name": "stdout",
     "output_type": "stream",
     "text": [
      "Accuracy of the sign network on the test images: 99.96%\n"
     ]
    },
    {
     "data": {
      "text/plain": "  0%|          | 0/2657 [00:00<?, ?it/s]",
      "application/vnd.jupyter.widget-view+json": {
       "version_major": 2,
       "version_minor": 0,
       "model_id": "7d9f76e930704f838e7f6bb656780e0c"
      }
     },
     "metadata": {},
     "output_type": "display_data"
    },
    {
     "name": "stdout",
     "output_type": "stream",
     "text": [
      "Accuracy of the sign network on the test images: 100.00%\n"
     ]
    },
    {
     "data": {
      "text/plain": "  0%|          | 0/2657 [00:00<?, ?it/s]",
      "application/vnd.jupyter.widget-view+json": {
       "version_major": 2,
       "version_minor": 0,
       "model_id": "7168387114f2407d9d6bec3b7b2a2f26"
      }
     },
     "metadata": {},
     "output_type": "display_data"
    },
    {
     "name": "stdout",
     "output_type": "stream",
     "text": [
      "Accuracy of the sign network on the test images: 100.00%\n"
     ]
    },
    {
     "data": {
      "text/plain": "  0%|          | 0/2657 [00:00<?, ?it/s]",
      "application/vnd.jupyter.widget-view+json": {
       "version_major": 2,
       "version_minor": 0,
       "model_id": "f2094e145cda4253bb31cc94094a42e4"
      }
     },
     "metadata": {},
     "output_type": "display_data"
    },
    {
     "name": "stdout",
     "output_type": "stream",
     "text": [
      "Accuracy of the sign network on the test images: 100.00%\n"
     ]
    },
    {
     "data": {
      "text/plain": "  0%|          | 0/2657 [00:00<?, ?it/s]",
      "application/vnd.jupyter.widget-view+json": {
       "version_major": 2,
       "version_minor": 0,
       "model_id": "9bd578139c184bb5afc1f4a556d03b56"
      }
     },
     "metadata": {},
     "output_type": "display_data"
    },
    {
     "name": "stdout",
     "output_type": "stream",
     "text": [
      "Accuracy of the sign network on the test images: 100.00%\n"
     ]
    },
    {
     "data": {
      "text/plain": "  0%|          | 0/2657 [00:00<?, ?it/s]",
      "application/vnd.jupyter.widget-view+json": {
       "version_major": 2,
       "version_minor": 0,
       "model_id": "1817c1274fa344a9aa9d647c0a06bffb"
      }
     },
     "metadata": {},
     "output_type": "display_data"
    },
    {
     "name": "stdout",
     "output_type": "stream",
     "text": [
      "Accuracy of the sign network on the test images: 100.00%\n"
     ]
    },
    {
     "data": {
      "text/plain": "  0%|          | 0/2657 [00:00<?, ?it/s]",
      "application/vnd.jupyter.widget-view+json": {
       "version_major": 2,
       "version_minor": 0,
       "model_id": "213e407347324125893ad1429621cc18"
      }
     },
     "metadata": {},
     "output_type": "display_data"
    },
    {
     "name": "stdout",
     "output_type": "stream",
     "text": [
      "Accuracy of the sign network on the test images: 100.00%\n"
     ]
    },
    {
     "data": {
      "text/plain": "  0%|          | 0/2657 [00:00<?, ?it/s]",
      "application/vnd.jupyter.widget-view+json": {
       "version_major": 2,
       "version_minor": 0,
       "model_id": "dbbf114aca3245c9ab14ebe587e3c100"
      }
     },
     "metadata": {},
     "output_type": "display_data"
    },
    {
     "name": "stdout",
     "output_type": "stream",
     "text": [
      "Accuracy of the sign network on the test images: 100.00%\n"
     ]
    },
    {
     "data": {
      "text/plain": "  0%|          | 0/2657 [00:00<?, ?it/s]",
      "application/vnd.jupyter.widget-view+json": {
       "version_major": 2,
       "version_minor": 0,
       "model_id": "350d1a9301e54ce1a46ab9a03cd91b5b"
      }
     },
     "metadata": {},
     "output_type": "display_data"
    },
    {
     "name": "stdout",
     "output_type": "stream",
     "text": [
      "Accuracy of the sign network on the test images: 100.00%\n"
     ]
    },
    {
     "data": {
      "text/plain": "  0%|          | 0/2657 [00:00<?, ?it/s]",
      "application/vnd.jupyter.widget-view+json": {
       "version_major": 2,
       "version_minor": 0,
       "model_id": "950196bfdfcf4325a28b9c84e2d545d3"
      }
     },
     "metadata": {},
     "output_type": "display_data"
    },
    {
     "name": "stdout",
     "output_type": "stream",
     "text": [
      "Accuracy of the sign network on the test images: 100.00%\n"
     ]
    },
    {
     "data": {
      "text/plain": "  0%|          | 0/2657 [00:00<?, ?it/s]",
      "application/vnd.jupyter.widget-view+json": {
       "version_major": 2,
       "version_minor": 0,
       "model_id": "21e972c531384322af2832497eab2ea1"
      }
     },
     "metadata": {},
     "output_type": "display_data"
    },
    {
     "name": "stdout",
     "output_type": "stream",
     "text": [
      "Accuracy of the sign network on the test images: 99.99%\n"
     ]
    },
    {
     "data": {
      "text/plain": "  0%|          | 0/2657 [00:00<?, ?it/s]",
      "application/vnd.jupyter.widget-view+json": {
       "version_major": 2,
       "version_minor": 0,
       "model_id": "c7355af2a093463eb3d0159dd660d9b4"
      }
     },
     "metadata": {},
     "output_type": "display_data"
    },
    {
     "name": "stdout",
     "output_type": "stream",
     "text": [
      "Accuracy of the sign network on the test images: 99.99%\n"
     ]
    },
    {
     "data": {
      "text/plain": "  0%|          | 0/2657 [00:00<?, ?it/s]",
      "application/vnd.jupyter.widget-view+json": {
       "version_major": 2,
       "version_minor": 0,
       "model_id": "4e2ed857785945f992e7ae00caac5599"
      }
     },
     "metadata": {},
     "output_type": "display_data"
    },
    {
     "name": "stdout",
     "output_type": "stream",
     "text": [
      "Accuracy of the sign network on the test images: 99.99%\n"
     ]
    },
    {
     "data": {
      "text/plain": "  0%|          | 0/2657 [00:00<?, ?it/s]",
      "application/vnd.jupyter.widget-view+json": {
       "version_major": 2,
       "version_minor": 0,
       "model_id": "0fef5aac17af4840a25aac641dca273b"
      }
     },
     "metadata": {},
     "output_type": "display_data"
    },
    {
     "name": "stdout",
     "output_type": "stream",
     "text": [
      "Accuracy of the sign network on the test images: 100.00%\n"
     ]
    },
    {
     "data": {
      "text/plain": "  0%|          | 0/2657 [00:00<?, ?it/s]",
      "application/vnd.jupyter.widget-view+json": {
       "version_major": 2,
       "version_minor": 0,
       "model_id": "1ccda492eadd4f90a8c84055410bb5e3"
      }
     },
     "metadata": {},
     "output_type": "display_data"
    },
    {
     "name": "stdout",
     "output_type": "stream",
     "text": [
      "Accuracy of the sign network on the test images: 99.99%\n"
     ]
    },
    {
     "data": {
      "text/plain": "  0%|          | 0/2657 [00:00<?, ?it/s]",
      "application/vnd.jupyter.widget-view+json": {
       "version_major": 2,
       "version_minor": 0,
       "model_id": "ae0ee9838da64ef0b195ee57be125365"
      }
     },
     "metadata": {},
     "output_type": "display_data"
    },
    {
     "name": "stdout",
     "output_type": "stream",
     "text": [
      "Accuracy of the sign network on the test images: 99.99%\n"
     ]
    },
    {
     "data": {
      "text/plain": "  0%|          | 0/2657 [00:00<?, ?it/s]",
      "application/vnd.jupyter.widget-view+json": {
       "version_major": 2,
       "version_minor": 0,
       "model_id": "2899291f0a654fc29044b505e245b79c"
      }
     },
     "metadata": {},
     "output_type": "display_data"
    },
    {
     "name": "stdout",
     "output_type": "stream",
     "text": [
      "Accuracy of the sign network on the test images: 99.99%\n"
     ]
    },
    {
     "data": {
      "text/plain": "  0%|          | 0/2657 [00:00<?, ?it/s]",
      "application/vnd.jupyter.widget-view+json": {
       "version_major": 2,
       "version_minor": 0,
       "model_id": "446279261f3e4baf929cf8fb5b33cd93"
      }
     },
     "metadata": {},
     "output_type": "display_data"
    },
    {
     "name": "stdout",
     "output_type": "stream",
     "text": [
      "Accuracy of the sign network on the test images: 99.99%\n"
     ]
    },
    {
     "data": {
      "text/plain": "  0%|          | 0/1094 [00:00<?, ?it/s]",
      "application/vnd.jupyter.widget-view+json": {
       "version_major": 2,
       "version_minor": 0,
       "model_id": "c81a693c2c364f349f7b4cf343308dc3"
      }
     },
     "metadata": {},
     "output_type": "display_data"
    },
    {
     "name": "stdout",
     "output_type": "stream",
     "text": [
      "Accuracy of the network on the test images: 99.90%\n"
     ]
    },
    {
     "data": {
      "text/plain": "  0%|          | 0/1094 [00:00<?, ?it/s]",
      "application/vnd.jupyter.widget-view+json": {
       "version_major": 2,
       "version_minor": 0,
       "model_id": "8a7f7ddbae6a4562a629f59038b543dd"
      }
     },
     "metadata": {},
     "output_type": "display_data"
    },
    {
     "name": "stdout",
     "output_type": "stream",
     "text": [
      "Accuracy of the network on the test images: 99.94%\n"
     ]
    },
    {
     "data": {
      "text/plain": "  0%|          | 0/1094 [00:00<?, ?it/s]",
      "application/vnd.jupyter.widget-view+json": {
       "version_major": 2,
       "version_minor": 0,
       "model_id": "db3376e43e33407f9385183c60c19510"
      }
     },
     "metadata": {},
     "output_type": "display_data"
    },
    {
     "name": "stdout",
     "output_type": "stream",
     "text": [
      "Accuracy of the network on the test images: 99.97%\n"
     ]
    },
    {
     "data": {
      "text/plain": "  0%|          | 0/1094 [00:00<?, ?it/s]",
      "application/vnd.jupyter.widget-view+json": {
       "version_major": 2,
       "version_minor": 0,
       "model_id": "b49922638aaa4f4c98222ec957cb18b2"
      }
     },
     "metadata": {},
     "output_type": "display_data"
    },
    {
     "name": "stdout",
     "output_type": "stream",
     "text": [
      "Accuracy of the network on the test images: 99.97%\n"
     ]
    },
    {
     "data": {
      "text/plain": "  0%|          | 0/1094 [00:00<?, ?it/s]",
      "application/vnd.jupyter.widget-view+json": {
       "version_major": 2,
       "version_minor": 0,
       "model_id": "ff495f266dc747d0a4f2df0ba1211467"
      }
     },
     "metadata": {},
     "output_type": "display_data"
    },
    {
     "name": "stdout",
     "output_type": "stream",
     "text": [
      "Accuracy of the network on the test images: 99.98%\n"
     ]
    },
    {
     "data": {
      "text/plain": "  0%|          | 0/1094 [00:00<?, ?it/s]",
      "application/vnd.jupyter.widget-view+json": {
       "version_major": 2,
       "version_minor": 0,
       "model_id": "c9ef60a9579841819123b34246aecc69"
      }
     },
     "metadata": {},
     "output_type": "display_data"
    },
    {
     "name": "stdout",
     "output_type": "stream",
     "text": [
      "Accuracy of the network on the test images: 99.98%\n"
     ]
    },
    {
     "data": {
      "text/plain": "  0%|          | 0/1094 [00:00<?, ?it/s]",
      "application/vnd.jupyter.widget-view+json": {
       "version_major": 2,
       "version_minor": 0,
       "model_id": "0024c9f9a4d84fe88fda4c5ab5ae672f"
      }
     },
     "metadata": {},
     "output_type": "display_data"
    },
    {
     "name": "stdout",
     "output_type": "stream",
     "text": [
      "Accuracy of the network on the test images: 99.90%\n"
     ]
    },
    {
     "data": {
      "text/plain": "  0%|          | 0/1094 [00:00<?, ?it/s]",
      "application/vnd.jupyter.widget-view+json": {
       "version_major": 2,
       "version_minor": 0,
       "model_id": "940b165d538d4c9397aa8acfe449b31b"
      }
     },
     "metadata": {},
     "output_type": "display_data"
    },
    {
     "name": "stdout",
     "output_type": "stream",
     "text": [
      "Accuracy of the network on the test images: 99.97%\n"
     ]
    },
    {
     "data": {
      "text/plain": "  0%|          | 0/1094 [00:00<?, ?it/s]",
      "application/vnd.jupyter.widget-view+json": {
       "version_major": 2,
       "version_minor": 0,
       "model_id": "2e7fad2d03964c08bf943999cada2f71"
      }
     },
     "metadata": {},
     "output_type": "display_data"
    },
    {
     "name": "stdout",
     "output_type": "stream",
     "text": [
      "Accuracy of the network on the test images: 99.97%\n"
     ]
    },
    {
     "data": {
      "text/plain": "  0%|          | 0/1094 [00:00<?, ?it/s]",
      "application/vnd.jupyter.widget-view+json": {
       "version_major": 2,
       "version_minor": 0,
       "model_id": "8c3b2b5121b34789b98a6d03c04c8f50"
      }
     },
     "metadata": {},
     "output_type": "display_data"
    },
    {
     "name": "stdout",
     "output_type": "stream",
     "text": [
      "Accuracy of the network on the test images: 99.97%\n"
     ]
    },
    {
     "data": {
      "text/plain": "  0%|          | 0/1094 [00:00<?, ?it/s]",
      "application/vnd.jupyter.widget-view+json": {
       "version_major": 2,
       "version_minor": 0,
       "model_id": "f1f63195ef994a3a8b42cf3c75af7203"
      }
     },
     "metadata": {},
     "output_type": "display_data"
    },
    {
     "name": "stdout",
     "output_type": "stream",
     "text": [
      "Accuracy of the network on the test images: 99.96%\n"
     ]
    },
    {
     "data": {
      "text/plain": "  0%|          | 0/1094 [00:00<?, ?it/s]",
      "application/vnd.jupyter.widget-view+json": {
       "version_major": 2,
       "version_minor": 0,
       "model_id": "e8897fa62cc44056a5260272a4af6639"
      }
     },
     "metadata": {},
     "output_type": "display_data"
    },
    {
     "name": "stdout",
     "output_type": "stream",
     "text": [
      "Accuracy of the network on the test images: 99.97%\n"
     ]
    },
    {
     "data": {
      "text/plain": "  0%|          | 0/1094 [00:00<?, ?it/s]",
      "application/vnd.jupyter.widget-view+json": {
       "version_major": 2,
       "version_minor": 0,
       "model_id": "d2b9571b1723478bba044ea2683bd207"
      }
     },
     "metadata": {},
     "output_type": "display_data"
    },
    {
     "name": "stdout",
     "output_type": "stream",
     "text": [
      "Accuracy of the network on the test images: 99.97%\n"
     ]
    },
    {
     "data": {
      "text/plain": "  0%|          | 0/1094 [00:00<?, ?it/s]",
      "application/vnd.jupyter.widget-view+json": {
       "version_major": 2,
       "version_minor": 0,
       "model_id": "bd819cba1bb4458fbfaac33733074ea3"
      }
     },
     "metadata": {},
     "output_type": "display_data"
    },
    {
     "name": "stdout",
     "output_type": "stream",
     "text": [
      "Accuracy of the network on the test images: 99.98%\n"
     ]
    },
    {
     "data": {
      "text/plain": "  0%|          | 0/1094 [00:00<?, ?it/s]",
      "application/vnd.jupyter.widget-view+json": {
       "version_major": 2,
       "version_minor": 0,
       "model_id": "38902388982c479eb807d325788b886a"
      }
     },
     "metadata": {},
     "output_type": "display_data"
    },
    {
     "name": "stdout",
     "output_type": "stream",
     "text": [
      "Accuracy of the network on the test images: 99.97%\n"
     ]
    },
    {
     "data": {
      "text/plain": "  0%|          | 0/1094 [00:00<?, ?it/s]",
      "application/vnd.jupyter.widget-view+json": {
       "version_major": 2,
       "version_minor": 0,
       "model_id": "245767365142453984209fcdbd824c0c"
      }
     },
     "metadata": {},
     "output_type": "display_data"
    },
    {
     "name": "stdout",
     "output_type": "stream",
     "text": [
      "Accuracy of the network on the test images: 99.98%\n"
     ]
    },
    {
     "data": {
      "text/plain": "  0%|          | 0/1094 [00:00<?, ?it/s]",
      "application/vnd.jupyter.widget-view+json": {
       "version_major": 2,
       "version_minor": 0,
       "model_id": "f8320eeafca14aeba8bb494b36507bc4"
      }
     },
     "metadata": {},
     "output_type": "display_data"
    },
    {
     "name": "stdout",
     "output_type": "stream",
     "text": [
      "Accuracy of the network on the test images: 99.96%\n"
     ]
    },
    {
     "data": {
      "text/plain": "  0%|          | 0/1094 [00:00<?, ?it/s]",
      "application/vnd.jupyter.widget-view+json": {
       "version_major": 2,
       "version_minor": 0,
       "model_id": "b4843092bb6a4e159567518f866c4660"
      }
     },
     "metadata": {},
     "output_type": "display_data"
    },
    {
     "name": "stdout",
     "output_type": "stream",
     "text": [
      "Accuracy of the network on the test images: 99.97%\n"
     ]
    },
    {
     "data": {
      "text/plain": "  0%|          | 0/1094 [00:00<?, ?it/s]",
      "application/vnd.jupyter.widget-view+json": {
       "version_major": 2,
       "version_minor": 0,
       "model_id": "325e6a464de04c87b08cd8b1e3a46f65"
      }
     },
     "metadata": {},
     "output_type": "display_data"
    },
    {
     "name": "stdout",
     "output_type": "stream",
     "text": [
      "Accuracy of the network on the test images: 99.97%\n"
     ]
    },
    {
     "data": {
      "text/plain": "  0%|          | 0/1094 [00:00<?, ?it/s]",
      "application/vnd.jupyter.widget-view+json": {
       "version_major": 2,
       "version_minor": 0,
       "model_id": "f65eb9f6f15d46b0b8922d685b5f3d04"
      }
     },
     "metadata": {},
     "output_type": "display_data"
    },
    {
     "name": "stdout",
     "output_type": "stream",
     "text": [
      "Accuracy of the network on the test images: 99.95%\n"
     ]
    },
    {
     "data": {
      "text/plain": "  0%|          | 0/1094 [00:00<?, ?it/s]",
      "application/vnd.jupyter.widget-view+json": {
       "version_major": 2,
       "version_minor": 0,
       "model_id": "c729081cf2d3485f847fc7741e2a4701"
      }
     },
     "metadata": {},
     "output_type": "display_data"
    },
    {
     "name": "stdout",
     "output_type": "stream",
     "text": [
      "Accuracy of the network on the test images: 99.89%\n"
     ]
    },
    {
     "data": {
      "text/plain": "  0%|          | 0/1094 [00:00<?, ?it/s]",
      "application/vnd.jupyter.widget-view+json": {
       "version_major": 2,
       "version_minor": 0,
       "model_id": "bf4805aa9850458bb91528f182587fcf"
      }
     },
     "metadata": {},
     "output_type": "display_data"
    },
    {
     "name": "stdout",
     "output_type": "stream",
     "text": [
      "Accuracy of the network on the test images: 99.83%\n"
     ]
    },
    {
     "data": {
      "text/plain": "  0%|          | 0/1094 [00:00<?, ?it/s]",
      "application/vnd.jupyter.widget-view+json": {
       "version_major": 2,
       "version_minor": 0,
       "model_id": "cd329cc00f1344f1ae8019e592e72b3e"
      }
     },
     "metadata": {},
     "output_type": "display_data"
    },
    {
     "name": "stdout",
     "output_type": "stream",
     "text": [
      "Accuracy of the network on the test images: 99.90%\n"
     ]
    },
    {
     "data": {
      "text/plain": "  0%|          | 0/1094 [00:00<?, ?it/s]",
      "application/vnd.jupyter.widget-view+json": {
       "version_major": 2,
       "version_minor": 0,
       "model_id": "87f51c6ae3f04b788419e268ea23012a"
      }
     },
     "metadata": {},
     "output_type": "display_data"
    },
    {
     "name": "stdout",
     "output_type": "stream",
     "text": [
      "Accuracy of the network on the test images: 99.96%\n"
     ]
    },
    {
     "data": {
      "text/plain": "  0%|          | 0/1094 [00:00<?, ?it/s]",
      "application/vnd.jupyter.widget-view+json": {
       "version_major": 2,
       "version_minor": 0,
       "model_id": "6afabf1754b041b0b5abc88183c339f4"
      }
     },
     "metadata": {},
     "output_type": "display_data"
    },
    {
     "name": "stdout",
     "output_type": "stream",
     "text": [
      "Accuracy of the network on the test images: 99.95%\n"
     ]
    },
    {
     "data": {
      "text/plain": "  0%|          | 0/1094 [00:00<?, ?it/s]",
      "application/vnd.jupyter.widget-view+json": {
       "version_major": 2,
       "version_minor": 0,
       "model_id": "ae11b82d25c143c4bf3c57f11f3ea0a9"
      }
     },
     "metadata": {},
     "output_type": "display_data"
    },
    {
     "name": "stdout",
     "output_type": "stream",
     "text": [
      "Accuracy of the network on the test images: 99.88%\n"
     ]
    },
    {
     "data": {
      "text/plain": "  0%|          | 0/1094 [00:00<?, ?it/s]",
      "application/vnd.jupyter.widget-view+json": {
       "version_major": 2,
       "version_minor": 0,
       "model_id": "5fce6cebb84e450ab3a3c0055ccf14ed"
      }
     },
     "metadata": {},
     "output_type": "display_data"
    },
    {
     "name": "stdout",
     "output_type": "stream",
     "text": [
      "Accuracy of the network on the test images: 99.85%\n"
     ]
    },
    {
     "data": {
      "text/plain": "  0%|          | 0/1094 [00:00<?, ?it/s]",
      "application/vnd.jupyter.widget-view+json": {
       "version_major": 2,
       "version_minor": 0,
       "model_id": "23e9bd64eb2b4aeaa5f9773f36099b42"
      }
     },
     "metadata": {},
     "output_type": "display_data"
    },
    {
     "name": "stdout",
     "output_type": "stream",
     "text": [
      "Accuracy of the network on the test images: 99.90%\n"
     ]
    },
    {
     "data": {
      "text/plain": "  0%|          | 0/1094 [00:00<?, ?it/s]",
      "application/vnd.jupyter.widget-view+json": {
       "version_major": 2,
       "version_minor": 0,
       "model_id": "b6bb9504056c4ed3861e8a422ea32034"
      }
     },
     "metadata": {},
     "output_type": "display_data"
    },
    {
     "name": "stdout",
     "output_type": "stream",
     "text": [
      "Accuracy of the network on the test images: 99.94%\n"
     ]
    },
    {
     "data": {
      "text/plain": "  0%|          | 0/1094 [00:00<?, ?it/s]",
      "application/vnd.jupyter.widget-view+json": {
       "version_major": 2,
       "version_minor": 0,
       "model_id": "377ddd3660264087a988291d76e7fcaf"
      }
     },
     "metadata": {},
     "output_type": "display_data"
    },
    {
     "name": "stdout",
     "output_type": "stream",
     "text": [
      "Accuracy of the network on the test images: 99.87%\n"
     ]
    },
    {
     "data": {
      "text/plain": "  0%|          | 0/1094 [00:00<?, ?it/s]",
      "application/vnd.jupyter.widget-view+json": {
       "version_major": 2,
       "version_minor": 0,
       "model_id": "a21469b763ab419186983ec8f2bda6f7"
      }
     },
     "metadata": {},
     "output_type": "display_data"
    },
    {
     "name": "stdout",
     "output_type": "stream",
     "text": [
      "Accuracy of the network on the test images: 99.91%\n"
     ]
    },
    {
     "data": {
      "text/plain": "  0%|          | 0/1094 [00:00<?, ?it/s]",
      "application/vnd.jupyter.widget-view+json": {
       "version_major": 2,
       "version_minor": 0,
       "model_id": "e38bfaa06f984d38849323da24501638"
      }
     },
     "metadata": {},
     "output_type": "display_data"
    },
    {
     "name": "stdout",
     "output_type": "stream",
     "text": [
      "Accuracy of the network on the test images: 99.98%\n"
     ]
    },
    {
     "data": {
      "text/plain": "  0%|          | 0/1094 [00:00<?, ?it/s]",
      "application/vnd.jupyter.widget-view+json": {
       "version_major": 2,
       "version_minor": 0,
       "model_id": "e6d25fa739944ddba52d2d5dbdc7e7dc"
      }
     },
     "metadata": {},
     "output_type": "display_data"
    },
    {
     "name": "stdout",
     "output_type": "stream",
     "text": [
      "Accuracy of the network on the test images: 99.93%\n"
     ]
    },
    {
     "data": {
      "text/plain": "  0%|          | 0/1094 [00:00<?, ?it/s]",
      "application/vnd.jupyter.widget-view+json": {
       "version_major": 2,
       "version_minor": 0,
       "model_id": "2056e79c27004203b06d427a972ee06d"
      }
     },
     "metadata": {},
     "output_type": "display_data"
    },
    {
     "name": "stdout",
     "output_type": "stream",
     "text": [
      "Accuracy of the network on the test images: 99.98%\n"
     ]
    },
    {
     "data": {
      "text/plain": "  0%|          | 0/1094 [00:00<?, ?it/s]",
      "application/vnd.jupyter.widget-view+json": {
       "version_major": 2,
       "version_minor": 0,
       "model_id": "e75be6d9fe4342419ed0654f79aea7aa"
      }
     },
     "metadata": {},
     "output_type": "display_data"
    },
    {
     "name": "stdout",
     "output_type": "stream",
     "text": [
      "Accuracy of the network on the test images: 99.96%\n"
     ]
    },
    {
     "data": {
      "text/plain": "  0%|          | 0/1094 [00:00<?, ?it/s]",
      "application/vnd.jupyter.widget-view+json": {
       "version_major": 2,
       "version_minor": 0,
       "model_id": "14be5acac0964fa697da83a01f0e7945"
      }
     },
     "metadata": {},
     "output_type": "display_data"
    },
    {
     "name": "stdout",
     "output_type": "stream",
     "text": [
      "Accuracy of the network on the test images: 99.98%\n"
     ]
    },
    {
     "data": {
      "text/plain": "  0%|          | 0/1094 [00:00<?, ?it/s]",
      "application/vnd.jupyter.widget-view+json": {
       "version_major": 2,
       "version_minor": 0,
       "model_id": "d71a4c0d53a448b088ec7d5a28d154c1"
      }
     },
     "metadata": {},
     "output_type": "display_data"
    },
    {
     "name": "stdout",
     "output_type": "stream",
     "text": [
      "Accuracy of the network on the test images: 99.92%\n"
     ]
    },
    {
     "data": {
      "text/plain": "  0%|          | 0/1094 [00:00<?, ?it/s]",
      "application/vnd.jupyter.widget-view+json": {
       "version_major": 2,
       "version_minor": 0,
       "model_id": "87311eb2c04e4df48913a94bd9446e20"
      }
     },
     "metadata": {},
     "output_type": "display_data"
    },
    {
     "name": "stdout",
     "output_type": "stream",
     "text": [
      "Accuracy of the network on the test images: 99.94%\n"
     ]
    },
    {
     "data": {
      "text/plain": "  0%|          | 0/1094 [00:00<?, ?it/s]",
      "application/vnd.jupyter.widget-view+json": {
       "version_major": 2,
       "version_minor": 0,
       "model_id": "0b7a30f0b90d4f4e88e22da39ec17dbe"
      }
     },
     "metadata": {},
     "output_type": "display_data"
    },
    {
     "name": "stdout",
     "output_type": "stream",
     "text": [
      "Accuracy of the network on the test images: 99.97%\n"
     ]
    },
    {
     "data": {
      "text/plain": "  0%|          | 0/1094 [00:00<?, ?it/s]",
      "application/vnd.jupyter.widget-view+json": {
       "version_major": 2,
       "version_minor": 0,
       "model_id": "6a71cdd45d304bb9aee7c29dafac7a0a"
      }
     },
     "metadata": {},
     "output_type": "display_data"
    },
    {
     "name": "stdout",
     "output_type": "stream",
     "text": [
      "Accuracy of the network on the test images: 99.94%\n"
     ]
    },
    {
     "data": {
      "text/plain": "  0%|          | 0/1094 [00:00<?, ?it/s]",
      "application/vnd.jupyter.widget-view+json": {
       "version_major": 2,
       "version_minor": 0,
       "model_id": "61e368dc485f4a828b9217455a1e03e2"
      }
     },
     "metadata": {},
     "output_type": "display_data"
    },
    {
     "name": "stdout",
     "output_type": "stream",
     "text": [
      "Accuracy of the network on the test images: 97.58%\n"
     ]
    },
    {
     "data": {
      "text/plain": "  0%|          | 0/1094 [00:00<?, ?it/s]",
      "application/vnd.jupyter.widget-view+json": {
       "version_major": 2,
       "version_minor": 0,
       "model_id": "c486603b14d54b46a40c5a44ebe45630"
      }
     },
     "metadata": {},
     "output_type": "display_data"
    },
    {
     "name": "stdout",
     "output_type": "stream",
     "text": [
      "Accuracy of the network on the test images: 98.57%\n"
     ]
    },
    {
     "data": {
      "text/plain": "  0%|          | 0/1094 [00:00<?, ?it/s]",
      "application/vnd.jupyter.widget-view+json": {
       "version_major": 2,
       "version_minor": 0,
       "model_id": "6478de2e72e34b9aa0da190250c7edfd"
      }
     },
     "metadata": {},
     "output_type": "display_data"
    },
    {
     "name": "stdout",
     "output_type": "stream",
     "text": [
      "Accuracy of the network on the test images: 98.76%\n"
     ]
    },
    {
     "data": {
      "text/plain": "  0%|          | 0/1094 [00:00<?, ?it/s]",
      "application/vnd.jupyter.widget-view+json": {
       "version_major": 2,
       "version_minor": 0,
       "model_id": "3daf9eede73440e09d8d4a3a85266aa4"
      }
     },
     "metadata": {},
     "output_type": "display_data"
    },
    {
     "name": "stdout",
     "output_type": "stream",
     "text": [
      "Accuracy of the network on the test images: 98.81%\n"
     ]
    },
    {
     "data": {
      "text/plain": "  0%|          | 0/1094 [00:00<?, ?it/s]",
      "application/vnd.jupyter.widget-view+json": {
       "version_major": 2,
       "version_minor": 0,
       "model_id": "493133c688ad45b78d802f24f4b2769f"
      }
     },
     "metadata": {},
     "output_type": "display_data"
    },
    {
     "name": "stdout",
     "output_type": "stream",
     "text": [
      "Accuracy of the network on the test images: 98.93%\n"
     ]
    },
    {
     "data": {
      "text/plain": "  0%|          | 0/1094 [00:00<?, ?it/s]",
      "application/vnd.jupyter.widget-view+json": {
       "version_major": 2,
       "version_minor": 0,
       "model_id": "67f417ce009742d09e43efde29409d5e"
      }
     },
     "metadata": {},
     "output_type": "display_data"
    },
    {
     "name": "stdout",
     "output_type": "stream",
     "text": [
      "Accuracy of the network on the test images: 99.05%\n"
     ]
    },
    {
     "data": {
      "text/plain": "  0%|          | 0/1094 [00:00<?, ?it/s]",
      "application/vnd.jupyter.widget-view+json": {
       "version_major": 2,
       "version_minor": 0,
       "model_id": "6733791be88d4ff38be0126ce5d6eac1"
      }
     },
     "metadata": {},
     "output_type": "display_data"
    },
    {
     "name": "stdout",
     "output_type": "stream",
     "text": [
      "Accuracy of the network on the test images: 98.84%\n"
     ]
    },
    {
     "data": {
      "text/plain": "  0%|          | 0/1094 [00:00<?, ?it/s]",
      "application/vnd.jupyter.widget-view+json": {
       "version_major": 2,
       "version_minor": 0,
       "model_id": "712b4f27ccf9461ab01f0567e1b968e7"
      }
     },
     "metadata": {},
     "output_type": "display_data"
    },
    {
     "name": "stdout",
     "output_type": "stream",
     "text": [
      "Accuracy of the network on the test images: 98.76%\n"
     ]
    },
    {
     "data": {
      "text/plain": "  0%|          | 0/1094 [00:00<?, ?it/s]",
      "application/vnd.jupyter.widget-view+json": {
       "version_major": 2,
       "version_minor": 0,
       "model_id": "4e54eb857d4148f48d7b03ddb9dc2ffc"
      }
     },
     "metadata": {},
     "output_type": "display_data"
    },
    {
     "name": "stdout",
     "output_type": "stream",
     "text": [
      "Accuracy of the network on the test images: 99.15%\n"
     ]
    },
    {
     "data": {
      "text/plain": "  0%|          | 0/1094 [00:00<?, ?it/s]",
      "application/vnd.jupyter.widget-view+json": {
       "version_major": 2,
       "version_minor": 0,
       "model_id": "df067dd54e754f0fbe8c442914702403"
      }
     },
     "metadata": {},
     "output_type": "display_data"
    },
    {
     "name": "stdout",
     "output_type": "stream",
     "text": [
      "Accuracy of the network on the test images: 98.91%\n"
     ]
    },
    {
     "data": {
      "text/plain": "  0%|          | 0/1094 [00:00<?, ?it/s]",
      "application/vnd.jupyter.widget-view+json": {
       "version_major": 2,
       "version_minor": 0,
       "model_id": "bacc84b0c89a4ec9b2d2de4f319f485b"
      }
     },
     "metadata": {},
     "output_type": "display_data"
    },
    {
     "name": "stdout",
     "output_type": "stream",
     "text": [
      "Accuracy of the network on the test images: 98.92%\n"
     ]
    },
    {
     "data": {
      "text/plain": "  0%|          | 0/1094 [00:00<?, ?it/s]",
      "application/vnd.jupyter.widget-view+json": {
       "version_major": 2,
       "version_minor": 0,
       "model_id": "cbca8d23b4c7418b85455dd1b937d44a"
      }
     },
     "metadata": {},
     "output_type": "display_data"
    },
    {
     "name": "stdout",
     "output_type": "stream",
     "text": [
      "Accuracy of the network on the test images: 98.92%\n"
     ]
    },
    {
     "data": {
      "text/plain": "  0%|          | 0/1094 [00:00<?, ?it/s]",
      "application/vnd.jupyter.widget-view+json": {
       "version_major": 2,
       "version_minor": 0,
       "model_id": "bbd0f0b73dd54ddbbe19d39072e5afd0"
      }
     },
     "metadata": {},
     "output_type": "display_data"
    },
    {
     "name": "stdout",
     "output_type": "stream",
     "text": [
      "Accuracy of the network on the test images: 99.04%\n"
     ]
    },
    {
     "data": {
      "text/plain": "  0%|          | 0/1094 [00:00<?, ?it/s]",
      "application/vnd.jupyter.widget-view+json": {
       "version_major": 2,
       "version_minor": 0,
       "model_id": "80c21c8a0ae9426dbf1c9b2719787718"
      }
     },
     "metadata": {},
     "output_type": "display_data"
    },
    {
     "name": "stdout",
     "output_type": "stream",
     "text": [
      "Accuracy of the network on the test images: 99.05%\n"
     ]
    },
    {
     "data": {
      "text/plain": "  0%|          | 0/1094 [00:00<?, ?it/s]",
      "application/vnd.jupyter.widget-view+json": {
       "version_major": 2,
       "version_minor": 0,
       "model_id": "5631849d6c4841efa897c8f293015232"
      }
     },
     "metadata": {},
     "output_type": "display_data"
    },
    {
     "name": "stdout",
     "output_type": "stream",
     "text": [
      "Accuracy of the network on the test images: 99.22%\n"
     ]
    },
    {
     "data": {
      "text/plain": "  0%|          | 0/1094 [00:00<?, ?it/s]",
      "application/vnd.jupyter.widget-view+json": {
       "version_major": 2,
       "version_minor": 0,
       "model_id": "fbef6f9698ca4630a9e733b08c39dde1"
      }
     },
     "metadata": {},
     "output_type": "display_data"
    },
    {
     "name": "stdout",
     "output_type": "stream",
     "text": [
      "Accuracy of the network on the test images: 99.26%\n"
     ]
    },
    {
     "data": {
      "text/plain": "  0%|          | 0/1094 [00:00<?, ?it/s]",
      "application/vnd.jupyter.widget-view+json": {
       "version_major": 2,
       "version_minor": 0,
       "model_id": "6c4dc497512f4d50acb1c5f453326683"
      }
     },
     "metadata": {},
     "output_type": "display_data"
    },
    {
     "name": "stdout",
     "output_type": "stream",
     "text": [
      "Accuracy of the network on the test images: 99.14%\n"
     ]
    },
    {
     "data": {
      "text/plain": "  0%|          | 0/1094 [00:00<?, ?it/s]",
      "application/vnd.jupyter.widget-view+json": {
       "version_major": 2,
       "version_minor": 0,
       "model_id": "aacea7175cbd4cd0bd7f1ba3ce1fcb98"
      }
     },
     "metadata": {},
     "output_type": "display_data"
    },
    {
     "name": "stdout",
     "output_type": "stream",
     "text": [
      "Accuracy of the network on the test images: 99.15%\n"
     ]
    },
    {
     "data": {
      "text/plain": "  0%|          | 0/1094 [00:00<?, ?it/s]",
      "application/vnd.jupyter.widget-view+json": {
       "version_major": 2,
       "version_minor": 0,
       "model_id": "9b82109caa3346488f01ec3fff75cc6e"
      }
     },
     "metadata": {},
     "output_type": "display_data"
    },
    {
     "name": "stdout",
     "output_type": "stream",
     "text": [
      "Accuracy of the network on the test images: 99.08%\n"
     ]
    },
    {
     "data": {
      "text/plain": "  0%|          | 0/1094 [00:00<?, ?it/s]",
      "application/vnd.jupyter.widget-view+json": {
       "version_major": 2,
       "version_minor": 0,
       "model_id": "4fe46c8c40af4489b61752be266d9092"
      }
     },
     "metadata": {},
     "output_type": "display_data"
    },
    {
     "name": "stdout",
     "output_type": "stream",
     "text": [
      "Accuracy of the network on the test images: 99.29%\n",
      "Computing principal space ...\n",
      "Computing principal space ...\n",
      "Computing alpha ...\n",
      "Computing alpha ...\n",
      "self.alpha=9.0916\n",
      "self.alpha=9.0916\n",
      "Fitting with temperature scaling\n",
      "label: y1.unique()=tensor([ 0,  1,  2,  3,  4,  5,  6,  7,  8,  9, 10, 11, 12, 13, 14, 15, 16, 17,\n",
      "        18, 19, 20, 21, 22, 23, 24, 25, 26, 27, 28, 29, 30, 31, 32, 33, 34, 35,\n",
      "        36, 37, 38, 39, 40, 41, 42]) logits_label.shape=torch.Size([4209, 43])\n",
      "Initial T/NLL: 1.000/0.004\n",
      "Initial T/NLL: 1.000/0.004\n",
      "Optimal temperature: 1.0009641647338867\n",
      "Optimal temperature: 1.0009641647338867\n",
      "NLL after scaling: 0.00'\n",
      "NLL after scaling: 0.00'\n",
      "color: y2.unique()=tensor([0, 1, 2, 3]) logits_color.shape=torch.Size([4209, 4])\n",
      "Initial T/NLL: 1.000/0.000\n",
      "Initial T/NLL: 1.000/0.000\n",
      "Optimal temperature: 0.9999989867210388\n",
      "Optimal temperature: 0.9999989867210388\n",
      "NLL after scaling: 0.00'\n",
      "NLL after scaling: 0.00'\n",
      "shape: y3.unique()=tensor([0, 1, 2, 3, 4]) logits_shape.shape=torch.Size([4209, 5])\n",
      "Initial T/NLL: 1.000/0.000\n",
      "Initial T/NLL: 1.000/0.000\n",
      "Optimal temperature: 0.9999991655349731\n",
      "Optimal temperature: 0.9999991655349731\n",
      "NLL after scaling: 0.00'\n",
      "NLL after scaling: 0.00'\n",
      "self.scorer_label.t=Parameter containing:\n",
      "tensor(1.0010, requires_grad=True)\n",
      "self.scorer_color.t=Parameter containing:\n",
      "tensor(1.0000, requires_grad=True)\n",
      "self.scorer_shape.t=Parameter containing:\n",
      "tensor(1.0000, requires_grad=True)\n",
      "Fitting with temperature scaling\n"
     ]
    },
    {
     "name": "stderr",
     "output_type": "stream",
     "text": [
      "/home/ki/projects/pytorch-ood/src/pytorch_ood/detector/tscaling.py:84: UserWarning: Implicit dimension choice for log_softmax has been deprecated. Change the call to include dim=X as an argument.\n",
      "  loss = nll_loss(log_softmax(logits / self.t), labels).item()\n",
      "/home/ki/projects/pytorch-ood/src/pytorch_ood/detector/tscaling.py:90: UserWarning: Implicit dimension choice for log_softmax has been deprecated. Change the call to include dim=X as an argument.\n",
      "  loss = nll_loss(log_softmax(logits / self.t), labels)\n",
      "/home/ki/projects/pytorch-ood/src/pytorch_ood/detector/tscaling.py:97: UserWarning: Implicit dimension choice for log_softmax has been deprecated. Change the call to include dim=X as an argument.\n",
      "  loss = nll_loss(log_softmax(logits / self.t), labels).item()\n"
     ]
    },
    {
     "name": "stdout",
     "output_type": "stream",
     "text": [
      "label: y1.unique()=tensor([ 0,  1,  2,  3,  4,  5,  6,  7,  8,  9, 10, 11, 12, 13, 14, 15, 16, 17,\n",
      "        18, 19, 20, 21, 22, 23, 24, 25, 26, 27, 28, 29, 30, 31, 32, 33, 34, 35,\n",
      "        36, 37, 38, 39, 40, 41, 42]) logits_label.shape=torch.Size([4209, 43])\n",
      "Initial T/NLL: 1.000/0.004\n",
      "Initial T/NLL: 1.000/0.004\n",
      "Optimal temperature: 1.0009641647338867\n",
      "Optimal temperature: 1.0009641647338867\n",
      "NLL after scaling: 0.00'\n",
      "NLL after scaling: 0.00'\n",
      "color: y2.unique()=tensor([0, 1, 2, 3]) logits_color.shape=torch.Size([4209, 4])\n",
      "Initial T/NLL: 1.000/0.000\n",
      "Initial T/NLL: 1.000/0.000\n",
      "Optimal temperature: 0.9999989867210388\n",
      "Optimal temperature: 0.9999989867210388\n",
      "NLL after scaling: 0.00'\n",
      "NLL after scaling: 0.00'\n",
      "shape: y3.unique()=tensor([0, 1, 2, 3, 4]) logits_shape.shape=torch.Size([4209, 5])\n",
      "Initial T/NLL: 1.000/0.000\n",
      "Initial T/NLL: 1.000/0.000\n",
      "Optimal temperature: 0.9999991655349731\n",
      "Optimal temperature: 0.9999991655349731\n",
      "NLL after scaling: 0.00'\n",
      "NLL after scaling: 0.00'\n",
      "self.scorer_label.t=Parameter containing:\n",
      "tensor(1.0010, requires_grad=True)\n",
      "self.scorer_color.t=Parameter containing:\n",
      "tensor(1.0000, requires_grad=True)\n",
      "self.scorer_shape.t=Parameter containing:\n",
      "tensor(1.0000, requires_grad=True)\n",
      "{'AUROC': 0.9984949827194214, 'AUPR-IN': 0.9976702928543091, 'AUPR-OUT': 0.9990683794021606, 'FPR95TPR': 0.006175771821290255, 'Method': 'PrologOOD', 'Dataset': 'LSUNCrop'}\n",
      "{'AUROC': 0.9992225170135498, 'AUPR-IN': 0.9988607168197632, 'AUPR-OUT': 0.9995898008346558, 'FPR95TPR': 0.0012668250128626823, 'Method': 'PrologOOD', 'Dataset': 'LSUNResize'}\n",
      "Found 5640 texture files.\n",
      "Found 5640 texture files.\n",
      "{'AUROC': 0.9985212087631226, 'AUPR-IN': 0.9963237047195435, 'AUPR-OUT': 0.9994157552719116, 'FPR95TPR': 0.0057798889465630054, 'Method': 'PrologOOD', 'Dataset': 'Textures'}\n",
      "{'AUROC': 0.9987620711326599, 'AUPR-IN': 0.9981150031089783, 'AUPR-OUT': 0.9992548227310181, 'FPR95TPR': 0.00467141717672348, 'Method': 'PrologOOD', 'Dataset': 'TinyImageNetCrop'}\n",
      "{'AUROC': 0.9989856481552124, 'AUPR-IN': 0.9985135197639465, 'AUPR-OUT': 0.9994125962257385, 'FPR95TPR': 0.002692003268748522, 'Method': 'PrologOOD', 'Dataset': 'TinyImageNetResize'}\n",
      "{'AUROC': 0.999406099319458, 'AUPR-IN': 0.9992508888244629, 'AUPR-OUT': 0.999737560749054, 'FPR95TPR': 0.0011876485077664256, 'Method': 'PrologOOD+', 'Dataset': 'LSUNCrop'}\n",
      "{'AUROC': 0.9994062185287476, 'AUPR-IN': 0.999251127243042, 'AUPR-OUT': 0.9997376799583435, 'FPR95TPR': 0.0011876485077664256, 'Method': 'PrologOOD+', 'Dataset': 'LSUNResize'}\n",
      "Found 5640 texture files.\n",
      "Found 5640 texture files.\n",
      "{'AUROC': 0.9993987083435059, 'AUPR-IN': 0.9986553192138672, 'AUPR-OUT': 0.9998133182525635, 'FPR95TPR': 0.0011876485077664256, 'Method': 'PrologOOD+', 'Dataset': 'Textures'}\n",
      "{'AUROC': 0.9994062185287476, 'AUPR-IN': 0.999251127243042, 'AUPR-OUT': 0.9997376799583435, 'FPR95TPR': 0.0011876485077664256, 'Method': 'PrologOOD+', 'Dataset': 'TinyImageNetCrop'}\n",
      "{'AUROC': 0.9994062185287476, 'AUPR-IN': 0.999251127243042, 'AUPR-OUT': 0.9997376799583435, 'FPR95TPR': 0.0011876485077664256, 'Method': 'PrologOOD+', 'Dataset': 'TinyImageNetResize'}\n",
      "{'AUROC': 0.9984948039054871, 'AUPR-IN': 0.99767005443573, 'AUPR-OUT': 0.9990682601928711, 'FPR95TPR': 0.006175771821290255, 'Method': 'PrologOODT', 'Dataset': 'LSUNCrop'}\n",
      "{'AUROC': 0.9992227554321289, 'AUPR-IN': 0.9988608956336975, 'AUPR-OUT': 0.9995899796485901, 'FPR95TPR': 0.0012668250128626823, 'Method': 'PrologOODT', 'Dataset': 'LSUNResize'}\n",
      "Found 5640 texture files.\n",
      "Found 5640 texture files.\n",
      "{'AUROC': 0.9985215663909912, 'AUPR-IN': 0.996323823928833, 'AUPR-OUT': 0.9994158744812012, 'FPR95TPR': 0.0057798889465630054, 'Method': 'PrologOODT', 'Dataset': 'Textures'}\n",
      "{'AUROC': 0.9987621307373047, 'AUPR-IN': 0.9981151223182678, 'AUPR-OUT': 0.9992548227310181, 'FPR95TPR': 0.00467141717672348, 'Method': 'PrologOODT', 'Dataset': 'TinyImageNetCrop'}\n",
      "{'AUROC': 0.9989857077598572, 'AUPR-IN': 0.9985135793685913, 'AUPR-OUT': 0.9994127750396729, 'FPR95TPR': 0.002692003268748522, 'Method': 'PrologOODT', 'Dataset': 'TinyImageNetResize'}\n",
      "{'AUROC': 0.999406099319458, 'AUPR-IN': 0.9992508888244629, 'AUPR-OUT': 0.9997374415397644, 'FPR95TPR': 0.0011876485077664256, 'Method': 'PrologOODT+', 'Dataset': 'LSUNCrop'}\n",
      "{'AUROC': 0.9994061589241028, 'AUPR-IN': 0.999251127243042, 'AUPR-OUT': 0.9997376203536987, 'FPR95TPR': 0.0011876485077664256, 'Method': 'PrologOODT+', 'Dataset': 'LSUNResize'}\n",
      "Found 5640 texture files.\n",
      "Found 5640 texture files.\n",
      "{'AUROC': 0.9993849992752075, 'AUPR-IN': 0.9986270666122437, 'AUPR-OUT': 0.9998071193695068, 'FPR95TPR': 0.0011876485077664256, 'Method': 'PrologOODT+', 'Dataset': 'Textures'}\n",
      "{'AUROC': 0.9994061589241028, 'AUPR-IN': 0.999251127243042, 'AUPR-OUT': 0.9997376203536987, 'FPR95TPR': 0.0011876485077664256, 'Method': 'PrologOODT+', 'Dataset': 'TinyImageNetCrop'}\n",
      "{'AUROC': 0.9994061589241028, 'AUPR-IN': 0.999251127243042, 'AUPR-OUT': 0.9997376203536987, 'FPR95TPR': 0.0011876485077664256, 'Method': 'PrologOODT+', 'Dataset': 'TinyImageNetResize'}\n",
      "{'AUROC': 0.8061957955360413, 'AUPR-IN': 0.891007125377655, 'AUPR-OUT': 0.8824988603591919, 'FPR95TPR': 1.0, 'Method': 'Logic', 'Dataset': 'LSUNCrop'}\n",
      "{'AUROC': 0.9055957198143005, 'AUPR-IN': 0.9467612504959106, 'AUPR-OUT': 0.9349996447563171, 'FPR95TPR': 1.0, 'Method': 'Logic', 'Dataset': 'LSUNResize'}\n",
      "Found 5640 texture files.\n",
      "Found 5640 texture files.\n",
      "{'AUROC': 0.8583110570907593, 'AUPR-IN': 0.9007107019424438, 'AUPR-OUT': 0.943804144859314, 'FPR95TPR': 1.0, 'Method': 'Logic', 'Dataset': 'Textures'}\n",
      "{'AUROC': 0.8387957811355591, 'AUPR-IN': 0.9093105792999268, 'AUPR-OUT': 0.8982641100883484, 'FPR95TPR': 1.0, 'Method': 'Logic', 'Dataset': 'TinyImageNetCrop'}\n",
      "{'AUROC': 0.8844957947731018, 'AUPR-IN': 0.9349381327629089, 'AUPR-OUT': 0.9226850271224976, 'FPR95TPR': 1.0, 'Method': 'Logic', 'Dataset': 'TinyImageNetResize'}\n",
      "{'AUROC': 0.9993062019348145, 'AUPR-IN': 0.9991952180862427, 'AUPR-OUT': 0.9996583461761475, 'FPR95TPR': 0.0011876485077664256, 'Method': 'Logic+', 'Dataset': 'LSUNCrop'}\n",
      "{'AUROC': 0.9994062185287476, 'AUPR-IN': 0.999251127243042, 'AUPR-OUT': 0.9997376203536987, 'FPR95TPR': 0.0011876485077664256, 'Method': 'Logic+', 'Dataset': 'LSUNResize'}\n",
      "Found 5640 texture files.\n",
      "Found 5640 texture files.\n",
      "{'AUROC': 0.9985196590423584, 'AUPR-IN': 0.998058557510376, 'AUPR-OUT': 0.999420702457428, 'FPR95TPR': 0.0011876485077664256, 'Method': 'Logic+', 'Dataset': 'Textures'}\n",
      "{'AUROC': 0.9994062185287476, 'AUPR-IN': 0.999251127243042, 'AUPR-OUT': 0.9997376203536987, 'FPR95TPR': 0.0011876485077664256, 'Method': 'Logic+', 'Dataset': 'TinyImageNetCrop'}\n",
      "{'AUROC': 0.9994062185287476, 'AUPR-IN': 0.999251127243042, 'AUPR-OUT': 0.9997376203536987, 'FPR95TPR': 0.0011876485077664256, 'Method': 'Logic+', 'Dataset': 'TinyImageNetResize'}\n",
      "{'AUROC': 0.9985204935073853, 'AUPR-IN': 0.9978954195976257, 'AUPR-OUT': 0.9989750981330872, 'FPR95TPR': 0.007600950077176094, 'Method': 'Ensemble', 'Dataset': 'LSUNCrop'}\n",
      "{'AUROC': 0.9992887377738953, 'AUPR-IN': 0.9989925026893616, 'AUPR-OUT': 0.9995017051696777, 'FPR95TPR': 0.004196357913315296, 'Method': 'Ensemble', 'Dataset': 'LSUNResize'}\n",
      "Found 5640 texture files.\n",
      "Found 5640 texture files.\n",
      "{'AUROC': 0.9979079961776733, 'AUPR-IN': 0.994675874710083, 'AUPR-OUT': 0.9991347193717957, 'FPR95TPR': 0.009026127867400646, 'Method': 'Ensemble', 'Dataset': 'Textures'}\n",
      "{'AUROC': 0.9988197684288025, 'AUPR-IN': 0.998349666595459, 'AUPR-OUT': 0.9991689324378967, 'FPR95TPR': 0.006334125064313412, 'Method': 'Ensemble', 'Dataset': 'TinyImageNetCrop'}\n",
      "{'AUROC': 0.9988272786140442, 'AUPR-IN': 0.9983152151107788, 'AUPR-OUT': 0.9991893172264099, 'FPR95TPR': 0.006254948675632477, 'Method': 'Ensemble', 'Dataset': 'TinyImageNetResize'}\n",
      "{'AUROC': 0.9952920079231262, 'AUPR-IN': 0.9930636286735535, 'AUPR-OUT': 0.9965119361877441, 'FPR95TPR': 0.016706254333257675, 'Method': 'MSP', 'Dataset': 'LSUNCrop'}\n",
      "{'AUROC': 0.9945406317710876, 'AUPR-IN': 0.9918758869171143, 'AUPR-OUT': 0.9961114525794983, 'FPR95TPR': 0.01860649324953556, 'Method': 'MSP', 'Dataset': 'LSUNResize'}\n",
      "Found 5640 texture files.\n",
      "Found 5640 texture files.\n",
      "{'AUROC': 0.9910597801208496, 'AUPR-IN': 0.9815876483917236, 'AUPR-OUT': 0.9931690096855164, 'FPR95TPR': 0.02351543866097927, 'Method': 'MSP', 'Dataset': 'Textures'}\n",
      "{'AUROC': 0.996820330619812, 'AUPR-IN': 0.9953879714012146, 'AUPR-OUT': 0.9978220462799072, 'FPR95TPR': 0.013697545975446701, 'Method': 'MSP', 'Dataset': 'TinyImageNetCrop'}\n",
      "{'AUROC': 0.9937206506729126, 'AUPR-IN': 0.9906761050224304, 'AUPR-OUT': 0.9946529865264893, 'FPR95TPR': 0.020744260400533676, 'Method': 'MSP', 'Dataset': 'TinyImageNetResize'}\n",
      "{'AUROC': 0.9968353509902954, 'AUPR-IN': 0.9961846470832825, 'AUPR-OUT': 0.9971647262573242, 'FPR95TPR': 0.009422010742127895, 'Method': 'Energy', 'Dataset': 'LSUNCrop'}\n",
      "{'AUROC': 0.9960986375808716, 'AUPR-IN': 0.9957798719406128, 'AUPR-OUT': 0.9959238171577454, 'FPR95TPR': 0.009817893616855145, 'Method': 'Energy', 'Dataset': 'LSUNResize'}\n",
      "Found 5640 texture files.\n",
      "Found 5640 texture files.\n",
      "{'AUROC': 0.9891937971115112, 'AUPR-IN': 0.9854949712753296, 'AUPR-OUT': 0.9908401966094971, 'FPR95TPR': 0.014726840890944004, 'Method': 'Energy', 'Dataset': 'Textures'}\n",
      "{'AUROC': 0.998449444770813, 'AUPR-IN': 0.9981667995452881, 'AUPR-OUT': 0.9986875057220459, 'FPR95TPR': 0.004592240788042545, 'Method': 'Energy', 'Dataset': 'TinyImageNetCrop'}\n",
      "{'AUROC': 0.9949517250061035, 'AUPR-IN': 0.9946451187133789, 'AUPR-OUT': 0.9942987561225891, 'FPR95TPR': 0.01219319086521864, 'Method': 'Energy', 'Dataset': 'TinyImageNetResize'}\n",
      "{'AUROC': 0.996843159198761, 'AUPR-IN': 0.996193528175354, 'AUPR-OUT': 0.9971697330474854, 'FPR95TPR': 0.009422010742127895, 'Method': 'ReAct', 'Dataset': 'LSUNCrop'}\n",
      "{'AUROC': 0.9961087703704834, 'AUPR-IN': 0.99578458070755, 'AUPR-OUT': 0.995965838432312, 'FPR95TPR': 0.009817893616855145, 'Method': 'ReAct', 'Dataset': 'LSUNResize'}\n",
      "Found 5640 texture files.\n",
      "Found 5640 texture files.\n",
      "{'AUROC': 0.9895732402801514, 'AUPR-IN': 0.9858116507530212, 'AUPR-OUT': 0.9912310838699341, 'FPR95TPR': 0.01464766450226307, 'Method': 'ReAct', 'Dataset': 'Textures'}\n",
      "{'AUROC': 0.998449444770813, 'AUPR-IN': 0.9981669783592224, 'AUPR-OUT': 0.9986874461174011, 'FPR95TPR': 0.004592240788042545, 'Method': 'ReAct', 'Dataset': 'TinyImageNetCrop'}\n",
      "{'AUROC': 0.9949792623519897, 'AUPR-IN': 0.9946596622467041, 'AUPR-OUT': 0.9943301677703857, 'FPR95TPR': 0.01219319086521864, 'Method': 'ReAct', 'Dataset': 'TinyImageNetResize'}\n",
      "{'AUROC': 0.9704796075820923, 'AUPR-IN': 0.9652824401855469, 'AUPR-OUT': 0.9972012639045715, 'FPR95TPR': 0.058986540883779526, 'Method': 'ViM', 'Dataset': 'LSUNCrop'}\n",
      "{'AUROC': 0.9705067276954651, 'AUPR-IN': 0.9653327465057373, 'AUPR-OUT': 0.9988391399383545, 'FPR95TPR': 0.058986540883779526, 'Method': 'ViM', 'Dataset': 'LSUNResize'}\n",
      "Found 5640 texture files.\n",
      "Found 5640 texture files.\n",
      "{'AUROC': 0.9705067276954651, 'AUPR-IN': 0.9416601657867432, 'AUPR-OUT': 0.9993941187858582, 'FPR95TPR': 0.058986540883779526, 'Method': 'ViM', 'Dataset': 'Textures'}\n",
      "{'AUROC': 0.9704991579055786, 'AUPR-IN': 0.9653174877166748, 'AUPR-OUT': 0.9969488978385925, 'FPR95TPR': 0.058986540883779526, 'Method': 'ViM', 'Dataset': 'TinyImageNetCrop'}\n",
      "{'AUROC': 0.970493495464325, 'AUPR-IN': 0.965311586856842, 'AUPR-OUT': 0.9986569881439209, 'FPR95TPR': 0.058986540883779526, 'Method': 'ViM', 'Dataset': 'TinyImageNetResize'}\n",
      "{'AUROC': 0.9969289898872375, 'AUPR-IN': 0.9951457977294922, 'AUPR-OUT': 0.9979745149612427, 'FPR95TPR': 0.013697545975446701, 'Method': 'Mahalanobis', 'Dataset': 'LSUNCrop'}\n",
      "{'AUROC': 0.9993217587471008, 'AUPR-IN': 0.9989351034164429, 'AUPR-OUT': 0.9995586276054382, 'FPR95TPR': 0.0022961203940212727, 'Method': 'Mahalanobis', 'Dataset': 'LSUNResize'}\n",
      "Found 5640 texture files.\n",
      "Found 5640 texture files.\n",
      "{'AUROC': 0.9983737468719482, 'AUPR-IN': 0.9959195256233215, 'AUPR-OUT': 0.9993281364440918, 'FPR95TPR': 0.008630244992673397, 'Method': 'Mahalanobis', 'Dataset': 'Textures'}\n",
      "{'AUROC': 0.9977335333824158, 'AUPR-IN': 0.9960310459136963, 'AUPR-OUT': 0.9985524415969849, 'FPR95TPR': 0.009422010742127895, 'Method': 'Mahalanobis', 'Dataset': 'TinyImageNetCrop'}\n",
      "{'AUROC': 0.9990657567977905, 'AUPR-IN': 0.9986408948898315, 'AUPR-OUT': 0.9993578791618347, 'FPR95TPR': 0.0038796516600996256, 'Method': 'Mahalanobis', 'Dataset': 'TinyImageNetResize'}\n",
      "{'AUROC': 0.9962254762649536, 'AUPR-IN': 0.9948743581771851, 'AUPR-OUT': 0.9969931840896606, 'FPR95TPR': 0.016072843223810196, 'Method': 'Entropy', 'Dataset': 'LSUNCrop'}\n",
      "{'AUROC': 0.9955641031265259, 'AUPR-IN': 0.993967592716217, 'AUPR-OUT': 0.9966037273406982, 'FPR95TPR': 0.017814727500081062, 'Method': 'Entropy', 'Dataset': 'LSUNResize'}\n",
      "Found 5640 texture files.\n",
      "Found 5640 texture files.\n",
      "{'AUROC': 0.9919086694717407, 'AUPR-IN': 0.9850767850875854, 'AUPR-OUT': 0.9933902025222778, 'FPR95TPR': 0.022406967356801033, 'Method': 'Entropy', 'Dataset': 'Textures'}\n",
      "{'AUROC': 0.9976946115493774, 'AUPR-IN': 0.9969013333320618, 'AUPR-OUT': 0.9983168244361877, 'FPR95TPR': 0.012430720962584019, 'Method': 'Entropy', 'Dataset': 'TinyImageNetCrop'}\n",
      "{'AUROC': 0.9947304725646973, 'AUPR-IN': 0.992857038974762, 'AUPR-OUT': 0.9951168298721313, 'FPR95TPR': 0.020031670108437538, 'Method': 'Entropy', 'Dataset': 'TinyImageNetResize'}\n",
      "{'AUROC': 0.9967355132102966, 'AUPR-IN': 0.9960526823997498, 'AUPR-OUT': 0.9971049427986145, 'FPR95TPR': 0.009976247325539589, 'Method': 'MaxLogit', 'Dataset': 'LSUNCrop'}\n",
      "{'AUROC': 0.9959379434585571, 'AUPR-IN': 0.9955599308013916, 'AUPR-OUT': 0.9958291053771973, 'FPR95TPR': 0.010768013074994087, 'Method': 'MaxLogit', 'Dataset': 'LSUNResize'}\n",
      "Found 5640 texture files.\n",
      "Found 5640 texture files.\n",
      "{'AUROC': 0.9890823364257812, 'AUPR-IN': 0.9852461814880371, 'AUPR-OUT': 0.99079829454422, 'FPR95TPR': 0.015201900154352188, 'Method': 'MaxLogit', 'Dataset': 'Textures'}\n",
      "{'AUROC': 0.9983570575714111, 'AUPR-IN': 0.9980503916740417, 'AUPR-OUT': 0.9986271858215332, 'FPR95TPR': 0.0049881236627697945, 'Method': 'MaxLogit', 'Dataset': 'TinyImageNetCrop'}\n",
      "{'AUROC': 0.9947824478149414, 'AUPR-IN': 0.9943979382514954, 'AUPR-OUT': 0.9942024946212769, 'FPR95TPR': 0.012668250128626823, 'Method': 'MaxLogit', 'Dataset': 'TinyImageNetResize'}\n"
     ]
    },
    {
     "data": {
      "text/plain": "  0%|          | 0/2657 [00:00<?, ?it/s]",
      "application/vnd.jupyter.widget-view+json": {
       "version_major": 2,
       "version_minor": 0,
       "model_id": "9262441d543745739a471a0eda0a8505"
      }
     },
     "metadata": {},
     "output_type": "display_data"
    },
    {
     "name": "stdout",
     "output_type": "stream",
     "text": [
      "Accuracy of the sign network on the test images: 99.99%\n"
     ]
    },
    {
     "data": {
      "text/plain": "  0%|          | 0/2657 [00:00<?, ?it/s]",
      "application/vnd.jupyter.widget-view+json": {
       "version_major": 2,
       "version_minor": 0,
       "model_id": "05c0725934174dc184745db005c115c4"
      }
     },
     "metadata": {},
     "output_type": "display_data"
    },
    {
     "name": "stdout",
     "output_type": "stream",
     "text": [
      "Accuracy of the sign network on the test images: 100.00%\n"
     ]
    },
    {
     "data": {
      "text/plain": "  0%|          | 0/2657 [00:00<?, ?it/s]",
      "application/vnd.jupyter.widget-view+json": {
       "version_major": 2,
       "version_minor": 0,
       "model_id": "1cfd4dafed554f7c8cbd79a58612a5d2"
      }
     },
     "metadata": {},
     "output_type": "display_data"
    },
    {
     "name": "stdout",
     "output_type": "stream",
     "text": [
      "Accuracy of the sign network on the test images: 99.98%\n"
     ]
    },
    {
     "data": {
      "text/plain": "  0%|          | 0/2657 [00:00<?, ?it/s]",
      "application/vnd.jupyter.widget-view+json": {
       "version_major": 2,
       "version_minor": 0,
       "model_id": "dc1da79afd584cc782826f305669b082"
      }
     },
     "metadata": {},
     "output_type": "display_data"
    },
    {
     "name": "stdout",
     "output_type": "stream",
     "text": [
      "Accuracy of the sign network on the test images: 100.00%\n"
     ]
    },
    {
     "data": {
      "text/plain": "  0%|          | 0/2657 [00:00<?, ?it/s]",
      "application/vnd.jupyter.widget-view+json": {
       "version_major": 2,
       "version_minor": 0,
       "model_id": "73fb94d7befc4d21adc84472af8901e6"
      }
     },
     "metadata": {},
     "output_type": "display_data"
    },
    {
     "name": "stdout",
     "output_type": "stream",
     "text": [
      "Accuracy of the sign network on the test images: 100.00%\n"
     ]
    },
    {
     "data": {
      "text/plain": "  0%|          | 0/2657 [00:00<?, ?it/s]",
      "application/vnd.jupyter.widget-view+json": {
       "version_major": 2,
       "version_minor": 0,
       "model_id": "50cf8b668e0745f7936ffef98e57410f"
      }
     },
     "metadata": {},
     "output_type": "display_data"
    },
    {
     "name": "stdout",
     "output_type": "stream",
     "text": [
      "Accuracy of the sign network on the test images: 100.00%\n"
     ]
    },
    {
     "data": {
      "text/plain": "  0%|          | 0/2657 [00:00<?, ?it/s]",
      "application/vnd.jupyter.widget-view+json": {
       "version_major": 2,
       "version_minor": 0,
       "model_id": "89d9c20e7ebf4827b5efaa37d1b1156e"
      }
     },
     "metadata": {},
     "output_type": "display_data"
    },
    {
     "name": "stdout",
     "output_type": "stream",
     "text": [
      "Accuracy of the sign network on the test images: 100.00%\n"
     ]
    },
    {
     "data": {
      "text/plain": "  0%|          | 0/2657 [00:00<?, ?it/s]",
      "application/vnd.jupyter.widget-view+json": {
       "version_major": 2,
       "version_minor": 0,
       "model_id": "f6ebbcfab7f643dabe931bf70d7caa9a"
      }
     },
     "metadata": {},
     "output_type": "display_data"
    },
    {
     "name": "stdout",
     "output_type": "stream",
     "text": [
      "Accuracy of the sign network on the test images: 100.00%\n"
     ]
    },
    {
     "data": {
      "text/plain": "  0%|          | 0/2657 [00:00<?, ?it/s]",
      "application/vnd.jupyter.widget-view+json": {
       "version_major": 2,
       "version_minor": 0,
       "model_id": "0a2e3b19337a42c98fd7dea434540fc1"
      }
     },
     "metadata": {},
     "output_type": "display_data"
    },
    {
     "name": "stdout",
     "output_type": "stream",
     "text": [
      "Accuracy of the sign network on the test images: 100.00%\n"
     ]
    },
    {
     "data": {
      "text/plain": "  0%|          | 0/2657 [00:00<?, ?it/s]",
      "application/vnd.jupyter.widget-view+json": {
       "version_major": 2,
       "version_minor": 0,
       "model_id": "2e18fe86e1ab4facbeb2225048381b35"
      }
     },
     "metadata": {},
     "output_type": "display_data"
    },
    {
     "name": "stdout",
     "output_type": "stream",
     "text": [
      "Accuracy of the sign network on the test images: 99.99%\n"
     ]
    },
    {
     "data": {
      "text/plain": "  0%|          | 0/2657 [00:00<?, ?it/s]",
      "application/vnd.jupyter.widget-view+json": {
       "version_major": 2,
       "version_minor": 0,
       "model_id": "93984d80ec65424bbf9c0c1c0928b624"
      }
     },
     "metadata": {},
     "output_type": "display_data"
    },
    {
     "name": "stdout",
     "output_type": "stream",
     "text": [
      "Accuracy of the sign network on the test images: 99.98%\n"
     ]
    },
    {
     "data": {
      "text/plain": "  0%|          | 0/2657 [00:00<?, ?it/s]",
      "application/vnd.jupyter.widget-view+json": {
       "version_major": 2,
       "version_minor": 0,
       "model_id": "c8f7e7b575ae486db3db4d7f0cb416e9"
      }
     },
     "metadata": {},
     "output_type": "display_data"
    },
    {
     "name": "stdout",
     "output_type": "stream",
     "text": [
      "Accuracy of the sign network on the test images: 99.99%\n"
     ]
    },
    {
     "data": {
      "text/plain": "  0%|          | 0/2657 [00:00<?, ?it/s]",
      "application/vnd.jupyter.widget-view+json": {
       "version_major": 2,
       "version_minor": 0,
       "model_id": "030b1ce444954830a763e9bb4357fbc0"
      }
     },
     "metadata": {},
     "output_type": "display_data"
    },
    {
     "name": "stdout",
     "output_type": "stream",
     "text": [
      "Accuracy of the sign network on the test images: 99.99%\n"
     ]
    },
    {
     "data": {
      "text/plain": "  0%|          | 0/2657 [00:00<?, ?it/s]",
      "application/vnd.jupyter.widget-view+json": {
       "version_major": 2,
       "version_minor": 0,
       "model_id": "800306139dbf44da9cfb09c3148f188d"
      }
     },
     "metadata": {},
     "output_type": "display_data"
    },
    {
     "name": "stdout",
     "output_type": "stream",
     "text": [
      "Accuracy of the sign network on the test images: 99.98%\n"
     ]
    },
    {
     "data": {
      "text/plain": "  0%|          | 0/2657 [00:00<?, ?it/s]",
      "application/vnd.jupyter.widget-view+json": {
       "version_major": 2,
       "version_minor": 0,
       "model_id": "9c698c3609064dc6a425f83011d79b34"
      }
     },
     "metadata": {},
     "output_type": "display_data"
    },
    {
     "name": "stdout",
     "output_type": "stream",
     "text": [
      "Accuracy of the sign network on the test images: 99.99%\n"
     ]
    },
    {
     "data": {
      "text/plain": "  0%|          | 0/2657 [00:00<?, ?it/s]",
      "application/vnd.jupyter.widget-view+json": {
       "version_major": 2,
       "version_minor": 0,
       "model_id": "d83fea69df2848c5a3f26de8a64a70cd"
      }
     },
     "metadata": {},
     "output_type": "display_data"
    },
    {
     "name": "stdout",
     "output_type": "stream",
     "text": [
      "Accuracy of the sign network on the test images: 99.99%\n"
     ]
    },
    {
     "data": {
      "text/plain": "  0%|          | 0/2657 [00:00<?, ?it/s]",
      "application/vnd.jupyter.widget-view+json": {
       "version_major": 2,
       "version_minor": 0,
       "model_id": "2ff8a4fe99b14e7d939bee61840766ff"
      }
     },
     "metadata": {},
     "output_type": "display_data"
    },
    {
     "name": "stdout",
     "output_type": "stream",
     "text": [
      "Accuracy of the sign network on the test images: 99.99%\n"
     ]
    },
    {
     "data": {
      "text/plain": "  0%|          | 0/2657 [00:00<?, ?it/s]",
      "application/vnd.jupyter.widget-view+json": {
       "version_major": 2,
       "version_minor": 0,
       "model_id": "56a1e1eb99fa4008a2c2296e2523ea3a"
      }
     },
     "metadata": {},
     "output_type": "display_data"
    },
    {
     "name": "stdout",
     "output_type": "stream",
     "text": [
      "Accuracy of the sign network on the test images: 99.99%\n"
     ]
    },
    {
     "data": {
      "text/plain": "  0%|          | 0/2657 [00:00<?, ?it/s]",
      "application/vnd.jupyter.widget-view+json": {
       "version_major": 2,
       "version_minor": 0,
       "model_id": "70066b9e326f464eb625a57c7dc68b7f"
      }
     },
     "metadata": {},
     "output_type": "display_data"
    },
    {
     "name": "stdout",
     "output_type": "stream",
     "text": [
      "Accuracy of the sign network on the test images: 99.99%\n"
     ]
    },
    {
     "data": {
      "text/plain": "  0%|          | 0/2657 [00:00<?, ?it/s]",
      "application/vnd.jupyter.widget-view+json": {
       "version_major": 2,
       "version_minor": 0,
       "model_id": "54376381ad0b420797ecc261b92c75f7"
      }
     },
     "metadata": {},
     "output_type": "display_data"
    },
    {
     "name": "stdout",
     "output_type": "stream",
     "text": [
      "Accuracy of the sign network on the test images: 100.00%\n"
     ]
    },
    {
     "data": {
      "text/plain": "  0%|          | 0/1094 [00:00<?, ?it/s]",
      "application/vnd.jupyter.widget-view+json": {
       "version_major": 2,
       "version_minor": 0,
       "model_id": "24cd316986274019a69e06beff1bbeb0"
      }
     },
     "metadata": {},
     "output_type": "display_data"
    },
    {
     "name": "stdout",
     "output_type": "stream",
     "text": [
      "Accuracy of the network on the test images: 99.94%\n"
     ]
    },
    {
     "data": {
      "text/plain": "  0%|          | 0/1094 [00:00<?, ?it/s]",
      "application/vnd.jupyter.widget-view+json": {
       "version_major": 2,
       "version_minor": 0,
       "model_id": "63e0de0bc187462b9968fcb7314de917"
      }
     },
     "metadata": {},
     "output_type": "display_data"
    },
    {
     "name": "stdout",
     "output_type": "stream",
     "text": [
      "Accuracy of the network on the test images: 99.96%\n"
     ]
    },
    {
     "data": {
      "text/plain": "  0%|          | 0/1094 [00:00<?, ?it/s]",
      "application/vnd.jupyter.widget-view+json": {
       "version_major": 2,
       "version_minor": 0,
       "model_id": "aac16bb3dd2d4fb6aae3e080ec375f59"
      }
     },
     "metadata": {},
     "output_type": "display_data"
    },
    {
     "name": "stdout",
     "output_type": "stream",
     "text": [
      "Accuracy of the network on the test images: 99.95%\n"
     ]
    },
    {
     "data": {
      "text/plain": "  0%|          | 0/1094 [00:00<?, ?it/s]",
      "application/vnd.jupyter.widget-view+json": {
       "version_major": 2,
       "version_minor": 0,
       "model_id": "b88186bfb7b341bbbc03caa1b13d3bec"
      }
     },
     "metadata": {},
     "output_type": "display_data"
    },
    {
     "name": "stdout",
     "output_type": "stream",
     "text": [
      "Accuracy of the network on the test images: 99.97%\n"
     ]
    },
    {
     "data": {
      "text/plain": "  0%|          | 0/1094 [00:00<?, ?it/s]",
      "application/vnd.jupyter.widget-view+json": {
       "version_major": 2,
       "version_minor": 0,
       "model_id": "91919a037bd742969cd7041325d5c7a7"
      }
     },
     "metadata": {},
     "output_type": "display_data"
    },
    {
     "name": "stdout",
     "output_type": "stream",
     "text": [
      "Accuracy of the network on the test images: 99.98%\n"
     ]
    },
    {
     "data": {
      "text/plain": "  0%|          | 0/1094 [00:00<?, ?it/s]",
      "application/vnd.jupyter.widget-view+json": {
       "version_major": 2,
       "version_minor": 0,
       "model_id": "f8d1242aa07c4d35b420c32a87c6e886"
      }
     },
     "metadata": {},
     "output_type": "display_data"
    },
    {
     "name": "stdout",
     "output_type": "stream",
     "text": [
      "Accuracy of the network on the test images: 99.97%\n"
     ]
    },
    {
     "data": {
      "text/plain": "  0%|          | 0/1094 [00:00<?, ?it/s]",
      "application/vnd.jupyter.widget-view+json": {
       "version_major": 2,
       "version_minor": 0,
       "model_id": "d1b0162875cd4185954857eb3c530861"
      }
     },
     "metadata": {},
     "output_type": "display_data"
    },
    {
     "name": "stdout",
     "output_type": "stream",
     "text": [
      "Accuracy of the network on the test images: 99.98%\n"
     ]
    },
    {
     "data": {
      "text/plain": "  0%|          | 0/1094 [00:00<?, ?it/s]",
      "application/vnd.jupyter.widget-view+json": {
       "version_major": 2,
       "version_minor": 0,
       "model_id": "ca3fe648c0dd45669d33634d73a0ac59"
      }
     },
     "metadata": {},
     "output_type": "display_data"
    },
    {
     "name": "stdout",
     "output_type": "stream",
     "text": [
      "Accuracy of the network on the test images: 99.98%\n"
     ]
    },
    {
     "data": {
      "text/plain": "  0%|          | 0/1094 [00:00<?, ?it/s]",
      "application/vnd.jupyter.widget-view+json": {
       "version_major": 2,
       "version_minor": 0,
       "model_id": "09d3919acfff4875b38dac71a961ab78"
      }
     },
     "metadata": {},
     "output_type": "display_data"
    },
    {
     "name": "stdout",
     "output_type": "stream",
     "text": [
      "Accuracy of the network on the test images: 99.98%\n"
     ]
    },
    {
     "data": {
      "text/plain": "  0%|          | 0/1094 [00:00<?, ?it/s]",
      "application/vnd.jupyter.widget-view+json": {
       "version_major": 2,
       "version_minor": 0,
       "model_id": "24a2d1a7e6ce45b8a32c2075a4dba2d8"
      }
     },
     "metadata": {},
     "output_type": "display_data"
    },
    {
     "name": "stdout",
     "output_type": "stream",
     "text": [
      "Accuracy of the network on the test images: 99.98%\n"
     ]
    },
    {
     "data": {
      "text/plain": "  0%|          | 0/1094 [00:00<?, ?it/s]",
      "application/vnd.jupyter.widget-view+json": {
       "version_major": 2,
       "version_minor": 0,
       "model_id": "d695622d5048446f8770b621b2924f77"
      }
     },
     "metadata": {},
     "output_type": "display_data"
    },
    {
     "name": "stdout",
     "output_type": "stream",
     "text": [
      "Accuracy of the network on the test images: 99.98%\n"
     ]
    },
    {
     "data": {
      "text/plain": "  0%|          | 0/1094 [00:00<?, ?it/s]",
      "application/vnd.jupyter.widget-view+json": {
       "version_major": 2,
       "version_minor": 0,
       "model_id": "553dac738acf42f48b440fea9b95887f"
      }
     },
     "metadata": {},
     "output_type": "display_data"
    },
    {
     "name": "stdout",
     "output_type": "stream",
     "text": [
      "Accuracy of the network on the test images: 99.98%\n"
     ]
    },
    {
     "data": {
      "text/plain": "  0%|          | 0/1094 [00:00<?, ?it/s]",
      "application/vnd.jupyter.widget-view+json": {
       "version_major": 2,
       "version_minor": 0,
       "model_id": "9b9302ad1c5e47a181fdc3a458d40f94"
      }
     },
     "metadata": {},
     "output_type": "display_data"
    },
    {
     "name": "stdout",
     "output_type": "stream",
     "text": [
      "Accuracy of the network on the test images: 99.98%\n"
     ]
    },
    {
     "data": {
      "text/plain": "  0%|          | 0/1094 [00:00<?, ?it/s]",
      "application/vnd.jupyter.widget-view+json": {
       "version_major": 2,
       "version_minor": 0,
       "model_id": "4d73281418344ea3a51838b4a08dd5f3"
      }
     },
     "metadata": {},
     "output_type": "display_data"
    },
    {
     "name": "stdout",
     "output_type": "stream",
     "text": [
      "Accuracy of the network on the test images: 99.96%\n"
     ]
    },
    {
     "data": {
      "text/plain": "  0%|          | 0/1094 [00:00<?, ?it/s]",
      "application/vnd.jupyter.widget-view+json": {
       "version_major": 2,
       "version_minor": 0,
       "model_id": "7c7290f944ac4049947416cb9bf52154"
      }
     },
     "metadata": {},
     "output_type": "display_data"
    },
    {
     "name": "stdout",
     "output_type": "stream",
     "text": [
      "Accuracy of the network on the test images: 99.97%\n"
     ]
    },
    {
     "data": {
      "text/plain": "  0%|          | 0/1094 [00:00<?, ?it/s]",
      "application/vnd.jupyter.widget-view+json": {
       "version_major": 2,
       "version_minor": 0,
       "model_id": "80de8d3912e640e5b44971dfe27c505a"
      }
     },
     "metadata": {},
     "output_type": "display_data"
    },
    {
     "name": "stdout",
     "output_type": "stream",
     "text": [
      "Accuracy of the network on the test images: 99.98%\n"
     ]
    },
    {
     "data": {
      "text/plain": "  0%|          | 0/1094 [00:00<?, ?it/s]",
      "application/vnd.jupyter.widget-view+json": {
       "version_major": 2,
       "version_minor": 0,
       "model_id": "daee1b295fc84da7916c8d6a24ca1ab5"
      }
     },
     "metadata": {},
     "output_type": "display_data"
    },
    {
     "name": "stdout",
     "output_type": "stream",
     "text": [
      "Accuracy of the network on the test images: 99.95%\n"
     ]
    },
    {
     "data": {
      "text/plain": "  0%|          | 0/1094 [00:00<?, ?it/s]",
      "application/vnd.jupyter.widget-view+json": {
       "version_major": 2,
       "version_minor": 0,
       "model_id": "f7d0cbbfde4d42b0b422fb5a18aadd00"
      }
     },
     "metadata": {},
     "output_type": "display_data"
    },
    {
     "name": "stdout",
     "output_type": "stream",
     "text": [
      "Accuracy of the network on the test images: 99.98%\n"
     ]
    },
    {
     "data": {
      "text/plain": "  0%|          | 0/1094 [00:00<?, ?it/s]",
      "application/vnd.jupyter.widget-view+json": {
       "version_major": 2,
       "version_minor": 0,
       "model_id": "8c70f36946c04587a83c06bc0ba640fb"
      }
     },
     "metadata": {},
     "output_type": "display_data"
    },
    {
     "name": "stdout",
     "output_type": "stream",
     "text": [
      "Accuracy of the network on the test images: 99.98%\n"
     ]
    },
    {
     "data": {
      "text/plain": "  0%|          | 0/1094 [00:00<?, ?it/s]",
      "application/vnd.jupyter.widget-view+json": {
       "version_major": 2,
       "version_minor": 0,
       "model_id": "b3eff62176424553a3e037c5807a26ec"
      }
     },
     "metadata": {},
     "output_type": "display_data"
    },
    {
     "name": "stdout",
     "output_type": "stream",
     "text": [
      "Accuracy of the network on the test images: 99.98%\n"
     ]
    },
    {
     "data": {
      "text/plain": "  0%|          | 0/1094 [00:00<?, ?it/s]",
      "application/vnd.jupyter.widget-view+json": {
       "version_major": 2,
       "version_minor": 0,
       "model_id": "16d85920b5864e3c8d879408cd2cb3a5"
      }
     },
     "metadata": {},
     "output_type": "display_data"
    },
    {
     "name": "stdout",
     "output_type": "stream",
     "text": [
      "Accuracy of the network on the test images: 99.77%\n"
     ]
    },
    {
     "data": {
      "text/plain": "  0%|          | 0/1094 [00:00<?, ?it/s]",
      "application/vnd.jupyter.widget-view+json": {
       "version_major": 2,
       "version_minor": 0,
       "model_id": "b2cf60f6927e41b68fe377495100f0e9"
      }
     },
     "metadata": {},
     "output_type": "display_data"
    },
    {
     "name": "stdout",
     "output_type": "stream",
     "text": [
      "Accuracy of the network on the test images: 99.87%\n"
     ]
    },
    {
     "data": {
      "text/plain": "  0%|          | 0/1094 [00:00<?, ?it/s]",
      "application/vnd.jupyter.widget-view+json": {
       "version_major": 2,
       "version_minor": 0,
       "model_id": "ce85490687a3456e9007392c899efcd4"
      }
     },
     "metadata": {},
     "output_type": "display_data"
    },
    {
     "name": "stdout",
     "output_type": "stream",
     "text": [
      "Accuracy of the network on the test images: 99.89%\n"
     ]
    },
    {
     "data": {
      "text/plain": "  0%|          | 0/1094 [00:00<?, ?it/s]",
      "application/vnd.jupyter.widget-view+json": {
       "version_major": 2,
       "version_minor": 0,
       "model_id": "0c8f634504364d7286482445d53940c4"
      }
     },
     "metadata": {},
     "output_type": "display_data"
    },
    {
     "name": "stdout",
     "output_type": "stream",
     "text": [
      "Accuracy of the network on the test images: 99.90%\n"
     ]
    },
    {
     "data": {
      "text/plain": "  0%|          | 0/1094 [00:00<?, ?it/s]",
      "application/vnd.jupyter.widget-view+json": {
       "version_major": 2,
       "version_minor": 0,
       "model_id": "6759e701bc1946fbba078deb04c29653"
      }
     },
     "metadata": {},
     "output_type": "display_data"
    },
    {
     "name": "stdout",
     "output_type": "stream",
     "text": [
      "Accuracy of the network on the test images: 99.83%\n"
     ]
    },
    {
     "data": {
      "text/plain": "  0%|          | 0/1094 [00:00<?, ?it/s]",
      "application/vnd.jupyter.widget-view+json": {
       "version_major": 2,
       "version_minor": 0,
       "model_id": "54395ec8d1f34b86aa00188bf14bc426"
      }
     },
     "metadata": {},
     "output_type": "display_data"
    },
    {
     "name": "stdout",
     "output_type": "stream",
     "text": [
      "Accuracy of the network on the test images: 99.94%\n"
     ]
    },
    {
     "data": {
      "text/plain": "  0%|          | 0/1094 [00:00<?, ?it/s]",
      "application/vnd.jupyter.widget-view+json": {
       "version_major": 2,
       "version_minor": 0,
       "model_id": "d824dd637c4d47129d77510ead10b140"
      }
     },
     "metadata": {},
     "output_type": "display_data"
    },
    {
     "name": "stdout",
     "output_type": "stream",
     "text": [
      "Accuracy of the network on the test images: 99.92%\n"
     ]
    },
    {
     "data": {
      "text/plain": "  0%|          | 0/1094 [00:00<?, ?it/s]",
      "application/vnd.jupyter.widget-view+json": {
       "version_major": 2,
       "version_minor": 0,
       "model_id": "da4b4cdd2f734be7b7540f442c575439"
      }
     },
     "metadata": {},
     "output_type": "display_data"
    },
    {
     "name": "stdout",
     "output_type": "stream",
     "text": [
      "Accuracy of the network on the test images: 99.86%\n"
     ]
    },
    {
     "data": {
      "text/plain": "  0%|          | 0/1094 [00:00<?, ?it/s]",
      "application/vnd.jupyter.widget-view+json": {
       "version_major": 2,
       "version_minor": 0,
       "model_id": "1040006a20de46ba81883356cef56d4b"
      }
     },
     "metadata": {},
     "output_type": "display_data"
    },
    {
     "name": "stdout",
     "output_type": "stream",
     "text": [
      "Accuracy of the network on the test images: 99.83%\n"
     ]
    },
    {
     "data": {
      "text/plain": "  0%|          | 0/1094 [00:00<?, ?it/s]",
      "application/vnd.jupyter.widget-view+json": {
       "version_major": 2,
       "version_minor": 0,
       "model_id": "969fdf53db424e3195770287348f1aac"
      }
     },
     "metadata": {},
     "output_type": "display_data"
    },
    {
     "name": "stdout",
     "output_type": "stream",
     "text": [
      "Accuracy of the network on the test images: 99.94%\n"
     ]
    },
    {
     "data": {
      "text/plain": "  0%|          | 0/1094 [00:00<?, ?it/s]",
      "application/vnd.jupyter.widget-view+json": {
       "version_major": 2,
       "version_minor": 0,
       "model_id": "6b155be68c8849d092ccee26047afe93"
      }
     },
     "metadata": {},
     "output_type": "display_data"
    },
    {
     "name": "stdout",
     "output_type": "stream",
     "text": [
      "Accuracy of the network on the test images: 99.94%\n"
     ]
    },
    {
     "data": {
      "text/plain": "  0%|          | 0/1094 [00:00<?, ?it/s]",
      "application/vnd.jupyter.widget-view+json": {
       "version_major": 2,
       "version_minor": 0,
       "model_id": "46bda6ff58a94b618b95b2b498a72c82"
      }
     },
     "metadata": {},
     "output_type": "display_data"
    },
    {
     "name": "stdout",
     "output_type": "stream",
     "text": [
      "Accuracy of the network on the test images: 99.96%\n"
     ]
    },
    {
     "data": {
      "text/plain": "  0%|          | 0/1094 [00:00<?, ?it/s]",
      "application/vnd.jupyter.widget-view+json": {
       "version_major": 2,
       "version_minor": 0,
       "model_id": "294e18bd2e7d4382814b61fc6dfefeca"
      }
     },
     "metadata": {},
     "output_type": "display_data"
    },
    {
     "name": "stdout",
     "output_type": "stream",
     "text": [
      "Accuracy of the network on the test images: 99.95%\n"
     ]
    },
    {
     "data": {
      "text/plain": "  0%|          | 0/1094 [00:00<?, ?it/s]",
      "application/vnd.jupyter.widget-view+json": {
       "version_major": 2,
       "version_minor": 0,
       "model_id": "5f98d7eec2ea4f1895619591afe6a403"
      }
     },
     "metadata": {},
     "output_type": "display_data"
    },
    {
     "name": "stdout",
     "output_type": "stream",
     "text": [
      "Accuracy of the network on the test images: 99.97%\n"
     ]
    },
    {
     "data": {
      "text/plain": "  0%|          | 0/1094 [00:00<?, ?it/s]",
      "application/vnd.jupyter.widget-view+json": {
       "version_major": 2,
       "version_minor": 0,
       "model_id": "138e2b8bc28d4fb18a36ea42f8d7c282"
      }
     },
     "metadata": {},
     "output_type": "display_data"
    },
    {
     "name": "stdout",
     "output_type": "stream",
     "text": [
      "Accuracy of the network on the test images: 99.94%\n"
     ]
    },
    {
     "data": {
      "text/plain": "  0%|          | 0/1094 [00:00<?, ?it/s]",
      "application/vnd.jupyter.widget-view+json": {
       "version_major": 2,
       "version_minor": 0,
       "model_id": "344f5f9e69594b149853b259c60d2aec"
      }
     },
     "metadata": {},
     "output_type": "display_data"
    },
    {
     "name": "stdout",
     "output_type": "stream",
     "text": [
      "Accuracy of the network on the test images: 99.93%\n"
     ]
    },
    {
     "data": {
      "text/plain": "  0%|          | 0/1094 [00:00<?, ?it/s]",
      "application/vnd.jupyter.widget-view+json": {
       "version_major": 2,
       "version_minor": 0,
       "model_id": "9d237ff2aa3f45c391de7a29f8cd0452"
      }
     },
     "metadata": {},
     "output_type": "display_data"
    },
    {
     "name": "stdout",
     "output_type": "stream",
     "text": [
      "Accuracy of the network on the test images: 99.94%\n"
     ]
    },
    {
     "data": {
      "text/plain": "  0%|          | 0/1094 [00:00<?, ?it/s]",
      "application/vnd.jupyter.widget-view+json": {
       "version_major": 2,
       "version_minor": 0,
       "model_id": "4137b43bd64d4af39dd3560d3235f416"
      }
     },
     "metadata": {},
     "output_type": "display_data"
    },
    {
     "name": "stdout",
     "output_type": "stream",
     "text": [
      "Accuracy of the network on the test images: 99.95%\n"
     ]
    },
    {
     "data": {
      "text/plain": "  0%|          | 0/1094 [00:00<?, ?it/s]",
      "application/vnd.jupyter.widget-view+json": {
       "version_major": 2,
       "version_minor": 0,
       "model_id": "7d5d2ef127a04acba07731205d04df34"
      }
     },
     "metadata": {},
     "output_type": "display_data"
    },
    {
     "name": "stdout",
     "output_type": "stream",
     "text": [
      "Accuracy of the network on the test images: 99.95%\n"
     ]
    },
    {
     "data": {
      "text/plain": "  0%|          | 0/1094 [00:00<?, ?it/s]",
      "application/vnd.jupyter.widget-view+json": {
       "version_major": 2,
       "version_minor": 0,
       "model_id": "5fee6449b520446ab897dcbcc703c761"
      }
     },
     "metadata": {},
     "output_type": "display_data"
    },
    {
     "name": "stdout",
     "output_type": "stream",
     "text": [
      "Accuracy of the network on the test images: 99.96%\n"
     ]
    },
    {
     "data": {
      "text/plain": "  0%|          | 0/1094 [00:00<?, ?it/s]",
      "application/vnd.jupyter.widget-view+json": {
       "version_major": 2,
       "version_minor": 0,
       "model_id": "1471f6874906420d81ca1ac4a2a571ab"
      }
     },
     "metadata": {},
     "output_type": "display_data"
    },
    {
     "name": "stdout",
     "output_type": "stream",
     "text": [
      "Accuracy of the network on the test images: 97.93%\n"
     ]
    },
    {
     "data": {
      "text/plain": "  0%|          | 0/1094 [00:00<?, ?it/s]",
      "application/vnd.jupyter.widget-view+json": {
       "version_major": 2,
       "version_minor": 0,
       "model_id": "25fe6eeadff746ddabc2aadf2f247d58"
      }
     },
     "metadata": {},
     "output_type": "display_data"
    },
    {
     "name": "stdout",
     "output_type": "stream",
     "text": [
      "Accuracy of the network on the test images: 98.07%\n"
     ]
    },
    {
     "data": {
      "text/plain": "  0%|          | 0/1094 [00:00<?, ?it/s]",
      "application/vnd.jupyter.widget-view+json": {
       "version_major": 2,
       "version_minor": 0,
       "model_id": "8fa2ab89d3d44c87a8a89c322570285e"
      }
     },
     "metadata": {},
     "output_type": "display_data"
    },
    {
     "name": "stdout",
     "output_type": "stream",
     "text": [
      "Accuracy of the network on the test images: 99.22%\n"
     ]
    },
    {
     "data": {
      "text/plain": "  0%|          | 0/1094 [00:00<?, ?it/s]",
      "application/vnd.jupyter.widget-view+json": {
       "version_major": 2,
       "version_minor": 0,
       "model_id": "2610aab513bf4a19ac1627b4f924fc25"
      }
     },
     "metadata": {},
     "output_type": "display_data"
    },
    {
     "name": "stdout",
     "output_type": "stream",
     "text": [
      "Accuracy of the network on the test images: 98.80%\n"
     ]
    },
    {
     "data": {
      "text/plain": "  0%|          | 0/1094 [00:00<?, ?it/s]",
      "application/vnd.jupyter.widget-view+json": {
       "version_major": 2,
       "version_minor": 0,
       "model_id": "2fc7018988d344538e7f1abe857b13c8"
      }
     },
     "metadata": {},
     "output_type": "display_data"
    },
    {
     "name": "stdout",
     "output_type": "stream",
     "text": [
      "Accuracy of the network on the test images: 98.75%\n"
     ]
    },
    {
     "data": {
      "text/plain": "  0%|          | 0/1094 [00:00<?, ?it/s]",
      "application/vnd.jupyter.widget-view+json": {
       "version_major": 2,
       "version_minor": 0,
       "model_id": "1ff61ad71b494b5d8b888c7fd524bcd2"
      }
     },
     "metadata": {},
     "output_type": "display_data"
    },
    {
     "name": "stdout",
     "output_type": "stream",
     "text": [
      "Accuracy of the network on the test images: 99.29%\n"
     ]
    },
    {
     "data": {
      "text/plain": "  0%|          | 0/1094 [00:00<?, ?it/s]",
      "application/vnd.jupyter.widget-view+json": {
       "version_major": 2,
       "version_minor": 0,
       "model_id": "a7665a446fd5402694e07ebb9355e0db"
      }
     },
     "metadata": {},
     "output_type": "display_data"
    },
    {
     "name": "stdout",
     "output_type": "stream",
     "text": [
      "Accuracy of the network on the test images: 99.37%\n"
     ]
    },
    {
     "data": {
      "text/plain": "  0%|          | 0/1094 [00:00<?, ?it/s]",
      "application/vnd.jupyter.widget-view+json": {
       "version_major": 2,
       "version_minor": 0,
       "model_id": "7f4b75c66157489fa0cf850633f664c7"
      }
     },
     "metadata": {},
     "output_type": "display_data"
    },
    {
     "name": "stdout",
     "output_type": "stream",
     "text": [
      "Accuracy of the network on the test images: 99.20%\n"
     ]
    },
    {
     "data": {
      "text/plain": "  0%|          | 0/1094 [00:00<?, ?it/s]",
      "application/vnd.jupyter.widget-view+json": {
       "version_major": 2,
       "version_minor": 0,
       "model_id": "abd88434828a4a49842daf164a8a6a25"
      }
     },
     "metadata": {},
     "output_type": "display_data"
    },
    {
     "name": "stdout",
     "output_type": "stream",
     "text": [
      "Accuracy of the network on the test images: 99.03%\n"
     ]
    },
    {
     "data": {
      "text/plain": "  0%|          | 0/1094 [00:00<?, ?it/s]",
      "application/vnd.jupyter.widget-view+json": {
       "version_major": 2,
       "version_minor": 0,
       "model_id": "89a4fa033f0a463d8889b33cdf51f3d8"
      }
     },
     "metadata": {},
     "output_type": "display_data"
    },
    {
     "name": "stdout",
     "output_type": "stream",
     "text": [
      "Accuracy of the network on the test images: 99.14%\n"
     ]
    },
    {
     "data": {
      "text/plain": "  0%|          | 0/1094 [00:00<?, ?it/s]",
      "application/vnd.jupyter.widget-view+json": {
       "version_major": 2,
       "version_minor": 0,
       "model_id": "34e825c4a2a84c3b9f0a6603ebdb0ef2"
      }
     },
     "metadata": {},
     "output_type": "display_data"
    },
    {
     "name": "stdout",
     "output_type": "stream",
     "text": [
      "Accuracy of the network on the test images: 99.24%\n"
     ]
    },
    {
     "data": {
      "text/plain": "  0%|          | 0/1094 [00:00<?, ?it/s]",
      "application/vnd.jupyter.widget-view+json": {
       "version_major": 2,
       "version_minor": 0,
       "model_id": "4ca2261d703044f2b9a2acfc2ec46cb7"
      }
     },
     "metadata": {},
     "output_type": "display_data"
    },
    {
     "name": "stdout",
     "output_type": "stream",
     "text": [
      "Accuracy of the network on the test images: 99.02%\n"
     ]
    },
    {
     "data": {
      "text/plain": "  0%|          | 0/1094 [00:00<?, ?it/s]",
      "application/vnd.jupyter.widget-view+json": {
       "version_major": 2,
       "version_minor": 0,
       "model_id": "81359d2cfd894c77906a8d4af294d26b"
      }
     },
     "metadata": {},
     "output_type": "display_data"
    },
    {
     "name": "stdout",
     "output_type": "stream",
     "text": [
      "Accuracy of the network on the test images: 99.11%\n"
     ]
    },
    {
     "data": {
      "text/plain": "  0%|          | 0/1094 [00:00<?, ?it/s]",
      "application/vnd.jupyter.widget-view+json": {
       "version_major": 2,
       "version_minor": 0,
       "model_id": "6a7518d33b01401b8a51301aa4a58a72"
      }
     },
     "metadata": {},
     "output_type": "display_data"
    },
    {
     "name": "stdout",
     "output_type": "stream",
     "text": [
      "Accuracy of the network on the test images: 99.03%\n"
     ]
    },
    {
     "data": {
      "text/plain": "  0%|          | 0/1094 [00:00<?, ?it/s]",
      "application/vnd.jupyter.widget-view+json": {
       "version_major": 2,
       "version_minor": 0,
       "model_id": "22c4727ec078434e9983759dc43b4ef5"
      }
     },
     "metadata": {},
     "output_type": "display_data"
    },
    {
     "name": "stdout",
     "output_type": "stream",
     "text": [
      "Accuracy of the network on the test images: 99.28%\n"
     ]
    },
    {
     "data": {
      "text/plain": "  0%|          | 0/1094 [00:00<?, ?it/s]",
      "application/vnd.jupyter.widget-view+json": {
       "version_major": 2,
       "version_minor": 0,
       "model_id": "49e1fca3b489433e852d393a41583c9c"
      }
     },
     "metadata": {},
     "output_type": "display_data"
    },
    {
     "name": "stdout",
     "output_type": "stream",
     "text": [
      "Accuracy of the network on the test images: 99.12%\n"
     ]
    },
    {
     "data": {
      "text/plain": "  0%|          | 0/1094 [00:00<?, ?it/s]",
      "application/vnd.jupyter.widget-view+json": {
       "version_major": 2,
       "version_minor": 0,
       "model_id": "01f01440108749e5846ca05565fa8bf7"
      }
     },
     "metadata": {},
     "output_type": "display_data"
    },
    {
     "name": "stdout",
     "output_type": "stream",
     "text": [
      "Accuracy of the network on the test images: 99.22%\n"
     ]
    },
    {
     "data": {
      "text/plain": "  0%|          | 0/1094 [00:00<?, ?it/s]",
      "application/vnd.jupyter.widget-view+json": {
       "version_major": 2,
       "version_minor": 0,
       "model_id": "a43d0e42ee80421e9966d895ee708299"
      }
     },
     "metadata": {},
     "output_type": "display_data"
    },
    {
     "name": "stdout",
     "output_type": "stream",
     "text": [
      "Accuracy of the network on the test images: 99.26%\n"
     ]
    },
    {
     "data": {
      "text/plain": "  0%|          | 0/1094 [00:00<?, ?it/s]",
      "application/vnd.jupyter.widget-view+json": {
       "version_major": 2,
       "version_minor": 0,
       "model_id": "23656af951d64fc0b96979c5521c8e4d"
      }
     },
     "metadata": {},
     "output_type": "display_data"
    },
    {
     "name": "stdout",
     "output_type": "stream",
     "text": [
      "Accuracy of the network on the test images: 99.18%\n"
     ]
    },
    {
     "data": {
      "text/plain": "  0%|          | 0/1094 [00:00<?, ?it/s]",
      "application/vnd.jupyter.widget-view+json": {
       "version_major": 2,
       "version_minor": 0,
       "model_id": "a4cde2a436f84fab8f0546d590962bbd"
      }
     },
     "metadata": {},
     "output_type": "display_data"
    },
    {
     "name": "stdout",
     "output_type": "stream",
     "text": [
      "Accuracy of the network on the test images: 99.35%\n",
      "Computing principal space ...\n",
      "Computing principal space ...\n",
      "Computing alpha ...\n",
      "Computing alpha ...\n",
      "self.alpha=9.2312\n",
      "self.alpha=9.2312\n",
      "Fitting with temperature scaling\n",
      "label: y1.unique()=tensor([ 0,  1,  2,  3,  4,  5,  6,  7,  8,  9, 10, 11, 12, 13, 14, 15, 16, 17,\n",
      "        18, 19, 20, 21, 22, 23, 24, 25, 26, 27, 28, 29, 30, 31, 32, 33, 34, 35,\n",
      "        36, 37, 38, 39, 40, 41, 42]) logits_label.shape=torch.Size([4209, 43])\n",
      "Initial T/NLL: 1.000/0.004\n",
      "Initial T/NLL: 1.000/0.004\n",
      "Optimal temperature: 1.0009750127792358\n",
      "Optimal temperature: 1.0009750127792358\n",
      "NLL after scaling: 0.00'\n",
      "NLL after scaling: 0.00'\n",
      "color: y2.unique()=tensor([0, 1, 2, 3]) logits_color.shape=torch.Size([4209, 4])\n",
      "Initial T/NLL: 1.000/0.000\n",
      "Initial T/NLL: 1.000/0.000\n",
      "Optimal temperature: 0.9999991059303284\n",
      "Optimal temperature: 0.9999991059303284\n",
      "NLL after scaling: 0.00'\n",
      "NLL after scaling: 0.00'\n",
      "shape: y3.unique()=tensor([0, 1, 2, 3, 4]) logits_shape.shape=torch.Size([4209, 5])\n",
      "Initial T/NLL: 1.000/0.000\n",
      "Initial T/NLL: 1.000/0.000\n",
      "Optimal temperature: 0.9999993443489075\n",
      "Optimal temperature: 0.9999993443489075\n",
      "NLL after scaling: 0.00'\n",
      "NLL after scaling: 0.00'\n",
      "self.scorer_label.t=Parameter containing:\n",
      "tensor(1.0010, requires_grad=True)\n",
      "self.scorer_color.t=Parameter containing:\n",
      "tensor(1.0000, requires_grad=True)\n",
      "self.scorer_shape.t=Parameter containing:\n",
      "tensor(1.0000, requires_grad=True)\n",
      "Fitting with temperature scaling\n"
     ]
    },
    {
     "name": "stderr",
     "output_type": "stream",
     "text": [
      "/home/ki/projects/pytorch-ood/src/pytorch_ood/detector/tscaling.py:84: UserWarning: Implicit dimension choice for log_softmax has been deprecated. Change the call to include dim=X as an argument.\n",
      "  loss = nll_loss(log_softmax(logits / self.t), labels).item()\n",
      "/home/ki/projects/pytorch-ood/src/pytorch_ood/detector/tscaling.py:90: UserWarning: Implicit dimension choice for log_softmax has been deprecated. Change the call to include dim=X as an argument.\n",
      "  loss = nll_loss(log_softmax(logits / self.t), labels)\n",
      "/home/ki/projects/pytorch-ood/src/pytorch_ood/detector/tscaling.py:97: UserWarning: Implicit dimension choice for log_softmax has been deprecated. Change the call to include dim=X as an argument.\n",
      "  loss = nll_loss(log_softmax(logits / self.t), labels).item()\n"
     ]
    },
    {
     "name": "stdout",
     "output_type": "stream",
     "text": [
      "label: y1.unique()=tensor([ 0,  1,  2,  3,  4,  5,  6,  7,  8,  9, 10, 11, 12, 13, 14, 15, 16, 17,\n",
      "        18, 19, 20, 21, 22, 23, 24, 25, 26, 27, 28, 29, 30, 31, 32, 33, 34, 35,\n",
      "        36, 37, 38, 39, 40, 41, 42]) logits_label.shape=torch.Size([4209, 43])\n",
      "Initial T/NLL: 1.000/0.004\n",
      "Initial T/NLL: 1.000/0.004\n",
      "Optimal temperature: 1.0009750127792358\n",
      "Optimal temperature: 1.0009750127792358\n",
      "NLL after scaling: 0.00'\n",
      "NLL after scaling: 0.00'\n",
      "color: y2.unique()=tensor([0, 1, 2, 3]) logits_color.shape=torch.Size([4209, 4])\n",
      "Initial T/NLL: 1.000/0.000\n",
      "Initial T/NLL: 1.000/0.000\n",
      "Optimal temperature: 0.9999991059303284\n",
      "Optimal temperature: 0.9999991059303284\n",
      "NLL after scaling: 0.00'\n",
      "NLL after scaling: 0.00'\n",
      "shape: y3.unique()=tensor([0, 1, 2, 3, 4]) logits_shape.shape=torch.Size([4209, 5])\n",
      "Initial T/NLL: 1.000/0.000\n",
      "Initial T/NLL: 1.000/0.000\n",
      "Optimal temperature: 0.9999993443489075\n",
      "Optimal temperature: 0.9999993443489075\n",
      "NLL after scaling: 0.00'\n",
      "NLL after scaling: 0.00'\n",
      "self.scorer_label.t=Parameter containing:\n",
      "tensor(1.0010, requires_grad=True)\n",
      "self.scorer_color.t=Parameter containing:\n",
      "tensor(1.0000, requires_grad=True)\n",
      "self.scorer_shape.t=Parameter containing:\n",
      "tensor(1.0000, requires_grad=True)\n",
      "{'AUROC': 0.9989179968833923, 'AUPR-IN': 0.9984738230705261, 'AUPR-OUT': 0.999334990978241, 'FPR95TPR': 0.0047505940310657024, 'Method': 'PrologOOD', 'Dataset': 'LSUNCrop'}\n",
      "{'AUROC': 0.9990730285644531, 'AUPR-IN': 0.9985733032226562, 'AUPR-OUT': 0.9994624257087708, 'FPR95TPR': 0.003167062532156706, 'Method': 'PrologOOD', 'Dataset': 'LSUNResize'}\n",
      "Found 5640 texture files.\n",
      "Found 5640 texture files.\n",
      "{'AUROC': 0.9985082149505615, 'AUPR-IN': 0.9962790012359619, 'AUPR-OUT': 0.9994070529937744, 'FPR95TPR': 0.006650831550359726, 'Method': 'PrologOOD', 'Dataset': 'Textures'}\n",
      "{'AUROC': 0.9987207055091858, 'AUPR-IN': 0.9981688857078552, 'AUPR-OUT': 0.9991859197616577, 'FPR95TPR': 0.005146476440131664, 'Method': 'PrologOOD', 'Dataset': 'TinyImageNetCrop'}\n",
      "{'AUROC': 0.9988599419593811, 'AUPR-IN': 0.9982908964157104, 'AUPR-OUT': 0.9993020296096802, 'FPR95TPR': 0.004513063933700323, 'Method': 'PrologOOD', 'Dataset': 'TinyImageNetResize'}\n",
      "{'AUROC': 0.9995242357254028, 'AUPR-IN': 0.9993995428085327, 'AUPR-OUT': 0.9997894763946533, 'FPR95TPR': 0.0009501187596470118, 'Method': 'PrologOOD+', 'Dataset': 'LSUNCrop'}\n",
      "{'AUROC': 0.9995249509811401, 'AUPR-IN': 0.9994007349014282, 'AUPR-OUT': 0.9997900724411011, 'FPR95TPR': 0.0009501187596470118, 'Method': 'PrologOOD+', 'Dataset': 'LSUNResize'}\n",
      "Found 5640 texture files.\n",
      "Found 5640 texture files.\n",
      "{'AUROC': 0.999515950679779, 'AUPR-IN': 0.9989171624183655, 'AUPR-OUT': 0.9998493790626526, 'FPR95TPR': 0.0009501187596470118, 'Method': 'PrologOOD+', 'Dataset': 'Textures'}\n",
      "{'AUROC': 0.9995249509811401, 'AUPR-IN': 0.9994007349014282, 'AUPR-OUT': 0.9997900724411011, 'FPR95TPR': 0.0009501187596470118, 'Method': 'PrologOOD+', 'Dataset': 'TinyImageNetCrop'}\n",
      "{'AUROC': 0.9995249509811401, 'AUPR-IN': 0.9994007349014282, 'AUPR-OUT': 0.9997900724411011, 'FPR95TPR': 0.0009501187596470118, 'Method': 'PrologOOD+', 'Dataset': 'TinyImageNetResize'}\n",
      "{'AUROC': 0.9989178776741028, 'AUPR-IN': 0.9984738826751709, 'AUPR-OUT': 0.9993349313735962, 'FPR95TPR': 0.0047505940310657024, 'Method': 'PrologOODT', 'Dataset': 'LSUNCrop'}\n",
      "{'AUROC': 0.999073326587677, 'AUPR-IN': 0.9985735416412354, 'AUPR-OUT': 0.9994626045227051, 'FPR95TPR': 0.003167062532156706, 'Method': 'PrologOODT', 'Dataset': 'LSUNResize'}\n",
      "Found 5640 texture files.\n",
      "Found 5640 texture files.\n",
      "{'AUROC': 0.9985083341598511, 'AUPR-IN': 0.9962790608406067, 'AUPR-OUT': 0.9994071125984192, 'FPR95TPR': 0.006650831550359726, 'Method': 'PrologOODT', 'Dataset': 'Textures'}\n",
      "{'AUROC': 0.9987200498580933, 'AUPR-IN': 0.998168408870697, 'AUPR-OUT': 0.99918532371521, 'FPR95TPR': 0.005146476440131664, 'Method': 'PrologOODT', 'Dataset': 'TinyImageNetCrop'}\n",
      "{'AUROC': 0.9988600611686707, 'AUPR-IN': 0.9982909560203552, 'AUPR-OUT': 0.999302089214325, 'FPR95TPR': 0.004592240788042545, 'Method': 'PrologOODT', 'Dataset': 'TinyImageNetResize'}\n",
      "{'AUROC': 0.9995239973068237, 'AUPR-IN': 0.9993991851806641, 'AUPR-OUT': 0.999789297580719, 'FPR95TPR': 0.0009501187596470118, 'Method': 'PrologOODT+', 'Dataset': 'LSUNCrop'}\n",
      "{'AUROC': 0.9995249509811401, 'AUPR-IN': 0.9994007349014282, 'AUPR-OUT': 0.9997901320457458, 'FPR95TPR': 0.0009501187596470118, 'Method': 'PrologOODT+', 'Dataset': 'LSUNResize'}\n",
      "Found 5640 texture files.\n",
      "Found 5640 texture files.\n",
      "{'AUROC': 0.9995149374008179, 'AUPR-IN': 0.9989150762557983, 'AUPR-OUT': 0.9998489022254944, 'FPR95TPR': 0.0009501187596470118, 'Method': 'PrologOODT+', 'Dataset': 'Textures'}\n",
      "{'AUROC': 0.9995249509811401, 'AUPR-IN': 0.9994007349014282, 'AUPR-OUT': 0.9997901320457458, 'FPR95TPR': 0.0009501187596470118, 'Method': 'PrologOODT+', 'Dataset': 'TinyImageNetCrop'}\n",
      "{'AUROC': 0.9995249509811401, 'AUPR-IN': 0.9994007349014282, 'AUPR-OUT': 0.9997901320457458, 'FPR95TPR': 0.0009501187596470118, 'Method': 'PrologOODT+', 'Dataset': 'TinyImageNetResize'}\n",
      "{'AUROC': 0.897724986076355, 'AUPR-IN': 0.9424322843551636, 'AUPR-OUT': 0.9303209781646729, 'FPR95TPR': 1.0, 'Method': 'Logic', 'Dataset': 'LSUNCrop'}\n",
      "{'AUROC': 0.8477749824523926, 'AUPR-IN': 0.9144470691680908, 'AUPR-OUT': 0.9028438329696655, 'FPR95TPR': 1.0, 'Method': 'Logic', 'Dataset': 'LSUNResize'}\n",
      "Found 5640 texture files.\n",
      "Found 5640 texture files.\n",
      "{'AUROC': 0.8471313714981079, 'AUPR-IN': 0.8931251764297485, 'AUPR-OUT': 0.9399036169052124, 'FPR95TPR': 1.0, 'Method': 'Logic', 'Dataset': 'Textures'}\n",
      "{'AUROC': 0.864674985408783, 'AUPR-IN': 0.9239188432693481, 'AUPR-OUT': 0.9117391705513, 'FPR95TPR': 1.0, 'Method': 'Logic', 'Dataset': 'TinyImageNetCrop'}\n",
      "{'AUROC': 0.8439249396324158, 'AUPR-IN': 0.9122887253761292, 'AUPR-OUT': 0.9008708000183105, 'FPR95TPR': 1.0, 'Method': 'Logic', 'Dataset': 'TinyImageNetResize'}\n",
      "{'AUROC': 0.9992249608039856, 'AUPR-IN': 0.9992329478263855, 'AUPR-OUT': 0.9995524287223816, 'FPR95TPR': 0.0009501187596470118, 'Method': 'Logic+', 'Dataset': 'LSUNCrop'}\n",
      "{'AUROC': 0.9995249509811401, 'AUPR-IN': 0.9994007349014282, 'AUPR-OUT': 0.9997900724411011, 'FPR95TPR': 0.0009501187596470118, 'Method': 'Logic+', 'Dataset': 'LSUNResize'}\n",
      "Found 5640 texture files.\n",
      "Found 5640 texture files.\n",
      "{'AUROC': 0.9988157749176025, 'AUPR-IN': 0.9984465837478638, 'AUPR-OUT': 0.9995365738868713, 'FPR95TPR': 0.0009501187596470118, 'Method': 'Logic+', 'Dataset': 'Textures'}\n",
      "{'AUROC': 0.9995249509811401, 'AUPR-IN': 0.9994007349014282, 'AUPR-OUT': 0.9997900724411011, 'FPR95TPR': 0.0009501187596470118, 'Method': 'Logic+', 'Dataset': 'TinyImageNetCrop'}\n",
      "{'AUROC': 0.9995249509811401, 'AUPR-IN': 0.9994007349014282, 'AUPR-OUT': 0.9997900724411011, 'FPR95TPR': 0.0009501187596470118, 'Method': 'Logic+', 'Dataset': 'TinyImageNetResize'}\n",
      "{'AUROC': 0.9978547096252441, 'AUPR-IN': 0.9966860413551331, 'AUPR-OUT': 0.9986111521720886, 'FPR95TPR': 0.008946951478719711, 'Method': 'Ensemble', 'Dataset': 'LSUNCrop'}\n",
      "{'AUROC': 0.9990240931510925, 'AUPR-IN': 0.9986448287963867, 'AUPR-OUT': 0.999315083026886, 'FPR95TPR': 0.0054631829261779785, 'Method': 'Ensemble', 'Dataset': 'LSUNResize'}\n",
      "Found 5640 texture files.\n",
      "Found 5640 texture files.\n",
      "{'AUROC': 0.997846245765686, 'AUPR-IN': 0.994537889957428, 'AUPR-OUT': 0.9991163015365601, 'FPR95TPR': 0.009263657964766026, 'Method': 'Ensemble', 'Dataset': 'Textures'}\n",
      "{'AUROC': 0.997888445854187, 'AUPR-IN': 0.9968739151954651, 'AUPR-OUT': 0.9985918998718262, 'FPR95TPR': 0.009263657964766026, 'Method': 'Ensemble', 'Dataset': 'TinyImageNetCrop'}\n",
      "{'AUROC': 0.9985930919647217, 'AUPR-IN': 0.998020350933075, 'AUPR-OUT': 0.9990249872207642, 'FPR95TPR': 0.007600950077176094, 'Method': 'Ensemble', 'Dataset': 'TinyImageNetResize'}\n",
      "{'AUROC': 0.9779796004295349, 'AUPR-IN': 0.9714392423629761, 'AUPR-OUT': 0.9814780354499817, 'FPR95TPR': 0.053998418152332306, 'Method': 'MSP', 'Dataset': 'LSUNCrop'}\n",
      "{'AUROC': 0.9973528981208801, 'AUPR-IN': 0.9960839152336121, 'AUPR-OUT': 0.9982194304466248, 'FPR95TPR': 0.010134600102901459, 'Method': 'MSP', 'Dataset': 'LSUNResize'}\n",
      "Found 5640 texture files.\n",
      "Found 5640 texture files.\n",
      "{'AUROC': 0.9917086958885193, 'AUPR-IN': 0.981100857257843, 'AUPR-OUT': 0.9952784776687622, 'FPR95TPR': 0.021852731704711914, 'Method': 'MSP', 'Dataset': 'Textures'}\n",
      "{'AUROC': 0.9923020601272583, 'AUPR-IN': 0.9893646240234375, 'AUPR-OUT': 0.9936957359313965, 'FPR95TPR': 0.020744260400533676, 'Method': 'MSP', 'Dataset': 'TinyImageNetCrop'}\n",
      "{'AUROC': 0.9959689378738403, 'AUPR-IN': 0.9944348931312561, 'AUPR-OUT': 0.9969033598899841, 'FPR95TPR': 0.012826602905988693, 'Method': 'MSP', 'Dataset': 'TinyImageNetResize'}\n",
      "{'AUROC': 0.9781672358512878, 'AUPR-IN': 0.9784241914749146, 'AUPR-OUT': 0.9777478575706482, 'FPR95TPR': 0.06207442656159401, 'Method': 'Energy', 'Dataset': 'LSUNCrop'}\n",
      "{'AUROC': 0.9990395903587341, 'AUPR-IN': 0.9986714720726013, 'AUPR-OUT': 0.9992063045501709, 'FPR95TPR': 0.0018210610141977668, 'Method': 'Energy', 'Dataset': 'LSUNResize'}\n",
      "Found 5640 texture files.\n",
      "Found 5640 texture files.\n",
      "{'AUROC': 0.9875861406326294, 'AUPR-IN': 0.9831174612045288, 'AUPR-OUT': 0.9904006123542786, 'FPR95TPR': 0.01987331733107567, 'Method': 'Energy', 'Dataset': 'Textures'}\n",
      "{'AUROC': 0.9938667416572571, 'AUPR-IN': 0.99365234375, 'AUPR-OUT': 0.9935194849967957, 'FPR95TPR': 0.01401425153017044, 'Method': 'Energy', 'Dataset': 'TinyImageNetCrop'}\n",
      "{'AUROC': 0.9966496825218201, 'AUPR-IN': 0.9965010285377502, 'AUPR-OUT': 0.99609375, 'FPR95TPR': 0.00609659543260932, 'Method': 'Energy', 'Dataset': 'TinyImageNetResize'}\n",
      "{'AUROC': 0.9781302213668823, 'AUPR-IN': 0.9783887267112732, 'AUPR-OUT': 0.977704644203186, 'FPR95TPR': 0.06231195479631424, 'Method': 'ReAct', 'Dataset': 'LSUNCrop'}\n",
      "{'AUROC': 0.999042809009552, 'AUPR-IN': 0.9986743927001953, 'AUPR-OUT': 0.9992091059684753, 'FPR95TPR': 0.0018210610141977668, 'Method': 'ReAct', 'Dataset': 'LSUNResize'}\n",
      "Found 5640 texture files.\n",
      "Found 5640 texture files.\n",
      "{'AUROC': 0.9879573583602905, 'AUPR-IN': 0.983473002910614, 'AUPR-OUT': 0.9905098080635071, 'FPR95TPR': 0.01979414001107216, 'Method': 'ReAct', 'Dataset': 'Textures'}\n",
      "{'AUROC': 0.9938731789588928, 'AUPR-IN': 0.9936569333076477, 'AUPR-OUT': 0.9935075044631958, 'FPR95TPR': 0.014093427918851376, 'Method': 'ReAct', 'Dataset': 'TinyImageNetCrop'}\n",
      "{'AUROC': 0.996673583984375, 'AUPR-IN': 0.9965196847915649, 'AUPR-OUT': 0.9961008429527283, 'FPR95TPR': 0.00609659543260932, 'Method': 'ReAct', 'Dataset': 'TinyImageNetResize'}\n",
      "{'AUROC': 0.9674996733665466, 'AUPR-IN': 0.9620322585105896, 'AUPR-OUT': 0.9942004680633545, 'FPR95TPR': 0.06492478400468826, 'Method': 'ViM', 'Dataset': 'LSUNCrop'}\n",
      "{'AUROC': 0.9675375819206238, 'AUPR-IN': 0.9621071815490723, 'AUPR-OUT': 0.9983676671981812, 'FPR95TPR': 0.06492478400468826, 'Method': 'ViM', 'Dataset': 'LSUNResize'}\n",
      "Found 5640 texture files.\n",
      "Found 5640 texture files.\n",
      "{'AUROC': 0.9675312638282776, 'AUPR-IN': 0.9365105628967285, 'AUPR-OUT': 0.9986129999160767, 'FPR95TPR': 0.06492478400468826, 'Method': 'ViM', 'Dataset': 'Textures'}\n",
      "{'AUROC': 0.967505693435669, 'AUPR-IN': 0.9620466232299805, 'AUPR-OUT': 0.9963027238845825, 'FPR95TPR': 0.06492478400468826, 'Method': 'ViM', 'Dataset': 'TinyImageNetCrop'}\n",
      "{'AUROC': 0.9675375819206238, 'AUPR-IN': 0.9621071815490723, 'AUPR-OUT': 0.9982547760009766, 'FPR95TPR': 0.06492478400468826, 'Method': 'ViM', 'Dataset': 'TinyImageNetResize'}\n",
      "{'AUROC': 0.9934732913970947, 'AUPR-IN': 0.9886913299560547, 'AUPR-OUT': 0.9959763884544373, 'FPR95TPR': 0.022090261802077293, 'Method': 'Mahalanobis', 'Dataset': 'LSUNCrop'}\n",
      "{'AUROC': 0.999398946762085, 'AUPR-IN': 0.9991175532341003, 'AUPR-OUT': 0.9995895624160767, 'FPR95TPR': 0.0023752970155328512, 'Method': 'Mahalanobis', 'Dataset': 'LSUNResize'}\n",
      "Found 5640 texture files.\n",
      "Found 5640 texture files.\n",
      "{'AUROC': 0.9982873201370239, 'AUPR-IN': 0.9957432746887207, 'AUPR-OUT': 0.9992903470993042, 'FPR95TPR': 0.007996832951903343, 'Method': 'Mahalanobis', 'Dataset': 'Textures'}\n",
      "{'AUROC': 0.9969383478164673, 'AUPR-IN': 0.9951053857803345, 'AUPR-OUT': 0.9979985952377319, 'FPR95TPR': 0.013539192266762257, 'Method': 'Mahalanobis', 'Dataset': 'TinyImageNetCrop'}\n",
      "{'AUROC': 0.9990503787994385, 'AUPR-IN': 0.9986340403556824, 'AUPR-OUT': 0.9993427395820618, 'FPR95TPR': 0.004275534301996231, 'Method': 'Mahalanobis', 'Dataset': 'TinyImageNetResize'}\n",
      "{'AUROC': 0.9791690111160278, 'AUPR-IN': 0.9745795726776123, 'AUPR-OUT': 0.982028067111969, 'FPR95TPR': 0.05114806070923805, 'Method': 'Entropy', 'Dataset': 'LSUNCrop'}\n",
      "{'AUROC': 0.9983444809913635, 'AUPR-IN': 0.9977524876594543, 'AUPR-OUT': 0.9987844824790955, 'FPR95TPR': 0.009263657964766026, 'Method': 'Entropy', 'Dataset': 'LSUNResize'}\n",
      "Found 5640 texture files.\n",
      "Found 5640 texture files.\n",
      "{'AUROC': 0.9926522970199585, 'AUPR-IN': 0.9850863218307495, 'AUPR-OUT': 0.9954859614372253, 'FPR95TPR': 0.021060965955257416, 'Method': 'Entropy', 'Dataset': 'Textures'}\n",
      "{'AUROC': 0.9934322237968445, 'AUPR-IN': 0.9918171763420105, 'AUPR-OUT': 0.9942251443862915, 'FPR95TPR': 0.01963578723371029, 'Method': 'Entropy', 'Dataset': 'TinyImageNetCrop'}\n",
      "{'AUROC': 0.9968901872634888, 'AUPR-IN': 0.9961152076721191, 'AUPR-OUT': 0.9973650574684143, 'FPR95TPR': 0.012272367253899574, 'Method': 'Entropy', 'Dataset': 'TinyImageNetResize'}\n",
      "{'AUROC': 0.9779651165008545, 'AUPR-IN': 0.9780888557434082, 'AUPR-OUT': 0.9776403903961182, 'FPR95TPR': 0.06207442656159401, 'Method': 'MaxLogit', 'Dataset': 'LSUNCrop'}\n",
      "{'AUROC': 0.9990049004554749, 'AUPR-IN': 0.9987190365791321, 'AUPR-OUT': 0.9991748332977295, 'FPR95TPR': 0.0021377671509981155, 'Method': 'MaxLogit', 'Dataset': 'LSUNResize'}\n",
      "Found 5640 texture files.\n",
      "Found 5640 texture files.\n",
      "{'AUROC': 0.9875108003616333, 'AUPR-IN': 0.9830707311630249, 'AUPR-OUT': 0.9903697371482849, 'FPR95TPR': 0.01987331733107567, 'Method': 'MaxLogit', 'Dataset': 'Textures'}\n",
      "{'AUROC': 0.9937541484832764, 'AUPR-IN': 0.9935507774353027, 'AUPR-OUT': 0.9934608936309814, 'FPR95TPR': 0.01425178162753582, 'Method': 'MaxLogit', 'Dataset': 'TinyImageNetCrop'}\n",
      "{'AUROC': 0.9966013431549072, 'AUPR-IN': 0.9965431690216064, 'AUPR-OUT': 0.9960589408874512, 'FPR95TPR': 0.006809184327721596, 'Method': 'MaxLogit', 'Dataset': 'TinyImageNetResize'}\n"
     ]
    },
    {
     "data": {
      "text/plain": "  0%|          | 0/2657 [00:00<?, ?it/s]",
      "application/vnd.jupyter.widget-view+json": {
       "version_major": 2,
       "version_minor": 0,
       "model_id": "34ae9aea16c5452f980bb022c8fc801e"
      }
     },
     "metadata": {},
     "output_type": "display_data"
    },
    {
     "name": "stdout",
     "output_type": "stream",
     "text": [
      "Accuracy of the sign network on the test images: 99.99%\n"
     ]
    },
    {
     "data": {
      "text/plain": "  0%|          | 0/2657 [00:00<?, ?it/s]",
      "application/vnd.jupyter.widget-view+json": {
       "version_major": 2,
       "version_minor": 0,
       "model_id": "848480c033604164998834a453dfad59"
      }
     },
     "metadata": {},
     "output_type": "display_data"
    },
    {
     "name": "stdout",
     "output_type": "stream",
     "text": [
      "Accuracy of the sign network on the test images: 100.00%\n"
     ]
    },
    {
     "data": {
      "text/plain": "  0%|          | 0/2657 [00:00<?, ?it/s]",
      "application/vnd.jupyter.widget-view+json": {
       "version_major": 2,
       "version_minor": 0,
       "model_id": "3b0fb1829c794331ab939d10b0fb2c53"
      }
     },
     "metadata": {},
     "output_type": "display_data"
    },
    {
     "name": "stdout",
     "output_type": "stream",
     "text": [
      "Accuracy of the sign network on the test images: 99.99%\n"
     ]
    },
    {
     "data": {
      "text/plain": "  0%|          | 0/2657 [00:00<?, ?it/s]",
      "application/vnd.jupyter.widget-view+json": {
       "version_major": 2,
       "version_minor": 0,
       "model_id": "b0878c4d1d5749f8b3e23494d3ed2147"
      }
     },
     "metadata": {},
     "output_type": "display_data"
    },
    {
     "name": "stdout",
     "output_type": "stream",
     "text": [
      "Accuracy of the sign network on the test images: 99.97%\n"
     ]
    },
    {
     "data": {
      "text/plain": "  0%|          | 0/2657 [00:00<?, ?it/s]",
      "application/vnd.jupyter.widget-view+json": {
       "version_major": 2,
       "version_minor": 0,
       "model_id": "abd2221ff49d46908d2575f656edaae9"
      }
     },
     "metadata": {},
     "output_type": "display_data"
    },
    {
     "name": "stdout",
     "output_type": "stream",
     "text": [
      "Accuracy of the sign network on the test images: 100.00%\n"
     ]
    },
    {
     "data": {
      "text/plain": "  0%|          | 0/2657 [00:00<?, ?it/s]",
      "application/vnd.jupyter.widget-view+json": {
       "version_major": 2,
       "version_minor": 0,
       "model_id": "3bea998c1e83499d8abf60eea06a15e2"
      }
     },
     "metadata": {},
     "output_type": "display_data"
    },
    {
     "name": "stdout",
     "output_type": "stream",
     "text": [
      "Accuracy of the sign network on the test images: 99.98%\n"
     ]
    },
    {
     "data": {
      "text/plain": "  0%|          | 0/2657 [00:00<?, ?it/s]",
      "application/vnd.jupyter.widget-view+json": {
       "version_major": 2,
       "version_minor": 0,
       "model_id": "827408ec913b4f40a7441171c6e02207"
      }
     },
     "metadata": {},
     "output_type": "display_data"
    },
    {
     "name": "stdout",
     "output_type": "stream",
     "text": [
      "Accuracy of the sign network on the test images: 99.99%\n"
     ]
    },
    {
     "data": {
      "text/plain": "  0%|          | 0/2657 [00:00<?, ?it/s]",
      "application/vnd.jupyter.widget-view+json": {
       "version_major": 2,
       "version_minor": 0,
       "model_id": "0edaafa579264ba1a496058eb6866e94"
      }
     },
     "metadata": {},
     "output_type": "display_data"
    },
    {
     "name": "stdout",
     "output_type": "stream",
     "text": [
      "Accuracy of the sign network on the test images: 100.00%\n"
     ]
    },
    {
     "data": {
      "text/plain": "  0%|          | 0/2657 [00:00<?, ?it/s]",
      "application/vnd.jupyter.widget-view+json": {
       "version_major": 2,
       "version_minor": 0,
       "model_id": "854d6556df6b46d3828b0d68de48c931"
      }
     },
     "metadata": {},
     "output_type": "display_data"
    },
    {
     "name": "stdout",
     "output_type": "stream",
     "text": [
      "Accuracy of the sign network on the test images: 100.00%\n"
     ]
    },
    {
     "data": {
      "text/plain": "  0%|          | 0/2657 [00:00<?, ?it/s]",
      "application/vnd.jupyter.widget-view+json": {
       "version_major": 2,
       "version_minor": 0,
       "model_id": "5b0abf6f138a4fa8984f7d62d9552965"
      }
     },
     "metadata": {},
     "output_type": "display_data"
    },
    {
     "name": "stdout",
     "output_type": "stream",
     "text": [
      "Accuracy of the sign network on the test images: 100.00%\n"
     ]
    },
    {
     "data": {
      "text/plain": "  0%|          | 0/2657 [00:00<?, ?it/s]",
      "application/vnd.jupyter.widget-view+json": {
       "version_major": 2,
       "version_minor": 0,
       "model_id": "65ea36eb8c0940c68eccda1186844290"
      }
     },
     "metadata": {},
     "output_type": "display_data"
    },
    {
     "name": "stdout",
     "output_type": "stream",
     "text": [
      "Accuracy of the sign network on the test images: 100.00%\n"
     ]
    },
    {
     "data": {
      "text/plain": "  0%|          | 0/2657 [00:00<?, ?it/s]",
      "application/vnd.jupyter.widget-view+json": {
       "version_major": 2,
       "version_minor": 0,
       "model_id": "7867ff7f92a641748de4ac5e33d4179e"
      }
     },
     "metadata": {},
     "output_type": "display_data"
    },
    {
     "name": "stdout",
     "output_type": "stream",
     "text": [
      "Accuracy of the sign network on the test images: 100.00%\n"
     ]
    },
    {
     "data": {
      "text/plain": "  0%|          | 0/2657 [00:00<?, ?it/s]",
      "application/vnd.jupyter.widget-view+json": {
       "version_major": 2,
       "version_minor": 0,
       "model_id": "072915ebf04849928e4dcdcc5a19588d"
      }
     },
     "metadata": {},
     "output_type": "display_data"
    },
    {
     "name": "stdout",
     "output_type": "stream",
     "text": [
      "Accuracy of the sign network on the test images: 100.00%\n"
     ]
    },
    {
     "data": {
      "text/plain": "  0%|          | 0/2657 [00:00<?, ?it/s]",
      "application/vnd.jupyter.widget-view+json": {
       "version_major": 2,
       "version_minor": 0,
       "model_id": "70e59df3941b43f4a2e6ebe97e52276a"
      }
     },
     "metadata": {},
     "output_type": "display_data"
    },
    {
     "name": "stdout",
     "output_type": "stream",
     "text": [
      "Accuracy of the sign network on the test images: 100.00%\n"
     ]
    },
    {
     "data": {
      "text/plain": "  0%|          | 0/2657 [00:00<?, ?it/s]",
      "application/vnd.jupyter.widget-view+json": {
       "version_major": 2,
       "version_minor": 0,
       "model_id": "5b74359f590c4debac8177d67d2fcd11"
      }
     },
     "metadata": {},
     "output_type": "display_data"
    },
    {
     "name": "stdout",
     "output_type": "stream",
     "text": [
      "Accuracy of the sign network on the test images: 100.00%\n"
     ]
    },
    {
     "data": {
      "text/plain": "  0%|          | 0/2657 [00:00<?, ?it/s]",
      "application/vnd.jupyter.widget-view+json": {
       "version_major": 2,
       "version_minor": 0,
       "model_id": "6be95b96f8364613afbe2dc3fdcfd9f2"
      }
     },
     "metadata": {},
     "output_type": "display_data"
    },
    {
     "name": "stdout",
     "output_type": "stream",
     "text": [
      "Accuracy of the sign network on the test images: 100.00%\n"
     ]
    },
    {
     "data": {
      "text/plain": "  0%|          | 0/2657 [00:00<?, ?it/s]",
      "application/vnd.jupyter.widget-view+json": {
       "version_major": 2,
       "version_minor": 0,
       "model_id": "4b8c0f9268864049b06d8708c44f3597"
      }
     },
     "metadata": {},
     "output_type": "display_data"
    },
    {
     "name": "stdout",
     "output_type": "stream",
     "text": [
      "Accuracy of the sign network on the test images: 100.00%\n"
     ]
    },
    {
     "data": {
      "text/plain": "  0%|          | 0/2657 [00:00<?, ?it/s]",
      "application/vnd.jupyter.widget-view+json": {
       "version_major": 2,
       "version_minor": 0,
       "model_id": "6aa9e01b6bf448ec8f84d39d21aa064f"
      }
     },
     "metadata": {},
     "output_type": "display_data"
    },
    {
     "name": "stdout",
     "output_type": "stream",
     "text": [
      "Accuracy of the sign network on the test images: 100.00%\n"
     ]
    },
    {
     "data": {
      "text/plain": "  0%|          | 0/2657 [00:00<?, ?it/s]",
      "application/vnd.jupyter.widget-view+json": {
       "version_major": 2,
       "version_minor": 0,
       "model_id": "04b3912258f74b9db98de7d8f4632202"
      }
     },
     "metadata": {},
     "output_type": "display_data"
    },
    {
     "name": "stdout",
     "output_type": "stream",
     "text": [
      "Accuracy of the sign network on the test images: 100.00%\n"
     ]
    },
    {
     "data": {
      "text/plain": "  0%|          | 0/2657 [00:00<?, ?it/s]",
      "application/vnd.jupyter.widget-view+json": {
       "version_major": 2,
       "version_minor": 0,
       "model_id": "0b0e535d4b95466c8c2d152e53b7e50d"
      }
     },
     "metadata": {},
     "output_type": "display_data"
    },
    {
     "name": "stdout",
     "output_type": "stream",
     "text": [
      "Accuracy of the sign network on the test images: 100.00%\n"
     ]
    },
    {
     "data": {
      "text/plain": "  0%|          | 0/1094 [00:00<?, ?it/s]",
      "application/vnd.jupyter.widget-view+json": {
       "version_major": 2,
       "version_minor": 0,
       "model_id": "447b02c5699d4585ab95437dc85015db"
      }
     },
     "metadata": {},
     "output_type": "display_data"
    },
    {
     "name": "stdout",
     "output_type": "stream",
     "text": [
      "Accuracy of the network on the test images: 99.96%\n"
     ]
    },
    {
     "data": {
      "text/plain": "  0%|          | 0/1094 [00:00<?, ?it/s]",
      "application/vnd.jupyter.widget-view+json": {
       "version_major": 2,
       "version_minor": 0,
       "model_id": "e84e3bfa64124d488b32864490104e08"
      }
     },
     "metadata": {},
     "output_type": "display_data"
    },
    {
     "name": "stdout",
     "output_type": "stream",
     "text": [
      "Accuracy of the network on the test images: 99.90%\n"
     ]
    },
    {
     "data": {
      "text/plain": "  0%|          | 0/1094 [00:00<?, ?it/s]",
      "application/vnd.jupyter.widget-view+json": {
       "version_major": 2,
       "version_minor": 0,
       "model_id": "19ea5287b57246e7a2bbf926f099cf4a"
      }
     },
     "metadata": {},
     "output_type": "display_data"
    },
    {
     "name": "stdout",
     "output_type": "stream",
     "text": [
      "Accuracy of the network on the test images: 99.96%\n"
     ]
    },
    {
     "data": {
      "text/plain": "  0%|          | 0/1094 [00:00<?, ?it/s]",
      "application/vnd.jupyter.widget-view+json": {
       "version_major": 2,
       "version_minor": 0,
       "model_id": "358c0360a5e549a8849f6778b1626560"
      }
     },
     "metadata": {},
     "output_type": "display_data"
    },
    {
     "name": "stdout",
     "output_type": "stream",
     "text": [
      "Accuracy of the network on the test images: 99.98%\n"
     ]
    },
    {
     "data": {
      "text/plain": "  0%|          | 0/1094 [00:00<?, ?it/s]",
      "application/vnd.jupyter.widget-view+json": {
       "version_major": 2,
       "version_minor": 0,
       "model_id": "195e575cee724eafbf2ce552769a3c07"
      }
     },
     "metadata": {},
     "output_type": "display_data"
    },
    {
     "name": "stdout",
     "output_type": "stream",
     "text": [
      "Accuracy of the network on the test images: 99.86%\n"
     ]
    },
    {
     "data": {
      "text/plain": "  0%|          | 0/1094 [00:00<?, ?it/s]",
      "application/vnd.jupyter.widget-view+json": {
       "version_major": 2,
       "version_minor": 0,
       "model_id": "0045bd0f981b4662877dafe14b6593e9"
      }
     },
     "metadata": {},
     "output_type": "display_data"
    },
    {
     "name": "stdout",
     "output_type": "stream",
     "text": [
      "Accuracy of the network on the test images: 99.98%\n"
     ]
    },
    {
     "data": {
      "text/plain": "  0%|          | 0/1094 [00:00<?, ?it/s]",
      "application/vnd.jupyter.widget-view+json": {
       "version_major": 2,
       "version_minor": 0,
       "model_id": "6259de16f1cd42b3a41cb2a3cf7cf0d9"
      }
     },
     "metadata": {},
     "output_type": "display_data"
    },
    {
     "name": "stdout",
     "output_type": "stream",
     "text": [
      "Accuracy of the network on the test images: 99.98%\n"
     ]
    },
    {
     "data": {
      "text/plain": "  0%|          | 0/1094 [00:00<?, ?it/s]",
      "application/vnd.jupyter.widget-view+json": {
       "version_major": 2,
       "version_minor": 0,
       "model_id": "565e04ac3a17442da512d6b91e80227c"
      }
     },
     "metadata": {},
     "output_type": "display_data"
    },
    {
     "name": "stdout",
     "output_type": "stream",
     "text": [
      "Accuracy of the network on the test images: 99.98%\n"
     ]
    },
    {
     "data": {
      "text/plain": "  0%|          | 0/1094 [00:00<?, ?it/s]",
      "application/vnd.jupyter.widget-view+json": {
       "version_major": 2,
       "version_minor": 0,
       "model_id": "dc2b6031559b4549a8e37dd965df2604"
      }
     },
     "metadata": {},
     "output_type": "display_data"
    },
    {
     "name": "stdout",
     "output_type": "stream",
     "text": [
      "Accuracy of the network on the test images: 99.98%\n"
     ]
    },
    {
     "data": {
      "text/plain": "  0%|          | 0/1094 [00:00<?, ?it/s]",
      "application/vnd.jupyter.widget-view+json": {
       "version_major": 2,
       "version_minor": 0,
       "model_id": "d8d1a50770d34f97a888905865a10f47"
      }
     },
     "metadata": {},
     "output_type": "display_data"
    },
    {
     "name": "stdout",
     "output_type": "stream",
     "text": [
      "Accuracy of the network on the test images: 99.98%\n"
     ]
    },
    {
     "data": {
      "text/plain": "  0%|          | 0/1094 [00:00<?, ?it/s]",
      "application/vnd.jupyter.widget-view+json": {
       "version_major": 2,
       "version_minor": 0,
       "model_id": "ca118acc90b54dc294a972fa52cd76fe"
      }
     },
     "metadata": {},
     "output_type": "display_data"
    },
    {
     "name": "stdout",
     "output_type": "stream",
     "text": [
      "Accuracy of the network on the test images: 99.97%\n"
     ]
    },
    {
     "data": {
      "text/plain": "  0%|          | 0/1094 [00:00<?, ?it/s]",
      "application/vnd.jupyter.widget-view+json": {
       "version_major": 2,
       "version_minor": 0,
       "model_id": "a9eee221568544b6b8c911477e49f899"
      }
     },
     "metadata": {},
     "output_type": "display_data"
    },
    {
     "name": "stdout",
     "output_type": "stream",
     "text": [
      "Accuracy of the network on the test images: 99.97%\n"
     ]
    },
    {
     "data": {
      "text/plain": "  0%|          | 0/1094 [00:00<?, ?it/s]",
      "application/vnd.jupyter.widget-view+json": {
       "version_major": 2,
       "version_minor": 0,
       "model_id": "0a8f95a5d424447f8cd3835d8b4c0835"
      }
     },
     "metadata": {},
     "output_type": "display_data"
    },
    {
     "name": "stdout",
     "output_type": "stream",
     "text": [
      "Accuracy of the network on the test images: 99.98%\n"
     ]
    },
    {
     "data": {
      "text/plain": "  0%|          | 0/1094 [00:00<?, ?it/s]",
      "application/vnd.jupyter.widget-view+json": {
       "version_major": 2,
       "version_minor": 0,
       "model_id": "1dd7c29b45c8471b8b9dd566a55de14c"
      }
     },
     "metadata": {},
     "output_type": "display_data"
    },
    {
     "name": "stdout",
     "output_type": "stream",
     "text": [
      "Accuracy of the network on the test images: 99.98%\n"
     ]
    },
    {
     "data": {
      "text/plain": "  0%|          | 0/1094 [00:00<?, ?it/s]",
      "application/vnd.jupyter.widget-view+json": {
       "version_major": 2,
       "version_minor": 0,
       "model_id": "5e29db5d46a94e89bf33527fb7f68250"
      }
     },
     "metadata": {},
     "output_type": "display_data"
    },
    {
     "name": "stdout",
     "output_type": "stream",
     "text": [
      "Accuracy of the network on the test images: 100.00%\n"
     ]
    },
    {
     "data": {
      "text/plain": "  0%|          | 0/1094 [00:00<?, ?it/s]",
      "application/vnd.jupyter.widget-view+json": {
       "version_major": 2,
       "version_minor": 0,
       "model_id": "9a4c9044a3ff4d4892228ed27f1fc2b7"
      }
     },
     "metadata": {},
     "output_type": "display_data"
    },
    {
     "name": "stdout",
     "output_type": "stream",
     "text": [
      "Accuracy of the network on the test images: 99.97%\n"
     ]
    },
    {
     "data": {
      "text/plain": "  0%|          | 0/1094 [00:00<?, ?it/s]",
      "application/vnd.jupyter.widget-view+json": {
       "version_major": 2,
       "version_minor": 0,
       "model_id": "7b9ded3db23f448bae35113cccb3f081"
      }
     },
     "metadata": {},
     "output_type": "display_data"
    },
    {
     "name": "stdout",
     "output_type": "stream",
     "text": [
      "Accuracy of the network on the test images: 99.96%\n"
     ]
    },
    {
     "data": {
      "text/plain": "  0%|          | 0/1094 [00:00<?, ?it/s]",
      "application/vnd.jupyter.widget-view+json": {
       "version_major": 2,
       "version_minor": 0,
       "model_id": "d7dbbe3d03ba48f89292cee6997f4114"
      }
     },
     "metadata": {},
     "output_type": "display_data"
    },
    {
     "name": "stdout",
     "output_type": "stream",
     "text": [
      "Accuracy of the network on the test images: 99.95%\n"
     ]
    },
    {
     "data": {
      "text/plain": "  0%|          | 0/1094 [00:00<?, ?it/s]",
      "application/vnd.jupyter.widget-view+json": {
       "version_major": 2,
       "version_minor": 0,
       "model_id": "4e59dbdc43b44a2db2ef7c996fd79a5e"
      }
     },
     "metadata": {},
     "output_type": "display_data"
    },
    {
     "name": "stdout",
     "output_type": "stream",
     "text": [
      "Accuracy of the network on the test images: 99.97%\n"
     ]
    },
    {
     "data": {
      "text/plain": "  0%|          | 0/1094 [00:00<?, ?it/s]",
      "application/vnd.jupyter.widget-view+json": {
       "version_major": 2,
       "version_minor": 0,
       "model_id": "9b0a52153554430a8e091b7041ac0a0c"
      }
     },
     "metadata": {},
     "output_type": "display_data"
    },
    {
     "name": "stdout",
     "output_type": "stream",
     "text": [
      "Accuracy of the network on the test images: 99.99%\n"
     ]
    },
    {
     "data": {
      "text/plain": "  0%|          | 0/1094 [00:00<?, ?it/s]",
      "application/vnd.jupyter.widget-view+json": {
       "version_major": 2,
       "version_minor": 0,
       "model_id": "642b814270fe4915842f14444f7af647"
      }
     },
     "metadata": {},
     "output_type": "display_data"
    },
    {
     "name": "stdout",
     "output_type": "stream",
     "text": [
      "Accuracy of the network on the test images: 99.89%\n"
     ]
    },
    {
     "data": {
      "text/plain": "  0%|          | 0/1094 [00:00<?, ?it/s]",
      "application/vnd.jupyter.widget-view+json": {
       "version_major": 2,
       "version_minor": 0,
       "model_id": "760159f0982c4080a153ab865c466195"
      }
     },
     "metadata": {},
     "output_type": "display_data"
    },
    {
     "name": "stdout",
     "output_type": "stream",
     "text": [
      "Accuracy of the network on the test images: 99.94%\n"
     ]
    },
    {
     "data": {
      "text/plain": "  0%|          | 0/1094 [00:00<?, ?it/s]",
      "application/vnd.jupyter.widget-view+json": {
       "version_major": 2,
       "version_minor": 0,
       "model_id": "de16713027d24f118adfc18243f0ba13"
      }
     },
     "metadata": {},
     "output_type": "display_data"
    },
    {
     "name": "stdout",
     "output_type": "stream",
     "text": [
      "Accuracy of the network on the test images: 99.92%\n"
     ]
    },
    {
     "data": {
      "text/plain": "  0%|          | 0/1094 [00:00<?, ?it/s]",
      "application/vnd.jupyter.widget-view+json": {
       "version_major": 2,
       "version_minor": 0,
       "model_id": "8c5251244cd9446096576c388ade7134"
      }
     },
     "metadata": {},
     "output_type": "display_data"
    },
    {
     "name": "stdout",
     "output_type": "stream",
     "text": [
      "Accuracy of the network on the test images: 99.96%\n"
     ]
    },
    {
     "data": {
      "text/plain": "  0%|          | 0/1094 [00:00<?, ?it/s]",
      "application/vnd.jupyter.widget-view+json": {
       "version_major": 2,
       "version_minor": 0,
       "model_id": "ded685e920a043afb82cb37a31a10272"
      }
     },
     "metadata": {},
     "output_type": "display_data"
    },
    {
     "name": "stdout",
     "output_type": "stream",
     "text": [
      "Accuracy of the network on the test images: 99.90%\n"
     ]
    },
    {
     "data": {
      "text/plain": "  0%|          | 0/1094 [00:00<?, ?it/s]",
      "application/vnd.jupyter.widget-view+json": {
       "version_major": 2,
       "version_minor": 0,
       "model_id": "6a6af6a9ec1d4323ba5469b1d9c4027c"
      }
     },
     "metadata": {},
     "output_type": "display_data"
    },
    {
     "name": "stdout",
     "output_type": "stream",
     "text": [
      "Accuracy of the network on the test images: 99.98%\n"
     ]
    },
    {
     "data": {
      "text/plain": "  0%|          | 0/1094 [00:00<?, ?it/s]",
      "application/vnd.jupyter.widget-view+json": {
       "version_major": 2,
       "version_minor": 0,
       "model_id": "f14c57099d3648dca4a0724c79c501b2"
      }
     },
     "metadata": {},
     "output_type": "display_data"
    },
    {
     "name": "stdout",
     "output_type": "stream",
     "text": [
      "Accuracy of the network on the test images: 99.98%\n"
     ]
    },
    {
     "data": {
      "text/plain": "  0%|          | 0/1094 [00:00<?, ?it/s]",
      "application/vnd.jupyter.widget-view+json": {
       "version_major": 2,
       "version_minor": 0,
       "model_id": "96b416af2f2142b68e70842fb2c34ee0"
      }
     },
     "metadata": {},
     "output_type": "display_data"
    },
    {
     "name": "stdout",
     "output_type": "stream",
     "text": [
      "Accuracy of the network on the test images: 99.96%\n"
     ]
    },
    {
     "data": {
      "text/plain": "  0%|          | 0/1094 [00:00<?, ?it/s]",
      "application/vnd.jupyter.widget-view+json": {
       "version_major": 2,
       "version_minor": 0,
       "model_id": "52b82ab998594fea8adbd24cdd648129"
      }
     },
     "metadata": {},
     "output_type": "display_data"
    },
    {
     "name": "stdout",
     "output_type": "stream",
     "text": [
      "Accuracy of the network on the test images: 99.96%\n"
     ]
    },
    {
     "data": {
      "text/plain": "  0%|          | 0/1094 [00:00<?, ?it/s]",
      "application/vnd.jupyter.widget-view+json": {
       "version_major": 2,
       "version_minor": 0,
       "model_id": "7527818675fa472684d3e1fba33cf211"
      }
     },
     "metadata": {},
     "output_type": "display_data"
    },
    {
     "name": "stdout",
     "output_type": "stream",
     "text": [
      "Accuracy of the network on the test images: 99.96%\n"
     ]
    },
    {
     "data": {
      "text/plain": "  0%|          | 0/1094 [00:00<?, ?it/s]",
      "application/vnd.jupyter.widget-view+json": {
       "version_major": 2,
       "version_minor": 0,
       "model_id": "d3469bab04c44a838d5a3f159172dd54"
      }
     },
     "metadata": {},
     "output_type": "display_data"
    },
    {
     "name": "stdout",
     "output_type": "stream",
     "text": [
      "Accuracy of the network on the test images: 99.98%\n"
     ]
    },
    {
     "data": {
      "text/plain": "  0%|          | 0/1094 [00:00<?, ?it/s]",
      "application/vnd.jupyter.widget-view+json": {
       "version_major": 2,
       "version_minor": 0,
       "model_id": "1cd9c9b68ddf4b989d7b5e44f180da6c"
      }
     },
     "metadata": {},
     "output_type": "display_data"
    },
    {
     "name": "stdout",
     "output_type": "stream",
     "text": [
      "Accuracy of the network on the test images: 99.98%\n"
     ]
    },
    {
     "data": {
      "text/plain": "  0%|          | 0/1094 [00:00<?, ?it/s]",
      "application/vnd.jupyter.widget-view+json": {
       "version_major": 2,
       "version_minor": 0,
       "model_id": "5bc174bf2c814ae698c86d60c1a3e0ca"
      }
     },
     "metadata": {},
     "output_type": "display_data"
    },
    {
     "name": "stdout",
     "output_type": "stream",
     "text": [
      "Accuracy of the network on the test images: 99.94%\n"
     ]
    },
    {
     "data": {
      "text/plain": "  0%|          | 0/1094 [00:00<?, ?it/s]",
      "application/vnd.jupyter.widget-view+json": {
       "version_major": 2,
       "version_minor": 0,
       "model_id": "90f5561290464a4b9e506b7c6209168c"
      }
     },
     "metadata": {},
     "output_type": "display_data"
    },
    {
     "name": "stdout",
     "output_type": "stream",
     "text": [
      "Accuracy of the network on the test images: 99.98%\n"
     ]
    },
    {
     "data": {
      "text/plain": "  0%|          | 0/1094 [00:00<?, ?it/s]",
      "application/vnd.jupyter.widget-view+json": {
       "version_major": 2,
       "version_minor": 0,
       "model_id": "e5df046365e14095b21b0adc6f0678d9"
      }
     },
     "metadata": {},
     "output_type": "display_data"
    },
    {
     "name": "stdout",
     "output_type": "stream",
     "text": [
      "Accuracy of the network on the test images: 99.98%\n"
     ]
    },
    {
     "data": {
      "text/plain": "  0%|          | 0/1094 [00:00<?, ?it/s]",
      "application/vnd.jupyter.widget-view+json": {
       "version_major": 2,
       "version_minor": 0,
       "model_id": "0392b41a923c43ceb5a0045020860729"
      }
     },
     "metadata": {},
     "output_type": "display_data"
    },
    {
     "name": "stdout",
     "output_type": "stream",
     "text": [
      "Accuracy of the network on the test images: 99.80%\n"
     ]
    },
    {
     "data": {
      "text/plain": "  0%|          | 0/1094 [00:00<?, ?it/s]",
      "application/vnd.jupyter.widget-view+json": {
       "version_major": 2,
       "version_minor": 0,
       "model_id": "5af121ee223c4138a7944932cfdda94d"
      }
     },
     "metadata": {},
     "output_type": "display_data"
    },
    {
     "name": "stdout",
     "output_type": "stream",
     "text": [
      "Accuracy of the network on the test images: 99.94%\n"
     ]
    },
    {
     "data": {
      "text/plain": "  0%|          | 0/1094 [00:00<?, ?it/s]",
      "application/vnd.jupyter.widget-view+json": {
       "version_major": 2,
       "version_minor": 0,
       "model_id": "1fdcda3d82fa41eaa3589ea5fa86279a"
      }
     },
     "metadata": {},
     "output_type": "display_data"
    },
    {
     "name": "stdout",
     "output_type": "stream",
     "text": [
      "Accuracy of the network on the test images: 99.97%\n"
     ]
    },
    {
     "data": {
      "text/plain": "  0%|          | 0/1094 [00:00<?, ?it/s]",
      "application/vnd.jupyter.widget-view+json": {
       "version_major": 2,
       "version_minor": 0,
       "model_id": "01543147169e4c33b32adb917e6e30ee"
      }
     },
     "metadata": {},
     "output_type": "display_data"
    },
    {
     "name": "stdout",
     "output_type": "stream",
     "text": [
      "Accuracy of the network on the test images: 99.96%\n"
     ]
    },
    {
     "data": {
      "text/plain": "  0%|          | 0/1094 [00:00<?, ?it/s]",
      "application/vnd.jupyter.widget-view+json": {
       "version_major": 2,
       "version_minor": 0,
       "model_id": "f940522b8ee940f29bd34b312618a263"
      }
     },
     "metadata": {},
     "output_type": "display_data"
    },
    {
     "name": "stdout",
     "output_type": "stream",
     "text": [
      "Accuracy of the network on the test images: 99.98%\n"
     ]
    },
    {
     "data": {
      "text/plain": "  0%|          | 0/1094 [00:00<?, ?it/s]",
      "application/vnd.jupyter.widget-view+json": {
       "version_major": 2,
       "version_minor": 0,
       "model_id": "231eb38daf5c4004af0415b450de77cc"
      }
     },
     "metadata": {},
     "output_type": "display_data"
    },
    {
     "name": "stdout",
     "output_type": "stream",
     "text": [
      "Accuracy of the network on the test images: 97.05%\n"
     ]
    },
    {
     "data": {
      "text/plain": "  0%|          | 0/1094 [00:00<?, ?it/s]",
      "application/vnd.jupyter.widget-view+json": {
       "version_major": 2,
       "version_minor": 0,
       "model_id": "a5f2cf7918b64aa3aadb0385966e4535"
      }
     },
     "metadata": {},
     "output_type": "display_data"
    },
    {
     "name": "stdout",
     "output_type": "stream",
     "text": [
      "Accuracy of the network on the test images: 98.42%\n"
     ]
    },
    {
     "data": {
      "text/plain": "  0%|          | 0/1094 [00:00<?, ?it/s]",
      "application/vnd.jupyter.widget-view+json": {
       "version_major": 2,
       "version_minor": 0,
       "model_id": "2539ce1dcde145938b1c8d2db2a5f4d2"
      }
     },
     "metadata": {},
     "output_type": "display_data"
    },
    {
     "name": "stdout",
     "output_type": "stream",
     "text": [
      "Accuracy of the network on the test images: 98.74%\n"
     ]
    },
    {
     "data": {
      "text/plain": "  0%|          | 0/1094 [00:00<?, ?it/s]",
      "application/vnd.jupyter.widget-view+json": {
       "version_major": 2,
       "version_minor": 0,
       "model_id": "b40cc4e466b94f74a0e18014a2fd0b9a"
      }
     },
     "metadata": {},
     "output_type": "display_data"
    },
    {
     "name": "stdout",
     "output_type": "stream",
     "text": [
      "Accuracy of the network on the test images: 98.51%\n"
     ]
    },
    {
     "data": {
      "text/plain": "  0%|          | 0/1094 [00:00<?, ?it/s]",
      "application/vnd.jupyter.widget-view+json": {
       "version_major": 2,
       "version_minor": 0,
       "model_id": "c3ab1583a7c14ec8829a3a2ddd3b9a10"
      }
     },
     "metadata": {},
     "output_type": "display_data"
    },
    {
     "name": "stdout",
     "output_type": "stream",
     "text": [
      "Accuracy of the network on the test images: 98.62%\n"
     ]
    },
    {
     "data": {
      "text/plain": "  0%|          | 0/1094 [00:00<?, ?it/s]",
      "application/vnd.jupyter.widget-view+json": {
       "version_major": 2,
       "version_minor": 0,
       "model_id": "b11defa8988e4c159a06bc71678929d2"
      }
     },
     "metadata": {},
     "output_type": "display_data"
    },
    {
     "name": "stdout",
     "output_type": "stream",
     "text": [
      "Accuracy of the network on the test images: 99.08%\n"
     ]
    },
    {
     "data": {
      "text/plain": "  0%|          | 0/1094 [00:00<?, ?it/s]",
      "application/vnd.jupyter.widget-view+json": {
       "version_major": 2,
       "version_minor": 0,
       "model_id": "adf83d25d57d4298bd4a02fedc9293e8"
      }
     },
     "metadata": {},
     "output_type": "display_data"
    },
    {
     "name": "stdout",
     "output_type": "stream",
     "text": [
      "Accuracy of the network on the test images: 99.02%\n"
     ]
    },
    {
     "data": {
      "text/plain": "  0%|          | 0/1094 [00:00<?, ?it/s]",
      "application/vnd.jupyter.widget-view+json": {
       "version_major": 2,
       "version_minor": 0,
       "model_id": "a6ed0e428f3a4ee89f41782fc3abc1ff"
      }
     },
     "metadata": {},
     "output_type": "display_data"
    },
    {
     "name": "stdout",
     "output_type": "stream",
     "text": [
      "Accuracy of the network on the test images: 98.87%\n"
     ]
    },
    {
     "data": {
      "text/plain": "  0%|          | 0/1094 [00:00<?, ?it/s]",
      "application/vnd.jupyter.widget-view+json": {
       "version_major": 2,
       "version_minor": 0,
       "model_id": "c1d3052e49cc48619e4b55581f04b644"
      }
     },
     "metadata": {},
     "output_type": "display_data"
    },
    {
     "name": "stdout",
     "output_type": "stream",
     "text": [
      "Accuracy of the network on the test images: 98.94%\n"
     ]
    },
    {
     "data": {
      "text/plain": "  0%|          | 0/1094 [00:00<?, ?it/s]",
      "application/vnd.jupyter.widget-view+json": {
       "version_major": 2,
       "version_minor": 0,
       "model_id": "fcbe50c33d7b42bca9acb229f94e36d8"
      }
     },
     "metadata": {},
     "output_type": "display_data"
    },
    {
     "name": "stdout",
     "output_type": "stream",
     "text": [
      "Accuracy of the network on the test images: 98.68%\n"
     ]
    },
    {
     "data": {
      "text/plain": "  0%|          | 0/1094 [00:00<?, ?it/s]",
      "application/vnd.jupyter.widget-view+json": {
       "version_major": 2,
       "version_minor": 0,
       "model_id": "ec585ef421104704915fc0b3f7e424b6"
      }
     },
     "metadata": {},
     "output_type": "display_data"
    },
    {
     "name": "stdout",
     "output_type": "stream",
     "text": [
      "Accuracy of the network on the test images: 98.98%\n"
     ]
    },
    {
     "data": {
      "text/plain": "  0%|          | 0/1094 [00:00<?, ?it/s]",
      "application/vnd.jupyter.widget-view+json": {
       "version_major": 2,
       "version_minor": 0,
       "model_id": "605765366e9d477fb6affcb6181d2d30"
      }
     },
     "metadata": {},
     "output_type": "display_data"
    },
    {
     "name": "stdout",
     "output_type": "stream",
     "text": [
      "Accuracy of the network on the test images: 98.79%\n"
     ]
    },
    {
     "data": {
      "text/plain": "  0%|          | 0/1094 [00:00<?, ?it/s]",
      "application/vnd.jupyter.widget-view+json": {
       "version_major": 2,
       "version_minor": 0,
       "model_id": "cd40fe3369ac41dfab43dba7fea63668"
      }
     },
     "metadata": {},
     "output_type": "display_data"
    },
    {
     "name": "stdout",
     "output_type": "stream",
     "text": [
      "Accuracy of the network on the test images: 99.14%\n"
     ]
    },
    {
     "data": {
      "text/plain": "  0%|          | 0/1094 [00:00<?, ?it/s]",
      "application/vnd.jupyter.widget-view+json": {
       "version_major": 2,
       "version_minor": 0,
       "model_id": "091d86225435404da3af90a2a2d54936"
      }
     },
     "metadata": {},
     "output_type": "display_data"
    },
    {
     "name": "stdout",
     "output_type": "stream",
     "text": [
      "Accuracy of the network on the test images: 98.77%\n"
     ]
    },
    {
     "data": {
      "text/plain": "  0%|          | 0/1094 [00:00<?, ?it/s]",
      "application/vnd.jupyter.widget-view+json": {
       "version_major": 2,
       "version_minor": 0,
       "model_id": "842e4f33a1464a2eae4162711679e1d8"
      }
     },
     "metadata": {},
     "output_type": "display_data"
    },
    {
     "name": "stdout",
     "output_type": "stream",
     "text": [
      "Accuracy of the network on the test images: 98.85%\n"
     ]
    },
    {
     "data": {
      "text/plain": "  0%|          | 0/1094 [00:00<?, ?it/s]",
      "application/vnd.jupyter.widget-view+json": {
       "version_major": 2,
       "version_minor": 0,
       "model_id": "3a6817e76a6143ff950fc8bfd551b4fb"
      }
     },
     "metadata": {},
     "output_type": "display_data"
    },
    {
     "name": "stdout",
     "output_type": "stream",
     "text": [
      "Accuracy of the network on the test images: 98.55%\n"
     ]
    },
    {
     "data": {
      "text/plain": "  0%|          | 0/1094 [00:00<?, ?it/s]",
      "application/vnd.jupyter.widget-view+json": {
       "version_major": 2,
       "version_minor": 0,
       "model_id": "71d1ab1b7038423486c38447a2b7f17f"
      }
     },
     "metadata": {},
     "output_type": "display_data"
    },
    {
     "name": "stdout",
     "output_type": "stream",
     "text": [
      "Accuracy of the network on the test images: 98.94%\n"
     ]
    },
    {
     "data": {
      "text/plain": "  0%|          | 0/1094 [00:00<?, ?it/s]",
      "application/vnd.jupyter.widget-view+json": {
       "version_major": 2,
       "version_minor": 0,
       "model_id": "afde63c6e6b948029c968ae0a8a477c8"
      }
     },
     "metadata": {},
     "output_type": "display_data"
    },
    {
     "name": "stdout",
     "output_type": "stream",
     "text": [
      "Accuracy of the network on the test images: 98.88%\n"
     ]
    },
    {
     "data": {
      "text/plain": "  0%|          | 0/1094 [00:00<?, ?it/s]",
      "application/vnd.jupyter.widget-view+json": {
       "version_major": 2,
       "version_minor": 0,
       "model_id": "c7b8fc74188b48fc9ead047388d38d76"
      }
     },
     "metadata": {},
     "output_type": "display_data"
    },
    {
     "name": "stdout",
     "output_type": "stream",
     "text": [
      "Accuracy of the network on the test images: 99.05%\n"
     ]
    },
    {
     "data": {
      "text/plain": "  0%|          | 0/1094 [00:00<?, ?it/s]",
      "application/vnd.jupyter.widget-view+json": {
       "version_major": 2,
       "version_minor": 0,
       "model_id": "1cae771f64dd48368c6c2e07ff761301"
      }
     },
     "metadata": {},
     "output_type": "display_data"
    },
    {
     "name": "stdout",
     "output_type": "stream",
     "text": [
      "Accuracy of the network on the test images: 99.29%\n",
      "Computing principal space ...\n",
      "Computing principal space ...\n",
      "Computing alpha ...\n",
      "Computing alpha ...\n",
      "self.alpha=9.0119\n",
      "self.alpha=9.0119\n",
      "Fitting with temperature scaling\n",
      "label: y1.unique()=tensor([ 0,  1,  2,  3,  4,  5,  6,  7,  8,  9, 10, 11, 12, 13, 14, 15, 16, 17,\n",
      "        18, 19, 20, 21, 22, 23, 24, 25, 26, 27, 28, 29, 30, 31, 32, 33, 34, 35,\n",
      "        36, 37, 38, 39, 40, 41, 42]) logits_label.shape=torch.Size([4209, 43])\n",
      "Initial T/NLL: 1.000/0.004\n",
      "Initial T/NLL: 1.000/0.004\n",
      "Optimal temperature: 1.000781774520874\n",
      "Optimal temperature: 1.000781774520874\n",
      "NLL after scaling: 0.00'\n",
      "NLL after scaling: 0.00'\n",
      "color: y2.unique()=tensor([0, 1, 2, 3]) logits_color.shape=torch.Size([4209, 4])\n",
      "Initial T/NLL: 1.000/0.000\n",
      "Initial T/NLL: 1.000/0.000\n",
      "Optimal temperature: 0.9999983310699463\n",
      "Optimal temperature: 0.9999983310699463\n",
      "NLL after scaling: 0.00'\n",
      "NLL after scaling: 0.00'\n",
      "shape: y3.unique()=tensor([0, 1, 2, 3, 4]) logits_shape.shape=torch.Size([4209, 5])\n",
      "Initial T/NLL: 1.000/0.000\n",
      "Initial T/NLL: 1.000/0.000\n",
      "Optimal temperature: 0.9999992847442627\n",
      "Optimal temperature: 0.9999992847442627\n",
      "NLL after scaling: 0.00'\n",
      "NLL after scaling: 0.00'\n",
      "self.scorer_label.t=Parameter containing:\n",
      "tensor(1.0008, requires_grad=True)\n",
      "self.scorer_color.t=Parameter containing:\n",
      "tensor(1.0000, requires_grad=True)\n",
      "self.scorer_shape.t=Parameter containing:\n",
      "tensor(1.0000, requires_grad=True)\n",
      "Fitting with temperature scaling\n"
     ]
    },
    {
     "name": "stderr",
     "output_type": "stream",
     "text": [
      "/home/ki/projects/pytorch-ood/src/pytorch_ood/detector/tscaling.py:84: UserWarning: Implicit dimension choice for log_softmax has been deprecated. Change the call to include dim=X as an argument.\n",
      "  loss = nll_loss(log_softmax(logits / self.t), labels).item()\n",
      "/home/ki/projects/pytorch-ood/src/pytorch_ood/detector/tscaling.py:90: UserWarning: Implicit dimension choice for log_softmax has been deprecated. Change the call to include dim=X as an argument.\n",
      "  loss = nll_loss(log_softmax(logits / self.t), labels)\n",
      "/home/ki/projects/pytorch-ood/src/pytorch_ood/detector/tscaling.py:97: UserWarning: Implicit dimension choice for log_softmax has been deprecated. Change the call to include dim=X as an argument.\n",
      "  loss = nll_loss(log_softmax(logits / self.t), labels).item()\n"
     ]
    },
    {
     "name": "stdout",
     "output_type": "stream",
     "text": [
      "label: y1.unique()=tensor([ 0,  1,  2,  3,  4,  5,  6,  7,  8,  9, 10, 11, 12, 13, 14, 15, 16, 17,\n",
      "        18, 19, 20, 21, 22, 23, 24, 25, 26, 27, 28, 29, 30, 31, 32, 33, 34, 35,\n",
      "        36, 37, 38, 39, 40, 41, 42]) logits_label.shape=torch.Size([4209, 43])\n",
      "Initial T/NLL: 1.000/0.004\n",
      "Initial T/NLL: 1.000/0.004\n",
      "Optimal temperature: 1.000781774520874\n",
      "Optimal temperature: 1.000781774520874\n",
      "NLL after scaling: 0.00'\n",
      "NLL after scaling: 0.00'\n",
      "color: y2.unique()=tensor([0, 1, 2, 3]) logits_color.shape=torch.Size([4209, 4])\n",
      "Initial T/NLL: 1.000/0.000\n",
      "Initial T/NLL: 1.000/0.000\n",
      "Optimal temperature: 0.9999983310699463\n",
      "Optimal temperature: 0.9999983310699463\n",
      "NLL after scaling: 0.00'\n",
      "NLL after scaling: 0.00'\n",
      "shape: y3.unique()=tensor([0, 1, 2, 3, 4]) logits_shape.shape=torch.Size([4209, 5])\n",
      "Initial T/NLL: 1.000/0.000\n",
      "Initial T/NLL: 1.000/0.000\n",
      "Optimal temperature: 0.9999992847442627\n",
      "Optimal temperature: 0.9999992847442627\n",
      "NLL after scaling: 0.00'\n",
      "NLL after scaling: 0.00'\n",
      "self.scorer_label.t=Parameter containing:\n",
      "tensor(1.0008, requires_grad=True)\n",
      "self.scorer_color.t=Parameter containing:\n",
      "tensor(1.0000, requires_grad=True)\n",
      "self.scorer_shape.t=Parameter containing:\n",
      "tensor(1.0000, requires_grad=True)\n",
      "{'AUROC': 0.998457133769989, 'AUPR-IN': 0.9977197051048279, 'AUPR-OUT': 0.9990272521972656, 'FPR95TPR': 0.007284244056791067, 'Method': 'PrologOOD', 'Dataset': 'LSUNCrop'}\n",
      "{'AUROC': 0.99833083152771, 'AUPR-IN': 0.9973114132881165, 'AUPR-OUT': 0.9989669322967529, 'FPR95TPR': 0.007600950077176094, 'Method': 'PrologOOD', 'Dataset': 'LSUNResize'}\n",
      "Found 5640 texture files.\n",
      "Found 5640 texture files.\n",
      "{'AUROC': 0.9979289770126343, 'AUPR-IN': 0.9947249293327332, 'AUPR-OUT': 0.9991582632064819, 'FPR95TPR': 0.008867775090038776, 'Method': 'PrologOOD', 'Dataset': 'Textures'}\n",
      "{'AUROC': 0.9983773231506348, 'AUPR-IN': 0.9976416230201721, 'AUPR-OUT': 0.9989633560180664, 'FPR95TPR': 0.007680126465857029, 'Method': 'PrologOOD', 'Dataset': 'TinyImageNetCrop'}\n",
      "{'AUROC': 0.9982420206069946, 'AUPR-IN': 0.9972822070121765, 'AUPR-OUT': 0.9988898038864136, 'FPR95TPR': 0.008313539437949657, 'Method': 'PrologOOD', 'Dataset': 'TinyImageNetResize'}\n",
      "{'AUROC': 0.9994834661483765, 'AUPR-IN': 0.9993480443954468, 'AUPR-OUT': 0.999770998954773, 'FPR95TPR': 0.0010292953811585903, 'Method': 'PrologOOD+', 'Dataset': 'LSUNCrop'}\n",
      "{'AUROC': 0.999485433101654, 'AUPR-IN': 0.9993508458137512, 'AUPR-OUT': 0.9997725486755371, 'FPR95TPR': 0.0010292953811585903, 'Method': 'PrologOOD+', 'Dataset': 'LSUNResize'}\n",
      "Found 5640 texture files.\n",
      "Found 5640 texture files.\n",
      "{'AUROC': 0.9994806051254272, 'AUPR-IN': 0.9988382458686829, 'AUPR-OUT': 0.9998390674591064, 'FPR95TPR': 0.0010292953811585903, 'Method': 'PrologOOD+', 'Dataset': 'Textures'}\n",
      "{'AUROC': 0.9994853138923645, 'AUPR-IN': 0.9993507266044617, 'AUPR-OUT': 0.9997725486755371, 'FPR95TPR': 0.0010292953811585903, 'Method': 'PrologOOD+', 'Dataset': 'TinyImageNetCrop'}\n",
      "{'AUROC': 0.999485433101654, 'AUPR-IN': 0.9993508458137512, 'AUPR-OUT': 0.9997725486755371, 'FPR95TPR': 0.0010292953811585903, 'Method': 'PrologOOD+', 'Dataset': 'TinyImageNetResize'}\n",
      "{'AUROC': 0.9984569549560547, 'AUPR-IN': 0.9977193474769592, 'AUPR-OUT': 0.9990270137786865, 'FPR95TPR': 0.007284244056791067, 'Method': 'PrologOODT', 'Dataset': 'LSUNCrop'}\n",
      "{'AUROC': 0.9983310103416443, 'AUPR-IN': 0.9973117709159851, 'AUPR-OUT': 0.9989671111106873, 'FPR95TPR': 0.007600950077176094, 'Method': 'PrologOODT', 'Dataset': 'LSUNResize'}\n",
      "Found 5640 texture files.\n",
      "Found 5640 texture files.\n",
      "{'AUROC': 0.9979283213615417, 'AUPR-IN': 0.9947243928909302, 'AUPR-OUT': 0.9991582036018372, 'FPR95TPR': 0.008867775090038776, 'Method': 'PrologOODT', 'Dataset': 'Textures'}\n",
      "{'AUROC': 0.9983769655227661, 'AUPR-IN': 0.9976412057876587, 'AUPR-OUT': 0.998962938785553, 'FPR95TPR': 0.007680126465857029, 'Method': 'PrologOODT', 'Dataset': 'TinyImageNetCrop'}\n",
      "{'AUROC': 0.9982420802116394, 'AUPR-IN': 0.997282087802887, 'AUPR-OUT': 0.9988898038864136, 'FPR95TPR': 0.008313539437949657, 'Method': 'PrologOODT', 'Dataset': 'TinyImageNetResize'}\n",
      "{'AUROC': 0.9994767904281616, 'AUPR-IN': 0.9993400573730469, 'AUPR-OUT': 0.9997657537460327, 'FPR95TPR': 0.0010292953811585903, 'Method': 'PrologOODT+', 'Dataset': 'LSUNCrop'}\n",
      "{'AUROC': 0.9994853734970093, 'AUPR-IN': 0.9993508458137512, 'AUPR-OUT': 0.9997726082801819, 'FPR95TPR': 0.0010292953811585903, 'Method': 'PrologOODT+', 'Dataset': 'LSUNResize'}\n",
      "Found 5640 texture files.\n",
      "Found 5640 texture files.\n",
      "{'AUROC': 0.9994783401489258, 'AUPR-IN': 0.9988330602645874, 'AUPR-OUT': 0.9998379349708557, 'FPR95TPR': 0.0010292953811585903, 'Method': 'PrologOODT+', 'Dataset': 'Textures'}\n",
      "{'AUROC': 0.9994853734970093, 'AUPR-IN': 0.9993507266044617, 'AUPR-OUT': 0.9997725486755371, 'FPR95TPR': 0.0010292953811585903, 'Method': 'PrologOODT+', 'Dataset': 'TinyImageNetCrop'}\n",
      "{'AUROC': 0.9994853734970093, 'AUPR-IN': 0.9993508458137512, 'AUPR-OUT': 0.9997726082801819, 'FPR95TPR': 0.0010292953811585903, 'Method': 'PrologOODT+', 'Dataset': 'TinyImageNetResize'}\n",
      "{'AUROC': 0.8387853503227234, 'AUPR-IN': 0.909355878829956, 'AUPR-OUT': 0.8982629179954529, 'FPR95TPR': 1.0, 'Method': 'Logic', 'Dataset': 'LSUNCrop'}\n",
      "{'AUROC': 0.7636353969573975, 'AUPR-IN': 0.8671426773071289, 'AUPR-OUT': 0.8637105226516724, 'FPR95TPR': 1.0, 'Method': 'Logic', 'Dataset': 'LSUNResize'}\n",
      "Found 5640 texture files.\n",
      "Found 5640 texture files.\n",
      "{'AUROC': 0.8063115477561951, 'AUPR-IN': 0.8645884990692139, 'AUPR-OUT': 0.9262064099311829, 'FPR95TPR': 1.0, 'Method': 'Logic', 'Dataset': 'Textures'}\n",
      "{'AUROC': 0.8478853106498718, 'AUPR-IN': 0.9144595861434937, 'AUPR-OUT': 0.9028974175453186, 'FPR95TPR': 1.0, 'Method': 'Logic', 'Dataset': 'TinyImageNetCrop'}\n",
      "{'AUROC': 0.7871853113174438, 'AUPR-IN': 0.8803863525390625, 'AUPR-OUT': 0.873875617980957, 'FPR95TPR': 1.0, 'Method': 'Logic', 'Dataset': 'TinyImageNetResize'}\n",
      "{'AUROC': 0.9991353154182434, 'AUPR-IN': 0.9991551041603088, 'AUPR-OUT': 0.9994953274726868, 'FPR95TPR': 0.0010292953811585903, 'Method': 'Logic+', 'Dataset': 'LSUNCrop'}\n",
      "{'AUROC': 0.9994853138923645, 'AUPR-IN': 0.9993508458137512, 'AUPR-OUT': 0.9997725486755371, 'FPR95TPR': 0.0010292953811585903, 'Method': 'Logic+', 'Dataset': 'LSUNResize'}\n",
      "Found 5640 texture files.\n",
      "Found 5640 texture files.\n",
      "{'AUROC': 0.9986875057220459, 'AUPR-IN': 0.9982967376708984, 'AUPR-OUT': 0.999484658241272, 'FPR95TPR': 0.0010292953811585903, 'Method': 'Logic+', 'Dataset': 'Textures'}\n",
      "{'AUROC': 0.999435305595398, 'AUPR-IN': 0.9993228912353516, 'AUPR-OUT': 0.9997329711914062, 'FPR95TPR': 0.0010292953811585903, 'Method': 'Logic+', 'Dataset': 'TinyImageNetCrop'}\n",
      "{'AUROC': 0.9994853138923645, 'AUPR-IN': 0.9993508458137512, 'AUPR-OUT': 0.9997725486755371, 'FPR95TPR': 0.0010292953811585903, 'Method': 'Logic+', 'Dataset': 'TinyImageNetResize'}\n",
      "{'AUROC': 0.9971810579299927, 'AUPR-IN': 0.9950998425483704, 'AUPR-OUT': 0.9982300996780396, 'FPR95TPR': 0.010055423714220524, 'Method': 'Ensemble', 'Dataset': 'LSUNCrop'}\n",
      "{'AUROC': 0.9981589317321777, 'AUPR-IN': 0.997039794921875, 'AUPR-OUT': 0.9987888932228088, 'FPR95TPR': 0.008392715826630592, 'Method': 'Ensemble', 'Dataset': 'LSUNResize'}\n",
      "Found 5640 texture files.\n",
      "Found 5640 texture files.\n",
      "{'AUROC': 0.9969466924667358, 'AUPR-IN': 0.9912573099136353, 'AUPR-OUT': 0.9987697005271912, 'FPR95TPR': 0.011163895949721336, 'Method': 'Ensemble', 'Dataset': 'Textures'}\n",
      "{'AUROC': 0.9970978498458862, 'AUPR-IN': 0.9951635003089905, 'AUPR-OUT': 0.9981512427330017, 'FPR95TPR': 0.011005542241036892, 'Method': 'Ensemble', 'Dataset': 'TinyImageNetCrop'}\n",
      "{'AUROC': 0.9979379177093506, 'AUPR-IN': 0.9967420697212219, 'AUPR-OUT': 0.9986375570297241, 'FPR95TPR': 0.008867775090038776, 'Method': 'Ensemble', 'Dataset': 'TinyImageNetResize'}\n",
      "{'AUROC': 0.9889675378799438, 'AUPR-IN': 0.9821709394454956, 'AUPR-OUT': 0.9921251535415649, 'FPR95TPR': 0.029691211879253387, 'Method': 'MSP', 'Dataset': 'LSUNCrop'}\n",
      "{'AUROC': 0.9957482814788818, 'AUPR-IN': 0.99346524477005, 'AUPR-OUT': 0.9971753358840942, 'FPR95TPR': 0.014489310793578625, 'Method': 'MSP', 'Dataset': 'LSUNResize'}\n",
      "Found 5640 texture files.\n",
      "Found 5640 texture files.\n",
      "{'AUROC': 0.9915354251861572, 'AUPR-IN': 0.9784316420555115, 'AUPR-OUT': 0.9959481954574585, 'FPR95TPR': 0.02422802895307541, 'Method': 'MSP', 'Dataset': 'Textures'}\n",
      "{'AUROC': 0.9890691637992859, 'AUPR-IN': 0.9843212962150574, 'AUPR-OUT': 0.9909971952438354, 'FPR95TPR': 0.029532859101891518, 'Method': 'MSP', 'Dataset': 'TinyImageNetCrop'}\n",
      "{'AUROC': 0.9955498576164246, 'AUPR-IN': 0.9932389259338379, 'AUPR-OUT': 0.9969619512557983, 'FPR95TPR': 0.015281076543033123, 'Method': 'MSP', 'Dataset': 'TinyImageNetResize'}\n",
      "{'AUROC': 0.9901182055473328, 'AUPR-IN': 0.9858713746070862, 'AUPR-OUT': 0.9919794201850891, 'FPR95TPR': 0.026603326201438904, 'Method': 'Energy', 'Dataset': 'LSUNCrop'}\n",
      "{'AUROC': 0.9976370930671692, 'AUPR-IN': 0.9966160655021667, 'AUPR-OUT': 0.9982740879058838, 'FPR95TPR': 0.006888361182063818, 'Method': 'Energy', 'Dataset': 'LSUNResize'}\n",
      "Found 5640 texture files.\n",
      "Found 5640 texture files.\n",
      "{'AUROC': 0.9883962273597717, 'AUPR-IN': 0.9789264798164368, 'AUPR-OUT': 0.9922736883163452, 'FPR95TPR': 0.022802850231528282, 'Method': 'Energy', 'Dataset': 'Textures'}\n",
      "{'AUROC': 0.9903225898742676, 'AUPR-IN': 0.9882093667984009, 'AUPR-OUT': 0.9907373785972595, 'FPR95TPR': 0.022802850231528282, 'Method': 'Energy', 'Dataset': 'TinyImageNetCrop'}\n",
      "{'AUROC': 0.9969660639762878, 'AUPR-IN': 0.9959573745727539, 'AUPR-OUT': 0.9973744750022888, 'FPR95TPR': 0.007363420445472002, 'Method': 'Energy', 'Dataset': 'TinyImageNetResize'}\n",
      "{'AUROC': 0.9901299476623535, 'AUPR-IN': 0.9858840703964233, 'AUPR-OUT': 0.9919803738594055, 'FPR95TPR': 0.026603326201438904, 'Method': 'ReAct', 'Dataset': 'LSUNCrop'}\n",
      "{'AUROC': 0.9976388216018677, 'AUPR-IN': 0.9966180920600891, 'AUPR-OUT': 0.9982786178588867, 'FPR95TPR': 0.006888361182063818, 'Method': 'ReAct', 'Dataset': 'LSUNResize'}\n",
      "Found 5640 texture files.\n",
      "Found 5640 texture files.\n",
      "{'AUROC': 0.988953709602356, 'AUPR-IN': 0.9793931841850281, 'AUPR-OUT': 0.9931091070175171, 'FPR95TPR': 0.022802850231528282, 'Method': 'ReAct', 'Dataset': 'Textures'}\n",
      "{'AUROC': 0.9903241991996765, 'AUPR-IN': 0.9882135391235352, 'AUPR-OUT': 0.9906957149505615, 'FPR95TPR': 0.022802850231528282, 'Method': 'ReAct', 'Dataset': 'TinyImageNetCrop'}\n",
      "{'AUROC': 0.9969903230667114, 'AUPR-IN': 0.9959797263145447, 'AUPR-OUT': 0.9975201487541199, 'FPR95TPR': 0.007363420445472002, 'Method': 'ReAct', 'Dataset': 'TinyImageNetResize'}\n",
      "{'AUROC': 0.971683919429779, 'AUPR-IN': 0.9666140079498291, 'AUPR-OUT': 0.9979391098022461, 'FPR95TPR': 0.05661124363541603, 'Method': 'ViM', 'Dataset': 'LSUNCrop'}\n",
      "{'AUROC': 0.971691370010376, 'AUPR-IN': 0.966628909111023, 'AUPR-OUT': 0.9983780384063721, 'FPR95TPR': 0.05661124363541603, 'Method': 'ViM', 'Dataset': 'LSUNResize'}\n",
      "Found 5640 texture files.\n",
      "Found 5640 texture files.\n",
      "{'AUROC': 0.971688985824585, 'AUPR-IN': 0.9437254667282104, 'AUPR-OUT': 0.9992200136184692, 'FPR95TPR': 0.05661124363541603, 'Method': 'ViM', 'Dataset': 'Textures'}\n",
      "{'AUROC': 0.9716718792915344, 'AUPR-IN': 0.9665943384170532, 'AUPR-OUT': 0.9974230527877808, 'FPR95TPR': 0.05661124363541603, 'Method': 'ViM', 'Dataset': 'TinyImageNetCrop'}\n",
      "{'AUROC': 0.9716944098472595, 'AUPR-IN': 0.9666355848312378, 'AUPR-OUT': 0.9985878467559814, 'FPR95TPR': 0.05661124363541603, 'Method': 'ViM', 'Dataset': 'TinyImageNetResize'}\n",
      "{'AUROC': 0.9948791861534119, 'AUPR-IN': 0.9906665086746216, 'AUPR-OUT': 0.9968639016151428, 'FPR95TPR': 0.017022961750626564, 'Method': 'Mahalanobis', 'Dataset': 'LSUNCrop'}\n",
      "{'AUROC': 0.9988552927970886, 'AUPR-IN': 0.9983342885971069, 'AUPR-OUT': 0.9992206692695618, 'FPR95TPR': 0.0049881236627697945, 'Method': 'Mahalanobis', 'Dataset': 'LSUNResize'}\n",
      "Found 5640 texture files.\n",
      "Found 5640 texture files.\n",
      "{'AUROC': 0.9976569414138794, 'AUPR-IN': 0.9939494132995605, 'AUPR-OUT': 0.9990493059158325, 'FPR95TPR': 0.011084718629717827, 'Method': 'Mahalanobis', 'Dataset': 'Textures'}\n",
      "{'AUROC': 0.9960761666297913, 'AUPR-IN': 0.9932457208633423, 'AUPR-OUT': 0.9975545406341553, 'FPR95TPR': 0.014726840890944004, 'Method': 'Mahalanobis', 'Dataset': 'TinyImageNetCrop'}\n",
      "{'AUROC': 0.9987813234329224, 'AUPR-IN': 0.9982746839523315, 'AUPR-OUT': 0.9991542100906372, 'FPR95TPR': 0.0057798889465630054, 'Method': 'Mahalanobis', 'Dataset': 'TinyImageNetResize'}\n",
      "{'AUROC': 0.989589273929596, 'AUPR-IN': 0.9838367700576782, 'AUPR-OUT': 0.9923592209815979, 'FPR95TPR': 0.02929532900452614, 'Method': 'Entropy', 'Dataset': 'LSUNCrop'}\n",
      "{'AUROC': 0.9966402053833008, 'AUPR-IN': 0.9951035976409912, 'AUPR-OUT': 0.9976615309715271, 'FPR95TPR': 0.013697545975446701, 'Method': 'Entropy', 'Dataset': 'LSUNResize'}\n",
      "Found 5640 texture files.\n",
      "Found 5640 texture files.\n",
      "{'AUROC': 0.9921272993087769, 'AUPR-IN': 0.9808715581893921, 'AUPR-OUT': 0.9960977435112, 'FPR95TPR': 0.02430720441043377, 'Method': 'Entropy', 'Dataset': 'Textures'}\n",
      "{'AUROC': 0.989829421043396, 'AUPR-IN': 0.9861555695533752, 'AUPR-OUT': 0.991289496421814, 'FPR95TPR': 0.02913697622716427, 'Method': 'Entropy', 'Dataset': 'TinyImageNetCrop'}\n",
      "{'AUROC': 0.9963932037353516, 'AUPR-IN': 0.9948188066482544, 'AUPR-OUT': 0.9974062442779541, 'FPR95TPR': 0.014489310793578625, 'Method': 'Entropy', 'Dataset': 'TinyImageNetResize'}\n",
      "{'AUROC': 0.9900517463684082, 'AUPR-IN': 0.9858695864677429, 'AUPR-OUT': 0.9919381737709045, 'FPR95TPR': 0.026761678978800774, 'Method': 'MaxLogit', 'Dataset': 'LSUNCrop'}\n",
      "{'AUROC': 0.9975749254226685, 'AUPR-IN': 0.9965521097183228, 'AUPR-OUT': 0.9982316493988037, 'FPR95TPR': 0.007046713959425688, 'Method': 'MaxLogit', 'Dataset': 'LSUNResize'}\n",
      "Found 5640 texture files.\n",
      "Found 5640 texture files.\n",
      "{'AUROC': 0.9884512424468994, 'AUPR-IN': 0.9792735576629639, 'AUPR-OUT': 0.9922937154769897, 'FPR95TPR': 0.023119555786252022, 'Method': 'MaxLogit', 'Dataset': 'Textures'}\n",
      "{'AUROC': 0.9902332425117493, 'AUPR-IN': 0.9881086945533752, 'AUPR-OUT': 0.9906854629516602, 'FPR95TPR': 0.023119555786252022, 'Method': 'MaxLogit', 'Dataset': 'TinyImageNetCrop'}\n",
      "{'AUROC': 0.9969116449356079, 'AUPR-IN': 0.9959086179733276, 'AUPR-OUT': 0.997336745262146, 'FPR95TPR': 0.007680126465857029, 'Method': 'MaxLogit', 'Dataset': 'TinyImageNetResize'}\n"
     ]
    }
   ],
   "source": [
    "results = []\n",
    "results_acc = []\n",
    "\n",
    "for trial in range(10):\n",
    "    shield_net = train_sign_model()\n",
    "    shape_net = train_model(att_index=2, num_classes=5)\n",
    "    color_net = train_model(att_index=1, num_classes=4)\n",
    "    label_net = train_model(att_index=0, num_classes=43)\n",
    "    \n",
    "    res = evaluate(label_net, shape_net, color_net, shield_net)\n",
    "    res_acc = evaluate_accs(label_net, shape_net, color_net, shield_net)\n",
    "    \n",
    "    for r in res:\n",
    "        r.update({\"Seed\": trial})\n",
    "        \n",
    "    for r in res_acc:\n",
    "        r.update({\"Seed\": trial})\n",
    "    \n",
    "    results += res\n",
    "    results_acc += res_acc"
   ]
  },
  {
   "cell_type": "code",
   "execution_count": 23,
   "id": "71390c67",
   "metadata": {
    "ExecuteTime": {
     "end_time": "2023-08-29T22:33:00.690224301Z",
     "start_time": "2023-08-29T22:33:00.686775162Z"
    }
   },
   "outputs": [
    {
     "name": "stdout",
     "output_type": "stream",
     "text": [
      "\\begin{tabular}{lrrrrrrrr}\n",
      "\\toprule\n",
      "{} & \\multicolumn{2}{l}{AUROC} & \\multicolumn{2}{l}{AUPR-IN} & \\multicolumn{2}{l}{AUPR-OUT} & \\multicolumn{2}{l}{FPR95TPR} \\\\\n",
      "{} &  mean &  sem &    mean &  sem &     mean &  sem &     mean &  sem \\\\\n",
      "Method      &       &      &         &      &          &      &          &      \\\\\n",
      "\\midrule\n",
      "MSP         & 99.04 & $\\pm$ 0.07 &   98.35 & $\\pm$ 0.14 &    99.29 & $\\pm$ 0.05 &     2.54 & $\\pm$ 0.15 \\\\\n",
      "Energy      & 99.03 & $\\pm$ 0.11 &   98.76 & $\\pm$ 0.14 &    99.08 & $\\pm$ 0.12 &     2.26 & $\\pm$ 0.27 \\\\\n",
      "MaxLogit    & 99.01 & $\\pm$ 0.11 &   98.73 & $\\pm$ 0.14 &    99.07 & $\\pm$ 0.12 &     2.29 & $\\pm$ 0.27 \\\\\n",
      "Entropy     & 99.15 & $\\pm$ 0.07 &   98.64 & $\\pm$ 0.13 &    99.33 & $\\pm$ 0.06 &     2.46 & $\\pm$ 0.15 \\\\\n",
      "ReAct       & 99.04 & $\\pm$ 0.10 &   98.77 & $\\pm$ 0.13 &    99.08 & $\\pm$ 0.12 &     2.21 & $\\pm$ 0.24 \\\\\n",
      "Mahalanobis & 99.70 & $\\pm$ 0.02 &   99.40 & $\\pm$ 0.06 &    99.83 & $\\pm$ 0.01 &     1.11 & $\\pm$ 0.05 \\\\\n",
      "ViM         & 96.96 & $\\pm$ 0.08 &   95.95 & $\\pm$ 0.10 &    99.75 & $\\pm$ 0.02 &     6.08 & $\\pm$ 0.16 \\\\\n",
      "Ensemble    & 99.77 & $\\pm$ 0.03 &   99.58 & $\\pm$ 0.05 &    99.86 & $\\pm$ 0.01 &     0.99 & $\\pm$ 0.07 \\\\\n",
      "Logic       & 86.08 & $\\pm$ 0.91 &   91.76 & $\\pm$ 0.54 &    91.76 & $\\pm$ 0.45 &   100.00 & $\\pm$ 0.00 \\\\\n",
      "Logic+      & 99.92 & $\\pm$ 0.01 &   99.90 & $\\pm$ 0.01 &    99.97 & $\\pm$ 0.00 &     0.13 & $\\pm$ 0.01 \\\\\n",
      "PrologOOD   & 99.85 & $\\pm$ 0.01 &   99.74 & $\\pm$ 0.02 &    99.92 & $\\pm$ 0.01 &     0.60 & $\\pm$ 0.04 \\\\\n",
      "PrologOOD+  & 99.94 & $\\pm$ 0.01 &   99.91 & $\\pm$ 0.01 &    99.97 & $\\pm$ 0.00 &     0.13 & $\\pm$ 0.01 \\\\\n",
      "PrologOODT  & 99.85 & $\\pm$ 0.01 &   99.74 & $\\pm$ 0.02 &    99.92 & $\\pm$ 0.01 &     0.60 & $\\pm$ 0.04 \\\\\n",
      "PrologOODT+ & 99.94 & $\\pm$ 0.01 &   99.91 & $\\pm$ 0.01 &    99.97 & $\\pm$ 0.00 &     0.13 & $\\pm$ 0.01 \\\\\n",
      "\\bottomrule\n",
      "\\end{tabular}\n",
      "\n"
     ]
    }
   ],
   "source": [
    "import pandas as pd \n",
    "result_df = pd.DataFrame(results)\n",
    "\n",
    "\n",
    "order = ['MSP', 'Energy', 'MaxLogit', 'Entropy', 'ReAct', 'Mahalanobis', 'ViM', 'Ensemble', 'Logic', 'Logic+', 'PrologOOD', 'PrologOOD+', 'PrologOODT', 'PrologOODT+']\n",
    "\n",
    "\n",
    "print((result_df.groupby(by=[\"Method\", \"Seed\"]).mean() * 100).groupby(\"Method\").agg([\"mean\", \"sem\"]).reindex(order).to_latex(float_format=\"%.2f\").replace(\"& 0.\", \"& $\\pm$ 0.\").replace(\"& 2.\", \"& $\\pm$ 2.\").replace(\"& 1.\", \"& $\\pm$ 1.\"))\n",
    "\n",
    "# print((result_df.groupby(by=\"Method\").agg([\"mean\", \"sem\"]) * 100)[[\"AUROC\", \"AUPR-IN\", \"AUPR-OUT\", \"FPR95TPR\"]].to_latex(float_format=\"%.2f\"))"
   ]
  },
  {
   "cell_type": "code",
   "execution_count": 24,
   "id": "219460b0",
   "metadata": {
    "ExecuteTime": {
     "end_time": "2023-08-29T22:33:00.704777133Z",
     "start_time": "2023-08-29T22:33:00.691451813Z"
    }
   },
   "outputs": [
    {
     "name": "stdout",
     "output_type": "stream",
     "text": [
      "TtestResult(statistic=2.9087960527343784, pvalue=0.013116089078741166, df=11.994274750310217)\n"
     ]
    }
   ],
   "source": [
    "from scipy.stats import ttest_ind\n",
    "\n",
    "sem_auroc = result_df[result_df[\"Method\"] == \"PrologOOD\"].groupby(by=[\"Method\", \"Seed\"]).mean()[\"AUROC\"]\n",
    "sem_ensemble =  result_df[result_df[\"Method\"] == \"Ensemble\"].groupby(by=[\"Method\", \"Seed\"]).mean()[\"AUROC\"]\n",
    "\n",
    "print(ttest_ind(sem_auroc, sem_ensemble, equal_var=False))"
   ]
  },
  {
   "cell_type": "code",
   "execution_count": 25,
   "id": "b7b03a3e",
   "metadata": {
    "ExecuteTime": {
     "end_time": "2023-08-29T22:33:00.724295433Z",
     "start_time": "2023-08-29T22:33:00.706105838Z"
    }
   },
   "outputs": [
    {
     "name": "stdout",
     "output_type": "stream",
     "text": [
      "\\begin{tabular}{lrrrrr}\n",
      "\\toprule\n",
      "{} &  Label &  Color &  Shape &   Sign &   Seed \\\\\n",
      "\\midrule\n",
      "mean &  99.17 &  99.97 &  99.97 & 100.00 & 450.00 \\\\\n",
      "sem  &   0.06 &   0.00 &   0.00 &   0.00 &  95.74 \\\\\n",
      "\\bottomrule\n",
      "\\end{tabular}\n",
      "\n"
     ]
    }
   ],
   "source": [
    "print((pd.DataFrame(results_acc) * 100).agg([\"mean\", \"sem\"]).to_latex(float_format=\"%.2f\"))"
   ]
  },
  {
   "cell_type": "code",
   "execution_count": 26,
   "outputs": [
    {
     "name": "stdout",
     "output_type": "stream",
     "text": [
      "\\begin{tabular}{lrrrrrrrr}\n",
      "\\toprule\n",
      "{} & \\multicolumn{2}{l}{AUROC} & \\multicolumn{2}{l}{AUPR-IN} & \\multicolumn{2}{l}{AUPR-OUT} & \\multicolumn{2}{l}{FPR95TPR} \\\\\n",
      "{} &  mean &  sem &    mean &  sem &     mean &  sem &     mean &  sem \\\\\n",
      "Method      &       &      &         &      &          &      &          &      \\\\\n",
      "\\midrule\n",
      "Energy      & 99.03 & $\\pm$ 0.10 &   98.76 & $\\pm$ 0.13 &    99.08 & $\\pm$ 0.10 &     2.26 & $\\pm$ 0.28 \\\\\n",
      "Ensemble    & 99.77 & $\\pm$ 0.01 &   99.58 & $\\pm$ 0.04 &    99.86 & $\\pm$ 0.01 &     0.99 & $\\pm$ 0.04 \\\\\n",
      "Entropy     & 99.15 & $\\pm$ 0.07 &   98.64 & $\\pm$ 0.12 &    99.33 & $\\pm$ 0.06 &     2.46 & $\\pm$ 0.14 \\\\\n",
      "Logic       & 86.08 & $\\pm$ 0.54 &   91.76 & $\\pm$ 0.33 &    91.76 & $\\pm$ 0.33 &   100.00 & $\\pm$ 0.00 \\\\\n",
      "Logic+      & 99.92 & $\\pm$ 0.00 &   99.90 & $\\pm$ 0.01 &    99.97 & $\\pm$ 0.00 &     0.13 & $\\pm$ 0.01 \\\\\n",
      "MSP         & 99.04 & $\\pm$ 0.07 &   98.35 & $\\pm$ 0.13 &    99.29 & $\\pm$ 0.06 &     2.54 & $\\pm$ 0.15 \\\\\n",
      "Mahalanobis & 99.70 & $\\pm$ 0.03 &   99.40 & $\\pm$ 0.05 &    99.83 & $\\pm$ 0.02 &     1.11 & $\\pm$ 0.08 \\\\\n",
      "MaxLogit    & 99.01 & $\\pm$ 0.10 &   98.73 & $\\pm$ 0.13 &    99.07 & $\\pm$ 0.10 &     2.29 & $\\pm$ 0.28 \\\\\n",
      "PrologOOD   & 99.85 & $\\pm$ 0.01 &   99.74 & $\\pm$ 0.02 &    99.92 & $\\pm$ 0.00 &     0.60 & $\\pm$ 0.03 \\\\\n",
      "PrologOOD+  & 99.94 & $\\pm$ 0.00 &   99.91 & $\\pm$ 0.01 &    99.97 & $\\pm$ 0.00 &     0.13 & $\\pm$ 0.01 \\\\\n",
      "PrologOODT  & 99.85 & $\\pm$ 0.01 &   99.74 & $\\pm$ 0.02 &    99.92 & $\\pm$ 0.00 &     0.60 & $\\pm$ 0.03 \\\\\n",
      "PrologOODT+ & 99.94 & $\\pm$ 0.00 &   99.91 & $\\pm$ 0.01 &    99.97 & $\\pm$ 0.00 &     0.13 & $\\pm$ 0.01 \\\\\n",
      "ReAct       & 99.04 & $\\pm$ 0.09 &   98.77 & $\\pm$ 0.13 &    99.08 & $\\pm$ 0.10 &     2.21 & $\\pm$ 0.27 \\\\\n",
      "ViM         & 96.96 & $\\pm$ 0.03 &   95.95 & $\\pm$ 0.15 &    99.75 & $\\pm$ 0.02 &     6.08 & $\\pm$ 0.07 \\\\\n",
      "\\bottomrule\n",
      "\\end{tabular}\n",
      "\n"
     ]
    }
   ],
   "source": [
    "s = (result_df.groupby(by=\"Method\").agg([\"mean\", \"sem\"]) * 100)[[\"AUROC\", \"AUPR-IN\", \"AUPR-OUT\", \"FPR95TPR\"]].to_latex(float_format=\"%.2f\")\n",
    "\n",
    "print(s.replace(\"& 0.\", \"& $\\pm$ 0.\").replace(\"& 1.\", \"& $\\pm$ 1.\").replace(\"& 2.\", \"& $\\pm$ 2.\"))"
   ],
   "metadata": {
    "collapsed": false,
    "ExecuteTime": {
     "end_time": "2023-08-29T22:33:00.786883538Z",
     "start_time": "2023-08-29T22:33:00.719699111Z"
    }
   }
  },
  {
   "cell_type": "code",
   "execution_count": 26,
   "outputs": [],
   "source": [],
   "metadata": {
    "collapsed": false,
    "ExecuteTime": {
     "end_time": "2023-08-29T22:33:00.787041843Z",
     "start_time": "2023-08-29T22:33:00.786759187Z"
    }
   }
  }
 ],
 "metadata": {
  "kernelspec": {
   "display_name": "myenv",
   "language": "python",
   "name": "myenv"
  },
  "language_info": {
   "codemirror_mode": {
    "name": "ipython",
    "version": 3
   },
   "file_extension": ".py",
   "mimetype": "text/x-python",
   "name": "python",
   "nbconvert_exporter": "python",
   "pygments_lexer": "ipython3",
   "version": "3.10.9"
  }
 },
 "nbformat": 4,
 "nbformat_minor": 5
}
