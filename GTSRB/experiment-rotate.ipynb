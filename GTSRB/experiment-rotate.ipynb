{
 "cells": [
  {
   "cell_type": "markdown",
   "id": "6515def1",
   "metadata": {},
   "source": [
    "# Street sign with Pre-Trained WideResNet\n",
    "\n",
    "With additional self supervised learning, predicting rotations"
   ]
  },
  {
   "cell_type": "code",
   "execution_count": 40,
   "id": "d06b287f",
   "metadata": {
    "ExecuteTime": {
     "end_time": "2023-07-25T11:56:19.267402701Z",
     "start_time": "2023-07-25T11:56:19.215354354Z"
    }
   },
   "outputs": [],
   "source": [
    "import random\n",
    "\n",
    "from torch.optim import SGD\n",
    "import seaborn as sb \n",
    "from gtsrb import GTSRB\n",
    "from detectors import EnsembleDetector, LogicOOD\n",
    "import torch\n",
    "from pytorch_ood.utils import fix_random_seed\n",
    "\n",
    "fix_random_seed(123)\n",
    "\n",
    "def seed_worker(worker_id):\n",
    "    fix_random_seed(worker_id)\n",
    "\n",
    "g = torch.Generator()\n",
    "g.manual_seed(0)\n",
    "sb.set()\n",
    "\n",
    "device=\"cuda:0\"\n",
    "root = \"../data/\"\n"
   ]
  },
  {
   "cell_type": "code",
   "execution_count": 41,
   "id": "e2c5cb26",
   "metadata": {
    "ExecuteTime": {
     "end_time": "2023-07-25T11:56:19.410572872Z",
     "start_time": "2023-07-25T11:56:19.223840725Z"
    }
   },
   "outputs": [],
   "source": [
    "from torchvision.transforms import ToTensor, Resize, Compose\n",
    "import torch \n",
    "from torch.utils.data import DataLoader\n",
    "\n",
    "trans = Compose([ToTensor(), Resize((32, 32), antialias=True)])\n",
    "\n",
    "train_data = GTSRB(root=root, train=True, transforms=trans)\n",
    "test_data = GTSRB(root=root, train=False, transforms=trans)"
   ]
  },
  {
   "cell_type": "code",
   "execution_count": 42,
   "id": "9eb2fb87",
   "metadata": {
    "ExecuteTime": {
     "end_time": "2023-07-25T11:56:19.411146787Z",
     "start_time": "2023-07-25T11:56:19.313262354Z"
    }
   },
   "outputs": [],
   "source": [
    "train_loader = DataLoader(train_data, batch_size=32, shuffle=True, num_workers=12, worker_init_fn=seed_worker)\n",
    "test_loader = DataLoader(test_data, batch_size=32, shuffle=False, num_workers=12, worker_init_fn=seed_worker)"
   ]
  },
  {
   "cell_type": "code",
   "execution_count": 43,
   "id": "a9a268a1",
   "metadata": {
    "ExecuteTime": {
     "end_time": "2023-07-25T11:56:19.411300111Z",
     "start_time": "2023-07-25T11:56:19.313380486Z"
    }
   },
   "outputs": [],
   "source": [
    "from torch import nn\n",
    "from pytorch_ood.model import WideResNet\n",
    "\n",
    "# def override \n",
    "def Model(num_classes=None, *args, **kwargs):\n",
    "    model = WideResNet(*args, num_classes=1000, **kwargs, pretrained=\"imagenet32\")\n",
    "    model.fc = nn.Linear(model.fc.in_features, num_classes)\n",
    "    return model\n"
   ]
  },
  {
   "cell_type": "code",
   "execution_count": 44,
   "id": "857cc076",
   "metadata": {
    "ExecuteTime": {
     "end_time": "2023-07-25T11:56:19.411428021Z",
     "start_time": "2023-07-25T11:56:19.313463541Z"
    }
   },
   "outputs": [],
   "source": [
    "\n",
    "def train_model(att_index, num_classes):\n",
    "    \"\"\"\n",
    "    train a model for the given attribute index \n",
    "    \"\"\"\n",
    "    trans = Compose([ToTensor(), Resize((32, 32), antialias=True)])\n",
    "    train_data = GTSRB(root=root, train=True, transforms=trans)\n",
    "    test_data = GTSRB(root=root, train=False, transforms=trans)\n",
    "    \n",
    "    train_loader = DataLoader(train_data, batch_size=32, shuffle=True, num_workers=2, worker_init_fn=seed_worker)\n",
    "    test_loader = DataLoader(test_data, batch_size=32, shuffle=False, num_workers=2, worker_init_fn=seed_worker)\n",
    "    \n",
    "    model = Model(num_classes=num_classes).to(device)\n",
    "\n",
    "    criterion = nn.CrossEntropyLoss()\n",
    "    optimizer = SGD(model.parameters(), lr=0.001, momentum=0.9, nesterov=True)\n",
    "\n",
    "    for epoch in range(20):\n",
    "        running_loss = 0.0\n",
    "        model.train()\n",
    "        bar = tqdm(train_loader)\n",
    "        for inputs, y in bar:\n",
    "            labels = y[:, att_index]\n",
    "            inputs, labels = inputs.to(device), labels.to(device)\n",
    "\n",
    "            optimizer.zero_grad()\n",
    "            outputs = model(inputs)\n",
    "            loss = criterion(outputs, labels)\n",
    "            loss.backward()\n",
    "            optimizer.step()\n",
    "\n",
    "            running_loss = 0.8 * running_loss + 0.2 * loss.item()\n",
    "            bar.set_postfix({\"loss\": running_loss})\n",
    "\n",
    "        correct = 0\n",
    "        total = 0\n",
    "\n",
    "        with torch.no_grad():\n",
    "            model.eval()\n",
    "\n",
    "            for inputs, y in test_loader:\n",
    "                labels = y[:, att_index]\n",
    "                inputs, labels = inputs.to(device), labels.to(device)\n",
    "\n",
    "                outputs = model(inputs)\n",
    "                _, predicted = torch.max(outputs.data, dim=1)\n",
    "                total += labels.size(0)\n",
    "                correct += (predicted == labels).sum().item()\n",
    "\n",
    "        print(f'Accuracy of the network on the test images: {correct / total:.2%}')\n",
    "\n",
    "    return model "
   ]
  },
  {
   "cell_type": "markdown",
   "id": "81e239ff",
   "metadata": {},
   "source": [
    "# Rotation Network"
   ]
  },
  {
   "cell_type": "code",
   "execution_count": 45,
   "outputs": [],
   "source": [
    "from torch.utils.data import DataLoader\n",
    "from tqdm.notebook import tqdm\n",
    "from torchvision.transforms.functional import rotate\n",
    "\n",
    "def rotate_aug(x, y):\n",
    "    angle = int(random.choice([0, 1, 2, 3]))\n",
    "    img = rotate(x, angle=angle * 90)\n",
    "    return img, angle\n",
    "\n",
    "def train_rotate_model():\n",
    "    trans = Compose([ToTensor(), Resize((32, 32), antialias=True)])\n",
    "\n",
    "    # tiny = TinyImages300k(root=root, download=True, transform=trans, target_transform=ToUnknown())\n",
    "    # data_train_out, data_test_out, _ = random_split(tiny, [50000, 10000, 240000], generator=torch.Generator().manual_seed(123))\n",
    "\n",
    "    train_data_noatt = GTSRB(root=root, train=True, transform=rotate_aug, transforms=trans)\n",
    "    test_data_noatt = GTSRB(root=root, train=False, transform=rotate_aug, transforms=trans)\n",
    "\n",
    "    new_loader = DataLoader(train_data_noatt, batch_size=32, shuffle=True, num_workers=10, worker_init_fn=seed_worker)\n",
    "    new_test_loader = DataLoader(test_data_noatt, batch_size=32, shuffle=False, num_workers=10, worker_init_fn=seed_worker)\n",
    "\n",
    "    model = Model(num_classes=4).to(device)\n",
    "\n",
    "    criterion = nn.CrossEntropyLoss()\n",
    "    optimizer = SGD(model.parameters(), lr=0.001, momentum=0.9, nesterov=True)\n",
    "\n",
    "    accs = []\n",
    "\n",
    "    for epoch in range(20):\n",
    "        running_loss = None\n",
    "        model.train()\n",
    "        \n",
    "        bar = tqdm(new_loader)\n",
    "        for n, (inputs, y) in enumerate(bar):\n",
    "            inputs, y = inputs.to(device), y.to(device)\n",
    "\n",
    "            optimizer.zero_grad()\n",
    "            outputs = model(inputs)\n",
    "            loss = criterion(outputs, y)\n",
    "            loss.backward()\n",
    "            optimizer.step()\n",
    "\n",
    "            running_loss = 0.8 * running_loss + 0.2 * loss.item() if running_loss is not None else loss.item()\n",
    "            bar.set_postfix({\"loss\": running_loss})\n",
    "\n",
    "            # if n == 0:\n",
    "            #     fix, axs = plt.subplots(1,4, figsize=(16, 9))\n",
    "            #     for ax, img, lab, y_hat in zip(axs, inputs, y, outputs.argmax(dim=1)):\n",
    "            #         ax.imshow(to_pil_image(img))\n",
    "            #         ax.set_title(f\"{lab.item()} - {y_hat.item()}\")\n",
    "            #         ax.grid(False)\n",
    "            #         # Hide axes ticks\n",
    "            #         ax.set_xticks([])\n",
    "            #         ax.set_yticks([])\n",
    "            #     plt.show()\n",
    "\n",
    "        correct = 0\n",
    "        total = 0\n",
    "\n",
    "        with torch.no_grad():\n",
    "            model.eval()\n",
    "\n",
    "            for n, (inputs, y) in enumerate(new_test_loader):\n",
    "                inputs, y = inputs.to(device), y.to(device)\n",
    "\n",
    "                outputs = model(inputs)\n",
    "                _, predicted = torch.max(outputs.data, 1)\n",
    "                total += y.size(0)\n",
    "                correct += (predicted == y).sum().item()\n",
    "\n",
    "                # if n == 0:\n",
    "                #     fix, axs = plt.subplots(1,4, figsize=(16, 9))\n",
    "                #     for ax, img, lab, y_hat in zip(axs, inputs, y, predicted):\n",
    "                #         ax.imshow(to_pil_image(img))\n",
    "                #         ax.set_title(f\"{lab.item()} - {y_hat.item()}\")\n",
    "                #         ax.grid(False)\n",
    "                #         # Hide axes ticks\n",
    "                #         ax.set_xticks([])\n",
    "                #         ax.set_yticks([])\n",
    "                #     plt.show()\n",
    "\n",
    "        print(f'Accuracy of the rotation network on the test images: {correct / total:.2%}')\n",
    "        accs.append(correct / total)\n",
    "\n",
    "    return model"
   ],
   "metadata": {
    "collapsed": false,
    "ExecuteTime": {
     "end_time": "2023-07-25T11:56:19.411540472Z",
     "start_time": "2023-07-25T11:56:19.313536117Z"
    }
   }
  },
  {
   "cell_type": "markdown",
   "id": "a7089c25",
   "metadata": {
    "tags": []
   },
   "source": [
    "# OOD Evaluation "
   ]
  },
  {
   "cell_type": "code",
   "execution_count": 46,
   "id": "8d017e08",
   "metadata": {
    "ExecuteTime": {
     "end_time": "2023-07-25T11:56:19.411663117Z",
     "start_time": "2023-07-25T11:56:19.315400471Z"
    }
   },
   "outputs": [],
   "source": [
    "from pytorch_ood.dataset.img import (LSUNCrop, LSUNResize, Textures, TinyImageNetCrop, TinyImageNetResize)\n",
    "from pytorch_ood.detector import EnergyBased, MaxSoftmax\n",
    "from pytorch_ood.utils import ToRGB, OODMetrics\n",
    "from detectors import LogicOOD\n",
    "from pytorch_ood.utils import ToUnknown\n",
    "\n",
    "def evaluate(label_net, shape_net, color_net, rotation_net):\n",
    "    _ = label_net.eval()\n",
    "    _ = shape_net.eval()\n",
    "    _ = color_net.eval()\n",
    "    _ = rotation_net.eval()\n",
    "    \n",
    "    results = []\n",
    "\n",
    "    trans = Compose([Resize(size=(32, 32), antialias=True), ToRGB(), ToTensor()])\n",
    "    data_in = GTSRB(root=root, train=False, transforms=trans, target_transform=lambda y: y[0])\n",
    "    # dataset_out_test = Textures(root=root, transform=trans, target_transform=ToUnknown(), download=True)\n",
    "    \n",
    "    \n",
    "    detectors = {\n",
    "        \"LogicOOD-R\": LogicOOD(\n",
    "             label_net,\n",
    "            shape_net,\n",
    "            color_net,\n",
    "            GTSRB(root=root).class_to_shape,\n",
    "            GTSRB(root=root).class_to_color,\n",
    "            rotation_net=rotation_net\n",
    "        ),\n",
    "        \"LogicOOD\": LogicOOD(\n",
    "            label_net,\n",
    "            shape_net,\n",
    "            color_net,\n",
    "            GTSRB(root=root).class_to_shape,\n",
    "            GTSRB(root=root).class_to_color,\n",
    "        ),\n",
    "         \"Logic\": LogicOOD(\n",
    "             label_net,\n",
    "            shape_net,\n",
    "            color_net,\n",
    "            GTSRB(root=root).class_to_shape,\n",
    "            GTSRB(root=root).class_to_color,\n",
    "            rotation_net=rotation_net\n",
    "        ).consistent,\n",
    "        \"Ensemble\": EnsembleDetector(label_net, shape_net, color_net),\n",
    "        \"MSP\": MaxSoftmax(label_net),\n",
    "        \"Energy\": EnergyBased(label_net),\n",
    "    }\n",
    "    \n",
    "    datasets = {d.__name__: d for d in (LSUNCrop, LSUNResize, Textures, TinyImageNetCrop, TinyImageNetResize)}\n",
    "    \n",
    "    for detector_name, detector in detectors.items():\n",
    "        for data_name, dataset_c in datasets.items():\n",
    "            data_out = dataset_c(root=root, transform=trans, target_transform=ToUnknown(), download=True)\n",
    "            loader = DataLoader(data_in+data_out, batch_size=1024, shuffle=False, worker_init_fn=seed_worker)\n",
    "            \n",
    "            scores = []\n",
    "            ys = []\n",
    "            \n",
    "            with torch.no_grad():\n",
    "                for x, y in loader:\n",
    "                    scores.append(detector(x.to(device)))\n",
    "                    ys.append(y.to(device))\n",
    "                    \n",
    "                scores = torch.cat(scores, dim=0).cpu()\n",
    "                ys = torch.cat(ys, dim=0).cpu()\n",
    "            \n",
    "            metrics = OODMetrics()\n",
    "            metrics.update(scores, ys)\n",
    "            r = metrics.compute()\n",
    "            r.update({\n",
    "                \"Method\": detector_name,\n",
    "                \"Dataset\": data_name\n",
    "            })\n",
    "            print(r)\n",
    "            results.append(r)\n",
    "    \n",
    "    return results "
   ]
  },
  {
   "cell_type": "code",
   "execution_count": 47,
   "id": "d8ec3dec",
   "metadata": {
    "ExecuteTime": {
     "end_time": "2023-07-25T11:56:19.411784054Z",
     "start_time": "2023-07-25T11:56:19.321758167Z"
    }
   },
   "outputs": [],
   "source": [
    "def evaluate_acc(net, att_idx=0, oe=False):\n",
    "    _ = net.eval()\n",
    "    \n",
    "    if oe:\n",
    "        target_trans = lambda y: torch.tensor(1)\n",
    "    else:\n",
    "         target_trans = lambda y: y[att_idx]\n",
    "\n",
    "    trans = Compose([Resize(size=(32, 32), antialias=True), ToRGB(), ToTensor()])\n",
    "    data_in = GTSRB(root=root, train=False, transforms=trans, target_transform=target_trans)\n",
    "    loader = DataLoader(data_in, batch_size=1024, shuffle=False, worker_init_fn=seed_worker)\n",
    "            \n",
    "    correct = 0\n",
    "    total = 0\n",
    "\n",
    "    with torch.no_grad():\n",
    "        for inputs, labels in loader:\n",
    "            inputs, labels = inputs.to(device), labels.to(device)\n",
    "            outputs = net(inputs)\n",
    "            predicted = outputs.max(dim=1).indices\n",
    "            total += labels.size(0)\n",
    "            correct += (predicted == labels).sum().item()\n",
    "    \n",
    "    return correct / total  \n",
    "\n",
    "def evaluate_accs(label_net, shape_net, color_net, shield_net):\n",
    "    r = {}\n",
    "    names = (\"Label\", \"Color\", \"Shape\",)\n",
    "    \n",
    "    for n, net in enumerate((label_net, color_net, shape_net)): \n",
    "        acc = evaluate_acc(net, n)\n",
    "        r[names[n]] = acc\n",
    "    \n",
    "    acc = evaluate_acc(shield_net, oe=True)\n",
    "    r[\"Sign\"] = acc\n",
    "    \n",
    "    return [r] "
   ]
  },
  {
   "cell_type": "code",
   "execution_count": 48,
   "id": "04ea9133",
   "metadata": {
    "ExecuteTime": {
     "end_time": "2023-07-25T13:07:41.539813455Z",
     "start_time": "2023-07-25T11:56:19.326820097Z"
    }
   },
   "outputs": [
    {
     "data": {
      "text/plain": "  0%|          | 0/1226 [00:00<?, ?it/s]",
      "application/vnd.jupyter.widget-view+json": {
       "version_major": 2,
       "version_minor": 0,
       "model_id": "263dd44a57d6430bab284934026b16a0"
      }
     },
     "metadata": {},
     "output_type": "display_data"
    },
    {
     "name": "stdout",
     "output_type": "stream",
     "text": [
      "Accuracy of the rotation network on the test images: 97.29%\n"
     ]
    },
    {
     "data": {
      "text/plain": "  0%|          | 0/1226 [00:00<?, ?it/s]",
      "application/vnd.jupyter.widget-view+json": {
       "version_major": 2,
       "version_minor": 0,
       "model_id": "1806baa66d884ae784c5dda285e91078"
      }
     },
     "metadata": {},
     "output_type": "display_data"
    },
    {
     "name": "stdout",
     "output_type": "stream",
     "text": [
      "Accuracy of the rotation network on the test images: 98.21%\n"
     ]
    },
    {
     "data": {
      "text/plain": "  0%|          | 0/1226 [00:00<?, ?it/s]",
      "application/vnd.jupyter.widget-view+json": {
       "version_major": 2,
       "version_minor": 0,
       "model_id": "3ae0054c46d646688a7bb63f469a06c2"
      }
     },
     "metadata": {},
     "output_type": "display_data"
    },
    {
     "name": "stdout",
     "output_type": "stream",
     "text": [
      "Accuracy of the rotation network on the test images: 98.36%\n"
     ]
    },
    {
     "data": {
      "text/plain": "  0%|          | 0/1226 [00:00<?, ?it/s]",
      "application/vnd.jupyter.widget-view+json": {
       "version_major": 2,
       "version_minor": 0,
       "model_id": "cf77399f1f5a4a58b7e9a9b208acb778"
      }
     },
     "metadata": {},
     "output_type": "display_data"
    },
    {
     "name": "stdout",
     "output_type": "stream",
     "text": [
      "Accuracy of the rotation network on the test images: 98.26%\n"
     ]
    },
    {
     "data": {
      "text/plain": "  0%|          | 0/1226 [00:00<?, ?it/s]",
      "application/vnd.jupyter.widget-view+json": {
       "version_major": 2,
       "version_minor": 0,
       "model_id": "e1e1154f45404b1ea3d18d44472f9016"
      }
     },
     "metadata": {},
     "output_type": "display_data"
    },
    {
     "name": "stdout",
     "output_type": "stream",
     "text": [
      "Accuracy of the rotation network on the test images: 98.73%\n"
     ]
    },
    {
     "data": {
      "text/plain": "  0%|          | 0/1226 [00:00<?, ?it/s]",
      "application/vnd.jupyter.widget-view+json": {
       "version_major": 2,
       "version_minor": 0,
       "model_id": "8d2dc2f63aa942d0831f56cf073a3cfc"
      }
     },
     "metadata": {},
     "output_type": "display_data"
    },
    {
     "name": "stdout",
     "output_type": "stream",
     "text": [
      "Accuracy of the rotation network on the test images: 98.75%\n"
     ]
    },
    {
     "data": {
      "text/plain": "  0%|          | 0/1226 [00:00<?, ?it/s]",
      "application/vnd.jupyter.widget-view+json": {
       "version_major": 2,
       "version_minor": 0,
       "model_id": "0979debdb45e4965bdc2e441cdaffdc2"
      }
     },
     "metadata": {},
     "output_type": "display_data"
    },
    {
     "name": "stdout",
     "output_type": "stream",
     "text": [
      "Accuracy of the rotation network on the test images: 98.46%\n"
     ]
    },
    {
     "data": {
      "text/plain": "  0%|          | 0/1226 [00:00<?, ?it/s]",
      "application/vnd.jupyter.widget-view+json": {
       "version_major": 2,
       "version_minor": 0,
       "model_id": "2ee3a93cde0a424fb9ce9cf070aeba48"
      }
     },
     "metadata": {},
     "output_type": "display_data"
    },
    {
     "name": "stdout",
     "output_type": "stream",
     "text": [
      "Accuracy of the rotation network on the test images: 98.83%\n"
     ]
    },
    {
     "data": {
      "text/plain": "  0%|          | 0/1226 [00:00<?, ?it/s]",
      "application/vnd.jupyter.widget-view+json": {
       "version_major": 2,
       "version_minor": 0,
       "model_id": "9217d84d134e42249c0fd99e34d7dda2"
      }
     },
     "metadata": {},
     "output_type": "display_data"
    },
    {
     "name": "stdout",
     "output_type": "stream",
     "text": [
      "Accuracy of the rotation network on the test images: 98.69%\n"
     ]
    },
    {
     "data": {
      "text/plain": "  0%|          | 0/1226 [00:00<?, ?it/s]",
      "application/vnd.jupyter.widget-view+json": {
       "version_major": 2,
       "version_minor": 0,
       "model_id": "f2d5e5b0baf74c78a5486038894a3ee8"
      }
     },
     "metadata": {},
     "output_type": "display_data"
    },
    {
     "name": "stdout",
     "output_type": "stream",
     "text": [
      "Accuracy of the rotation network on the test images: 98.80%\n"
     ]
    },
    {
     "data": {
      "text/plain": "  0%|          | 0/1226 [00:00<?, ?it/s]",
      "application/vnd.jupyter.widget-view+json": {
       "version_major": 2,
       "version_minor": 0,
       "model_id": "a3f5bb191e564dd585e2e85e0bd06e5a"
      }
     },
     "metadata": {},
     "output_type": "display_data"
    },
    {
     "name": "stdout",
     "output_type": "stream",
     "text": [
      "Accuracy of the rotation network on the test images: 98.88%\n"
     ]
    },
    {
     "data": {
      "text/plain": "  0%|          | 0/1226 [00:00<?, ?it/s]",
      "application/vnd.jupyter.widget-view+json": {
       "version_major": 2,
       "version_minor": 0,
       "model_id": "e78ac1296fe840ed8f99a744eb481527"
      }
     },
     "metadata": {},
     "output_type": "display_data"
    },
    {
     "name": "stdout",
     "output_type": "stream",
     "text": [
      "Accuracy of the rotation network on the test images: 98.76%\n"
     ]
    },
    {
     "data": {
      "text/plain": "  0%|          | 0/1226 [00:00<?, ?it/s]",
      "application/vnd.jupyter.widget-view+json": {
       "version_major": 2,
       "version_minor": 0,
       "model_id": "10ba95c0c6a74948b05894dab8d1bce8"
      }
     },
     "metadata": {},
     "output_type": "display_data"
    },
    {
     "name": "stdout",
     "output_type": "stream",
     "text": [
      "Accuracy of the rotation network on the test images: 99.01%\n"
     ]
    },
    {
     "data": {
      "text/plain": "  0%|          | 0/1226 [00:00<?, ?it/s]",
      "application/vnd.jupyter.widget-view+json": {
       "version_major": 2,
       "version_minor": 0,
       "model_id": "0223a2a57ec0410abd6d5eee15140960"
      }
     },
     "metadata": {},
     "output_type": "display_data"
    },
    {
     "name": "stdout",
     "output_type": "stream",
     "text": [
      "Accuracy of the rotation network on the test images: 98.78%\n"
     ]
    },
    {
     "data": {
      "text/plain": "  0%|          | 0/1226 [00:00<?, ?it/s]",
      "application/vnd.jupyter.widget-view+json": {
       "version_major": 2,
       "version_minor": 0,
       "model_id": "f5392f58c3374709981ed21e9bd277e6"
      }
     },
     "metadata": {},
     "output_type": "display_data"
    },
    {
     "name": "stdout",
     "output_type": "stream",
     "text": [
      "Accuracy of the rotation network on the test images: 98.74%\n"
     ]
    },
    {
     "data": {
      "text/plain": "  0%|          | 0/1226 [00:00<?, ?it/s]",
      "application/vnd.jupyter.widget-view+json": {
       "version_major": 2,
       "version_minor": 0,
       "model_id": "3ca20c3fee764f1996c2d9d46cc2ea77"
      }
     },
     "metadata": {},
     "output_type": "display_data"
    },
    {
     "name": "stdout",
     "output_type": "stream",
     "text": [
      "Accuracy of the rotation network on the test images: 98.70%\n"
     ]
    },
    {
     "data": {
      "text/plain": "  0%|          | 0/1226 [00:00<?, ?it/s]",
      "application/vnd.jupyter.widget-view+json": {
       "version_major": 2,
       "version_minor": 0,
       "model_id": "368ec78cfdad4dc498ccea04cec97b4a"
      }
     },
     "metadata": {},
     "output_type": "display_data"
    },
    {
     "name": "stdout",
     "output_type": "stream",
     "text": [
      "Accuracy of the rotation network on the test images: 98.89%\n"
     ]
    },
    {
     "data": {
      "text/plain": "  0%|          | 0/1226 [00:00<?, ?it/s]",
      "application/vnd.jupyter.widget-view+json": {
       "version_major": 2,
       "version_minor": 0,
       "model_id": "98c3b58d5981425b829d8514e6d37464"
      }
     },
     "metadata": {},
     "output_type": "display_data"
    },
    {
     "name": "stdout",
     "output_type": "stream",
     "text": [
      "Accuracy of the rotation network on the test images: 98.87%\n"
     ]
    },
    {
     "data": {
      "text/plain": "  0%|          | 0/1226 [00:00<?, ?it/s]",
      "application/vnd.jupyter.widget-view+json": {
       "version_major": 2,
       "version_minor": 0,
       "model_id": "39dc9db3257941fb816a3e1c0c26f113"
      }
     },
     "metadata": {},
     "output_type": "display_data"
    },
    {
     "name": "stdout",
     "output_type": "stream",
     "text": [
      "Accuracy of the rotation network on the test images: 99.10%\n"
     ]
    },
    {
     "data": {
      "text/plain": "  0%|          | 0/1226 [00:00<?, ?it/s]",
      "application/vnd.jupyter.widget-view+json": {
       "version_major": 2,
       "version_minor": 0,
       "model_id": "d33e3d4bf84143d9bfa9f7ff8b8fe212"
      }
     },
     "metadata": {},
     "output_type": "display_data"
    },
    {
     "name": "stdout",
     "output_type": "stream",
     "text": [
      "Accuracy of the rotation network on the test images: 98.99%\n"
     ]
    },
    {
     "data": {
      "text/plain": "  0%|          | 0/1226 [00:00<?, ?it/s]",
      "application/vnd.jupyter.widget-view+json": {
       "version_major": 2,
       "version_minor": 0,
       "model_id": "3dfb3ce1f696407da79a5b9d914d7c33"
      }
     },
     "metadata": {},
     "output_type": "display_data"
    },
    {
     "name": "stdout",
     "output_type": "stream",
     "text": [
      "Accuracy of the network on the test images: 99.96%\n"
     ]
    },
    {
     "data": {
      "text/plain": "  0%|          | 0/1226 [00:00<?, ?it/s]",
      "application/vnd.jupyter.widget-view+json": {
       "version_major": 2,
       "version_minor": 0,
       "model_id": "e572c9966e1042bfbdd2a85e1b993406"
      }
     },
     "metadata": {},
     "output_type": "display_data"
    },
    {
     "name": "stdout",
     "output_type": "stream",
     "text": [
      "Accuracy of the network on the test images: 99.85%\n"
     ]
    },
    {
     "data": {
      "text/plain": "  0%|          | 0/1226 [00:00<?, ?it/s]",
      "application/vnd.jupyter.widget-view+json": {
       "version_major": 2,
       "version_minor": 0,
       "model_id": "77fe594d1c2c4f09a15af3a89a68c4ba"
      }
     },
     "metadata": {},
     "output_type": "display_data"
    },
    {
     "name": "stdout",
     "output_type": "stream",
     "text": [
      "Accuracy of the network on the test images: 99.94%\n"
     ]
    },
    {
     "data": {
      "text/plain": "  0%|          | 0/1226 [00:00<?, ?it/s]",
      "application/vnd.jupyter.widget-view+json": {
       "version_major": 2,
       "version_minor": 0,
       "model_id": "98329ff1c2cc411bac02df87315325c7"
      }
     },
     "metadata": {},
     "output_type": "display_data"
    },
    {
     "name": "stdout",
     "output_type": "stream",
     "text": [
      "Accuracy of the network on the test images: 99.87%\n"
     ]
    },
    {
     "data": {
      "text/plain": "  0%|          | 0/1226 [00:00<?, ?it/s]",
      "application/vnd.jupyter.widget-view+json": {
       "version_major": 2,
       "version_minor": 0,
       "model_id": "dac52a08ad5b4ca182240259b1de0a99"
      }
     },
     "metadata": {},
     "output_type": "display_data"
    },
    {
     "name": "stdout",
     "output_type": "stream",
     "text": [
      "Accuracy of the network on the test images: 99.87%\n"
     ]
    },
    {
     "data": {
      "text/plain": "  0%|          | 0/1226 [00:00<?, ?it/s]",
      "application/vnd.jupyter.widget-view+json": {
       "version_major": 2,
       "version_minor": 0,
       "model_id": "b88300d35f31485d865015c5cd9250db"
      }
     },
     "metadata": {},
     "output_type": "display_data"
    },
    {
     "name": "stdout",
     "output_type": "stream",
     "text": [
      "Accuracy of the network on the test images: 99.95%\n"
     ]
    },
    {
     "data": {
      "text/plain": "  0%|          | 0/1226 [00:00<?, ?it/s]",
      "application/vnd.jupyter.widget-view+json": {
       "version_major": 2,
       "version_minor": 0,
       "model_id": "fd73e43f36f04cf5928b79d681b61cae"
      }
     },
     "metadata": {},
     "output_type": "display_data"
    },
    {
     "name": "stdout",
     "output_type": "stream",
     "text": [
      "Accuracy of the network on the test images: 99.95%\n"
     ]
    },
    {
     "data": {
      "text/plain": "  0%|          | 0/1226 [00:00<?, ?it/s]",
      "application/vnd.jupyter.widget-view+json": {
       "version_major": 2,
       "version_minor": 0,
       "model_id": "f6ce90994fac47d28cb57fd9f9558992"
      }
     },
     "metadata": {},
     "output_type": "display_data"
    },
    {
     "name": "stdout",
     "output_type": "stream",
     "text": [
      "Accuracy of the network on the test images: 99.94%\n"
     ]
    },
    {
     "data": {
      "text/plain": "  0%|          | 0/1226 [00:00<?, ?it/s]",
      "application/vnd.jupyter.widget-view+json": {
       "version_major": 2,
       "version_minor": 0,
       "model_id": "f02f683e9de34d84a40d962b8ac64f93"
      }
     },
     "metadata": {},
     "output_type": "display_data"
    },
    {
     "name": "stdout",
     "output_type": "stream",
     "text": [
      "Accuracy of the network on the test images: 99.98%\n"
     ]
    },
    {
     "data": {
      "text/plain": "  0%|          | 0/1226 [00:00<?, ?it/s]",
      "application/vnd.jupyter.widget-view+json": {
       "version_major": 2,
       "version_minor": 0,
       "model_id": "2b8ed5073bc942f996457104af26c046"
      }
     },
     "metadata": {},
     "output_type": "display_data"
    },
    {
     "name": "stdout",
     "output_type": "stream",
     "text": [
      "Accuracy of the network on the test images: 99.94%\n"
     ]
    },
    {
     "data": {
      "text/plain": "  0%|          | 0/1226 [00:00<?, ?it/s]",
      "application/vnd.jupyter.widget-view+json": {
       "version_major": 2,
       "version_minor": 0,
       "model_id": "1a0345b14f3048ba99b86b57172a371a"
      }
     },
     "metadata": {},
     "output_type": "display_data"
    },
    {
     "name": "stdout",
     "output_type": "stream",
     "text": [
      "Accuracy of the network on the test images: 99.95%\n"
     ]
    },
    {
     "data": {
      "text/plain": "  0%|          | 0/1226 [00:00<?, ?it/s]",
      "application/vnd.jupyter.widget-view+json": {
       "version_major": 2,
       "version_minor": 0,
       "model_id": "179387deb7b242dfa4150cbcfece4625"
      }
     },
     "metadata": {},
     "output_type": "display_data"
    },
    {
     "name": "stdout",
     "output_type": "stream",
     "text": [
      "Accuracy of the network on the test images: 99.94%\n"
     ]
    },
    {
     "data": {
      "text/plain": "  0%|          | 0/1226 [00:00<?, ?it/s]",
      "application/vnd.jupyter.widget-view+json": {
       "version_major": 2,
       "version_minor": 0,
       "model_id": "891d76bc3f1643ba9d944dd6041a1871"
      }
     },
     "metadata": {},
     "output_type": "display_data"
    },
    {
     "name": "stdout",
     "output_type": "stream",
     "text": [
      "Accuracy of the network on the test images: 99.95%\n"
     ]
    },
    {
     "data": {
      "text/plain": "  0%|          | 0/1226 [00:00<?, ?it/s]",
      "application/vnd.jupyter.widget-view+json": {
       "version_major": 2,
       "version_minor": 0,
       "model_id": "50b280de417d4f2b8b6ddef8b2b7c4b9"
      }
     },
     "metadata": {},
     "output_type": "display_data"
    },
    {
     "name": "stdout",
     "output_type": "stream",
     "text": [
      "Accuracy of the network on the test images: 99.97%\n"
     ]
    },
    {
     "data": {
      "text/plain": "  0%|          | 0/1226 [00:00<?, ?it/s]",
      "application/vnd.jupyter.widget-view+json": {
       "version_major": 2,
       "version_minor": 0,
       "model_id": "dda0c5acfb014f91865ffb844e56566d"
      }
     },
     "metadata": {},
     "output_type": "display_data"
    },
    {
     "name": "stdout",
     "output_type": "stream",
     "text": [
      "Accuracy of the network on the test images: 99.95%\n"
     ]
    },
    {
     "data": {
      "text/plain": "  0%|          | 0/1226 [00:00<?, ?it/s]",
      "application/vnd.jupyter.widget-view+json": {
       "version_major": 2,
       "version_minor": 0,
       "model_id": "1a654a6b2fae4095b075028e9e58e525"
      }
     },
     "metadata": {},
     "output_type": "display_data"
    },
    {
     "name": "stdout",
     "output_type": "stream",
     "text": [
      "Accuracy of the network on the test images: 99.97%\n"
     ]
    },
    {
     "data": {
      "text/plain": "  0%|          | 0/1226 [00:00<?, ?it/s]",
      "application/vnd.jupyter.widget-view+json": {
       "version_major": 2,
       "version_minor": 0,
       "model_id": "6267612445e0478b9a700e6dbfb4a97d"
      }
     },
     "metadata": {},
     "output_type": "display_data"
    },
    {
     "name": "stdout",
     "output_type": "stream",
     "text": [
      "Accuracy of the network on the test images: 99.97%\n"
     ]
    },
    {
     "data": {
      "text/plain": "  0%|          | 0/1226 [00:00<?, ?it/s]",
      "application/vnd.jupyter.widget-view+json": {
       "version_major": 2,
       "version_minor": 0,
       "model_id": "4721e93b52cb40968ab98c2a51f65f76"
      }
     },
     "metadata": {},
     "output_type": "display_data"
    },
    {
     "name": "stdout",
     "output_type": "stream",
     "text": [
      "Accuracy of the network on the test images: 99.97%\n"
     ]
    },
    {
     "data": {
      "text/plain": "  0%|          | 0/1226 [00:00<?, ?it/s]",
      "application/vnd.jupyter.widget-view+json": {
       "version_major": 2,
       "version_minor": 0,
       "model_id": "b4b419dae281461495cb345cc3a76295"
      }
     },
     "metadata": {},
     "output_type": "display_data"
    },
    {
     "name": "stdout",
     "output_type": "stream",
     "text": [
      "Accuracy of the network on the test images: 99.94%\n"
     ]
    },
    {
     "data": {
      "text/plain": "  0%|          | 0/1226 [00:00<?, ?it/s]",
      "application/vnd.jupyter.widget-view+json": {
       "version_major": 2,
       "version_minor": 0,
       "model_id": "d45255d0b2bc466f8ae2b2bfee1f1925"
      }
     },
     "metadata": {},
     "output_type": "display_data"
    },
    {
     "name": "stdout",
     "output_type": "stream",
     "text": [
      "Accuracy of the network on the test images: 99.97%\n"
     ]
    },
    {
     "data": {
      "text/plain": "  0%|          | 0/1226 [00:00<?, ?it/s]",
      "application/vnd.jupyter.widget-view+json": {
       "version_major": 2,
       "version_minor": 0,
       "model_id": "b177d4de9a1e432281f7f9e2b6a5f19a"
      }
     },
     "metadata": {},
     "output_type": "display_data"
    },
    {
     "name": "stdout",
     "output_type": "stream",
     "text": [
      "Accuracy of the network on the test images: 99.93%\n"
     ]
    },
    {
     "data": {
      "text/plain": "  0%|          | 0/1226 [00:00<?, ?it/s]",
      "application/vnd.jupyter.widget-view+json": {
       "version_major": 2,
       "version_minor": 0,
       "model_id": "4a55059e19db416ab4d339afcf7e084c"
      }
     },
     "metadata": {},
     "output_type": "display_data"
    },
    {
     "name": "stdout",
     "output_type": "stream",
     "text": [
      "Accuracy of the network on the test images: 99.92%\n"
     ]
    },
    {
     "data": {
      "text/plain": "  0%|          | 0/1226 [00:00<?, ?it/s]",
      "application/vnd.jupyter.widget-view+json": {
       "version_major": 2,
       "version_minor": 0,
       "model_id": "daca7a6e5cbb46ffb27ce9e180fda252"
      }
     },
     "metadata": {},
     "output_type": "display_data"
    },
    {
     "name": "stdout",
     "output_type": "stream",
     "text": [
      "Accuracy of the network on the test images: 99.92%\n"
     ]
    },
    {
     "data": {
      "text/plain": "  0%|          | 0/1226 [00:00<?, ?it/s]",
      "application/vnd.jupyter.widget-view+json": {
       "version_major": 2,
       "version_minor": 0,
       "model_id": "34ec6a2c406c47509d680b99ed296b41"
      }
     },
     "metadata": {},
     "output_type": "display_data"
    },
    {
     "name": "stdout",
     "output_type": "stream",
     "text": [
      "Accuracy of the network on the test images: 99.94%\n"
     ]
    },
    {
     "data": {
      "text/plain": "  0%|          | 0/1226 [00:00<?, ?it/s]",
      "application/vnd.jupyter.widget-view+json": {
       "version_major": 2,
       "version_minor": 0,
       "model_id": "621896702c8c4622bfec52ee9dd9f36b"
      }
     },
     "metadata": {},
     "output_type": "display_data"
    },
    {
     "name": "stdout",
     "output_type": "stream",
     "text": [
      "Accuracy of the network on the test images: 99.95%\n"
     ]
    },
    {
     "data": {
      "text/plain": "  0%|          | 0/1226 [00:00<?, ?it/s]",
      "application/vnd.jupyter.widget-view+json": {
       "version_major": 2,
       "version_minor": 0,
       "model_id": "ce1e487be5f94b76816e1681dea2af02"
      }
     },
     "metadata": {},
     "output_type": "display_data"
    },
    {
     "name": "stdout",
     "output_type": "stream",
     "text": [
      "Accuracy of the network on the test images: 99.94%\n"
     ]
    },
    {
     "data": {
      "text/plain": "  0%|          | 0/1226 [00:00<?, ?it/s]",
      "application/vnd.jupyter.widget-view+json": {
       "version_major": 2,
       "version_minor": 0,
       "model_id": "047ce1d77cc341c0b4bc7dd72c702e51"
      }
     },
     "metadata": {},
     "output_type": "display_data"
    },
    {
     "name": "stdout",
     "output_type": "stream",
     "text": [
      "Accuracy of the network on the test images: 99.92%\n"
     ]
    },
    {
     "data": {
      "text/plain": "  0%|          | 0/1226 [00:00<?, ?it/s]",
      "application/vnd.jupyter.widget-view+json": {
       "version_major": 2,
       "version_minor": 0,
       "model_id": "557ca3407f2f404daf8025cef4408432"
      }
     },
     "metadata": {},
     "output_type": "display_data"
    },
    {
     "name": "stdout",
     "output_type": "stream",
     "text": [
      "Accuracy of the network on the test images: 99.96%\n"
     ]
    },
    {
     "data": {
      "text/plain": "  0%|          | 0/1226 [00:00<?, ?it/s]",
      "application/vnd.jupyter.widget-view+json": {
       "version_major": 2,
       "version_minor": 0,
       "model_id": "bd4e4f835ab04f6a8b32c80f51930a02"
      }
     },
     "metadata": {},
     "output_type": "display_data"
    },
    {
     "name": "stdout",
     "output_type": "stream",
     "text": [
      "Accuracy of the network on the test images: 99.98%\n"
     ]
    },
    {
     "data": {
      "text/plain": "  0%|          | 0/1226 [00:00<?, ?it/s]",
      "application/vnd.jupyter.widget-view+json": {
       "version_major": 2,
       "version_minor": 0,
       "model_id": "6cf57a458af5467bb5a78682826f2806"
      }
     },
     "metadata": {},
     "output_type": "display_data"
    },
    {
     "name": "stdout",
     "output_type": "stream",
     "text": [
      "Accuracy of the network on the test images: 99.98%\n"
     ]
    },
    {
     "data": {
      "text/plain": "  0%|          | 0/1226 [00:00<?, ?it/s]",
      "application/vnd.jupyter.widget-view+json": {
       "version_major": 2,
       "version_minor": 0,
       "model_id": "24dd4253e228443c90e551959af475b8"
      }
     },
     "metadata": {},
     "output_type": "display_data"
    },
    {
     "name": "stdout",
     "output_type": "stream",
     "text": [
      "Accuracy of the network on the test images: 99.96%\n"
     ]
    },
    {
     "data": {
      "text/plain": "  0%|          | 0/1226 [00:00<?, ?it/s]",
      "application/vnd.jupyter.widget-view+json": {
       "version_major": 2,
       "version_minor": 0,
       "model_id": "83591c98e5fb47ae9757c17579a51959"
      }
     },
     "metadata": {},
     "output_type": "display_data"
    },
    {
     "name": "stdout",
     "output_type": "stream",
     "text": [
      "Accuracy of the network on the test images: 99.98%\n"
     ]
    },
    {
     "data": {
      "text/plain": "  0%|          | 0/1226 [00:00<?, ?it/s]",
      "application/vnd.jupyter.widget-view+json": {
       "version_major": 2,
       "version_minor": 0,
       "model_id": "41f421e75a3f4294bd7e826a604e4bed"
      }
     },
     "metadata": {},
     "output_type": "display_data"
    },
    {
     "name": "stdout",
     "output_type": "stream",
     "text": [
      "Accuracy of the network on the test images: 99.98%\n"
     ]
    },
    {
     "data": {
      "text/plain": "  0%|          | 0/1226 [00:00<?, ?it/s]",
      "application/vnd.jupyter.widget-view+json": {
       "version_major": 2,
       "version_minor": 0,
       "model_id": "1dbcf476d57d430dae493a68893ddcd1"
      }
     },
     "metadata": {},
     "output_type": "display_data"
    },
    {
     "name": "stdout",
     "output_type": "stream",
     "text": [
      "Accuracy of the network on the test images: 99.98%\n"
     ]
    },
    {
     "data": {
      "text/plain": "  0%|          | 0/1226 [00:00<?, ?it/s]",
      "application/vnd.jupyter.widget-view+json": {
       "version_major": 2,
       "version_minor": 0,
       "model_id": "0d2285c0eafa4ed89511bca50cd78393"
      }
     },
     "metadata": {},
     "output_type": "display_data"
    },
    {
     "name": "stdout",
     "output_type": "stream",
     "text": [
      "Accuracy of the network on the test images: 99.98%\n"
     ]
    },
    {
     "data": {
      "text/plain": "  0%|          | 0/1226 [00:00<?, ?it/s]",
      "application/vnd.jupyter.widget-view+json": {
       "version_major": 2,
       "version_minor": 0,
       "model_id": "cb82640d04424893a581e0ba30b99178"
      }
     },
     "metadata": {},
     "output_type": "display_data"
    },
    {
     "name": "stdout",
     "output_type": "stream",
     "text": [
      "Accuracy of the network on the test images: 99.98%\n"
     ]
    },
    {
     "data": {
      "text/plain": "  0%|          | 0/1226 [00:00<?, ?it/s]",
      "application/vnd.jupyter.widget-view+json": {
       "version_major": 2,
       "version_minor": 0,
       "model_id": "6690dcf2cff24652bf77f7b6442f4b90"
      }
     },
     "metadata": {},
     "output_type": "display_data"
    },
    {
     "name": "stdout",
     "output_type": "stream",
     "text": [
      "Accuracy of the network on the test images: 99.98%\n"
     ]
    },
    {
     "data": {
      "text/plain": "  0%|          | 0/1226 [00:00<?, ?it/s]",
      "application/vnd.jupyter.widget-view+json": {
       "version_major": 2,
       "version_minor": 0,
       "model_id": "b03e616f97664d5cae8f04163a22599a"
      }
     },
     "metadata": {},
     "output_type": "display_data"
    },
    {
     "name": "stdout",
     "output_type": "stream",
     "text": [
      "Accuracy of the network on the test images: 99.98%\n"
     ]
    },
    {
     "data": {
      "text/plain": "  0%|          | 0/1226 [00:00<?, ?it/s]",
      "application/vnd.jupyter.widget-view+json": {
       "version_major": 2,
       "version_minor": 0,
       "model_id": "e0bfc72687684441b444fe7d333d1420"
      }
     },
     "metadata": {},
     "output_type": "display_data"
    },
    {
     "name": "stdout",
     "output_type": "stream",
     "text": [
      "Accuracy of the network on the test images: 99.98%\n"
     ]
    },
    {
     "data": {
      "text/plain": "  0%|          | 0/1226 [00:00<?, ?it/s]",
      "application/vnd.jupyter.widget-view+json": {
       "version_major": 2,
       "version_minor": 0,
       "model_id": "a8db1adf6826445aa26000a53458f2c0"
      }
     },
     "metadata": {},
     "output_type": "display_data"
    },
    {
     "name": "stdout",
     "output_type": "stream",
     "text": [
      "Accuracy of the network on the test images: 99.98%\n"
     ]
    },
    {
     "data": {
      "text/plain": "  0%|          | 0/1226 [00:00<?, ?it/s]",
      "application/vnd.jupyter.widget-view+json": {
       "version_major": 2,
       "version_minor": 0,
       "model_id": "e22ed2d02b0f4d47901046ae7ce26080"
      }
     },
     "metadata": {},
     "output_type": "display_data"
    },
    {
     "name": "stdout",
     "output_type": "stream",
     "text": [
      "Accuracy of the network on the test images: 97.89%\n"
     ]
    },
    {
     "data": {
      "text/plain": "  0%|          | 0/1226 [00:00<?, ?it/s]",
      "application/vnd.jupyter.widget-view+json": {
       "version_major": 2,
       "version_minor": 0,
       "model_id": "4c5532eeaf69431689e2786547c71cf3"
      }
     },
     "metadata": {},
     "output_type": "display_data"
    },
    {
     "name": "stdout",
     "output_type": "stream",
     "text": [
      "Accuracy of the network on the test images: 98.49%\n"
     ]
    },
    {
     "data": {
      "text/plain": "  0%|          | 0/1226 [00:00<?, ?it/s]",
      "application/vnd.jupyter.widget-view+json": {
       "version_major": 2,
       "version_minor": 0,
       "model_id": "7a8f83ddd96c402b95b785b484636f76"
      }
     },
     "metadata": {},
     "output_type": "display_data"
    },
    {
     "name": "stdout",
     "output_type": "stream",
     "text": [
      "Accuracy of the network on the test images: 98.63%\n"
     ]
    },
    {
     "data": {
      "text/plain": "  0%|          | 0/1226 [00:00<?, ?it/s]",
      "application/vnd.jupyter.widget-view+json": {
       "version_major": 2,
       "version_minor": 0,
       "model_id": "b30f28cc8ec5477eafe2017b83aa324a"
      }
     },
     "metadata": {},
     "output_type": "display_data"
    },
    {
     "name": "stdout",
     "output_type": "stream",
     "text": [
      "Accuracy of the network on the test images: 98.88%\n"
     ]
    },
    {
     "data": {
      "text/plain": "  0%|          | 0/1226 [00:00<?, ?it/s]",
      "application/vnd.jupyter.widget-view+json": {
       "version_major": 2,
       "version_minor": 0,
       "model_id": "9d02db7e319e420a95c8b5cc58e19d07"
      }
     },
     "metadata": {},
     "output_type": "display_data"
    },
    {
     "name": "stdout",
     "output_type": "stream",
     "text": [
      "Accuracy of the network on the test images: 98.83%\n"
     ]
    },
    {
     "data": {
      "text/plain": "  0%|          | 0/1226 [00:00<?, ?it/s]",
      "application/vnd.jupyter.widget-view+json": {
       "version_major": 2,
       "version_minor": 0,
       "model_id": "63c0b449c79f4118babae0c6c6cb9612"
      }
     },
     "metadata": {},
     "output_type": "display_data"
    },
    {
     "name": "stdout",
     "output_type": "stream",
     "text": [
      "Accuracy of the network on the test images: 98.87%\n"
     ]
    },
    {
     "data": {
      "text/plain": "  0%|          | 0/1226 [00:00<?, ?it/s]",
      "application/vnd.jupyter.widget-view+json": {
       "version_major": 2,
       "version_minor": 0,
       "model_id": "ab302d5f1298449f9c5ff31210814c84"
      }
     },
     "metadata": {},
     "output_type": "display_data"
    },
    {
     "name": "stdout",
     "output_type": "stream",
     "text": [
      "Accuracy of the network on the test images: 98.73%\n"
     ]
    },
    {
     "data": {
      "text/plain": "  0%|          | 0/1226 [00:00<?, ?it/s]",
      "application/vnd.jupyter.widget-view+json": {
       "version_major": 2,
       "version_minor": 0,
       "model_id": "370fb24919224b50a5a4a5ff09329323"
      }
     },
     "metadata": {},
     "output_type": "display_data"
    },
    {
     "name": "stdout",
     "output_type": "stream",
     "text": [
      "Accuracy of the network on the test images: 99.04%\n"
     ]
    },
    {
     "data": {
      "text/plain": "  0%|          | 0/1226 [00:00<?, ?it/s]",
      "application/vnd.jupyter.widget-view+json": {
       "version_major": 2,
       "version_minor": 0,
       "model_id": "7cb677a7f72a48478342b462b6f60303"
      }
     },
     "metadata": {},
     "output_type": "display_data"
    },
    {
     "name": "stdout",
     "output_type": "stream",
     "text": [
      "Accuracy of the network on the test images: 98.93%\n"
     ]
    },
    {
     "data": {
      "text/plain": "  0%|          | 0/1226 [00:00<?, ?it/s]",
      "application/vnd.jupyter.widget-view+json": {
       "version_major": 2,
       "version_minor": 0,
       "model_id": "eae5a92a3d4c42c7940b4e8afc7aafb9"
      }
     },
     "metadata": {},
     "output_type": "display_data"
    },
    {
     "name": "stdout",
     "output_type": "stream",
     "text": [
      "Accuracy of the network on the test images: 99.02%\n"
     ]
    },
    {
     "data": {
      "text/plain": "  0%|          | 0/1226 [00:00<?, ?it/s]",
      "application/vnd.jupyter.widget-view+json": {
       "version_major": 2,
       "version_minor": 0,
       "model_id": "60f0f1e118554afa8efdf95effa117de"
      }
     },
     "metadata": {},
     "output_type": "display_data"
    },
    {
     "name": "stdout",
     "output_type": "stream",
     "text": [
      "Accuracy of the network on the test images: 98.94%\n"
     ]
    },
    {
     "data": {
      "text/plain": "  0%|          | 0/1226 [00:00<?, ?it/s]",
      "application/vnd.jupyter.widget-view+json": {
       "version_major": 2,
       "version_minor": 0,
       "model_id": "49afb71b43684b70aac87e97b6bae103"
      }
     },
     "metadata": {},
     "output_type": "display_data"
    },
    {
     "name": "stdout",
     "output_type": "stream",
     "text": [
      "Accuracy of the network on the test images: 98.84%\n"
     ]
    },
    {
     "data": {
      "text/plain": "  0%|          | 0/1226 [00:00<?, ?it/s]",
      "application/vnd.jupyter.widget-view+json": {
       "version_major": 2,
       "version_minor": 0,
       "model_id": "354e9fb659ba4667ad313a7e75eb6833"
      }
     },
     "metadata": {},
     "output_type": "display_data"
    },
    {
     "name": "stdout",
     "output_type": "stream",
     "text": [
      "Accuracy of the network on the test images: 98.92%\n"
     ]
    },
    {
     "data": {
      "text/plain": "  0%|          | 0/1226 [00:00<?, ?it/s]",
      "application/vnd.jupyter.widget-view+json": {
       "version_major": 2,
       "version_minor": 0,
       "model_id": "1017ae59c61b40ef985288f6472f6783"
      }
     },
     "metadata": {},
     "output_type": "display_data"
    },
    {
     "name": "stdout",
     "output_type": "stream",
     "text": [
      "Accuracy of the network on the test images: 99.18%\n"
     ]
    },
    {
     "data": {
      "text/plain": "  0%|          | 0/1226 [00:00<?, ?it/s]",
      "application/vnd.jupyter.widget-view+json": {
       "version_major": 2,
       "version_minor": 0,
       "model_id": "77fa6c6737cc4567b8054a3c02069a8c"
      }
     },
     "metadata": {},
     "output_type": "display_data"
    },
    {
     "name": "stdout",
     "output_type": "stream",
     "text": [
      "Accuracy of the network on the test images: 99.24%\n"
     ]
    },
    {
     "data": {
      "text/plain": "  0%|          | 0/1226 [00:00<?, ?it/s]",
      "application/vnd.jupyter.widget-view+json": {
       "version_major": 2,
       "version_minor": 0,
       "model_id": "8419f9ac6ee14a0f86e9a7e127025d31"
      }
     },
     "metadata": {},
     "output_type": "display_data"
    },
    {
     "name": "stdout",
     "output_type": "stream",
     "text": [
      "Accuracy of the network on the test images: 99.03%\n"
     ]
    },
    {
     "data": {
      "text/plain": "  0%|          | 0/1226 [00:00<?, ?it/s]",
      "application/vnd.jupyter.widget-view+json": {
       "version_major": 2,
       "version_minor": 0,
       "model_id": "18501012754847c39fb92804c37d52b2"
      }
     },
     "metadata": {},
     "output_type": "display_data"
    },
    {
     "name": "stdout",
     "output_type": "stream",
     "text": [
      "Accuracy of the network on the test images: 98.98%\n"
     ]
    },
    {
     "data": {
      "text/plain": "  0%|          | 0/1226 [00:00<?, ?it/s]",
      "application/vnd.jupyter.widget-view+json": {
       "version_major": 2,
       "version_minor": 0,
       "model_id": "246c74abb1d644c796712c79aa8acd36"
      }
     },
     "metadata": {},
     "output_type": "display_data"
    },
    {
     "name": "stdout",
     "output_type": "stream",
     "text": [
      "Accuracy of the network on the test images: 99.04%\n"
     ]
    },
    {
     "data": {
      "text/plain": "  0%|          | 0/1226 [00:00<?, ?it/s]",
      "application/vnd.jupyter.widget-view+json": {
       "version_major": 2,
       "version_minor": 0,
       "model_id": "1bf56b2ad7ef43ed825eff287810fde9"
      }
     },
     "metadata": {},
     "output_type": "display_data"
    },
    {
     "name": "stdout",
     "output_type": "stream",
     "text": [
      "Accuracy of the network on the test images: 99.26%\n"
     ]
    },
    {
     "data": {
      "text/plain": "  0%|          | 0/1226 [00:00<?, ?it/s]",
      "application/vnd.jupyter.widget-view+json": {
       "version_major": 2,
       "version_minor": 0,
       "model_id": "aa86ed6c30bb401c807f13a98c27a323"
      }
     },
     "metadata": {},
     "output_type": "display_data"
    },
    {
     "name": "stdout",
     "output_type": "stream",
     "text": [
      "Accuracy of the network on the test images: 99.26%\n",
      "{'AUROC': 0.9941996335983276, 'AUPR-IN': 0.992180585861206, 'AUPR-OUT': 0.9972259402275085, 'FPR95TPR': 0.010292952880263329, 'Method': 'LogicOOD-R', 'Dataset': 'LSUNCrop'}\n",
      "{'AUROC': 0.9938709735870361, 'AUPR-IN': 0.9913190603256226, 'AUPR-OUT': 0.9970018267631531, 'FPR95TPR': 0.010530482977628708, 'Method': 'LogicOOD-R', 'Dataset': 'LSUNResize'}\n",
      "{'AUROC': 0.9933876395225525, 'AUPR-IN': 0.9834429025650024, 'AUPR-OUT': 0.997776985168457, 'FPR95TPR': 0.01195566076785326, 'Method': 'LogicOOD-R', 'Dataset': 'Textures'}\n",
      "{'AUROC': 0.9937673211097717, 'AUPR-IN': 0.9913177490234375, 'AUPR-OUT': 0.9969080090522766, 'FPR95TPR': 0.010768013074994087, 'Method': 'LogicOOD-R', 'Dataset': 'TinyImageNetCrop'}\n",
      "{'AUROC': 0.9936424493789673, 'AUPR-IN': 0.9909634590148926, 'AUPR-OUT': 0.9968287944793701, 'FPR95TPR': 0.010847189463675022, 'Method': 'LogicOOD-R', 'Dataset': 'TinyImageNetResize'}\n",
      "{'AUROC': 0.9985780119895935, 'AUPR-IN': 0.9979462623596191, 'AUPR-OUT': 0.9990980625152588, 'FPR95TPR': 0.0052256532944738865, 'Method': 'LogicOOD', 'Dataset': 'LSUNCrop'}\n",
      "{'AUROC': 0.999004065990448, 'AUPR-IN': 0.9985386729240417, 'AUPR-OUT': 0.9994275569915771, 'FPR95TPR': 0.002929532900452614, 'Method': 'LogicOOD', 'Dataset': 'LSUNResize'}\n",
      "{'AUROC': 0.9980500936508179, 'AUPR-IN': 0.9953684210777283, 'AUPR-OUT': 0.9991816282272339, 'FPR95TPR': 0.006809184327721596, 'Method': 'LogicOOD', 'Dataset': 'Textures'}\n",
      "{'AUROC': 0.9985164403915405, 'AUPR-IN': 0.9978235960006714, 'AUPR-OUT': 0.9990723133087158, 'FPR95TPR': 0.0057798889465630054, 'Method': 'LogicOOD', 'Dataset': 'TinyImageNetCrop'}\n",
      "{'AUROC': 0.9987595081329346, 'AUPR-IN': 0.9982224702835083, 'AUPR-OUT': 0.9992415904998779, 'FPR95TPR': 0.004513063933700323, 'Method': 'LogicOOD', 'Dataset': 'TinyImageNetResize'}\n",
      "{'AUROC': 0.9518035054206848, 'AUPR-IN': 0.9689608216285706, 'AUPR-OUT': 0.9655051827430725, 'FPR95TPR': 1.0, 'Method': 'Logic', 'Dataset': 'LSUNCrop'}\n",
      "{'AUROC': 0.9234535694122314, 'AUPR-IN': 0.9526814818382263, 'AUPR-OUT': 0.9464622139930725, 'FPR95TPR': 1.0, 'Method': 'Logic', 'Dataset': 'LSUNResize'}\n",
      "{'AUROC': 0.9120520949363708, 'AUPR-IN': 0.9293187260627747, 'AUPR-OUT': 0.9636487364768982, 'FPR95TPR': 1.0, 'Method': 'Logic', 'Dataset': 'Textures'}\n",
      "{'AUROC': 0.9306035041809082, 'AUPR-IN': 0.9567927122116089, 'AUPR-OUT': 0.951117217540741, 'FPR95TPR': 1.0, 'Method': 'Logic', 'Dataset': 'TinyImageNetCrop'}\n",
      "{'AUROC': 0.9190034866333008, 'AUPR-IN': 0.9501206874847412, 'AUPR-OUT': 0.9436129927635193, 'FPR95TPR': 1.0, 'Method': 'Logic', 'Dataset': 'TinyImageNetResize'}\n",
      "{'AUROC': 0.9977989792823792, 'AUPR-IN': 0.996711254119873, 'AUPR-OUT': 0.9985159635543823, 'FPR95TPR': 0.009817893616855145, 'Method': 'Ensemble', 'Dataset': 'LSUNCrop'}\n",
      "{'AUROC': 0.9979068040847778, 'AUPR-IN': 0.9968708157539368, 'AUPR-OUT': 0.9986076951026917, 'FPR95TPR': 0.009817893616855145, 'Method': 'Ensemble', 'Dataset': 'LSUNResize'}\n",
      "{'AUROC': 0.9969589710235596, 'AUPR-IN': 0.9924601912498474, 'AUPR-OUT': 0.9987139701843262, 'FPR95TPR': 0.013143309392035007, 'Method': 'Ensemble', 'Dataset': 'Textures'}\n",
      "{'AUROC': 0.997420608997345, 'AUPR-IN': 0.9961577653884888, 'AUPR-OUT': 0.9982771873474121, 'FPR95TPR': 0.01235154364258051, 'Method': 'Ensemble', 'Dataset': 'TinyImageNetCrop'}\n",
      "{'AUROC': 0.997386634349823, 'AUPR-IN': 0.9960734248161316, 'AUPR-OUT': 0.9982663989067078, 'FPR95TPR': 0.01179730799049139, 'Method': 'Ensemble', 'Dataset': 'TinyImageNetResize'}\n",
      "{'AUROC': 0.9879664182662964, 'AUPR-IN': 0.9822874069213867, 'AUPR-OUT': 0.9904119968414307, 'FPR95TPR': 0.03206650912761688, 'Method': 'MSP', 'Dataset': 'LSUNCrop'}\n",
      "{'AUROC': 0.9873388409614563, 'AUPR-IN': 0.9840990900993347, 'AUPR-OUT': 0.9883850812911987, 'FPR95TPR': 0.03444180637598038, 'Method': 'MSP', 'Dataset': 'LSUNResize'}\n",
      "{'AUROC': 0.9803472757339478, 'AUPR-IN': 0.9665119051933289, 'AUPR-OUT': 0.9851870536804199, 'FPR95TPR': 0.0378463976085186, 'Method': 'MSP', 'Dataset': 'Textures'}\n",
      "{'AUROC': 0.9859556555747986, 'AUPR-IN': 0.9826574325561523, 'AUPR-OUT': 0.9866104125976562, 'FPR95TPR': 0.03737133741378784, 'Method': 'MSP', 'Dataset': 'TinyImageNetCrop'}\n",
      "{'AUROC': 0.9823173880577087, 'AUPR-IN': 0.9801371693611145, 'AUPR-OUT': 0.9801984429359436, 'FPR95TPR': 0.041171811521053314, 'Method': 'MSP', 'Dataset': 'TinyImageNetResize'}\n",
      "{'AUROC': 0.9860789775848389, 'AUPR-IN': 0.984004020690918, 'AUPR-OUT': 0.9863380193710327, 'FPR95TPR': 0.029770387336611748, 'Method': 'Energy', 'Dataset': 'LSUNCrop'}\n",
      "{'AUROC': 0.9842714071273804, 'AUPR-IN': 0.9851813912391663, 'AUPR-OUT': 0.9811773896217346, 'FPR95TPR': 0.030403800308704376, 'Method': 'Energy', 'Dataset': 'LSUNResize'}\n",
      "{'AUROC': 0.9700929522514343, 'AUPR-IN': 0.9624580144882202, 'AUPR-OUT': 0.9747393131256104, 'FPR95TPR': 0.07672209292650223, 'Method': 'Energy', 'Dataset': 'Textures'}\n",
      "{'AUROC': 0.9802961349487305, 'AUPR-IN': 0.9811636209487915, 'AUPR-OUT': 0.977449893951416, 'FPR95TPR': 0.05138558894395828, 'Method': 'Energy', 'Dataset': 'TinyImageNetCrop'}\n",
      "{'AUROC': 0.976305365562439, 'AUPR-IN': 0.9789267778396606, 'AUPR-OUT': 0.9702086448669434, 'FPR95TPR': 0.06935866922140121, 'Method': 'Energy', 'Dataset': 'TinyImageNetResize'}\n"
     ]
    }
   ],
   "source": [
    "results = []\n",
    "results_acc = []\n",
    "\n",
    "for trial in range(1):\n",
    "    rotation_net = train_rotate_model()\n",
    "    shape_net = train_model(att_index=2, num_classes=5)\n",
    "    color_net = train_model(att_index=1, num_classes=4)\n",
    "    label_net = train_model(att_index=0, num_classes=43)\n",
    "    \n",
    "    res = evaluate(label_net, shape_net, color_net, rotation_net)\n",
    "    res_acc = evaluate_accs(label_net, shape_net, color_net, rotation_net)\n",
    "    \n",
    "    for r in res:\n",
    "        r.update({\"Seed\": trial})\n",
    "        \n",
    "    for r in res_acc:\n",
    "        r.update({\"Seed\": trial})\n",
    "    \n",
    "    results += res\n",
    "    results_acc += res_acc"
   ]
  },
  {
   "cell_type": "code",
   "execution_count": 58,
   "id": "71390c67",
   "metadata": {
    "ExecuteTime": {
     "end_time": "2023-07-25T14:06:32.518830804Z",
     "start_time": "2023-07-25T14:06:32.471454032Z"
    }
   },
   "outputs": [
    {
     "name": "stdout",
     "output_type": "stream",
     "text": [
      "\\begin{tabular}{lrrrrrrrr}\n",
      "\\toprule\n",
      "{} & \\multicolumn{2}{l}{AUROC} & \\multicolumn{2}{l}{AUPR-IN} & \\multicolumn{2}{l}{AUPR-OUT} & \\multicolumn{2}{l}{FPR95TPR} \\\\\n",
      "{} &  mean &  sem &    mean &  sem &     mean &  sem &     mean &  sem \\\\\n",
      "Method     &       &      &         &      &          &      &          &      \\\\\n",
      "\\midrule\n",
      "Energy     & 97.94 & 0.29 &   97.83 & 0.41 &    97.80 & 0.28 &     5.15 & 0.97 \\\\\n",
      "Ensemble   & 99.75 & 0.02 &   99.57 & 0.08 &    99.85 & 0.01 &     1.14 & 0.07 \\\\\n",
      "Logic      & 92.74 & 0.68 &   95.16 & 0.64 &    95.41 & 0.45 &   100.00 & 0.00 \\\\\n",
      "LogicOOD   & 99.86 & 0.02 &   99.76 & 0.06 &    99.92 & 0.01 &     0.51 & 0.06 \\\\\n",
      "LogicOOD-R & 99.38 & 0.01 &   98.98 & 0.16 &    99.71 & 0.02 &     1.09 & 0.03 \\\\\n",
      "MSP        & 98.48 & 0.15 &   97.91 & 0.32 &    98.62 & 0.17 &     3.66 & 0.16 \\\\\n",
      "\\bottomrule\n",
      "\\end{tabular}\n",
      "\n"
     ]
    }
   ],
   "source": [
    "import pandas as pd \n",
    "result_df = pd.DataFrame(results)\n",
    "\n",
    "s = (result_df.groupby(by=\"Method\").agg([\"mean\", \"sem\"]) * 100)[[\"AUROC\", \"AUPR-IN\", \"AUPR-OUT\", \"FPR95TPR\"]].to_latex(float_format=\"%.2f\")\n",
    "print(s)\n",
    "\n",
    "# with open(\"/home/ki/result.txt\", \"w\") as f:\n",
    "#\n",
    "#     f.write(s)"
   ]
  },
  {
   "cell_type": "code",
   "execution_count": 50,
   "outputs": [
    {
     "name": "stdout",
     "output_type": "stream",
     "text": [
      "       AUROC   AUPR-IN  AUPR-OUT  FPR95TPR      Method             Dataset  \\\n",
      "0   0.994200  0.992181  0.997226  0.010293  LogicOOD-R            LSUNCrop   \n",
      "1   0.993871  0.991319  0.997002  0.010530  LogicOOD-R          LSUNResize   \n",
      "2   0.993388  0.983443  0.997777  0.011956  LogicOOD-R            Textures   \n",
      "3   0.993767  0.991318  0.996908  0.010768  LogicOOD-R    TinyImageNetCrop   \n",
      "4   0.993642  0.990963  0.996829  0.010847  LogicOOD-R  TinyImageNetResize   \n",
      "5   0.998578  0.997946  0.999098  0.005226    LogicOOD            LSUNCrop   \n",
      "6   0.999004  0.998539  0.999428  0.002930    LogicOOD          LSUNResize   \n",
      "7   0.998050  0.995368  0.999182  0.006809    LogicOOD            Textures   \n",
      "8   0.998516  0.997824  0.999072  0.005780    LogicOOD    TinyImageNetCrop   \n",
      "9   0.998760  0.998222  0.999242  0.004513    LogicOOD  TinyImageNetResize   \n",
      "10  0.951804  0.968961  0.965505  1.000000       Logic            LSUNCrop   \n",
      "11  0.923454  0.952681  0.946462  1.000000       Logic          LSUNResize   \n",
      "12  0.912052  0.929319  0.963649  1.000000       Logic            Textures   \n",
      "13  0.930604  0.956793  0.951117  1.000000       Logic    TinyImageNetCrop   \n",
      "14  0.919003  0.950121  0.943613  1.000000       Logic  TinyImageNetResize   \n",
      "15  0.997799  0.996711  0.998516  0.009818    Ensemble            LSUNCrop   \n",
      "16  0.997907  0.996871  0.998608  0.009818    Ensemble          LSUNResize   \n",
      "17  0.996959  0.992460  0.998714  0.013143    Ensemble            Textures   \n",
      "18  0.997421  0.996158  0.998277  0.012352    Ensemble    TinyImageNetCrop   \n",
      "19  0.997387  0.996073  0.998266  0.011797    Ensemble  TinyImageNetResize   \n",
      "20  0.987966  0.982287  0.990412  0.032067         MSP            LSUNCrop   \n",
      "21  0.987339  0.984099  0.988385  0.034442         MSP          LSUNResize   \n",
      "22  0.980347  0.966512  0.985187  0.037846         MSP            Textures   \n",
      "23  0.985956  0.982657  0.986610  0.037371         MSP    TinyImageNetCrop   \n",
      "24  0.982317  0.980137  0.980198  0.041172         MSP  TinyImageNetResize   \n",
      "25  0.986079  0.984004  0.986338  0.029770      Energy            LSUNCrop   \n",
      "26  0.984271  0.985181  0.981177  0.030404      Energy          LSUNResize   \n",
      "27  0.970093  0.962458  0.974739  0.076722      Energy            Textures   \n",
      "28  0.980296  0.981164  0.977450  0.051386      Energy    TinyImageNetCrop   \n",
      "29  0.976305  0.978927  0.970209  0.069359      Energy  TinyImageNetResize   \n",
      "\n",
      "    Seed  \n",
      "0      0  \n",
      "1      0  \n",
      "2      0  \n",
      "3      0  \n",
      "4      0  \n",
      "5      0  \n",
      "6      0  \n",
      "7      0  \n",
      "8      0  \n",
      "9      0  \n",
      "10     0  \n",
      "11     0  \n",
      "12     0  \n",
      "13     0  \n",
      "14     0  \n",
      "15     0  \n",
      "16     0  \n",
      "17     0  \n",
      "18     0  \n",
      "19     0  \n",
      "20     0  \n",
      "21     0  \n",
      "22     0  \n",
      "23     0  \n",
      "24     0  \n",
      "25     0  \n",
      "26     0  \n",
      "27     0  \n",
      "28     0  \n",
      "29     0  \n"
     ]
    }
   ],
   "source": [
    "print(result_df)"
   ],
   "metadata": {
    "collapsed": false,
    "ExecuteTime": {
     "end_time": "2023-07-25T13:07:41.540371308Z",
     "start_time": "2023-07-25T13:07:41.539991583Z"
    }
   }
  },
  {
   "cell_type": "markdown",
   "source": [],
   "metadata": {
    "collapsed": false
   }
  },
  {
   "cell_type": "code",
   "execution_count": 51,
   "id": "219460b0",
   "metadata": {
    "ExecuteTime": {
     "end_time": "2023-07-25T13:07:41.540540682Z",
     "start_time": "2023-07-25T13:07:41.540121194Z"
    }
   },
   "outputs": [
    {
     "name": "stdout",
     "output_type": "stream",
     "text": [
      "TtestResult(statistic=nan, pvalue=nan, df=nan)\n"
     ]
    }
   ],
   "source": [
    "from scipy.stats import ttest_ind\n",
    "\n",
    "sem_auroc = result_df[result_df[\"Method\"] == \"Semantic\"].groupby(by=[\"Method\", \"Seed\"]).mean()[\"AUROC\"]\n",
    "sem_ensemble =  result_df[result_df[\"Method\"] == \"Ensemble\"].groupby(by=[\"Method\", \"Seed\"]).mean()[\"AUROC\"]\n",
    "\n",
    "print(ttest_ind(sem_auroc, sem_ensemble, equal_var=False))"
   ]
  },
  {
   "cell_type": "code",
   "execution_count": 52,
   "id": "b7b03a3e",
   "metadata": {
    "ExecuteTime": {
     "end_time": "2023-07-25T13:07:41.540717788Z",
     "start_time": "2023-07-25T13:07:41.540289615Z"
    }
   },
   "outputs": [
    {
     "name": "stdout",
     "output_type": "stream",
     "text": [
      "\\begin{tabular}{lrrrrr}\n",
      "\\toprule\n",
      "{} &  Label &  Color &  Shape &  Sign &  Seed \\\\\n",
      "\\midrule\n",
      "mean &  99.26 &  99.98 &  99.97 &  0.30 &  0.00 \\\\\n",
      "sem  &    NaN &    NaN &    NaN &   NaN &   NaN \\\\\n",
      "\\bottomrule\n",
      "\\end{tabular}\n",
      "\n"
     ]
    }
   ],
   "source": [
    "print((pd.DataFrame(results_acc) * 100).agg([\"mean\", \"sem\"]).to_latex(float_format=\"%.2f\"))"
   ]
  },
  {
   "cell_type": "code",
   "execution_count": 53,
   "outputs": [
    {
     "data": {
      "text/plain": "WideResNet(\n  (conv1): Conv2d(3, 16, kernel_size=(3, 3), stride=(1, 1), padding=(1, 1), bias=False)\n  (block1): NetworkBlock(\n    (layer): Sequential(\n      (0): BasicBlock(\n        (bn1): BatchNorm2d(16, eps=1e-05, momentum=0.1, affine=True, track_running_stats=True)\n        (relu1): ReLU(inplace=True)\n        (conv1): Conv2d(16, 32, kernel_size=(3, 3), stride=(1, 1), padding=(1, 1), bias=False)\n        (bn2): BatchNorm2d(32, eps=1e-05, momentum=0.1, affine=True, track_running_stats=True)\n        (relu2): ReLU(inplace=True)\n        (conv2): Conv2d(32, 32, kernel_size=(3, 3), stride=(1, 1), padding=(1, 1), bias=False)\n        (convShortcut): Conv2d(16, 32, kernel_size=(1, 1), stride=(1, 1), bias=False)\n      )\n      (1): BasicBlock(\n        (bn1): BatchNorm2d(32, eps=1e-05, momentum=0.1, affine=True, track_running_stats=True)\n        (relu1): ReLU(inplace=True)\n        (conv1): Conv2d(32, 32, kernel_size=(3, 3), stride=(1, 1), padding=(1, 1), bias=False)\n        (bn2): BatchNorm2d(32, eps=1e-05, momentum=0.1, affine=True, track_running_stats=True)\n        (relu2): ReLU(inplace=True)\n        (conv2): Conv2d(32, 32, kernel_size=(3, 3), stride=(1, 1), padding=(1, 1), bias=False)\n      )\n      (2): BasicBlock(\n        (bn1): BatchNorm2d(32, eps=1e-05, momentum=0.1, affine=True, track_running_stats=True)\n        (relu1): ReLU(inplace=True)\n        (conv1): Conv2d(32, 32, kernel_size=(3, 3), stride=(1, 1), padding=(1, 1), bias=False)\n        (bn2): BatchNorm2d(32, eps=1e-05, momentum=0.1, affine=True, track_running_stats=True)\n        (relu2): ReLU(inplace=True)\n        (conv2): Conv2d(32, 32, kernel_size=(3, 3), stride=(1, 1), padding=(1, 1), bias=False)\n      )\n      (3): BasicBlock(\n        (bn1): BatchNorm2d(32, eps=1e-05, momentum=0.1, affine=True, track_running_stats=True)\n        (relu1): ReLU(inplace=True)\n        (conv1): Conv2d(32, 32, kernel_size=(3, 3), stride=(1, 1), padding=(1, 1), bias=False)\n        (bn2): BatchNorm2d(32, eps=1e-05, momentum=0.1, affine=True, track_running_stats=True)\n        (relu2): ReLU(inplace=True)\n        (conv2): Conv2d(32, 32, kernel_size=(3, 3), stride=(1, 1), padding=(1, 1), bias=False)\n      )\n      (4): BasicBlock(\n        (bn1): BatchNorm2d(32, eps=1e-05, momentum=0.1, affine=True, track_running_stats=True)\n        (relu1): ReLU(inplace=True)\n        (conv1): Conv2d(32, 32, kernel_size=(3, 3), stride=(1, 1), padding=(1, 1), bias=False)\n        (bn2): BatchNorm2d(32, eps=1e-05, momentum=0.1, affine=True, track_running_stats=True)\n        (relu2): ReLU(inplace=True)\n        (conv2): Conv2d(32, 32, kernel_size=(3, 3), stride=(1, 1), padding=(1, 1), bias=False)\n      )\n      (5): BasicBlock(\n        (bn1): BatchNorm2d(32, eps=1e-05, momentum=0.1, affine=True, track_running_stats=True)\n        (relu1): ReLU(inplace=True)\n        (conv1): Conv2d(32, 32, kernel_size=(3, 3), stride=(1, 1), padding=(1, 1), bias=False)\n        (bn2): BatchNorm2d(32, eps=1e-05, momentum=0.1, affine=True, track_running_stats=True)\n        (relu2): ReLU(inplace=True)\n        (conv2): Conv2d(32, 32, kernel_size=(3, 3), stride=(1, 1), padding=(1, 1), bias=False)\n      )\n    )\n  )\n  (block2): NetworkBlock(\n    (layer): Sequential(\n      (0): BasicBlock(\n        (bn1): BatchNorm2d(32, eps=1e-05, momentum=0.1, affine=True, track_running_stats=True)\n        (relu1): ReLU(inplace=True)\n        (conv1): Conv2d(32, 64, kernel_size=(3, 3), stride=(2, 2), padding=(1, 1), bias=False)\n        (bn2): BatchNorm2d(64, eps=1e-05, momentum=0.1, affine=True, track_running_stats=True)\n        (relu2): ReLU(inplace=True)\n        (conv2): Conv2d(64, 64, kernel_size=(3, 3), stride=(1, 1), padding=(1, 1), bias=False)\n        (convShortcut): Conv2d(32, 64, kernel_size=(1, 1), stride=(2, 2), bias=False)\n      )\n      (1): BasicBlock(\n        (bn1): BatchNorm2d(64, eps=1e-05, momentum=0.1, affine=True, track_running_stats=True)\n        (relu1): ReLU(inplace=True)\n        (conv1): Conv2d(64, 64, kernel_size=(3, 3), stride=(1, 1), padding=(1, 1), bias=False)\n        (bn2): BatchNorm2d(64, eps=1e-05, momentum=0.1, affine=True, track_running_stats=True)\n        (relu2): ReLU(inplace=True)\n        (conv2): Conv2d(64, 64, kernel_size=(3, 3), stride=(1, 1), padding=(1, 1), bias=False)\n      )\n      (2): BasicBlock(\n        (bn1): BatchNorm2d(64, eps=1e-05, momentum=0.1, affine=True, track_running_stats=True)\n        (relu1): ReLU(inplace=True)\n        (conv1): Conv2d(64, 64, kernel_size=(3, 3), stride=(1, 1), padding=(1, 1), bias=False)\n        (bn2): BatchNorm2d(64, eps=1e-05, momentum=0.1, affine=True, track_running_stats=True)\n        (relu2): ReLU(inplace=True)\n        (conv2): Conv2d(64, 64, kernel_size=(3, 3), stride=(1, 1), padding=(1, 1), bias=False)\n      )\n      (3): BasicBlock(\n        (bn1): BatchNorm2d(64, eps=1e-05, momentum=0.1, affine=True, track_running_stats=True)\n        (relu1): ReLU(inplace=True)\n        (conv1): Conv2d(64, 64, kernel_size=(3, 3), stride=(1, 1), padding=(1, 1), bias=False)\n        (bn2): BatchNorm2d(64, eps=1e-05, momentum=0.1, affine=True, track_running_stats=True)\n        (relu2): ReLU(inplace=True)\n        (conv2): Conv2d(64, 64, kernel_size=(3, 3), stride=(1, 1), padding=(1, 1), bias=False)\n      )\n      (4): BasicBlock(\n        (bn1): BatchNorm2d(64, eps=1e-05, momentum=0.1, affine=True, track_running_stats=True)\n        (relu1): ReLU(inplace=True)\n        (conv1): Conv2d(64, 64, kernel_size=(3, 3), stride=(1, 1), padding=(1, 1), bias=False)\n        (bn2): BatchNorm2d(64, eps=1e-05, momentum=0.1, affine=True, track_running_stats=True)\n        (relu2): ReLU(inplace=True)\n        (conv2): Conv2d(64, 64, kernel_size=(3, 3), stride=(1, 1), padding=(1, 1), bias=False)\n      )\n      (5): BasicBlock(\n        (bn1): BatchNorm2d(64, eps=1e-05, momentum=0.1, affine=True, track_running_stats=True)\n        (relu1): ReLU(inplace=True)\n        (conv1): Conv2d(64, 64, kernel_size=(3, 3), stride=(1, 1), padding=(1, 1), bias=False)\n        (bn2): BatchNorm2d(64, eps=1e-05, momentum=0.1, affine=True, track_running_stats=True)\n        (relu2): ReLU(inplace=True)\n        (conv2): Conv2d(64, 64, kernel_size=(3, 3), stride=(1, 1), padding=(1, 1), bias=False)\n      )\n    )\n  )\n  (block3): NetworkBlock(\n    (layer): Sequential(\n      (0): BasicBlock(\n        (bn1): BatchNorm2d(64, eps=1e-05, momentum=0.1, affine=True, track_running_stats=True)\n        (relu1): ReLU(inplace=True)\n        (conv1): Conv2d(64, 128, kernel_size=(3, 3), stride=(2, 2), padding=(1, 1), bias=False)\n        (bn2): BatchNorm2d(128, eps=1e-05, momentum=0.1, affine=True, track_running_stats=True)\n        (relu2): ReLU(inplace=True)\n        (conv2): Conv2d(128, 128, kernel_size=(3, 3), stride=(1, 1), padding=(1, 1), bias=False)\n        (convShortcut): Conv2d(64, 128, kernel_size=(1, 1), stride=(2, 2), bias=False)\n      )\n      (1): BasicBlock(\n        (bn1): BatchNorm2d(128, eps=1e-05, momentum=0.1, affine=True, track_running_stats=True)\n        (relu1): ReLU(inplace=True)\n        (conv1): Conv2d(128, 128, kernel_size=(3, 3), stride=(1, 1), padding=(1, 1), bias=False)\n        (bn2): BatchNorm2d(128, eps=1e-05, momentum=0.1, affine=True, track_running_stats=True)\n        (relu2): ReLU(inplace=True)\n        (conv2): Conv2d(128, 128, kernel_size=(3, 3), stride=(1, 1), padding=(1, 1), bias=False)\n      )\n      (2): BasicBlock(\n        (bn1): BatchNorm2d(128, eps=1e-05, momentum=0.1, affine=True, track_running_stats=True)\n        (relu1): ReLU(inplace=True)\n        (conv1): Conv2d(128, 128, kernel_size=(3, 3), stride=(1, 1), padding=(1, 1), bias=False)\n        (bn2): BatchNorm2d(128, eps=1e-05, momentum=0.1, affine=True, track_running_stats=True)\n        (relu2): ReLU(inplace=True)\n        (conv2): Conv2d(128, 128, kernel_size=(3, 3), stride=(1, 1), padding=(1, 1), bias=False)\n      )\n      (3): BasicBlock(\n        (bn1): BatchNorm2d(128, eps=1e-05, momentum=0.1, affine=True, track_running_stats=True)\n        (relu1): ReLU(inplace=True)\n        (conv1): Conv2d(128, 128, kernel_size=(3, 3), stride=(1, 1), padding=(1, 1), bias=False)\n        (bn2): BatchNorm2d(128, eps=1e-05, momentum=0.1, affine=True, track_running_stats=True)\n        (relu2): ReLU(inplace=True)\n        (conv2): Conv2d(128, 128, kernel_size=(3, 3), stride=(1, 1), padding=(1, 1), bias=False)\n      )\n      (4): BasicBlock(\n        (bn1): BatchNorm2d(128, eps=1e-05, momentum=0.1, affine=True, track_running_stats=True)\n        (relu1): ReLU(inplace=True)\n        (conv1): Conv2d(128, 128, kernel_size=(3, 3), stride=(1, 1), padding=(1, 1), bias=False)\n        (bn2): BatchNorm2d(128, eps=1e-05, momentum=0.1, affine=True, track_running_stats=True)\n        (relu2): ReLU(inplace=True)\n        (conv2): Conv2d(128, 128, kernel_size=(3, 3), stride=(1, 1), padding=(1, 1), bias=False)\n      )\n      (5): BasicBlock(\n        (bn1): BatchNorm2d(128, eps=1e-05, momentum=0.1, affine=True, track_running_stats=True)\n        (relu1): ReLU(inplace=True)\n        (conv1): Conv2d(128, 128, kernel_size=(3, 3), stride=(1, 1), padding=(1, 1), bias=False)\n        (bn2): BatchNorm2d(128, eps=1e-05, momentum=0.1, affine=True, track_running_stats=True)\n        (relu2): ReLU(inplace=True)\n        (conv2): Conv2d(128, 128, kernel_size=(3, 3), stride=(1, 1), padding=(1, 1), bias=False)\n      )\n    )\n  )\n  (bn1): BatchNorm2d(128, eps=1e-05, momentum=0.1, affine=True, track_running_stats=True)\n  (relu): ReLU(inplace=True)\n  (fc): Linear(in_features=128, out_features=4, bias=True)\n)"
     },
     "execution_count": 53,
     "metadata": {},
     "output_type": "execute_result"
    }
   ],
   "source": [
    "rotation_net"
   ],
   "metadata": {
    "collapsed": false,
    "ExecuteTime": {
     "end_time": "2023-07-25T13:07:41.541168732Z",
     "start_time": "2023-07-25T13:07:41.540477043Z"
    }
   }
  },
  {
   "cell_type": "code",
   "execution_count": 54,
   "outputs": [],
   "source": [
    "textures = Textures(root, transform=trans)"
   ],
   "metadata": {
    "collapsed": false,
    "ExecuteTime": {
     "end_time": "2023-07-25T13:07:42.365951812Z",
     "start_time": "2023-07-25T13:07:41.540654172Z"
    }
   }
  },
  {
   "cell_type": "code",
   "execution_count": 71,
   "outputs": [],
   "source": [
    "batch = torch.stack([textures[k][0]  for k in [random.randint(0, 1000) for i in range(32)]])"
   ],
   "metadata": {
    "collapsed": false,
    "ExecuteTime": {
     "end_time": "2023-07-25T14:10:45.407523300Z",
     "start_time": "2023-07-25T14:10:45.180724871Z"
    }
   }
  },
  {
   "cell_type": "code",
   "execution_count": 72,
   "outputs": [],
   "source": [
    "output = rotation_net(batch.cuda()).cpu()"
   ],
   "metadata": {
    "collapsed": false,
    "ExecuteTime": {
     "end_time": "2023-07-25T14:10:45.424687581Z",
     "start_time": "2023-07-25T14:10:45.407984325Z"
    }
   }
  },
  {
   "cell_type": "code",
   "execution_count": 73,
   "outputs": [
    {
     "data": {
      "text/plain": "<Figure size 720x720 with 16 Axes>",
      "image/png": "[encoded data removed]"
     },
     "metadata": {},
     "output_type": "display_data"
    }
   ],
   "source": [
    "import matplotlib.pyplot as plt\n",
    "from torchvision.transforms.functional import to_pil_image\n",
    "fix, axs = plt.subplots(4,4, figsize=(10, 10))\n",
    "\n",
    "y_hat, conf = output.softmax(dim=1).max(dim=1)\n",
    "\n",
    "for ax, img, c, y in zip(axs.flatten(), batch, y_hat, conf):\n",
    "\n",
    "    ax.imshow(to_pil_image(img))\n",
    "    ax.set_title(f\"{[0, 90, 180, 270][y.item()]}°  ({c:.2%})\")\n",
    "    ax.grid(False)\n",
    "    # Hide axes ticks\n",
    "    ax.set_xticks([])\n",
    "    ax.set_yticks([])\n",
    "\n",
    "plt.tight_layout(pad=1)\n",
    "plt.savefig(\"/home/ki/image.pdf\", transparent=True)\n"
   ],
   "metadata": {
    "collapsed": false,
    "ExecuteTime": {
     "end_time": "2023-07-25T14:10:46.394850327Z",
     "start_time": "2023-07-25T14:10:45.522757116Z"
    }
   }
  },
  {
   "cell_type": "code",
   "execution_count": 57,
   "outputs": [],
   "source": [],
   "metadata": {
    "collapsed": false,
    "ExecuteTime": {
     "end_time": "2023-07-25T13:07:43.116280151Z",
     "start_time": "2023-07-25T13:07:43.113104570Z"
    }
   }
  }
 ],
 "metadata": {
  "kernelspec": {
   "display_name": "myenv",
   "language": "python",
   "name": "myenv"
  },
  "language_info": {
   "codemirror_mode": {
    "name": "ipython",
    "version": 3
   },
   "file_extension": ".py",
   "mimetype": "text/x-python",
   "name": "python",
   "nbconvert_exporter": "python",
   "pygments_lexer": "ipython3",
   "version": "3.10.9"
  }
 },
 "nbformat": 4,
 "nbformat_minor": 5
}
