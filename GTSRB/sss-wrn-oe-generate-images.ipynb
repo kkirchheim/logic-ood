{
 "cells": [
  {
   "cell_type": "markdown",
   "id": "af862375",
   "metadata": {},
   "source": [
    "# Street sign with Pre-Trained WideResNet\n",
    "\n",
    "With additional shield net, generate example images "
   ]
  },
  {
   "cell_type": "code",
   "execution_count": 1,
   "id": "3e8ccc0a",
   "metadata": {},
   "outputs": [
    {
     "data": {
      "text/plain": [
       "<torch._C.Generator at 0x7f683d8064d0>"
      ]
     },
     "execution_count": 1,
     "metadata": {},
     "output_type": "execute_result"
    }
   ],
   "source": [
    "from torch.utils.data import Dataset, DataLoader\n",
    "from os.path import join\n",
    "import pandas as pd \n",
    "from PIL import Image\n",
    "from torch.optim import SGD\n",
    "import seaborn as sb \n",
    "from gtsrb import GTSRB\n",
    "from detectors import EnsembleDetector, SemanticDetector\n",
    "import os \n",
    "from pytorch_ood.utils import fix_random_seed\n",
    "import seaborn as sb \n",
    "import torch \n",
    "\n",
    "os.environ[\"CUDA_VISIBLE_DEVICES\"] = \"MIG-GPU-ff380879-d5b2-8469-da3d-71267d28a645/0/0\" \n",
    "\n",
    "sb.set()\n",
    "\n",
    "device=\"cuda:0\"\n",
    "root = \"data/\"\n",
    "\n",
    "\n",
    "fix_random_seed()\n",
    "\n",
    "def seed_worker(worker_id):\n",
    "    worker_seed = torch.initial_seed() % 2**32\n",
    "    fix_random_seed()\n",
    "\n",
    "g = torch.Generator()\n",
    "g.manual_seed(0)\n"
   ]
  },
  {
   "cell_type": "code",
   "execution_count": 2,
   "id": "dd741f1e",
   "metadata": {},
   "outputs": [],
   "source": [
    "import torchvision\n",
    "from torchvision.transforms import ToTensor, Resize, Compose\n",
    "import torch \n",
    "from torch.utils.data import DataLoader\n",
    "\n",
    "trans = Compose([ToTensor(), Resize((32, 32))])\n",
    "\n",
    "train_data = GTSRB(root=root, train=True, transforms=trans)\n",
    "test_data = GTSRB(root=root, train=False, transforms=trans)"
   ]
  },
  {
   "cell_type": "code",
   "execution_count": 3,
   "id": "5c7226cd",
   "metadata": {},
   "outputs": [],
   "source": [
    "train_loader = DataLoader(train_data, batch_size=32, shuffle=True, num_workers=2, worker_init_fn=seed_worker)\n",
    "test_loader = DataLoader(test_data, batch_size=32, shuffle=False, num_workers=2, worker_init_fn=seed_worker)"
   ]
  },
  {
   "cell_type": "code",
   "execution_count": 4,
   "id": "c31d837b",
   "metadata": {},
   "outputs": [],
   "source": [
    "from torch import nn\n",
    "from torchvision.models.resnet import resnet18\n",
    "from pytorch_ood.model import WideResNet\n",
    "from functools import partial\n",
    "\n",
    "# def override \n",
    "def Model(num_classes=None, *args, **kwargs):\n",
    "    model = WideResNet(*args, num_classes=1000, **kwargs, pretrained=\"imagenet32\")\n",
    "    model.fc = nn.Linear(model.fc.in_features, num_classes)\n",
    "    return model\n"
   ]
  },
  {
   "cell_type": "code",
   "execution_count": 5,
   "id": "fae44395",
   "metadata": {},
   "outputs": [],
   "source": [
    "from tqdm.notebook import tqdm \n",
    "import numpy as np \n",
    "\n",
    "def train_model(att_index, num_classes, n_epochs=20):\n",
    "    \"\"\"\n",
    "    train a model for the given attribute index \n",
    "    \"\"\"\n",
    "    trans = Compose([ToTensor(), Resize((32, 32))])\n",
    "    train_data = GTSRB(root=root, train=True, transforms=trans)\n",
    "    test_data = GTSRB(root=root, train=False, transforms=trans)\n",
    "    \n",
    "    train_loader = DataLoader(train_data, batch_size=32, shuffle=True, num_workers=2, worker_init_fn=seed_worker)\n",
    "    test_loader = DataLoader(test_data, batch_size=32, shuffle=False, num_workers=2, worker_init_fn=seed_worker)\n",
    "    \n",
    "    model = Model(num_classes=num_classes).to(device)\n",
    "\n",
    "    criterion = nn.CrossEntropyLoss()\n",
    "    optimizer = SGD(model.parameters(), lr=0.001, momentum=0.9, nesterov=True)\n",
    "\n",
    "    accs = []\n",
    "\n",
    "    for epoch in range(n_epochs):\n",
    "        running_loss = 0.0\n",
    "        model.train()\n",
    "        bar = tqdm(train_loader)\n",
    "        for inputs, y in bar:\n",
    "            labels = y[:, att_index]\n",
    "            inputs, labels = inputs.to(device), labels.to(device)\n",
    "\n",
    "            optimizer.zero_grad()\n",
    "            outputs = model(inputs)\n",
    "            loss = criterion(outputs, labels)\n",
    "            loss.backward()\n",
    "            optimizer.step()\n",
    "\n",
    "            running_loss = 0.8 * running_loss + 0.2 * loss.item()\n",
    "            bar.set_postfix({\"loss\": running_loss})\n",
    "\n",
    "        correct = 0\n",
    "        total = 0\n",
    "\n",
    "        with torch.no_grad():\n",
    "            model.eval()\n",
    "\n",
    "            for inputs, y in test_loader:\n",
    "                labels = y[:, att_index]\n",
    "                inputs, labels = inputs.to(device), labels.to(device)\n",
    "\n",
    "                outputs = model(inputs)\n",
    "                _, predicted = torch.max(outputs.data, dim=1)\n",
    "                total += labels.size(0)\n",
    "                correct += (predicted == labels).sum().item()\n",
    "\n",
    "        print(f'Accuracy of the network on the test images: {correct / total:.2%}')\n",
    "\n",
    "    return model "
   ]
  },
  {
   "cell_type": "markdown",
   "id": "e8074726",
   "metadata": {},
   "source": [
    "# Sign Network "
   ]
  },
  {
   "cell_type": "code",
   "execution_count": 6,
   "id": "7dc36a65",
   "metadata": {},
   "outputs": [],
   "source": [
    "from torch.utils.data import DataLoader\n",
    "from pytorch_ood.utils import is_known\n",
    "from tqdm.notebook import tqdm \n",
    "from pytorch_ood.dataset.img import TinyImages300k\n",
    "from pytorch_ood.utils import ToUnknown\n",
    "from torch.utils.data import random_split\n",
    "\n",
    "def train_sign_model(n_epochs=20):\n",
    "    tiny = TinyImages300k(root=root, download=True, transform=trans, target_transform=ToUnknown())\n",
    "    data_train_out, data_test_out, _ = random_split(tiny, [50000, 10000, 240000], generator=torch.Generator().manual_seed(123))\n",
    "\n",
    "    train_data_noatt = GTSRB(root=root, train=True, transforms=trans, target_transform=lambda y: y[0])\n",
    "    test_data_noatt = GTSRB(root=root, train=False, transforms=trans, target_transform=lambda y: y[0])\n",
    "\n",
    "    new_loader = DataLoader(train_data_noatt + data_train_out, batch_size=32, shuffle=True, num_workers=10, worker_init_fn=seed_worker)\n",
    "    new_test_loader = DataLoader(test_data_noatt + data_test_out, batch_size=32, shuffle=False, num_workers=10, worker_init_fn=seed_worker)\n",
    "\n",
    "    model = Model(num_classes=2).to(device)\n",
    "\n",
    "    criterion = nn.CrossEntropyLoss()\n",
    "    optimizer = SGD(model.parameters(), lr=0.001, momentum=0.9, nesterov=True)\n",
    "\n",
    "    accs = []\n",
    "\n",
    "    for epoch in range(n_epochs):\n",
    "        running_loss = 0.0\n",
    "        model.train()\n",
    "        \n",
    "        bar = tqdm(new_loader)\n",
    "        for inputs, y in bar:\n",
    "            labels = is_known(y).long()\n",
    "            inputs, labels = inputs.to(device), labels.to(device)\n",
    "\n",
    "            optimizer.zero_grad()\n",
    "            outputs = model(inputs)\n",
    "            loss = criterion(outputs, labels)\n",
    "            loss.backward()\n",
    "            optimizer.step()\n",
    "\n",
    "            running_loss = 0.8 * running_loss + 0.2 * loss.item()\n",
    "            bar.set_postfix({\"loss\": running_loss})\n",
    "\n",
    "        correct = 0\n",
    "        total = 0\n",
    "\n",
    "        with torch.no_grad():\n",
    "            model.eval()\n",
    "\n",
    "            for inputs, y in new_test_loader:\n",
    "                labels = is_known(y).long()\n",
    "                inputs, labels = inputs.to(device), labels.to(device)\n",
    "\n",
    "                outputs = model(inputs)\n",
    "                _, predicted = torch.max(outputs.data, 1)\n",
    "                total += labels.size(0)\n",
    "                correct += (predicted == labels).sum().item()\n",
    "\n",
    "        print(f'Accuracy of the shape network on the test images: {correct / total:.2%}')\n",
    "        accs.append(correct / total)\n",
    "\n",
    "    return model "
   ]
  },
  {
   "cell_type": "markdown",
   "id": "789a026c",
   "metadata": {
    "tags": []
   },
   "source": [
    "# OOD Evaluation "
   ]
  },
  {
   "cell_type": "code",
   "execution_count": 7,
   "id": "74bae9aa",
   "metadata": {},
   "outputs": [],
   "source": [
    "from pytorch_ood.dataset.img import (LSUNCrop, LSUNResize, Textures, TinyImageNetCrop, TinyImageNetResize)\n",
    "from pytorch_ood.detector import EnergyBased, MaxSoftmax, Mahalanobis, MaxLogit, ViM, Entropy\n",
    "from pytorch_ood.utils import ToRGB, OODMetrics\n",
    "\n",
    "def evaluate(label_net, shape_net, color_net, shield_net):\n",
    "    _ = label_net.eval()\n",
    "    _ = shape_net.eval()\n",
    "    _ = color_net.eval()\n",
    "    _ = shield_net.eval()\n",
    "    \n",
    "    results = []\n",
    "\n",
    "    trans = Compose([Resize(size=(32, 32)), ToRGB(), ToTensor()])\n",
    "    data_in = GTSRB(root=root, train=False, transforms=trans, target_transform=lambda y: y[0])\n",
    "    data_in_train = GTSRB(root=root, train=True, transforms=trans, target_transform=lambda y: y[0])\n",
    "    loader_train = DataLoader(data_in_train, batch_size=1024, shuffle=False, worker_init_fn=seed_worker)\n",
    "    # dataset_out_test = Textures(root=root, transform=trans, target_transform=ToUnknown(), download=True)\n",
    "    \n",
    "    \n",
    "    detectors = {\n",
    "        \"MSP\": MaxSoftmax(label_net),\n",
    "        \"Energy\": EnergyBased(label_net),\n",
    "        \"Mahalanobis\": Mahalanobis(label_net.features),\n",
    "        \"MaxLogit\": MaxLogit(label_net),\n",
    "        \"Entropy\": Entropy(label_net),\n",
    "        \"ViM\": ViM(label_net.features, w=label_net.fc.weight, b=label_net.fc.bias, d=64),\n",
    "        \"Semantic-OE\": SemanticDetector(\n",
    "            label_net, \n",
    "            shape_net, \n",
    "            color_net, \n",
    "            GTSRB(root=root).class_to_shape, \n",
    "            GTSRB(root=root).class_to_color, \n",
    "            sign_net=shield_net\n",
    "        ),\n",
    "        \"Semantic\": SemanticDetector(\n",
    "                label_net, \n",
    "                shape_net, \n",
    "                color_net, \n",
    "                GTSRB(root=root).class_to_shape, \n",
    "                GTSRB(root=root).class_to_color, \n",
    "        ),\n",
    "        \"Ensemble\": EnsembleDetector(label_net, shape_net, color_net)\n",
    "    }\n",
    "    \n",
    "    for detector_name, detector in detectors.items():\n",
    "        print(f\"Fitting {detector_name}\")\n",
    "        try:\n",
    "            detector.fit(loader_train, device=device)\n",
    "        except TypeError:\n",
    "            detector.fit(loader_train)\n",
    "        \n",
    "    datasets = {d.__name__: d for d in (LSUNCrop, LSUNResize, Textures, TinyImageNetCrop, TinyImageNetResize)}\n",
    "    \n",
    "    for detector_name, detector in detectors.items():\n",
    "        for data_name, dataset_c in datasets.items():\n",
    "            data_out = dataset_c(root=root, transform=trans, target_transform=ToUnknown(), download=True)\n",
    "            loader = DataLoader(data_in+data_out, batch_size=1024, shuffle=False, worker_init_fn=seed_worker)\n",
    "            \n",
    "            scores = []\n",
    "            ys = []\n",
    "            \n",
    "            with torch.no_grad():\n",
    "                for x, y in loader:\n",
    "                    scores.append(detector(x.to(device)))\n",
    "                    ys.append(y.to(device))\n",
    "                    \n",
    "                scores = torch.cat(scores, dim=0).cpu()\n",
    "                ys = torch.cat(ys, dim=0).cpu()\n",
    "            \n",
    "            metrics = OODMetrics()\n",
    "            metrics.update(scores, ys)\n",
    "            r = metrics.compute()\n",
    "            r.update({\n",
    "                \"Method\": detector_name,\n",
    "                \"Dataset\": data_name\n",
    "            })\n",
    "            print(r)\n",
    "            results.append(r)\n",
    "    \n",
    "    return results "
   ]
  },
  {
   "cell_type": "code",
   "execution_count": 8,
   "id": "9f2ad2ab",
   "metadata": {},
   "outputs": [],
   "source": [
    "def evaluate_acc(net, att_idx=0, oe=False):\n",
    "    _ = net.eval()\n",
    "    \n",
    "    if oe:\n",
    "        target_trans = lambda y: torch.tensor(1)\n",
    "    else:\n",
    "         target_trans = lambda y: y[att_idx]\n",
    "\n",
    "    trans = Compose([Resize(size=(32, 32)), ToRGB(), ToTensor()])\n",
    "    data_in = GTSRB(root=root, train=False, transforms=trans, target_transform=target_trans)\n",
    "    loader = DataLoader(data_in, batch_size=1024, shuffle=False, worker_init_fn=seed_worker)\n",
    "            \n",
    "    correct = 0\n",
    "    total = 0\n",
    "\n",
    "    with torch.no_grad():\n",
    "        for inputs, labels in loader:\n",
    "            inputs, labels = inputs.to(device), labels.to(device)\n",
    "            outputs = net(inputs)\n",
    "            predicted = outputs.max(dim=1).indices\n",
    "            total += labels.size(0)\n",
    "            correct += (predicted == labels).sum().item()\n",
    "    \n",
    "    return correct / total  \n",
    "\n",
    "def evaluate_accs(label_net, shape_net, color_net, shield_net):\n",
    "    r = {}\n",
    "    names = (\"Label\", \"Color\", \"Shape\",)\n",
    "    \n",
    "    for n, net in enumerate((label_net, color_net, shape_net)): \n",
    "        acc = evaluate_acc(net, n)\n",
    "        r[names[n]] = acc\n",
    "    \n",
    "    acc = evaluate_acc(shield_net, oe=True)\n",
    "    r[\"Sign\"] = acc\n",
    "    \n",
    "    return [r] "
   ]
  },
  {
   "cell_type": "code",
   "execution_count": 9,
   "id": "3e1dfb17",
   "metadata": {
    "scrolled": true,
    "tags": []
   },
   "outputs": [
    {
     "data": {
      "application/vnd.jupyter.widget-view+json": {
       "model_id": "99aa989d7edc4fd4af9896b35e1e2de4",
       "version_major": 2,
       "version_minor": 0
      },
      "text/plain": [
       "  0%|          | 0/2788 [00:00<?, ?it/s]"
      ]
     },
     "metadata": {},
     "output_type": "display_data"
    },
    {
     "name": "stdout",
     "output_type": "stream",
     "text": [
      "Accuracy of the shape network on the test images: 99.90%\n"
     ]
    },
    {
     "data": {
      "application/vnd.jupyter.widget-view+json": {
       "model_id": "cd6c297b9467496dbf7edbfd44d59f50",
       "version_major": 2,
       "version_minor": 0
      },
      "text/plain": [
       "  0%|          | 0/2788 [00:00<?, ?it/s]"
      ]
     },
     "metadata": {},
     "output_type": "display_data"
    },
    {
     "name": "stdout",
     "output_type": "stream",
     "text": [
      "Accuracy of the shape network on the test images: 99.97%\n"
     ]
    },
    {
     "data": {
      "application/vnd.jupyter.widget-view+json": {
       "model_id": "5977cc45465548f495b8bcd5816f4f32",
       "version_major": 2,
       "version_minor": 0
      },
      "text/plain": [
       "  0%|          | 0/2788 [00:00<?, ?it/s]"
      ]
     },
     "metadata": {},
     "output_type": "display_data"
    },
    {
     "name": "stdout",
     "output_type": "stream",
     "text": [
      "Accuracy of the shape network on the test images: 99.99%\n"
     ]
    },
    {
     "data": {
      "application/vnd.jupyter.widget-view+json": {
       "model_id": "5646e9de38904512b6a2f4230c9069f8",
       "version_major": 2,
       "version_minor": 0
      },
      "text/plain": [
       "  0%|          | 0/2788 [00:00<?, ?it/s]"
      ]
     },
     "metadata": {},
     "output_type": "display_data"
    },
    {
     "name": "stdout",
     "output_type": "stream",
     "text": [
      "Accuracy of the shape network on the test images: 99.95%\n"
     ]
    },
    {
     "data": {
      "application/vnd.jupyter.widget-view+json": {
       "model_id": "54317fa1145749ca8a00c25054c747de",
       "version_major": 2,
       "version_minor": 0
      },
      "text/plain": [
       "  0%|          | 0/2788 [00:00<?, ?it/s]"
      ]
     },
     "metadata": {},
     "output_type": "display_data"
    },
    {
     "name": "stdout",
     "output_type": "stream",
     "text": [
      "Accuracy of the shape network on the test images: 99.98%\n"
     ]
    },
    {
     "data": {
      "application/vnd.jupyter.widget-view+json": {
       "model_id": "374a5ea252bc415eae19ca5bfc3266aa",
       "version_major": 2,
       "version_minor": 0
      },
      "text/plain": [
       "  0%|          | 0/2788 [00:00<?, ?it/s]"
      ]
     },
     "metadata": {},
     "output_type": "display_data"
    },
    {
     "name": "stdout",
     "output_type": "stream",
     "text": [
      "Accuracy of the shape network on the test images: 100.00%\n"
     ]
    },
    {
     "data": {
      "application/vnd.jupyter.widget-view+json": {
       "model_id": "cffb5f1101c544f4896d3397fd791b84",
       "version_major": 2,
       "version_minor": 0
      },
      "text/plain": [
       "  0%|          | 0/2788 [00:00<?, ?it/s]"
      ]
     },
     "metadata": {},
     "output_type": "display_data"
    },
    {
     "name": "stdout",
     "output_type": "stream",
     "text": [
      "Accuracy of the shape network on the test images: 99.98%\n"
     ]
    },
    {
     "data": {
      "application/vnd.jupyter.widget-view+json": {
       "model_id": "060e34d3fef746198d7cef69a67c847c",
       "version_major": 2,
       "version_minor": 0
      },
      "text/plain": [
       "  0%|          | 0/2788 [00:00<?, ?it/s]"
      ]
     },
     "metadata": {},
     "output_type": "display_data"
    },
    {
     "name": "stdout",
     "output_type": "stream",
     "text": [
      "Accuracy of the shape network on the test images: 99.99%\n"
     ]
    },
    {
     "data": {
      "application/vnd.jupyter.widget-view+json": {
       "model_id": "a3726a9848bf4215b2f87bdd50a75f23",
       "version_major": 2,
       "version_minor": 0
      },
      "text/plain": [
       "  0%|          | 0/2788 [00:00<?, ?it/s]"
      ]
     },
     "metadata": {},
     "output_type": "display_data"
    },
    {
     "name": "stdout",
     "output_type": "stream",
     "text": [
      "Accuracy of the shape network on the test images: 99.98%\n"
     ]
    },
    {
     "data": {
      "application/vnd.jupyter.widget-view+json": {
       "model_id": "391f9499930a46138bd2815e704e0eb5",
       "version_major": 2,
       "version_minor": 0
      },
      "text/plain": [
       "  0%|          | 0/2788 [00:00<?, ?it/s]"
      ]
     },
     "metadata": {},
     "output_type": "display_data"
    },
    {
     "name": "stdout",
     "output_type": "stream",
     "text": [
      "Accuracy of the shape network on the test images: 99.99%\n"
     ]
    },
    {
     "data": {
      "application/vnd.jupyter.widget-view+json": {
       "model_id": "f1470d4ff1714150a9347ba6f63c4c97",
       "version_major": 2,
       "version_minor": 0
      },
      "text/plain": [
       "  0%|          | 0/2788 [00:00<?, ?it/s]"
      ]
     },
     "metadata": {},
     "output_type": "display_data"
    },
    {
     "name": "stdout",
     "output_type": "stream",
     "text": [
      "Accuracy of the shape network on the test images: 99.99%\n"
     ]
    },
    {
     "data": {
      "application/vnd.jupyter.widget-view+json": {
       "model_id": "d2869dc1dd9044a3a5522843e068d157",
       "version_major": 2,
       "version_minor": 0
      },
      "text/plain": [
       "  0%|          | 0/2788 [00:00<?, ?it/s]"
      ]
     },
     "metadata": {},
     "output_type": "display_data"
    },
    {
     "name": "stdout",
     "output_type": "stream",
     "text": [
      "Accuracy of the shape network on the test images: 99.97%\n"
     ]
    },
    {
     "data": {
      "application/vnd.jupyter.widget-view+json": {
       "model_id": "e30e3823a3bd425caad8f708fa811036",
       "version_major": 2,
       "version_minor": 0
      },
      "text/plain": [
       "  0%|          | 0/2788 [00:00<?, ?it/s]"
      ]
     },
     "metadata": {},
     "output_type": "display_data"
    },
    {
     "name": "stdout",
     "output_type": "stream",
     "text": [
      "Accuracy of the shape network on the test images: 100.00%\n"
     ]
    },
    {
     "data": {
      "application/vnd.jupyter.widget-view+json": {
       "model_id": "cd96ba3cac3842e5852a94f832ee2bfa",
       "version_major": 2,
       "version_minor": 0
      },
      "text/plain": [
       "  0%|          | 0/2788 [00:00<?, ?it/s]"
      ]
     },
     "metadata": {},
     "output_type": "display_data"
    },
    {
     "name": "stdout",
     "output_type": "stream",
     "text": [
      "Accuracy of the shape network on the test images: 100.00%\n"
     ]
    },
    {
     "data": {
      "application/vnd.jupyter.widget-view+json": {
       "model_id": "278c519a631c4cf0a6f4483cdb085cd6",
       "version_major": 2,
       "version_minor": 0
      },
      "text/plain": [
       "  0%|          | 0/2788 [00:00<?, ?it/s]"
      ]
     },
     "metadata": {},
     "output_type": "display_data"
    },
    {
     "name": "stdout",
     "output_type": "stream",
     "text": [
      "Accuracy of the shape network on the test images: 99.99%\n"
     ]
    },
    {
     "data": {
      "application/vnd.jupyter.widget-view+json": {
       "model_id": "283f4295a0a34795b2c08da6ae0f650e",
       "version_major": 2,
       "version_minor": 0
      },
      "text/plain": [
       "  0%|          | 0/2788 [00:00<?, ?it/s]"
      ]
     },
     "metadata": {},
     "output_type": "display_data"
    },
    {
     "name": "stdout",
     "output_type": "stream",
     "text": [
      "Accuracy of the shape network on the test images: 100.00%\n"
     ]
    },
    {
     "data": {
      "application/vnd.jupyter.widget-view+json": {
       "model_id": "b62fe071a193498b8caafee2219b08a7",
       "version_major": 2,
       "version_minor": 0
      },
      "text/plain": [
       "  0%|          | 0/2788 [00:00<?, ?it/s]"
      ]
     },
     "metadata": {},
     "output_type": "display_data"
    },
    {
     "name": "stdout",
     "output_type": "stream",
     "text": [
      "Accuracy of the shape network on the test images: 100.00%\n"
     ]
    },
    {
     "data": {
      "application/vnd.jupyter.widget-view+json": {
       "model_id": "6f44811476ec48f5ad3fb3d74b2569df",
       "version_major": 2,
       "version_minor": 0
      },
      "text/plain": [
       "  0%|          | 0/2788 [00:00<?, ?it/s]"
      ]
     },
     "metadata": {},
     "output_type": "display_data"
    },
    {
     "name": "stdout",
     "output_type": "stream",
     "text": [
      "Accuracy of the shape network on the test images: 100.00%\n"
     ]
    },
    {
     "data": {
      "application/vnd.jupyter.widget-view+json": {
       "model_id": "13d3389e1d804864af5965dd2510bdda",
       "version_major": 2,
       "version_minor": 0
      },
      "text/plain": [
       "  0%|          | 0/2788 [00:00<?, ?it/s]"
      ]
     },
     "metadata": {},
     "output_type": "display_data"
    },
    {
     "name": "stdout",
     "output_type": "stream",
     "text": [
      "Accuracy of the shape network on the test images: 100.00%\n"
     ]
    },
    {
     "data": {
      "application/vnd.jupyter.widget-view+json": {
       "model_id": "aeb26683d1f64220b814bde1f05e00a9",
       "version_major": 2,
       "version_minor": 0
      },
      "text/plain": [
       "  0%|          | 0/2788 [00:00<?, ?it/s]"
      ]
     },
     "metadata": {},
     "output_type": "display_data"
    },
    {
     "name": "stdout",
     "output_type": "stream",
     "text": [
      "Accuracy of the shape network on the test images: 99.99%\n"
     ]
    },
    {
     "data": {
      "application/vnd.jupyter.widget-view+json": {
       "model_id": "3b54570f47ec4006810ad87d57a393e8",
       "version_major": 2,
       "version_minor": 0
      },
      "text/plain": [
       "  0%|          | 0/1226 [00:00<?, ?it/s]"
      ]
     },
     "metadata": {},
     "output_type": "display_data"
    },
    {
     "name": "stdout",
     "output_type": "stream",
     "text": [
      "Accuracy of the network on the test images: 99.85%\n"
     ]
    },
    {
     "data": {
      "application/vnd.jupyter.widget-view+json": {
       "model_id": "0db499794397410c9e2b2fc8106d7ce9",
       "version_major": 2,
       "version_minor": 0
      },
      "text/plain": [
       "  0%|          | 0/1226 [00:00<?, ?it/s]"
      ]
     },
     "metadata": {},
     "output_type": "display_data"
    },
    {
     "name": "stdout",
     "output_type": "stream",
     "text": [
      "Accuracy of the network on the test images: 99.97%\n"
     ]
    },
    {
     "data": {
      "application/vnd.jupyter.widget-view+json": {
       "model_id": "56c3870722a648239966c40818ae02ed",
       "version_major": 2,
       "version_minor": 0
      },
      "text/plain": [
       "  0%|          | 0/1226 [00:00<?, ?it/s]"
      ]
     },
     "metadata": {},
     "output_type": "display_data"
    },
    {
     "name": "stdout",
     "output_type": "stream",
     "text": [
      "Accuracy of the network on the test images: 99.98%\n"
     ]
    },
    {
     "data": {
      "application/vnd.jupyter.widget-view+json": {
       "model_id": "e9d44f5f9de24661b15ea103829ffb7f",
       "version_major": 2,
       "version_minor": 0
      },
      "text/plain": [
       "  0%|          | 0/1226 [00:00<?, ?it/s]"
      ]
     },
     "metadata": {},
     "output_type": "display_data"
    },
    {
     "name": "stdout",
     "output_type": "stream",
     "text": [
      "Accuracy of the network on the test images: 99.94%\n"
     ]
    },
    {
     "data": {
      "application/vnd.jupyter.widget-view+json": {
       "model_id": "9fcd497d244b470f889c68e068e51902",
       "version_major": 2,
       "version_minor": 0
      },
      "text/plain": [
       "  0%|          | 0/1226 [00:00<?, ?it/s]"
      ]
     },
     "metadata": {},
     "output_type": "display_data"
    },
    {
     "name": "stdout",
     "output_type": "stream",
     "text": [
      "Accuracy of the network on the test images: 99.94%\n"
     ]
    },
    {
     "data": {
      "application/vnd.jupyter.widget-view+json": {
       "model_id": "50589f8576af488b94f6914bb92eedd0",
       "version_major": 2,
       "version_minor": 0
      },
      "text/plain": [
       "  0%|          | 0/1226 [00:00<?, ?it/s]"
      ]
     },
     "metadata": {},
     "output_type": "display_data"
    },
    {
     "name": "stdout",
     "output_type": "stream",
     "text": [
      "Accuracy of the network on the test images: 99.94%\n"
     ]
    },
    {
     "data": {
      "application/vnd.jupyter.widget-view+json": {
       "model_id": "c47865f1314347dda7cd6b57c78e706f",
       "version_major": 2,
       "version_minor": 0
      },
      "text/plain": [
       "  0%|          | 0/1226 [00:00<?, ?it/s]"
      ]
     },
     "metadata": {},
     "output_type": "display_data"
    },
    {
     "name": "stdout",
     "output_type": "stream",
     "text": [
      "Accuracy of the network on the test images: 99.94%\n"
     ]
    },
    {
     "data": {
      "application/vnd.jupyter.widget-view+json": {
       "model_id": "4de65370611841dc96f2e5490435c203",
       "version_major": 2,
       "version_minor": 0
      },
      "text/plain": [
       "  0%|          | 0/1226 [00:00<?, ?it/s]"
      ]
     },
     "metadata": {},
     "output_type": "display_data"
    },
    {
     "name": "stdout",
     "output_type": "stream",
     "text": [
      "Accuracy of the network on the test images: 99.92%\n"
     ]
    },
    {
     "data": {
      "application/vnd.jupyter.widget-view+json": {
       "model_id": "7c6c0ab70b9a4e64ab13c55d490a7163",
       "version_major": 2,
       "version_minor": 0
      },
      "text/plain": [
       "  0%|          | 0/1226 [00:00<?, ?it/s]"
      ]
     },
     "metadata": {},
     "output_type": "display_data"
    },
    {
     "name": "stdout",
     "output_type": "stream",
     "text": [
      "Accuracy of the network on the test images: 99.94%\n"
     ]
    },
    {
     "data": {
      "application/vnd.jupyter.widget-view+json": {
       "model_id": "3fca1fc1f16f45e7b22be5baf65382ae",
       "version_major": 2,
       "version_minor": 0
      },
      "text/plain": [
       "  0%|          | 0/1226 [00:00<?, ?it/s]"
      ]
     },
     "metadata": {},
     "output_type": "display_data"
    },
    {
     "name": "stdout",
     "output_type": "stream",
     "text": [
      "Accuracy of the network on the test images: 99.94%\n"
     ]
    },
    {
     "data": {
      "application/vnd.jupyter.widget-view+json": {
       "model_id": "49a6b29fbee3487d80b6df852c2f9a5d",
       "version_major": 2,
       "version_minor": 0
      },
      "text/plain": [
       "  0%|          | 0/1226 [00:00<?, ?it/s]"
      ]
     },
     "metadata": {},
     "output_type": "display_data"
    },
    {
     "name": "stdout",
     "output_type": "stream",
     "text": [
      "Accuracy of the network on the test images: 99.98%\n"
     ]
    },
    {
     "data": {
      "application/vnd.jupyter.widget-view+json": {
       "model_id": "3b9312ab7c10412a8a2ba3fb6587ecc0",
       "version_major": 2,
       "version_minor": 0
      },
      "text/plain": [
       "  0%|          | 0/1226 [00:00<?, ?it/s]"
      ]
     },
     "metadata": {},
     "output_type": "display_data"
    },
    {
     "name": "stdout",
     "output_type": "stream",
     "text": [
      "Accuracy of the network on the test images: 99.97%\n"
     ]
    },
    {
     "data": {
      "application/vnd.jupyter.widget-view+json": {
       "model_id": "de6b258283b446a48cf0e4ac7e156218",
       "version_major": 2,
       "version_minor": 0
      },
      "text/plain": [
       "  0%|          | 0/1226 [00:00<?, ?it/s]"
      ]
     },
     "metadata": {},
     "output_type": "display_data"
    },
    {
     "name": "stdout",
     "output_type": "stream",
     "text": [
      "Accuracy of the network on the test images: 99.95%\n"
     ]
    },
    {
     "data": {
      "application/vnd.jupyter.widget-view+json": {
       "model_id": "6f0469e6c23d4d3ab1e10eb41ae6d5a4",
       "version_major": 2,
       "version_minor": 0
      },
      "text/plain": [
       "  0%|          | 0/1226 [00:00<?, ?it/s]"
      ]
     },
     "metadata": {},
     "output_type": "display_data"
    },
    {
     "name": "stdout",
     "output_type": "stream",
     "text": [
      "Accuracy of the network on the test images: 99.93%\n"
     ]
    },
    {
     "data": {
      "application/vnd.jupyter.widget-view+json": {
       "model_id": "a302e6e6373e46c4a274892336816aab",
       "version_major": 2,
       "version_minor": 0
      },
      "text/plain": [
       "  0%|          | 0/1226 [00:00<?, ?it/s]"
      ]
     },
     "metadata": {},
     "output_type": "display_data"
    },
    {
     "name": "stdout",
     "output_type": "stream",
     "text": [
      "Accuracy of the network on the test images: 99.96%\n"
     ]
    },
    {
     "data": {
      "application/vnd.jupyter.widget-view+json": {
       "model_id": "0866a3efb53242d296336c946c74bc07",
       "version_major": 2,
       "version_minor": 0
      },
      "text/plain": [
       "  0%|          | 0/1226 [00:00<?, ?it/s]"
      ]
     },
     "metadata": {},
     "output_type": "display_data"
    },
    {
     "name": "stdout",
     "output_type": "stream",
     "text": [
      "Accuracy of the network on the test images: 99.94%\n"
     ]
    },
    {
     "data": {
      "application/vnd.jupyter.widget-view+json": {
       "model_id": "bde2db42083a4128b6885275fe08140d",
       "version_major": 2,
       "version_minor": 0
      },
      "text/plain": [
       "  0%|          | 0/1226 [00:00<?, ?it/s]"
      ]
     },
     "metadata": {},
     "output_type": "display_data"
    },
    {
     "name": "stdout",
     "output_type": "stream",
     "text": [
      "Accuracy of the network on the test images: 99.94%\n"
     ]
    },
    {
     "data": {
      "application/vnd.jupyter.widget-view+json": {
       "model_id": "1ed16064817b489faade6d383561894c",
       "version_major": 2,
       "version_minor": 0
      },
      "text/plain": [
       "  0%|          | 0/1226 [00:00<?, ?it/s]"
      ]
     },
     "metadata": {},
     "output_type": "display_data"
    },
    {
     "name": "stdout",
     "output_type": "stream",
     "text": [
      "Accuracy of the network on the test images: 99.94%\n"
     ]
    },
    {
     "data": {
      "application/vnd.jupyter.widget-view+json": {
       "model_id": "8af55b78a71e4b2e81d1438424cb9ae1",
       "version_major": 2,
       "version_minor": 0
      },
      "text/plain": [
       "  0%|          | 0/1226 [00:00<?, ?it/s]"
      ]
     },
     "metadata": {},
     "output_type": "display_data"
    },
    {
     "name": "stdout",
     "output_type": "stream",
     "text": [
      "Accuracy of the network on the test images: 99.95%\n"
     ]
    },
    {
     "data": {
      "application/vnd.jupyter.widget-view+json": {
       "model_id": "9f6b4581503b429ea77caabdc3bb570c",
       "version_major": 2,
       "version_minor": 0
      },
      "text/plain": [
       "  0%|          | 0/1226 [00:00<?, ?it/s]"
      ]
     },
     "metadata": {},
     "output_type": "display_data"
    },
    {
     "name": "stdout",
     "output_type": "stream",
     "text": [
      "Accuracy of the network on the test images: 99.96%\n"
     ]
    },
    {
     "data": {
      "application/vnd.jupyter.widget-view+json": {
       "model_id": "dd7f8dc638ae451ab08670e91f0296c7",
       "version_major": 2,
       "version_minor": 0
      },
      "text/plain": [
       "  0%|          | 0/1226 [00:00<?, ?it/s]"
      ]
     },
     "metadata": {},
     "output_type": "display_data"
    },
    {
     "name": "stdout",
     "output_type": "stream",
     "text": [
      "Accuracy of the network on the test images: 99.91%\n"
     ]
    },
    {
     "data": {
      "application/vnd.jupyter.widget-view+json": {
       "model_id": "a0db7e89e58b42cab9173bf5fd9980ef",
       "version_major": 2,
       "version_minor": 0
      },
      "text/plain": [
       "  0%|          | 0/1226 [00:00<?, ?it/s]"
      ]
     },
     "metadata": {},
     "output_type": "display_data"
    },
    {
     "name": "stdout",
     "output_type": "stream",
     "text": [
      "Accuracy of the network on the test images: 99.98%\n"
     ]
    },
    {
     "data": {
      "application/vnd.jupyter.widget-view+json": {
       "model_id": "c7a241643ca04f11b2f13fee65ff0643",
       "version_major": 2,
       "version_minor": 0
      },
      "text/plain": [
       "  0%|          | 0/1226 [00:00<?, ?it/s]"
      ]
     },
     "metadata": {},
     "output_type": "display_data"
    },
    {
     "name": "stdout",
     "output_type": "stream",
     "text": [
      "Accuracy of the network on the test images: 99.92%\n"
     ]
    },
    {
     "data": {
      "application/vnd.jupyter.widget-view+json": {
       "model_id": "92199b944d1544f193b9683b7f498266",
       "version_major": 2,
       "version_minor": 0
      },
      "text/plain": [
       "  0%|          | 0/1226 [00:00<?, ?it/s]"
      ]
     },
     "metadata": {},
     "output_type": "display_data"
    },
    {
     "name": "stdout",
     "output_type": "stream",
     "text": [
      "Accuracy of the network on the test images: 99.96%\n"
     ]
    },
    {
     "data": {
      "application/vnd.jupyter.widget-view+json": {
       "model_id": "24592f4aed254c58b1586d7096a09fcb",
       "version_major": 2,
       "version_minor": 0
      },
      "text/plain": [
       "  0%|          | 0/1226 [00:00<?, ?it/s]"
      ]
     },
     "metadata": {},
     "output_type": "display_data"
    },
    {
     "name": "stdout",
     "output_type": "stream",
     "text": [
      "Accuracy of the network on the test images: 99.97%\n"
     ]
    },
    {
     "data": {
      "application/vnd.jupyter.widget-view+json": {
       "model_id": "9082ecb54e974b48823b7b36181bd99c",
       "version_major": 2,
       "version_minor": 0
      },
      "text/plain": [
       "  0%|          | 0/1226 [00:00<?, ?it/s]"
      ]
     },
     "metadata": {},
     "output_type": "display_data"
    },
    {
     "name": "stdout",
     "output_type": "stream",
     "text": [
      "Accuracy of the network on the test images: 99.98%\n"
     ]
    },
    {
     "data": {
      "application/vnd.jupyter.widget-view+json": {
       "model_id": "434ff48965004415a5724d0da87d5c75",
       "version_major": 2,
       "version_minor": 0
      },
      "text/plain": [
       "  0%|          | 0/1226 [00:00<?, ?it/s]"
      ]
     },
     "metadata": {},
     "output_type": "display_data"
    },
    {
     "name": "stdout",
     "output_type": "stream",
     "text": [
      "Accuracy of the network on the test images: 100.00%\n"
     ]
    },
    {
     "data": {
      "application/vnd.jupyter.widget-view+json": {
       "model_id": "fe21b1e06125414b8275d362153d3ee4",
       "version_major": 2,
       "version_minor": 0
      },
      "text/plain": [
       "  0%|          | 0/1226 [00:00<?, ?it/s]"
      ]
     },
     "metadata": {},
     "output_type": "display_data"
    },
    {
     "name": "stdout",
     "output_type": "stream",
     "text": [
      "Accuracy of the network on the test images: 99.94%\n"
     ]
    },
    {
     "data": {
      "application/vnd.jupyter.widget-view+json": {
       "model_id": "80c2b787215a4aa18cc43441ad01c1cb",
       "version_major": 2,
       "version_minor": 0
      },
      "text/plain": [
       "  0%|          | 0/1226 [00:00<?, ?it/s]"
      ]
     },
     "metadata": {},
     "output_type": "display_data"
    },
    {
     "name": "stdout",
     "output_type": "stream",
     "text": [
      "Accuracy of the network on the test images: 99.97%\n"
     ]
    },
    {
     "data": {
      "application/vnd.jupyter.widget-view+json": {
       "model_id": "4f145d7ff62a476d96ddac65d4ccfab4",
       "version_major": 2,
       "version_minor": 0
      },
      "text/plain": [
       "  0%|          | 0/1226 [00:00<?, ?it/s]"
      ]
     },
     "metadata": {},
     "output_type": "display_data"
    },
    {
     "name": "stdout",
     "output_type": "stream",
     "text": [
      "Accuracy of the network on the test images: 100.00%\n"
     ]
    },
    {
     "data": {
      "application/vnd.jupyter.widget-view+json": {
       "model_id": "8fc65a5cb73c4624bfbc047e5387adbd",
       "version_major": 2,
       "version_minor": 0
      },
      "text/plain": [
       "  0%|          | 0/1226 [00:00<?, ?it/s]"
      ]
     },
     "metadata": {},
     "output_type": "display_data"
    },
    {
     "name": "stdout",
     "output_type": "stream",
     "text": [
      "Accuracy of the network on the test images: 99.99%\n"
     ]
    },
    {
     "data": {
      "application/vnd.jupyter.widget-view+json": {
       "model_id": "deca420eee83400981fbdeed8d3a3df2",
       "version_major": 2,
       "version_minor": 0
      },
      "text/plain": [
       "  0%|          | 0/1226 [00:00<?, ?it/s]"
      ]
     },
     "metadata": {},
     "output_type": "display_data"
    },
    {
     "name": "stdout",
     "output_type": "stream",
     "text": [
      "Accuracy of the network on the test images: 99.99%\n"
     ]
    },
    {
     "data": {
      "application/vnd.jupyter.widget-view+json": {
       "model_id": "621a19876b79400fb49286dfb0b9617e",
       "version_major": 2,
       "version_minor": 0
      },
      "text/plain": [
       "  0%|          | 0/1226 [00:00<?, ?it/s]"
      ]
     },
     "metadata": {},
     "output_type": "display_data"
    },
    {
     "name": "stdout",
     "output_type": "stream",
     "text": [
      "Accuracy of the network on the test images: 99.82%\n"
     ]
    },
    {
     "data": {
      "application/vnd.jupyter.widget-view+json": {
       "model_id": "6584a22b2beb4526b4d193e7914237ea",
       "version_major": 2,
       "version_minor": 0
      },
      "text/plain": [
       "  0%|          | 0/1226 [00:00<?, ?it/s]"
      ]
     },
     "metadata": {},
     "output_type": "display_data"
    },
    {
     "name": "stdout",
     "output_type": "stream",
     "text": [
      "Accuracy of the network on the test images: 99.98%\n"
     ]
    },
    {
     "data": {
      "application/vnd.jupyter.widget-view+json": {
       "model_id": "495fc0e8a68c46b3932d674486669930",
       "version_major": 2,
       "version_minor": 0
      },
      "text/plain": [
       "  0%|          | 0/1226 [00:00<?, ?it/s]"
      ]
     },
     "metadata": {},
     "output_type": "display_data"
    },
    {
     "name": "stdout",
     "output_type": "stream",
     "text": [
      "Accuracy of the network on the test images: 99.98%\n"
     ]
    },
    {
     "data": {
      "application/vnd.jupyter.widget-view+json": {
       "model_id": "b4b5961e364c42cba09857b0784f1516",
       "version_major": 2,
       "version_minor": 0
      },
      "text/plain": [
       "  0%|          | 0/1226 [00:00<?, ?it/s]"
      ]
     },
     "metadata": {},
     "output_type": "display_data"
    },
    {
     "name": "stdout",
     "output_type": "stream",
     "text": [
      "Accuracy of the network on the test images: 99.99%\n"
     ]
    },
    {
     "data": {
      "application/vnd.jupyter.widget-view+json": {
       "model_id": "24292eee3e7c4626b15cf11c62bc3d94",
       "version_major": 2,
       "version_minor": 0
      },
      "text/plain": [
       "  0%|          | 0/1226 [00:00<?, ?it/s]"
      ]
     },
     "metadata": {},
     "output_type": "display_data"
    },
    {
     "name": "stdout",
     "output_type": "stream",
     "text": [
      "Accuracy of the network on the test images: 99.98%\n"
     ]
    },
    {
     "data": {
      "application/vnd.jupyter.widget-view+json": {
       "model_id": "04ffaa09c0844d7e84c3931ac4215d27",
       "version_major": 2,
       "version_minor": 0
      },
      "text/plain": [
       "  0%|          | 0/1226 [00:00<?, ?it/s]"
      ]
     },
     "metadata": {},
     "output_type": "display_data"
    },
    {
     "name": "stdout",
     "output_type": "stream",
     "text": [
      "Accuracy of the network on the test images: 99.95%\n"
     ]
    },
    {
     "data": {
      "application/vnd.jupyter.widget-view+json": {
       "model_id": "3985b902758c4641b96ac17992e54376",
       "version_major": 2,
       "version_minor": 0
      },
      "text/plain": [
       "  0%|          | 0/1226 [00:00<?, ?it/s]"
      ]
     },
     "metadata": {},
     "output_type": "display_data"
    },
    {
     "name": "stdout",
     "output_type": "stream",
     "text": [
      "Accuracy of the network on the test images: 99.99%\n"
     ]
    },
    {
     "data": {
      "application/vnd.jupyter.widget-view+json": {
       "model_id": "d006e8a5041b4409b967cb516f96e7ae",
       "version_major": 2,
       "version_minor": 0
      },
      "text/plain": [
       "  0%|          | 0/1226 [00:00<?, ?it/s]"
      ]
     },
     "metadata": {},
     "output_type": "display_data"
    },
    {
     "name": "stdout",
     "output_type": "stream",
     "text": [
      "Accuracy of the network on the test images: 99.96%\n"
     ]
    },
    {
     "data": {
      "application/vnd.jupyter.widget-view+json": {
       "model_id": "d691574ab3874e4280404b369c4b149a",
       "version_major": 2,
       "version_minor": 0
      },
      "text/plain": [
       "  0%|          | 0/1226 [00:00<?, ?it/s]"
      ]
     },
     "metadata": {},
     "output_type": "display_data"
    },
    {
     "name": "stdout",
     "output_type": "stream",
     "text": [
      "Accuracy of the network on the test images: 96.98%\n"
     ]
    },
    {
     "data": {
      "application/vnd.jupyter.widget-view+json": {
       "model_id": "2c5387a912d0444baf45af840c842acc",
       "version_major": 2,
       "version_minor": 0
      },
      "text/plain": [
       "  0%|          | 0/1226 [00:00<?, ?it/s]"
      ]
     },
     "metadata": {},
     "output_type": "display_data"
    },
    {
     "name": "stdout",
     "output_type": "stream",
     "text": [
      "Accuracy of the network on the test images: 98.18%\n"
     ]
    },
    {
     "data": {
      "application/vnd.jupyter.widget-view+json": {
       "model_id": "efc856e0b97646cea95fb601cbd7b1fb",
       "version_major": 2,
       "version_minor": 0
      },
      "text/plain": [
       "  0%|          | 0/1226 [00:00<?, ?it/s]"
      ]
     },
     "metadata": {},
     "output_type": "display_data"
    },
    {
     "name": "stdout",
     "output_type": "stream",
     "text": [
      "Accuracy of the network on the test images: 97.78%\n"
     ]
    },
    {
     "data": {
      "application/vnd.jupyter.widget-view+json": {
       "model_id": "a6d8a7612b4d46d694902c6f6e126cc9",
       "version_major": 2,
       "version_minor": 0
      },
      "text/plain": [
       "  0%|          | 0/1226 [00:00<?, ?it/s]"
      ]
     },
     "metadata": {},
     "output_type": "display_data"
    },
    {
     "name": "stdout",
     "output_type": "stream",
     "text": [
      "Accuracy of the network on the test images: 98.32%\n"
     ]
    },
    {
     "data": {
      "application/vnd.jupyter.widget-view+json": {
       "model_id": "c31dc750eaec4587b2898ffd947e4673",
       "version_major": 2,
       "version_minor": 0
      },
      "text/plain": [
       "  0%|          | 0/1226 [00:00<?, ?it/s]"
      ]
     },
     "metadata": {},
     "output_type": "display_data"
    },
    {
     "name": "stdout",
     "output_type": "stream",
     "text": [
      "Accuracy of the network on the test images: 98.26%\n"
     ]
    },
    {
     "data": {
      "application/vnd.jupyter.widget-view+json": {
       "model_id": "72b2676743b1497b84956d43f217aead",
       "version_major": 2,
       "version_minor": 0
      },
      "text/plain": [
       "  0%|          | 0/1226 [00:00<?, ?it/s]"
      ]
     },
     "metadata": {},
     "output_type": "display_data"
    },
    {
     "name": "stdout",
     "output_type": "stream",
     "text": [
      "Accuracy of the network on the test images: 98.45%\n"
     ]
    },
    {
     "data": {
      "application/vnd.jupyter.widget-view+json": {
       "model_id": "03773b8811584a218808780d7b2d7470",
       "version_major": 2,
       "version_minor": 0
      },
      "text/plain": [
       "  0%|          | 0/1226 [00:00<?, ?it/s]"
      ]
     },
     "metadata": {},
     "output_type": "display_data"
    },
    {
     "name": "stdout",
     "output_type": "stream",
     "text": [
      "Accuracy of the network on the test images: 98.26%\n"
     ]
    },
    {
     "data": {
      "application/vnd.jupyter.widget-view+json": {
       "model_id": "302bcf056afb4f3da72f133e029f219c",
       "version_major": 2,
       "version_minor": 0
      },
      "text/plain": [
       "  0%|          | 0/1226 [00:00<?, ?it/s]"
      ]
     },
     "metadata": {},
     "output_type": "display_data"
    },
    {
     "name": "stdout",
     "output_type": "stream",
     "text": [
      "Accuracy of the network on the test images: 98.53%\n"
     ]
    },
    {
     "data": {
      "application/vnd.jupyter.widget-view+json": {
       "model_id": "6237a0e785344e81998a956d95bdbb46",
       "version_major": 2,
       "version_minor": 0
      },
      "text/plain": [
       "  0%|          | 0/1226 [00:00<?, ?it/s]"
      ]
     },
     "metadata": {},
     "output_type": "display_data"
    },
    {
     "name": "stdout",
     "output_type": "stream",
     "text": [
      "Accuracy of the network on the test images: 98.59%\n"
     ]
    },
    {
     "data": {
      "application/vnd.jupyter.widget-view+json": {
       "model_id": "58f3b5d84678496ba50c32b8d1a0c49e",
       "version_major": 2,
       "version_minor": 0
      },
      "text/plain": [
       "  0%|          | 0/1226 [00:00<?, ?it/s]"
      ]
     },
     "metadata": {},
     "output_type": "display_data"
    },
    {
     "name": "stdout",
     "output_type": "stream",
     "text": [
      "Accuracy of the network on the test images: 98.54%\n"
     ]
    },
    {
     "data": {
      "application/vnd.jupyter.widget-view+json": {
       "model_id": "852c719dd1d045ca809bc23f04f30322",
       "version_major": 2,
       "version_minor": 0
      },
      "text/plain": [
       "  0%|          | 0/1226 [00:00<?, ?it/s]"
      ]
     },
     "metadata": {},
     "output_type": "display_data"
    },
    {
     "name": "stdout",
     "output_type": "stream",
     "text": [
      "Accuracy of the network on the test images: 98.42%\n"
     ]
    },
    {
     "data": {
      "application/vnd.jupyter.widget-view+json": {
       "model_id": "0544f35c73f74edaab8b4b23ae2b8264",
       "version_major": 2,
       "version_minor": 0
      },
      "text/plain": [
       "  0%|          | 0/1226 [00:00<?, ?it/s]"
      ]
     },
     "metadata": {},
     "output_type": "display_data"
    },
    {
     "name": "stdout",
     "output_type": "stream",
     "text": [
      "Accuracy of the network on the test images: 98.33%\n"
     ]
    },
    {
     "data": {
      "application/vnd.jupyter.widget-view+json": {
       "model_id": "8d868a66004847b6941b09e245dd113a",
       "version_major": 2,
       "version_minor": 0
      },
      "text/plain": [
       "  0%|          | 0/1226 [00:00<?, ?it/s]"
      ]
     },
     "metadata": {},
     "output_type": "display_data"
    },
    {
     "name": "stdout",
     "output_type": "stream",
     "text": [
      "Accuracy of the network on the test images: 98.75%\n"
     ]
    },
    {
     "data": {
      "application/vnd.jupyter.widget-view+json": {
       "model_id": "d98b59fe48314113b78e09b4c7cc9dba",
       "version_major": 2,
       "version_minor": 0
      },
      "text/plain": [
       "  0%|          | 0/1226 [00:00<?, ?it/s]"
      ]
     },
     "metadata": {},
     "output_type": "display_data"
    },
    {
     "name": "stdout",
     "output_type": "stream",
     "text": [
      "Accuracy of the network on the test images: 98.77%\n"
     ]
    },
    {
     "data": {
      "application/vnd.jupyter.widget-view+json": {
       "model_id": "3947147e84ef4f5b939d31bb3b123e44",
       "version_major": 2,
       "version_minor": 0
      },
      "text/plain": [
       "  0%|          | 0/1226 [00:00<?, ?it/s]"
      ]
     },
     "metadata": {},
     "output_type": "display_data"
    },
    {
     "name": "stdout",
     "output_type": "stream",
     "text": [
      "Accuracy of the network on the test images: 98.84%\n"
     ]
    },
    {
     "data": {
      "application/vnd.jupyter.widget-view+json": {
       "model_id": "71b041f10dac42c5a4a8e54d5e5ace56",
       "version_major": 2,
       "version_minor": 0
      },
      "text/plain": [
       "  0%|          | 0/1226 [00:00<?, ?it/s]"
      ]
     },
     "metadata": {},
     "output_type": "display_data"
    },
    {
     "name": "stdout",
     "output_type": "stream",
     "text": [
      "Accuracy of the network on the test images: 98.58%\n"
     ]
    },
    {
     "data": {
      "application/vnd.jupyter.widget-view+json": {
       "model_id": "38612224621246d8a5491b9ea510f8ac",
       "version_major": 2,
       "version_minor": 0
      },
      "text/plain": [
       "  0%|          | 0/1226 [00:00<?, ?it/s]"
      ]
     },
     "metadata": {},
     "output_type": "display_data"
    },
    {
     "name": "stdout",
     "output_type": "stream",
     "text": [
      "Accuracy of the network on the test images: 98.45%\n"
     ]
    },
    {
     "data": {
      "application/vnd.jupyter.widget-view+json": {
       "model_id": "427c5c92abca47db9b8e44c9d6441c4b",
       "version_major": 2,
       "version_minor": 0
      },
      "text/plain": [
       "  0%|          | 0/1226 [00:00<?, ?it/s]"
      ]
     },
     "metadata": {},
     "output_type": "display_data"
    },
    {
     "name": "stdout",
     "output_type": "stream",
     "text": [
      "Accuracy of the network on the test images: 98.79%\n"
     ]
    },
    {
     "data": {
      "application/vnd.jupyter.widget-view+json": {
       "model_id": "15ed7493c964426e95dd6974a6d5fba7",
       "version_major": 2,
       "version_minor": 0
      },
      "text/plain": [
       "  0%|          | 0/1226 [00:00<?, ?it/s]"
      ]
     },
     "metadata": {},
     "output_type": "display_data"
    },
    {
     "name": "stdout",
     "output_type": "stream",
     "text": [
      "Accuracy of the network on the test images: 98.84%\n"
     ]
    },
    {
     "data": {
      "application/vnd.jupyter.widget-view+json": {
       "model_id": "5fd5eadf579c4e21b50e05886fb9ca7b",
       "version_major": 2,
       "version_minor": 0
      },
      "text/plain": [
       "  0%|          | 0/1226 [00:00<?, ?it/s]"
      ]
     },
     "metadata": {},
     "output_type": "display_data"
    },
    {
     "name": "stdout",
     "output_type": "stream",
     "text": [
      "Fitting MaxLogit\n",
      "Fitting Entropy\n",
      "Fitting ViM\n",
      "Fitting Semantic-OE\n",
      "Fitting Semantic\n",
      "Fitting Ensemble\n",
      "{'AUROC': 0.9904129505157471, 'AUPR-IN': 0.9846404790878296, 'AUPR-OUT': 0.9929627776145935, 'FPR95TPR': 0.027395091950893402, 'Method': 'MSP', 'Dataset': 'LSUNCrop'}\n",
      "{'AUROC': 0.9968166947364807, 'AUPR-IN': 0.9954169988632202, 'AUPR-OUT': 0.9976764917373657, 'FPR95TPR': 0.013935075141489506, 'Method': 'MSP', 'Dataset': 'LSUNResize'}\n",
      "{'AUROC': 0.9908671379089355, 'AUPR-IN': 0.9795721173286438, 'AUPR-OUT': 0.9944431781768799, 'FPR95TPR': 0.026524148881435394, 'Method': 'MSP', 'Dataset': 'Textures'}\n",
      "{'AUROC': 0.9904511570930481, 'AUPR-IN': 0.9851552248001099, 'AUPR-OUT': 0.9933968782424927, 'FPR95TPR': 0.029770387336611748, 'Method': 'MSP', 'Dataset': 'TinyImageNetCrop'}\n",
      "{'AUROC': 0.9948701858520508, 'AUPR-IN': 0.9930193424224854, 'AUPR-OUT': 0.9955528974533081, 'FPR95TPR': 0.020981788635253906, 'Method': 'MSP', 'Dataset': 'TinyImageNetResize'}\n",
      "{'AUROC': 0.992350161075592, 'AUPR-IN': 0.9898395538330078, 'AUPR-OUT': 0.9934349060058594, 'FPR95TPR': 0.020269200205802917, 'Method': 'Energy', 'Dataset': 'LSUNCrop'}\n",
      "{'AUROC': 0.9988893866539001, 'AUPR-IN': 0.9983539581298828, 'AUPR-OUT': 0.9989945888519287, 'FPR95TPR': 0.002929532900452614, 'Method': 'Energy', 'Dataset': 'LSUNResize'}\n",
      "{'AUROC': 0.9901359677314758, 'AUPR-IN': 0.9847221374511719, 'AUPR-OUT': 0.9925820231437683, 'FPR95TPR': 0.020902613177895546, 'Method': 'Energy', 'Dataset': 'Textures'}\n",
      "{'AUROC': 0.9931865334510803, 'AUPR-IN': 0.9914019107818604, 'AUPR-OUT': 0.9941502213478088, 'FPR95TPR': 0.020902613177895546, 'Method': 'Energy', 'Dataset': 'TinyImageNetCrop'}\n",
      "{'AUROC': 0.9965173602104187, 'AUPR-IN': 0.9958585500717163, 'AUPR-OUT': 0.9961884021759033, 'FPR95TPR': 0.009501188062131405, 'Method': 'Energy', 'Dataset': 'TinyImageNetResize'}\n",
      "{'AUROC': 0.9938220977783203, 'AUPR-IN': 0.9886249303817749, 'AUPR-OUT': 0.9962525963783264, 'FPR95TPR': 0.020585905760526657, 'Method': 'Mahalanobis', 'Dataset': 'LSUNCrop'}\n",
      "{'AUROC': 0.998143196105957, 'AUPR-IN': 0.9966996312141418, 'AUPR-OUT': 0.9988440871238708, 'FPR95TPR': 0.007046713959425688, 'Method': 'Mahalanobis', 'Dataset': 'LSUNResize'}\n",
      "{'AUROC': 0.9968489408493042, 'AUPR-IN': 0.9913922548294067, 'AUPR-OUT': 0.998749852180481, 'FPR95TPR': 0.012826602905988693, 'Method': 'Mahalanobis', 'Dataset': 'Textures'}\n",
      "{'AUROC': 0.9943571090698242, 'AUPR-IN': 0.9895131587982178, 'AUPR-OUT': 0.9965782165527344, 'FPR95TPR': 0.01900237612426281, 'Method': 'Mahalanobis', 'Dataset': 'TinyImageNetCrop'}\n",
      "{'AUROC': 0.9977916479110718, 'AUPR-IN': 0.9964902400970459, 'AUPR-OUT': 0.9985554218292236, 'FPR95TPR': 0.00918448157608509, 'Method': 'Mahalanobis', 'Dataset': 'TinyImageNetResize'}\n",
      "{'AUROC': 0.9921969175338745, 'AUPR-IN': 0.9897245168685913, 'AUPR-OUT': 0.9933462142944336, 'FPR95TPR': 0.020665083080530167, 'Method': 'MaxLogit', 'Dataset': 'LSUNCrop'}\n",
      "{'AUROC': 0.9987919330596924, 'AUPR-IN': 0.9983596801757812, 'AUPR-OUT': 0.9989293813705444, 'FPR95TPR': 0.0034837687853723764, 'Method': 'MaxLogit', 'Dataset': 'LSUNResize'}\n",
      "{'AUROC': 0.990009069442749, 'AUPR-IN': 0.9846763014793396, 'AUPR-OUT': 0.9925372004508972, 'FPR95TPR': 0.021298496052622795, 'Method': 'MaxLogit', 'Dataset': 'Textures'}\n",
      "{'AUROC': 0.9929813146591187, 'AUPR-IN': 0.99116051197052, 'AUPR-OUT': 0.9940346479415894, 'FPR95TPR': 0.021298496052622795, 'Method': 'MaxLogit', 'Dataset': 'TinyImageNetCrop'}\n",
      "{'AUROC': 0.9964045286178589, 'AUPR-IN': 0.9958927631378174, 'AUPR-OUT': 0.996116042137146, 'FPR95TPR': 0.010530482977628708, 'Method': 'MaxLogit', 'Dataset': 'TinyImageNetResize'}\n",
      "{'AUROC': 0.9915090203285217, 'AUPR-IN': 0.987437903881073, 'AUPR-OUT': 0.9933998584747314, 'FPR95TPR': 0.026524148881435394, 'Method': 'Entropy', 'Dataset': 'LSUNCrop'}\n",
      "{'AUROC': 0.9979497790336609, 'AUPR-IN': 0.9972098469734192, 'AUPR-OUT': 0.9983357191085815, 'FPR95TPR': 0.01219319086521864, 'Method': 'Entropy', 'Dataset': 'LSUNResize'}\n",
      "{'AUROC': 0.9919660091400146, 'AUPR-IN': 0.9837347269058228, 'AUPR-OUT': 0.9947522282600403, 'FPR95TPR': 0.026049088686704636, 'Method': 'Entropy', 'Dataset': 'Textures'}\n",
      "{'AUROC': 0.991767942905426, 'AUPR-IN': 0.9882306456565857, 'AUPR-OUT': 0.9939761161804199, 'FPR95TPR': 0.02921615168452263, 'Method': 'Entropy', 'Dataset': 'TinyImageNetCrop'}\n",
      "{'AUROC': 0.9959737062454224, 'AUPR-IN': 0.9948747754096985, 'AUPR-OUT': 0.9961498975753784, 'FPR95TPR': 0.01987331733107567, 'Method': 'Entropy', 'Dataset': 'TinyImageNetResize'}\n",
      "{'AUROC': 0.9695291519165039, 'AUPR-IN': 0.9642409086227417, 'AUPR-OUT': 0.9939727783203125, 'FPR95TPR': 0.06088677793741226, 'Method': 'ViM', 'Dataset': 'LSUNCrop'}\n",
      "{'AUROC': 0.9695484638214111, 'AUPR-IN': 0.9642797112464905, 'AUPR-OUT': 0.9976633191108704, 'FPR95TPR': 0.06088677793741226, 'Method': 'ViM', 'Dataset': 'LSUNResize'}\n",
      "{'AUROC': 0.9695440530776978, 'AUPR-IN': 0.9399747848510742, 'AUPR-OUT': 0.9981250762939453, 'FPR95TPR': 0.06088677793741226, 'Method': 'ViM', 'Dataset': 'Textures'}\n",
      "{'AUROC': 0.9695526361465454, 'AUPR-IN': 0.9642877578735352, 'AUPR-OUT': 0.9960287809371948, 'FPR95TPR': 0.06088677793741226, 'Method': 'ViM', 'Dataset': 'TinyImageNetCrop'}\n",
      "{'AUROC': 0.9695406556129456, 'AUPR-IN': 0.9642640948295593, 'AUPR-OUT': 0.9974133372306824, 'FPR95TPR': 0.06088677793741226, 'Method': 'ViM', 'Dataset': 'TinyImageNetResize'}\n",
      "{'AUROC': 0.9986143708229065, 'AUPR-IN': 0.9982560873031616, 'AUPR-OUT': 0.9993876814842224, 'FPR95TPR': 0.0027711796574294567, 'Method': 'Semantic-OE', 'Dataset': 'LSUNCrop'}\n",
      "{'AUROC': 0.9986143708229065, 'AUPR-IN': 0.9982560873031616, 'AUPR-OUT': 0.9993876814842224, 'FPR95TPR': 0.0027711796574294567, 'Method': 'Semantic-OE', 'Dataset': 'LSUNResize'}\n",
      "{'AUROC': 0.9986107349395752, 'AUPR-IN': 0.9969079494476318, 'AUPR-OUT': 0.9995706081390381, 'FPR95TPR': 0.0027711796574294567, 'Method': 'Semantic-OE', 'Dataset': 'Textures'}\n",
      "{'AUROC': 0.9986143708229065, 'AUPR-IN': 0.9982560873031616, 'AUPR-OUT': 0.9993876814842224, 'FPR95TPR': 0.0027711796574294567, 'Method': 'Semantic-OE', 'Dataset': 'TinyImageNetCrop'}\n",
      "{'AUROC': 0.9986143708229065, 'AUPR-IN': 0.9982560873031616, 'AUPR-OUT': 0.9993876814842224, 'FPR95TPR': 0.0027711796574294567, 'Method': 'Semantic-OE', 'Dataset': 'TinyImageNetResize'}\n",
      "{'AUROC': 0.9979976415634155, 'AUPR-IN': 0.9970608949661255, 'AUPR-OUT': 0.9988030791282654, 'FPR95TPR': 0.006888361182063818, 'Method': 'Semantic', 'Dataset': 'LSUNCrop'}\n",
      "{'AUROC': 0.9984065294265747, 'AUPR-IN': 0.9975073933601379, 'AUPR-OUT': 0.9991201162338257, 'FPR95TPR': 0.003325415775179863, 'Method': 'Semantic', 'Dataset': 'LSUNResize'}\n",
      "{'AUROC': 0.9979242086410522, 'AUPR-IN': 0.9947016835212708, 'AUPR-OUT': 0.9992164969444275, 'FPR95TPR': 0.006888361182063818, 'Method': 'Semantic', 'Dataset': 'Textures'}\n",
      "{'AUROC': 0.9979163408279419, 'AUPR-IN': 0.9969916343688965, 'AUPR-OUT': 0.9987388849258423, 'FPR95TPR': 0.008234363049268723, 'Method': 'Semantic', 'Dataset': 'TinyImageNetCrop'}\n",
      "{'AUROC': 0.9981244802474976, 'AUPR-IN': 0.9972050189971924, 'AUPR-OUT': 0.9988961815834045, 'FPR95TPR': 0.005304829683154821, 'Method': 'Semantic', 'Dataset': 'TinyImageNetResize'}\n",
      "{'AUROC': 0.9977468252182007, 'AUPR-IN': 0.9967482686042786, 'AUPR-OUT': 0.9984660744667053, 'FPR95TPR': 0.009817893616855145, 'Method': 'Ensemble', 'Dataset': 'LSUNCrop'}\n",
      "{'AUROC': 0.9989491701126099, 'AUPR-IN': 0.9985392689704895, 'AUPR-OUT': 0.9992475509643555, 'FPR95TPR': 0.006809184327721596, 'Method': 'Ensemble', 'Dataset': 'LSUNResize'}\n",
      "{'AUROC': 0.9975813031196594, 'AUPR-IN': 0.9942784309387207, 'AUPR-OUT': 0.9989565014839172, 'FPR95TPR': 0.01179730799049139, 'Method': 'Ensemble', 'Dataset': 'Textures'}\n",
      "{'AUROC': 0.9976718425750732, 'AUPR-IN': 0.9966964721679688, 'AUPR-OUT': 0.9983883500099182, 'FPR95TPR': 0.01195566076785326, 'Method': 'Ensemble', 'Dataset': 'TinyImageNetCrop'}\n",
      "{'AUROC': 0.998247504234314, 'AUPR-IN': 0.9975830316543579, 'AUPR-OUT': 0.9987470507621765, 'FPR95TPR': 0.009817893616855145, 'Method': 'Ensemble', 'Dataset': 'TinyImageNetResize'}\n"
     ]
    }
   ],
   "source": [
    "results = []\n",
    "results_acc = []\n",
    "\n",
    "n_epochs = 20\n",
    "\n",
    "for trial in range(1):\n",
    "    # TODO: add monkeypatching \n",
    "    shield_net = train_sign_model(n_epochs=n_epochs)\n",
    "    shape_net = train_model(att_index=2, num_classes=5, n_epochs=n_epochs)\n",
    "    color_net = train_model(att_index=1, num_classes=4, n_epochs=n_epochs)\n",
    "    label_net = train_model(att_index=0, num_classes=43, n_epochs=n_epochs)\n",
    "    \n",
    "    res = evaluate(label_net, shape_net, color_net, shield_net)\n",
    "    res_acc = evaluate_accs(label_net, shape_net, color_net, shield_net)\n",
    "    \n",
    "    for r in res:\n",
    "        r.update({\"Seed\": trial})\n",
    "        \n",
    "    for r in res_acc:\n",
    "        r.update({\"Seed\": trial})\n",
    "    \n",
    "    results += res\n",
    "    results_acc += res_acc\n",
    "    \n",
    "    del shield_net\n",
    "    del shape_net\n",
    "    del color_net\n",
    "    del label_net\n",
    "    \n",
    "    torch.cuda.empty_cache()"
   ]
  },
  {
   "cell_type": "code",
   "execution_count": 10,
   "id": "534bed89",
   "metadata": {},
   "outputs": [
    {
     "name": "stdout",
     "output_type": "stream",
     "text": [
      "\\begin{tabular}{lrrrrrrrr}\n",
      "\\toprule\n",
      "{} & \\multicolumn{2}{l}{AUROC} & \\multicolumn{2}{l}{AUPR-IN} & \\multicolumn{2}{l}{AUPR-OUT} & \\multicolumn{2}{l}{FPR95TPR} \\\\\n",
      "{} &  mean & sem &    mean & sem &     mean & sem &     mean & sem \\\\\n",
      "Method      &       &     &         &     &          &     &          &     \\\\\n",
      "\\midrule\n",
      "ViM         & 96.95 & NaN &   95.94 & NaN &    99.66 & NaN &     6.09 & NaN \\\\\n",
      "MSP         & 99.27 & NaN &   98.76 & NaN &    99.48 & NaN &     2.37 & NaN \\\\\n",
      "Entropy     & 99.38 & NaN &   99.03 & NaN &    99.53 & NaN &     2.28 & NaN \\\\\n",
      "MaxLogit    & 99.41 & NaN &   99.20 & NaN &    99.50 & NaN &     1.55 & NaN \\\\\n",
      "Energy      & 99.42 & NaN &   99.20 & NaN &    99.51 & NaN &     1.49 & NaN \\\\\n",
      "Mahalanobis & 99.62 & NaN &   99.25 & NaN &    99.78 & NaN &     1.37 & NaN \\\\\n",
      "Ensemble    & 99.80 & NaN &   99.68 & NaN &    99.88 & NaN &     1.00 & NaN \\\\\n",
      "Semantic    & 99.81 & NaN &   99.67 & NaN &    99.90 & NaN &     0.61 & NaN \\\\\n",
      "Semantic-OE & 99.86 & NaN &   99.80 & NaN &    99.94 & NaN &     0.28 & NaN \\\\\n",
      "\\bottomrule\n",
      "\\end{tabular}\n",
      "\n"
     ]
    },
    {
     "name": "stderr",
     "output_type": "stream",
     "text": [
      "/tmp/ipykernel_3619073/3015305324.py:3: FutureWarning: The default value of numeric_only in DataFrameGroupBy.mean is deprecated. In a future version, numeric_only will default to False. Either specify numeric_only or select only columns which should be valid for the function.\n",
      "  mean = (result_df.groupby(by=[\"Method\", \"Seed\"]).mean() * 100).groupby(\"Method\").agg([\"mean\", \"sem\"])[[\"AUROC\", \"AUPR-IN\", \"AUPR-OUT\", \"FPR95TPR\"]]\n",
      "/tmp/ipykernel_3619073/3015305324.py:5: FutureWarning: In future versions `DataFrame.to_latex` is expected to utilise the base implementation of `Styler.to_latex` for formatting and rendering. The arguments signature may therefore change. It is recommended instead to use `DataFrame.style.to_latex` which also contains additional functionality.\n",
      "  print(mean.sort_values(by=(\"AUROC\", \"mean\")).sort_values(by=(\"AUROC\", \"mean\")).to_latex(float_format=\"%.2f\"))\n"
     ]
    }
   ],
   "source": [
    "import pandas as pd \n",
    "result_df = pd.DataFrame(results)\n",
    "mean = (result_df.groupby(by=[\"Method\", \"Seed\"]).mean() * 100).groupby(\"Method\").agg([\"mean\", \"sem\"])[[\"AUROC\", \"AUPR-IN\", \"AUPR-OUT\", \"FPR95TPR\"]]\n",
    "mean\n",
    "print(mean.sort_values(by=(\"AUROC\", \"mean\")).sort_values(by=(\"AUROC\", \"mean\")).to_latex(float_format=\"%.2f\"))"
   ]
  },
  {
   "cell_type": "code",
   "execution_count": 11,
   "id": "aa6424f1",
   "metadata": {},
   "outputs": [
    {
     "name": "stdout",
     "output_type": "stream",
     "text": [
      "Ttest_indResult(statistic=nan, pvalue=nan)\n"
     ]
    },
    {
     "name": "stderr",
     "output_type": "stream",
     "text": [
      "/tmp/ipykernel_3619073/299598497.py:3: FutureWarning: The default value of numeric_only in DataFrameGroupBy.mean is deprecated. In a future version, numeric_only will default to False. Either specify numeric_only or select only columns which should be valid for the function.\n",
      "  sem_auroc = result_df[result_df[\"Method\"] == \"Semantic\"].groupby(by=[\"Method\", \"Seed\"]).mean()[\"AUROC\"]\n",
      "/tmp/ipykernel_3619073/299598497.py:4: FutureWarning: The default value of numeric_only in DataFrameGroupBy.mean is deprecated. In a future version, numeric_only will default to False. Either specify numeric_only or select only columns which should be valid for the function.\n",
      "  sem_ensemble =  result_df[result_df[\"Method\"] == \"Ensemble\"].groupby(by=[\"Method\", \"Seed\"]).mean()[\"AUROC\"]\n",
      "/tmp/ipykernel_3619073/299598497.py:6: RuntimeWarning: Precision loss occurred in moment calculation due to catastrophic cancellation. This occurs when the data are nearly identical. Results may be unreliable.\n",
      "  print(ttest_ind(sem_auroc, sem_ensemble, equal_var=False))\n",
      "/home/kirchheim/anaconda3/envs/pytorch/lib/python3.9/site-packages/scipy/stats/_stats_py.py:1250: RuntimeWarning: divide by zero encountered in divide\n",
      "  var *= np.divide(n, n-ddof)  # to avoid error on division by zero\n",
      "/home/kirchheim/anaconda3/envs/pytorch/lib/python3.9/site-packages/scipy/stats/_stats_py.py:1250: RuntimeWarning: invalid value encountered in double_scalars\n",
      "  var *= np.divide(n, n-ddof)  # to avoid error on division by zero\n"
     ]
    }
   ],
   "source": [
    "from scipy.stats import ttest_ind\n",
    "\n",
    "sem_auroc = result_df[result_df[\"Method\"] == \"Semantic\"].groupby(by=[\"Method\", \"Seed\"]).mean()[\"AUROC\"]\n",
    "sem_ensemble =  result_df[result_df[\"Method\"] == \"Ensemble\"].groupby(by=[\"Method\", \"Seed\"]).mean()[\"AUROC\"]\n",
    "\n",
    "print(ttest_ind(sem_auroc, sem_ensemble, equal_var=False))"
   ]
  },
  {
   "cell_type": "code",
   "execution_count": 12,
   "id": "acfb1d28",
   "metadata": {},
   "outputs": [
    {
     "name": "stdout",
     "output_type": "stream",
     "text": [
      "\\begin{tabular}{lrrrrr}\n",
      "\\toprule\n",
      "{} &  Label &  Color &  Shape &  Sign &  Seed \\\\\n",
      "\\midrule\n",
      "mean &  98.68 &  99.94 &  99.97 & 99.90 &  0.00 \\\\\n",
      "sem  &    NaN &    NaN &    NaN &   NaN &   NaN \\\\\n",
      "\\bottomrule\n",
      "\\end{tabular}\n",
      "\n"
     ]
    },
    {
     "name": "stderr",
     "output_type": "stream",
     "text": [
      "/tmp/ipykernel_3619073/3946649051.py:1: FutureWarning: In future versions `DataFrame.to_latex` is expected to utilise the base implementation of `Styler.to_latex` for formatting and rendering. The arguments signature may therefore change. It is recommended instead to use `DataFrame.style.to_latex` which also contains additional functionality.\n",
      "  print((pd.DataFrame(results_acc) * 100).agg([\"mean\", \"sem\"]).to_latex(float_format=\"%.2f\"))\n"
     ]
    }
   ],
   "source": [
    "print((pd.DataFrame(results_acc) * 100).agg([\"mean\", \"sem\"]).to_latex(float_format=\"%.2f\"))"
   ]
  },
  {
   "cell_type": "code",
   "execution_count": 13,
   "id": "2104d16f",
   "metadata": {},
   "outputs": [
    {
     "name": "stderr",
     "output_type": "stream",
     "text": [
      "/tmp/ipykernel_3619073/735313046.py:1: FutureWarning: The default value of numeric_only in DataFrameGroupBy.mean is deprecated. In a future version, numeric_only will default to False. Either specify numeric_only or select only columns which should be valid for the function.\n",
      "  (result_df.groupby(by=[\"Method\", \"Seed\"]).mean() * 100).groupby(\"Method\").agg([\"mean\", \"sem\"])\n"
     ]
    },
    {
     "data": {
      "text/html": [
       "<div>\n",
       "<style scoped>\n",
       "    .dataframe tbody tr th:only-of-type {\n",
       "        vertical-align: middle;\n",
       "    }\n",
       "\n",
       "    .dataframe tbody tr th {\n",
       "        vertical-align: top;\n",
       "    }\n",
       "\n",
       "    .dataframe thead tr th {\n",
       "        text-align: left;\n",
       "    }\n",
       "\n",
       "    .dataframe thead tr:last-of-type th {\n",
       "        text-align: right;\n",
       "    }\n",
       "</style>\n",
       "<table border=\"1\" class=\"dataframe\">\n",
       "  <thead>\n",
       "    <tr>\n",
       "      <th></th>\n",
       "      <th colspan=\"2\" halign=\"left\">AUROC</th>\n",
       "      <th colspan=\"2\" halign=\"left\">AUPR-IN</th>\n",
       "      <th colspan=\"2\" halign=\"left\">AUPR-OUT</th>\n",
       "      <th colspan=\"2\" halign=\"left\">FPR95TPR</th>\n",
       "    </tr>\n",
       "    <tr>\n",
       "      <th></th>\n",
       "      <th>mean</th>\n",
       "      <th>sem</th>\n",
       "      <th>mean</th>\n",
       "      <th>sem</th>\n",
       "      <th>mean</th>\n",
       "      <th>sem</th>\n",
       "      <th>mean</th>\n",
       "      <th>sem</th>\n",
       "    </tr>\n",
       "    <tr>\n",
       "      <th>Method</th>\n",
       "      <th></th>\n",
       "      <th></th>\n",
       "      <th></th>\n",
       "      <th></th>\n",
       "      <th></th>\n",
       "      <th></th>\n",
       "      <th></th>\n",
       "      <th></th>\n",
       "    </tr>\n",
       "  </thead>\n",
       "  <tbody>\n",
       "    <tr>\n",
       "      <th>Energy</th>\n",
       "      <td>99.421588</td>\n",
       "      <td>NaN</td>\n",
       "      <td>99.203522</td>\n",
       "      <td>NaN</td>\n",
       "      <td>99.507003</td>\n",
       "      <td>NaN</td>\n",
       "      <td>1.490103</td>\n",
       "      <td>NaN</td>\n",
       "    </tr>\n",
       "    <tr>\n",
       "      <th>Ensemble</th>\n",
       "      <td>99.803933</td>\n",
       "      <td>NaN</td>\n",
       "      <td>99.676909</td>\n",
       "      <td>NaN</td>\n",
       "      <td>99.876111</td>\n",
       "      <td>NaN</td>\n",
       "      <td>1.003959</td>\n",
       "      <td>NaN</td>\n",
       "    </tr>\n",
       "    <tr>\n",
       "      <th>Entropy</th>\n",
       "      <td>99.383329</td>\n",
       "      <td>NaN</td>\n",
       "      <td>99.029758</td>\n",
       "      <td>NaN</td>\n",
       "      <td>99.532276</td>\n",
       "      <td>NaN</td>\n",
       "      <td>2.277118</td>\n",
       "      <td>NaN</td>\n",
       "    </tr>\n",
       "    <tr>\n",
       "      <th>MSP</th>\n",
       "      <td>99.268363</td>\n",
       "      <td>NaN</td>\n",
       "      <td>98.756083</td>\n",
       "      <td>NaN</td>\n",
       "      <td>99.480644</td>\n",
       "      <td>NaN</td>\n",
       "      <td>2.372130</td>\n",
       "      <td>NaN</td>\n",
       "    </tr>\n",
       "    <tr>\n",
       "      <th>Mahalanobis</th>\n",
       "      <td>99.619260</td>\n",
       "      <td>NaN</td>\n",
       "      <td>99.254404</td>\n",
       "      <td>NaN</td>\n",
       "      <td>99.779603</td>\n",
       "      <td>NaN</td>\n",
       "      <td>1.372922</td>\n",
       "      <td>NaN</td>\n",
       "    </tr>\n",
       "    <tr>\n",
       "      <th>MaxLogit</th>\n",
       "      <td>99.407675</td>\n",
       "      <td>NaN</td>\n",
       "      <td>99.196275</td>\n",
       "      <td>NaN</td>\n",
       "      <td>99.499270</td>\n",
       "      <td>NaN</td>\n",
       "      <td>1.545527</td>\n",
       "      <td>NaN</td>\n",
       "    </tr>\n",
       "    <tr>\n",
       "      <th>Semantic</th>\n",
       "      <td>99.807384</td>\n",
       "      <td>NaN</td>\n",
       "      <td>99.669333</td>\n",
       "      <td>NaN</td>\n",
       "      <td>99.895495</td>\n",
       "      <td>NaN</td>\n",
       "      <td>0.612827</td>\n",
       "      <td>NaN</td>\n",
       "    </tr>\n",
       "    <tr>\n",
       "      <th>Semantic-OE</th>\n",
       "      <td>99.861364</td>\n",
       "      <td>NaN</td>\n",
       "      <td>99.798646</td>\n",
       "      <td>NaN</td>\n",
       "      <td>99.942427</td>\n",
       "      <td>NaN</td>\n",
       "      <td>0.277118</td>\n",
       "      <td>NaN</td>\n",
       "    </tr>\n",
       "    <tr>\n",
       "      <th>ViM</th>\n",
       "      <td>96.954299</td>\n",
       "      <td>NaN</td>\n",
       "      <td>95.940945</td>\n",
       "      <td>NaN</td>\n",
       "      <td>99.664066</td>\n",
       "      <td>NaN</td>\n",
       "      <td>6.088678</td>\n",
       "      <td>NaN</td>\n",
       "    </tr>\n",
       "  </tbody>\n",
       "</table>\n",
       "</div>"
      ],
      "text/plain": [
       "                 AUROC        AUPR-IN       AUPR-OUT      FPR95TPR    \n",
       "                  mean sem       mean sem       mean sem      mean sem\n",
       "Method                                                                \n",
       "Energy       99.421588 NaN  99.203522 NaN  99.507003 NaN  1.490103 NaN\n",
       "Ensemble     99.803933 NaN  99.676909 NaN  99.876111 NaN  1.003959 NaN\n",
       "Entropy      99.383329 NaN  99.029758 NaN  99.532276 NaN  2.277118 NaN\n",
       "MSP          99.268363 NaN  98.756083 NaN  99.480644 NaN  2.372130 NaN\n",
       "Mahalanobis  99.619260 NaN  99.254404 NaN  99.779603 NaN  1.372922 NaN\n",
       "MaxLogit     99.407675 NaN  99.196275 NaN  99.499270 NaN  1.545527 NaN\n",
       "Semantic     99.807384 NaN  99.669333 NaN  99.895495 NaN  0.612827 NaN\n",
       "Semantic-OE  99.861364 NaN  99.798646 NaN  99.942427 NaN  0.277118 NaN\n",
       "ViM          96.954299 NaN  95.940945 NaN  99.664066 NaN  6.088678 NaN"
      ]
     },
     "execution_count": 13,
     "metadata": {},
     "output_type": "execute_result"
    }
   ],
   "source": [
    "(result_df.groupby(by=[\"Method\", \"Seed\"]).mean() * 100).groupby(\"Method\").agg([\"mean\", \"sem\"])"
   ]
  },
  {
   "cell_type": "code",
   "execution_count": 14,
   "id": "535832b2",
   "metadata": {},
   "outputs": [
    {
     "data": {
      "text/html": [
       "<div>\n",
       "<style scoped>\n",
       "    .dataframe tbody tr th:only-of-type {\n",
       "        vertical-align: middle;\n",
       "    }\n",
       "\n",
       "    .dataframe tbody tr th {\n",
       "        vertical-align: top;\n",
       "    }\n",
       "\n",
       "    .dataframe thead th {\n",
       "        text-align: right;\n",
       "    }\n",
       "</style>\n",
       "<table border=\"1\" class=\"dataframe\">\n",
       "  <thead>\n",
       "    <tr style=\"text-align: right;\">\n",
       "      <th></th>\n",
       "      <th>Label</th>\n",
       "      <th>Color</th>\n",
       "      <th>Shape</th>\n",
       "      <th>Sign</th>\n",
       "      <th>Seed</th>\n",
       "    </tr>\n",
       "  </thead>\n",
       "  <tbody>\n",
       "    <tr>\n",
       "      <th>mean</th>\n",
       "      <td>0.986778</td>\n",
       "      <td>0.999367</td>\n",
       "      <td>0.999683</td>\n",
       "      <td>0.99905</td>\n",
       "      <td>0.0</td>\n",
       "    </tr>\n",
       "    <tr>\n",
       "      <th>sem</th>\n",
       "      <td>NaN</td>\n",
       "      <td>NaN</td>\n",
       "      <td>NaN</td>\n",
       "      <td>NaN</td>\n",
       "      <td>NaN</td>\n",
       "    </tr>\n",
       "  </tbody>\n",
       "</table>\n",
       "</div>"
      ],
      "text/plain": [
       "         Label     Color     Shape     Sign  Seed\n",
       "mean  0.986778  0.999367  0.999683  0.99905   0.0\n",
       "sem        NaN       NaN       NaN      NaN   NaN"
      ]
     },
     "execution_count": 14,
     "metadata": {},
     "output_type": "execute_result"
    }
   ],
   "source": [
    "pd.DataFrame(results_acc).agg([\"mean\", \"sem\"])\n",
    "# dataset gives np.array([label, color, shape])\n",
    "\n",
    "# results_acc = evaluate_accs(label_net, shape_net, color_net, shield_net)\n",
    "# print(results_acc)"
   ]
  },
  {
   "cell_type": "markdown",
   "id": "ed6f7584",
   "metadata": {},
   "source": [
    "# Eval"
   ]
  },
  {
   "cell_type": "code",
   "execution_count": 15,
   "id": "79e417e4",
   "metadata": {},
   "outputs": [],
   "source": [
    "def ood_label(x):\n",
    "    if x == True:\n",
    "        return \"Normal\"\n",
    "    else:\n",
    "        return \"Anomaly\""
   ]
  },
  {
   "cell_type": "code",
   "execution_count": 16,
   "id": "ce252917",
   "metadata": {},
   "outputs": [],
   "source": [
    "trans = Compose([Resize(size=(32, 32)), ToRGB(), ToTensor()])"
   ]
  },
  {
   "cell_type": "code",
   "execution_count": 17,
   "id": "d72c706c",
   "metadata": {},
   "outputs": [],
   "source": [
    "from pytorch_ood.utils import OODMetrics, ToRGB, ToUnknown\n",
    "from pytorch_ood.dataset.img import Textures"
   ]
  },
  {
   "cell_type": "code",
   "execution_count": 18,
   "id": "944c0475",
   "metadata": {},
   "outputs": [
    {
     "data": {
      "text/html": [
       "<pre style=\"white-space:pre;overflow-x:auto;line-height:normal;font-family:Menlo,'DejaVu Sans Mono',consolas,'Courier New',monospace\"><span style=\"color: #800000; text-decoration-color: #800000\">╭─────────────────────────────── </span><span style=\"color: #800000; text-decoration-color: #800000; font-weight: bold\">Traceback </span><span style=\"color: #bf7f7f; text-decoration-color: #bf7f7f; font-weight: bold\">(most recent call last)</span><span style=\"color: #800000; text-decoration-color: #800000\"> ────────────────────────────────╮</span>\n",
       "<span style=\"color: #800000; text-decoration-color: #800000\">│</span> in <span style=\"color: #00ff00; text-decoration-color: #00ff00\">&lt;module&gt;</span>:<span style=\"color: #0000ff; text-decoration-color: #0000ff\">4</span>                                                                                    <span style=\"color: #800000; text-decoration-color: #800000\">│</span>\n",
       "<span style=\"color: #800000; text-decoration-color: #800000\">│</span>                                                                                                  <span style=\"color: #800000; text-decoration-color: #800000\">│</span>\n",
       "<span style=\"color: #800000; text-decoration-color: #800000\">│</span>   <span style=\"color: #7f7f7f; text-decoration-color: #7f7f7f\"> 1 </span><span style=\"color: #0000ff; text-decoration-color: #0000ff\">from</span> <span style=\"color: #00ffff; text-decoration-color: #00ffff; text-decoration: underline\">tqdm.notebook</span> <span style=\"color: #0000ff; text-decoration-color: #0000ff\">import</span> tqdm                                                              <span style=\"color: #800000; text-decoration-color: #800000\">│</span>\n",
       "<span style=\"color: #800000; text-decoration-color: #800000\">│</span>   <span style=\"color: #7f7f7f; text-decoration-color: #7f7f7f\"> 2 </span>test_in_data = GTSRB(root=root, train=<span style=\"color: #0000ff; text-decoration-color: #0000ff\">False</span>, transforms=trans, target_transform=<span style=\"color: #0000ff; text-decoration-color: #0000ff\">lambda</span> y    <span style=\"color: #800000; text-decoration-color: #800000\">│</span>\n",
       "<span style=\"color: #800000; text-decoration-color: #800000\">│</span>   <span style=\"color: #7f7f7f; text-decoration-color: #7f7f7f\"> 3 </span>                                                                                            <span style=\"color: #800000; text-decoration-color: #800000\">│</span>\n",
       "<span style=\"color: #800000; text-decoration-color: #800000\">│</span> <span style=\"color: #800000; text-decoration-color: #800000\">❱ </span> 4 detector = MaxSoftmax(label_net)                                                            <span style=\"color: #800000; text-decoration-color: #800000\">│</span>\n",
       "<span style=\"color: #800000; text-decoration-color: #800000\">│</span>   <span style=\"color: #7f7f7f; text-decoration-color: #7f7f7f\"> 5 </span>                                                                                            <span style=\"color: #800000; text-decoration-color: #800000\">│</span>\n",
       "<span style=\"color: #800000; text-decoration-color: #800000\">│</span>   <span style=\"color: #7f7f7f; text-decoration-color: #7f7f7f\"> 6 </span>sem_detector = SemanticDetector(                                                            <span style=\"color: #800000; text-decoration-color: #800000\">│</span>\n",
       "<span style=\"color: #800000; text-decoration-color: #800000\">│</span>   <span style=\"color: #7f7f7f; text-decoration-color: #7f7f7f\"> 7 </span><span style=\"color: #7f7f7f; text-decoration-color: #7f7f7f\">│   </span>label_net,                                                                              <span style=\"color: #800000; text-decoration-color: #800000\">│</span>\n",
       "<span style=\"color: #800000; text-decoration-color: #800000\">╰──────────────────────────────────────────────────────────────────────────────────────────────────╯</span>\n",
       "<span style=\"color: #ff0000; text-decoration-color: #ff0000; font-weight: bold\">NameError: </span>name <span style=\"color: #008000; text-decoration-color: #008000\">'label_net'</span> is not defined\n",
       "</pre>\n"
      ],
      "text/plain": [
       "\u001b[31m╭─\u001b[0m\u001b[31m──────────────────────────────\u001b[0m\u001b[31m \u001b[0m\u001b[1;31mTraceback \u001b[0m\u001b[1;2;31m(most recent call last)\u001b[0m\u001b[31m \u001b[0m\u001b[31m───────────────────────────────\u001b[0m\u001b[31m─╮\u001b[0m\n",
       "\u001b[31m│\u001b[0m in \u001b[92m<module>\u001b[0m:\u001b[94m4\u001b[0m                                                                                    \u001b[31m│\u001b[0m\n",
       "\u001b[31m│\u001b[0m                                                                                                  \u001b[31m│\u001b[0m\n",
       "\u001b[31m│\u001b[0m   \u001b[2m 1 \u001b[0m\u001b[94mfrom\u001b[0m \u001b[4;96mtqdm\u001b[0m\u001b[4;96m.\u001b[0m\u001b[4;96mnotebook\u001b[0m \u001b[94mimport\u001b[0m tqdm                                                              \u001b[31m│\u001b[0m\n",
       "\u001b[31m│\u001b[0m   \u001b[2m 2 \u001b[0mtest_in_data = GTSRB(root=root, train=\u001b[94mFalse\u001b[0m, transforms=trans, target_transform=\u001b[94mlambda\u001b[0m y    \u001b[31m│\u001b[0m\n",
       "\u001b[31m│\u001b[0m   \u001b[2m 3 \u001b[0m                                                                                            \u001b[31m│\u001b[0m\n",
       "\u001b[31m│\u001b[0m \u001b[31m❱ \u001b[0m 4 detector = MaxSoftmax(label_net)                                                            \u001b[31m│\u001b[0m\n",
       "\u001b[31m│\u001b[0m   \u001b[2m 5 \u001b[0m                                                                                            \u001b[31m│\u001b[0m\n",
       "\u001b[31m│\u001b[0m   \u001b[2m 6 \u001b[0msem_detector = SemanticDetector(                                                            \u001b[31m│\u001b[0m\n",
       "\u001b[31m│\u001b[0m   \u001b[2m 7 \u001b[0m\u001b[2m│   \u001b[0mlabel_net,                                                                              \u001b[31m│\u001b[0m\n",
       "\u001b[31m╰──────────────────────────────────────────────────────────────────────────────────────────────────╯\u001b[0m\n",
       "\u001b[1;91mNameError: \u001b[0mname \u001b[32m'label_net'\u001b[0m is not defined\n"
      ]
     },
     "metadata": {},
     "output_type": "display_data"
    }
   ],
   "source": [
    "from tqdm.notebook import tqdm \n",
    "test_in_data = GTSRB(root=root, train=False, transforms=trans, target_transform=lambda y: y[0])\n",
    "\n",
    "detector = MaxSoftmax(label_net)\n",
    "\n",
    "sem_detector = SemanticDetector(\n",
    "    label_net, \n",
    "    shape_net, \n",
    "    color_net, \n",
    "    GTSRB(root=root).class_to_shape, \n",
    "    GTSRB(root=root).class_to_color, \n",
    "    sign_net=shield_net\n",
    ")\n",
    "\n",
    "scores = []\n",
    "my_scores = []\n",
    "ys = []\n",
    "xs = []\n",
    "ys_hat = []\n",
    "\n",
    "metrics = OODMetrics()\n",
    "\n",
    "datasets = (LSUNCrop, LSUNResize, Textures, TinyImageNetCrop, TinyImageNetResize)\n",
    "datasets = [c(root=root, transform=trans, target_transform=ToUnknown(), download=True) for c in datasets]\n",
    "loaders = [DataLoader(d, batch_size=128, worker_init_fn=seed_worker) for d in datasets]\n",
    "loaders.append( DataLoader(test_in_data, batch_size=128, worker_init_fn=seed_worker))\n",
    "\n",
    "with torch.no_grad():\n",
    "     for loader in loaders:\n",
    "        for x, y in tqdm(loader):\n",
    "            x = x.to(device)\n",
    "            scores.append(detector(x))\n",
    "            ys_hat.append(label_net(x).softmax(dim=1).max(dim=1).indices) \n",
    "            my_scores.append(sem_detector(x))\n",
    "\n",
    "            ys.append(y)\n",
    "            xs.append(x.cpu())\n",
    "\n",
    "\n",
    "scores = torch.cat(scores, dim=0).cpu()\n",
    "ys = torch.cat(ys, dim=0).cpu()\n",
    "ys_hat = torch.cat(ys_hat, dim=0).cpu()\n",
    "my_scores = torch.cat(my_scores, dim=0).cpu()\n",
    "xs = torch.cat(xs, dim=0).cpu()\n",
    "\n",
    "\n",
    "metrics = OODMetrics()\n",
    "metrics.update(my_scores, ys)\n",
    "print(metrics.compute())"
   ]
  },
  {
   "cell_type": "code",
   "execution_count": null,
   "id": "09904b91",
   "metadata": {},
   "outputs": [],
   "source": [
    "scores"
   ]
  },
  {
   "cell_type": "code",
   "execution_count": null,
   "id": "c1a5cf20",
   "metadata": {},
   "outputs": [],
   "source": [
    "y"
   ]
  },
  {
   "cell_type": "code",
   "execution_count": null,
   "id": "b76e8206",
   "metadata": {},
   "outputs": [],
   "source": [
    "from pytorch_ood.utils import is_unknown\n",
    "\n",
    "\n",
    "print(xs.shape)\n",
    "print(my_scores.shape)\n",
    "print(ys_hat.shape)\n",
    "print(ys.shape)\n",
    "print(scores.shape)\n",
    "\n",
    "print(is_known(ys).sum())\n",
    "print(is_unknown(ys).sum())\n"
   ]
  },
  {
   "cell_type": "code",
   "execution_count": null,
   "id": "6035b114",
   "metadata": {},
   "outputs": [],
   "source": [
    "from pandas import DataFrame\n",
    "\n",
    "df_1 = DataFrame()\n",
    "df_1[\"Scores\"] = scores.cpu().numpy()\n",
    "df_1[\"Labels\"] = ys >= 0\n",
    "df_1[\"Labels\"] = df_1[\"Labels\"].apply(ood_label)\n",
    "df_1[\"Method\"] = \"Implicit\"\n",
    "\n",
    "sb.histplot(data=df_1, x=\"Scores\", hue=\"Labels\", common_norm=False, stat=\"probability\", bins=30)"
   ]
  },
  {
   "cell_type": "markdown",
   "id": "efda13e3",
   "metadata": {},
   "source": [
    "# Examples "
   ]
  },
  {
   "cell_type": "code",
   "execution_count": null,
   "id": "f53dd893",
   "metadata": {
    "tags": []
   },
   "outputs": [],
   "source": [
    "# custom_params = {\"axes.spines.right\": True, \"axes.spines.top\": True, \"axes.spines.bottom\": True, \"axes.spines.left\": True}\n",
    "import matplotlib.pyplot as plt \n",
    "import numpy as np \n",
    "\n",
    "sb.set_theme(style=\"white\")\n",
    "\n",
    "sem_detector = SemanticDetector(\n",
    "    label_net, \n",
    "    shape_net, \n",
    "    color_net, \n",
    "    GTSRB(root=root).class_to_shape, \n",
    "    GTSRB(root=root).class_to_color, \n",
    "    sign_net=shield_net\n",
    ")\n",
    "\n",
    "dataset = GTSRB(root=root)\n",
    "\n",
    "top_values, top_indxs = (-scores[ys<0]).topk(50)\n",
    "\n",
    "# top_values, top_indxs = (- scores[ys<0]).topk(50)\n",
    "imgs = xs[top_indxs]\n",
    "\n",
    "for n, img in enumerate(imgs):\n",
    "    img_batch = img.unsqueeze(0).to(device)\n",
    "    \n",
    "    print(img_batch.shape)\n",
    "    with torch.no_grad():\n",
    "        l = label_net(img_batch)\n",
    "        s = shape_net(img_batch)\n",
    "        c = color_net(img_batch)\n",
    "        o = shield_net(img_batch)\n",
    "        \n",
    "    sign_detected = o.max(dim=1).indices.cpu()\n",
    "        \n",
    "    my_score = sem_detector(img_batch)[0]\n",
    "    \n",
    "    lindex = l.argmax(dim=1).item()\n",
    "    sindex = s.argmax(dim=1).item()\n",
    "    cindex = c.argmax(dim=1).item()\n",
    "    oindex = o.argmax(dim=1).item()\n",
    "    \n",
    "    lname = dataset.class_to_name[lindex -1]\n",
    "    sname = dataset.shape_to_name[sindex]\n",
    "    cname = dataset.color_to_name[cindex]\n",
    "    oname = \"Sign\" if oindex else \"NoSign\"\n",
    "    \n",
    "    plt.xticks([])\n",
    "    plt.yticks([])\n",
    "    plt.imshow(np.moveaxis(img.numpy(), 0, -1))\n",
    "    plt.suptitle(f\"'{lname.title()}' ({l.softmax(dim=1).max().item():.2%}) \\n {sname.title()} | {cname.title()} | {oname.title()}\" , fontsize=19)\n",
    "    plt.title(f\"Consistent: {'Yes' if abs(my_score) > 0.0 else 'No'}\", fontsize=19) # 'Yes' if my_score > 0.0 else 'No'\n",
    "    plt.tight_layout(pad=0.5)\n",
    "    plt.savefig(f\"img/prediction-example-{n}.pdf\", bbox_inches=\"tight\")\n",
    "    plt.show()"
   ]
  },
  {
   "cell_type": "code",
   "execution_count": null,
   "id": "c634ba4c",
   "metadata": {
    "scrolled": true
   },
   "outputs": [],
   "source": [
    "sem_detector = SemanticDetector(\n",
    "    label_net, \n",
    "    shape_net, \n",
    "    color_net, \n",
    "    GTSRB(root=root).class_to_shape, \n",
    "    GTSRB(root=root).class_to_color, \n",
    "    sign_net=shield_net\n",
    ")\n",
    "\n",
    "top_values, top_indxs = (scores[ys>=0]).topk(50)\n",
    "\n",
    "for n, i in enumerate([i for i in top_indxs]):\n",
    "    img = xs[ys>=0][i]\n",
    "    img_batch = img.unsqueeze(0).to(device)\n",
    "    \n",
    "    with torch.no_grad():\n",
    "        l = label_net(img_batch)\n",
    "        s = shape_net(img_batch)\n",
    "        c = color_net(img_batch)\n",
    "        o = shield_net(img_batch)\n",
    "    \n",
    "    # my_score = detector(img_batch)[0]\n",
    "    my_score = my_scores[ys>=0][i]\n",
    "    # score = scores[ys>=0][i]\n",
    "    \n",
    "    lindex = l.argmax(dim=1).item()\n",
    "    sindex = s.argmax(dim=1).item()\n",
    "    cindex = c.argmax(dim=1).item()\n",
    "    oindex = o.argmax(dim=1).item()\n",
    "        \n",
    "    lname = dataset.class_to_name[lindex -1]\n",
    "    sname = dataset.shape_to_name[sindex]\n",
    "    cname = dataset.color_to_name[cindex]\n",
    "    oname = \"Sign\" if oindex == 1 else \"NoSign\"\n",
    "        \n",
    "    plt.imshow(np.moveaxis(img.numpy(), 0, -1))\n",
    "    plt.suptitle(f\"'{lname.title()}' ({l.softmax(dim=1).max().item():.2%}) \\n {sname.title()} | {cname.title()} | {oname}\", fontsize=19)\n",
    "    plt.title(f\"Consistent: {'Yes' if abs(my_score) > 0.0 else 'No'}\", fontsize=19) # 'Yes' if my_score > 0.0 else 'No'\n",
    "    plt.xticks([])\n",
    "    plt.yticks([])\n",
    "    plt.tight_layout(pad=0.5)\n",
    "    plt.savefig(f\"img/prediction-example-in-{n}.pdf\", bbox_inches=\"tight\")\n",
    "    plt.show()"
   ]
  },
  {
   "cell_type": "code",
   "execution_count": null,
   "id": "74822a7f",
   "metadata": {
    "scrolled": true,
    "tags": []
   },
   "outputs": [],
   "source": [
    "sem_detector = SemanticDetector(\n",
    "    label_net, \n",
    "    shape_net, \n",
    "    color_net, \n",
    "    GTSRB(root=root).class_to_shape, \n",
    "    GTSRB(root=root).class_to_color, \n",
    "    sign_net=shield_net\n",
    ")\n",
    "\n",
    "# in-distribution where prediction was not correct and was rejected \n",
    "index = (ys>=0) & (ys != ys_hat.cpu()) & (my_scores.abs() == 0.0)\n",
    "if index.sum().item() > 0:\n",
    "    top_values, top_indxs = (-scores[index]).topk(1)\n",
    "\n",
    "    for n, i in enumerate([i for i in top_indxs]):\n",
    "        img = xs[index][i]\n",
    "        img_batch = img.unsqueeze(0).to(device)\n",
    "\n",
    "        print(img_batch.shape)\n",
    "        with torch.no_grad():\n",
    "            l = label_net(img_batch)\n",
    "            s = shape_net(img_batch)\n",
    "            c = color_net(img_batch)\n",
    "            o = shield_net(img_batch)\n",
    "\n",
    "        my_score = sem_detector(img_batch)[0]\n",
    "\n",
    "        lindex = l.argmax(dim=1).item()\n",
    "        sindex = s.argmax(dim=1).item()\n",
    "        cindex = c.argmax(dim=1).item()\n",
    "\n",
    "        lname = dataset.class_to_name[lindex -1]\n",
    "        sname = dataset.shape_to_name[sindex]\n",
    "        cname = dataset.color_to_name[cindex]\n",
    "        oname = \"Sign\" if oindex == 1 else \"NoSign\"\n",
    "\n",
    "        plt.imshow(np.moveaxis(img.numpy(), 0, -1))\n",
    "        plt.suptitle(f\"'{lname.title()}' ({l.softmax(dim=1).max().item():.2%}) \\n {sname.title()} | {cname.title()} | {oname.title()}\", fontsize=19)\n",
    "        plt.title(f\"Consistent: {'Yes' if abs(my_score) > 0.0 else 'No'}\", fontsize=19) # 'Yes' if my_score > 0.0 else 'No'\n",
    "        plt.tight_layout(pad=0.5)\n",
    "        plt.xticks([])\n",
    "        plt.yticks([])\n",
    "        plt.savefig(f\"img/prediction-example-in-error-{n}.pdf\", bbox_inches=\"tight\")\n",
    "        plt.show()"
   ]
  },
  {
   "cell_type": "code",
   "execution_count": null,
   "id": "fe3babd6",
   "metadata": {
    "tags": []
   },
   "outputs": [],
   "source": [
    "\n",
    "# in-distribution where prediction was not correct and was accepted \n",
    "index = (ys>=0) & (ys == ys_hat.cpu()) & (my_scores.abs() >= 0.0)\n",
    "if index.sum().item() > 0:\n",
    "    top_values, top_indxs = (-scores[index]).topk(10)\n",
    "\n",
    "    for n, i in enumerate([i for i in top_indxs]):\n",
    "        img = xs[index][i]\n",
    "        img_batch = img.unsqueeze(0).to(device)\n",
    "\n",
    "        print(img_batch.shape)\n",
    "        with torch.no_grad():\n",
    "            l = label_net(img_batch)\n",
    "            s = shape_net(img_batch)\n",
    "            c = color_net(img_batch)\n",
    "            o = shield_net(img_batch)\n",
    "\n",
    "        my_score = sem_detector(img_batch)[0]\n",
    "\n",
    "        lindex = l.argmax(dim=1).item()\n",
    "        sindex = s.argmax(dim=1).item()\n",
    "        cindex = c.argmax(dim=1).item()\n",
    "\n",
    "        lname = dataset.class_to_name[lindex]\n",
    "        sname = dataset.shape_to_name[sindex]\n",
    "        cname = dataset.color_to_name[cindex]\n",
    "        oname = \"Sign\" if oindex == 1 else \"NoSign\"\n",
    "\n",
    "        plt.imshow(np.moveaxis(img.numpy(), 0, -1))\n",
    "        plt.suptitle(f\"'{lname.title()}' ({l.softmax(dim=1).max().item():.2%}) \\n {sname.title()} | {cname.title()} | {oname.title()}\")\n",
    "        plt.title(f\"Consistent: {'Yes' if abs(my_score) > 0.0 else 'No'}\") # 'Yes' if my_score > 0.0 else 'No'\n",
    "        plt.tight_layout(pad=0.5)\n",
    "        plt.xticks([])\n",
    "        plt.yticks([])\n",
    "        plt.savefig(f\"img/prediction-example-in-correct-{n}.pdf\", bbox_inches=\"tight\")\n",
    "        plt.show()"
   ]
  },
  {
   "cell_type": "code",
   "execution_count": null,
   "id": "11be656b",
   "metadata": {
    "scrolled": true,
    "tags": []
   },
   "outputs": [],
   "source": [
    "from sklearn.metrics import confusion_matrix, ConfusionMatrixDisplay\n",
    "import seaborn as sb \n",
    "\n",
    "# ys_hat_anom = ys_hat.clone()\n",
    "# ys_hat_anom[my_scores > -0.99] = 44 \n",
    "\n",
    "# fig, ax = plt.subplots(figsize=(20,20))\n",
    "# m = confusion_matrix(ys[ys >= 0], ys_hat_anom[ys >= 0])\n",
    "\n",
    "# for i in range(m.shape[0]):\n",
    "#     m[i,i] = 0\n",
    "    \n",
    "# disp = ConfusionMatrixDisplay(m, display_labels=list(dataset.class_to_name.values()) + [\"Anomaly\"])\n",
    "# disp.plot(ax=ax, xticks_rotation=\"vertical\", colorbar=False)\n",
    "\n",
    "# plt.tight_layout(pad=0)\n",
    "\n",
    "# plt.savefig(\"img/confusion.pdf\")\n",
    "# plt.savefig(\"img/confusion.jpg\", dpi=300, bbox_inches=\"tight\")"
   ]
  },
  {
   "cell_type": "code",
   "execution_count": null,
   "id": "b90b85f0-9156-4c75-82a6-85b81f0a813d",
   "metadata": {},
   "outputs": [],
   "source": [
    "msp = MaxSoftmax(label_net)\n",
    "semantic_detector = SemanticDetector(\n",
    "                label_net, \n",
    "                shape_net, \n",
    "                color_net, \n",
    "                GTSRB(root=root).class_to_shape, \n",
    "                GTSRB(root=root).class_to_color)"
   ]
  },
  {
   "cell_type": "code",
   "execution_count": null,
   "id": "8f076b8e-1f3c-48a7-97d7-ebb3a7acf5d5",
   "metadata": {},
   "outputs": [],
   "source": [
    "from pytorch_ood.utils import TensorBuffer\n",
    "\n",
    "data_in = GTSRB(root=root, train=False, transforms=trans, target_transform=lambda y: y[0])\n",
    "data_out = Textures(root=root, transform=trans, target_transform=ToUnknown(), download=True)\n",
    "\n",
    "loader = DataLoader(data_in + data_out, shuffle=False, batch_size=128)\n",
    "\n",
    "buffer = TensorBuffer()\n",
    "\n",
    "with torch.no_grad():\n",
    "    for x, y in loader:\n",
    "        scores_msp = msp(x.to(device))\n",
    "        buffer.append(\"msp\", scores_msp)\n",
    "\n",
    "        scores_sem = semantic_detector(x.to(device))\n",
    "        buffer.append(\"sem\", scores_sem)\n",
    "\n",
    "        buffer.append(\"y\", y)"
   ]
  }
 ],
 "metadata": {
  "kernelspec": {
   "display_name": "pytorch",
   "language": "python",
   "name": "pytorch"
  },
  "language_info": {
   "codemirror_mode": {
    "name": "ipython",
    "version": 3
   },
   "file_extension": ".py",
   "mimetype": "text/x-python",
   "name": "python",
   "nbconvert_exporter": "python",
   "pygments_lexer": "ipython3",
   "version": "3.9.0"
  }
 },
 "nbformat": 4,
 "nbformat_minor": 5
}
